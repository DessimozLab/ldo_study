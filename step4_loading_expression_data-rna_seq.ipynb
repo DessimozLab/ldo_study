{
 "cells": [
  {
   "cell_type": "markdown",
   "id": "43fce51d",
   "metadata": {},
   "source": [
    "# Step 4 - Loading the relevant expression data\n",
    "-- Alex Warwick Vesztrocy, February 2024\n",
    "\n",
    "This document contains the code that downloads and reformats the available expression data from the bgee database."
   ]
  },
  {
   "cell_type": "code",
   "execution_count": 3,
   "id": "49ab55b2",
   "metadata": {},
   "outputs": [],
   "source": [
    "from tqdm.auto import tqdm\n",
    "import gzip\n",
    "import os\n",
    "import pandas as pd\n",
    "import matplotlib.pyplot as plt\n",
    "import seaborn as sns"
   ]
  },
  {
   "cell_type": "markdown",
   "id": "104100e0-e63c-45e2-ac3a-01fd79a6817a",
   "metadata": {},
   "source": [
    "Manually define the species to download from bgee, that also exist in current PANTHER database."
   ]
  },
  {
   "cell_type": "code",
   "execution_count": 4,
   "id": "7d4891ad-f991-4105-9e94-51ace85e7c57",
   "metadata": {},
   "outputs": [],
   "source": [
    "bgee_species = [\n",
    "    'Anguilla_anguilla',\n",
    "    'Anolis_carolinensis',\n",
    "    'Astatotilapia_calliptera',\n",
    "    'Astyanax_mexicanus',\n",
    "    'Bos_taurus',\n",
    "    'Branchiostoma_lanceolatum',\n",
    "    'Caenorhabditis_elegans',\n",
    "    'Callithrix_jacchus',\n",
    "    'Canis_lupus_familiaris',\n",
    "    'Capra_hircus',\n",
    "    'Cavia_porcellus',\n",
    "    'Cercocebus_atys',\n",
    "    'Chlorocebus_sabaeus',\n",
    "    'Danio_rerio',\n",
    "    'Drosophila_melanogaster',\n",
    "    'Drosophila_pseudoobscura',\n",
    "    'Drosophila_simulans',\n",
    "    'Equus_caballus',\n",
    "    'Esox_lucius',\n",
    "    'Felis_catus',\n",
    "    'Gadus_morhua',\n",
    "    'Gallus_gallus',\n",
    "    'Gasterosteus_aculeatus',\n",
    "    'Gorilla_gorilla',\n",
    "    'Heterocephalus_glaber',\n",
    "    'Homo_sapiens',\n",
    "    'Latimeria_chalumnae',\n",
    "    'Lepisosteus_oculatus',\n",
    "    'Macaca_fascicularis',\n",
    "    'Macaca_mulatta',\n",
    "    'Macaca_nemestrina',\n",
    "    'Manis_javanica',\n",
    "    'Meleagris_gallopavo',\n",
    "    'Microcebus_murinus',\n",
    "    'Monodelphis_domestica',\n",
    "    'Mus_musculus',\n",
    "    'Neolamprologus_brichardi',\n",
    "    'Nothobranchius_furzeri',\n",
    "    'Ornithorhynchus_anatinus',\n",
    "    'Oryctolagus_cuniculus',\n",
    "    'Oryzias_latipes',\n",
    "    'Ovis_aries',\n",
    "    'Pan_paniscus',\n",
    "    'Pan_troglodytes',\n",
    "    'Papio_anubis',\n",
    "    'Poecilia_reticulata',\n",
    "    'Rattus_norvegicus',\n",
    "    'Salmo_salar',\n",
    "    'Scophthalmus_maximus',\n",
    "    'Sus_scrofa',\n",
    "    'Xenopus_laevis',\n",
    "    'Xenopus_tropicalis'\n",
    "]\n",
    "\n",
    "sp_codes = {\n",
    "    'Anolis_carolinensis': 'ANOCA',\n",
    "    'Bos_taurus': 'BOVIN',\n",
    "    'Caenorhabditis_elegans': 'CAEEL',\n",
    "    'Canis_lupus_familiaris': 'CANLF',\n",
    "    'Danio_rerio': 'DANRE',\n",
    "    'Drosophila_melanogaster': 'DROME',\n",
    "    'Equus_caballus': 'HORSE',\n",
    "    'Felis_catus': 'FELCA',\n",
    "    'Gallus_gallus': 'CHICK',\n",
    "    'Gorilla_gorilla': 'GORGO',\n",
    "    'Homo_sapiens': 'HUMAN',\n",
    "    'Lepisosteus_oculatus': 'LEPOC',\n",
    "    'Macaca_mulatta': 'MACMU',\n",
    "    'Monodelphis_domestica': 'MONDO',\n",
    "    'Mus_musculus': 'MOUSE',\n",
    "    'Ornithorhynchus_anatinus': 'ORNAN',\n",
    "    'Oryzias_latipes': 'ORYLA',\n",
    "    'Pan_troglodytes': 'PANTR',\n",
    "    'Rattus_norvegicus': 'RAT',\n",
    "    'Sus_scrofa': 'PIG',\n",
    "    'Xenopus_tropicalis': 'XENTR'\n",
    "}"
   ]
  },
  {
   "cell_type": "markdown",
   "id": "bb1bb8b1-a4e7-41b1-a236-92899216dffc",
   "metadata": {},
   "source": [
    "## 1 - Download RNA-Seq data\n",
    "\n",
    "Download the RNA-Seq data, including the TPM values from the current bgee database."
   ]
  },
  {
   "cell_type": "code",
   "execution_count": 46,
   "id": "c04c5fd6",
   "metadata": {},
   "outputs": [],
   "source": [
    "ending = '_RNA-Seq_read_counts_TPM_FPKM.tar.gz'\n",
    "\n",
    "BGEE_VERSION=15.1\n",
    "# rna seq file\n",
    "url = 'https://bgee.org/ftp/bgee_v{}/download/processed_expr_values/rna_seq'.format('_'.join(str(BGEE_VERSION).split('.')))"
   ]
  },
  {
   "cell_type": "code",
   "execution_count": 47,
   "id": "eb17133e",
   "metadata": {},
   "outputs": [
    {
     "data": {
      "application/vnd.jupyter.widget-view+json": {
       "model_id": "208d22ee15684e6580dfe860a4fdb46a",
       "version_major": 2,
       "version_minor": 0
      },
      "text/plain": [
       "  0%|          | 0/52 [00:00<?, ?it/s]"
      ]
     },
     "metadata": {},
     "output_type": "display_data"
    }
   ],
   "source": [
    "!mkdir -p ./data/bgee-{BGEE_VERSION}\n",
    "for sp in tqdm(bgee_species):\n",
    "    if sp in sp_codes:\n",
    "        fn = f'{sp}{ending}'\n",
    "        out_fn = f'./data/bgee-{BGEE_VERSION}/{fn}'\n",
    "        if not os.path.isfile(out_fn):\n",
    "            !wget -nc -O ./data/bgee-{BGEE_VERSION}/{fn} {url}/{sp}/{fn}"
   ]
  },
  {
   "cell_type": "markdown",
   "id": "79572246-0821-4f4e-bf2a-355294454b6d",
   "metadata": {},
   "source": [
    "----\n",
    "## 2 - Tabulate Experiments\n",
    "Generate a table for each of the experiments that exist."
   ]
  },
  {
   "cell_type": "code",
   "execution_count": 8,
   "id": "376d7c7e-2c7d-45be-b9ea-4037a42cc967",
   "metadata": {},
   "outputs": [],
   "source": [
    "from collections import Counter, defaultdict\n",
    "import numpy as np\n",
    "import tarfile\n",
    "import zlib\n",
    "\n",
    "exp_res_fn = 'results/experiments_with_tpm.tsv'\n",
    "if not os.path.isfile(exp_res_fn):\n",
    "    header_map = {'Experiment ID': 'exp_id',\n",
    "                  'Library ID': 'lib_id',\n",
    "                  'Anatomical entity ID': 'anat_id',\n",
    "                  'Anatomical entity name': 'anat_name',\n",
    "                  'Stage ID': 'stage_id',\n",
    "                  'Stage name': 'stage_name',\n",
    "                  'Sex': 'sex',\n",
    "                  'Strain': 'strain'}\n",
    "    header = ['species'] + list(header_map.values()) + ['ngenes']\n",
    "    \n",
    "    res = []\n",
    "    gene_ids = defaultdict(set)\n",
    "    \n",
    "    for (sp, sp_code) in tqdm(sp_codes.items()):\n",
    "        print(sp)\n",
    "        fn = f'{sp}{ending}'\n",
    "        fn1 = f'./data/bgee-{VERSION}/{fn}'\n",
    "    \n",
    "        with tarfile.open(fn1, 'r') as tar_fp:\n",
    "            for member in tqdm(tar_fp.getnames()):\n",
    "                print(member)\n",
    "                x = gzip.GzipFile(fileobj=tar_fp.extractfile(member))\n",
    "                \n",
    "                df = pd.read_csv(x, sep='\\t', low_memory=False)\n",
    "                gene_ids[sp].update(set(df['Gene ID']))\n",
    "                \n",
    "                libs = []\n",
    "                for (lib_id, zdf) in df.groupby('Library ID'):\n",
    "                    assert len(set(zdf['Anatomical entity ID'])) == 1\n",
    "                    assert len(set(zdf['Stage ID'])) == 1\n",
    "                    assert len(zdf) == len(zdf.drop_duplicates('Gene ID'))\n",
    "                    zdf['ngenes'] = len(zdf)\n",
    "                    zdf['species'] = sp\n",
    "                    libs.append(zdf.iloc[0])\n",
    "                \n",
    "                res.append(pd.DataFrame(libs).rename(columns=header_map)[header])\n",
    "    \n",
    "    res_df = pd.concat(res).reset_index(drop=True)\n",
    "    res_df.to_csv(exp_res_fn, sep='\\t', index=False)\n",
    "else:\n",
    "    res_df = pd.read_csv(exp_res_fn, sep='\\t')\n"
   ]
  },
  {
   "cell_type": "code",
   "execution_count": 9,
   "id": "8dc91fc4-d09f-447b-ac12-dff9a005e313",
   "metadata": {},
   "outputs": [
    {
     "data": {
      "text/html": [
       "<div>\n",
       "<style scoped>\n",
       "    .dataframe tbody tr th:only-of-type {\n",
       "        vertical-align: middle;\n",
       "    }\n",
       "\n",
       "    .dataframe tbody tr th {\n",
       "        vertical-align: top;\n",
       "    }\n",
       "\n",
       "    .dataframe thead th {\n",
       "        text-align: right;\n",
       "    }\n",
       "</style>\n",
       "<table border=\"1\" class=\"dataframe\">\n",
       "  <thead>\n",
       "    <tr style=\"text-align: right;\">\n",
       "      <th></th>\n",
       "      <th>species</th>\n",
       "      <th>exp_id</th>\n",
       "      <th>lib_id</th>\n",
       "      <th>anat_id</th>\n",
       "      <th>anat_name</th>\n",
       "      <th>stage_id</th>\n",
       "      <th>stage_name</th>\n",
       "      <th>sex</th>\n",
       "      <th>strain</th>\n",
       "      <th>ngenes</th>\n",
       "    </tr>\n",
       "  </thead>\n",
       "  <tbody>\n",
       "    <tr>\n",
       "      <th>0</th>\n",
       "      <td>Anolis_carolinensis</td>\n",
       "      <td>SRP045471</td>\n",
       "      <td>SRX679291</td>\n",
       "      <td>UBERON:0005418</td>\n",
       "      <td>hindlimb bud</td>\n",
       "      <td>UBERON:0000068</td>\n",
       "      <td>embryo stage</td>\n",
       "      <td>NaN</td>\n",
       "      <td>NaN</td>\n",
       "      <td>25920</td>\n",
       "    </tr>\n",
       "    <tr>\n",
       "      <th>1</th>\n",
       "      <td>Anolis_carolinensis</td>\n",
       "      <td>SRP045471</td>\n",
       "      <td>SRX679292</td>\n",
       "      <td>UBERON:0005418</td>\n",
       "      <td>hindlimb bud</td>\n",
       "      <td>UBERON:0000068</td>\n",
       "      <td>embryo stage</td>\n",
       "      <td>NaN</td>\n",
       "      <td>NaN</td>\n",
       "      <td>25920</td>\n",
       "    </tr>\n",
       "    <tr>\n",
       "      <th>2</th>\n",
       "      <td>Anolis_carolinensis</td>\n",
       "      <td>SRP045471</td>\n",
       "      <td>SRX679293</td>\n",
       "      <td>UBERON:0005418</td>\n",
       "      <td>hindlimb bud</td>\n",
       "      <td>UBERON:0000068</td>\n",
       "      <td>embryo stage</td>\n",
       "      <td>NaN</td>\n",
       "      <td>NaN</td>\n",
       "      <td>25920</td>\n",
       "    </tr>\n",
       "    <tr>\n",
       "      <th>3</th>\n",
       "      <td>Anolis_carolinensis</td>\n",
       "      <td>SRP045471</td>\n",
       "      <td>SRX679294</td>\n",
       "      <td>UBERON:0005418</td>\n",
       "      <td>hindlimb bud</td>\n",
       "      <td>UBERON:0000068</td>\n",
       "      <td>embryo stage</td>\n",
       "      <td>NaN</td>\n",
       "      <td>NaN</td>\n",
       "      <td>25920</td>\n",
       "    </tr>\n",
       "    <tr>\n",
       "      <th>4</th>\n",
       "      <td>Anolis_carolinensis</td>\n",
       "      <td>SRP045471</td>\n",
       "      <td>SRX679295</td>\n",
       "      <td>UBERON:0008812</td>\n",
       "      <td>hemipenis</td>\n",
       "      <td>UBERON:0000068</td>\n",
       "      <td>embryo stage</td>\n",
       "      <td>male</td>\n",
       "      <td>NaN</td>\n",
       "      <td>25920</td>\n",
       "    </tr>\n",
       "    <tr>\n",
       "      <th>...</th>\n",
       "      <td>...</td>\n",
       "      <td>...</td>\n",
       "      <td>...</td>\n",
       "      <td>...</td>\n",
       "      <td>...</td>\n",
       "      <td>...</td>\n",
       "      <td>...</td>\n",
       "      <td>...</td>\n",
       "      <td>...</td>\n",
       "      <td>...</td>\n",
       "    </tr>\n",
       "    <tr>\n",
       "      <th>11460</th>\n",
       "      <td>Xenopus_tropicalis</td>\n",
       "      <td>GSE41338</td>\n",
       "      <td>SRX191164</td>\n",
       "      <td>UBERON:0000955</td>\n",
       "      <td>brain</td>\n",
       "      <td>UBERON:0000113</td>\n",
       "      <td>post-juvenile</td>\n",
       "      <td>mixed</td>\n",
       "      <td>NaN</td>\n",
       "      <td>21458</td>\n",
       "    </tr>\n",
       "    <tr>\n",
       "      <th>11461</th>\n",
       "      <td>Xenopus_tropicalis</td>\n",
       "      <td>GSE41338</td>\n",
       "      <td>SRX191165</td>\n",
       "      <td>UBERON:0002107</td>\n",
       "      <td>liver</td>\n",
       "      <td>UBERON:0000113</td>\n",
       "      <td>post-juvenile</td>\n",
       "      <td>mixed</td>\n",
       "      <td>NaN</td>\n",
       "      <td>21458</td>\n",
       "    </tr>\n",
       "    <tr>\n",
       "      <th>11462</th>\n",
       "      <td>Xenopus_tropicalis</td>\n",
       "      <td>GSE41338</td>\n",
       "      <td>SRX191166</td>\n",
       "      <td>UBERON:0000080</td>\n",
       "      <td>mesonephros</td>\n",
       "      <td>UBERON:0000113</td>\n",
       "      <td>post-juvenile</td>\n",
       "      <td>mixed</td>\n",
       "      <td>NaN</td>\n",
       "      <td>21458</td>\n",
       "    </tr>\n",
       "    <tr>\n",
       "      <th>11463</th>\n",
       "      <td>Xenopus_tropicalis</td>\n",
       "      <td>GSE41338</td>\n",
       "      <td>SRX191167</td>\n",
       "      <td>UBERON:0000948</td>\n",
       "      <td>heart</td>\n",
       "      <td>UBERON:0000113</td>\n",
       "      <td>post-juvenile</td>\n",
       "      <td>mixed</td>\n",
       "      <td>NaN</td>\n",
       "      <td>21458</td>\n",
       "    </tr>\n",
       "    <tr>\n",
       "      <th>11464</th>\n",
       "      <td>Xenopus_tropicalis</td>\n",
       "      <td>GSE41338</td>\n",
       "      <td>SRX191168</td>\n",
       "      <td>UBERON:0001134</td>\n",
       "      <td>skeletal muscle tissue</td>\n",
       "      <td>UBERON:0000113</td>\n",
       "      <td>post-juvenile</td>\n",
       "      <td>mixed</td>\n",
       "      <td>NaN</td>\n",
       "      <td>21458</td>\n",
       "    </tr>\n",
       "  </tbody>\n",
       "</table>\n",
       "<p>11465 rows × 10 columns</p>\n",
       "</div>"
      ],
      "text/plain": [
       "                   species     exp_id     lib_id         anat_id  \\\n",
       "0      Anolis_carolinensis  SRP045471  SRX679291  UBERON:0005418   \n",
       "1      Anolis_carolinensis  SRP045471  SRX679292  UBERON:0005418   \n",
       "2      Anolis_carolinensis  SRP045471  SRX679293  UBERON:0005418   \n",
       "3      Anolis_carolinensis  SRP045471  SRX679294  UBERON:0005418   \n",
       "4      Anolis_carolinensis  SRP045471  SRX679295  UBERON:0008812   \n",
       "...                    ...        ...        ...             ...   \n",
       "11460   Xenopus_tropicalis   GSE41338  SRX191164  UBERON:0000955   \n",
       "11461   Xenopus_tropicalis   GSE41338  SRX191165  UBERON:0002107   \n",
       "11462   Xenopus_tropicalis   GSE41338  SRX191166  UBERON:0000080   \n",
       "11463   Xenopus_tropicalis   GSE41338  SRX191167  UBERON:0000948   \n",
       "11464   Xenopus_tropicalis   GSE41338  SRX191168  UBERON:0001134   \n",
       "\n",
       "                    anat_name        stage_id     stage_name    sex strain  \\\n",
       "0                hindlimb bud  UBERON:0000068   embryo stage    NaN    NaN   \n",
       "1                hindlimb bud  UBERON:0000068   embryo stage    NaN    NaN   \n",
       "2                hindlimb bud  UBERON:0000068   embryo stage    NaN    NaN   \n",
       "3                hindlimb bud  UBERON:0000068   embryo stage    NaN    NaN   \n",
       "4                   hemipenis  UBERON:0000068   embryo stage   male    NaN   \n",
       "...                       ...             ...            ...    ...    ...   \n",
       "11460                   brain  UBERON:0000113  post-juvenile  mixed    NaN   \n",
       "11461                   liver  UBERON:0000113  post-juvenile  mixed    NaN   \n",
       "11462             mesonephros  UBERON:0000113  post-juvenile  mixed    NaN   \n",
       "11463                   heart  UBERON:0000113  post-juvenile  mixed    NaN   \n",
       "11464  skeletal muscle tissue  UBERON:0000113  post-juvenile  mixed    NaN   \n",
       "\n",
       "       ngenes  \n",
       "0       25920  \n",
       "1       25920  \n",
       "2       25920  \n",
       "3       25920  \n",
       "4       25920  \n",
       "...       ...  \n",
       "11460   21458  \n",
       "11461   21458  \n",
       "11462   21458  \n",
       "11463   21458  \n",
       "11464   21458  \n",
       "\n",
       "[11465 rows x 10 columns]"
      ]
     },
     "execution_count": 9,
     "metadata": {},
     "output_type": "execute_result"
    }
   ],
   "source": [
    "res_df"
   ]
  },
  {
   "cell_type": "markdown",
   "id": "aa033192-d76b-4b6f-b7b1-e7c1c22ae12a",
   "metadata": {},
   "source": [
    "---\n",
    "## 3 - Aggregate Table "
   ]
  },
  {
   "cell_type": "markdown",
   "id": "baa496b5-75ed-41fb-8cab-eb135eda1a1f",
   "metadata": {},
   "source": [
    "Generate a table containing how many experiments per-species for each of the UBERON terms."
   ]
  },
  {
   "cell_type": "code",
   "execution_count": 10,
   "id": "65147be8-0148-49b8-8cca-93568eb5c802",
   "metadata": {},
   "outputs": [],
   "source": [
    "def gen():\n",
    "    all_species = sorted(set(res_df.species))\n",
    "    for ((anat_id, anat_name), zdf) in res_df.groupby(['anat_id', 'anat_name']):\n",
    "        sp_with_data = Counter(zdf.species)\n",
    "        yield {'anat_id': anat_id, 'anat_name': anat_name} | dict(map(lambda x: (x, sp_with_data[x]), all_species))\n",
    "\n",
    "\n",
    "count_df = pd.DataFrame(gen())"
   ]
  },
  {
   "cell_type": "code",
   "execution_count": 11,
   "id": "afd59ae7-2688-424a-800c-ed7940c2c498",
   "metadata": {},
   "outputs": [],
   "source": [
    "all_species = list(count_df.keys())[2:]"
   ]
  },
  {
   "cell_type": "code",
   "execution_count": 12,
   "id": "fbd9ea16-5dbe-477a-af6a-0087e254c951",
   "metadata": {},
   "outputs": [],
   "source": [
    "count_df['n_species_with_data'] = count_df.apply(lambda x: (x[all_species] >= 1).sum(), axis=1)"
   ]
  },
  {
   "cell_type": "code",
   "execution_count": 13,
   "id": "742a79c6-f7cd-4385-bd4c-b34764b89ecd",
   "metadata": {},
   "outputs": [],
   "source": [
    "count_df = count_df[['anat_id', 'anat_name', 'n_species_with_data']+all_species]"
   ]
  },
  {
   "cell_type": "code",
   "execution_count": 14,
   "id": "159f7979-8cbf-47b9-b7e5-1a8e4565dc36",
   "metadata": {},
   "outputs": [
    {
     "data": {
      "text/html": [
       "<div>\n",
       "<style scoped>\n",
       "    .dataframe tbody tr th:only-of-type {\n",
       "        vertical-align: middle;\n",
       "    }\n",
       "\n",
       "    .dataframe tbody tr th {\n",
       "        vertical-align: top;\n",
       "    }\n",
       "\n",
       "    .dataframe thead th {\n",
       "        text-align: right;\n",
       "    }\n",
       "</style>\n",
       "<table border=\"1\" class=\"dataframe\">\n",
       "  <thead>\n",
       "    <tr style=\"text-align: right;\">\n",
       "      <th></th>\n",
       "      <th>anat_id</th>\n",
       "      <th>anat_name</th>\n",
       "      <th>n_species_with_data</th>\n",
       "      <th>Anolis_carolinensis</th>\n",
       "      <th>Bos_taurus</th>\n",
       "      <th>Caenorhabditis_elegans</th>\n",
       "      <th>Canis_lupus_familiaris</th>\n",
       "      <th>Danio_rerio</th>\n",
       "      <th>Drosophila_melanogaster</th>\n",
       "      <th>Equus_caballus</th>\n",
       "      <th>...</th>\n",
       "      <th>Lepisosteus_oculatus</th>\n",
       "      <th>Macaca_mulatta</th>\n",
       "      <th>Monodelphis_domestica</th>\n",
       "      <th>Mus_musculus</th>\n",
       "      <th>Ornithorhynchus_anatinus</th>\n",
       "      <th>Oryzias_latipes</th>\n",
       "      <th>Pan_troglodytes</th>\n",
       "      <th>Rattus_norvegicus</th>\n",
       "      <th>Sus_scrofa</th>\n",
       "      <th>Xenopus_tropicalis</th>\n",
       "    </tr>\n",
       "  </thead>\n",
       "  <tbody>\n",
       "    <tr>\n",
       "      <th>0</th>\n",
       "      <td>CL:0000017</td>\n",
       "      <td>spermatocyte</td>\n",
       "      <td>5</td>\n",
       "      <td>0</td>\n",
       "      <td>1</td>\n",
       "      <td>0</td>\n",
       "      <td>0</td>\n",
       "      <td>0</td>\n",
       "      <td>0</td>\n",
       "      <td>0</td>\n",
       "      <td>...</td>\n",
       "      <td>0</td>\n",
       "      <td>2</td>\n",
       "      <td>2</td>\n",
       "      <td>1</td>\n",
       "      <td>0</td>\n",
       "      <td>0</td>\n",
       "      <td>0</td>\n",
       "      <td>0</td>\n",
       "      <td>0</td>\n",
       "      <td>0</td>\n",
       "    </tr>\n",
       "    <tr>\n",
       "      <th>1</th>\n",
       "      <td>CL:0000018</td>\n",
       "      <td>spermatid</td>\n",
       "      <td>5</td>\n",
       "      <td>0</td>\n",
       "      <td>1</td>\n",
       "      <td>0</td>\n",
       "      <td>0</td>\n",
       "      <td>0</td>\n",
       "      <td>0</td>\n",
       "      <td>0</td>\n",
       "      <td>...</td>\n",
       "      <td>0</td>\n",
       "      <td>2</td>\n",
       "      <td>2</td>\n",
       "      <td>1</td>\n",
       "      <td>0</td>\n",
       "      <td>0</td>\n",
       "      <td>0</td>\n",
       "      <td>0</td>\n",
       "      <td>0</td>\n",
       "      <td>0</td>\n",
       "    </tr>\n",
       "    <tr>\n",
       "      <th>2</th>\n",
       "      <td>CL:0000023</td>\n",
       "      <td>oocyte</td>\n",
       "      <td>2</td>\n",
       "      <td>0</td>\n",
       "      <td>16</td>\n",
       "      <td>0</td>\n",
       "      <td>0</td>\n",
       "      <td>0</td>\n",
       "      <td>0</td>\n",
       "      <td>0</td>\n",
       "      <td>...</td>\n",
       "      <td>0</td>\n",
       "      <td>0</td>\n",
       "      <td>0</td>\n",
       "      <td>0</td>\n",
       "      <td>0</td>\n",
       "      <td>0</td>\n",
       "      <td>0</td>\n",
       "      <td>0</td>\n",
       "      <td>3</td>\n",
       "      <td>0</td>\n",
       "    </tr>\n",
       "    <tr>\n",
       "      <th>3</th>\n",
       "      <td>CL:0000025</td>\n",
       "      <td>egg cell</td>\n",
       "      <td>1</td>\n",
       "      <td>0</td>\n",
       "      <td>0</td>\n",
       "      <td>0</td>\n",
       "      <td>0</td>\n",
       "      <td>0</td>\n",
       "      <td>0</td>\n",
       "      <td>0</td>\n",
       "      <td>...</td>\n",
       "      <td>0</td>\n",
       "      <td>0</td>\n",
       "      <td>0</td>\n",
       "      <td>0</td>\n",
       "      <td>0</td>\n",
       "      <td>0</td>\n",
       "      <td>0</td>\n",
       "      <td>0</td>\n",
       "      <td>0</td>\n",
       "      <td>2</td>\n",
       "    </tr>\n",
       "    <tr>\n",
       "      <th>4</th>\n",
       "      <td>CL:0000057</td>\n",
       "      <td>fibroblast</td>\n",
       "      <td>3</td>\n",
       "      <td>0</td>\n",
       "      <td>0</td>\n",
       "      <td>0</td>\n",
       "      <td>0</td>\n",
       "      <td>0</td>\n",
       "      <td>0</td>\n",
       "      <td>0</td>\n",
       "      <td>...</td>\n",
       "      <td>0</td>\n",
       "      <td>10</td>\n",
       "      <td>0</td>\n",
       "      <td>0</td>\n",
       "      <td>2</td>\n",
       "      <td>0</td>\n",
       "      <td>5</td>\n",
       "      <td>0</td>\n",
       "      <td>0</td>\n",
       "      <td>0</td>\n",
       "    </tr>\n",
       "    <tr>\n",
       "      <th>...</th>\n",
       "      <td>...</td>\n",
       "      <td>...</td>\n",
       "      <td>...</td>\n",
       "      <td>...</td>\n",
       "      <td>...</td>\n",
       "      <td>...</td>\n",
       "      <td>...</td>\n",
       "      <td>...</td>\n",
       "      <td>...</td>\n",
       "      <td>...</td>\n",
       "      <td>...</td>\n",
       "      <td>...</td>\n",
       "      <td>...</td>\n",
       "      <td>...</td>\n",
       "      <td>...</td>\n",
       "      <td>...</td>\n",
       "      <td>...</td>\n",
       "      <td>...</td>\n",
       "      <td>...</td>\n",
       "      <td>...</td>\n",
       "      <td>...</td>\n",
       "    </tr>\n",
       "    <tr>\n",
       "      <th>309</th>\n",
       "      <td>UBERON:1000003</td>\n",
       "      <td>dewlap</td>\n",
       "      <td>1</td>\n",
       "      <td>1</td>\n",
       "      <td>0</td>\n",
       "      <td>0</td>\n",
       "      <td>0</td>\n",
       "      <td>0</td>\n",
       "      <td>0</td>\n",
       "      <td>0</td>\n",
       "      <td>...</td>\n",
       "      <td>0</td>\n",
       "      <td>0</td>\n",
       "      <td>0</td>\n",
       "      <td>0</td>\n",
       "      <td>0</td>\n",
       "      <td>0</td>\n",
       "      <td>0</td>\n",
       "      <td>0</td>\n",
       "      <td>0</td>\n",
       "      <td>0</td>\n",
       "    </tr>\n",
       "    <tr>\n",
       "      <th>310</th>\n",
       "      <td>UBERON:1000017</td>\n",
       "      <td>tip of external ear</td>\n",
       "      <td>1</td>\n",
       "      <td>0</td>\n",
       "      <td>0</td>\n",
       "      <td>0</td>\n",
       "      <td>0</td>\n",
       "      <td>0</td>\n",
       "      <td>0</td>\n",
       "      <td>0</td>\n",
       "      <td>...</td>\n",
       "      <td>0</td>\n",
       "      <td>0</td>\n",
       "      <td>0</td>\n",
       "      <td>0</td>\n",
       "      <td>0</td>\n",
       "      <td>0</td>\n",
       "      <td>0</td>\n",
       "      <td>0</td>\n",
       "      <td>0</td>\n",
       "      <td>0</td>\n",
       "    </tr>\n",
       "    <tr>\n",
       "      <th>311</th>\n",
       "      <td>UBERON:6001060</td>\n",
       "      <td>embryonic brain</td>\n",
       "      <td>1</td>\n",
       "      <td>0</td>\n",
       "      <td>0</td>\n",
       "      <td>0</td>\n",
       "      <td>0</td>\n",
       "      <td>0</td>\n",
       "      <td>0</td>\n",
       "      <td>0</td>\n",
       "      <td>...</td>\n",
       "      <td>0</td>\n",
       "      <td>0</td>\n",
       "      <td>0</td>\n",
       "      <td>6</td>\n",
       "      <td>0</td>\n",
       "      <td>0</td>\n",
       "      <td>0</td>\n",
       "      <td>0</td>\n",
       "      <td>0</td>\n",
       "      <td>0</td>\n",
       "    </tr>\n",
       "    <tr>\n",
       "      <th>312</th>\n",
       "      <td>UBERON:6003007</td>\n",
       "      <td>insect adult head</td>\n",
       "      <td>1</td>\n",
       "      <td>0</td>\n",
       "      <td>0</td>\n",
       "      <td>0</td>\n",
       "      <td>0</td>\n",
       "      <td>0</td>\n",
       "      <td>44</td>\n",
       "      <td>0</td>\n",
       "      <td>...</td>\n",
       "      <td>0</td>\n",
       "      <td>0</td>\n",
       "      <td>0</td>\n",
       "      <td>0</td>\n",
       "      <td>0</td>\n",
       "      <td>0</td>\n",
       "      <td>0</td>\n",
       "      <td>0</td>\n",
       "      <td>0</td>\n",
       "      <td>0</td>\n",
       "    </tr>\n",
       "    <tr>\n",
       "      <th>313</th>\n",
       "      <td>WBbt:0005451</td>\n",
       "      <td>pharyngeal muscle cell (C elegans)</td>\n",
       "      <td>1</td>\n",
       "      <td>0</td>\n",
       "      <td>0</td>\n",
       "      <td>2</td>\n",
       "      <td>0</td>\n",
       "      <td>0</td>\n",
       "      <td>0</td>\n",
       "      <td>0</td>\n",
       "      <td>...</td>\n",
       "      <td>0</td>\n",
       "      <td>0</td>\n",
       "      <td>0</td>\n",
       "      <td>0</td>\n",
       "      <td>0</td>\n",
       "      <td>0</td>\n",
       "      <td>0</td>\n",
       "      <td>0</td>\n",
       "      <td>0</td>\n",
       "      <td>0</td>\n",
       "    </tr>\n",
       "  </tbody>\n",
       "</table>\n",
       "<p>314 rows × 24 columns</p>\n",
       "</div>"
      ],
      "text/plain": [
       "            anat_id                           anat_name  n_species_with_data  \\\n",
       "0        CL:0000017                        spermatocyte                    5   \n",
       "1        CL:0000018                           spermatid                    5   \n",
       "2        CL:0000023                              oocyte                    2   \n",
       "3        CL:0000025                            egg cell                    1   \n",
       "4        CL:0000057                          fibroblast                    3   \n",
       "..              ...                                 ...                  ...   \n",
       "309  UBERON:1000003                              dewlap                    1   \n",
       "310  UBERON:1000017                 tip of external ear                    1   \n",
       "311  UBERON:6001060                     embryonic brain                    1   \n",
       "312  UBERON:6003007                   insect adult head                    1   \n",
       "313    WBbt:0005451  pharyngeal muscle cell (C elegans)                    1   \n",
       "\n",
       "     Anolis_carolinensis  Bos_taurus  Caenorhabditis_elegans  \\\n",
       "0                      0           1                       0   \n",
       "1                      0           1                       0   \n",
       "2                      0          16                       0   \n",
       "3                      0           0                       0   \n",
       "4                      0           0                       0   \n",
       "..                   ...         ...                     ...   \n",
       "309                    1           0                       0   \n",
       "310                    0           0                       0   \n",
       "311                    0           0                       0   \n",
       "312                    0           0                       0   \n",
       "313                    0           0                       2   \n",
       "\n",
       "     Canis_lupus_familiaris  Danio_rerio  Drosophila_melanogaster  \\\n",
       "0                         0            0                        0   \n",
       "1                         0            0                        0   \n",
       "2                         0            0                        0   \n",
       "3                         0            0                        0   \n",
       "4                         0            0                        0   \n",
       "..                      ...          ...                      ...   \n",
       "309                       0            0                        0   \n",
       "310                       0            0                        0   \n",
       "311                       0            0                        0   \n",
       "312                       0            0                       44   \n",
       "313                       0            0                        0   \n",
       "\n",
       "     Equus_caballus  ...  Lepisosteus_oculatus  Macaca_mulatta  \\\n",
       "0                 0  ...                     0               2   \n",
       "1                 0  ...                     0               2   \n",
       "2                 0  ...                     0               0   \n",
       "3                 0  ...                     0               0   \n",
       "4                 0  ...                     0              10   \n",
       "..              ...  ...                   ...             ...   \n",
       "309               0  ...                     0               0   \n",
       "310               0  ...                     0               0   \n",
       "311               0  ...                     0               0   \n",
       "312               0  ...                     0               0   \n",
       "313               0  ...                     0               0   \n",
       "\n",
       "     Monodelphis_domestica  Mus_musculus  Ornithorhynchus_anatinus  \\\n",
       "0                        2             1                         0   \n",
       "1                        2             1                         0   \n",
       "2                        0             0                         0   \n",
       "3                        0             0                         0   \n",
       "4                        0             0                         2   \n",
       "..                     ...           ...                       ...   \n",
       "309                      0             0                         0   \n",
       "310                      0             0                         0   \n",
       "311                      0             6                         0   \n",
       "312                      0             0                         0   \n",
       "313                      0             0                         0   \n",
       "\n",
       "     Oryzias_latipes  Pan_troglodytes  Rattus_norvegicus  Sus_scrofa  \\\n",
       "0                  0                0                  0           0   \n",
       "1                  0                0                  0           0   \n",
       "2                  0                0                  0           3   \n",
       "3                  0                0                  0           0   \n",
       "4                  0                5                  0           0   \n",
       "..               ...              ...                ...         ...   \n",
       "309                0                0                  0           0   \n",
       "310                0                0                  0           0   \n",
       "311                0                0                  0           0   \n",
       "312                0                0                  0           0   \n",
       "313                0                0                  0           0   \n",
       "\n",
       "     Xenopus_tropicalis  \n",
       "0                     0  \n",
       "1                     0  \n",
       "2                     0  \n",
       "3                     2  \n",
       "4                     0  \n",
       "..                  ...  \n",
       "309                   0  \n",
       "310                   0  \n",
       "311                   0  \n",
       "312                   0  \n",
       "313                   0  \n",
       "\n",
       "[314 rows x 24 columns]"
      ]
     },
     "execution_count": 14,
     "metadata": {},
     "output_type": "execute_result"
    }
   ],
   "source": [
    "count_df"
   ]
  },
  {
   "cell_type": "code",
   "execution_count": 15,
   "id": "36ff4726-e69a-4996-90fd-b1527dcaae79",
   "metadata": {},
   "outputs": [],
   "source": [
    "count_df.to_csv('results/count_per_anat_id_with_tpm.tsv', sep='\\t', index=False)"
   ]
  },
  {
   "cell_type": "markdown",
   "id": "bfffac54-26ee-40d4-8f04-38ca91a2bc0c",
   "metadata": {},
   "source": [
    "---"
   ]
  },
  {
   "cell_type": "markdown",
   "id": "8045d55e-baf4-4a46-894d-19ea96a8ee6c",
   "metadata": {},
   "source": [
    "## 4 - Manual Curation\n",
    "\n",
    "This step was manually curated, so that each UBERON term could be categorised. "
   ]
  },
  {
   "cell_type": "code",
   "execution_count": 16,
   "id": "e3adb2c5-ff11-4e7f-a2d9-fc715753c4f1",
   "metadata": {},
   "outputs": [],
   "source": [
    "cat_df = pd.read_csv('results/count_per_anat_id_with_tpm_and_cat.tsv', sep='\\t')"
   ]
  },
  {
   "cell_type": "code",
   "execution_count": 17,
   "id": "8dd37d51-556f-4aa3-a3c5-3df868f630c4",
   "metadata": {},
   "outputs": [],
   "source": [
    "main_categories = {\n",
    "    'uterus': 'UBERON:0000995',\n",
    "    'nose': 'UBERON:0000004',\n",
    "    'pancreas': 'UBERON:0001264',\n",
    "    'brain': 'UBERON:0000955',\n",
    "    'pituitary gland': 'UBERON:0000007',\n",
    "    #'skin': None,\n",
    "    #'eye': None,\n",
    "    #'muscle organ': None,\n",
    "    'intestine': 'UBERON:0000160',\n",
    "    'kidney': 'UBERON:0002113',\n",
    "    'blood': 'UBERON:0000178',\n",
    "    'testis': 'UBERON:0000473',\n",
    "    'stomach': 'UBERON:0000945',\n",
    "    'heart': 'UBERON:0000948',\n",
    "    'ovary': 'UBERON:0000992',\n",
    "    'esophagus': 'UBERON:0001043',\n",
    "    'buccal salivary gland': 'UBERON:0001044',\n",
    "    'malpighian tubule': 'UBERON:0001054',\n",
    "    'liver': 'UBERON:0002107',\n",
    "    'thyroid gland': 'UBERON:0002046',\n",
    "    'adrenal gland': 'UBERON:0002369',\n",
    "    'bladder organ': 'UBERON:0001255',\n",
    "    'tongue': 'UBERON:0001723',\n",
    "    'amygdala': 'UBERON:0001876',\n",
    "    'hypothalamus': 'UBERON:0001898',\n",
    "    'placenta': 'UBERON:0001987',\n",
    "    'cerebellum': 'UBERON:0002037',\n",
    "    'lung': 'UBERON:0002048',\n",
    "    'spleen': 'UBERON:0002106',\n",
    "    'olfactory bulb': 'UBERON:0002264',\n",
    "    'prostate gland': 'UBERON:0002367',\n",
    "    'thymus': 'UBERON:0002370',\n",
    "    'bone marrow': 'UBERON:0002371',\n",
    "    'fallopian': 'UBERON:0003889',\n",
    "    'swim bladder': 'UBERON:0006860'}"
   ]
  },
  {
   "cell_type": "markdown",
   "id": "d902d372-e792-41e3-a761-051576edf9eb",
   "metadata": {},
   "source": [
    "---\n",
    "## 5 - Category Analysis\n",
    "\n",
    "Analysis of the categorisation"
   ]
  },
  {
   "cell_type": "code",
   "execution_count": 18,
   "id": "e93764aa-f05a-43c5-a4c2-a278e2434b9c",
   "metadata": {},
   "outputs": [],
   "source": [
    "cat2uberon = defaultdict(set)\n",
    "\n",
    "for (_, r) in cat_df.iterrows():\n",
    "    if pd.isna(r.category):\n",
    "        continue\n",
    "        \n",
    "    for cat in r.category.split('; '):\n",
    "        cat2uberon[cat].add(r.anat_id)"
   ]
  },
  {
   "cell_type": "markdown",
   "id": "90054ce6-13bf-400f-96c2-5b5ed65eccee",
   "metadata": {},
   "source": [
    "Number of species per category, with data:"
   ]
  },
  {
   "cell_type": "code",
   "execution_count": 19,
   "id": "e30128e8-2927-443d-94b8-ea912e9fcf60",
   "metadata": {},
   "outputs": [
    {
     "data": {
      "text/html": [
       "<div>\n",
       "<style scoped>\n",
       "    .dataframe tbody tr th:only-of-type {\n",
       "        vertical-align: middle;\n",
       "    }\n",
       "\n",
       "    .dataframe tbody tr th {\n",
       "        vertical-align: top;\n",
       "    }\n",
       "\n",
       "    .dataframe thead th {\n",
       "        text-align: right;\n",
       "    }\n",
       "</style>\n",
       "<table border=\"1\" class=\"dataframe\">\n",
       "  <thead>\n",
       "    <tr style=\"text-align: right;\">\n",
       "      <th></th>\n",
       "      <th>category</th>\n",
       "      <th>no_agg_count</th>\n",
       "      <th>agg_count</th>\n",
       "    </tr>\n",
       "  </thead>\n",
       "  <tbody>\n",
       "    <tr>\n",
       "      <th>0</th>\n",
       "      <td>uterus</td>\n",
       "      <td>5</td>\n",
       "      <td>8</td>\n",
       "    </tr>\n",
       "    <tr>\n",
       "      <th>1</th>\n",
       "      <td>nose</td>\n",
       "      <td>1</td>\n",
       "      <td>4</td>\n",
       "    </tr>\n",
       "    <tr>\n",
       "      <th>2</th>\n",
       "      <td>pancreas</td>\n",
       "      <td>4</td>\n",
       "      <td>4</td>\n",
       "    </tr>\n",
       "    <tr>\n",
       "      <th>3</th>\n",
       "      <td>brain</td>\n",
       "      <td>16</td>\n",
       "      <td>20</td>\n",
       "    </tr>\n",
       "    <tr>\n",
       "      <th>4</th>\n",
       "      <td>pituitary gland</td>\n",
       "      <td>5</td>\n",
       "      <td>5</td>\n",
       "    </tr>\n",
       "    <tr>\n",
       "      <th>5</th>\n",
       "      <td>skin</td>\n",
       "      <td>0</td>\n",
       "      <td>9</td>\n",
       "    </tr>\n",
       "    <tr>\n",
       "      <th>6</th>\n",
       "      <td>eye</td>\n",
       "      <td>0</td>\n",
       "      <td>7</td>\n",
       "    </tr>\n",
       "    <tr>\n",
       "      <th>7</th>\n",
       "      <td>muscle organ</td>\n",
       "      <td>0</td>\n",
       "      <td>17</td>\n",
       "    </tr>\n",
       "    <tr>\n",
       "      <th>8</th>\n",
       "      <td>intestine</td>\n",
       "      <td>5</td>\n",
       "      <td>13</td>\n",
       "    </tr>\n",
       "    <tr>\n",
       "      <th>9</th>\n",
       "      <td>kidney</td>\n",
       "      <td>10</td>\n",
       "      <td>19</td>\n",
       "    </tr>\n",
       "    <tr>\n",
       "      <th>10</th>\n",
       "      <td>blood</td>\n",
       "      <td>6</td>\n",
       "      <td>6</td>\n",
       "    </tr>\n",
       "    <tr>\n",
       "      <th>11</th>\n",
       "      <td>testis</td>\n",
       "      <td>20</td>\n",
       "      <td>20</td>\n",
       "    </tr>\n",
       "    <tr>\n",
       "      <th>12</th>\n",
       "      <td>stomach</td>\n",
       "      <td>5</td>\n",
       "      <td>6</td>\n",
       "    </tr>\n",
       "    <tr>\n",
       "      <th>13</th>\n",
       "      <td>heart</td>\n",
       "      <td>17</td>\n",
       "      <td>17</td>\n",
       "    </tr>\n",
       "    <tr>\n",
       "      <th>14</th>\n",
       "      <td>ovary</td>\n",
       "      <td>15</td>\n",
       "      <td>15</td>\n",
       "    </tr>\n",
       "    <tr>\n",
       "      <th>15</th>\n",
       "      <td>esophagus</td>\n",
       "      <td>4</td>\n",
       "      <td>4</td>\n",
       "    </tr>\n",
       "    <tr>\n",
       "      <th>16</th>\n",
       "      <td>buccal salivary gland</td>\n",
       "      <td>4</td>\n",
       "      <td>4</td>\n",
       "    </tr>\n",
       "    <tr>\n",
       "      <th>17</th>\n",
       "      <td>malpighian tubule</td>\n",
       "      <td>1</td>\n",
       "      <td>1</td>\n",
       "    </tr>\n",
       "    <tr>\n",
       "      <th>18</th>\n",
       "      <td>liver</td>\n",
       "      <td>19</td>\n",
       "      <td>19</td>\n",
       "    </tr>\n",
       "    <tr>\n",
       "      <th>19</th>\n",
       "      <td>thyroid gland</td>\n",
       "      <td>3</td>\n",
       "      <td>3</td>\n",
       "    </tr>\n",
       "    <tr>\n",
       "      <th>20</th>\n",
       "      <td>adrenal gland</td>\n",
       "      <td>5</td>\n",
       "      <td>5</td>\n",
       "    </tr>\n",
       "    <tr>\n",
       "      <th>21</th>\n",
       "      <td>bladder organ</td>\n",
       "      <td>4</td>\n",
       "      <td>4</td>\n",
       "    </tr>\n",
       "    <tr>\n",
       "      <th>22</th>\n",
       "      <td>tongue</td>\n",
       "      <td>2</td>\n",
       "      <td>2</td>\n",
       "    </tr>\n",
       "    <tr>\n",
       "      <th>23</th>\n",
       "      <td>amygdala</td>\n",
       "      <td>2</td>\n",
       "      <td>2</td>\n",
       "    </tr>\n",
       "    <tr>\n",
       "      <th>24</th>\n",
       "      <td>hypothalamus</td>\n",
       "      <td>5</td>\n",
       "      <td>5</td>\n",
       "    </tr>\n",
       "    <tr>\n",
       "      <th>25</th>\n",
       "      <td>placenta</td>\n",
       "      <td>5</td>\n",
       "      <td>5</td>\n",
       "    </tr>\n",
       "    <tr>\n",
       "      <th>26</th>\n",
       "      <td>cerebellum</td>\n",
       "      <td>13</td>\n",
       "      <td>13</td>\n",
       "    </tr>\n",
       "    <tr>\n",
       "      <th>27</th>\n",
       "      <td>lung</td>\n",
       "      <td>11</td>\n",
       "      <td>11</td>\n",
       "    </tr>\n",
       "    <tr>\n",
       "      <th>28</th>\n",
       "      <td>spleen</td>\n",
       "      <td>11</td>\n",
       "      <td>11</td>\n",
       "    </tr>\n",
       "    <tr>\n",
       "      <th>29</th>\n",
       "      <td>olfactory bulb</td>\n",
       "      <td>2</td>\n",
       "      <td>2</td>\n",
       "    </tr>\n",
       "    <tr>\n",
       "      <th>30</th>\n",
       "      <td>prostate gland</td>\n",
       "      <td>2</td>\n",
       "      <td>2</td>\n",
       "    </tr>\n",
       "    <tr>\n",
       "      <th>31</th>\n",
       "      <td>thymus</td>\n",
       "      <td>5</td>\n",
       "      <td>5</td>\n",
       "    </tr>\n",
       "    <tr>\n",
       "      <th>32</th>\n",
       "      <td>bone marrow</td>\n",
       "      <td>6</td>\n",
       "      <td>6</td>\n",
       "    </tr>\n",
       "    <tr>\n",
       "      <th>33</th>\n",
       "      <td>fallopian</td>\n",
       "      <td>1</td>\n",
       "      <td>3</td>\n",
       "    </tr>\n",
       "    <tr>\n",
       "      <th>34</th>\n",
       "      <td>swim bladder</td>\n",
       "      <td>1</td>\n",
       "      <td>1</td>\n",
       "    </tr>\n",
       "  </tbody>\n",
       "</table>\n",
       "</div>"
      ],
      "text/plain": [
       "                 category  no_agg_count  agg_count\n",
       "0                  uterus             5          8\n",
       "1                    nose             1          4\n",
       "2                pancreas             4          4\n",
       "3                   brain            16         20\n",
       "4         pituitary gland             5          5\n",
       "5                    skin             0          9\n",
       "6                     eye             0          7\n",
       "7            muscle organ             0         17\n",
       "8               intestine             5         13\n",
       "9                  kidney            10         19\n",
       "10                  blood             6          6\n",
       "11                 testis            20         20\n",
       "12                stomach             5          6\n",
       "13                  heart            17         17\n",
       "14                  ovary            15         15\n",
       "15              esophagus             4          4\n",
       "16  buccal salivary gland             4          4\n",
       "17      malpighian tubule             1          1\n",
       "18                  liver            19         19\n",
       "19          thyroid gland             3          3\n",
       "20          adrenal gland             5          5\n",
       "21          bladder organ             4          4\n",
       "22                 tongue             2          2\n",
       "23               amygdala             2          2\n",
       "24           hypothalamus             5          5\n",
       "25               placenta             5          5\n",
       "26             cerebellum            13         13\n",
       "27                   lung            11         11\n",
       "28                 spleen            11         11\n",
       "29         olfactory bulb             2          2\n",
       "30         prostate gland             2          2\n",
       "31                 thymus             5          5\n",
       "32            bone marrow             6          6\n",
       "33              fallopian             1          3\n",
       "34           swim bladder             1          1"
      ]
     },
     "execution_count": 19,
     "metadata": {},
     "output_type": "execute_result"
    }
   ],
   "source": [
    "species_per_cat_agg = defaultdict(Counter)\n",
    "species_per_cat = defaultdict(Counter)\n",
    "\n",
    "zdf = cat_df.set_index('anat_id')\n",
    "for (cat, ts) in cat2uberon.items():\n",
    "    for t in ts:\n",
    "        species_per_cat_agg[cat].update(set(np.array(all_species)[zdf.loc[t][all_species] > 0]))\n",
    "    t = main_categories.get(cat, None)\n",
    "    if t is not None:\n",
    "        species_per_cat[cat].update(set(np.array(all_species)[zdf.loc[t][all_species] > 0]))\n",
    "\n",
    "\n",
    "def gen():\n",
    "    for cat in species_per_cat_agg:\n",
    "        yield (cat, sum(1 for (k, v) in species_per_cat[cat].items() if v >= 1), sum(1 for (k, v) in species_per_cat_agg[cat].items() if v >= 1))\n",
    "pd.DataFrame(gen(), columns=['category', 'no_agg_count', 'agg_count'])"
   ]
  },
  {
   "cell_type": "code",
   "execution_count": 20,
   "id": "be3f0654-2428-46a8-af4f-22b06805b5db",
   "metadata": {},
   "outputs": [],
   "source": [
    "def gen_table(d):\n",
    "    for cat in sorted(d):\n",
    "        x = list(map(lambda x: x in d[cat], all_species))\n",
    "        yield [cat, sum(x)] + x\n",
    "\n",
    "xdf = pd.DataFrame(gen_table(species_per_cat), columns=['category', 'total_species']+all_species)\n",
    "xdf_agg = pd.DataFrame(gen_table(species_per_cat_agg), columns=['category', 'total_species']+all_species)"
   ]
  },
  {
   "cell_type": "code",
   "execution_count": 21,
   "id": "6d9ebd0c-9028-4776-92da-278e4e438167",
   "metadata": {},
   "outputs": [
    {
     "name": "stdout",
     "output_type": "stream",
     "text": [
      "Anolis_carolinensis 8 10\n",
      "Bos_taurus 23 30\n",
      "Caenorhabditis_elegans 0 1\n",
      "Canis_lupus_familiaris 24 28\n",
      "Danio_rerio 8 12\n",
      "Drosophila_melanogaster 5 6\n",
      "Equus_caballus 5 12\n",
      "Felis_catus 5 8\n",
      "Gallus_gallus 9 11\n",
      "Gorilla_gorilla 4 6\n",
      "Homo_sapiens 25 29\n",
      "Lepisosteus_oculatus 6 10\n",
      "Macaca_mulatta 8 11\n",
      "Monodelphis_domestica 11 12\n",
      "Mus_musculus 21 24\n",
      "Ornithorhynchus_anatinus 6 8\n",
      "Oryzias_latipes 6 8\n",
      "Pan_troglodytes 9 13\n",
      "Rattus_norvegicus 13 15\n",
      "Sus_scrofa 14 17\n",
      "Xenopus_tropicalis 5 7\n"
     ]
    }
   ],
   "source": [
    "for sp in all_species:\n",
    "    print(sp, xdf[sp].sum(), xdf_agg[sp].sum())"
   ]
  },
  {
   "cell_type": "code",
   "execution_count": 22,
   "id": "7d3ccfd6-93a0-4335-99f8-355843ef6537",
   "metadata": {},
   "outputs": [],
   "source": [
    "def make_heatmap(df):\n",
    "    n = len(all_species)\n",
    "    X = np.zeros((n,n), dtype=np.uint8)\n",
    "    for i in range(n):\n",
    "        for j in range(i, n):\n",
    "            X[i,j] = X[j,i] = (df[all_species[i]] & df[all_species[j]]).sum()\n",
    "    return sns.heatmap(X, xticklabels=all_species, yticklabels=all_species)"
   ]
  },
  {
   "cell_type": "code",
   "execution_count": 23,
   "id": "f1017ee0-217c-47cb-bbcd-2e19ab056a28",
   "metadata": {},
   "outputs": [
    {
     "data": {
      "image/png": "[encoded data removed]",
      "text/plain": [
       "<Figure size 640x480 with 2 Axes>"
      ]
     },
     "metadata": {},
     "output_type": "display_data"
    }
   ],
   "source": [
    "make_heatmap(xdf)\n",
    "plt.savefig('results/plots/shared_categories.pdf', bbox_inches='tight')"
   ]
  },
  {
   "cell_type": "code",
   "execution_count": 24,
   "id": "0e96c6c3-bb0e-40e3-bc2d-ddb49d366948",
   "metadata": {},
   "outputs": [
    {
     "data": {
      "image/png": "[encoded data removed]",
      "text/plain": [
       "<Figure size 640x480 with 2 Axes>"
      ]
     },
     "metadata": {},
     "output_type": "display_data"
    }
   ],
   "source": [
    "make_heatmap(xdf_agg)\n",
    "plt.savefig('results/plots/shared_categories_agg.pdf', bbox_inches='tight')"
   ]
  },
  {
   "cell_type": "markdown",
   "id": "16742ab3-f901-46b7-8423-2e8a7b700b55",
   "metadata": {},
   "source": [
    "Also plot with the species covered for each tissue"
   ]
  },
  {
   "cell_type": "code",
   "execution_count": 25,
   "id": "efc9d0c3-6143-4114-a2af-8601a1d240b0",
   "metadata": {},
   "outputs": [],
   "source": [
    "def species_per_category(df):\n",
    "    m = len(df)\n",
    "    n = len(all_species)\n",
    "    \n",
    "    X = np.zeros((m,n), dtype=np.uint8)\n",
    "    for i in range(m):\n",
    "        r = df.iloc[i]\n",
    "        for j in range(n):\n",
    "            X[i,j] = r[all_species[j]]\n",
    "    return sns.heatmap(X, yticklabels=list(df['category']), xticklabels=all_species, cmap=['white', 'black'], cbar=False, vmin=0, vmax=1)            "
   ]
  },
  {
   "cell_type": "code",
   "execution_count": 26,
   "id": "e789a070-d9da-4e07-98c7-245da7fc5edf",
   "metadata": {},
   "outputs": [
    {
     "data": {
      "image/png": "[encoded data removed]",
      "text/plain": [
       "<Figure size 640x480 with 1 Axes>"
      ]
     },
     "metadata": {},
     "output_type": "display_data"
    }
   ],
   "source": [
    "species_per_category(xdf)\n",
    "plt.title('Species per category (main only)')\n",
    "plt.savefig('results/plots/species_per_cat_main.pdf', bbox_inches='tight')"
   ]
  },
  {
   "cell_type": "code",
   "execution_count": 27,
   "id": "be4b1c8b-273c-4d55-bf92-a366e4a502dd",
   "metadata": {},
   "outputs": [
    {
     "data": {
      "image/png": "[encoded data removed]",
      "text/plain": [
       "<Figure size 640x480 with 1 Axes>"
      ]
     },
     "metadata": {},
     "output_type": "display_data"
    }
   ],
   "source": [
    "species_per_category(xdf_agg)\n",
    "plt.title('Species per category (aggregate)')\n",
    "plt.savefig('results/plots/species_per_cat_agg.pdf', bbox_inches='tight')"
   ]
  },
  {
   "cell_type": "code",
   "execution_count": 28,
   "id": "a9f51993-bebb-443c-9ec7-58bc0a0c5bb8",
   "metadata": {},
   "outputs": [],
   "source": [
    "def species_per_category1(df, df1):\n",
    "    m = len(df)\n",
    "    n = len(all_species)\n",
    "    \n",
    "    X = np.zeros((m,n), dtype=np.uint8)\n",
    "    for i in range(m):\n",
    "        r = df.iloc[i]\n",
    "        for j in range(n):\n",
    "            X[i,j] = r[all_species[j]]\n",
    "    return sns.heatmap(X, yticklabels=list(df['category']), xticklabels=all_species, cmap=['white', 'black'], cbar=False, vmin=0, vmax=1)            "
   ]
  },
  {
   "cell_type": "markdown",
   "id": "05ba4549-e486-4c06-ad3d-a4fae12e7e2f",
   "metadata": {},
   "source": [
    "---"
   ]
  },
  {
   "cell_type": "markdown",
   "id": "00482637-e5c6-419e-b7bb-210a856a1899",
   "metadata": {},
   "source": [
    "## 6 - Translate Experiments into Categories"
   ]
  },
  {
   "cell_type": "markdown",
   "id": "3737a66d-5c7b-4dc5-a6dc-72bd94501696",
   "metadata": {},
   "source": [
    "We also need to translate the experiments into the categories"
   ]
  },
  {
   "cell_type": "code",
   "execution_count": 30,
   "id": "b5a77f10-19cc-4a9d-8d64-cc5c7beccd4a",
   "metadata": {},
   "outputs": [],
   "source": [
    "# for the aggregate\n",
    "uberon2cat = defaultdict(list)\n",
    "for (cat, ts) in cat2uberon.items():\n",
    "    for t in ts:\n",
    "        uberon2cat[t].append(cat)\n",
    "\n",
    "for (t, cats) in uberon2cat.items():\n",
    "    uberon2cat[t] = '; '.join(cats)\n",
    "\n",
    "uberon2cat = dict(uberon2cat)\n",
    "\n",
    "\n",
    "# and for the main categories\n",
    "uberon2maincat = {v: k for (k, v) in main_categories.items()}"
   ]
  },
  {
   "cell_type": "code",
   "execution_count": 31,
   "id": "0316910a-0beb-4ec6-8b82-60b57d18fadd",
   "metadata": {},
   "outputs": [],
   "source": [
    "res_df['category'] = res_df['anat_id'].apply(lambda x: uberon2cat.get(x, None))\n",
    "res_df['main_category_only'] = res_df['anat_id'].apply(lambda x: uberon2maincat.get(x, None))"
   ]
  },
  {
   "attachments": {},
   "cell_type": "markdown",
   "id": "1fd0c363-4e7f-4292-8815-909159c120cc",
   "metadata": {},
   "source": [
    "Let's filter out UBERON:0000068 (embryo stage) and UBERON:0007220 (late embryonic stage)."
   ]
  },
  {
   "cell_type": "code",
   "execution_count": 32,
   "id": "b33ee583-f518-4d57-85e9-882c5b8f6204",
   "metadata": {},
   "outputs": [],
   "source": [
    "for (t, cats) in uberon2cat.items():\n",
    "    uberon2cat[t] = list(map(lambda x: '_'.join(x.split(' ')), cats.split('; ')))"
   ]
  },
  {
   "cell_type": "markdown",
   "id": "ccb445a0-f427-421a-ad45-aec134bf38b8",
   "metadata": {},
   "source": [
    "Print out the stages to curate which to include..."
   ]
  },
  {
   "cell_type": "code",
   "execution_count": 33,
   "id": "d4927f33-0d14-45fb-a523-e7766cce8486",
   "metadata": {},
   "outputs": [],
   "source": [
    "res_df[res_df.category.notna()].drop_duplicates('stage_id')[['stage_id', 'stage_name']].sort_values('stage_id').to_csv('./results/stages_to_curate.tsv', sep='\\t', index=False)"
   ]
  },
  {
   "cell_type": "code",
   "execution_count": 35,
   "id": "5195ace3-b604-444f-a406-7e4762d65954",
   "metadata": {},
   "outputs": [],
   "source": [
    "# save the categorised table\n",
    "res_df.to_csv('./results/experiments_with_tpm_categorised.tsv', sep='\\t', index=False)"
   ]
  },
  {
   "cell_type": "markdown",
   "id": "fafd70ec-767a-4674-8bdb-adae1691f86a",
   "metadata": {},
   "source": [
    "---"
   ]
  },
  {
   "cell_type": "markdown",
   "id": "67bce91f-d8cc-43cb-b121-d5f94427ffa7",
   "metadata": {},
   "source": [
    "# 7 -- Transform RNASeq data into common format\n",
    "\n",
    "Currently have two different formats for the plant and animal datasets, ideally we'd have these in a single common format."
   ]
  },
  {
   "cell_type": "code",
   "execution_count": 45,
   "id": "611e0ed4-8790-4067-92dc-d498c7e98198",
   "metadata": {},
   "outputs": [],
   "source": [
    "# species that have data and are in PANTHER\n",
    "dataset = {'animals': {'ANOCA','BOVIN','CAEEL','CANLF','CHICK','DANRE','DROME','FELCA','GORGO','HORSE','HUMAN','LEPOC','MACMU','MONDO','MOUSE','ORNAN','ORYLA','PANTR','PIG','RAT', 'XENTR'},\n",
    "           'plants': {'AMBTC','ARATH','BRANA','CAPAN','CUCSA','HELAN','MAIZE','MANES','MARPO','MEDTR','ORYSJ','PHYPA','POPTR','SELML','SETIT','SOLLC','SOLTU','SOYBN','VITVI','WHEAT'}}"
   ]
  },
  {
   "cell_type": "code",
   "execution_count": 68,
   "id": "3591e5ec-813b-40ca-94c5-9e9d2f268cb3",
   "metadata": {},
   "outputs": [],
   "source": [
    "MIN_TPM_CUTOFF = 2.0\n",
    "\n",
    "EXPR = './results/expr/'\n",
    "!mkdir -p {EXPR}\n",
    "\n",
    "ANIMAL_TPM_EXPR_FN = f'{EXPR}/animal_tpm_expr.h5'"
   ]
  },
  {
   "cell_type": "markdown",
   "id": "fdbd29b3-8de3-4e56-9fb2-8794411c79a7",
   "metadata": {},
   "source": [
    "### Animal Conversion\n",
    "\n",
    "Convert full-matrices to a single table per-species and store using an HDF5 database."
   ]
  },
  {
   "cell_type": "code",
   "execution_count": 64,
   "id": "3e924b96-5724-4ece-8849-cf885f588b2c",
   "metadata": {
    "scrolled": true
   },
   "outputs": [
    {
     "data": {
      "application/vnd.jupyter.widget-view+json": {
       "model_id": "4e4b40b7c990427ca8b142fd335a0117",
       "version_major": 2,
       "version_minor": 0
      },
      "text/plain": [
       "  0%|          | 0/21 [00:00<?, ?it/s]"
      ]
     },
     "metadata": {},
     "output_type": "display_data"
    },
    {
     "name": "stdout",
     "output_type": "stream",
     "text": [
      "Anolis_carolinensis\n"
     ]
    },
    {
     "data": {
      "application/vnd.jupyter.widget-view+json": {
       "model_id": "95bb09004a96445781cfc7d652f8ce29",
       "version_major": 2,
       "version_minor": 0
      },
      "text/plain": [
       "  0%|          | 0/5 [00:00<?, ?it/s]"
      ]
     },
     "metadata": {},
     "output_type": "display_data"
    },
    {
     "name": "stdout",
     "output_type": "stream",
     "text": [
      "Anolis_carolinensis_RNA-Seq_read_counts_TPM_FPKM/Anolis_carolinensis_RNA-Seq_read_counts_TPM_FPKM_SRP045471.tsv.gz\n"
     ]
    },
    {
     "data": {
      "application/vnd.jupyter.widget-view+json": {
       "model_id": "c65d41d75d384145b3b681b6dff53d0d",
       "version_major": 2,
       "version_minor": 0
      },
      "text/plain": [
       "0it [00:00, ?it/s]"
      ]
     },
     "metadata": {},
     "output_type": "display_data"
    },
    {
     "name": "stdout",
     "output_type": "stream",
     "text": [
      "Anolis_carolinensis_RNA-Seq_read_counts_TPM_FPKM/Anolis_carolinensis_RNA-Seq_read_counts_TPM_FPKM_SRP009813.tsv.gz\n"
     ]
    },
    {
     "data": {
      "application/vnd.jupyter.widget-view+json": {
       "model_id": "eface2cea5e04e2780a01afc60d29760",
       "version_major": 2,
       "version_minor": 0
      },
      "text/plain": [
       "0it [00:00, ?it/s]"
      ]
     },
     "metadata": {},
     "output_type": "display_data"
    },
    {
     "name": "stdout",
     "output_type": "stream",
     "text": [
      "Anolis_carolinensis_RNA-Seq_read_counts_TPM_FPKM/Anolis_carolinensis_RNA-Seq_read_counts_TPM_FPKM_GSE41338.tsv.gz\n"
     ]
    },
    {
     "data": {
      "application/vnd.jupyter.widget-view+json": {
       "model_id": "30923a84b5df4183965d5fc6997dab8e",
       "version_major": 2,
       "version_minor": 0
      },
      "text/plain": [
       "0it [00:00, ?it/s]"
      ]
     },
     "metadata": {},
     "output_type": "display_data"
    },
    {
     "name": "stdout",
     "output_type": "stream",
     "text": [
      "Anolis_carolinensis_RNA-Seq_read_counts_TPM_FPKM/Anolis_carolinensis_RNA-Seq_read_counts_TPM_FPKM_SRP009831.tsv.gz\n"
     ]
    },
    {
     "data": {
      "application/vnd.jupyter.widget-view+json": {
       "model_id": "e40a3c0afebd417883d734341f5d4ab1",
       "version_major": 2,
       "version_minor": 0
      },
      "text/plain": [
       "0it [00:00, ?it/s]"
      ]
     },
     "metadata": {},
     "output_type": "display_data"
    },
    {
     "name": "stdout",
     "output_type": "stream",
     "text": [
      "Anolis_carolinensis_RNA-Seq_read_counts_TPM_FPKM/Anolis_carolinensis_RNA-Seq_read_counts_TPM_FPKM_SRP103128.tsv.gz\n"
     ]
    },
    {
     "data": {
      "application/vnd.jupyter.widget-view+json": {
       "model_id": "01b50854b8714c9586eb7bfd5a659e3e",
       "version_major": 2,
       "version_minor": 0
      },
      "text/plain": [
       "0it [00:00, ?it/s]"
      ]
     },
     "metadata": {},
     "output_type": "display_data"
    },
    {
     "name": "stdout",
     "output_type": "stream",
     "text": [
      "Bos_taurus\n"
     ]
    },
    {
     "data": {
      "application/vnd.jupyter.widget-view+json": {
       "model_id": "e4455e3d29794c778c2bfb324e40b144",
       "version_major": 2,
       "version_minor": 0
      },
      "text/plain": [
       "  0%|          | 0/76 [00:00<?, ?it/s]"
      ]
     },
     "metadata": {},
     "output_type": "display_data"
    },
    {
     "name": "stdout",
     "output_type": "stream",
     "text": [
      "Bos_taurus_RNA-Seq_read_counts_TPM_FPKM/Bos_taurus_RNA-Seq_read_counts_TPM_FPKM_SRP116585.tsv.gz\n"
     ]
    },
    {
     "data": {
      "application/vnd.jupyter.widget-view+json": {
       "model_id": "7789348cf14945b0b081a9bee92f19b7",
       "version_major": 2,
       "version_minor": 0
      },
      "text/plain": [
       "0it [00:00, ?it/s]"
      ]
     },
     "metadata": {},
     "output_type": "display_data"
    },
    {
     "name": "stdout",
     "output_type": "stream",
     "text": [
      "Bos_taurus_RNA-Seq_read_counts_TPM_FPKM/Bos_taurus_RNA-Seq_read_counts_TPM_FPKM_SRP073720.tsv.gz\n"
     ]
    },
    {
     "data": {
      "application/vnd.jupyter.widget-view+json": {
       "model_id": "6a1505d738364363aa4f174d5ecac64d",
       "version_major": 2,
       "version_minor": 0
      },
      "text/plain": [
       "0it [00:00, ?it/s]"
      ]
     },
     "metadata": {},
     "output_type": "display_data"
    },
    {
     "name": "stdout",
     "output_type": "stream",
     "text": [
      "Bos_taurus_RNA-Seq_read_counts_TPM_FPKM/Bos_taurus_RNA-Seq_read_counts_TPM_FPKM_SRP092904.tsv.gz\n"
     ]
    },
    {
     "data": {
      "application/vnd.jupyter.widget-view+json": {
       "model_id": "a510d8ddb6754db1b83f4e50aa138a1d",
       "version_major": 2,
       "version_minor": 0
      },
      "text/plain": [
       "0it [00:00, ?it/s]"
      ]
     },
     "metadata": {},
     "output_type": "display_data"
    },
    {
     "name": "stdout",
     "output_type": "stream",
     "text": [
      "Bos_taurus_RNA-Seq_read_counts_TPM_FPKM/Bos_taurus_RNA-Seq_read_counts_TPM_FPKM_ERP016257.tsv.gz\n"
     ]
    },
    {
     "data": {
      "application/vnd.jupyter.widget-view+json": {
       "model_id": "63e5a828f2ca47dfa249926eca0f1be7",
       "version_major": 2,
       "version_minor": 0
      },
      "text/plain": [
       "0it [00:00, ?it/s]"
      ]
     },
     "metadata": {},
     "output_type": "display_data"
    },
    {
     "name": "stdout",
     "output_type": "stream",
     "text": [
      "Bos_taurus_RNA-Seq_read_counts_TPM_FPKM/Bos_taurus_RNA-Seq_read_counts_TPM_FPKM_SRP081047.tsv.gz\n"
     ]
    },
    {
     "data": {
      "application/vnd.jupyter.widget-view+json": {
       "model_id": "f61a3b43ba3842de8d5717dc50a2cd80",
       "version_major": 2,
       "version_minor": 0
      },
      "text/plain": [
       "0it [00:00, ?it/s]"
      ]
     },
     "metadata": {},
     "output_type": "display_data"
    },
    {
     "name": "stdout",
     "output_type": "stream",
     "text": [
      "Bos_taurus_RNA-Seq_read_counts_TPM_FPKM/Bos_taurus_RNA-Seq_read_counts_TPM_FPKM_SRP063069.tsv.gz\n"
     ]
    },
    {
     "data": {
      "application/vnd.jupyter.widget-view+json": {
       "model_id": "4d4341f66d164e478cb84e7dfe1d1c49",
       "version_major": 2,
       "version_minor": 0
      },
      "text/plain": [
       "0it [00:00, ?it/s]"
      ]
     },
     "metadata": {},
     "output_type": "display_data"
    },
    {
     "name": "stdout",
     "output_type": "stream",
     "text": [
      "Bos_taurus_RNA-Seq_read_counts_TPM_FPKM/Bos_taurus_RNA-Seq_read_counts_TPM_FPKM_SRP012475.tsv.gz\n"
     ]
    },
    {
     "data": {
      "application/vnd.jupyter.widget-view+json": {
       "model_id": "1ae216cf1b96414e805356d13429b824",
       "version_major": 2,
       "version_minor": 0
      },
      "text/plain": [
       "0it [00:00, ?it/s]"
      ]
     },
     "metadata": {},
     "output_type": "display_data"
    },
    {
     "name": "stdout",
     "output_type": "stream",
     "text": [
      "Bos_taurus_RNA-Seq_read_counts_TPM_FPKM/Bos_taurus_RNA-Seq_read_counts_TPM_FPKM_SRP070691.tsv.gz\n"
     ]
    },
    {
     "data": {
      "application/vnd.jupyter.widget-view+json": {
       "model_id": "2448de9c80e34d55a846d8c2743a85fc",
       "version_major": 2,
       "version_minor": 0
      },
      "text/plain": [
       "0it [00:00, ?it/s]"
      ]
     },
     "metadata": {},
     "output_type": "display_data"
    },
    {
     "name": "stdout",
     "output_type": "stream",
     "text": [
      "Bos_taurus_RNA-Seq_read_counts_TPM_FPKM/Bos_taurus_RNA-Seq_read_counts_TPM_FPKM_ERP006867.tsv.gz\n"
     ]
    },
    {
     "data": {
      "application/vnd.jupyter.widget-view+json": {
       "model_id": "29ffa40bac874e2eb6325cd7264233b9",
       "version_major": 2,
       "version_minor": 0
      },
      "text/plain": [
       "0it [00:00, ?it/s]"
      ]
     },
     "metadata": {},
     "output_type": "display_data"
    },
    {
     "name": "stdout",
     "output_type": "stream",
     "text": [
      "Bos_taurus_RNA-Seq_read_counts_TPM_FPKM/Bos_taurus_RNA-Seq_read_counts_TPM_FPKM_SRP052314.tsv.gz\n"
     ]
    },
    {
     "data": {
      "application/vnd.jupyter.widget-view+json": {
       "model_id": "27b9e6cb1cfc404f92995c1ecc109597",
       "version_major": 2,
       "version_minor": 0
      },
      "text/plain": [
       "0it [00:00, ?it/s]"
      ]
     },
     "metadata": {},
     "output_type": "display_data"
    },
    {
     "name": "stdout",
     "output_type": "stream",
     "text": [
      "Bos_taurus_RNA-Seq_read_counts_TPM_FPKM/Bos_taurus_RNA-Seq_read_counts_TPM_FPKM_SRP094971.tsv.gz\n"
     ]
    },
    {
     "data": {
      "application/vnd.jupyter.widget-view+json": {
       "model_id": "cffa6038a6da42e19ae0d2717c27bfbb",
       "version_major": 2,
       "version_minor": 0
      },
      "text/plain": [
       "0it [00:00, ?it/s]"
      ]
     },
     "metadata": {},
     "output_type": "display_data"
    },
    {
     "name": "stdout",
     "output_type": "stream",
     "text": [
      "Bos_taurus_RNA-Seq_read_counts_TPM_FPKM/Bos_taurus_RNA-Seq_read_counts_TPM_FPKM_SRP049415.tsv.gz\n"
     ]
    },
    {
     "data": {
      "application/vnd.jupyter.widget-view+json": {
       "model_id": "dc0545be3b874cb29d6aa02150df6509",
       "version_major": 2,
       "version_minor": 0
      },
      "text/plain": [
       "0it [00:00, ?it/s]"
      ]
     },
     "metadata": {},
     "output_type": "display_data"
    },
    {
     "name": "stdout",
     "output_type": "stream",
     "text": [
      "Bos_taurus_RNA-Seq_read_counts_TPM_FPKM/Bos_taurus_RNA-Seq_read_counts_TPM_FPKM_SRP041696.tsv.gz\n"
     ]
    },
    {
     "data": {
      "application/vnd.jupyter.widget-view+json": {
       "model_id": "76f724d6de864d28a7c9b28b9d8d098c",
       "version_major": 2,
       "version_minor": 0
      },
      "text/plain": [
       "0it [00:00, ?it/s]"
      ]
     },
     "metadata": {},
     "output_type": "display_data"
    },
    {
     "name": "stdout",
     "output_type": "stream",
     "text": [
      "Bos_taurus_RNA-Seq_read_counts_TPM_FPKM/Bos_taurus_RNA-Seq_read_counts_TPM_FPKM_GSE43013.tsv.gz\n"
     ]
    },
    {
     "data": {
      "application/vnd.jupyter.widget-view+json": {
       "model_id": "328e470672fc428686b2bf0358356ceb",
       "version_major": 2,
       "version_minor": 0
      },
      "text/plain": [
       "0it [00:00, ?it/s]"
      ]
     },
     "metadata": {},
     "output_type": "display_data"
    },
    {
     "name": "stdout",
     "output_type": "stream",
     "text": [
      "Bos_taurus_RNA-Seq_read_counts_TPM_FPKM/Bos_taurus_RNA-Seq_read_counts_TPM_FPKM_SRP045380.tsv.gz\n"
     ]
    },
    {
     "data": {
      "application/vnd.jupyter.widget-view+json": {
       "model_id": "9307b454578e49efa9dea930d6c7c4ec",
       "version_major": 2,
       "version_minor": 0
      },
      "text/plain": [
       "0it [00:00, ?it/s]"
      ]
     },
     "metadata": {},
     "output_type": "display_data"
    },
    {
     "name": "stdout",
     "output_type": "stream",
     "text": [
      "Bos_taurus_RNA-Seq_read_counts_TPM_FPKM/Bos_taurus_RNA-Seq_read_counts_TPM_FPKM_SRP072500.tsv.gz\n"
     ]
    },
    {
     "data": {
      "application/vnd.jupyter.widget-view+json": {
       "model_id": "427d0259d93e4ed7957eb7fdbe5782e0",
       "version_major": 2,
       "version_minor": 0
      },
      "text/plain": [
       "0it [00:00, ?it/s]"
      ]
     },
     "metadata": {},
     "output_type": "display_data"
    },
    {
     "name": "stdout",
     "output_type": "stream",
     "text": [
      "Bos_taurus_RNA-Seq_read_counts_TPM_FPKM/Bos_taurus_RNA-Seq_read_counts_TPM_FPKM_SRP108615.tsv.gz\n"
     ]
    },
    {
     "data": {
      "application/vnd.jupyter.widget-view+json": {
       "model_id": "c3e042e8eb214736afa311f730c68a8d",
       "version_major": 2,
       "version_minor": 0
      },
      "text/plain": [
       "0it [00:00, ?it/s]"
      ]
     },
     "metadata": {},
     "output_type": "display_data"
    },
    {
     "name": "stdout",
     "output_type": "stream",
     "text": [
      "Bos_taurus_RNA-Seq_read_counts_TPM_FPKM/Bos_taurus_RNA-Seq_read_counts_TPM_FPKM_SRP051255.tsv.gz\n"
     ]
    },
    {
     "data": {
      "application/vnd.jupyter.widget-view+json": {
       "model_id": "f3c36269a1814799b3cd875d46f0581d",
       "version_major": 2,
       "version_minor": 0
      },
      "text/plain": [
       "0it [00:00, ?it/s]"
      ]
     },
     "metadata": {},
     "output_type": "display_data"
    },
    {
     "name": "stdout",
     "output_type": "stream",
     "text": [
      "Bos_taurus_RNA-Seq_read_counts_TPM_FPKM/Bos_taurus_RNA-Seq_read_counts_TPM_FPKM_SRP030211.tsv.gz\n"
     ]
    },
    {
     "data": {
      "application/vnd.jupyter.widget-view+json": {
       "model_id": "0217a89e688b4f85b4e321eb14048dd3",
       "version_major": 2,
       "version_minor": 0
      },
      "text/plain": [
       "0it [00:00, ?it/s]"
      ]
     },
     "metadata": {},
     "output_type": "display_data"
    },
    {
     "name": "stdout",
     "output_type": "stream",
     "text": [
      "Bos_taurus_RNA-Seq_read_counts_TPM_FPKM/Bos_taurus_RNA-Seq_read_counts_TPM_FPKM_SRP089739.tsv.gz\n"
     ]
    },
    {
     "data": {
      "application/vnd.jupyter.widget-view+json": {
       "model_id": "9fdeabc6f8a44e54af8b9d1aedc5da9d",
       "version_major": 2,
       "version_minor": 0
      },
      "text/plain": [
       "0it [00:00, ?it/s]"
      ]
     },
     "metadata": {},
     "output_type": "display_data"
    },
    {
     "name": "stdout",
     "output_type": "stream",
     "text": [
      "Bos_taurus_RNA-Seq_read_counts_TPM_FPKM/Bos_taurus_RNA-Seq_read_counts_TPM_FPKM_SRP051257.tsv.gz\n"
     ]
    },
    {
     "data": {
      "application/vnd.jupyter.widget-view+json": {
       "model_id": "2d33ea431f564636830f7d9063f56328",
       "version_major": 2,
       "version_minor": 0
      },
      "text/plain": [
       "0it [00:00, ?it/s]"
      ]
     },
     "metadata": {},
     "output_type": "display_data"
    },
    {
     "name": "stdout",
     "output_type": "stream",
     "text": [
      "Bos_taurus_RNA-Seq_read_counts_TPM_FPKM/Bos_taurus_RNA-Seq_read_counts_TPM_FPKM_SRP024245.tsv.gz\n"
     ]
    },
    {
     "data": {
      "application/vnd.jupyter.widget-view+json": {
       "model_id": "8bd9e8bc9b7c444491f7c5eb380a1f0c",
       "version_major": 2,
       "version_minor": 0
      },
      "text/plain": [
       "0it [00:00, ?it/s]"
      ]
     },
     "metadata": {},
     "output_type": "display_data"
    },
    {
     "name": "stdout",
     "output_type": "stream",
     "text": [
      "Bos_taurus_RNA-Seq_read_counts_TPM_FPKM/Bos_taurus_RNA-Seq_read_counts_TPM_FPKM_SRP009677.tsv.gz\n"
     ]
    },
    {
     "data": {
      "application/vnd.jupyter.widget-view+json": {
       "model_id": "5bc8e20990a74183ad3c85873ec486c3",
       "version_major": 2,
       "version_minor": 0
      },
      "text/plain": [
       "0it [00:00, ?it/s]"
      ]
     },
     "metadata": {},
     "output_type": "display_data"
    },
    {
     "name": "stdout",
     "output_type": "stream",
     "text": [
      "Bos_taurus_RNA-Seq_read_counts_TPM_FPKM/Bos_taurus_RNA-Seq_read_counts_TPM_FPKM_SRP059849.tsv.gz\n"
     ]
    },
    {
     "data": {
      "application/vnd.jupyter.widget-view+json": {
       "model_id": "1d0bb176bcb54db28a12e339f67e4b31",
       "version_major": 2,
       "version_minor": 0
      },
      "text/plain": [
       "0it [00:00, ?it/s]"
      ]
     },
     "metadata": {},
     "output_type": "display_data"
    },
    {
     "name": "stdout",
     "output_type": "stream",
     "text": [
      "Bos_taurus_RNA-Seq_read_counts_TPM_FPKM/Bos_taurus_RNA-Seq_read_counts_TPM_FPKM_SRP061367.tsv.gz\n"
     ]
    },
    {
     "data": {
      "application/vnd.jupyter.widget-view+json": {
       "model_id": "ade40e48a68646dcb1955755a9ef8180",
       "version_major": 2,
       "version_minor": 0
      },
      "text/plain": [
       "0it [00:00, ?it/s]"
      ]
     },
     "metadata": {},
     "output_type": "display_data"
    },
    {
     "name": "stdout",
     "output_type": "stream",
     "text": [
      "Bos_taurus_RNA-Seq_read_counts_TPM_FPKM/Bos_taurus_RNA-Seq_read_counts_TPM_FPKM_SRP030134.tsv.gz\n"
     ]
    },
    {
     "data": {
      "application/vnd.jupyter.widget-view+json": {
       "model_id": "5230d1e7cafd4d3cba460309c488f331",
       "version_major": 2,
       "version_minor": 0
      },
      "text/plain": [
       "0it [00:00, ?it/s]"
      ]
     },
     "metadata": {},
     "output_type": "display_data"
    },
    {
     "name": "stdout",
     "output_type": "stream",
     "text": [
      "Bos_taurus_RNA-Seq_read_counts_TPM_FPKM/Bos_taurus_RNA-Seq_read_counts_TPM_FPKM_SRP026485.tsv.gz\n"
     ]
    },
    {
     "data": {
      "application/vnd.jupyter.widget-view+json": {
       "model_id": "f33829df43ab49fbbb0b0ce048eb69dd",
       "version_major": 2,
       "version_minor": 0
      },
      "text/plain": [
       "0it [00:00, ?it/s]"
      ]
     },
     "metadata": {},
     "output_type": "display_data"
    },
    {
     "name": "stdout",
     "output_type": "stream",
     "text": [
      "Bos_taurus_RNA-Seq_read_counts_TPM_FPKM/Bos_taurus_RNA-Seq_read_counts_TPM_FPKM_SRP065669.tsv.gz\n"
     ]
    },
    {
     "data": {
      "application/vnd.jupyter.widget-view+json": {
       "model_id": "b10c95693ddc445dbaaf9beac9792a97",
       "version_major": 2,
       "version_minor": 0
      },
      "text/plain": [
       "0it [00:00, ?it/s]"
      ]
     },
     "metadata": {},
     "output_type": "display_data"
    },
    {
     "name": "stdout",
     "output_type": "stream",
     "text": [
      "Bos_taurus_RNA-Seq_read_counts_TPM_FPKM/Bos_taurus_RNA-Seq_read_counts_TPM_FPKM_ERP002220.tsv.gz\n"
     ]
    },
    {
     "data": {
      "application/vnd.jupyter.widget-view+json": {
       "model_id": "ec90e26f61384cbca3a0d0e25f6a08a5",
       "version_major": 2,
       "version_minor": 0
      },
      "text/plain": [
       "0it [00:00, ?it/s]"
      ]
     },
     "metadata": {},
     "output_type": "display_data"
    },
    {
     "name": "stdout",
     "output_type": "stream",
     "text": [
      "Bos_taurus_RNA-Seq_read_counts_TPM_FPKM/Bos_taurus_RNA-Seq_read_counts_TPM_FPKM_SRP070110.tsv.gz\n"
     ]
    },
    {
     "data": {
      "application/vnd.jupyter.widget-view+json": {
       "model_id": "c6034dd45f7546a889738e70df2fff6e",
       "version_major": 2,
       "version_minor": 0
      },
      "text/plain": [
       "0it [00:00, ?it/s]"
      ]
     },
     "metadata": {},
     "output_type": "display_data"
    },
    {
     "name": "stdout",
     "output_type": "stream",
     "text": [
      "Bos_taurus_RNA-Seq_read_counts_TPM_FPKM/Bos_taurus_RNA-Seq_read_counts_TPM_FPKM_SRP042639.tsv.gz\n"
     ]
    },
    {
     "data": {
      "application/vnd.jupyter.widget-view+json": {
       "model_id": "b5de1bc4275f49b38129db8674e6ec97",
       "version_major": 2,
       "version_minor": 0
      },
      "text/plain": [
       "0it [00:00, ?it/s]"
      ]
     },
     "metadata": {},
     "output_type": "display_data"
    },
    {
     "name": "stdout",
     "output_type": "stream",
     "text": [
      "Bos_taurus_RNA-Seq_read_counts_TPM_FPKM/Bos_taurus_RNA-Seq_read_counts_TPM_FPKM_SRP068029.tsv.gz\n"
     ]
    },
    {
     "data": {
      "application/vnd.jupyter.widget-view+json": {
       "model_id": "b4fa4adc05fb4fc7857b688da8850fc6",
       "version_major": 2,
       "version_minor": 0
      },
      "text/plain": [
       "0it [00:00, ?it/s]"
      ]
     },
     "metadata": {},
     "output_type": "display_data"
    },
    {
     "name": "stdout",
     "output_type": "stream",
     "text": [
      "Bos_taurus_RNA-Seq_read_counts_TPM_FPKM/Bos_taurus_RNA-Seq_read_counts_TPM_FPKM_SRP126481.tsv.gz\n"
     ]
    },
    {
     "data": {
      "application/vnd.jupyter.widget-view+json": {
       "model_id": "935b69a330624ef9aa7c9d78c1f95103",
       "version_major": 2,
       "version_minor": 0
      },
      "text/plain": [
       "0it [00:00, ?it/s]"
      ]
     },
     "metadata": {},
     "output_type": "display_data"
    },
    {
     "name": "stdout",
     "output_type": "stream",
     "text": [
      "Bos_taurus_RNA-Seq_read_counts_TPM_FPKM/Bos_taurus_RNA-Seq_read_counts_TPM_FPKM_SRP071940.tsv.gz\n"
     ]
    },
    {
     "data": {
      "application/vnd.jupyter.widget-view+json": {
       "model_id": "30984767c7c74b5aa3368b12e8fc30be",
       "version_major": 2,
       "version_minor": 0
      },
      "text/plain": [
       "0it [00:00, ?it/s]"
      ]
     },
     "metadata": {},
     "output_type": "display_data"
    },
    {
     "name": "stdout",
     "output_type": "stream",
     "text": [
      "Bos_taurus_RNA-Seq_read_counts_TPM_FPKM/Bos_taurus_RNA-Seq_read_counts_TPM_FPKM_SRP033080.tsv.gz\n"
     ]
    },
    {
     "data": {
      "application/vnd.jupyter.widget-view+json": {
       "model_id": "08b415a1714e4e6d90b45e415206e126",
       "version_major": 2,
       "version_minor": 0
      },
      "text/plain": [
       "0it [00:00, ?it/s]"
      ]
     },
     "metadata": {},
     "output_type": "display_data"
    },
    {
     "name": "stdout",
     "output_type": "stream",
     "text": [
      "Bos_taurus_RNA-Seq_read_counts_TPM_FPKM/Bos_taurus_RNA-Seq_read_counts_TPM_FPKM_ERP006696.tsv.gz\n"
     ]
    },
    {
     "data": {
      "application/vnd.jupyter.widget-view+json": {
       "model_id": "10fb1352b60f40a78296253c7063d738",
       "version_major": 2,
       "version_minor": 0
      },
      "text/plain": [
       "0it [00:00, ?it/s]"
      ]
     },
     "metadata": {},
     "output_type": "display_data"
    },
    {
     "name": "stdout",
     "output_type": "stream",
     "text": [
      "Bos_taurus_RNA-Seq_read_counts_TPM_FPKM/Bos_taurus_RNA-Seq_read_counts_TPM_FPKM_SRP026487.tsv.gz\n"
     ]
    },
    {
     "data": {
      "application/vnd.jupyter.widget-view+json": {
       "model_id": "95757aff8bd2425fb0e07871434e59aa",
       "version_major": 2,
       "version_minor": 0
      },
      "text/plain": [
       "0it [00:00, ?it/s]"
      ]
     },
     "metadata": {},
     "output_type": "display_data"
    },
    {
     "name": "stdout",
     "output_type": "stream",
     "text": [
      "Bos_taurus_RNA-Seq_read_counts_TPM_FPKM/Bos_taurus_RNA-Seq_read_counts_TPM_FPKM_SRP033225.tsv.gz\n"
     ]
    },
    {
     "data": {
      "application/vnd.jupyter.widget-view+json": {
       "model_id": "ea18321bfd8e4990baa912fa0798fc3b",
       "version_major": 2,
       "version_minor": 0
      },
      "text/plain": [
       "0it [00:00, ?it/s]"
      ]
     },
     "metadata": {},
     "output_type": "display_data"
    },
    {
     "name": "stdout",
     "output_type": "stream",
     "text": [
      "Bos_taurus_RNA-Seq_read_counts_TPM_FPKM/Bos_taurus_RNA-Seq_read_counts_TPM_FPKM_SRP066644.tsv.gz\n"
     ]
    },
    {
     "data": {
      "application/vnd.jupyter.widget-view+json": {
       "model_id": "497d03dfbadb4be8a0047615a7bc329d",
       "version_major": 2,
       "version_minor": 0
      },
      "text/plain": [
       "0it [00:00, ?it/s]"
      ]
     },
     "metadata": {},
     "output_type": "display_data"
    },
    {
     "name": "stdout",
     "output_type": "stream",
     "text": [
      "Bos_taurus_RNA-Seq_read_counts_TPM_FPKM/Bos_taurus_RNA-Seq_read_counts_TPM_FPKM_SRP045641.tsv.gz\n"
     ]
    },
    {
     "data": {
      "application/vnd.jupyter.widget-view+json": {
       "model_id": "ed024d829cf4473cbb13c87df42c9d90",
       "version_major": 2,
       "version_minor": 0
      },
      "text/plain": [
       "0it [00:00, ?it/s]"
      ]
     },
     "metadata": {},
     "output_type": "display_data"
    },
    {
     "name": "stdout",
     "output_type": "stream",
     "text": [
      "Bos_taurus_RNA-Seq_read_counts_TPM_FPKM/Bos_taurus_RNA-Seq_read_counts_TPM_FPKM_SRP018740.tsv.gz\n"
     ]
    },
    {
     "data": {
      "application/vnd.jupyter.widget-view+json": {
       "model_id": "ed0d82a1c3aa483e99d8b51858cca758",
       "version_major": 2,
       "version_minor": 0
      },
      "text/plain": [
       "0it [00:00, ?it/s]"
      ]
     },
     "metadata": {},
     "output_type": "display_data"
    },
    {
     "name": "stdout",
     "output_type": "stream",
     "text": [
      "Bos_taurus_RNA-Seq_read_counts_TPM_FPKM/Bos_taurus_RNA-Seq_read_counts_TPM_FPKM_SRP043521.tsv.gz\n"
     ]
    },
    {
     "data": {
      "application/vnd.jupyter.widget-view+json": {
       "model_id": "b20ce6d6140a4a93bca925bc4dafb207",
       "version_major": 2,
       "version_minor": 0
      },
      "text/plain": [
       "0it [00:00, ?it/s]"
      ]
     },
     "metadata": {},
     "output_type": "display_data"
    },
    {
     "name": "stdout",
     "output_type": "stream",
     "text": [
      "Bos_taurus_RNA-Seq_read_counts_TPM_FPKM/Bos_taurus_RNA-Seq_read_counts_TPM_FPKM_SRP083944.tsv.gz\n"
     ]
    },
    {
     "data": {
      "application/vnd.jupyter.widget-view+json": {
       "model_id": "7185ddf2051840049508c6fcf6a02b87",
       "version_major": 2,
       "version_minor": 0
      },
      "text/plain": [
       "0it [00:00, ?it/s]"
      ]
     },
     "metadata": {},
     "output_type": "display_data"
    },
    {
     "name": "stdout",
     "output_type": "stream",
     "text": [
      "Bos_taurus_RNA-Seq_read_counts_TPM_FPKM/Bos_taurus_RNA-Seq_read_counts_TPM_FPKM_SRP045088.tsv.gz\n"
     ]
    },
    {
     "data": {
      "application/vnd.jupyter.widget-view+json": {
       "model_id": "70c8596d34dc4c2a84351fe8ccc243b6",
       "version_major": 2,
       "version_minor": 0
      },
      "text/plain": [
       "0it [00:00, ?it/s]"
      ]
     },
     "metadata": {},
     "output_type": "display_data"
    },
    {
     "name": "stdout",
     "output_type": "stream",
     "text": [
      "Bos_taurus_RNA-Seq_read_counts_TPM_FPKM/Bos_taurus_RNA-Seq_read_counts_TPM_FPKM_SRP068653.tsv.gz\n"
     ]
    },
    {
     "data": {
      "application/vnd.jupyter.widget-view+json": {
       "model_id": "dc823c89b78a4415a9876799d21f8b30",
       "version_major": 2,
       "version_minor": 0
      },
      "text/plain": [
       "0it [00:00, ?it/s]"
      ]
     },
     "metadata": {},
     "output_type": "display_data"
    },
    {
     "name": "stdout",
     "output_type": "stream",
     "text": [
      "Bos_taurus_RNA-Seq_read_counts_TPM_FPKM/Bos_taurus_RNA-Seq_read_counts_TPM_FPKM_SRP095120.tsv.gz\n"
     ]
    },
    {
     "data": {
      "application/vnd.jupyter.widget-view+json": {
       "model_id": "64e883eb026a454f9ff29d421e6e93e9",
       "version_major": 2,
       "version_minor": 0
      },
      "text/plain": [
       "0it [00:00, ?it/s]"
      ]
     },
     "metadata": {},
     "output_type": "display_data"
    },
    {
     "name": "stdout",
     "output_type": "stream",
     "text": [
      "Bos_taurus_RNA-Seq_read_counts_TPM_FPKM/Bos_taurus_RNA-Seq_read_counts_TPM_FPKM_SRP066556.tsv.gz\n"
     ]
    },
    {
     "data": {
      "application/vnd.jupyter.widget-view+json": {
       "model_id": "f843b80529d649f9b6e81ca9a33ad445",
       "version_major": 2,
       "version_minor": 0
      },
      "text/plain": [
       "0it [00:00, ?it/s]"
      ]
     },
     "metadata": {},
     "output_type": "display_data"
    },
    {
     "name": "stdout",
     "output_type": "stream",
     "text": [
      "Bos_taurus_RNA-Seq_read_counts_TPM_FPKM/Bos_taurus_RNA-Seq_read_counts_TPM_FPKM_ERP014610.tsv.gz\n"
     ]
    },
    {
     "data": {
      "application/vnd.jupyter.widget-view+json": {
       "model_id": "4d5dc0f491b24ad9a82bfd73819a27d4",
       "version_major": 2,
       "version_minor": 0
      },
      "text/plain": [
       "0it [00:00, ?it/s]"
      ]
     },
     "metadata": {},
     "output_type": "display_data"
    },
    {
     "name": "stdout",
     "output_type": "stream",
     "text": [
      "Bos_taurus_RNA-Seq_read_counts_TPM_FPKM/Bos_taurus_RNA-Seq_read_counts_TPM_FPKM_SRP032351.tsv.gz\n"
     ]
    },
    {
     "data": {
      "application/vnd.jupyter.widget-view+json": {
       "model_id": "28aa3c93460045cbb8def776b730ad51",
       "version_major": 2,
       "version_minor": 0
      },
      "text/plain": [
       "0it [00:00, ?it/s]"
      ]
     },
     "metadata": {},
     "output_type": "display_data"
    },
    {
     "name": "stdout",
     "output_type": "stream",
     "text": [
      "Bos_taurus_RNA-Seq_read_counts_TPM_FPKM/Bos_taurus_RNA-Seq_read_counts_TPM_FPKM_SRP097223.tsv.gz\n"
     ]
    },
    {
     "data": {
      "application/vnd.jupyter.widget-view+json": {
       "model_id": "7b9ba249e3f5458085bcefad9e60c79d",
       "version_major": 2,
       "version_minor": 0
      },
      "text/plain": [
       "0it [00:00, ?it/s]"
      ]
     },
     "metadata": {},
     "output_type": "display_data"
    },
    {
     "name": "stdout",
     "output_type": "stream",
     "text": [
      "Bos_taurus_RNA-Seq_read_counts_TPM_FPKM/Bos_taurus_RNA-Seq_read_counts_TPM_FPKM_SRP014147.tsv.gz\n"
     ]
    },
    {
     "data": {
      "application/vnd.jupyter.widget-view+json": {
       "model_id": "646049d720c3493ab040c4d9a431ac05",
       "version_major": 2,
       "version_minor": 0
      },
      "text/plain": [
       "0it [00:00, ?it/s]"
      ]
     },
     "metadata": {},
     "output_type": "display_data"
    },
    {
     "name": "stdout",
     "output_type": "stream",
     "text": [
      "Bos_taurus_RNA-Seq_read_counts_TPM_FPKM/Bos_taurus_RNA-Seq_read_counts_TPM_FPKM_SRP065213.tsv.gz\n"
     ]
    },
    {
     "data": {
      "application/vnd.jupyter.widget-view+json": {
       "model_id": "38acc4eefefb492e8a819e7ee1d0a247",
       "version_major": 2,
       "version_minor": 0
      },
      "text/plain": [
       "0it [00:00, ?it/s]"
      ]
     },
     "metadata": {},
     "output_type": "display_data"
    },
    {
     "name": "stdout",
     "output_type": "stream",
     "text": [
      "Bos_taurus_RNA-Seq_read_counts_TPM_FPKM/Bos_taurus_RNA-Seq_read_counts_TPM_FPKM_SRP074883.tsv.gz\n"
     ]
    },
    {
     "data": {
      "application/vnd.jupyter.widget-view+json": {
       "model_id": "1a6bfc47e6cf4a1495df9a8130756c8e",
       "version_major": 2,
       "version_minor": 0
      },
      "text/plain": [
       "0it [00:00, ?it/s]"
      ]
     },
     "metadata": {},
     "output_type": "display_data"
    },
    {
     "name": "stdout",
     "output_type": "stream",
     "text": [
      "Bos_taurus_RNA-Seq_read_counts_TPM_FPKM/Bos_taurus_RNA-Seq_read_counts_TPM_FPKM_SRP048734.tsv.gz\n"
     ]
    },
    {
     "data": {
      "application/vnd.jupyter.widget-view+json": {
       "model_id": "d2ab2d2c0e88401ea99ad02ff05788fa",
       "version_major": 2,
       "version_minor": 0
      },
      "text/plain": [
       "0it [00:00, ?it/s]"
      ]
     },
     "metadata": {},
     "output_type": "display_data"
    },
    {
     "name": "stdout",
     "output_type": "stream",
     "text": [
      "Bos_taurus_RNA-Seq_read_counts_TPM_FPKM/Bos_taurus_RNA-Seq_read_counts_TPM_FPKM_SRP039026.tsv.gz\n"
     ]
    },
    {
     "data": {
      "application/vnd.jupyter.widget-view+json": {
       "model_id": "337428fb1ec04f6cb7d0b1d2a0e0044e",
       "version_major": 2,
       "version_minor": 0
      },
      "text/plain": [
       "0it [00:00, ?it/s]"
      ]
     },
     "metadata": {},
     "output_type": "display_data"
    },
    {
     "name": "stdout",
     "output_type": "stream",
     "text": [
      "Bos_taurus_RNA-Seq_read_counts_TPM_FPKM/Bos_taurus_RNA-Seq_read_counts_TPM_FPKM_SRP061388.tsv.gz\n"
     ]
    },
    {
     "data": {
      "application/vnd.jupyter.widget-view+json": {
       "model_id": "405e866cb2f14ddd8d4441988a98615e",
       "version_major": 2,
       "version_minor": 0
      },
      "text/plain": [
       "0it [00:00, ?it/s]"
      ]
     },
     "metadata": {},
     "output_type": "display_data"
    },
    {
     "name": "stdout",
     "output_type": "stream",
     "text": [
      "Bos_taurus_RNA-Seq_read_counts_TPM_FPKM/Bos_taurus_RNA-Seq_read_counts_TPM_FPKM_SRP021901.tsv.gz\n"
     ]
    },
    {
     "data": {
      "application/vnd.jupyter.widget-view+json": {
       "model_id": "a43c81382abb44eba57ad4f9bcb12df9",
       "version_major": 2,
       "version_minor": 0
      },
      "text/plain": [
       "0it [00:00, ?it/s]"
      ]
     },
     "metadata": {},
     "output_type": "display_data"
    },
    {
     "name": "stdout",
     "output_type": "stream",
     "text": [
      "Bos_taurus_RNA-Seq_read_counts_TPM_FPKM/Bos_taurus_RNA-Seq_read_counts_TPM_FPKM_SRP014561.tsv.gz\n"
     ]
    },
    {
     "data": {
      "application/vnd.jupyter.widget-view+json": {
       "model_id": "7155737f79ea480093d62d0eae4ae612",
       "version_major": 2,
       "version_minor": 0
      },
      "text/plain": [
       "0it [00:00, ?it/s]"
      ]
     },
     "metadata": {},
     "output_type": "display_data"
    },
    {
     "name": "stdout",
     "output_type": "stream",
     "text": [
      "Bos_taurus_RNA-Seq_read_counts_TPM_FPKM/Bos_taurus_RNA-Seq_read_counts_TPM_FPKM_SRP012411.tsv.gz\n"
     ]
    },
    {
     "data": {
      "application/vnd.jupyter.widget-view+json": {
       "model_id": "6c4b14151909410885418555262f0836",
       "version_major": 2,
       "version_minor": 0
      },
      "text/plain": [
       "0it [00:00, ?it/s]"
      ]
     },
     "metadata": {},
     "output_type": "display_data"
    },
    {
     "name": "stdout",
     "output_type": "stream",
     "text": [
      "Bos_taurus_RNA-Seq_read_counts_TPM_FPKM/Bos_taurus_RNA-Seq_read_counts_TPM_FPKM_ERP023706.tsv.gz\n"
     ]
    },
    {
     "data": {
      "application/vnd.jupyter.widget-view+json": {
       "model_id": "3e54ce1cc09e45249fe5ef74b9259583",
       "version_major": 2,
       "version_minor": 0
      },
      "text/plain": [
       "0it [00:00, ?it/s]"
      ]
     },
     "metadata": {},
     "output_type": "display_data"
    },
    {
     "name": "stdout",
     "output_type": "stream",
     "text": [
      "Bos_taurus_RNA-Seq_read_counts_TPM_FPKM/Bos_taurus_RNA-Seq_read_counts_TPM_FPKM_GSE41637.tsv.gz\n"
     ]
    },
    {
     "data": {
      "application/vnd.jupyter.widget-view+json": {
       "model_id": "50bfac593cdb47e19a329b7158ab5634",
       "version_major": 2,
       "version_minor": 0
      },
      "text/plain": [
       "0it [00:00, ?it/s]"
      ]
     },
     "metadata": {},
     "output_type": "display_data"
    },
    {
     "name": "stdout",
     "output_type": "stream",
     "text": [
      "Bos_taurus_RNA-Seq_read_counts_TPM_FPKM/Bos_taurus_RNA-Seq_read_counts_TPM_FPKM_SRP057141.tsv.gz\n"
     ]
    },
    {
     "data": {
      "application/vnd.jupyter.widget-view+json": {
       "model_id": "d69a587d3def4d9780972ecf35aed35a",
       "version_major": 2,
       "version_minor": 0
      },
      "text/plain": [
       "0it [00:00, ?it/s]"
      ]
     },
     "metadata": {},
     "output_type": "display_data"
    },
    {
     "name": "stdout",
     "output_type": "stream",
     "text": [
      "Bos_taurus_RNA-Seq_read_counts_TPM_FPKM/Bos_taurus_RNA-Seq_read_counts_TPM_FPKM_SRP067373.tsv.gz\n"
     ]
    },
    {
     "data": {
      "application/vnd.jupyter.widget-view+json": {
       "model_id": "7ab25771339e4db9b084c3a841fa3018",
       "version_major": 2,
       "version_minor": 0
      },
      "text/plain": [
       "0it [00:00, ?it/s]"
      ]
     },
     "metadata": {},
     "output_type": "display_data"
    },
    {
     "name": "stdout",
     "output_type": "stream",
     "text": [
      "Bos_taurus_RNA-Seq_read_counts_TPM_FPKM/Bos_taurus_RNA-Seq_read_counts_TPM_FPKM_SRP027560.tsv.gz\n"
     ]
    },
    {
     "data": {
      "application/vnd.jupyter.widget-view+json": {
       "model_id": "a88460354d914ce698fff8a0d263c1e6",
       "version_major": 2,
       "version_minor": 0
      },
      "text/plain": [
       "0it [00:00, ?it/s]"
      ]
     },
     "metadata": {},
     "output_type": "display_data"
    },
    {
     "name": "stdout",
     "output_type": "stream",
     "text": [
      "Bos_taurus_RNA-Seq_read_counts_TPM_FPKM/Bos_taurus_RNA-Seq_read_counts_TPM_FPKM_SRP071663.tsv.gz\n"
     ]
    },
    {
     "data": {
      "application/vnd.jupyter.widget-view+json": {
       "model_id": "c9f23c452b614734b5c6e8267030f961",
       "version_major": 2,
       "version_minor": 0
      },
      "text/plain": [
       "0it [00:00, ?it/s]"
      ]
     },
     "metadata": {},
     "output_type": "display_data"
    },
    {
     "name": "stdout",
     "output_type": "stream",
     "text": [
      "Bos_taurus_RNA-Seq_read_counts_TPM_FPKM/Bos_taurus_RNA-Seq_read_counts_TPM_FPKM_SRP056112.tsv.gz\n"
     ]
    },
    {
     "data": {
      "application/vnd.jupyter.widget-view+json": {
       "model_id": "96dc1875d9f54246a75327279e82917a",
       "version_major": 2,
       "version_minor": 0
      },
      "text/plain": [
       "0it [00:00, ?it/s]"
      ]
     },
     "metadata": {},
     "output_type": "display_data"
    },
    {
     "name": "stdout",
     "output_type": "stream",
     "text": [
      "Bos_taurus_RNA-Seq_read_counts_TPM_FPKM/Bos_taurus_RNA-Seq_read_counts_TPM_FPKM_SRP068422.tsv.gz\n"
     ]
    },
    {
     "data": {
      "application/vnd.jupyter.widget-view+json": {
       "model_id": "572c8062df66443d88c6e18ce7d3a4ba",
       "version_major": 2,
       "version_minor": 0
      },
      "text/plain": [
       "0it [00:00, ?it/s]"
      ]
     },
     "metadata": {},
     "output_type": "display_data"
    },
    {
     "name": "stdout",
     "output_type": "stream",
     "text": [
      "Bos_taurus_RNA-Seq_read_counts_TPM_FPKM/Bos_taurus_RNA-Seq_read_counts_TPM_FPKM_SRP066548.tsv.gz\n"
     ]
    },
    {
     "data": {
      "application/vnd.jupyter.widget-view+json": {
       "model_id": "8ab7180ae02e49e78a87219a18abb82c",
       "version_major": 2,
       "version_minor": 0
      },
      "text/plain": [
       "0it [00:00, ?it/s]"
      ]
     },
     "metadata": {},
     "output_type": "display_data"
    },
    {
     "name": "stdout",
     "output_type": "stream",
     "text": [
      "Bos_taurus_RNA-Seq_read_counts_TPM_FPKM/Bos_taurus_RNA-Seq_read_counts_TPM_FPKM_SRP075157.tsv.gz\n"
     ]
    },
    {
     "data": {
      "application/vnd.jupyter.widget-view+json": {
       "model_id": "cae965de91fd4d9882f6e6c2a0b3cdf9",
       "version_major": 2,
       "version_minor": 0
      },
      "text/plain": [
       "0it [00:00, ?it/s]"
      ]
     },
     "metadata": {},
     "output_type": "display_data"
    },
    {
     "name": "stdout",
     "output_type": "stream",
     "text": [
      "Bos_taurus_RNA-Seq_read_counts_TPM_FPKM/Bos_taurus_RNA-Seq_read_counts_TPM_FPKM_SRP092050.tsv.gz\n"
     ]
    },
    {
     "data": {
      "application/vnd.jupyter.widget-view+json": {
       "model_id": "3eb8025702b643d5a2fdde0e185ca01a",
       "version_major": 2,
       "version_minor": 0
      },
      "text/plain": [
       "0it [00:00, ?it/s]"
      ]
     },
     "metadata": {},
     "output_type": "display_data"
    },
    {
     "name": "stdout",
     "output_type": "stream",
     "text": [
      "Bos_taurus_RNA-Seq_read_counts_TPM_FPKM/Bos_taurus_RNA-Seq_read_counts_TPM_FPKM_SRP074994.tsv.gz\n"
     ]
    },
    {
     "data": {
      "application/vnd.jupyter.widget-view+json": {
       "model_id": "2116c260ece24d5fa7e9e5ab17a05fbc",
       "version_major": 2,
       "version_minor": 0
      },
      "text/plain": [
       "0it [00:00, ?it/s]"
      ]
     },
     "metadata": {},
     "output_type": "display_data"
    },
    {
     "name": "stdout",
     "output_type": "stream",
     "text": [
      "Bos_taurus_RNA-Seq_read_counts_TPM_FPKM/Bos_taurus_RNA-Seq_read_counts_TPM_FPKM_SRP033585.tsv.gz\n"
     ]
    },
    {
     "data": {
      "application/vnd.jupyter.widget-view+json": {
       "model_id": "56934c96f86a4bfa97eda333b917f070",
       "version_major": 2,
       "version_minor": 0
      },
      "text/plain": [
       "0it [00:00, ?it/s]"
      ]
     },
     "metadata": {},
     "output_type": "display_data"
    },
    {
     "name": "stdout",
     "output_type": "stream",
     "text": [
      "Bos_taurus_RNA-Seq_read_counts_TPM_FPKM/Bos_taurus_RNA-Seq_read_counts_TPM_FPKM_SRP111412.tsv.gz\n"
     ]
    },
    {
     "data": {
      "application/vnd.jupyter.widget-view+json": {
       "model_id": "11e030d8f13e4ec1a9287af2e761e684",
       "version_major": 2,
       "version_minor": 0
      },
      "text/plain": [
       "0it [00:00, ?it/s]"
      ]
     },
     "metadata": {},
     "output_type": "display_data"
    },
    {
     "name": "stdout",
     "output_type": "stream",
     "text": [
      "Bos_taurus_RNA-Seq_read_counts_TPM_FPKM/Bos_taurus_RNA-Seq_read_counts_TPM_FPKM_SRP050127.tsv.gz\n"
     ]
    },
    {
     "data": {
      "application/vnd.jupyter.widget-view+json": {
       "model_id": "c90862a5d591431fa5ba6d9842bff963",
       "version_major": 2,
       "version_minor": 0
      },
      "text/plain": [
       "0it [00:00, ?it/s]"
      ]
     },
     "metadata": {},
     "output_type": "display_data"
    },
    {
     "name": "stdout",
     "output_type": "stream",
     "text": [
      "Bos_taurus_RNA-Seq_read_counts_TPM_FPKM/Bos_taurus_RNA-Seq_read_counts_TPM_FPKM_SRP111067.tsv.gz\n"
     ]
    },
    {
     "data": {
      "application/vnd.jupyter.widget-view+json": {
       "model_id": "6758737b630a42428be9303dbb073006",
       "version_major": 2,
       "version_minor": 0
      },
      "text/plain": [
       "0it [00:00, ?it/s]"
      ]
     },
     "metadata": {},
     "output_type": "display_data"
    },
    {
     "name": "stdout",
     "output_type": "stream",
     "text": [
      "Bos_taurus_RNA-Seq_read_counts_TPM_FPKM/Bos_taurus_RNA-Seq_read_counts_TPM_FPKM_ERP005899.tsv.gz\n"
     ]
    },
    {
     "data": {
      "application/vnd.jupyter.widget-view+json": {
       "model_id": "a1420ef1acbf4e8ab7b74a1464b6d45e",
       "version_major": 2,
       "version_minor": 0
      },
      "text/plain": [
       "0it [00:00, ?it/s]"
      ]
     },
     "metadata": {},
     "output_type": "display_data"
    },
    {
     "name": "stdout",
     "output_type": "stream",
     "text": [
      "Caenorhabditis_elegans\n"
     ]
    },
    {
     "data": {
      "application/vnd.jupyter.widget-view+json": {
       "model_id": "e7b5846fe98d48869551cb6baf217fb6",
       "version_major": 2,
       "version_minor": 0
      },
      "text/plain": [
       "  0%|          | 0/6 [00:00<?, ?it/s]"
      ]
     },
     "metadata": {},
     "output_type": "display_data"
    },
    {
     "name": "stdout",
     "output_type": "stream",
     "text": [
      "Caenorhabditis_elegans_RNA-Seq_read_counts_TPM_FPKM/Caenorhabditis_elegans_RNA-Seq_read_counts_TPM_FPKM_SRP000401.tsv.gz\n"
     ]
    },
    {
     "data": {
      "application/vnd.jupyter.widget-view+json": {
       "model_id": "7d2b08150637410ba618d0d0d18eabd4",
       "version_major": 2,
       "version_minor": 0
      },
      "text/plain": [
       "0it [00:00, ?it/s]"
      ]
     },
     "metadata": {},
     "output_type": "display_data"
    },
    {
     "name": "stdout",
     "output_type": "stream",
     "text": [
      "Caenorhabditis_elegans_RNA-Seq_read_counts_TPM_FPKM/Caenorhabditis_elegans_RNA-Seq_read_counts_TPM_FPKM_SRP021083.tsv.gz\n"
     ]
    },
    {
     "data": {
      "application/vnd.jupyter.widget-view+json": {
       "model_id": "ab16714fbc364063b84a429a8f6b84c8",
       "version_major": 2,
       "version_minor": 0
      },
      "text/plain": [
       "0it [00:00, ?it/s]"
      ]
     },
     "metadata": {},
     "output_type": "display_data"
    },
    {
     "name": "stdout",
     "output_type": "stream",
     "text": [
      "Caenorhabditis_elegans_RNA-Seq_read_counts_TPM_FPKM/Caenorhabditis_elegans_RNA-Seq_read_counts_TPM_FPKM_GSE22410.tsv.gz\n"
     ]
    },
    {
     "data": {
      "application/vnd.jupyter.widget-view+json": {
       "model_id": "89dc792ab2be4d00b895d24f4b41e9c6",
       "version_major": 2,
       "version_minor": 0
      },
      "text/plain": [
       "0it [00:00, ?it/s]"
      ]
     },
     "metadata": {},
     "output_type": "display_data"
    },
    {
     "name": "stdout",
     "output_type": "stream",
     "text": [
      "Caenorhabditis_elegans_RNA-Seq_read_counts_TPM_FPKM/Caenorhabditis_elegans_RNA-Seq_read_counts_TPM_FPKM_GSE41367.tsv.gz\n"
     ]
    },
    {
     "data": {
      "application/vnd.jupyter.widget-view+json": {
       "model_id": "9d1afa09849445809af2c1aedd1925fa",
       "version_major": 2,
       "version_minor": 0
      },
      "text/plain": [
       "0it [00:00, ?it/s]"
      ]
     },
     "metadata": {},
     "output_type": "display_data"
    },
    {
     "name": "stdout",
     "output_type": "stream",
     "text": [
      "Caenorhabditis_elegans_RNA-Seq_read_counts_TPM_FPKM/Caenorhabditis_elegans_RNA-Seq_read_counts_TPM_FPKM_SRP003492.tsv.gz\n"
     ]
    },
    {
     "data": {
      "application/vnd.jupyter.widget-view+json": {
       "model_id": "80d6c7cdee3d4bc793a6eab8fcc34bfb",
       "version_major": 2,
       "version_minor": 0
      },
      "text/plain": [
       "0it [00:00, ?it/s]"
      ]
     },
     "metadata": {},
     "output_type": "display_data"
    },
    {
     "name": "stdout",
     "output_type": "stream",
     "text": [
      "Caenorhabditis_elegans_RNA-Seq_read_counts_TPM_FPKM/Caenorhabditis_elegans_RNA-Seq_read_counts_TPM_FPKM_GSE16552.tsv.gz\n"
     ]
    },
    {
     "data": {
      "application/vnd.jupyter.widget-view+json": {
       "model_id": "8b205c76be7c403caa260d89bafb06e1",
       "version_major": 2,
       "version_minor": 0
      },
      "text/plain": [
       "0it [00:00, ?it/s]"
      ]
     },
     "metadata": {},
     "output_type": "display_data"
    },
    {
     "name": "stdout",
     "output_type": "stream",
     "text": [
      "Canis_lupus_familiaris\n"
     ]
    },
    {
     "data": {
      "application/vnd.jupyter.widget-view+json": {
       "model_id": "e8cb8966226841cc98c41b38bd08ba55",
       "version_major": 2,
       "version_minor": 0
      },
      "text/plain": [
       "  0%|          | 0/25 [00:00<?, ?it/s]"
      ]
     },
     "metadata": {},
     "output_type": "display_data"
    },
    {
     "name": "stdout",
     "output_type": "stream",
     "text": [
      "Canis_lupus_familiaris_RNA-Seq_read_counts_TPM_FPKM/Canis_lupus_familiaris_RNA-Seq_read_counts_TPM_FPKM_ERP001694.tsv.gz\n"
     ]
    },
    {
     "data": {
      "application/vnd.jupyter.widget-view+json": {
       "model_id": "fccc845b27fb4ba7ac6239fbf3f02d89",
       "version_major": 2,
       "version_minor": 0
      },
      "text/plain": [
       "0it [00:00, ?it/s]"
      ]
     },
     "metadata": {},
     "output_type": "display_data"
    },
    {
     "name": "stdout",
     "output_type": "stream",
     "text": [
      "Canis_lupus_familiaris_RNA-Seq_read_counts_TPM_FPKM/Canis_lupus_familiaris_RNA-Seq_read_counts_TPM_FPKM_ERP015721.tsv.gz\n"
     ]
    },
    {
     "data": {
      "application/vnd.jupyter.widget-view+json": {
       "model_id": "5ccf7fdd231744d8945631767325e495",
       "version_major": 2,
       "version_minor": 0
      },
      "text/plain": [
       "0it [00:00, ?it/s]"
      ]
     },
     "metadata": {},
     "output_type": "display_data"
    },
    {
     "name": "stdout",
     "output_type": "stream",
     "text": [
      "Canis_lupus_familiaris_RNA-Seq_read_counts_TPM_FPKM/Canis_lupus_familiaris_RNA-Seq_read_counts_TPM_FPKM_ERP003979.tsv.gz\n"
     ]
    },
    {
     "data": {
      "application/vnd.jupyter.widget-view+json": {
       "model_id": "42d819a06caf4b84b7298bff976cd1c0",
       "version_major": 2,
       "version_minor": 0
      },
      "text/plain": [
       "0it [00:00, ?it/s]"
      ]
     },
     "metadata": {},
     "output_type": "display_data"
    },
    {
     "name": "stdout",
     "output_type": "stream",
     "text": [
      "Canis_lupus_familiaris_RNA-Seq_read_counts_TPM_FPKM/Canis_lupus_familiaris_RNA-Seq_read_counts_TPM_FPKM_SRP051588.tsv.gz\n"
     ]
    },
    {
     "data": {
      "application/vnd.jupyter.widget-view+json": {
       "model_id": "c96aecaed2c04f0b95d0f69b10a93d09",
       "version_major": 2,
       "version_minor": 0
      },
      "text/plain": [
       "0it [00:00, ?it/s]"
      ]
     },
     "metadata": {},
     "output_type": "display_data"
    },
    {
     "name": "stdout",
     "output_type": "stream",
     "text": [
      "Canis_lupus_familiaris_RNA-Seq_read_counts_TPM_FPKM/Canis_lupus_familiaris_RNA-Seq_read_counts_TPM_FPKM_ERP014610.tsv.gz\n"
     ]
    },
    {
     "data": {
      "application/vnd.jupyter.widget-view+json": {
       "model_id": "4ab5ed35051a480e9d3282a5ea2b8318",
       "version_major": 2,
       "version_minor": 0
      },
      "text/plain": [
       "0it [00:00, ?it/s]"
      ]
     },
     "metadata": {},
     "output_type": "display_data"
    },
    {
     "name": "stdout",
     "output_type": "stream",
     "text": [
      "Canis_lupus_familiaris_RNA-Seq_read_counts_TPM_FPKM/Canis_lupus_familiaris_RNA-Seq_read_counts_TPM_FPKM_SRP016141.tsv.gz\n"
     ]
    },
    {
     "data": {
      "application/vnd.jupyter.widget-view+json": {
       "model_id": "c3636e33d46340ab8ee41931e7b47f90",
       "version_major": 2,
       "version_minor": 0
      },
      "text/plain": [
       "0it [00:00, ?it/s]"
      ]
     },
     "metadata": {},
     "output_type": "display_data"
    },
    {
     "name": "stdout",
     "output_type": "stream",
     "text": [
      "Canis_lupus_familiaris_RNA-Seq_read_counts_TPM_FPKM/Canis_lupus_familiaris_RNA-Seq_read_counts_TPM_FPKM_SRP055477.tsv.gz\n"
     ]
    },
    {
     "data": {
      "application/vnd.jupyter.widget-view+json": {
       "model_id": "1c4d9a14e8e444498d06c0c81e726ec4",
       "version_major": 2,
       "version_minor": 0
      },
      "text/plain": [
       "0it [00:00, ?it/s]"
      ]
     },
     "metadata": {},
     "output_type": "display_data"
    },
    {
     "name": "stdout",
     "output_type": "stream",
     "text": [
      "Canis_lupus_familiaris_RNA-Seq_read_counts_TPM_FPKM/Canis_lupus_familiaris_RNA-Seq_read_counts_TPM_FPKM_DRP000415.tsv.gz\n"
     ]
    },
    {
     "data": {
      "application/vnd.jupyter.widget-view+json": {
       "model_id": "afb9e74c1ed44e33b136cc58ce54fb49",
       "version_major": 2,
       "version_minor": 0
      },
      "text/plain": [
       "0it [00:00, ?it/s]"
      ]
     },
     "metadata": {},
     "output_type": "display_data"
    },
    {
     "name": "stdout",
     "output_type": "stream",
     "text": [
      "Canis_lupus_familiaris_RNA-Seq_read_counts_TPM_FPKM/Canis_lupus_familiaris_RNA-Seq_read_counts_TPM_FPKM_SRP077559.tsv.gz\n"
     ]
    },
    {
     "data": {
      "application/vnd.jupyter.widget-view+json": {
       "model_id": "923a38b1607242e48ee80ae57933089a",
       "version_major": 2,
       "version_minor": 0
      },
      "text/plain": [
       "0it [00:00, ?it/s]"
      ]
     },
     "metadata": {},
     "output_type": "display_data"
    },
    {
     "name": "stdout",
     "output_type": "stream",
     "text": [
      "Canis_lupus_familiaris_RNA-Seq_read_counts_TPM_FPKM/Canis_lupus_familiaris_RNA-Seq_read_counts_TPM_FPKM_GSE43013.tsv.gz\n"
     ]
    },
    {
     "data": {
      "application/vnd.jupyter.widget-view+json": {
       "model_id": "2ae26e7f55934338b432dab9e2fca965",
       "version_major": 2,
       "version_minor": 0
      },
      "text/plain": [
       "0it [00:00, ?it/s]"
      ]
     },
     "metadata": {},
     "output_type": "display_data"
    },
    {
     "name": "stdout",
     "output_type": "stream",
     "text": [
      "Canis_lupus_familiaris_RNA-Seq_read_counts_TPM_FPKM/Canis_lupus_familiaris_RNA-Seq_read_counts_TPM_FPKM_ERP000787.tsv.gz\n"
     ]
    },
    {
     "data": {
      "application/vnd.jupyter.widget-view+json": {
       "model_id": "3a439ea554be45e296765371d4361261",
       "version_major": 2,
       "version_minor": 0
      },
      "text/plain": [
       "0it [00:00, ?it/s]"
      ]
     },
     "metadata": {},
     "output_type": "display_data"
    },
    {
     "name": "stdout",
     "output_type": "stream",
     "text": [
      "Canis_lupus_familiaris_RNA-Seq_read_counts_TPM_FPKM/Canis_lupus_familiaris_RNA-Seq_read_counts_TPM_FPKM_SRP024250.tsv.gz\n"
     ]
    },
    {
     "data": {
      "application/vnd.jupyter.widget-view+json": {
       "model_id": "d41c17f6aed44b6dbcd1c5f78f528921",
       "version_major": 2,
       "version_minor": 0
      },
      "text/plain": [
       "0it [00:00, ?it/s]"
      ]
     },
     "metadata": {},
     "output_type": "display_data"
    },
    {
     "name": "stdout",
     "output_type": "stream",
     "text": [
      "Canis_lupus_familiaris_RNA-Seq_read_counts_TPM_FPKM/Canis_lupus_familiaris_RNA-Seq_read_counts_TPM_FPKM_SRP121212.tsv.gz\n"
     ]
    },
    {
     "data": {
      "application/vnd.jupyter.widget-view+json": {
       "model_id": "d8319052f9654013ac59697462404350",
       "version_major": 2,
       "version_minor": 0
      },
      "text/plain": [
       "0it [00:00, ?it/s]"
      ]
     },
     "metadata": {},
     "output_type": "display_data"
    },
    {
     "name": "stdout",
     "output_type": "stream",
     "text": [
      "Canis_lupus_familiaris_RNA-Seq_read_counts_TPM_FPKM/Canis_lupus_familiaris_RNA-Seq_read_counts_TPM_FPKM_SRP110851.tsv.gz\n"
     ]
    },
    {
     "data": {
      "application/vnd.jupyter.widget-view+json": {
       "model_id": "a64396ac6b544cdc9624fa63306ca5dc",
       "version_major": 2,
       "version_minor": 0
      },
      "text/plain": [
       "0it [00:00, ?it/s]"
      ]
     },
     "metadata": {},
     "output_type": "display_data"
    },
    {
     "name": "stdout",
     "output_type": "stream",
     "text": [
      "Canis_lupus_familiaris_RNA-Seq_read_counts_TPM_FPKM/Canis_lupus_familiaris_RNA-Seq_read_counts_TPM_FPKM_SRP061328.tsv.gz\n"
     ]
    },
    {
     "data": {
      "application/vnd.jupyter.widget-view+json": {
       "model_id": "eb5a69da92034e5b8a6cf2fd03697f9a",
       "version_major": 2,
       "version_minor": 0
      },
      "text/plain": [
       "0it [00:00, ?it/s]"
      ]
     },
     "metadata": {},
     "output_type": "display_data"
    },
    {
     "name": "stdout",
     "output_type": "stream",
     "text": [
      "Canis_lupus_familiaris_RNA-Seq_read_counts_TPM_FPKM/Canis_lupus_familiaris_RNA-Seq_read_counts_TPM_FPKM_SRP092128.tsv.gz\n"
     ]
    },
    {
     "data": {
      "application/vnd.jupyter.widget-view+json": {
       "model_id": "910ca9f88de04bc69b5b15d86e2dfbaf",
       "version_major": 2,
       "version_minor": 0
      },
      "text/plain": [
       "0it [00:00, ?it/s]"
      ]
     },
     "metadata": {},
     "output_type": "display_data"
    },
    {
     "name": "stdout",
     "output_type": "stream",
     "text": [
      "Canis_lupus_familiaris_RNA-Seq_read_counts_TPM_FPKM/Canis_lupus_familiaris_RNA-Seq_read_counts_TPM_FPKM_SRP007359.tsv.gz\n"
     ]
    },
    {
     "data": {
      "application/vnd.jupyter.widget-view+json": {
       "model_id": "39d0e2aee4164e7a8cffc233ddf7305d",
       "version_major": 2,
       "version_minor": 0
      },
      "text/plain": [
       "0it [00:00, ?it/s]"
      ]
     },
     "metadata": {},
     "output_type": "display_data"
    },
    {
     "name": "stdout",
     "output_type": "stream",
     "text": [
      "Canis_lupus_familiaris_RNA-Seq_read_counts_TPM_FPKM/Canis_lupus_familiaris_RNA-Seq_read_counts_TPM_FPKM_SRP066652.tsv.gz\n"
     ]
    },
    {
     "data": {
      "application/vnd.jupyter.widget-view+json": {
       "model_id": "42717d58a2ab414db4690e73a3c71f34",
       "version_major": 2,
       "version_minor": 0
      },
      "text/plain": [
       "0it [00:00, ?it/s]"
      ]
     },
     "metadata": {},
     "output_type": "display_data"
    },
    {
     "name": "stdout",
     "output_type": "stream",
     "text": [
      "Canis_lupus_familiaris_RNA-Seq_read_counts_TPM_FPKM/Canis_lupus_familiaris_RNA-Seq_read_counts_TPM_FPKM_SRP068516.tsv.gz\n"
     ]
    },
    {
     "data": {
      "application/vnd.jupyter.widget-view+json": {
       "model_id": "e8f9a60bf78948d48db47748ebcdc1ec",
       "version_major": 2,
       "version_minor": 0
      },
      "text/plain": [
       "0it [00:00, ?it/s]"
      ]
     },
     "metadata": {},
     "output_type": "display_data"
    },
    {
     "name": "stdout",
     "output_type": "stream",
     "text": [
      "Canis_lupus_familiaris_RNA-Seq_read_counts_TPM_FPKM/Canis_lupus_familiaris_RNA-Seq_read_counts_TPM_FPKM_ERP019830.tsv.gz\n"
     ]
    },
    {
     "data": {
      "application/vnd.jupyter.widget-view+json": {
       "model_id": "85d5bb9575a4469199f2a5bf4e297d81",
       "version_major": 2,
       "version_minor": 0
      },
      "text/plain": [
       "0it [00:00, ?it/s]"
      ]
     },
     "metadata": {},
     "output_type": "display_data"
    },
    {
     "name": "stdout",
     "output_type": "stream",
     "text": [
      "Canis_lupus_familiaris_RNA-Seq_read_counts_TPM_FPKM/Canis_lupus_familiaris_RNA-Seq_read_counts_TPM_FPKM_SRP071663.tsv.gz\n"
     ]
    },
    {
     "data": {
      "application/vnd.jupyter.widget-view+json": {
       "model_id": "583e83aa06a54ee4bbf6640f7b832a06",
       "version_major": 2,
       "version_minor": 0
      },
      "text/plain": [
       "0it [00:00, ?it/s]"
      ]
     },
     "metadata": {},
     "output_type": "display_data"
    },
    {
     "name": "stdout",
     "output_type": "stream",
     "text": [
      "Canis_lupus_familiaris_RNA-Seq_read_counts_TPM_FPKM/Canis_lupus_familiaris_RNA-Seq_read_counts_TPM_FPKM_SRP114662.tsv.gz\n"
     ]
    },
    {
     "data": {
      "application/vnd.jupyter.widget-view+json": {
       "model_id": "fdc345e25a864db5ac8fe1dd380e2ad4",
       "version_major": 2,
       "version_minor": 0
      },
      "text/plain": [
       "0it [00:00, ?it/s]"
      ]
     },
     "metadata": {},
     "output_type": "display_data"
    },
    {
     "name": "stdout",
     "output_type": "stream",
     "text": [
      "Canis_lupus_familiaris_RNA-Seq_read_counts_TPM_FPKM/Canis_lupus_familiaris_RNA-Seq_read_counts_TPM_FPKM_SRP081080.tsv.gz\n"
     ]
    },
    {
     "data": {
      "application/vnd.jupyter.widget-view+json": {
       "model_id": "c507cc9d7c284be7a1a952dea5fd68d3",
       "version_major": 2,
       "version_minor": 0
      },
      "text/plain": [
       "0it [00:00, ?it/s]"
      ]
     },
     "metadata": {},
     "output_type": "display_data"
    },
    {
     "name": "stdout",
     "output_type": "stream",
     "text": [
      "Canis_lupus_familiaris_RNA-Seq_read_counts_TPM_FPKM/Canis_lupus_familiaris_RNA-Seq_read_counts_TPM_FPKM_SRP009687.tsv.gz\n"
     ]
    },
    {
     "data": {
      "application/vnd.jupyter.widget-view+json": {
       "model_id": "59c16cafc3744fc082d6162325169033",
       "version_major": 2,
       "version_minor": 0
      },
      "text/plain": [
       "0it [00:00, ?it/s]"
      ]
     },
     "metadata": {},
     "output_type": "display_data"
    },
    {
     "name": "stdout",
     "output_type": "stream",
     "text": [
      "Canis_lupus_familiaris_RNA-Seq_read_counts_TPM_FPKM/Canis_lupus_familiaris_RNA-Seq_read_counts_TPM_FPKM_SRP012049.tsv.gz\n"
     ]
    },
    {
     "data": {
      "application/vnd.jupyter.widget-view+json": {
       "model_id": "b7d3ac639b0d44649896dcd457c92956",
       "version_major": 2,
       "version_minor": 0
      },
      "text/plain": [
       "0it [00:00, ?it/s]"
      ]
     },
     "metadata": {},
     "output_type": "display_data"
    },
    {
     "name": "stdout",
     "output_type": "stream",
     "text": [
      "Danio_rerio\n"
     ]
    },
    {
     "data": {
      "application/vnd.jupyter.widget-view+json": {
       "model_id": "f00779aec8d5435c81a20ab1bf606547",
       "version_major": 2,
       "version_minor": 0
      },
      "text/plain": [
       "  0%|          | 0/18 [00:00<?, ?it/s]"
      ]
     },
     "metadata": {},
     "output_type": "display_data"
    },
    {
     "name": "stdout",
     "output_type": "stream",
     "text": [
      "Danio_rerio_RNA-Seq_read_counts_TPM_FPKM/Danio_rerio_RNA-Seq_read_counts_TPM_FPKM_SRP056356.tsv.gz\n"
     ]
    },
    {
     "data": {
      "application/vnd.jupyter.widget-view+json": {
       "model_id": "1ce25e166b804d5cb866df14b9840e6f",
       "version_major": 2,
       "version_minor": 0
      },
      "text/plain": [
       "0it [00:00, ?it/s]"
      ]
     },
     "metadata": {},
     "output_type": "display_data"
    },
    {
     "name": "stdout",
     "output_type": "stream",
     "text": [
      "Danio_rerio_RNA-Seq_read_counts_TPM_FPKM/Danio_rerio_RNA-Seq_read_counts_TPM_FPKM_SRP123447.tsv.gz\n"
     ]
    },
    {
     "data": {
      "application/vnd.jupyter.widget-view+json": {
       "model_id": "8b2d072cf09e48fc8ea691487cfe66e3",
       "version_major": 2,
       "version_minor": 0
      },
      "text/plain": [
       "0it [00:00, ?it/s]"
      ]
     },
     "metadata": {},
     "output_type": "display_data"
    },
    {
     "name": "stdout",
     "output_type": "stream",
     "text": [
      "Danio_rerio_RNA-Seq_read_counts_TPM_FPKM/Danio_rerio_RNA-Seq_read_counts_TPM_FPKM_GSE39703.tsv.gz\n"
     ]
    },
    {
     "data": {
      "application/vnd.jupyter.widget-view+json": {
       "model_id": "4f9705c7591946aca888f445db37c24c",
       "version_major": 2,
       "version_minor": 0
      },
      "text/plain": [
       "0it [00:00, ?it/s]"
      ]
     },
     "metadata": {},
     "output_type": "display_data"
    },
    {
     "name": "stdout",
     "output_type": "stream",
     "text": [
      "Danio_rerio_RNA-Seq_read_counts_TPM_FPKM/Danio_rerio_RNA-Seq_read_counts_TPM_FPKM_SRP022612.tsv.gz\n"
     ]
    },
    {
     "data": {
      "application/vnd.jupyter.widget-view+json": {
       "model_id": "ec7a6a2774d24d33a1e12048735ad5d0",
       "version_major": 2,
       "version_minor": 0
      },
      "text/plain": [
       "0it [00:00, ?it/s]"
      ]
     },
     "metadata": {},
     "output_type": "display_data"
    },
    {
     "name": "stdout",
     "output_type": "stream",
     "text": [
      "Danio_rerio_RNA-Seq_read_counts_TPM_FPKM/Danio_rerio_RNA-Seq_read_counts_TPM_FPKM_SRP009426.tsv.gz\n"
     ]
    },
    {
     "data": {
      "application/vnd.jupyter.widget-view+json": {
       "model_id": "6480f3d149064385aba84db410836999",
       "version_major": 2,
       "version_minor": 0
      },
      "text/plain": [
       "0it [00:00, ?it/s]"
      ]
     },
     "metadata": {},
     "output_type": "display_data"
    },
    {
     "name": "stdout",
     "output_type": "stream",
     "text": [
      "Danio_rerio_RNA-Seq_read_counts_TPM_FPKM/Danio_rerio_RNA-Seq_read_counts_TPM_FPKM_GSE71681.tsv.gz\n"
     ]
    },
    {
     "data": {
      "application/vnd.jupyter.widget-view+json": {
       "model_id": "12d945b69e7241d5be26afc7712b8ff6",
       "version_major": 2,
       "version_minor": 0
      },
      "text/plain": [
       "0it [00:00, ?it/s]"
      ]
     },
     "metadata": {},
     "output_type": "display_data"
    },
    {
     "name": "stdout",
     "output_type": "stream",
     "text": [
      "Danio_rerio_RNA-Seq_read_counts_TPM_FPKM/Danio_rerio_RNA-Seq_read_counts_TPM_FPKM_GSE63133.tsv.gz\n"
     ]
    },
    {
     "data": {
      "application/vnd.jupyter.widget-view+json": {
       "model_id": "c6cbfe1c5b104edea67bdb0d06e92be6",
       "version_major": 2,
       "version_minor": 0
      },
      "text/plain": [
       "0it [00:00, ?it/s]"
      ]
     },
     "metadata": {},
     "output_type": "display_data"
    },
    {
     "name": "stdout",
     "output_type": "stream",
     "text": [
      "Danio_rerio_RNA-Seq_read_counts_TPM_FPKM/Danio_rerio_RNA-Seq_read_counts_TPM_FPKM_GSE68666.tsv.gz\n"
     ]
    },
    {
     "data": {
      "application/vnd.jupyter.widget-view+json": {
       "model_id": "fb497f1eab4f498da75fe845584abc02",
       "version_major": 2,
       "version_minor": 0
      },
      "text/plain": [
       "0it [00:00, ?it/s]"
      ]
     },
     "metadata": {},
     "output_type": "display_data"
    },
    {
     "name": "stdout",
     "output_type": "stream",
     "text": [
      "Danio_rerio_RNA-Seq_read_counts_TPM_FPKM/Danio_rerio_RNA-Seq_read_counts_TPM_FPKM_SRP112616.tsv.gz\n"
     ]
    },
    {
     "data": {
      "application/vnd.jupyter.widget-view+json": {
       "model_id": "db84b50b9a514d51a65dd5bbccdda6fe",
       "version_major": 2,
       "version_minor": 0
      },
      "text/plain": [
       "0it [00:00, ?it/s]"
      ]
     },
     "metadata": {},
     "output_type": "display_data"
    },
    {
     "name": "stdout",
     "output_type": "stream",
     "text": [
      "Danio_rerio_RNA-Seq_read_counts_TPM_FPKM/Danio_rerio_RNA-Seq_read_counts_TPM_FPKM_SRP092128.tsv.gz\n"
     ]
    },
    {
     "data": {
      "application/vnd.jupyter.widget-view+json": {
       "model_id": "4f0793c6bcff473e86db7a74b6d53024",
       "version_major": 2,
       "version_minor": 0
      },
      "text/plain": [
       "0it [00:00, ?it/s]"
      ]
     },
     "metadata": {},
     "output_type": "display_data"
    },
    {
     "name": "stdout",
     "output_type": "stream",
     "text": [
      "Danio_rerio_RNA-Seq_read_counts_TPM_FPKM/Danio_rerio_RNA-Seq_read_counts_TPM_FPKM_GSE42846.tsv.gz\n"
     ]
    },
    {
     "data": {
      "application/vnd.jupyter.widget-view+json": {
       "model_id": "20f2e3780c4c49a19d49e72eb329d77d",
       "version_major": 2,
       "version_minor": 0
      },
      "text/plain": [
       "0it [00:00, ?it/s]"
      ]
     },
     "metadata": {},
     "output_type": "display_data"
    },
    {
     "name": "stdout",
     "output_type": "stream",
     "text": [
      "Danio_rerio_RNA-Seq_read_counts_TPM_FPKM/Danio_rerio_RNA-Seq_read_counts_TPM_FPKM_SRP081209.tsv.gz\n"
     ]
    },
    {
     "data": {
      "application/vnd.jupyter.widget-view+json": {
       "model_id": "76d3bc28bdeb4ccf8f1e2cb4a67190e2",
       "version_major": 2,
       "version_minor": 0
      },
      "text/plain": [
       "0it [00:00, ?it/s]"
      ]
     },
     "metadata": {},
     "output_type": "display_data"
    },
    {
     "name": "stdout",
     "output_type": "stream",
     "text": [
      "Danio_rerio_RNA-Seq_read_counts_TPM_FPKM/Danio_rerio_RNA-Seq_read_counts_TPM_FPKM_GSE71755.tsv.gz\n"
     ]
    },
    {
     "data": {
      "application/vnd.jupyter.widget-view+json": {
       "model_id": "07775b98e12a48318f2f0ba55e48af05",
       "version_major": 2,
       "version_minor": 0
      },
      "text/plain": [
       "0it [00:00, ?it/s]"
      ]
     },
     "metadata": {},
     "output_type": "display_data"
    },
    {
     "name": "stdout",
     "output_type": "stream",
     "text": [
      "Danio_rerio_RNA-Seq_read_counts_TPM_FPKM/Danio_rerio_RNA-Seq_read_counts_TPM_FPKM_GSE63191.tsv.gz\n"
     ]
    },
    {
     "data": {
      "application/vnd.jupyter.widget-view+json": {
       "model_id": "33bd1f8b7cc14f69bf963df6882b0afe",
       "version_major": 2,
       "version_minor": 0
      },
      "text/plain": [
       "0it [00:00, ?it/s]"
      ]
     },
     "metadata": {},
     "output_type": "display_data"
    },
    {
     "name": "stdout",
     "output_type": "stream",
     "text": [
      "Danio_rerio_RNA-Seq_read_counts_TPM_FPKM/Danio_rerio_RNA-Seq_read_counts_TPM_FPKM_SRP142618.tsv.gz\n"
     ]
    },
    {
     "data": {
      "application/vnd.jupyter.widget-view+json": {
       "model_id": "ba2e2befae3043089be55af15f3f9940",
       "version_major": 2,
       "version_minor": 0
      },
      "text/plain": [
       "0it [00:00, ?it/s]"
      ]
     },
     "metadata": {},
     "output_type": "display_data"
    },
    {
     "name": "stdout",
     "output_type": "stream",
     "text": [
      "Danio_rerio_RNA-Seq_read_counts_TPM_FPKM/Danio_rerio_RNA-Seq_read_counts_TPM_FPKM_SRP044781.tsv.gz\n"
     ]
    },
    {
     "data": {
      "application/vnd.jupyter.widget-view+json": {
       "model_id": "6cd9ea0721ad407ea182b338f8e720b3",
       "version_major": 2,
       "version_minor": 0
      },
      "text/plain": [
       "0it [00:00, ?it/s]"
      ]
     },
     "metadata": {},
     "output_type": "display_data"
    },
    {
     "name": "stdout",
     "output_type": "stream",
     "text": [
      "Danio_rerio_RNA-Seq_read_counts_TPM_FPKM/Danio_rerio_RNA-Seq_read_counts_TPM_FPKM_ERP000447.tsv.gz\n"
     ]
    },
    {
     "data": {
      "application/vnd.jupyter.widget-view+json": {
       "model_id": "d105071f8917483887b267b8b3217cb8",
       "version_major": 2,
       "version_minor": 0
      },
      "text/plain": [
       "0it [00:00, ?it/s]"
      ]
     },
     "metadata": {},
     "output_type": "display_data"
    },
    {
     "name": "stdout",
     "output_type": "stream",
     "text": [
      "Danio_rerio_RNA-Seq_read_counts_TPM_FPKM/Danio_rerio_RNA-Seq_read_counts_TPM_FPKM_SRP055573.tsv.gz\n"
     ]
    },
    {
     "data": {
      "application/vnd.jupyter.widget-view+json": {
       "model_id": "131057e64b344096b70ee91d96e14457",
       "version_major": 2,
       "version_minor": 0
      },
      "text/plain": [
       "0it [00:00, ?it/s]"
      ]
     },
     "metadata": {},
     "output_type": "display_data"
    },
    {
     "name": "stdout",
     "output_type": "stream",
     "text": [
      "Drosophila_melanogaster\n"
     ]
    },
    {
     "data": {
      "application/vnd.jupyter.widget-view+json": {
       "model_id": "b50ede14cf9b410996f2a31b82fb1b06",
       "version_major": 2,
       "version_minor": 0
      },
      "text/plain": [
       "  0%|          | 0/12 [00:00<?, ?it/s]"
      ]
     },
     "metadata": {},
     "output_type": "display_data"
    },
    {
     "name": "stdout",
     "output_type": "stream",
     "text": [
      "Drosophila_melanogaster_RNA-Seq_read_counts_TPM_FPKM/Drosophila_melanogaster_RNA-Seq_read_counts_TPM_FPKM_SRP001696.tsv.gz\n"
     ]
    },
    {
     "data": {
      "application/vnd.jupyter.widget-view+json": {
       "model_id": "44d5aa1d419c4befab9237941423b36f",
       "version_major": 2,
       "version_minor": 0
      },
      "text/plain": [
       "0it [00:00, ?it/s]"
      ]
     },
     "metadata": {},
     "output_type": "display_data"
    },
    {
     "name": "stdout",
     "output_type": "stream",
     "text": [
      "Drosophila_melanogaster_RNA-Seq_read_counts_TPM_FPKM/Drosophila_melanogaster_RNA-Seq_read_counts_TPM_FPKM_GSE49587.tsv.gz\n"
     ]
    },
    {
     "data": {
      "application/vnd.jupyter.widget-view+json": {
       "model_id": "628be709b3754194af41bcac7d643081",
       "version_major": 2,
       "version_minor": 0
      },
      "text/plain": [
       "0it [00:00, ?it/s]"
      ]
     },
     "metadata": {},
     "output_type": "display_data"
    },
    {
     "name": "stdout",
     "output_type": "stream",
     "text": [
      "Drosophila_melanogaster_RNA-Seq_read_counts_TPM_FPKM/Drosophila_melanogaster_RNA-Seq_read_counts_TPM_FPKM_SRP073726.tsv.gz\n"
     ]
    },
    {
     "data": {
      "application/vnd.jupyter.widget-view+json": {
       "model_id": "1c3e7f856dae43849160128b61720490",
       "version_major": 2,
       "version_minor": 0
      },
      "text/plain": [
       "0it [00:00, ?it/s]"
      ]
     },
     "metadata": {},
     "output_type": "display_data"
    },
    {
     "name": "stdout",
     "output_type": "stream",
     "text": [
      "Drosophila_melanogaster_RNA-Seq_read_counts_TPM_FPKM/Drosophila_melanogaster_RNA-Seq_read_counts_TPM_FPKM_SRP099257.tsv.gz\n"
     ]
    },
    {
     "data": {
      "application/vnd.jupyter.widget-view+json": {
       "model_id": "6d72f0a9b0774e54ac6303f324c6e3cb",
       "version_major": 2,
       "version_minor": 0
      },
      "text/plain": [
       "0it [00:00, ?it/s]"
      ]
     },
     "metadata": {},
     "output_type": "display_data"
    },
    {
     "name": "stdout",
     "output_type": "stream",
     "text": [
      "Drosophila_melanogaster_RNA-Seq_read_counts_TPM_FPKM/Drosophila_melanogaster_RNA-Seq_read_counts_TPM_FPKM_SRP003905.tsv.gz\n"
     ]
    },
    {
     "data": {
      "application/vnd.jupyter.widget-view+json": {
       "model_id": "472c0c6c927f4a73a0b2afac790be8d4",
       "version_major": 2,
       "version_minor": 0
      },
      "text/plain": [
       "0it [00:00, ?it/s]"
      ]
     },
     "metadata": {},
     "output_type": "display_data"
    },
    {
     "name": "stdout",
     "output_type": "stream",
     "text": [
      "Drosophila_melanogaster_RNA-Seq_read_counts_TPM_FPKM/Drosophila_melanogaster_RNA-Seq_read_counts_TPM_FPKM_GSE44612.tsv.gz\n"
     ]
    },
    {
     "data": {
      "application/vnd.jupyter.widget-view+json": {
       "model_id": "07b525869a2a4eca84763191da3a4fbb",
       "version_major": 2,
       "version_minor": 0
      },
      "text/plain": [
       "0it [00:00, ?it/s]"
      ]
     },
     "metadata": {},
     "output_type": "display_data"
    },
    {
     "name": "stdout",
     "output_type": "stream",
     "text": [
      "Drosophila_melanogaster_RNA-Seq_read_counts_TPM_FPKM/Drosophila_melanogaster_RNA-Seq_read_counts_TPM_FPKM_GSE38998.tsv.gz\n"
     ]
    },
    {
     "data": {
      "application/vnd.jupyter.widget-view+json": {
       "model_id": "b15587d15f3841708a1d6218f4032813",
       "version_major": 2,
       "version_minor": 0
      },
      "text/plain": [
       "0it [00:00, ?it/s]"
      ]
     },
     "metadata": {},
     "output_type": "display_data"
    },
    {
     "name": "stdout",
     "output_type": "stream",
     "text": [
      "Drosophila_melanogaster_RNA-Seq_read_counts_TPM_FPKM/Drosophila_melanogaster_RNA-Seq_read_counts_TPM_FPKM_SRP103757.tsv.gz\n"
     ]
    },
    {
     "data": {
      "application/vnd.jupyter.widget-view+json": {
       "model_id": "0776850afabe4488bbee82ca26a7ecc5",
       "version_major": 2,
       "version_minor": 0
      },
      "text/plain": [
       "0it [00:00, ?it/s]"
      ]
     },
     "metadata": {},
     "output_type": "display_data"
    },
    {
     "name": "stdout",
     "output_type": "stream",
     "text": [
      "Drosophila_melanogaster_RNA-Seq_read_counts_TPM_FPKM/Drosophila_melanogaster_RNA-Seq_read_counts_TPM_FPKM_SRP125768.tsv.gz\n"
     ]
    },
    {
     "data": {
      "application/vnd.jupyter.widget-view+json": {
       "model_id": "e22522b1ac7c4d0c939fd1d4d787392b",
       "version_major": 2,
       "version_minor": 0
      },
      "text/plain": [
       "0it [00:00, ?it/s]"
      ]
     },
     "metadata": {},
     "output_type": "display_data"
    },
    {
     "name": "stdout",
     "output_type": "stream",
     "text": [
      "Drosophila_melanogaster_RNA-Seq_read_counts_TPM_FPKM/Drosophila_melanogaster_RNA-Seq_read_counts_TPM_FPKM_SRP011074.tsv.gz\n"
     ]
    },
    {
     "data": {
      "application/vnd.jupyter.widget-view+json": {
       "model_id": "cdbb10f508ef4384aaa143c20cd42da2",
       "version_major": 2,
       "version_minor": 0
      },
      "text/plain": [
       "0it [00:00, ?it/s]"
      ]
     },
     "metadata": {},
     "output_type": "display_data"
    },
    {
     "name": "stdout",
     "output_type": "stream",
     "text": [
      "Drosophila_melanogaster_RNA-Seq_read_counts_TPM_FPKM/Drosophila_melanogaster_RNA-Seq_read_counts_TPM_FPKM_SRP002072.tsv.gz\n"
     ]
    },
    {
     "data": {
      "application/vnd.jupyter.widget-view+json": {
       "model_id": "295f3af736224417a701f4a8e052c8f3",
       "version_major": 2,
       "version_minor": 0
      },
      "text/plain": [
       "0it [00:00, ?it/s]"
      ]
     },
     "metadata": {},
     "output_type": "display_data"
    },
    {
     "name": "stdout",
     "output_type": "stream",
     "text": [
      "Drosophila_melanogaster_RNA-Seq_read_counts_TPM_FPKM/Drosophila_melanogaster_RNA-Seq_read_counts_TPM_FPKM_SRP009459.tsv.gz\n"
     ]
    },
    {
     "data": {
      "application/vnd.jupyter.widget-view+json": {
       "model_id": "8411ad282b224b76a966c6c79b5607ee",
       "version_major": 2,
       "version_minor": 0
      },
      "text/plain": [
       "0it [00:00, ?it/s]"
      ]
     },
     "metadata": {},
     "output_type": "display_data"
    },
    {
     "name": "stdout",
     "output_type": "stream",
     "text": [
      "Equus_caballus\n"
     ]
    },
    {
     "data": {
      "application/vnd.jupyter.widget-view+json": {
       "model_id": "939fc2b27ac94c65b752cbd484540717",
       "version_major": 2,
       "version_minor": 0
      },
      "text/plain": [
       "  0%|          | 0/25 [00:00<?, ?it/s]"
      ]
     },
     "metadata": {},
     "output_type": "display_data"
    },
    {
     "name": "stdout",
     "output_type": "stream",
     "text": [
      "Equus_caballus_RNA-Seq_read_counts_TPM_FPKM/Equus_caballus_RNA-Seq_read_counts_TPM_FPKM_SRP064530.tsv.gz\n"
     ]
    },
    {
     "data": {
      "application/vnd.jupyter.widget-view+json": {
       "model_id": "f003031c92a44c0ca829d8d81b9d78c9",
       "version_major": 2,
       "version_minor": 0
      },
      "text/plain": [
       "0it [00:00, ?it/s]"
      ]
     },
     "metadata": {},
     "output_type": "display_data"
    },
    {
     "name": "stdout",
     "output_type": "stream",
     "text": [
      "Equus_caballus_RNA-Seq_read_counts_TPM_FPKM/Equus_caballus_RNA-Seq_read_counts_TPM_FPKM_ERP006861.tsv.gz\n"
     ]
    },
    {
     "data": {
      "application/vnd.jupyter.widget-view+json": {
       "model_id": "5f0df52f757a4b5f9cbca5cd4b2f03bc",
       "version_major": 2,
       "version_minor": 0
      },
      "text/plain": [
       "0it [00:00, ?it/s]"
      ]
     },
     "metadata": {},
     "output_type": "display_data"
    },
    {
     "name": "stdout",
     "output_type": "stream",
     "text": [
      "Equus_caballus_RNA-Seq_read_counts_TPM_FPKM/Equus_caballus_RNA-Seq_read_counts_TPM_FPKM_SRP007347.tsv.gz\n"
     ]
    },
    {
     "data": {
      "application/vnd.jupyter.widget-view+json": {
       "model_id": "4a8673963af3402083f68590ed2a75ff",
       "version_major": 2,
       "version_minor": 0
      },
      "text/plain": [
       "0it [00:00, ?it/s]"
      ]
     },
     "metadata": {},
     "output_type": "display_data"
    },
    {
     "name": "stdout",
     "output_type": "stream",
     "text": [
      "Equus_caballus_RNA-Seq_read_counts_TPM_FPKM/Equus_caballus_RNA-Seq_read_counts_TPM_FPKM_SRP082291.tsv.gz\n"
     ]
    },
    {
     "data": {
      "application/vnd.jupyter.widget-view+json": {
       "model_id": "09fa355b1fd34534bca02748f6689b36",
       "version_major": 2,
       "version_minor": 0
      },
      "text/plain": [
       "0it [00:00, ?it/s]"
      ]
     },
     "metadata": {},
     "output_type": "display_data"
    },
    {
     "name": "stdout",
     "output_type": "stream",
     "text": [
      "Equus_caballus_RNA-Seq_read_counts_TPM_FPKM/Equus_caballus_RNA-Seq_read_counts_TPM_FPKM_GSE43013.tsv.gz\n"
     ]
    },
    {
     "data": {
      "application/vnd.jupyter.widget-view+json": {
       "model_id": "3cac3cf4c3e04375a71dfca5b23fe507",
       "version_major": 2,
       "version_minor": 0
      },
      "text/plain": [
       "0it [00:00, ?it/s]"
      ]
     },
     "metadata": {},
     "output_type": "display_data"
    },
    {
     "name": "stdout",
     "output_type": "stream",
     "text": [
      "Equus_caballus_RNA-Seq_read_counts_TPM_FPKM/Equus_caballus_RNA-Seq_read_counts_TPM_FPKM_SRP051087.tsv.gz\n"
     ]
    },
    {
     "data": {
      "application/vnd.jupyter.widget-view+json": {
       "model_id": "2160ea3e7d644159a9c4b91dc9ce990b",
       "version_major": 2,
       "version_minor": 0
      },
      "text/plain": [
       "0it [00:00, ?it/s]"
      ]
     },
     "metadata": {},
     "output_type": "display_data"
    },
    {
     "name": "stdout",
     "output_type": "stream",
     "text": [
      "Equus_caballus_RNA-Seq_read_counts_TPM_FPKM/Equus_caballus_RNA-Seq_read_counts_TPM_FPKM_SRP076617.tsv.gz\n"
     ]
    },
    {
     "data": {
      "application/vnd.jupyter.widget-view+json": {
       "model_id": "117fa4c4c9bb4943ac5b68e21a9ce546",
       "version_major": 2,
       "version_minor": 0
      },
      "text/plain": [
       "0it [00:00, ?it/s]"
      ]
     },
     "metadata": {},
     "output_type": "display_data"
    },
    {
     "name": "stdout",
     "output_type": "stream",
     "text": [
      "Equus_caballus_RNA-Seq_read_counts_TPM_FPKM/Equus_caballus_RNA-Seq_read_counts_TPM_FPKM_SRP022567.tsv.gz\n"
     ]
    },
    {
     "data": {
      "application/vnd.jupyter.widget-view+json": {
       "model_id": "962c4e5522ab42debf0c80f5266c9ab3",
       "version_major": 2,
       "version_minor": 0
      },
      "text/plain": [
       "0it [00:00, ?it/s]"
      ]
     },
     "metadata": {},
     "output_type": "display_data"
    },
    {
     "name": "stdout",
     "output_type": "stream",
     "text": [
      "Equus_caballus_RNA-Seq_read_counts_TPM_FPKM/Equus_caballus_RNA-Seq_read_counts_TPM_FPKM_SRP049589.tsv.gz\n"
     ]
    },
    {
     "data": {
      "application/vnd.jupyter.widget-view+json": {
       "model_id": "7996027a34d14f5ab62a0f92838ecde2",
       "version_major": 2,
       "version_minor": 0
      },
      "text/plain": [
       "0it [00:00, ?it/s]"
      ]
     },
     "metadata": {},
     "output_type": "display_data"
    },
    {
     "name": "stdout",
     "output_type": "stream",
     "text": [
      "Equus_caballus_RNA-Seq_read_counts_TPM_FPKM/Equus_caballus_RNA-Seq_read_counts_TPM_FPKM_SRP075700.tsv.gz\n"
     ]
    },
    {
     "data": {
      "application/vnd.jupyter.widget-view+json": {
       "model_id": "278ca3eaf2bf44a5bc6ba74d7239e629",
       "version_major": 2,
       "version_minor": 0
      },
      "text/plain": [
       "0it [00:00, ?it/s]"
      ]
     },
     "metadata": {},
     "output_type": "display_data"
    },
    {
     "name": "stdout",
     "output_type": "stream",
     "text": [
      "Equus_caballus_RNA-Seq_read_counts_TPM_FPKM/Equus_caballus_RNA-Seq_read_counts_TPM_FPKM_SRP091779.tsv.gz\n"
     ]
    },
    {
     "data": {
      "application/vnd.jupyter.widget-view+json": {
       "model_id": "18f856e9982b4dffbcc2b0e271961409",
       "version_major": 2,
       "version_minor": 0
      },
      "text/plain": [
       "0it [00:00, ?it/s]"
      ]
     },
     "metadata": {},
     "output_type": "display_data"
    },
    {
     "name": "stdout",
     "output_type": "stream",
     "text": [
      "Equus_caballus_RNA-Seq_read_counts_TPM_FPKM/Equus_caballus_RNA-Seq_read_counts_TPM_FPKM_SRP031504.tsv.gz\n"
     ]
    },
    {
     "data": {
      "application/vnd.jupyter.widget-view+json": {
       "model_id": "da73eb10667a4f398471ec412681129c",
       "version_major": 2,
       "version_minor": 0
      },
      "text/plain": [
       "0it [00:00, ?it/s]"
      ]
     },
     "metadata": {},
     "output_type": "display_data"
    },
    {
     "name": "stdout",
     "output_type": "stream",
     "text": [
      "Equus_caballus_RNA-Seq_read_counts_TPM_FPKM/Equus_caballus_RNA-Seq_read_counts_TPM_FPKM_SRP113232.tsv.gz\n"
     ]
    },
    {
     "data": {
      "application/vnd.jupyter.widget-view+json": {
       "model_id": "ffc68be5d0f44139be9ff5fe1d99bf7d",
       "version_major": 2,
       "version_minor": 0
      },
      "text/plain": [
       "0it [00:00, ?it/s]"
      ]
     },
     "metadata": {},
     "output_type": "display_data"
    },
    {
     "name": "stdout",
     "output_type": "stream",
     "text": [
      "Equus_caballus_RNA-Seq_read_counts_TPM_FPKM/Equus_caballus_RNA-Seq_read_counts_TPM_FPKM_SRP082454.tsv.gz\n"
     ]
    },
    {
     "data": {
      "application/vnd.jupyter.widget-view+json": {
       "model_id": "ee198ee9e9984bc1b98a8de73f8eed76",
       "version_major": 2,
       "version_minor": 0
      },
      "text/plain": [
       "0it [00:00, ?it/s]"
      ]
     },
     "metadata": {},
     "output_type": "display_data"
    },
    {
     "name": "stdout",
     "output_type": "stream",
     "text": [
      "Equus_caballus_RNA-Seq_read_counts_TPM_FPKM/Equus_caballus_RNA-Seq_read_counts_TPM_FPKM_ERP001525.tsv.gz\n"
     ]
    },
    {
     "data": {
      "application/vnd.jupyter.widget-view+json": {
       "model_id": "7de69d540d7149d0920f2ffbc4c37ead",
       "version_major": 2,
       "version_minor": 0
      },
      "text/plain": [
       "0it [00:00, ?it/s]"
      ]
     },
     "metadata": {},
     "output_type": "display_data"
    },
    {
     "name": "stdout",
     "output_type": "stream",
     "text": [
      "Equus_caballus_RNA-Seq_read_counts_TPM_FPKM/Equus_caballus_RNA-Seq_read_counts_TPM_FPKM_SRP106023.tsv.gz\n"
     ]
    },
    {
     "data": {
      "application/vnd.jupyter.widget-view+json": {
       "model_id": "22ddd68f1db544ff837f1d2affccfad4",
       "version_major": 2,
       "version_minor": 0
      },
      "text/plain": [
       "0it [00:00, ?it/s]"
      ]
     },
     "metadata": {},
     "output_type": "display_data"
    },
    {
     "name": "stdout",
     "output_type": "stream",
     "text": [
      "Equus_caballus_RNA-Seq_read_counts_TPM_FPKM/Equus_caballus_RNA-Seq_read_counts_TPM_FPKM_ERP005568.tsv.gz\n"
     ]
    },
    {
     "data": {
      "application/vnd.jupyter.widget-view+json": {
       "model_id": "a6f97aa22a124bf89cbc000be63f4b0c",
       "version_major": 2,
       "version_minor": 0
      },
      "text/plain": [
       "0it [00:00, ?it/s]"
      ]
     },
     "metadata": {},
     "output_type": "display_data"
    },
    {
     "name": "stdout",
     "output_type": "stream",
     "text": [
      "Equus_caballus_RNA-Seq_read_counts_TPM_FPKM/Equus_caballus_RNA-Seq_read_counts_TPM_FPKM_SRP021940.tsv.gz\n"
     ]
    },
    {
     "data": {
      "application/vnd.jupyter.widget-view+json": {
       "model_id": "87a78f1547ad4fbdaf55b75c7e5036d7",
       "version_major": 2,
       "version_minor": 0
      },
      "text/plain": [
       "0it [00:00, ?it/s]"
      ]
     },
     "metadata": {},
     "output_type": "display_data"
    },
    {
     "name": "stdout",
     "output_type": "stream",
     "text": [
      "Equus_caballus_RNA-Seq_read_counts_TPM_FPKM/Equus_caballus_RNA-Seq_read_counts_TPM_FPKM_SRP073514.tsv.gz\n"
     ]
    },
    {
     "data": {
      "application/vnd.jupyter.widget-view+json": {
       "model_id": "39c23980ea2c4bd5a92f6a6a1f80c151",
       "version_major": 2,
       "version_minor": 0
      },
      "text/plain": [
       "0it [00:00, ?it/s]"
      ]
     },
     "metadata": {},
     "output_type": "display_data"
    },
    {
     "name": "stdout",
     "output_type": "stream",
     "text": [
      "Equus_caballus_RNA-Seq_read_counts_TPM_FPKM/Equus_caballus_RNA-Seq_read_counts_TPM_FPKM_ERP001524.tsv.gz\n"
     ]
    },
    {
     "data": {
      "application/vnd.jupyter.widget-view+json": {
       "model_id": "1972120905fe4d92bba422262e3b2f7a",
       "version_major": 2,
       "version_minor": 0
      },
      "text/plain": [
       "0it [00:00, ?it/s]"
      ]
     },
     "metadata": {},
     "output_type": "display_data"
    },
    {
     "name": "stdout",
     "output_type": "stream",
     "text": [
      "Equus_caballus_RNA-Seq_read_counts_TPM_FPKM/Equus_caballus_RNA-Seq_read_counts_TPM_FPKM_SRP061328.tsv.gz\n"
     ]
    },
    {
     "data": {
      "application/vnd.jupyter.widget-view+json": {
       "model_id": "f7d90924688a4f8d9c2431b303ed8ce6",
       "version_major": 2,
       "version_minor": 0
      },
      "text/plain": [
       "0it [00:00, ?it/s]"
      ]
     },
     "metadata": {},
     "output_type": "display_data"
    },
    {
     "name": "stdout",
     "output_type": "stream",
     "text": [
      "Equus_caballus_RNA-Seq_read_counts_TPM_FPKM/Equus_caballus_RNA-Seq_read_counts_TPM_FPKM_SRP082342.tsv.gz\n"
     ]
    },
    {
     "data": {
      "application/vnd.jupyter.widget-view+json": {
       "model_id": "e27bcae9f9fc481fb08f0c9fc02252f6",
       "version_major": 2,
       "version_minor": 0
      },
      "text/plain": [
       "0it [00:00, ?it/s]"
      ]
     },
     "metadata": {},
     "output_type": "display_data"
    },
    {
     "name": "stdout",
     "output_type": "stream",
     "text": [
      "Equus_caballus_RNA-Seq_read_counts_TPM_FPKM/Equus_caballus_RNA-Seq_read_counts_TPM_FPKM_SRP012972.tsv.gz\n"
     ]
    },
    {
     "data": {
      "application/vnd.jupyter.widget-view+json": {
       "model_id": "bdc562a5756a475baf850d55530442ac",
       "version_major": 2,
       "version_minor": 0
      },
      "text/plain": [
       "0it [00:00, ?it/s]"
      ]
     },
     "metadata": {},
     "output_type": "display_data"
    },
    {
     "name": "stdout",
     "output_type": "stream",
     "text": [
      "Equus_caballus_RNA-Seq_read_counts_TPM_FPKM/Equus_caballus_RNA-Seq_read_counts_TPM_FPKM_SRP082284.tsv.gz\n"
     ]
    },
    {
     "data": {
      "application/vnd.jupyter.widget-view+json": {
       "model_id": "be151a11643b4e829d77b8eaa62d7c0f",
       "version_major": 2,
       "version_minor": 0
      },
      "text/plain": [
       "0it [00:00, ?it/s]"
      ]
     },
     "metadata": {},
     "output_type": "display_data"
    },
    {
     "name": "stdout",
     "output_type": "stream",
     "text": [
      "Equus_caballus_RNA-Seq_read_counts_TPM_FPKM/Equus_caballus_RNA-Seq_read_counts_TPM_FPKM_SRP011379.tsv.gz\n"
     ]
    },
    {
     "data": {
      "application/vnd.jupyter.widget-view+json": {
       "model_id": "204b688e3e6f467d82132f4b476923a6",
       "version_major": 2,
       "version_minor": 0
      },
      "text/plain": [
       "0it [00:00, ?it/s]"
      ]
     },
     "metadata": {},
     "output_type": "display_data"
    },
    {
     "name": "stdout",
     "output_type": "stream",
     "text": [
      "Felis_catus\n"
     ]
    },
    {
     "data": {
      "application/vnd.jupyter.widget-view+json": {
       "model_id": "18fdcfdd77764872b6534aabce4a9002",
       "version_major": 2,
       "version_minor": 0
      },
      "text/plain": [
       "  0%|          | 0/6 [00:00<?, ?it/s]"
      ]
     },
     "metadata": {},
     "output_type": "display_data"
    },
    {
     "name": "stdout",
     "output_type": "stream",
     "text": [
      "Felis_catus_RNA-Seq_read_counts_TPM_FPKM/Felis_catus_RNA-Seq_read_counts_TPM_FPKM_SRP042944.tsv.gz\n"
     ]
    },
    {
     "data": {
      "application/vnd.jupyter.widget-view+json": {
       "model_id": "91cfbac3d085422182aedd3d05896055",
       "version_major": 2,
       "version_minor": 0
      },
      "text/plain": [
       "0it [00:00, ?it/s]"
      ]
     },
     "metadata": {},
     "output_type": "display_data"
    },
    {
     "name": "stdout",
     "output_type": "stream",
     "text": [
      "Felis_catus_RNA-Seq_read_counts_TPM_FPKM/Felis_catus_RNA-Seq_read_counts_TPM_FPKM_GSE43013.tsv.gz\n"
     ]
    },
    {
     "data": {
      "application/vnd.jupyter.widget-view+json": {
       "model_id": "aa9c1db51a8848c09826da91295634b1",
       "version_major": 2,
       "version_minor": 0
      },
      "text/plain": [
       "0it [00:00, ?it/s]"
      ]
     },
     "metadata": {},
     "output_type": "display_data"
    },
    {
     "name": "stdout",
     "output_type": "stream",
     "text": [
      "Felis_catus_RNA-Seq_read_counts_TPM_FPKM/Felis_catus_RNA-Seq_read_counts_TPM_FPKM_ERP014610.tsv.gz\n"
     ]
    },
    {
     "data": {
      "application/vnd.jupyter.widget-view+json": {
       "model_id": "13e07d8bc2e841b5b77d27acef0584d2",
       "version_major": 2,
       "version_minor": 0
      },
      "text/plain": [
       "0it [00:00, ?it/s]"
      ]
     },
     "metadata": {},
     "output_type": "display_data"
    },
    {
     "name": "stdout",
     "output_type": "stream",
     "text": [
      "Felis_catus_RNA-Seq_read_counts_TPM_FPKM/Felis_catus_RNA-Seq_read_counts_TPM_FPKM_SRP063937.tsv.gz\n"
     ]
    },
    {
     "data": {
      "application/vnd.jupyter.widget-view+json": {
       "model_id": "56c8a005940a4ebca069084e10e3d35d",
       "version_major": 2,
       "version_minor": 0
      },
      "text/plain": [
       "0it [00:00, ?it/s]"
      ]
     },
     "metadata": {},
     "output_type": "display_data"
    },
    {
     "name": "stdout",
     "output_type": "stream",
     "text": [
      "Felis_catus_RNA-Seq_read_counts_TPM_FPKM/Felis_catus_RNA-Seq_read_counts_TPM_FPKM_SRP115024.tsv.gz\n"
     ]
    },
    {
     "data": {
      "application/vnd.jupyter.widget-view+json": {
       "model_id": "35e4d67c950f48d3a83e35f1f58f1aa3",
       "version_major": 2,
       "version_minor": 0
      },
      "text/plain": [
       "0it [00:00, ?it/s]"
      ]
     },
     "metadata": {},
     "output_type": "display_data"
    },
    {
     "name": "stdout",
     "output_type": "stream",
     "text": [
      "Felis_catus_RNA-Seq_read_counts_TPM_FPKM/Felis_catus_RNA-Seq_read_counts_TPM_FPKM_SRP071078.tsv.gz\n"
     ]
    },
    {
     "data": {
      "application/vnd.jupyter.widget-view+json": {
       "model_id": "23984579090144b5b30dc420e8ebc6e5",
       "version_major": 2,
       "version_minor": 0
      },
      "text/plain": [
       "0it [00:00, ?it/s]"
      ]
     },
     "metadata": {},
     "output_type": "display_data"
    },
    {
     "name": "stdout",
     "output_type": "stream",
     "text": [
      "Gallus_gallus\n"
     ]
    },
    {
     "data": {
      "application/vnd.jupyter.widget-view+json": {
       "model_id": "6a5bc90f30fc407eaecae55ff24f1fa6",
       "version_major": 2,
       "version_minor": 0
      },
      "text/plain": [
       "  0%|          | 0/7 [00:00<?, ?it/s]"
      ]
     },
     "metadata": {},
     "output_type": "display_data"
    },
    {
     "name": "stdout",
     "output_type": "stream",
     "text": [
      "Gallus_gallus_RNA-Seq_read_counts_TPM_FPKM/Gallus_gallus_RNA-Seq_read_counts_TPM_FPKM_SRP092128.tsv.gz\n"
     ]
    },
    {
     "data": {
      "application/vnd.jupyter.widget-view+json": {
       "model_id": "f0fd66435f1b442e8d725fa8080d82f5",
       "version_major": 2,
       "version_minor": 0
      },
      "text/plain": [
       "0it [00:00, ?it/s]"
      ]
     },
     "metadata": {},
     "output_type": "display_data"
    },
    {
     "name": "stdout",
     "output_type": "stream",
     "text": [
      "Gallus_gallus_RNA-Seq_read_counts_TPM_FPKM/Gallus_gallus_RNA-Seq_read_counts_TPM_FPKM_GSE41637.tsv.gz\n"
     ]
    },
    {
     "data": {
      "application/vnd.jupyter.widget-view+json": {
       "model_id": "ec18371b7bbe4898a3c71a48206e9060",
       "version_major": 2,
       "version_minor": 0
      },
      "text/plain": [
       "0it [00:00, ?it/s]"
      ]
     },
     "metadata": {},
     "output_type": "display_data"
    },
    {
     "name": "stdout",
     "output_type": "stream",
     "text": [
      "Gallus_gallus_RNA-Seq_read_counts_TPM_FPKM/Gallus_gallus_RNA-Seq_read_counts_TPM_FPKM_SRP057141.tsv.gz\n"
     ]
    },
    {
     "data": {
      "application/vnd.jupyter.widget-view+json": {
       "model_id": "a150c1d978574e44babee0d65510f160",
       "version_major": 2,
       "version_minor": 0
      },
      "text/plain": [
       "0it [00:00, ?it/s]"
      ]
     },
     "metadata": {},
     "output_type": "display_data"
    },
    {
     "name": "stdout",
     "output_type": "stream",
     "text": [
      "Gallus_gallus_RNA-Seq_read_counts_TPM_FPKM/Gallus_gallus_RNA-Seq_read_counts_TPM_FPKM_GSE43520.tsv.gz\n"
     ]
    },
    {
     "data": {
      "application/vnd.jupyter.widget-view+json": {
       "model_id": "1cdf1cc976c34ba7aecd2ab321cf823c",
       "version_major": 2,
       "version_minor": 0
      },
      "text/plain": [
       "0it [00:00, ?it/s]"
      ]
     },
     "metadata": {},
     "output_type": "display_data"
    },
    {
     "name": "stdout",
     "output_type": "stream",
     "text": [
      "Gallus_gallus_RNA-Seq_read_counts_TPM_FPKM/Gallus_gallus_RNA-Seq_read_counts_TPM_FPKM_SRP097223.tsv.gz\n"
     ]
    },
    {
     "data": {
      "application/vnd.jupyter.widget-view+json": {
       "model_id": "5a33a59367364273b35ee5dfda71b5b8",
       "version_major": 2,
       "version_minor": 0
      },
      "text/plain": [
       "0it [00:00, ?it/s]"
      ]
     },
     "metadata": {},
     "output_type": "display_data"
    },
    {
     "name": "stdout",
     "output_type": "stream",
     "text": [
      "Gallus_gallus_RNA-Seq_read_counts_TPM_FPKM/Gallus_gallus_RNA-Seq_read_counts_TPM_FPKM_GSE30352.tsv.gz\n"
     ]
    },
    {
     "data": {
      "application/vnd.jupyter.widget-view+json": {
       "model_id": "aa44d80121714e4b829493379bf974a6",
       "version_major": 2,
       "version_minor": 0
      },
      "text/plain": [
       "0it [00:00, ?it/s]"
      ]
     },
     "metadata": {},
     "output_type": "display_data"
    },
    {
     "name": "stdout",
     "output_type": "stream",
     "text": [
      "Gallus_gallus_RNA-Seq_read_counts_TPM_FPKM/Gallus_gallus_RNA-Seq_read_counts_TPM_FPKM_GSE41338.tsv.gz\n"
     ]
    },
    {
     "data": {
      "application/vnd.jupyter.widget-view+json": {
       "model_id": "bb56db8e8fcd44b6ae16f005a976c449",
       "version_major": 2,
       "version_minor": 0
      },
      "text/plain": [
       "0it [00:00, ?it/s]"
      ]
     },
     "metadata": {},
     "output_type": "display_data"
    },
    {
     "name": "stdout",
     "output_type": "stream",
     "text": [
      "Gorilla_gorilla\n"
     ]
    },
    {
     "data": {
      "application/vnd.jupyter.widget-view+json": {
       "model_id": "5cbeeca7036f48f69200e728cba8b045",
       "version_major": 2,
       "version_minor": 0
      },
      "text/plain": [
       "  0%|          | 0/3 [00:00<?, ?it/s]"
      ]
     },
     "metadata": {},
     "output_type": "display_data"
    },
    {
     "name": "stdout",
     "output_type": "stream",
     "text": [
      "Gorilla_gorilla_RNA-Seq_read_counts_TPM_FPKM/Gorilla_gorilla_RNA-Seq_read_counts_TPM_FPKM_SRP021223.tsv.gz\n"
     ]
    },
    {
     "data": {
      "application/vnd.jupyter.widget-view+json": {
       "model_id": "d9948384d6de4240aff3426729b0f8d7",
       "version_major": 2,
       "version_minor": 0
      },
      "text/plain": [
       "0it [00:00, ?it/s]"
      ]
     },
     "metadata": {},
     "output_type": "display_data"
    },
    {
     "name": "stdout",
     "output_type": "stream",
     "text": [
      "Gorilla_gorilla_RNA-Seq_read_counts_TPM_FPKM/Gorilla_gorilla_RNA-Seq_read_counts_TPM_FPKM_GSE30352.tsv.gz\n"
     ]
    },
    {
     "data": {
      "application/vnd.jupyter.widget-view+json": {
       "model_id": "292a6b0cba634e05863ddb4d975ffdea",
       "version_major": 2,
       "version_minor": 0
      },
      "text/plain": [
       "0it [00:00, ?it/s]"
      ]
     },
     "metadata": {},
     "output_type": "display_data"
    },
    {
     "name": "stdout",
     "output_type": "stream",
     "text": [
      "Gorilla_gorilla_RNA-Seq_read_counts_TPM_FPKM/Gorilla_gorilla_RNA-Seq_read_counts_TPM_FPKM_GSE43520.tsv.gz\n"
     ]
    },
    {
     "data": {
      "application/vnd.jupyter.widget-view+json": {
       "model_id": "c268d86a45554a81ad36d705384f860a",
       "version_major": 2,
       "version_minor": 0
      },
      "text/plain": [
       "0it [00:00, ?it/s]"
      ]
     },
     "metadata": {},
     "output_type": "display_data"
    },
    {
     "name": "stdout",
     "output_type": "stream",
     "text": [
      "Homo_sapiens\n"
     ]
    },
    {
     "data": {
      "application/vnd.jupyter.widget-view+json": {
       "model_id": "660f413f57bf457daf733d97d9bb542e",
       "version_major": 2,
       "version_minor": 0
      },
      "text/plain": [
       "  0%|          | 0/41 [00:00<?, ?it/s]"
      ]
     },
     "metadata": {},
     "output_type": "display_data"
    },
    {
     "name": "stdout",
     "output_type": "stream",
     "text": [
      "Homo_sapiens_RNA-Seq_read_counts_TPM_FPKM_E-MTAB-2449.tsv.gz\n"
     ]
    },
    {
     "data": {
      "application/vnd.jupyter.widget-view+json": {
       "model_id": "4155ba2a813a46eb89132f007c76ccb7",
       "version_major": 2,
       "version_minor": 0
      },
      "text/plain": [
       "0it [00:00, ?it/s]"
      ]
     },
     "metadata": {},
     "output_type": "display_data"
    },
    {
     "name": "stdout",
     "output_type": "stream",
     "text": [
      "Homo_sapiens_RNA-Seq_read_counts_TPM_FPKM_ERP000787.tsv.gz\n"
     ]
    },
    {
     "data": {
      "application/vnd.jupyter.widget-view+json": {
       "model_id": "4a1e3631cb394940bce20699cda1c7e7",
       "version_major": 2,
       "version_minor": 0
      },
      "text/plain": [
       "0it [00:00, ?it/s]"
      ]
     },
     "metadata": {},
     "output_type": "display_data"
    },
    {
     "name": "stdout",
     "output_type": "stream",
     "text": [
      "Homo_sapiens_RNA-Seq_read_counts_TPM_FPKM_ERP003613.tsv.gz\n"
     ]
    },
    {
     "data": {
      "application/vnd.jupyter.widget-view+json": {
       "model_id": "0a13e5eb1bb84f059640df53c9aa71d3",
       "version_major": 2,
       "version_minor": 0
      },
      "text/plain": [
       "0it [00:00, ?it/s]"
      ]
     },
     "metadata": {},
     "output_type": "display_data"
    },
    {
     "name": "stdout",
     "output_type": "stream",
     "text": [
      "Homo_sapiens_RNA-Seq_read_counts_TPM_FPKM_ERP006650.tsv.gz\n"
     ]
    },
    {
     "data": {
      "application/vnd.jupyter.widget-view+json": {
       "model_id": "7947a6eda7df4779afe7b073ba291075",
       "version_major": 2,
       "version_minor": 0
      },
      "text/plain": [
       "0it [00:00, ?it/s]"
      ]
     },
     "metadata": {},
     "output_type": "display_data"
    },
    {
     "name": "stdout",
     "output_type": "stream",
     "text": [
      "Homo_sapiens_RNA-Seq_read_counts_TPM_FPKM_ERP006696.tsv.gz\n"
     ]
    },
    {
     "data": {
      "application/vnd.jupyter.widget-view+json": {
       "model_id": "0a7164041891411fbf4ac23a340682d4",
       "version_major": 2,
       "version_minor": 0
      },
      "text/plain": [
       "0it [00:00, ?it/s]"
      ]
     },
     "metadata": {},
     "output_type": "display_data"
    },
    {
     "name": "stdout",
     "output_type": "stream",
     "text": [
      "Homo_sapiens_RNA-Seq_read_counts_TPM_FPKM_ERP014610.tsv.gz\n"
     ]
    },
    {
     "data": {
      "application/vnd.jupyter.widget-view+json": {
       "model_id": "0fa2113ca55544399eda5f0dbe4b02ee",
       "version_major": 2,
       "version_minor": 0
      },
      "text/plain": [
       "0it [00:00, ?it/s]"
      ]
     },
     "metadata": {},
     "output_type": "display_data"
    },
    {
     "name": "stdout",
     "output_type": "stream",
     "text": [
      "Homo_sapiens_RNA-Seq_read_counts_TPM_FPKM_GSE30352.tsv.gz\n"
     ]
    },
    {
     "data": {
      "application/vnd.jupyter.widget-view+json": {
       "model_id": "0c2f6968c1ce4fdbaa68ff71ddfc3b87",
       "version_major": 2,
       "version_minor": 0
      },
      "text/plain": [
       "0it [00:00, ?it/s]"
      ]
     },
     "metadata": {},
     "output_type": "display_data"
    },
    {
     "name": "stdout",
     "output_type": "stream",
     "text": [
      "Homo_sapiens_RNA-Seq_read_counts_TPM_FPKM_GSE30611.tsv.gz\n"
     ]
    },
    {
     "data": {
      "application/vnd.jupyter.widget-view+json": {
       "model_id": "6562f07234c143f191937da73ff41844",
       "version_major": 2,
       "version_minor": 0
      },
      "text/plain": [
       "0it [00:00, ?it/s]"
      ]
     },
     "metadata": {},
     "output_type": "display_data"
    },
    {
     "name": "stdout",
     "output_type": "stream",
     "text": [
      "Homo_sapiens_RNA-Seq_read_counts_TPM_FPKM_GSE43520.tsv.gz\n"
     ]
    },
    {
     "data": {
      "application/vnd.jupyter.widget-view+json": {
       "model_id": "6a8513d8c64e478a829d6b26e3209b87",
       "version_major": 2,
       "version_minor": 0
      },
      "text/plain": [
       "0it [00:00, ?it/s]"
      ]
     },
     "metadata": {},
     "output_type": "display_data"
    },
    {
     "name": "stdout",
     "output_type": "stream",
     "text": [
      "Homo_sapiens_RNA-Seq_read_counts_TPM_FPKM_GSE57344.tsv.gz\n"
     ]
    },
    {
     "data": {
      "application/vnd.jupyter.widget-view+json": {
       "model_id": "1053b8c9977d4ee9a288ce40a05f1fff",
       "version_major": 2,
       "version_minor": 0
      },
      "text/plain": [
       "0it [00:00, ?it/s]"
      ]
     },
     "metadata": {},
     "output_type": "display_data"
    },
    {
     "name": "stdout",
     "output_type": "stream",
     "text": [
      "Homo_sapiens_RNA-Seq_read_counts_TPM_FPKM_GSE58387.tsv.gz\n"
     ]
    },
    {
     "data": {
      "application/vnd.jupyter.widget-view+json": {
       "model_id": "8feedf4a7af243f78f52bed6055a5033",
       "version_major": 2,
       "version_minor": 0
      },
      "text/plain": [
       "0it [00:00, ?it/s]"
      ]
     },
     "metadata": {},
     "output_type": "display_data"
    },
    {
     "name": "stdout",
     "output_type": "stream",
     "text": [
      "Homo_sapiens_RNA-Seq_read_counts_TPM_FPKM_GSE58608.tsv.gz\n"
     ]
    },
    {
     "data": {
      "application/vnd.jupyter.widget-view+json": {
       "model_id": "e7818c14fac9480cb7950a2e1e259c2e",
       "version_major": 2,
       "version_minor": 0
      },
      "text/plain": [
       "0it [00:00, ?it/s]"
      ]
     },
     "metadata": {},
     "output_type": "display_data"
    },
    {
     "name": "stdout",
     "output_type": "stream",
     "text": [
      "Homo_sapiens_RNA-Seq_read_counts_TPM_FPKM_GSE62098.tsv.gz\n"
     ]
    },
    {
     "data": {
      "application/vnd.jupyter.widget-view+json": {
       "model_id": "d1dac1334ab14103ad092828b9584f9d",
       "version_major": 2,
       "version_minor": 0
      },
      "text/plain": [
       "0it [00:00, ?it/s]"
      ]
     },
     "metadata": {},
     "output_type": "display_data"
    },
    {
     "name": "stdout",
     "output_type": "stream",
     "text": [
      "Homo_sapiens_RNA-Seq_read_counts_TPM_FPKM_GSE64283.tsv.gz\n"
     ]
    },
    {
     "data": {
      "application/vnd.jupyter.widget-view+json": {
       "model_id": "76cdb971155e4534b97993bc135d086a",
       "version_major": 2,
       "version_minor": 0
      },
      "text/plain": [
       "0it [00:00, ?it/s]"
      ]
     },
     "metadata": {},
     "output_type": "display_data"
    },
    {
     "name": "stdout",
     "output_type": "stream",
     "text": [
      "Homo_sapiens_RNA-Seq_read_counts_TPM_FPKM_SRP001558.tsv.gz\n"
     ]
    },
    {
     "data": {
      "application/vnd.jupyter.widget-view+json": {
       "model_id": "1c5366c7871049e7a0ce4ed6adf2ed2f",
       "version_major": 2,
       "version_minor": 0
      },
      "text/plain": [
       "0it [00:00, ?it/s]"
      ]
     },
     "metadata": {},
     "output_type": "display_data"
    },
    {
     "name": "stdout",
     "output_type": "stream",
     "text": [
      "Homo_sapiens_RNA-Seq_read_counts_TPM_FPKM_SRP003276.tsv.gz\n"
     ]
    },
    {
     "data": {
      "application/vnd.jupyter.widget-view+json": {
       "model_id": "efecf01319074b30a20f645b42d9d8fc",
       "version_major": 2,
       "version_minor": 0
      },
      "text/plain": [
       "0it [00:00, ?it/s]"
      ]
     },
     "metadata": {},
     "output_type": "display_data"
    },
    {
     "name": "stdout",
     "output_type": "stream",
     "text": [
      "Homo_sapiens_RNA-Seq_read_counts_TPM_FPKM_SRP007359.tsv.gz\n"
     ]
    },
    {
     "data": {
      "application/vnd.jupyter.widget-view+json": {
       "model_id": "dff49033e2a140aca9a23a14b5a4724d",
       "version_major": 2,
       "version_minor": 0
      },
      "text/plain": [
       "0it [00:00, ?it/s]"
      ]
     },
     "metadata": {},
     "output_type": "display_data"
    },
    {
     "name": "stdout",
     "output_type": "stream",
     "text": [
      "Homo_sapiens_RNA-Seq_read_counts_TPM_FPKM_SRP007481.tsv.gz\n"
     ]
    },
    {
     "data": {
      "application/vnd.jupyter.widget-view+json": {
       "model_id": "e02b9899d7664c988ed5b20f3b84c27d",
       "version_major": 2,
       "version_minor": 0
      },
      "text/plain": [
       "0it [00:00, ?it/s]"
      ]
     },
     "metadata": {},
     "output_type": "display_data"
    },
    {
     "name": "stdout",
     "output_type": "stream",
     "text": [
      "Homo_sapiens_RNA-Seq_read_counts_TPM_FPKM_SRP008743.tsv.gz\n"
     ]
    },
    {
     "data": {
      "application/vnd.jupyter.widget-view+json": {
       "model_id": "d5d3363b63f4417d8a424577463db51d",
       "version_major": 2,
       "version_minor": 0
      },
      "text/plain": [
       "0it [00:00, ?it/s]"
      ]
     },
     "metadata": {},
     "output_type": "display_data"
    },
    {
     "name": "stdout",
     "output_type": "stream",
     "text": [
      "Homo_sapiens_RNA-Seq_read_counts_TPM_FPKM_SRP012682.tsv.gz\n"
     ]
    },
    {
     "data": {
      "application/vnd.jupyter.widget-view+json": {
       "model_id": "6f01ab262f7045119763c38eae59ab10",
       "version_major": 2,
       "version_minor": 0
      },
      "text/plain": [
       "0it [00:00, ?it/s]"
      ]
     },
     "metadata": {},
     "output_type": "display_data"
    },
    {
     "name": "stdout",
     "output_type": "stream",
     "text": [
      "Homo_sapiens_RNA-Seq_read_counts_TPM_FPKM_SRP013825.tsv.gz\n"
     ]
    },
    {
     "data": {
      "application/vnd.jupyter.widget-view+json": {
       "model_id": "84647a1e8696439385c58ee7cf298662",
       "version_major": 2,
       "version_minor": 0
      },
      "text/plain": [
       "0it [00:00, ?it/s]"
      ]
     },
     "metadata": {},
     "output_type": "display_data"
    },
    {
     "name": "stdout",
     "output_type": "stream",
     "text": [
      "Homo_sapiens_RNA-Seq_read_counts_TPM_FPKM_SRP019762.tsv.gz\n"
     ]
    },
    {
     "data": {
      "application/vnd.jupyter.widget-view+json": {
       "model_id": "6e9bba09ce0a4db78c57712a78d2a94c",
       "version_major": 2,
       "version_minor": 0
      },
      "text/plain": [
       "0it [00:00, ?it/s]"
      ]
     },
     "metadata": {},
     "output_type": "display_data"
    },
    {
     "name": "stdout",
     "output_type": "stream",
     "text": [
      "Homo_sapiens_RNA-Seq_read_counts_TPM_FPKM_SRP028336.tsv.gz\n"
     ]
    },
    {
     "data": {
      "application/vnd.jupyter.widget-view+json": {
       "model_id": "10ce141410ec4259b70f2aab884ef1d0",
       "version_major": 2,
       "version_minor": 0
      },
      "text/plain": [
       "0it [00:00, ?it/s]"
      ]
     },
     "metadata": {},
     "output_type": "display_data"
    },
    {
     "name": "stdout",
     "output_type": "stream",
     "text": [
      "Homo_sapiens_RNA-Seq_read_counts_TPM_FPKM_SRP029262.tsv.gz\n"
     ]
    },
    {
     "data": {
      "application/vnd.jupyter.widget-view+json": {
       "model_id": "b75132e08b864e169ef86d3167e2c8d7",
       "version_major": 2,
       "version_minor": 0
      },
      "text/plain": [
       "0it [00:00, ?it/s]"
      ]
     },
     "metadata": {},
     "output_type": "display_data"
    },
    {
     "name": "stdout",
     "output_type": "stream",
     "text": [
      "Homo_sapiens_RNA-Seq_read_counts_TPM_FPKM_SRP029592.tsv.gz\n"
     ]
    },
    {
     "data": {
      "application/vnd.jupyter.widget-view+json": {
       "model_id": "87b66794bc034df8a41222d6d4951cf9",
       "version_major": 2,
       "version_minor": 0
      },
      "text/plain": [
       "0it [00:00, ?it/s]"
      ]
     },
     "metadata": {},
     "output_type": "display_data"
    },
    {
     "name": "stdout",
     "output_type": "stream",
     "text": [
      "Homo_sapiens_RNA-Seq_read_counts_TPM_FPKM_SRP034732.tsv.gz\n"
     ]
    },
    {
     "data": {
      "application/vnd.jupyter.widget-view+json": {
       "model_id": "3457f14b949f4c46beedd6aadca81460",
       "version_major": 2,
       "version_minor": 0
      },
      "text/plain": [
       "0it [00:00, ?it/s]"
      ]
     },
     "metadata": {},
     "output_type": "display_data"
    },
    {
     "name": "stdout",
     "output_type": "stream",
     "text": [
      "Homo_sapiens_RNA-Seq_read_counts_TPM_FPKM_SRP034929.tsv.gz\n"
     ]
    },
    {
     "data": {
      "application/vnd.jupyter.widget-view+json": {
       "model_id": "ad539acb22a44d61ada9b6843bc3d480",
       "version_major": 2,
       "version_minor": 0
      },
      "text/plain": [
       "0it [00:00, ?it/s]"
      ]
     },
     "metadata": {},
     "output_type": "display_data"
    },
    {
     "name": "stdout",
     "output_type": "stream",
     "text": [
      "Homo_sapiens_RNA-Seq_read_counts_TPM_FPKM_SRP051844.tsv.gz\n"
     ]
    },
    {
     "data": {
      "application/vnd.jupyter.widget-view+json": {
       "model_id": "29a04dc91d6d4774957972b5b942b5ec",
       "version_major": 2,
       "version_minor": 0
      },
      "text/plain": [
       "0it [00:00, ?it/s]"
      ]
     },
     "metadata": {},
     "output_type": "display_data"
    },
    {
     "name": "stdout",
     "output_type": "stream",
     "text": [
      "Homo_sapiens_RNA-Seq_read_counts_TPM_FPKM_SRP058036.tsv.gz\n"
     ]
    },
    {
     "data": {
      "application/vnd.jupyter.widget-view+json": {
       "model_id": "e2fa311de46a42e5b6de52b511a7abf0",
       "version_major": 2,
       "version_minor": 0
      },
      "text/plain": [
       "0it [00:00, ?it/s]"
      ]
     },
     "metadata": {},
     "output_type": "display_data"
    },
    {
     "name": "stdout",
     "output_type": "stream",
     "text": [
      "Homo_sapiens_RNA-Seq_read_counts_TPM_FPKM_SRP058740.tsv.gz\n"
     ]
    },
    {
     "data": {
      "application/vnd.jupyter.widget-view+json": {
       "model_id": "904f4d908f0b4588bc69f95abcb45544",
       "version_major": 2,
       "version_minor": 0
      },
      "text/plain": [
       "0it [00:00, ?it/s]"
      ]
     },
     "metadata": {},
     "output_type": "display_data"
    },
    {
     "name": "stdout",
     "output_type": "stream",
     "text": [
      "Homo_sapiens_RNA-Seq_read_counts_TPM_FPKM_SRP065273.tsv.gz\n"
     ]
    },
    {
     "data": {
      "application/vnd.jupyter.widget-view+json": {
       "model_id": "253900c339f14c72a589ed1310ab0644",
       "version_major": 2,
       "version_minor": 0
      },
      "text/plain": [
       "0it [00:00, ?it/s]"
      ]
     },
     "metadata": {},
     "output_type": "display_data"
    },
    {
     "name": "stdout",
     "output_type": "stream",
     "text": [
      "Homo_sapiens_RNA-Seq_read_counts_TPM_FPKM_SRP066912.tsv.gz\n"
     ]
    },
    {
     "data": {
      "application/vnd.jupyter.widget-view+json": {
       "model_id": "68a408ea91b1465187eaf9fb10b3add5",
       "version_major": 2,
       "version_minor": 0
      },
      "text/plain": [
       "0it [00:00, ?it/s]"
      ]
     },
     "metadata": {},
     "output_type": "display_data"
    },
    {
     "name": "stdout",
     "output_type": "stream",
     "text": [
      "Homo_sapiens_RNA-Seq_read_counts_TPM_FPKM_SRP073607.tsv.gz\n"
     ]
    },
    {
     "data": {
      "application/vnd.jupyter.widget-view+json": {
       "model_id": "963ca9d451724d0eb8af50468004b511",
       "version_major": 2,
       "version_minor": 0
      },
      "text/plain": [
       "0it [00:00, ?it/s]"
      ]
     },
     "metadata": {},
     "output_type": "display_data"
    },
    {
     "name": "stdout",
     "output_type": "stream",
     "text": [
      "Homo_sapiens_RNA-Seq_read_counts_TPM_FPKM_SRP092128.tsv.gz\n"
     ]
    },
    {
     "data": {
      "application/vnd.jupyter.widget-view+json": {
       "model_id": "302b7352cf7d4223b5aa452f1a437586",
       "version_major": 2,
       "version_minor": 0
      },
      "text/plain": [
       "0it [00:00, ?it/s]"
      ]
     },
     "metadata": {},
     "output_type": "display_data"
    },
    {
     "name": "stdout",
     "output_type": "stream",
     "text": [
      "Homo_sapiens_RNA-Seq_read_counts_TPM_FPKM_SRP101726.tsv.gz\n"
     ]
    },
    {
     "data": {
      "application/vnd.jupyter.widget-view+json": {
       "model_id": "64bda76158eb4c18abe6d1713721ebf0",
       "version_major": 2,
       "version_minor": 0
      },
      "text/plain": [
       "0it [00:00, ?it/s]"
      ]
     },
     "metadata": {},
     "output_type": "display_data"
    },
    {
     "name": "stdout",
     "output_type": "stream",
     "text": [
      "Homo_sapiens_RNA-Seq_read_counts_TPM_FPKM_SRP101737.tsv.gz\n"
     ]
    },
    {
     "data": {
      "application/vnd.jupyter.widget-view+json": {
       "model_id": "f4060c10bb0940b288af06912acc9cf2",
       "version_major": 2,
       "version_minor": 0
      },
      "text/plain": [
       "0it [00:00, ?it/s]"
      ]
     },
     "metadata": {},
     "output_type": "display_data"
    },
    {
     "name": "stdout",
     "output_type": "stream",
     "text": [
      "Homo_sapiens_RNA-Seq_read_counts_TPM_FPKM_SRP105769.tsv.gz\n"
     ]
    },
    {
     "data": {
      "application/vnd.jupyter.widget-view+json": {
       "model_id": "5f4d7b9ed8b644b2ad34435048ace52a",
       "version_major": 2,
       "version_minor": 0
      },
      "text/plain": [
       "0it [00:00, ?it/s]"
      ]
     },
     "metadata": {},
     "output_type": "display_data"
    },
    {
     "name": "stdout",
     "output_type": "stream",
     "text": [
      "Homo_sapiens_RNA-Seq_read_counts_TPM_FPKM_SRP125959.tsv.gz\n"
     ]
    },
    {
     "data": {
      "application/vnd.jupyter.widget-view+json": {
       "model_id": "6d9e0953551741d8b15ab2c7b9c683d7",
       "version_major": 2,
       "version_minor": 0
      },
      "text/plain": [
       "0it [00:00, ?it/s]"
      ]
     },
     "metadata": {},
     "output_type": "display_data"
    },
    {
     "name": "stdout",
     "output_type": "stream",
     "text": [
      "Homo_sapiens_RNA-Seq_read_counts_TPM_FPKM_SRP127360.tsv.gz\n"
     ]
    },
    {
     "data": {
      "application/vnd.jupyter.widget-view+json": {
       "model_id": "8e402fba6234418da54687bbe67846d8",
       "version_major": 2,
       "version_minor": 0
      },
      "text/plain": [
       "0it [00:00, ?it/s]"
      ]
     },
     "metadata": {},
     "output_type": "display_data"
    },
    {
     "name": "stdout",
     "output_type": "stream",
     "text": [
      "Homo_sapiens_RNA-Seq_read_counts_TPM_FPKM_SRP127986.tsv.gz\n"
     ]
    },
    {
     "data": {
      "application/vnd.jupyter.widget-view+json": {
       "model_id": "34f18d33f07e47bd88333cdeaa6a623f",
       "version_major": 2,
       "version_minor": 0
      },
      "text/plain": [
       "0it [00:00, ?it/s]"
      ]
     },
     "metadata": {},
     "output_type": "display_data"
    },
    {
     "name": "stdout",
     "output_type": "stream",
     "text": [
      "Homo_sapiens_RNA-Seq_read_counts_TPM_FPKM_SRP163252.tsv.gz\n"
     ]
    },
    {
     "data": {
      "application/vnd.jupyter.widget-view+json": {
       "model_id": "cd91355f025a442e94251d9194d9a868",
       "version_major": 2,
       "version_minor": 0
      },
      "text/plain": [
       "0it [00:00, ?it/s]"
      ]
     },
     "metadata": {},
     "output_type": "display_data"
    },
    {
     "name": "stdout",
     "output_type": "stream",
     "text": [
      "Lepisosteus_oculatus\n"
     ]
    },
    {
     "data": {
      "application/vnd.jupyter.widget-view+json": {
       "model_id": "97df19fbbcd04492a03dfcf9e6566024",
       "version_major": 2,
       "version_minor": 0
      },
      "text/plain": [
       "  0%|          | 0/2 [00:00<?, ?it/s]"
      ]
     },
     "metadata": {},
     "output_type": "display_data"
    },
    {
     "name": "stdout",
     "output_type": "stream",
     "text": [
      "Lepisosteus_oculatus_RNA-Seq_read_counts_TPM_FPKM/Lepisosteus_oculatus_RNA-Seq_read_counts_TPM_FPKM_SRP042013.tsv.gz\n"
     ]
    },
    {
     "data": {
      "application/vnd.jupyter.widget-view+json": {
       "model_id": "da11974427c04103b3a78ce3fb568d55",
       "version_major": 2,
       "version_minor": 0
      },
      "text/plain": [
       "0it [00:00, ?it/s]"
      ]
     },
     "metadata": {},
     "output_type": "display_data"
    },
    {
     "name": "stdout",
     "output_type": "stream",
     "text": [
      "Lepisosteus_oculatus_RNA-Seq_read_counts_TPM_FPKM/Lepisosteus_oculatus_RNA-Seq_read_counts_TPM_FPKM_SRP044782.tsv.gz\n"
     ]
    },
    {
     "data": {
      "application/vnd.jupyter.widget-view+json": {
       "model_id": "90b4540e06934517bcd0f329cc493a25",
       "version_major": 2,
       "version_minor": 0
      },
      "text/plain": [
       "0it [00:00, ?it/s]"
      ]
     },
     "metadata": {},
     "output_type": "display_data"
    },
    {
     "name": "stdout",
     "output_type": "stream",
     "text": [
      "Macaca_mulatta\n"
     ]
    },
    {
     "data": {
      "application/vnd.jupyter.widget-view+json": {
       "model_id": "4ea24f8ae07e4c7dac15c6a93a87d5d8",
       "version_major": 2,
       "version_minor": 0
      },
      "text/plain": [
       "  0%|          | 0/22 [00:00<?, ?it/s]"
      ]
     },
     "metadata": {},
     "output_type": "display_data"
    },
    {
     "name": "stdout",
     "output_type": "stream",
     "text": [
      "Macaca_mulatta_RNA-Seq_read_counts_TPM_FPKM/Macaca_mulatta_RNA-Seq_read_counts_TPM_FPKM_SRP017517.tsv.gz\n"
     ]
    },
    {
     "data": {
      "application/vnd.jupyter.widget-view+json": {
       "model_id": "f16a4b1bcc8c4aee8a1910868f97f92a",
       "version_major": 2,
       "version_minor": 0
      },
      "text/plain": [
       "0it [00:00, ?it/s]"
      ]
     },
     "metadata": {},
     "output_type": "display_data"
    },
    {
     "name": "stdout",
     "output_type": "stream",
     "text": [
      "Macaca_mulatta_RNA-Seq_read_counts_TPM_FPKM/Macaca_mulatta_RNA-Seq_read_counts_TPM_FPKM_ERP006696.tsv.gz\n"
     ]
    },
    {
     "data": {
      "application/vnd.jupyter.widget-view+json": {
       "model_id": "637e5ece95b54aec8318b992dc6f7174",
       "version_major": 2,
       "version_minor": 0
      },
      "text/plain": [
       "0it [00:00, ?it/s]"
      ]
     },
     "metadata": {},
     "output_type": "display_data"
    },
    {
     "name": "stdout",
     "output_type": "stream",
     "text": [
      "Macaca_mulatta_RNA-Seq_read_counts_TPM_FPKM/Macaca_mulatta_RNA-Seq_read_counts_TPM_FPKM_SRP009818.tsv.gz\n"
     ]
    },
    {
     "data": {
      "application/vnd.jupyter.widget-view+json": {
       "model_id": "3e59a9f178aa4311b7cb1e2860b78e26",
       "version_major": 2,
       "version_minor": 0
      },
      "text/plain": [
       "0it [00:00, ?it/s]"
      ]
     },
     "metadata": {},
     "output_type": "display_data"
    },
    {
     "name": "stdout",
     "output_type": "stream",
     "text": [
      "Macaca_mulatta_RNA-Seq_read_counts_TPM_FPKM/Macaca_mulatta_RNA-Seq_read_counts_TPM_FPKM_SRP003276.tsv.gz\n"
     ]
    },
    {
     "data": {
      "application/vnd.jupyter.widget-view+json": {
       "model_id": "97201338d277427e84ac6ad8f1fb6078",
       "version_major": 2,
       "version_minor": 0
      },
      "text/plain": [
       "0it [00:00, ?it/s]"
      ]
     },
     "metadata": {},
     "output_type": "display_data"
    },
    {
     "name": "stdout",
     "output_type": "stream",
     "text": [
      "Macaca_mulatta_RNA-Seq_read_counts_TPM_FPKM/Macaca_mulatta_RNA-Seq_read_counts_TPM_FPKM_SRP028336.tsv.gz\n"
     ]
    },
    {
     "data": {
      "application/vnd.jupyter.widget-view+json": {
       "model_id": "2e8a058135714d138ec30b048b47433c",
       "version_major": 2,
       "version_minor": 0
      },
      "text/plain": [
       "0it [00:00, ?it/s]"
      ]
     },
     "metadata": {},
     "output_type": "display_data"
    },
    {
     "name": "stdout",
     "output_type": "stream",
     "text": [
      "Macaca_mulatta_RNA-Seq_read_counts_TPM_FPKM/Macaca_mulatta_RNA-Seq_read_counts_TPM_FPKM_SRP058740.tsv.gz\n"
     ]
    },
    {
     "data": {
      "application/vnd.jupyter.widget-view+json": {
       "model_id": "5bc9b13331ec4d59a3694bb2c8d5ec27",
       "version_major": 2,
       "version_minor": 0
      },
      "text/plain": [
       "0it [00:00, ?it/s]"
      ]
     },
     "metadata": {},
     "output_type": "display_data"
    },
    {
     "name": "stdout",
     "output_type": "stream",
     "text": [
      "Macaca_mulatta_RNA-Seq_read_counts_TPM_FPKM/Macaca_mulatta_RNA-Seq_read_counts_TPM_FPKM_SRP001558.tsv.gz\n"
     ]
    },
    {
     "data": {
      "application/vnd.jupyter.widget-view+json": {
       "model_id": "057ef07973fa47e18c55441740436cd3",
       "version_major": 2,
       "version_minor": 0
      },
      "text/plain": [
       "0it [00:00, ?it/s]"
      ]
     },
     "metadata": {},
     "output_type": "display_data"
    },
    {
     "name": "stdout",
     "output_type": "stream",
     "text": [
      "Macaca_mulatta_RNA-Seq_read_counts_TPM_FPKM/Macaca_mulatta_RNA-Seq_read_counts_TPM_FPKM_SRP034929.tsv.gz\n"
     ]
    },
    {
     "data": {
      "application/vnd.jupyter.widget-view+json": {
       "model_id": "31cc6d4f80cc431eaa6a2079c6684fcc",
       "version_major": 2,
       "version_minor": 0
      },
      "text/plain": [
       "0it [00:00, ?it/s]"
      ]
     },
     "metadata": {},
     "output_type": "display_data"
    },
    {
     "name": "stdout",
     "output_type": "stream",
     "text": [
      "Macaca_mulatta_RNA-Seq_read_counts_TPM_FPKM/Macaca_mulatta_RNA-Seq_read_counts_TPM_FPKM_ERP000787.tsv.gz\n"
     ]
    },
    {
     "data": {
      "application/vnd.jupyter.widget-view+json": {
       "model_id": "d3e43c0737a94d5992901aa257b1b637",
       "version_major": 2,
       "version_minor": 0
      },
      "text/plain": [
       "0it [00:00, ?it/s]"
      ]
     },
     "metadata": {},
     "output_type": "display_data"
    },
    {
     "name": "stdout",
     "output_type": "stream",
     "text": [
      "Macaca_mulatta_RNA-Seq_read_counts_TPM_FPKM/Macaca_mulatta_RNA-Seq_read_counts_TPM_FPKM_GSE30352.tsv.gz\n"
     ]
    },
    {
     "data": {
      "application/vnd.jupyter.widget-view+json": {
       "model_id": "6168bef3e1744ce9bf4914af610111de",
       "version_major": 2,
       "version_minor": 0
      },
      "text/plain": [
       "0it [00:00, ?it/s]"
      ]
     },
     "metadata": {},
     "output_type": "display_data"
    },
    {
     "name": "stdout",
     "output_type": "stream",
     "text": [
      "Macaca_mulatta_RNA-Seq_read_counts_TPM_FPKM/Macaca_mulatta_RNA-Seq_read_counts_TPM_FPKM_ERP002376.tsv.gz\n"
     ]
    },
    {
     "data": {
      "application/vnd.jupyter.widget-view+json": {
       "model_id": "7b1aefd1c67b463cb342d6a44693699a",
       "version_major": 2,
       "version_minor": 0
      },
      "text/plain": [
       "0it [00:00, ?it/s]"
      ]
     },
     "metadata": {},
     "output_type": "display_data"
    },
    {
     "name": "stdout",
     "output_type": "stream",
     "text": [
      "Macaca_mulatta_RNA-Seq_read_counts_TPM_FPKM/Macaca_mulatta_RNA-Seq_read_counts_TPM_FPKM_ERP014610.tsv.gz\n"
     ]
    },
    {
     "data": {
      "application/vnd.jupyter.widget-view+json": {
       "model_id": "2371ce12b28947b186cd0b7b903b779c",
       "version_major": 2,
       "version_minor": 0
      },
      "text/plain": [
       "0it [00:00, ?it/s]"
      ]
     },
     "metadata": {},
     "output_type": "display_data"
    },
    {
     "name": "stdout",
     "output_type": "stream",
     "text": [
      "Macaca_mulatta_RNA-Seq_read_counts_TPM_FPKM/Macaca_mulatta_RNA-Seq_read_counts_TPM_FPKM_SRP008743.tsv.gz\n"
     ]
    },
    {
     "data": {
      "application/vnd.jupyter.widget-view+json": {
       "model_id": "29ff203aeba1408aa334a293c1af9bac",
       "version_major": 2,
       "version_minor": 0
      },
      "text/plain": [
       "0it [00:00, ?it/s]"
      ]
     },
     "metadata": {},
     "output_type": "display_data"
    },
    {
     "name": "stdout",
     "output_type": "stream",
     "text": [
      "Macaca_mulatta_RNA-Seq_read_counts_TPM_FPKM/Macaca_mulatta_RNA-Seq_read_counts_TPM_FPKM_GSE43520.tsv.gz\n"
     ]
    },
    {
     "data": {
      "application/vnd.jupyter.widget-view+json": {
       "model_id": "a3ea2939fbd5448e9ef22fff1718af8c",
       "version_major": 2,
       "version_minor": 0
      },
      "text/plain": [
       "0it [00:00, ?it/s]"
      ]
     },
     "metadata": {},
     "output_type": "display_data"
    },
    {
     "name": "stdout",
     "output_type": "stream",
     "text": [
      "Macaca_mulatta_RNA-Seq_read_counts_TPM_FPKM/Macaca_mulatta_RNA-Seq_read_counts_TPM_FPKM_SRP065273.tsv.gz\n"
     ]
    },
    {
     "data": {
      "application/vnd.jupyter.widget-view+json": {
       "model_id": "852b174e2c2a4843b13ccf3df62b2ad6",
       "version_major": 2,
       "version_minor": 0
      },
      "text/plain": [
       "0it [00:00, ?it/s]"
      ]
     },
     "metadata": {},
     "output_type": "display_data"
    },
    {
     "name": "stdout",
     "output_type": "stream",
     "text": [
      "Macaca_mulatta_RNA-Seq_read_counts_TPM_FPKM/Macaca_mulatta_RNA-Seq_read_counts_TPM_FPKM_SRP009336.tsv.gz\n"
     ]
    },
    {
     "data": {
      "application/vnd.jupyter.widget-view+json": {
       "model_id": "b050f0f824394a629399830347d03c81",
       "version_major": 2,
       "version_minor": 0
      },
      "text/plain": [
       "0it [00:00, ?it/s]"
      ]
     },
     "metadata": {},
     "output_type": "display_data"
    },
    {
     "name": "stdout",
     "output_type": "stream",
     "text": [
      "Macaca_mulatta_RNA-Seq_read_counts_TPM_FPKM/Macaca_mulatta_RNA-Seq_read_counts_TPM_FPKM_DRP000895.tsv.gz\n"
     ]
    },
    {
     "data": {
      "application/vnd.jupyter.widget-view+json": {
       "model_id": "c7479412026349f5a045e974376861c8",
       "version_major": 2,
       "version_minor": 0
      },
      "text/plain": [
       "0it [00:00, ?it/s]"
      ]
     },
     "metadata": {},
     "output_type": "display_data"
    },
    {
     "name": "stdout",
     "output_type": "stream",
     "text": [
      "Macaca_mulatta_RNA-Seq_read_counts_TPM_FPKM/Macaca_mulatta_RNA-Seq_read_counts_TPM_FPKM_SRP019755.tsv.gz\n"
     ]
    },
    {
     "data": {
      "application/vnd.jupyter.widget-view+json": {
       "model_id": "8e1ede605774476cabd761f62ba14038",
       "version_major": 2,
       "version_minor": 0
      },
      "text/plain": [
       "0it [00:00, ?it/s]"
      ]
     },
     "metadata": {},
     "output_type": "display_data"
    },
    {
     "name": "stdout",
     "output_type": "stream",
     "text": [
      "Macaca_mulatta_RNA-Seq_read_counts_TPM_FPKM/Macaca_mulatta_RNA-Seq_read_counts_TPM_FPKM_SRP021223.tsv.gz\n"
     ]
    },
    {
     "data": {
      "application/vnd.jupyter.widget-view+json": {
       "model_id": "14a2587305d24d6f8b6a4dea06c06dbc",
       "version_major": 2,
       "version_minor": 0
      },
      "text/plain": [
       "0it [00:00, ?it/s]"
      ]
     },
     "metadata": {},
     "output_type": "display_data"
    },
    {
     "name": "stdout",
     "output_type": "stream",
     "text": [
      "Macaca_mulatta_RNA-Seq_read_counts_TPM_FPKM/Macaca_mulatta_RNA-Seq_read_counts_TPM_FPKM_SRP057141.tsv.gz\n"
     ]
    },
    {
     "data": {
      "application/vnd.jupyter.widget-view+json": {
       "model_id": "ce85b401a40443ce8c1eb930b346b453",
       "version_major": 2,
       "version_minor": 0
      },
      "text/plain": [
       "0it [00:00, ?it/s]"
      ]
     },
     "metadata": {},
     "output_type": "display_data"
    },
    {
     "name": "stdout",
     "output_type": "stream",
     "text": [
      "Macaca_mulatta_RNA-Seq_read_counts_TPM_FPKM/Macaca_mulatta_RNA-Seq_read_counts_TPM_FPKM_GSE41637.tsv.gz\n"
     ]
    },
    {
     "data": {
      "application/vnd.jupyter.widget-view+json": {
       "model_id": "9773af2d026d4b778e0c602238e1dd59",
       "version_major": 2,
       "version_minor": 0
      },
      "text/plain": [
       "0it [00:00, ?it/s]"
      ]
     },
     "metadata": {},
     "output_type": "display_data"
    },
    {
     "name": "stdout",
     "output_type": "stream",
     "text": [
      "Macaca_mulatta_RNA-Seq_read_counts_TPM_FPKM/Macaca_mulatta_RNA-Seq_read_counts_TPM_FPKM_SRP007359.tsv.gz\n"
     ]
    },
    {
     "data": {
      "application/vnd.jupyter.widget-view+json": {
       "model_id": "8f243446ff484abf940375e98a1a742e",
       "version_major": 2,
       "version_minor": 0
      },
      "text/plain": [
       "0it [00:00, ?it/s]"
      ]
     },
     "metadata": {},
     "output_type": "display_data"
    },
    {
     "name": "stdout",
     "output_type": "stream",
     "text": [
      "Monodelphis_domestica\n"
     ]
    },
    {
     "data": {
      "application/vnd.jupyter.widget-view+json": {
       "model_id": "510eb09dd6b444e0ab9bd05403d0f04b",
       "version_major": 2,
       "version_minor": 0
      },
      "text/plain": [
       "  0%|          | 0/16 [00:00<?, ?it/s]"
      ]
     },
     "metadata": {},
     "output_type": "display_data"
    },
    {
     "name": "stdout",
     "output_type": "stream",
     "text": [
      "Monodelphis_domestica_RNA-Seq_read_counts_TPM_FPKM/Monodelphis_domestica_RNA-Seq_read_counts_TPM_FPKM_SRP057141.tsv.gz\n"
     ]
    },
    {
     "data": {
      "application/vnd.jupyter.widget-view+json": {
       "model_id": "3d04b7ccf83f4576a7035ad9009511b2",
       "version_major": 2,
       "version_minor": 0
      },
      "text/plain": [
       "0it [00:00, ?it/s]"
      ]
     },
     "metadata": {},
     "output_type": "display_data"
    },
    {
     "name": "stdout",
     "output_type": "stream",
     "text": [
      "Monodelphis_domestica_RNA-Seq_read_counts_TPM_FPKM/Monodelphis_domestica_RNA-Seq_read_counts_TPM_FPKM_SRP066905.tsv.gz\n"
     ]
    },
    {
     "data": {
      "application/vnd.jupyter.widget-view+json": {
       "model_id": "087b7850dcaa4deb92e4425ae5c05081",
       "version_major": 2,
       "version_minor": 0
      },
      "text/plain": [
       "0it [00:00, ?it/s]"
      ]
     },
     "metadata": {},
     "output_type": "display_data"
    },
    {
     "name": "stdout",
     "output_type": "stream",
     "text": [
      "Monodelphis_domestica_RNA-Seq_read_counts_TPM_FPKM/Monodelphis_domestica_RNA-Seq_read_counts_TPM_FPKM_SRP007481.tsv.gz\n"
     ]
    },
    {
     "data": {
      "application/vnd.jupyter.widget-view+json": {
       "model_id": "e6ab214b7c6e449fbde3947ef642486a",
       "version_major": 2,
       "version_minor": 0
      },
      "text/plain": [
       "0it [00:00, ?it/s]"
      ]
     },
     "metadata": {},
     "output_type": "display_data"
    },
    {
     "name": "stdout",
     "output_type": "stream",
     "text": [
      "Monodelphis_domestica_RNA-Seq_read_counts_TPM_FPKM/Monodelphis_domestica_RNA-Seq_read_counts_TPM_FPKM_ERP000787.tsv.gz\n"
     ]
    },
    {
     "data": {
      "application/vnd.jupyter.widget-view+json": {
       "model_id": "43e9f73146bb441c828b322d64b2c58c",
       "version_major": 2,
       "version_minor": 0
      },
      "text/plain": [
       "0it [00:00, ?it/s]"
      ]
     },
     "metadata": {},
     "output_type": "display_data"
    },
    {
     "name": "stdout",
     "output_type": "stream",
     "text": [
      "Monodelphis_domestica_RNA-Seq_read_counts_TPM_FPKM/Monodelphis_domestica_RNA-Seq_read_counts_TPM_FPKM_SRP121212.tsv.gz\n"
     ]
    },
    {
     "data": {
      "application/vnd.jupyter.widget-view+json": {
       "model_id": "280983045da745e8be35a87c8211124d",
       "version_major": 2,
       "version_minor": 0
      },
      "text/plain": [
       "0it [00:00, ?it/s]"
      ]
     },
     "metadata": {},
     "output_type": "display_data"
    },
    {
     "name": "stdout",
     "output_type": "stream",
     "text": [
      "Monodelphis_domestica_RNA-Seq_read_counts_TPM_FPKM/Monodelphis_domestica_RNA-Seq_read_counts_TPM_FPKM_SRP019501.tsv.gz\n"
     ]
    },
    {
     "data": {
      "application/vnd.jupyter.widget-view+json": {
       "model_id": "ad955d8adea642a8abbdc6630a7f9681",
       "version_major": 2,
       "version_minor": 0
      },
      "text/plain": [
       "0it [00:00, ?it/s]"
      ]
     },
     "metadata": {},
     "output_type": "display_data"
    },
    {
     "name": "stdout",
     "output_type": "stream",
     "text": [
      "Monodelphis_domestica_RNA-Seq_read_counts_TPM_FPKM/Monodelphis_domestica_RNA-Seq_read_counts_TPM_FPKM_SRP071663.tsv.gz\n"
     ]
    },
    {
     "data": {
      "application/vnd.jupyter.widget-view+json": {
       "model_id": "75ca15978b074b66abc7b8ac40f87f81",
       "version_major": 2,
       "version_minor": 0
      },
      "text/plain": [
       "0it [00:00, ?it/s]"
      ]
     },
     "metadata": {},
     "output_type": "display_data"
    },
    {
     "name": "stdout",
     "output_type": "stream",
     "text": [
      "Monodelphis_domestica_RNA-Seq_read_counts_TPM_FPKM/Monodelphis_domestica_RNA-Seq_read_counts_TPM_FPKM_SRP011985.tsv.gz\n"
     ]
    },
    {
     "data": {
      "application/vnd.jupyter.widget-view+json": {
       "model_id": "eabbf2f231cf429d9425837717637b88",
       "version_major": 2,
       "version_minor": 0
      },
      "text/plain": [
       "0it [00:00, ?it/s]"
      ]
     },
     "metadata": {},
     "output_type": "display_data"
    },
    {
     "name": "stdout",
     "output_type": "stream",
     "text": [
      "Monodelphis_domestica_RNA-Seq_read_counts_TPM_FPKM/Monodelphis_domestica_RNA-Seq_read_counts_TPM_FPKM_SRP098705.tsv.gz\n"
     ]
    },
    {
     "data": {
      "application/vnd.jupyter.widget-view+json": {
       "model_id": "eea0058139ef437a9359225f30e809ac",
       "version_major": 2,
       "version_minor": 0
      },
      "text/plain": [
       "0it [00:00, ?it/s]"
      ]
     },
     "metadata": {},
     "output_type": "display_data"
    },
    {
     "name": "stdout",
     "output_type": "stream",
     "text": [
      "Monodelphis_domestica_RNA-Seq_read_counts_TPM_FPKM/Monodelphis_domestica_RNA-Seq_read_counts_TPM_FPKM_SRP008743.tsv.gz\n"
     ]
    },
    {
     "data": {
      "application/vnd.jupyter.widget-view+json": {
       "model_id": "bfade0bc7f004d28b2668970f56b4066",
       "version_major": 2,
       "version_minor": 0
      },
      "text/plain": [
       "0it [00:00, ?it/s]"
      ]
     },
     "metadata": {},
     "output_type": "display_data"
    },
    {
     "name": "stdout",
     "output_type": "stream",
     "text": [
      "Monodelphis_domestica_RNA-Seq_read_counts_TPM_FPKM/Monodelphis_domestica_RNA-Seq_read_counts_TPM_FPKM_GSE43520.tsv.gz\n"
     ]
    },
    {
     "data": {
      "application/vnd.jupyter.widget-view+json": {
       "model_id": "178b594afe2746c1aae5cc2aad211c10",
       "version_major": 2,
       "version_minor": 0
      },
      "text/plain": [
       "0it [00:00, ?it/s]"
      ]
     },
     "metadata": {},
     "output_type": "display_data"
    },
    {
     "name": "stdout",
     "output_type": "stream",
     "text": [
      "Monodelphis_domestica_RNA-Seq_read_counts_TPM_FPKM/Monodelphis_domestica_RNA-Seq_read_counts_TPM_FPKM_SRP036951.tsv.gz\n"
     ]
    },
    {
     "data": {
      "application/vnd.jupyter.widget-view+json": {
       "model_id": "9474694fbe96470eb3406a69d02d7e97",
       "version_major": 2,
       "version_minor": 0
      },
      "text/plain": [
       "0it [00:00, ?it/s]"
      ]
     },
     "metadata": {},
     "output_type": "display_data"
    },
    {
     "name": "stdout",
     "output_type": "stream",
     "text": [
      "Monodelphis_domestica_RNA-Seq_read_counts_TPM_FPKM/Monodelphis_domestica_RNA-Seq_read_counts_TPM_FPKM_GSE30352.tsv.gz\n"
     ]
    },
    {
     "data": {
      "application/vnd.jupyter.widget-view+json": {
       "model_id": "8ab3af369dd1476984636524334321fd",
       "version_major": 2,
       "version_minor": 0
      },
      "text/plain": [
       "0it [00:00, ?it/s]"
      ]
     },
     "metadata": {},
     "output_type": "display_data"
    },
    {
     "name": "stdout",
     "output_type": "stream",
     "text": [
      "Monodelphis_domestica_RNA-Seq_read_counts_TPM_FPKM/Monodelphis_domestica_RNA-Seq_read_counts_TPM_FPKM_SRP013391.tsv.gz\n"
     ]
    },
    {
     "data": {
      "application/vnd.jupyter.widget-view+json": {
       "model_id": "d47be475048d4d9699919a4a294e4aa1",
       "version_major": 2,
       "version_minor": 0
      },
      "text/plain": [
       "0it [00:00, ?it/s]"
      ]
     },
     "metadata": {},
     "output_type": "display_data"
    },
    {
     "name": "stdout",
     "output_type": "stream",
     "text": [
      "Monodelphis_domestica_RNA-Seq_read_counts_TPM_FPKM/Monodelphis_domestica_RNA-Seq_read_counts_TPM_FPKM_ERP014610.tsv.gz\n"
     ]
    },
    {
     "data": {
      "application/vnd.jupyter.widget-view+json": {
       "model_id": "7bb973fc0a4741c69bfaad02060be432",
       "version_major": 2,
       "version_minor": 0
      },
      "text/plain": [
       "0it [00:00, ?it/s]"
      ]
     },
     "metadata": {},
     "output_type": "display_data"
    },
    {
     "name": "stdout",
     "output_type": "stream",
     "text": [
      "Monodelphis_domestica_RNA-Seq_read_counts_TPM_FPKM/Monodelphis_domestica_RNA-Seq_read_counts_TPM_FPKM_SRP061644.tsv.gz\n"
     ]
    },
    {
     "data": {
      "application/vnd.jupyter.widget-view+json": {
       "model_id": "c7d2798b4d8a455e90bfad567e45ebc9",
       "version_major": 2,
       "version_minor": 0
      },
      "text/plain": [
       "0it [00:00, ?it/s]"
      ]
     },
     "metadata": {},
     "output_type": "display_data"
    },
    {
     "name": "stdout",
     "output_type": "stream",
     "text": [
      "Mus_musculus\n"
     ]
    },
    {
     "data": {
      "application/vnd.jupyter.widget-view+json": {
       "model_id": "f43f7da9b3f04de0a255fa243c6858c0",
       "version_major": 2,
       "version_minor": 0
      },
      "text/plain": [
       "  0%|          | 0/36 [00:00<?, ?it/s]"
      ]
     },
     "metadata": {},
     "output_type": "display_data"
    },
    {
     "name": "stdout",
     "output_type": "stream",
     "text": [
      "Mus_musculus_RNA-Seq_read_counts_TPM_FPKM/Mus_musculus_RNA-Seq_read_counts_TPM_FPKM_GSE43520.tsv.gz\n"
     ]
    },
    {
     "data": {
      "application/vnd.jupyter.widget-view+json": {
       "model_id": "74ab50aec4034be3a6acecbcf10fff20",
       "version_major": 2,
       "version_minor": 0
      },
      "text/plain": [
       "0it [00:00, ?it/s]"
      ]
     },
     "metadata": {},
     "output_type": "display_data"
    },
    {
     "name": "stdout",
     "output_type": "stream",
     "text": [
      "Mus_musculus_RNA-Seq_read_counts_TPM_FPKM/Mus_musculus_RNA-Seq_read_counts_TPM_FPKM_SRP008743.tsv.gz\n"
     ]
    },
    {
     "data": {
      "application/vnd.jupyter.widget-view+json": {
       "model_id": "f748021a894d4e288b2373d5d101f1e7",
       "version_major": 2,
       "version_minor": 0
      },
      "text/plain": [
       "0it [00:00, ?it/s]"
      ]
     },
     "metadata": {},
     "output_type": "display_data"
    },
    {
     "name": "stdout",
     "output_type": "stream",
     "text": [
      "Mus_musculus_RNA-Seq_read_counts_TPM_FPKM/Mus_musculus_RNA-Seq_read_counts_TPM_FPKM_SRP045673.tsv.gz\n"
     ]
    },
    {
     "data": {
      "application/vnd.jupyter.widget-view+json": {
       "model_id": "e4c6df2eed15426f82e591a709ee9c4b",
       "version_major": 2,
       "version_minor": 0
      },
      "text/plain": [
       "0it [00:00, ?it/s]"
      ]
     },
     "metadata": {},
     "output_type": "display_data"
    },
    {
     "name": "stdout",
     "output_type": "stream",
     "text": [
      "Mus_musculus_RNA-Seq_read_counts_TPM_FPKM/Mus_musculus_RNA-Seq_read_counts_TPM_FPKM_SRP086707.tsv.gz\n"
     ]
    },
    {
     "data": {
      "application/vnd.jupyter.widget-view+json": {
       "model_id": "23534e15ace04e0284d50b8d0c78a2ea",
       "version_major": 2,
       "version_minor": 0
      },
      "text/plain": [
       "0it [00:00, ?it/s]"
      ]
     },
     "metadata": {},
     "output_type": "display_data"
    },
    {
     "name": "stdout",
     "output_type": "stream",
     "text": [
      "Mus_musculus_RNA-Seq_read_counts_TPM_FPKM/Mus_musculus_RNA-Seq_read_counts_TPM_FPKM_SRP010955.tsv.gz\n"
     ]
    },
    {
     "data": {
      "application/vnd.jupyter.widget-view+json": {
       "model_id": "873c124b22e64e3fb482c954c417606c",
       "version_major": 2,
       "version_minor": 0
      },
      "text/plain": [
       "0it [00:00, ?it/s]"
      ]
     },
     "metadata": {},
     "output_type": "display_data"
    },
    {
     "name": "stdout",
     "output_type": "stream",
     "text": [
      "Mus_musculus_RNA-Seq_read_counts_TPM_FPKM/Mus_musculus_RNA-Seq_read_counts_TPM_FPKM_SRP020526.tsv.gz\n"
     ]
    },
    {
     "data": {
      "application/vnd.jupyter.widget-view+json": {
       "model_id": "c4c9b834059b46a4a8f34610769a6873",
       "version_major": 2,
       "version_minor": 0
      },
      "text/plain": [
       "0it [00:00, ?it/s]"
      ]
     },
     "metadata": {},
     "output_type": "display_data"
    },
    {
     "name": "stdout",
     "output_type": "stream",
     "text": [
      "Mus_musculus_RNA-Seq_read_counts_TPM_FPKM/Mus_musculus_RNA-Seq_read_counts_TPM_FPKM_SRP114436.tsv.gz\n"
     ]
    },
    {
     "data": {
      "application/vnd.jupyter.widget-view+json": {
       "model_id": "08700d10980349628018e08fb46dbec3",
       "version_major": 2,
       "version_minor": 0
      },
      "text/plain": [
       "0it [00:00, ?it/s]"
      ]
     },
     "metadata": {},
     "output_type": "display_data"
    },
    {
     "name": "stdout",
     "output_type": "stream",
     "text": [
      "Mus_musculus_RNA-Seq_read_counts_TPM_FPKM/Mus_musculus_RNA-Seq_read_counts_TPM_FPKM_GSE30352.tsv.gz\n"
     ]
    },
    {
     "data": {
      "application/vnd.jupyter.widget-view+json": {
       "model_id": "bea59cd6ce9b4cb5aceff82ff6858879",
       "version_major": 2,
       "version_minor": 0
      },
      "text/plain": [
       "0it [00:00, ?it/s]"
      ]
     },
     "metadata": {},
     "output_type": "display_data"
    },
    {
     "name": "stdout",
     "output_type": "stream",
     "text": [
      "Mus_musculus_RNA-Seq_read_counts_TPM_FPKM/Mus_musculus_RNA-Seq_read_counts_TPM_FPKM_SRP162729.tsv.gz\n"
     ]
    },
    {
     "data": {
      "application/vnd.jupyter.widget-view+json": {
       "model_id": "c2fcc19b982e47209d2eac8e4e0d6f93",
       "version_major": 2,
       "version_minor": 0
      },
      "text/plain": [
       "0it [00:00, ?it/s]"
      ]
     },
     "metadata": {},
     "output_type": "display_data"
    },
    {
     "name": "stdout",
     "output_type": "stream",
     "text": [
      "Mus_musculus_RNA-Seq_read_counts_TPM_FPKM/Mus_musculus_RNA-Seq_read_counts_TPM_FPKM_SRP048535.tsv.gz\n"
     ]
    },
    {
     "data": {
      "application/vnd.jupyter.widget-view+json": {
       "model_id": "abdd7508fb4e41319d38dbb300fb7c0d",
       "version_major": 2,
       "version_minor": 0
      },
      "text/plain": [
       "0it [00:00, ?it/s]"
      ]
     },
     "metadata": {},
     "output_type": "display_data"
    },
    {
     "name": "stdout",
     "output_type": "stream",
     "text": [
      "Mus_musculus_RNA-Seq_read_counts_TPM_FPKM/Mus_musculus_RNA-Seq_read_counts_TPM_FPKM_SRP058709.tsv.gz\n"
     ]
    },
    {
     "data": {
      "application/vnd.jupyter.widget-view+json": {
       "model_id": "d351c1c9266545bd90b1b4b3aa891ec1",
       "version_major": 2,
       "version_minor": 0
      },
      "text/plain": [
       "0it [00:00, ?it/s]"
      ]
     },
     "metadata": {},
     "output_type": "display_data"
    },
    {
     "name": "stdout",
     "output_type": "stream",
     "text": [
      "Mus_musculus_RNA-Seq_read_counts_TPM_FPKM/Mus_musculus_RNA-Seq_read_counts_TPM_FPKM_GSE30617.tsv.gz\n"
     ]
    },
    {
     "data": {
      "application/vnd.jupyter.widget-view+json": {
       "model_id": "fa234652173a43aab40f2dd04f6ebb90",
       "version_major": 2,
       "version_minor": 0
      },
      "text/plain": [
       "0it [00:00, ?it/s]"
      ]
     },
     "metadata": {},
     "output_type": "display_data"
    },
    {
     "name": "stdout",
     "output_type": "stream",
     "text": [
      "Mus_musculus_RNA-Seq_read_counts_TPM_FPKM/Mus_musculus_RNA-Seq_read_counts_TPM_FPKM_SRP092128.tsv.gz\n"
     ]
    },
    {
     "data": {
      "application/vnd.jupyter.widget-view+json": {
       "model_id": "34bb3b5f031649e7a119a6324e9faf6f",
       "version_major": 2,
       "version_minor": 0
      },
      "text/plain": [
       "0it [00:00, ?it/s]"
      ]
     },
     "metadata": {},
     "output_type": "display_data"
    },
    {
     "name": "stdout",
     "output_type": "stream",
     "text": [
      "Mus_musculus_RNA-Seq_read_counts_TPM_FPKM/Mus_musculus_RNA-Seq_read_counts_TPM_FPKM_SRP007359.tsv.gz\n"
     ]
    },
    {
     "data": {
      "application/vnd.jupyter.widget-view+json": {
       "model_id": "c37dbca14cf749cfa6eaa5b5dd643e37",
       "version_major": 2,
       "version_minor": 0
      },
      "text/plain": [
       "0it [00:00, ?it/s]"
      ]
     },
     "metadata": {},
     "output_type": "display_data"
    },
    {
     "name": "stdout",
     "output_type": "stream",
     "text": [
      "Mus_musculus_RNA-Seq_read_counts_TPM_FPKM/Mus_musculus_RNA-Seq_read_counts_TPM_FPKM_SRP135698.tsv.gz\n"
     ]
    },
    {
     "data": {
      "application/vnd.jupyter.widget-view+json": {
       "model_id": "47f32352a66e4aa3929a62528a4f6350",
       "version_major": 2,
       "version_minor": 0
      },
      "text/plain": [
       "0it [00:00, ?it/s]"
      ]
     },
     "metadata": {},
     "output_type": "display_data"
    },
    {
     "name": "stdout",
     "output_type": "stream",
     "text": [
      "Mus_musculus_RNA-Seq_read_counts_TPM_FPKM/Mus_musculus_RNA-Seq_read_counts_TPM_FPKM_SRP057141.tsv.gz\n"
     ]
    },
    {
     "data": {
      "application/vnd.jupyter.widget-view+json": {
       "model_id": "6ccdf8f8d5fa46c99795d14d7187ecee",
       "version_major": 2,
       "version_minor": 0
      },
      "text/plain": [
       "0it [00:00, ?it/s]"
      ]
     },
     "metadata": {},
     "output_type": "display_data"
    },
    {
     "name": "stdout",
     "output_type": "stream",
     "text": [
      "Mus_musculus_RNA-Seq_read_counts_TPM_FPKM/Mus_musculus_RNA-Seq_read_counts_TPM_FPKM_GSE41637.tsv.gz\n"
     ]
    },
    {
     "data": {
      "application/vnd.jupyter.widget-view+json": {
       "model_id": "0aa569c8f2bd48368ef4552053174274",
       "version_major": 2,
       "version_minor": 0
      },
      "text/plain": [
       "0it [00:00, ?it/s]"
      ]
     },
     "metadata": {},
     "output_type": "display_data"
    },
    {
     "name": "stdout",
     "output_type": "stream",
     "text": [
      "Mus_musculus_RNA-Seq_read_counts_TPM_FPKM/Mus_musculus_RNA-Seq_read_counts_TPM_FPKM_SRP104670.tsv.gz\n"
     ]
    },
    {
     "data": {
      "application/vnd.jupyter.widget-view+json": {
       "model_id": "96aa828519b5417b9cab6046756b7b12",
       "version_major": 2,
       "version_minor": 0
      },
      "text/plain": [
       "0it [00:00, ?it/s]"
      ]
     },
     "metadata": {},
     "output_type": "display_data"
    },
    {
     "name": "stdout",
     "output_type": "stream",
     "text": [
      "Mus_musculus_RNA-Seq_read_counts_TPM_FPKM/Mus_musculus_RNA-Seq_read_counts_TPM_FPKM_SRP007655.tsv.gz\n"
     ]
    },
    {
     "data": {
      "application/vnd.jupyter.widget-view+json": {
       "model_id": "9d67858a3f034500bf91eacc72509a3d",
       "version_major": 2,
       "version_minor": 0
      },
      "text/plain": [
       "0it [00:00, ?it/s]"
      ]
     },
     "metadata": {},
     "output_type": "display_data"
    },
    {
     "name": "stdout",
     "output_type": "stream",
     "text": [
      "Mus_musculus_RNA-Seq_read_counts_TPM_FPKM/Mus_musculus_RNA-Seq_read_counts_TPM_FPKM_SRP074330.tsv.gz\n"
     ]
    },
    {
     "data": {
      "application/vnd.jupyter.widget-view+json": {
       "model_id": "81ccce82df764024b65ea7d6d21bf00e",
       "version_major": 2,
       "version_minor": 0
      },
      "text/plain": [
       "0it [00:00, ?it/s]"
      ]
     },
     "metadata": {},
     "output_type": "display_data"
    },
    {
     "name": "stdout",
     "output_type": "stream",
     "text": [
      "Mus_musculus_RNA-Seq_read_counts_TPM_FPKM/Mus_musculus_RNA-Seq_read_counts_TPM_FPKM_SRP013825.tsv.gz\n"
     ]
    },
    {
     "data": {
      "application/vnd.jupyter.widget-view+json": {
       "model_id": "39138ceb5be84305b4be8225e703714c",
       "version_major": 2,
       "version_minor": 0
      },
      "text/plain": [
       "0it [00:00, ?it/s]"
      ]
     },
     "metadata": {},
     "output_type": "display_data"
    },
    {
     "name": "stdout",
     "output_type": "stream",
     "text": [
      "Mus_musculus_RNA-Seq_read_counts_TPM_FPKM/Mus_musculus_RNA-Seq_read_counts_TPM_FPKM_SRP053433.tsv.gz\n"
     ]
    },
    {
     "data": {
      "application/vnd.jupyter.widget-view+json": {
       "model_id": "bd3fd38a1e7d4991b58433cc382246aa",
       "version_major": 2,
       "version_minor": 0
      },
      "text/plain": [
       "0it [00:00, ?it/s]"
      ]
     },
     "metadata": {},
     "output_type": "display_data"
    },
    {
     "name": "stdout",
     "output_type": "stream",
     "text": [
      "Mus_musculus_RNA-Seq_read_counts_TPM_FPKM/Mus_musculus_RNA-Seq_read_counts_TPM_FPKM_ERP012910.tsv.gz\n"
     ]
    },
    {
     "data": {
      "application/vnd.jupyter.widget-view+json": {
       "model_id": "ac2e676044f345dd98f2eda724acd28a",
       "version_major": 2,
       "version_minor": 0
      },
      "text/plain": [
       "0it [00:00, ?it/s]"
      ]
     },
     "metadata": {},
     "output_type": "display_data"
    },
    {
     "name": "stdout",
     "output_type": "stream",
     "text": [
      "Mus_musculus_RNA-Seq_read_counts_TPM_FPKM/Mus_musculus_RNA-Seq_read_counts_TPM_FPKM_SRP092799.tsv.gz\n"
     ]
    },
    {
     "data": {
      "application/vnd.jupyter.widget-view+json": {
       "model_id": "0c44f52c48174bf2b88132acbc9bc6c7",
       "version_major": 2,
       "version_minor": 0
      },
      "text/plain": [
       "0it [00:00, ?it/s]"
      ]
     },
     "metadata": {},
     "output_type": "display_data"
    },
    {
     "name": "stdout",
     "output_type": "stream",
     "text": [
      "Mus_musculus_RNA-Seq_read_counts_TPM_FPKM/Mus_musculus_RNA-Seq_read_counts_TPM_FPKM_SRP061644.tsv.gz\n"
     ]
    },
    {
     "data": {
      "application/vnd.jupyter.widget-view+json": {
       "model_id": "7a19f37e90834662bf285c7190f541ec",
       "version_major": 2,
       "version_minor": 0
      },
      "text/plain": [
       "0it [00:00, ?it/s]"
      ]
     },
     "metadata": {},
     "output_type": "display_data"
    },
    {
     "name": "stdout",
     "output_type": "stream",
     "text": [
      "Mus_musculus_RNA-Seq_read_counts_TPM_FPKM/Mus_musculus_RNA-Seq_read_counts_TPM_FPKM_SRP070644.tsv.gz\n"
     ]
    },
    {
     "data": {
      "application/vnd.jupyter.widget-view+json": {
       "model_id": "17af86dbee1243db92e7634b34e30850",
       "version_major": 2,
       "version_minor": 0
      },
      "text/plain": [
       "0it [00:00, ?it/s]"
      ]
     },
     "metadata": {},
     "output_type": "display_data"
    },
    {
     "name": "stdout",
     "output_type": "stream",
     "text": [
      "Mus_musculus_RNA-Seq_read_counts_TPM_FPKM/Mus_musculus_RNA-Seq_read_counts_TPM_FPKM_GSE43013.tsv.gz\n"
     ]
    },
    {
     "data": {
      "application/vnd.jupyter.widget-view+json": {
       "model_id": "c05444071dcd4f9e92ce9a9265ce2b80",
       "version_major": 2,
       "version_minor": 0
      },
      "text/plain": [
       "0it [00:00, ?it/s]"
      ]
     },
     "metadata": {},
     "output_type": "display_data"
    },
    {
     "name": "stdout",
     "output_type": "stream",
     "text": [
      "Mus_musculus_RNA-Seq_read_counts_TPM_FPKM/Mus_musculus_RNA-Seq_read_counts_TPM_FPKM_GSE43721.tsv.gz\n"
     ]
    },
    {
     "data": {
      "application/vnd.jupyter.widget-view+json": {
       "model_id": "0fac8fbefd144d73b510dbb3f661a236",
       "version_major": 2,
       "version_minor": 0
      },
      "text/plain": [
       "0it [00:00, ?it/s]"
      ]
     },
     "metadata": {},
     "output_type": "display_data"
    },
    {
     "name": "stdout",
     "output_type": "stream",
     "text": [
      "Mus_musculus_RNA-Seq_read_counts_TPM_FPKM/Mus_musculus_RNA-Seq_read_counts_TPM_FPKM_SRP013027.tsv.gz\n"
     ]
    },
    {
     "data": {
      "application/vnd.jupyter.widget-view+json": {
       "model_id": "062b80409949446d97d10eb22ae76cca",
       "version_major": 2,
       "version_minor": 0
      },
      "text/plain": [
       "0it [00:00, ?it/s]"
      ]
     },
     "metadata": {},
     "output_type": "display_data"
    },
    {
     "name": "stdout",
     "output_type": "stream",
     "text": [
      "Mus_musculus_RNA-Seq_read_counts_TPM_FPKM/Mus_musculus_RNA-Seq_read_counts_TPM_FPKM_ERP000787.tsv.gz\n"
     ]
    },
    {
     "data": {
      "application/vnd.jupyter.widget-view+json": {
       "model_id": "1e5f29f793f64c27b35ed0eaa6b7523c",
       "version_major": 2,
       "version_minor": 0
      },
      "text/plain": [
       "0it [00:00, ?it/s]"
      ]
     },
     "metadata": {},
     "output_type": "display_data"
    },
    {
     "name": "stdout",
     "output_type": "stream",
     "text": [
      "Mus_musculus_RNA-Seq_read_counts_TPM_FPKM/Mus_musculus_RNA-Seq_read_counts_TPM_FPKM_ERP104395.tsv.gz\n"
     ]
    },
    {
     "data": {
      "application/vnd.jupyter.widget-view+json": {
       "model_id": "16eb751d334f4a70890571aaa8d07e00",
       "version_major": 2,
       "version_minor": 0
      },
      "text/plain": [
       "0it [00:00, ?it/s]"
      ]
     },
     "metadata": {},
     "output_type": "display_data"
    },
    {
     "name": "stdout",
     "output_type": "stream",
     "text": [
      "Mus_musculus_RNA-Seq_read_counts_TPM_FPKM/Mus_musculus_RNA-Seq_read_counts_TPM_FPKM_GSE41338.tsv.gz\n"
     ]
    },
    {
     "data": {
      "application/vnd.jupyter.widget-view+json": {
       "model_id": "92e0a2e29e9a4d1f83c934babb98aabd",
       "version_major": 2,
       "version_minor": 0
      },
      "text/plain": [
       "0it [00:00, ?it/s]"
      ]
     },
     "metadata": {},
     "output_type": "display_data"
    },
    {
     "name": "stdout",
     "output_type": "stream",
     "text": [
      "Mus_musculus_RNA-Seq_read_counts_TPM_FPKM/Mus_musculus_RNA-Seq_read_counts_TPM_FPKM_SRP022612.tsv.gz\n"
     ]
    },
    {
     "data": {
      "application/vnd.jupyter.widget-view+json": {
       "model_id": "f3291895bc41484da3a3121390ade668",
       "version_major": 2,
       "version_minor": 0
      },
      "text/plain": [
       "0it [00:00, ?it/s]"
      ]
     },
     "metadata": {},
     "output_type": "display_data"
    },
    {
     "name": "stdout",
     "output_type": "stream",
     "text": [
      "Mus_musculus_RNA-Seq_read_counts_TPM_FPKM/Mus_musculus_RNA-Seq_read_counts_TPM_FPKM_SRP058740.tsv.gz\n"
     ]
    },
    {
     "data": {
      "application/vnd.jupyter.widget-view+json": {
       "model_id": "a10a9ddd306148c3b953840eaf0364c9",
       "version_major": 2,
       "version_minor": 0
      },
      "text/plain": [
       "0it [00:00, ?it/s]"
      ]
     },
     "metadata": {},
     "output_type": "display_data"
    },
    {
     "name": "stdout",
     "output_type": "stream",
     "text": [
      "Mus_musculus_RNA-Seq_read_counts_TPM_FPKM/Mus_musculus_RNA-Seq_read_counts_TPM_FPKM_SRP028336.tsv.gz\n"
     ]
    },
    {
     "data": {
      "application/vnd.jupyter.widget-view+json": {
       "model_id": "5d71274cc74649b19321a85241804642",
       "version_major": 2,
       "version_minor": 0
      },
      "text/plain": [
       "0it [00:00, ?it/s]"
      ]
     },
     "metadata": {},
     "output_type": "display_data"
    },
    {
     "name": "stdout",
     "output_type": "stream",
     "text": [
      "Mus_musculus_RNA-Seq_read_counts_TPM_FPKM/Mus_musculus_RNA-Seq_read_counts_TPM_FPKM_SRP045471.tsv.gz\n"
     ]
    },
    {
     "data": {
      "application/vnd.jupyter.widget-view+json": {
       "model_id": "2a381ba756d14c1985264a2895c7a6ea",
       "version_major": 2,
       "version_minor": 0
      },
      "text/plain": [
       "0it [00:00, ?it/s]"
      ]
     },
     "metadata": {},
     "output_type": "display_data"
    },
    {
     "name": "stdout",
     "output_type": "stream",
     "text": [
      "Ornithorhynchus_anatinus\n"
     ]
    },
    {
     "data": {
      "application/vnd.jupyter.widget-view+json": {
       "model_id": "3a082c193b5f4893975f3bb58a7b2615",
       "version_major": 2,
       "version_minor": 0
      },
      "text/plain": [
       "  0%|          | 0/4 [00:00<?, ?it/s]"
      ]
     },
     "metadata": {},
     "output_type": "display_data"
    },
    {
     "name": "stdout",
     "output_type": "stream",
     "text": [
      "Ornithorhynchus_anatinus_RNA-Seq_read_counts_TPM_FPKM/Ornithorhynchus_anatinus_RNA-Seq_read_counts_TPM_FPKM_SRP042024.tsv.gz\n"
     ]
    },
    {
     "data": {
      "application/vnd.jupyter.widget-view+json": {
       "model_id": "21b707ee75304385b84718c9417ceac3",
       "version_major": 2,
       "version_minor": 0
      },
      "text/plain": [
       "0it [00:00, ?it/s]"
      ]
     },
     "metadata": {},
     "output_type": "display_data"
    },
    {
     "name": "stdout",
     "output_type": "stream",
     "text": [
      "Ornithorhynchus_anatinus_RNA-Seq_read_counts_TPM_FPKM/Ornithorhynchus_anatinus_RNA-Seq_read_counts_TPM_FPKM_GSE43520.tsv.gz\n"
     ]
    },
    {
     "data": {
      "application/vnd.jupyter.widget-view+json": {
       "model_id": "2e52407cb52d43c28cfe529a13d1c1f6",
       "version_major": 2,
       "version_minor": 0
      },
      "text/plain": [
       "0it [00:00, ?it/s]"
      ]
     },
     "metadata": {},
     "output_type": "display_data"
    },
    {
     "name": "stdout",
     "output_type": "stream",
     "text": [
      "Ornithorhynchus_anatinus_RNA-Seq_read_counts_TPM_FPKM/Ornithorhynchus_anatinus_RNA-Seq_read_counts_TPM_FPKM_SRP011081.tsv.gz\n"
     ]
    },
    {
     "data": {
      "application/vnd.jupyter.widget-view+json": {
       "model_id": "6a511a67144a444aa0feec1313b0dd5b",
       "version_major": 2,
       "version_minor": 0
      },
      "text/plain": [
       "0it [00:00, ?it/s]"
      ]
     },
     "metadata": {},
     "output_type": "display_data"
    },
    {
     "name": "stdout",
     "output_type": "stream",
     "text": [
      "Ornithorhynchus_anatinus_RNA-Seq_read_counts_TPM_FPKM/Ornithorhynchus_anatinus_RNA-Seq_read_counts_TPM_FPKM_GSE30352.tsv.gz\n"
     ]
    },
    {
     "data": {
      "application/vnd.jupyter.widget-view+json": {
       "model_id": "5e8c197e123948b8be9daf4d33ce5dcd",
       "version_major": 2,
       "version_minor": 0
      },
      "text/plain": [
       "0it [00:00, ?it/s]"
      ]
     },
     "metadata": {},
     "output_type": "display_data"
    },
    {
     "name": "stdout",
     "output_type": "stream",
     "text": [
      "Oryzias_latipes\n"
     ]
    },
    {
     "data": {
      "application/vnd.jupyter.widget-view+json": {
       "model_id": "57af721e6dae4a70adee0be7070dde53",
       "version_major": 2,
       "version_minor": 0
      },
      "text/plain": [
       "  0%|          | 0/15 [00:00<?, ?it/s]"
      ]
     },
     "metadata": {},
     "output_type": "display_data"
    },
    {
     "name": "stdout",
     "output_type": "stream",
     "text": [
      "Oryzias_latipes_RNA-Seq_read_counts_TPM_FPKM/Oryzias_latipes_RNA-Seq_read_counts_TPM_FPKM_SRP049254.tsv.gz\n"
     ]
    },
    {
     "data": {
      "application/vnd.jupyter.widget-view+json": {
       "model_id": "ed8e6e2889a441a7be5e004bc49c1738",
       "version_major": 2,
       "version_minor": 0
      },
      "text/plain": [
       "0it [00:00, ?it/s]"
      ]
     },
     "metadata": {},
     "output_type": "display_data"
    },
    {
     "name": "stdout",
     "output_type": "stream",
     "text": [
      "Oryzias_latipes_RNA-Seq_read_counts_TPM_FPKM/Oryzias_latipes_RNA-Seq_read_counts_TPM_FPKM_SRP000304.tsv.gz\n"
     ]
    },
    {
     "data": {
      "application/vnd.jupyter.widget-view+json": {
       "model_id": "889ef46230ac40bf885741ae8b867739",
       "version_major": 2,
       "version_minor": 0
      },
      "text/plain": [
       "0it [00:00, ?it/s]"
      ]
     },
     "metadata": {},
     "output_type": "display_data"
    },
    {
     "name": "stdout",
     "output_type": "stream",
     "text": [
      "Oryzias_latipes_RNA-Seq_read_counts_TPM_FPKM/Oryzias_latipes_RNA-Seq_read_counts_TPM_FPKM_SRP008998.tsv.gz\n"
     ]
    },
    {
     "data": {
      "application/vnd.jupyter.widget-view+json": {
       "model_id": "ccc05fb328574195b8e77ac4571ee4e6",
       "version_major": 2,
       "version_minor": 0
      },
      "text/plain": [
       "0it [00:00, ?it/s]"
      ]
     },
     "metadata": {},
     "output_type": "display_data"
    },
    {
     "name": "stdout",
     "output_type": "stream",
     "text": [
      "Oryzias_latipes_RNA-Seq_read_counts_TPM_FPKM/Oryzias_latipes_RNA-Seq_read_counts_TPM_FPKM_SRP021892.tsv.gz\n"
     ]
    },
    {
     "data": {
      "application/vnd.jupyter.widget-view+json": {
       "model_id": "188a299531744a68a034eedb00da6446",
       "version_major": 2,
       "version_minor": 0
      },
      "text/plain": [
       "0it [00:00, ?it/s]"
      ]
     },
     "metadata": {},
     "output_type": "display_data"
    },
    {
     "name": "stdout",
     "output_type": "stream",
     "text": [
      "Oryzias_latipes_RNA-Seq_read_counts_TPM_FPKM/Oryzias_latipes_RNA-Seq_read_counts_TPM_FPKM_DRP000571.tsv.gz\n"
     ]
    },
    {
     "data": {
      "application/vnd.jupyter.widget-view+json": {
       "model_id": "3d5c267c06ac4f13beffc530e9dd25c8",
       "version_major": 2,
       "version_minor": 0
      },
      "text/plain": [
       "0it [00:00, ?it/s]"
      ]
     },
     "metadata": {},
     "output_type": "display_data"
    },
    {
     "name": "stdout",
     "output_type": "stream",
     "text": [
      "Oryzias_latipes_RNA-Seq_read_counts_TPM_FPKM/Oryzias_latipes_RNA-Seq_read_counts_TPM_FPKM_SRP066987.tsv.gz\n"
     ]
    },
    {
     "data": {
      "application/vnd.jupyter.widget-view+json": {
       "model_id": "cfc9ca70f35e4a9891fc3b94f7e5fdb0",
       "version_major": 2,
       "version_minor": 0
      },
      "text/plain": [
       "0it [00:00, ?it/s]"
      ]
     },
     "metadata": {},
     "output_type": "display_data"
    },
    {
     "name": "stdout",
     "output_type": "stream",
     "text": [
      "Oryzias_latipes_RNA-Seq_read_counts_TPM_FPKM/Oryzias_latipes_RNA-Seq_read_counts_TPM_FPKM_DRP003809.tsv.gz\n"
     ]
    },
    {
     "data": {
      "application/vnd.jupyter.widget-view+json": {
       "model_id": "eafd6c57ac65426d8b1d13e46101904b",
       "version_major": 2,
       "version_minor": 0
      },
      "text/plain": [
       "0it [00:00, ?it/s]"
      ]
     },
     "metadata": {},
     "output_type": "display_data"
    },
    {
     "name": "stdout",
     "output_type": "stream",
     "text": [
      "Oryzias_latipes_RNA-Seq_read_counts_TPM_FPKM/Oryzias_latipes_RNA-Seq_read_counts_TPM_FPKM_SRP004363.tsv.gz\n"
     ]
    },
    {
     "data": {
      "application/vnd.jupyter.widget-view+json": {
       "model_id": "9d50270a04b34b3aa1ba0e4066d57920",
       "version_major": 2,
       "version_minor": 0
      },
      "text/plain": [
       "0it [00:00, ?it/s]"
      ]
     },
     "metadata": {},
     "output_type": "display_data"
    },
    {
     "name": "stdout",
     "output_type": "stream",
     "text": [
      "Oryzias_latipes_RNA-Seq_read_counts_TPM_FPKM/Oryzias_latipes_RNA-Seq_read_counts_TPM_FPKM_SRP123447.tsv.gz\n"
     ]
    },
    {
     "data": {
      "application/vnd.jupyter.widget-view+json": {
       "model_id": "4bc749dc0beb4f1d97c688d4d9982c8d",
       "version_major": 2,
       "version_minor": 0
      },
      "text/plain": [
       "0it [00:00, ?it/s]"
      ]
     },
     "metadata": {},
     "output_type": "display_data"
    },
    {
     "name": "stdout",
     "output_type": "stream",
     "text": [
      "Oryzias_latipes_RNA-Seq_read_counts_TPM_FPKM/Oryzias_latipes_RNA-Seq_read_counts_TPM_FPKM_SRP041650.tsv.gz\n"
     ]
    },
    {
     "data": {
      "application/vnd.jupyter.widget-view+json": {
       "model_id": "17dbf190c3d14916b6fa642fab68944a",
       "version_major": 2,
       "version_minor": 0
      },
      "text/plain": [
       "0it [00:00, ?it/s]"
      ]
     },
     "metadata": {},
     "output_type": "display_data"
    },
    {
     "name": "stdout",
     "output_type": "stream",
     "text": [
      "Oryzias_latipes_RNA-Seq_read_counts_TPM_FPKM/Oryzias_latipes_RNA-Seq_read_counts_TPM_FPKM_SRP116580.tsv.gz\n"
     ]
    },
    {
     "data": {
      "application/vnd.jupyter.widget-view+json": {
       "model_id": "1e0b104b656f449f9c042ca6b0084c12",
       "version_major": 2,
       "version_minor": 0
      },
      "text/plain": [
       "0it [00:00, ?it/s]"
      ]
     },
     "metadata": {},
     "output_type": "display_data"
    },
    {
     "name": "stdout",
     "output_type": "stream",
     "text": [
      "Oryzias_latipes_RNA-Seq_read_counts_TPM_FPKM/Oryzias_latipes_RNA-Seq_read_counts_TPM_FPKM_DRP001158.tsv.gz\n"
     ]
    },
    {
     "data": {
      "application/vnd.jupyter.widget-view+json": {
       "model_id": "f2901b6a9ea24a5a8cc0a20a57a47a57",
       "version_major": 2,
       "version_minor": 0
      },
      "text/plain": [
       "0it [00:00, ?it/s]"
      ]
     },
     "metadata": {},
     "output_type": "display_data"
    },
    {
     "name": "stdout",
     "output_type": "stream",
     "text": [
      "Oryzias_latipes_RNA-Seq_read_counts_TPM_FPKM/Oryzias_latipes_RNA-Seq_read_counts_TPM_FPKM_ERP010733.tsv.gz\n"
     ]
    },
    {
     "data": {
      "application/vnd.jupyter.widget-view+json": {
       "model_id": "9a152f2a69af4c118d4dde1295e3e48a",
       "version_major": 2,
       "version_minor": 0
      },
      "text/plain": [
       "0it [00:00, ?it/s]"
      ]
     },
     "metadata": {},
     "output_type": "display_data"
    },
    {
     "name": "stdout",
     "output_type": "stream",
     "text": [
      "Oryzias_latipes_RNA-Seq_read_counts_TPM_FPKM/Oryzias_latipes_RNA-Seq_read_counts_TPM_FPKM_ERP010463.tsv.gz\n"
     ]
    },
    {
     "data": {
      "application/vnd.jupyter.widget-view+json": {
       "model_id": "66219e5f07c943e89a385a72f8a9f340",
       "version_major": 2,
       "version_minor": 0
      },
      "text/plain": [
       "0it [00:00, ?it/s]"
      ]
     },
     "metadata": {},
     "output_type": "display_data"
    },
    {
     "name": "stdout",
     "output_type": "stream",
     "text": [
      "Oryzias_latipes_RNA-Seq_read_counts_TPM_FPKM/Oryzias_latipes_RNA-Seq_read_counts_TPM_FPKM_SRP044784.tsv.gz\n"
     ]
    },
    {
     "data": {
      "application/vnd.jupyter.widget-view+json": {
       "model_id": "f7acd123f0774e10af898044594bd5d6",
       "version_major": 2,
       "version_minor": 0
      },
      "text/plain": [
       "0it [00:00, ?it/s]"
      ]
     },
     "metadata": {},
     "output_type": "display_data"
    },
    {
     "name": "stdout",
     "output_type": "stream",
     "text": [
      "Pan_troglodytes\n"
     ]
    },
    {
     "data": {
      "application/vnd.jupyter.widget-view+json": {
       "model_id": "6d9ffc42e971469885987ab217a4c190",
       "version_major": 2,
       "version_minor": 0
      },
      "text/plain": [
       "  0%|          | 0/18 [00:00<?, ?it/s]"
      ]
     },
     "metadata": {},
     "output_type": "display_data"
    },
    {
     "name": "stdout",
     "output_type": "stream",
     "text": [
      "Pan_troglodytes_RNA-Seq_read_counts_TPM_FPKM/Pan_troglodytes_RNA-Seq_read_counts_TPM_FPKM_SRP092096.tsv.gz\n"
     ]
    },
    {
     "data": {
      "application/vnd.jupyter.widget-view+json": {
       "model_id": "97942b3b07604133a2a8cf45cd328dd2",
       "version_major": 2,
       "version_minor": 0
      },
      "text/plain": [
       "0it [00:00, ?it/s]"
      ]
     },
     "metadata": {},
     "output_type": "display_data"
    },
    {
     "name": "stdout",
     "output_type": "stream",
     "text": [
      "Pan_troglodytes_RNA-Seq_read_counts_TPM_FPKM/Pan_troglodytes_RNA-Seq_read_counts_TPM_FPKM_DRP000894.tsv.gz\n"
     ]
    },
    {
     "data": {
      "application/vnd.jupyter.widget-view+json": {
       "model_id": "686c29168d56439a95cf11e1277afae4",
       "version_major": 2,
       "version_minor": 0
      },
      "text/plain": [
       "0it [00:00, ?it/s]"
      ]
     },
     "metadata": {},
     "output_type": "display_data"
    },
    {
     "name": "stdout",
     "output_type": "stream",
     "text": [
      "Pan_troglodytes_RNA-Seq_read_counts_TPM_FPKM/Pan_troglodytes_RNA-Seq_read_counts_TPM_FPKM_SRP003276.tsv.gz\n"
     ]
    },
    {
     "data": {
      "application/vnd.jupyter.widget-view+json": {
       "model_id": "dffeec31382b46fab964bac99583e994",
       "version_major": 2,
       "version_minor": 0
      },
      "text/plain": [
       "0it [00:00, ?it/s]"
      ]
     },
     "metadata": {},
     "output_type": "display_data"
    },
    {
     "name": "stdout",
     "output_type": "stream",
     "text": [
      "Pan_troglodytes_RNA-Seq_read_counts_TPM_FPKM/Pan_troglodytes_RNA-Seq_read_counts_TPM_FPKM_SRP034929.tsv.gz\n"
     ]
    },
    {
     "data": {
      "application/vnd.jupyter.widget-view+json": {
       "model_id": "ab7563d6d0164eff8b64141815abb30d",
       "version_major": 2,
       "version_minor": 0
      },
      "text/plain": [
       "0it [00:00, ?it/s]"
      ]
     },
     "metadata": {},
     "output_type": "display_data"
    },
    {
     "name": "stdout",
     "output_type": "stream",
     "text": [
      "Pan_troglodytes_RNA-Seq_read_counts_TPM_FPKM/Pan_troglodytes_RNA-Seq_read_counts_TPM_FPKM_SRP001558.tsv.gz\n"
     ]
    },
    {
     "data": {
      "application/vnd.jupyter.widget-view+json": {
       "model_id": "bd078977ca644cb2b995eaf32f749e3d",
       "version_major": 2,
       "version_minor": 0
      },
      "text/plain": [
       "0it [00:00, ?it/s]"
      ]
     },
     "metadata": {},
     "output_type": "display_data"
    },
    {
     "name": "stdout",
     "output_type": "stream",
     "text": [
      "Pan_troglodytes_RNA-Seq_read_counts_TPM_FPKM/Pan_troglodytes_RNA-Seq_read_counts_TPM_FPKM_SRP058740.tsv.gz\n"
     ]
    },
    {
     "data": {
      "application/vnd.jupyter.widget-view+json": {
       "model_id": "c23321da6ea546cfa0ff68ffc28281c4",
       "version_major": 2,
       "version_minor": 0
      },
      "text/plain": [
       "0it [00:00, ?it/s]"
      ]
     },
     "metadata": {},
     "output_type": "display_data"
    },
    {
     "name": "stdout",
     "output_type": "stream",
     "text": [
      "Pan_troglodytes_RNA-Seq_read_counts_TPM_FPKM/Pan_troglodytes_RNA-Seq_read_counts_TPM_FPKM_SRP028336.tsv.gz\n"
     ]
    },
    {
     "data": {
      "application/vnd.jupyter.widget-view+json": {
       "model_id": "810dd3f132c143e9852044d92470bf58",
       "version_major": 2,
       "version_minor": 0
      },
      "text/plain": [
       "0it [00:00, ?it/s]"
      ]
     },
     "metadata": {},
     "output_type": "display_data"
    },
    {
     "name": "stdout",
     "output_type": "stream",
     "text": [
      "Pan_troglodytes_RNA-Seq_read_counts_TPM_FPKM/Pan_troglodytes_RNA-Seq_read_counts_TPM_FPKM_SRP044228.tsv.gz\n"
     ]
    },
    {
     "data": {
      "application/vnd.jupyter.widget-view+json": {
       "model_id": "4e9ddbb1818943b3930798ded724115e",
       "version_major": 2,
       "version_minor": 0
      },
      "text/plain": [
       "0it [00:00, ?it/s]"
      ]
     },
     "metadata": {},
     "output_type": "display_data"
    },
    {
     "name": "stdout",
     "output_type": "stream",
     "text": [
      "Pan_troglodytes_RNA-Seq_read_counts_TPM_FPKM/Pan_troglodytes_RNA-Seq_read_counts_TPM_FPKM_ERP002376.tsv.gz\n"
     ]
    },
    {
     "data": {
      "application/vnd.jupyter.widget-view+json": {
       "model_id": "d2143b339f914022bff7a413ba6d9870",
       "version_major": 2,
       "version_minor": 0
      },
      "text/plain": [
       "0it [00:00, ?it/s]"
      ]
     },
     "metadata": {},
     "output_type": "display_data"
    },
    {
     "name": "stdout",
     "output_type": "stream",
     "text": [
      "Pan_troglodytes_RNA-Seq_read_counts_TPM_FPKM/Pan_troglodytes_RNA-Seq_read_counts_TPM_FPKM_GSE30352.tsv.gz\n"
     ]
    },
    {
     "data": {
      "application/vnd.jupyter.widget-view+json": {
       "model_id": "a99ced1591c8454e8f271d5d45252142",
       "version_major": 2,
       "version_minor": 0
      },
      "text/plain": [
       "0it [00:00, ?it/s]"
      ]
     },
     "metadata": {},
     "output_type": "display_data"
    },
    {
     "name": "stdout",
     "output_type": "stream",
     "text": [
      "Pan_troglodytes_RNA-Seq_read_counts_TPM_FPKM/Pan_troglodytes_RNA-Seq_read_counts_TPM_FPKM_SRP008743.tsv.gz\n"
     ]
    },
    {
     "data": {
      "application/vnd.jupyter.widget-view+json": {
       "model_id": "617078532613465ca573b8964857472d",
       "version_major": 2,
       "version_minor": 0
      },
      "text/plain": [
       "0it [00:00, ?it/s]"
      ]
     },
     "metadata": {},
     "output_type": "display_data"
    },
    {
     "name": "stdout",
     "output_type": "stream",
     "text": [
      "Pan_troglodytes_RNA-Seq_read_counts_TPM_FPKM/Pan_troglodytes_RNA-Seq_read_counts_TPM_FPKM_SRP065273.tsv.gz\n"
     ]
    },
    {
     "data": {
      "application/vnd.jupyter.widget-view+json": {
       "model_id": "15c9cd1669694c6ea2036f1c65cef098",
       "version_major": 2,
       "version_minor": 0
      },
      "text/plain": [
       "0it [00:00, ?it/s]"
      ]
     },
     "metadata": {},
     "output_type": "display_data"
    },
    {
     "name": "stdout",
     "output_type": "stream",
     "text": [
      "Pan_troglodytes_RNA-Seq_read_counts_TPM_FPKM/Pan_troglodytes_RNA-Seq_read_counts_TPM_FPKM_SRP019762.tsv.gz\n"
     ]
    },
    {
     "data": {
      "application/vnd.jupyter.widget-view+json": {
       "model_id": "31891151b830492fb481ed8e7f4887f7",
       "version_major": 2,
       "version_minor": 0
      },
      "text/plain": [
       "0it [00:00, ?it/s]"
      ]
     },
     "metadata": {},
     "output_type": "display_data"
    },
    {
     "name": "stdout",
     "output_type": "stream",
     "text": [
      "Pan_troglodytes_RNA-Seq_read_counts_TPM_FPKM/Pan_troglodytes_RNA-Seq_read_counts_TPM_FPKM_SRP051959.tsv.gz\n"
     ]
    },
    {
     "data": {
      "application/vnd.jupyter.widget-view+json": {
       "model_id": "55fc6a00762545339d300a6ec0d4dbb3",
       "version_major": 2,
       "version_minor": 0
      },
      "text/plain": [
       "0it [00:00, ?it/s]"
      ]
     },
     "metadata": {},
     "output_type": "display_data"
    },
    {
     "name": "stdout",
     "output_type": "stream",
     "text": [
      "Pan_troglodytes_RNA-Seq_read_counts_TPM_FPKM/Pan_troglodytes_RNA-Seq_read_counts_TPM_FPKM_SRP021223.tsv.gz\n"
     ]
    },
    {
     "data": {
      "application/vnd.jupyter.widget-view+json": {
       "model_id": "673165455512456a977e4aa9e3281078",
       "version_major": 2,
       "version_minor": 0
      },
      "text/plain": [
       "0it [00:00, ?it/s]"
      ]
     },
     "metadata": {},
     "output_type": "display_data"
    },
    {
     "name": "stdout",
     "output_type": "stream",
     "text": [
      "Pan_troglodytes_RNA-Seq_read_counts_TPM_FPKM/Pan_troglodytes_RNA-Seq_read_counts_TPM_FPKM_SRP019755.tsv.gz\n"
     ]
    },
    {
     "data": {
      "application/vnd.jupyter.widget-view+json": {
       "model_id": "17c26f8a8f4a4e9c9c516c29d6e875e4",
       "version_major": 2,
       "version_minor": 0
      },
      "text/plain": [
       "0it [00:00, ?it/s]"
      ]
     },
     "metadata": {},
     "output_type": "display_data"
    },
    {
     "name": "stdout",
     "output_type": "stream",
     "text": [
      "Pan_troglodytes_RNA-Seq_read_counts_TPM_FPKM/Pan_troglodytes_RNA-Seq_read_counts_TPM_FPKM_SRP009336.tsv.gz\n"
     ]
    },
    {
     "data": {
      "application/vnd.jupyter.widget-view+json": {
       "model_id": "58e4a0db763a40cfbdf43111318128db",
       "version_major": 2,
       "version_minor": 0
      },
      "text/plain": [
       "0it [00:00, ?it/s]"
      ]
     },
     "metadata": {},
     "output_type": "display_data"
    },
    {
     "name": "stdout",
     "output_type": "stream",
     "text": [
      "Pan_troglodytes_RNA-Seq_read_counts_TPM_FPKM/Pan_troglodytes_RNA-Seq_read_counts_TPM_FPKM_DRP003657.tsv.gz\n"
     ]
    },
    {
     "data": {
      "application/vnd.jupyter.widget-view+json": {
       "model_id": "80acf7a51b21469395e322378ef036ab",
       "version_major": 2,
       "version_minor": 0
      },
      "text/plain": [
       "0it [00:00, ?it/s]"
      ]
     },
     "metadata": {},
     "output_type": "display_data"
    },
    {
     "name": "stdout",
     "output_type": "stream",
     "text": [
      "Rattus_norvegicus\n"
     ]
    },
    {
     "data": {
      "application/vnd.jupyter.widget-view+json": {
       "model_id": "6425838e76d848458bda331a5f942fff",
       "version_major": 2,
       "version_minor": 0
      },
      "text/plain": [
       "  0%|          | 0/10 [00:00<?, ?it/s]"
      ]
     },
     "metadata": {},
     "output_type": "display_data"
    },
    {
     "name": "stdout",
     "output_type": "stream",
     "text": [
      "Rattus_norvegicus_RNA-Seq_read_counts_TPM_FPKM/Rattus_norvegicus_RNA-Seq_read_counts_TPM_FPKM_SRP030211.tsv.gz\n"
     ]
    },
    {
     "data": {
      "application/vnd.jupyter.widget-view+json": {
       "model_id": "d30580025cd04bbda00737afe83fac22",
       "version_major": 2,
       "version_minor": 0
      },
      "text/plain": [
       "0it [00:00, ?it/s]"
      ]
     },
     "metadata": {},
     "output_type": "display_data"
    },
    {
     "name": "stdout",
     "output_type": "stream",
     "text": [
      "Rattus_norvegicus_RNA-Seq_read_counts_TPM_FPKM/Rattus_norvegicus_RNA-Seq_read_counts_TPM_FPKM_GSE43013.tsv.gz\n"
     ]
    },
    {
     "data": {
      "application/vnd.jupyter.widget-view+json": {
       "model_id": "43359cecb3c143e4b3cf580b337a44e1",
       "version_major": 2,
       "version_minor": 0
      },
      "text/plain": [
       "0it [00:00, ?it/s]"
      ]
     },
     "metadata": {},
     "output_type": "display_data"
    },
    {
     "name": "stdout",
     "output_type": "stream",
     "text": [
      "Rattus_norvegicus_RNA-Seq_read_counts_TPM_FPKM/Rattus_norvegicus_RNA-Seq_read_counts_TPM_FPKM_ERP104395.tsv.gz\n"
     ]
    },
    {
     "data": {
      "application/vnd.jupyter.widget-view+json": {
       "model_id": "95368f422e484fd6aeee1ce89fa8a5c4",
       "version_major": 2,
       "version_minor": 0
      },
      "text/plain": [
       "0it [00:00, ?it/s]"
      ]
     },
     "metadata": {},
     "output_type": "display_data"
    },
    {
     "name": "stdout",
     "output_type": "stream",
     "text": [
      "Rattus_norvegicus_RNA-Seq_read_counts_TPM_FPKM/Rattus_norvegicus_RNA-Seq_read_counts_TPM_FPKM_ERP000787.tsv.gz\n"
     ]
    },
    {
     "data": {
      "application/vnd.jupyter.widget-view+json": {
       "model_id": "b28b870690c44b6ba4864abc0354e16d",
       "version_major": 2,
       "version_minor": 0
      },
      "text/plain": [
       "0it [00:00, ?it/s]"
      ]
     },
     "metadata": {},
     "output_type": "display_data"
    },
    {
     "name": "stdout",
     "output_type": "stream",
     "text": [
      "Rattus_norvegicus_RNA-Seq_read_counts_TPM_FPKM/Rattus_norvegicus_RNA-Seq_read_counts_TPM_FPKM_SRP029760.tsv.gz\n"
     ]
    },
    {
     "data": {
      "application/vnd.jupyter.widget-view+json": {
       "model_id": "04a997912ef74ce29fda202382664680",
       "version_major": 2,
       "version_minor": 0
      },
      "text/plain": [
       "0it [00:00, ?it/s]"
      ]
     },
     "metadata": {},
     "output_type": "display_data"
    },
    {
     "name": "stdout",
     "output_type": "stream",
     "text": [
      "Rattus_norvegicus_RNA-Seq_read_counts_TPM_FPKM/Rattus_norvegicus_RNA-Seq_read_counts_TPM_FPKM_ERP001694.tsv.gz\n"
     ]
    },
    {
     "data": {
      "application/vnd.jupyter.widget-view+json": {
       "model_id": "5360bf733d264d299b57bee7805ec472",
       "version_major": 2,
       "version_minor": 0
      },
      "text/plain": [
       "0it [00:00, ?it/s]"
      ]
     },
     "metadata": {},
     "output_type": "display_data"
    },
    {
     "name": "stdout",
     "output_type": "stream",
     "text": [
      "Rattus_norvegicus_RNA-Seq_read_counts_TPM_FPKM/Rattus_norvegicus_RNA-Seq_read_counts_TPM_FPKM_ERP014610.tsv.gz\n"
     ]
    },
    {
     "data": {
      "application/vnd.jupyter.widget-view+json": {
       "model_id": "af73dbd96f1c42819568633902b1ad94",
       "version_major": 2,
       "version_minor": 0
      },
      "text/plain": [
       "0it [00:00, ?it/s]"
      ]
     },
     "metadata": {},
     "output_type": "display_data"
    },
    {
     "name": "stdout",
     "output_type": "stream",
     "text": [
      "Rattus_norvegicus_RNA-Seq_read_counts_TPM_FPKM/Rattus_norvegicus_RNA-Seq_read_counts_TPM_FPKM_SRP106852.tsv.gz\n"
     ]
    },
    {
     "data": {
      "application/vnd.jupyter.widget-view+json": {
       "model_id": "ad93286cb2ea42608c3aa99d98ec96ee",
       "version_major": 2,
       "version_minor": 0
      },
      "text/plain": [
       "0it [00:00, ?it/s]"
      ]
     },
     "metadata": {},
     "output_type": "display_data"
    },
    {
     "name": "stdout",
     "output_type": "stream",
     "text": [
      "Rattus_norvegicus_RNA-Seq_read_counts_TPM_FPKM/Rattus_norvegicus_RNA-Seq_read_counts_TPM_FPKM_SRP007359.tsv.gz\n"
     ]
    },
    {
     "data": {
      "application/vnd.jupyter.widget-view+json": {
       "model_id": "d76af7f8e7c74632bf21d25bdeb7b604",
       "version_major": 2,
       "version_minor": 0
      },
      "text/plain": [
       "0it [00:00, ?it/s]"
      ]
     },
     "metadata": {},
     "output_type": "display_data"
    },
    {
     "name": "stdout",
     "output_type": "stream",
     "text": [
      "Rattus_norvegicus_RNA-Seq_read_counts_TPM_FPKM/Rattus_norvegicus_RNA-Seq_read_counts_TPM_FPKM_GSE41637.tsv.gz\n"
     ]
    },
    {
     "data": {
      "application/vnd.jupyter.widget-view+json": {
       "model_id": "5bd1f35ae4f945e59558df8a802e0e72",
       "version_major": 2,
       "version_minor": 0
      },
      "text/plain": [
       "0it [00:00, ?it/s]"
      ]
     },
     "metadata": {},
     "output_type": "display_data"
    },
    {
     "name": "stdout",
     "output_type": "stream",
     "text": [
      "Sus_scrofa\n"
     ]
    },
    {
     "data": {
      "application/vnd.jupyter.widget-view+json": {
       "model_id": "92ec78b6e6e0490cb975037b8c4ace12",
       "version_major": 2,
       "version_minor": 0
      },
      "text/plain": [
       "  0%|          | 0/35 [00:00<?, ?it/s]"
      ]
     },
     "metadata": {},
     "output_type": "display_data"
    },
    {
     "name": "stdout",
     "output_type": "stream",
     "text": [
      "Sus_scrofa_RNA-Seq_read_counts_TPM_FPKM/Sus_scrofa_RNA-Seq_read_counts_TPM_FPKM_SRP064513.tsv.gz\n"
     ]
    },
    {
     "data": {
      "application/vnd.jupyter.widget-view+json": {
       "model_id": "0de07d6b0a7340fca3d37b0d61547983",
       "version_major": 2,
       "version_minor": 0
      },
      "text/plain": [
       "0it [00:00, ?it/s]"
      ]
     },
     "metadata": {},
     "output_type": "display_data"
    },
    {
     "name": "stdout",
     "output_type": "stream",
     "text": [
      "Sus_scrofa_RNA-Seq_read_counts_TPM_FPKM/Sus_scrofa_RNA-Seq_read_counts_TPM_FPKM_SRP066092.tsv.gz\n"
     ]
    },
    {
     "data": {
      "application/vnd.jupyter.widget-view+json": {
       "model_id": "3c58f1d14636499b880876aaa6a7021e",
       "version_major": 2,
       "version_minor": 0
      },
      "text/plain": [
       "0it [00:00, ?it/s]"
      ]
     },
     "metadata": {},
     "output_type": "display_data"
    },
    {
     "name": "stdout",
     "output_type": "stream",
     "text": [
      "Sus_scrofa_RNA-Seq_read_counts_TPM_FPKM/Sus_scrofa_RNA-Seq_read_counts_TPM_FPKM_SRP108727.tsv.gz\n"
     ]
    },
    {
     "data": {
      "application/vnd.jupyter.widget-view+json": {
       "model_id": "89aa55df4e8544e5a5ea55b35e9ded53",
       "version_major": 2,
       "version_minor": 0
      },
      "text/plain": [
       "0it [00:00, ?it/s]"
      ]
     },
     "metadata": {},
     "output_type": "display_data"
    },
    {
     "name": "stdout",
     "output_type": "stream",
     "text": [
      "Sus_scrofa_RNA-Seq_read_counts_TPM_FPKM/Sus_scrofa_RNA-Seq_read_counts_TPM_FPKM_ERP013735.tsv.gz\n"
     ]
    },
    {
     "data": {
      "application/vnd.jupyter.widget-view+json": {
       "model_id": "faffb31ec62444a7b38cb0ebf1164a63",
       "version_major": 2,
       "version_minor": 0
      },
      "text/plain": [
       "0it [00:00, ?it/s]"
      ]
     },
     "metadata": {},
     "output_type": "display_data"
    },
    {
     "name": "stdout",
     "output_type": "stream",
     "text": [
      "Sus_scrofa_RNA-Seq_read_counts_TPM_FPKM/Sus_scrofa_RNA-Seq_read_counts_TPM_FPKM_SRP062160.tsv.gz\n"
     ]
    },
    {
     "data": {
      "application/vnd.jupyter.widget-view+json": {
       "model_id": "172b6867fb704df3ad93bde3a1845d5b",
       "version_major": 2,
       "version_minor": 0
      },
      "text/plain": [
       "0it [00:00, ?it/s]"
      ]
     },
     "metadata": {},
     "output_type": "display_data"
    },
    {
     "name": "stdout",
     "output_type": "stream",
     "text": [
      "Sus_scrofa_RNA-Seq_read_counts_TPM_FPKM/Sus_scrofa_RNA-Seq_read_counts_TPM_FPKM_ERP001954.tsv.gz\n"
     ]
    },
    {
     "data": {
      "application/vnd.jupyter.widget-view+json": {
       "model_id": "e1c7961013354db8b2db2475772a063a",
       "version_major": 2,
       "version_minor": 0
      },
      "text/plain": [
       "0it [00:00, ?it/s]"
      ]
     },
     "metadata": {},
     "output_type": "display_data"
    },
    {
     "name": "stdout",
     "output_type": "stream",
     "text": [
      "Sus_scrofa_RNA-Seq_read_counts_TPM_FPKM/Sus_scrofa_RNA-Seq_read_counts_TPM_FPKM_SRP058576.tsv.gz\n"
     ]
    },
    {
     "data": {
      "application/vnd.jupyter.widget-view+json": {
       "model_id": "2e13427b478d4e1ebac5b50b453546b6",
       "version_major": 2,
       "version_minor": 0
      },
      "text/plain": [
       "0it [00:00, ?it/s]"
      ]
     },
     "metadata": {},
     "output_type": "display_data"
    },
    {
     "name": "stdout",
     "output_type": "stream",
     "text": [
      "Sus_scrofa_RNA-Seq_read_counts_TPM_FPKM/Sus_scrofa_RNA-Seq_read_counts_TPM_FPKM_SRP061644.tsv.gz\n"
     ]
    },
    {
     "data": {
      "application/vnd.jupyter.widget-view+json": {
       "model_id": "cae8bbe6f6a74ba596831ce0cea779a4",
       "version_major": 2,
       "version_minor": 0
      },
      "text/plain": [
       "0it [00:00, ?it/s]"
      ]
     },
     "metadata": {},
     "output_type": "display_data"
    },
    {
     "name": "stdout",
     "output_type": "stream",
     "text": [
      "Sus_scrofa_RNA-Seq_read_counts_TPM_FPKM/Sus_scrofa_RNA-Seq_read_counts_TPM_FPKM_ERP105435.tsv.gz\n"
     ]
    },
    {
     "data": {
      "application/vnd.jupyter.widget-view+json": {
       "model_id": "8118a2153d60452fbf8d70c881c55d24",
       "version_major": 2,
       "version_minor": 0
      },
      "text/plain": [
       "0it [00:00, ?it/s]"
      ]
     },
     "metadata": {},
     "output_type": "display_data"
    },
    {
     "name": "stdout",
     "output_type": "stream",
     "text": [
      "Sus_scrofa_RNA-Seq_read_counts_TPM_FPKM/Sus_scrofa_RNA-Seq_read_counts_TPM_FPKM_GSE43013.tsv.gz\n"
     ]
    },
    {
     "data": {
      "application/vnd.jupyter.widget-view+json": {
       "model_id": "cdca6b325db64353b330f6be9cf704c3",
       "version_major": 2,
       "version_minor": 0
      },
      "text/plain": [
       "0it [00:00, ?it/s]"
      ]
     },
     "metadata": {},
     "output_type": "display_data"
    },
    {
     "name": "stdout",
     "output_type": "stream",
     "text": [
      "Sus_scrofa_RNA-Seq_read_counts_TPM_FPKM/Sus_scrofa_RNA-Seq_read_counts_TPM_FPKM_DRP003299.tsv.gz\n"
     ]
    },
    {
     "data": {
      "application/vnd.jupyter.widget-view+json": {
       "model_id": "be67f0d9a2d948699fb12ecbb19172b7",
       "version_major": 2,
       "version_minor": 0
      },
      "text/plain": [
       "0it [00:00, ?it/s]"
      ]
     },
     "metadata": {},
     "output_type": "display_data"
    },
    {
     "name": "stdout",
     "output_type": "stream",
     "text": [
      "Sus_scrofa_RNA-Seq_read_counts_TPM_FPKM/Sus_scrofa_RNA-Seq_read_counts_TPM_FPKM_ERP010826.tsv.gz\n"
     ]
    },
    {
     "data": {
      "application/vnd.jupyter.widget-view+json": {
       "model_id": "9e6886b7d4d741598ccd0a1e36f457a1",
       "version_major": 2,
       "version_minor": 0
      },
      "text/plain": [
       "0it [00:00, ?it/s]"
      ]
     },
     "metadata": {},
     "output_type": "display_data"
    },
    {
     "name": "stdout",
     "output_type": "stream",
     "text": [
      "Sus_scrofa_RNA-Seq_read_counts_TPM_FPKM/Sus_scrofa_RNA-Seq_read_counts_TPM_FPKM_SRP082487.tsv.gz\n"
     ]
    },
    {
     "data": {
      "application/vnd.jupyter.widget-view+json": {
       "model_id": "29dbefe31ef84fc498b5239771b8d00c",
       "version_major": 2,
       "version_minor": 0
      },
      "text/plain": [
       "0it [00:00, ?it/s]"
      ]
     },
     "metadata": {},
     "output_type": "display_data"
    },
    {
     "name": "stdout",
     "output_type": "stream",
     "text": [
      "Sus_scrofa_RNA-Seq_read_counts_TPM_FPKM/Sus_scrofa_RNA-Seq_read_counts_TPM_FPKM_SRP117198.tsv.gz\n"
     ]
    },
    {
     "data": {
      "application/vnd.jupyter.widget-view+json": {
       "model_id": "bda0ad7531f2405b8a2deaeab8a43e90",
       "version_major": 2,
       "version_minor": 0
      },
      "text/plain": [
       "0it [00:00, ?it/s]"
      ]
     },
     "metadata": {},
     "output_type": "display_data"
    },
    {
     "name": "stdout",
     "output_type": "stream",
     "text": [
      "Sus_scrofa_RNA-Seq_read_counts_TPM_FPKM/Sus_scrofa_RNA-Seq_read_counts_TPM_FPKM_SRP070951.tsv.gz\n"
     ]
    },
    {
     "data": {
      "application/vnd.jupyter.widget-view+json": {
       "model_id": "bce94412b147450ea391f00ded184886",
       "version_major": 2,
       "version_minor": 0
      },
      "text/plain": [
       "0it [00:00, ?it/s]"
      ]
     },
     "metadata": {},
     "output_type": "display_data"
    },
    {
     "name": "stdout",
     "output_type": "stream",
     "text": [
      "Sus_scrofa_RNA-Seq_read_counts_TPM_FPKM/Sus_scrofa_RNA-Seq_read_counts_TPM_FPKM_SRP064327.tsv.gz\n"
     ]
    },
    {
     "data": {
      "application/vnd.jupyter.widget-view+json": {
       "model_id": "b34f614f59cd431a9e8f08cda5ce647a",
       "version_major": 2,
       "version_minor": 0
      },
      "text/plain": [
       "0it [00:00, ?it/s]"
      ]
     },
     "metadata": {},
     "output_type": "display_data"
    },
    {
     "name": "stdout",
     "output_type": "stream",
     "text": [
      "Sus_scrofa_RNA-Seq_read_counts_TPM_FPKM/Sus_scrofa_RNA-Seq_read_counts_TPM_FPKM_SRP018740.tsv.gz\n"
     ]
    },
    {
     "data": {
      "application/vnd.jupyter.widget-view+json": {
       "model_id": "2dcea95651244e63b3148ee871f0f2ab",
       "version_major": 2,
       "version_minor": 0
      },
      "text/plain": [
       "0it [00:00, ?it/s]"
      ]
     },
     "metadata": {},
     "output_type": "display_data"
    },
    {
     "name": "stdout",
     "output_type": "stream",
     "text": [
      "Sus_scrofa_RNA-Seq_read_counts_TPM_FPKM/Sus_scrofa_RNA-Seq_read_counts_TPM_FPKM_ERP001694.tsv.gz\n"
     ]
    },
    {
     "data": {
      "application/vnd.jupyter.widget-view+json": {
       "model_id": "6aa553884c9c4486be7221e00410b3fc",
       "version_major": 2,
       "version_minor": 0
      },
      "text/plain": [
       "0it [00:00, ?it/s]"
      ]
     },
     "metadata": {},
     "output_type": "display_data"
    },
    {
     "name": "stdout",
     "output_type": "stream",
     "text": [
      "Sus_scrofa_RNA-Seq_read_counts_TPM_FPKM/Sus_scrofa_RNA-Seq_read_counts_TPM_FPKM_ERP002055.tsv.gz\n"
     ]
    },
    {
     "data": {
      "application/vnd.jupyter.widget-view+json": {
       "model_id": "308fd5dd0d284bfbbce78b93a7347d98",
       "version_major": 2,
       "version_minor": 0
      },
      "text/plain": [
       "0it [00:00, ?it/s]"
      ]
     },
     "metadata": {},
     "output_type": "display_data"
    },
    {
     "name": "stdout",
     "output_type": "stream",
     "text": [
      "Sus_scrofa_RNA-Seq_read_counts_TPM_FPKM/Sus_scrofa_RNA-Seq_read_counts_TPM_FPKM_GSE43892.tsv.gz\n"
     ]
    },
    {
     "data": {
      "application/vnd.jupyter.widget-view+json": {
       "model_id": "4cb77edcbd134cde80ceaacacaa01b22",
       "version_major": 2,
       "version_minor": 0
      },
      "text/plain": [
       "0it [00:00, ?it/s]"
      ]
     },
     "metadata": {},
     "output_type": "display_data"
    },
    {
     "name": "stdout",
     "output_type": "stream",
     "text": [
      "Sus_scrofa_RNA-Seq_read_counts_TPM_FPKM/Sus_scrofa_RNA-Seq_read_counts_TPM_FPKM_SRP112393.tsv.gz\n"
     ]
    },
    {
     "data": {
      "application/vnd.jupyter.widget-view+json": {
       "model_id": "dad5f1e9d54c453a855be9f4f0f6789d",
       "version_major": 2,
       "version_minor": 0
      },
      "text/plain": [
       "0it [00:00, ?it/s]"
      ]
     },
     "metadata": {},
     "output_type": "display_data"
    },
    {
     "name": "stdout",
     "output_type": "stream",
     "text": [
      "Sus_scrofa_RNA-Seq_read_counts_TPM_FPKM/Sus_scrofa_RNA-Seq_read_counts_TPM_FPKM_SRP027378.tsv.gz\n"
     ]
    },
    {
     "data": {
      "application/vnd.jupyter.widget-view+json": {
       "model_id": "750941f86fa5458d9f48effd910dca01",
       "version_major": 2,
       "version_minor": 0
      },
      "text/plain": [
       "0it [00:00, ?it/s]"
      ]
     },
     "metadata": {},
     "output_type": "display_data"
    },
    {
     "name": "stdout",
     "output_type": "stream",
     "text": [
      "Sus_scrofa_RNA-Seq_read_counts_TPM_FPKM/Sus_scrofa_RNA-Seq_read_counts_TPM_FPKM_SRP066398.tsv.gz\n"
     ]
    },
    {
     "data": {
      "application/vnd.jupyter.widget-view+json": {
       "model_id": "3e204d2ed6bb4b9a95f16f07a872024a",
       "version_major": 2,
       "version_minor": 0
      },
      "text/plain": [
       "0it [00:00, ?it/s]"
      ]
     },
     "metadata": {},
     "output_type": "display_data"
    },
    {
     "name": "stdout",
     "output_type": "stream",
     "text": [
      "Sus_scrofa_RNA-Seq_read_counts_TPM_FPKM/Sus_scrofa_RNA-Seq_read_counts_TPM_FPKM_SRP069860.tsv.gz\n"
     ]
    },
    {
     "data": {
      "application/vnd.jupyter.widget-view+json": {
       "model_id": "81e0f03ba9c64935b425c46be637798d",
       "version_major": 2,
       "version_minor": 0
      },
      "text/plain": [
       "0it [00:00, ?it/s]"
      ]
     },
     "metadata": {},
     "output_type": "display_data"
    },
    {
     "name": "stdout",
     "output_type": "stream",
     "text": [
      "Sus_scrofa_RNA-Seq_read_counts_TPM_FPKM/Sus_scrofa_RNA-Seq_read_counts_TPM_FPKM_ERP014610.tsv.gz\n"
     ]
    },
    {
     "data": {
      "application/vnd.jupyter.widget-view+json": {
       "model_id": "04705541d68f46a6914f0289f4633fb4",
       "version_major": 2,
       "version_minor": 0
      },
      "text/plain": [
       "0it [00:00, ?it/s]"
      ]
     },
     "metadata": {},
     "output_type": "display_data"
    },
    {
     "name": "stdout",
     "output_type": "stream",
     "text": [
      "Sus_scrofa_RNA-Seq_read_counts_TPM_FPKM/Sus_scrofa_RNA-Seq_read_counts_TPM_FPKM_SRP062860.tsv.gz\n"
     ]
    },
    {
     "data": {
      "application/vnd.jupyter.widget-view+json": {
       "model_id": "46f139978d904255b90ac21cd5a9c15e",
       "version_major": 2,
       "version_minor": 0
      },
      "text/plain": [
       "0it [00:00, ?it/s]"
      ]
     },
     "metadata": {},
     "output_type": "display_data"
    },
    {
     "name": "stdout",
     "output_type": "stream",
     "text": [
      "Sus_scrofa_RNA-Seq_read_counts_TPM_FPKM/Sus_scrofa_RNA-Seq_read_counts_TPM_FPKM_SRP095747.tsv.gz\n"
     ]
    },
    {
     "data": {
      "application/vnd.jupyter.widget-view+json": {
       "model_id": "1c8453532a374df6b02369c5156dd5f7",
       "version_major": 2,
       "version_minor": 0
      },
      "text/plain": [
       "0it [00:00, ?it/s]"
      ]
     },
     "metadata": {},
     "output_type": "display_data"
    },
    {
     "name": "stdout",
     "output_type": "stream",
     "text": [
      "Sus_scrofa_RNA-Seq_read_counts_TPM_FPKM/Sus_scrofa_RNA-Seq_read_counts_TPM_FPKM_ERP009821.tsv.gz\n"
     ]
    },
    {
     "data": {
      "application/vnd.jupyter.widget-view+json": {
       "model_id": "829cc0ee7d79486388c64f6a6d38e0d2",
       "version_major": 2,
       "version_minor": 0
      },
      "text/plain": [
       "0it [00:00, ?it/s]"
      ]
     },
     "metadata": {},
     "output_type": "display_data"
    },
    {
     "name": "stdout",
     "output_type": "stream",
     "text": [
      "Sus_scrofa_RNA-Seq_read_counts_TPM_FPKM/Sus_scrofa_RNA-Seq_read_counts_TPM_FPKM_SRP105069.tsv.gz\n"
     ]
    },
    {
     "data": {
      "application/vnd.jupyter.widget-view+json": {
       "model_id": "898a7dd42b934493b85ee78a7982d005",
       "version_major": 2,
       "version_minor": 0
      },
      "text/plain": [
       "0it [00:00, ?it/s]"
      ]
     },
     "metadata": {},
     "output_type": "display_data"
    },
    {
     "name": "stdout",
     "output_type": "stream",
     "text": [
      "Sus_scrofa_RNA-Seq_read_counts_TPM_FPKM/Sus_scrofa_RNA-Seq_read_counts_TPM_FPKM_ERP105028.tsv.gz\n"
     ]
    },
    {
     "data": {
      "application/vnd.jupyter.widget-view+json": {
       "model_id": "96c5324a3cb74eb99514adbcfca41401",
       "version_major": 2,
       "version_minor": 0
      },
      "text/plain": [
       "0it [00:00, ?it/s]"
      ]
     },
     "metadata": {},
     "output_type": "display_data"
    },
    {
     "name": "stdout",
     "output_type": "stream",
     "text": [
      "Sus_scrofa_RNA-Seq_read_counts_TPM_FPKM/Sus_scrofa_RNA-Seq_read_counts_TPM_FPKM_SRP060608.tsv.gz\n"
     ]
    },
    {
     "data": {
      "application/vnd.jupyter.widget-view+json": {
       "model_id": "ef1e2fb23d3348a8b5325795728586bb",
       "version_major": 2,
       "version_minor": 0
      },
      "text/plain": [
       "0it [00:00, ?it/s]"
      ]
     },
     "metadata": {},
     "output_type": "display_data"
    },
    {
     "name": "stdout",
     "output_type": "stream",
     "text": [
      "Sus_scrofa_RNA-Seq_read_counts_TPM_FPKM/Sus_scrofa_RNA-Seq_read_counts_TPM_FPKM_SRP066797.tsv.gz\n"
     ]
    },
    {
     "data": {
      "application/vnd.jupyter.widget-view+json": {
       "model_id": "228509c3cd324876a546feb2a0119568",
       "version_major": 2,
       "version_minor": 0
      },
      "text/plain": [
       "0it [00:00, ?it/s]"
      ]
     },
     "metadata": {},
     "output_type": "display_data"
    },
    {
     "name": "stdout",
     "output_type": "stream",
     "text": [
      "Sus_scrofa_RNA-Seq_read_counts_TPM_FPKM/Sus_scrofa_RNA-Seq_read_counts_TPM_FPKM_SRP032451.tsv.gz\n"
     ]
    },
    {
     "data": {
      "application/vnd.jupyter.widget-view+json": {
       "model_id": "b80da91ecb0c4c679cffe3737303c448",
       "version_major": 2,
       "version_minor": 0
      },
      "text/plain": [
       "0it [00:00, ?it/s]"
      ]
     },
     "metadata": {},
     "output_type": "display_data"
    },
    {
     "name": "stdout",
     "output_type": "stream",
     "text": [
      "Sus_scrofa_RNA-Seq_read_counts_TPM_FPKM/Sus_scrofa_RNA-Seq_read_counts_TPM_FPKM_SRP067000.tsv.gz\n"
     ]
    },
    {
     "data": {
      "application/vnd.jupyter.widget-view+json": {
       "model_id": "6725aeef030b457ca40cad29ac86e744",
       "version_major": 2,
       "version_minor": 0
      },
      "text/plain": [
       "0it [00:00, ?it/s]"
      ]
     },
     "metadata": {},
     "output_type": "display_data"
    },
    {
     "name": "stdout",
     "output_type": "stream",
     "text": [
      "Sus_scrofa_RNA-Seq_read_counts_TPM_FPKM/Sus_scrofa_RNA-Seq_read_counts_TPM_FPKM_E-MTAB-5895.tsv.gz\n"
     ]
    },
    {
     "data": {
      "application/vnd.jupyter.widget-view+json": {
       "model_id": "0b90039597f14e179804361e39d13820",
       "version_major": 2,
       "version_minor": 0
      },
      "text/plain": [
       "0it [00:00, ?it/s]"
      ]
     },
     "metadata": {},
     "output_type": "display_data"
    },
    {
     "name": "stdout",
     "output_type": "stream",
     "text": [
      "Xenopus_tropicalis\n"
     ]
    },
    {
     "data": {
      "application/vnd.jupyter.widget-view+json": {
       "model_id": "7620e109fe3a4b7d8f99259fb8494a98",
       "version_major": 2,
       "version_minor": 0
      },
      "text/plain": [
       "  0%|          | 0/5 [00:00<?, ?it/s]"
      ]
     },
     "metadata": {},
     "output_type": "display_data"
    },
    {
     "name": "stdout",
     "output_type": "stream",
     "text": [
      "Xenopus_tropicalis_RNA-Seq_read_counts_TPM_FPKM/Xenopus_tropicalis_RNA-Seq_read_counts_TPM_FPKM_GSE43652.tsv.gz\n"
     ]
    },
    {
     "data": {
      "application/vnd.jupyter.widget-view+json": {
       "model_id": "9a16de35071841109e546bac13d2e530",
       "version_major": 2,
       "version_minor": 0
      },
      "text/plain": [
       "0it [00:00, ?it/s]"
      ]
     },
     "metadata": {},
     "output_type": "display_data"
    },
    {
     "name": "stdout",
     "output_type": "stream",
     "text": [
      "Xenopus_tropicalis_RNA-Seq_read_counts_TPM_FPKM/Xenopus_tropicalis_RNA-Seq_read_counts_TPM_FPKM_GSE43520.tsv.gz\n"
     ]
    },
    {
     "data": {
      "application/vnd.jupyter.widget-view+json": {
       "model_id": "18317ca5caf348519d91005862f99028",
       "version_major": 2,
       "version_minor": 0
      },
      "text/plain": [
       "0it [00:00, ?it/s]"
      ]
     },
     "metadata": {},
     "output_type": "display_data"
    },
    {
     "name": "stdout",
     "output_type": "stream",
     "text": [
      "Xenopus_tropicalis_RNA-Seq_read_counts_TPM_FPKM/Xenopus_tropicalis_RNA-Seq_read_counts_TPM_FPKM_SRP053406.tsv.gz\n"
     ]
    },
    {
     "data": {
      "application/vnd.jupyter.widget-view+json": {
       "model_id": "28e8477b43b843b497635f9a9c3ac723",
       "version_major": 2,
       "version_minor": 0
      },
      "text/plain": [
       "0it [00:00, ?it/s]"
      ]
     },
     "metadata": {},
     "output_type": "display_data"
    },
    {
     "name": "stdout",
     "output_type": "stream",
     "text": [
      "Xenopus_tropicalis_RNA-Seq_read_counts_TPM_FPKM/Xenopus_tropicalis_RNA-Seq_read_counts_TPM_FPKM_GSE37452.tsv.gz\n"
     ]
    },
    {
     "data": {
      "application/vnd.jupyter.widget-view+json": {
       "model_id": "cb2e75f088134a5c81e75abe3bea3781",
       "version_major": 2,
       "version_minor": 0
      },
      "text/plain": [
       "0it [00:00, ?it/s]"
      ]
     },
     "metadata": {},
     "output_type": "display_data"
    },
    {
     "name": "stdout",
     "output_type": "stream",
     "text": [
      "Xenopus_tropicalis_RNA-Seq_read_counts_TPM_FPKM/Xenopus_tropicalis_RNA-Seq_read_counts_TPM_FPKM_GSE41338.tsv.gz\n"
     ]
    },
    {
     "data": {
      "application/vnd.jupyter.widget-view+json": {
       "model_id": "28a0bf862bd042e785ffc3f238276819",
       "version_major": 2,
       "version_minor": 0
      },
      "text/plain": [
       "0it [00:00, ?it/s]"
      ]
     },
     "metadata": {},
     "output_type": "display_data"
    }
   ],
   "source": [
    "use_cols = ['Library ID', 'Gene ID', 'Stage ID', 'Anatomical entity ID', 'TPM', 'Detection flag']\n",
    "header_map = {'Experiment ID': 'exp_id',\n",
    "              'Library ID': 'lib_id',\n",
    "              'Gene ID': 'gene_id',\n",
    "              'Anatomical entity ID': 'anat_id',\n",
    "              'Anatomical entity name': 'anat_name',\n",
    "              'Stage ID': 'stage_id',\n",
    "              'Stage name': 'stage_name',\n",
    "              'Sex': 'sex',\n",
    "              'Strain': 'strain'}\n",
    "\n",
    "stages_to_filter = {'UBERON:0000068',  # embryo stage\n",
    "                    'UBERON:0007220'}  # late embyronic stage\n",
    "\n",
    "def count_ngenes(fp):\n",
    "    header = next(fp).rstrip().split(b'\\t')\n",
    "    assert header[1] == b'Library ID'\n",
    "    lib_id = None\n",
    "    c = 0\n",
    "    for x in fp:\n",
    "        x = x.rstrip().split(b'\\t')\n",
    "        if lib_id is None:\n",
    "            lib_id = x[1]\n",
    "        if lib_id == x[1]:\n",
    "            c += 1\n",
    "        else:\n",
    "            break\n",
    "    return c\n",
    "\n",
    "\n",
    "for (sp, sp_code) in tqdm(sp_codes.items()):\n",
    "    print(sp)\n",
    "        \n",
    "    fn = f'{sp}{ending}'\n",
    "    fn1 = f'./data/bgee-{BGEE_VERSION}/{fn}'\n",
    "\n",
    "    sp_genes_over_thresh = set()\n",
    "\n",
    "    res = []\n",
    "    with tarfile.open(fn1, 'r') as tar_fp:\n",
    "        n_genes = None\n",
    "        for member in tqdm(tar_fp.getnames()):\n",
    "            print(member)\n",
    "            if n_genes is None:\n",
    "                x = gzip.GzipFile(fileobj=tar_fp.extractfile(member))\n",
    "                n_genes = count_ngenes(x)\n",
    "            \n",
    "            x = gzip.GzipFile(fileobj=tar_fp.extractfile(member))\n",
    "            # this is very specific to the downloaded files from bgee -- they are sorted by library id\n",
    "            # so we can chunk by the number of genes per-genome\n",
    "            for zdf in tqdm(pd.read_csv(x, sep='\\t', low_memory=False, usecols=use_cols, chunksize=n_genes)):\n",
    "                zdf = zdf.rename(columns=header_map)\n",
    "                # check that there's no error and we really do have a single experiment \n",
    "                assert len(set(zdf.lib_id)) == 1\n",
    "                assert len(set(zdf.stage_id)) == 1\n",
    "\n",
    "                # extract experiment info\n",
    "                (stage_id, anat_id, lib_id) = zdf.iloc[0][['stage_id', 'anat_id', 'lib_id']]\n",
    "                \n",
    "                if stage_id in stages_to_filter or (not anat_id.startswith('UBERON:')):\n",
    "                    # quick skip\n",
    "                    continue\n",
    "\n",
    "                # set TPM = 0 for bgee's absent calls to avoid bias\n",
    "                f = (zdf['Detection flag'] == 'absent')  # bgee has called it as -ve\n",
    "                zdf.loc[f,'TPM'] = 0\n",
    "                \n",
    "                res.append(zdf[['gene_id', 'TPM']].set_index('gene_id'))\n",
    "                res[-1].columns = pd.MultiIndex.from_tuples([(anat_id, lib_id)])\n",
    "\n",
    "\n",
    "    df = pd.concat(res, axis=1)\n",
    "\n",
    "    # filter so that we only keep genes where at least one tissue is expressed with >=2.0 TPM.\n",
    "    genes_to_keep = list(df.index[(df >= MIN_TPM_CUTOFF).sum(axis=1) > 0])\n",
    "    df.loc[genes_to_keep].to_hdf(ANIMAL_TPM_EXPR_FN, sp_code, complevel=9, complib='zlib')"
   ]
  },
  {
   "cell_type": "code",
   "execution_count": null,
   "id": "e0b54342-4bec-4ffd-88b7-9d7bbebae421",
   "metadata": {},
   "outputs": [],
   "source": []
  },
  {
   "cell_type": "markdown",
   "id": "091d144a-4cf1-444d-9aa5-b9d98a165b0d",
   "metadata": {},
   "source": [
    "### Plant Conversion"
   ]
  },
  {
   "cell_type": "code",
   "execution_count": 69,
   "id": "fd56faa1-c5db-4292-b21a-863ef0ce3bb9",
   "metadata": {},
   "outputs": [],
   "source": [
    "PLANT_GENERAL_TPM_EXPR_FN = f'{EXPR}/plant_general_tpm_expr.h5'\n",
    "PLANT_SPECIFIC_TPM_EXPR_FN = f'{EXPR}/plant_specific_tpm_expr.h5'"
   ]
  },
  {
   "cell_type": "code",
   "execution_count": null,
   "id": "b7dff251-8dbf-4dd2-8855-82d1774bf427",
   "metadata": {},
   "outputs": [
    {
     "data": {
      "application/vnd.jupyter.widget-view+json": {
       "model_id": "9937c58a3a0145518842cb43d54b23be",
       "version_major": 2,
       "version_minor": 0
      },
      "text/plain": [
       "  0%|          | 0/20 [00:00<?, ?it/s]"
      ]
     },
     "metadata": {},
     "output_type": "display_data"
    },
    {
     "name": "stdout",
     "output_type": "stream",
     "text": [
      "AMBTC\n"
     ]
    },
    {
     "data": {
      "application/vnd.jupyter.widget-view+json": {
       "model_id": "7d729fda2e8c4dfba6afc85800479f7c",
       "version_major": 2,
       "version_minor": 0
      },
      "text/plain": [
       "  0%|          | 0/58 [00:00<?, ?it/s]"
      ]
     },
     "metadata": {},
     "output_type": "display_data"
    },
    {
     "data": {
      "application/vnd.jupyter.widget-view+json": {
       "model_id": "a4a6bb4d88a54fe69a6119f992ab318e",
       "version_major": 2,
       "version_minor": 0
      },
      "text/plain": [
       "  0%|          | 0/56 [00:00<?, ?it/s]"
      ]
     },
     "metadata": {},
     "output_type": "display_data"
    },
    {
     "name": "stdout",
     "output_type": "stream",
     "text": [
      "SOYBN\n"
     ]
    },
    {
     "data": {
      "application/vnd.jupyter.widget-view+json": {
       "model_id": "0c26b0f6e0934e1998e1bcdcab90dd7c",
       "version_major": 2,
       "version_minor": 0
      },
      "text/plain": [
       "  0%|          | 0/3303 [00:00<?, ?it/s]"
      ]
     },
     "metadata": {},
     "output_type": "display_data"
    },
    {
     "data": {
      "application/vnd.jupyter.widget-view+json": {
       "model_id": "72a797ecb2a1485eadccc114082b561c",
       "version_major": 2,
       "version_minor": 0
      },
      "text/plain": [
       "  0%|          | 0/2674 [00:00<?, ?it/s]"
      ]
     },
     "metadata": {},
     "output_type": "display_data"
    },
    {
     "name": "stdout",
     "output_type": "stream",
     "text": [
      "ORYSJ\n"
     ]
    },
    {
     "data": {
      "application/vnd.jupyter.widget-view+json": {
       "model_id": "7e2b6594a6a347daacf554475b5cdd85",
       "version_major": 2,
       "version_minor": 0
      },
      "text/plain": [
       "  0%|          | 0/7995 [00:00<?, ?it/s]"
      ]
     },
     "metadata": {},
     "output_type": "display_data"
    },
    {
     "data": {
      "application/vnd.jupyter.widget-view+json": {
       "model_id": "abe98c45285b4a4e8155c77ee9c0ddae",
       "version_major": 2,
       "version_minor": 0
      },
      "text/plain": [
       "  0%|          | 0/6062 [00:00<?, ?it/s]"
      ]
     },
     "metadata": {},
     "output_type": "display_data"
    },
    {
     "name": "stdout",
     "output_type": "stream",
     "text": [
      "ARATH\n"
     ]
    },
    {
     "data": {
      "application/vnd.jupyter.widget-view+json": {
       "model_id": "d96001d1cbae42e1975c1ffb9257aa5d",
       "version_major": 2,
       "version_minor": 0
      },
      "text/plain": [
       "  0%|          | 0/22925 [00:00<?, ?it/s]"
      ]
     },
     "metadata": {},
     "output_type": "display_data"
    },
    {
     "data": {
      "application/vnd.jupyter.widget-view+json": {
       "model_id": "a247ddb9948146749d39550a8e3c6d0f",
       "version_major": 2,
       "version_minor": 0
      },
      "text/plain": [
       "  0%|          | 0/11722 [00:00<?, ?it/s]"
      ]
     },
     "metadata": {},
     "output_type": "display_data"
    },
    {
     "name": "stdout",
     "output_type": "stream",
     "text": [
      "MEDTR\n"
     ]
    },
    {
     "data": {
      "application/vnd.jupyter.widget-view+json": {
       "model_id": "fa0017c6e2a244c2b15ff0d7138b0d3e",
       "version_major": 2,
       "version_minor": 0
      },
      "text/plain": [
       "  0%|          | 0/1610 [00:00<?, ?it/s]"
      ]
     },
     "metadata": {},
     "output_type": "display_data"
    },
    {
     "data": {
      "application/vnd.jupyter.widget-view+json": {
       "model_id": "b83070c3931e40ae8a8956f7b0219edc",
       "version_major": 2,
       "version_minor": 0
      },
      "text/plain": [
       "  0%|          | 0/1385 [00:00<?, ?it/s]"
      ]
     },
     "metadata": {},
     "output_type": "display_data"
    },
    {
     "name": "stdout",
     "output_type": "stream",
     "text": [
      "SELML\n"
     ]
    },
    {
     "data": {
      "application/vnd.jupyter.widget-view+json": {
       "model_id": "98b80baea6d440faa84e8d7868d73773",
       "version_major": 2,
       "version_minor": 0
      },
      "text/plain": [
       "  0%|          | 0/105 [00:00<?, ?it/s]"
      ]
     },
     "metadata": {},
     "output_type": "display_data"
    },
    {
     "data": {
      "application/vnd.jupyter.widget-view+json": {
       "model_id": "45f51e4e18e94051aadef8e4877cc3c6",
       "version_major": 2,
       "version_minor": 0
      },
      "text/plain": [
       "  0%|          | 0/102 [00:00<?, ?it/s]"
      ]
     },
     "metadata": {},
     "output_type": "display_data"
    },
    {
     "name": "stdout",
     "output_type": "stream",
     "text": [
      "HELAN\n"
     ]
    },
    {
     "data": {
      "application/vnd.jupyter.widget-view+json": {
       "model_id": "f362afb54932494cbf4a35e7708ff709",
       "version_major": 2,
       "version_minor": 0
      },
      "text/plain": [
       "  0%|          | 0/931 [00:00<?, ?it/s]"
      ]
     },
     "metadata": {},
     "output_type": "display_data"
    },
    {
     "data": {
      "application/vnd.jupyter.widget-view+json": {
       "model_id": "aed65eeecf604c639e2e7860ec136629",
       "version_major": 2,
       "version_minor": 0
      },
      "text/plain": [
       "  0%|          | 0/743 [00:00<?, ?it/s]"
      ]
     },
     "metadata": {},
     "output_type": "display_data"
    },
    {
     "name": "stdout",
     "output_type": "stream",
     "text": [
      "CAPAN\n"
     ]
    },
    {
     "data": {
      "application/vnd.jupyter.widget-view+json": {
       "model_id": "d719e169a8784c41be932688f456d763",
       "version_major": 2,
       "version_minor": 0
      },
      "text/plain": [
       "  0%|          | 0/423 [00:00<?, ?it/s]"
      ]
     },
     "metadata": {},
     "output_type": "display_data"
    },
    {
     "data": {
      "application/vnd.jupyter.widget-view+json": {
       "model_id": "7c14855e0b88437295714ba42abd6bbb",
       "version_major": 2,
       "version_minor": 0
      },
      "text/plain": [
       "  0%|          | 0/385 [00:00<?, ?it/s]"
      ]
     },
     "metadata": {},
     "output_type": "display_data"
    },
    {
     "name": "stdout",
     "output_type": "stream",
     "text": [
      "VITVI\n"
     ]
    },
    {
     "data": {
      "application/vnd.jupyter.widget-view+json": {
       "model_id": "c94ccd076d6f461597f0c49339a973c5",
       "version_major": 2,
       "version_minor": 0
      },
      "text/plain": [
       "  0%|          | 0/3032 [00:00<?, ?it/s]"
      ]
     },
     "metadata": {},
     "output_type": "display_data"
    },
    {
     "data": {
      "application/vnd.jupyter.widget-view+json": {
       "model_id": "6620cbf412e647d6859bccfe696a7875",
       "version_major": 2,
       "version_minor": 0
      },
      "text/plain": [
       "  0%|          | 0/2672 [00:00<?, ?it/s]"
      ]
     },
     "metadata": {},
     "output_type": "display_data"
    },
    {
     "name": "stdout",
     "output_type": "stream",
     "text": [
      "POPTR\n"
     ]
    },
    {
     "data": {
      "application/vnd.jupyter.widget-view+json": {
       "model_id": "e44e47c3f97947cea95e8bcc7cffd456",
       "version_major": 2,
       "version_minor": 0
      },
      "text/plain": [
       "  0%|          | 0/3865 [00:00<?, ?it/s]"
      ]
     },
     "metadata": {},
     "output_type": "display_data"
    },
    {
     "data": {
      "application/vnd.jupyter.widget-view+json": {
       "model_id": "9d4ed5efedbb4c9d9c6c51168e4f3f3d",
       "version_major": 2,
       "version_minor": 0
      },
      "text/plain": [
       "  0%|          | 0/2804 [00:00<?, ?it/s]"
      ]
     },
     "metadata": {},
     "output_type": "display_data"
    },
    {
     "name": "stdout",
     "output_type": "stream",
     "text": [
      "CUCSA\n"
     ]
    },
    {
     "data": {
      "application/vnd.jupyter.widget-view+json": {
       "model_id": "201f5501c5bb4382a63cd0fcfe2a7c0e",
       "version_major": 2,
       "version_minor": 0
      },
      "text/plain": [
       "  0%|          | 0/902 [00:00<?, ?it/s]"
      ]
     },
     "metadata": {},
     "output_type": "display_data"
    },
    {
     "data": {
      "application/vnd.jupyter.widget-view+json": {
       "model_id": "b462c4c3759f4263a74a12cc6a20537b",
       "version_major": 2,
       "version_minor": 0
      },
      "text/plain": [
       "  0%|          | 0/873 [00:00<?, ?it/s]"
      ]
     },
     "metadata": {},
     "output_type": "display_data"
    },
    {
     "name": "stdout",
     "output_type": "stream",
     "text": [
      "MANES\n"
     ]
    },
    {
     "data": {
      "application/vnd.jupyter.widget-view+json": {
       "model_id": "1b5faf14f6a04c84b05eafea59b0da62",
       "version_major": 2,
       "version_minor": 0
      },
      "text/plain": [
       "  0%|          | 0/476 [00:00<?, ?it/s]"
      ]
     },
     "metadata": {},
     "output_type": "display_data"
    },
    {
     "data": {
      "application/vnd.jupyter.widget-view+json": {
       "model_id": "6df026c3ac744b78ae4881c3037642f6",
       "version_major": 2,
       "version_minor": 0
      },
      "text/plain": [
       "  0%|          | 0/446 [00:00<?, ?it/s]"
      ]
     },
     "metadata": {},
     "output_type": "display_data"
    },
    {
     "name": "stdout",
     "output_type": "stream",
     "text": [
      "SOLTU\n"
     ]
    },
    {
     "data": {
      "application/vnd.jupyter.widget-view+json": {
       "model_id": "4cca486b0e054335a961c211f992beb2",
       "version_major": 2,
       "version_minor": 0
      },
      "text/plain": [
       "  0%|          | 0/1437 [00:00<?, ?it/s]"
      ]
     },
     "metadata": {},
     "output_type": "display_data"
    },
    {
     "data": {
      "application/vnd.jupyter.widget-view+json": {
       "model_id": "d00d84a5899b4a33b149ecd2d3e68728",
       "version_major": 2,
       "version_minor": 0
      },
      "text/plain": [
       "  0%|          | 0/1246 [00:00<?, ?it/s]"
      ]
     },
     "metadata": {},
     "output_type": "display_data"
    }
   ],
   "source": [
    "raw_path = 'data/plant_expr/tpm'\n",
    "\n",
    "sra_annots = pd.read_csv(f'{raw_path}/SRA_annot_all.tsv', sep='\\t')\n",
    "general_names = sra_annots.set_index('SRA_exp')['Gname'].to_dict()\n",
    "specific_names = sra_annots.set_index('SRA_exp')['Sname'].to_dict()\n",
    "\n",
    "with open(f'{raw_path}/to_exclude.txt', 'rt') as fp:\n",
    "    to_exclude = set(map(lambda x: x.rstrip(), fp))\n",
    "    to_exclude.add('-')\n",
    "\n",
    "\n",
    "for sp_code in tqdm(dataset['plants']):\n",
    "    print(sp_code)\n",
    "    raw_fn = f'{raw_path}/{sp_code}.newMatrix.txt.gz'\n",
    "    df = pd.read_csv(raw_fn, sep='\\t').rename(columns={'genes': 'gene_id'}).set_index('gene_id')\n",
    "    \n",
    "    # filter to genes with at least one sample >= 2.0 TPM\n",
    "    sp_genes_over_thresh = set(df.index[(df >= MIN_TPM_CUTOFF).sum(axis=1) > 0])\n",
    "    df = df.loc[df.index.isin(sp_genes_over_thresh)]\n",
    "\n",
    "    # filter out tissues that we don't want\n",
    "    to_delete = []\n",
    "    for k in tqdm(df.keys()):\n",
    "        if general_names[k] in to_exclude:\n",
    "            to_delete.append(k)\n",
    "    df = df.drop(to_delete, axis=1)\n",
    "\n",
    "    # now map to mi\n",
    "    gen_idx = []\n",
    "    spc_idx = []\n",
    "    for k in tqdm(df.keys()):\n",
    "        gen_idx.append((general_names[k], k))\n",
    "        spc_idx.append((specific_names[k], k))\n",
    "\n",
    "    # everything has both general / specific naming so we can just reset the column index\n",
    "    df.columns = pd.MultiIndex.from_tuples(gen_idx)\n",
    "    df.to_hdf(PLANT_GENERAL_TPM_EXPR_FN, sp_code, complevel=9, complib='zlib')\n",
    "    \n",
    "    df.columns = pd.MultiIndex.from_tuples(spc_idx)\n",
    "    df.to_hdf(PLANT_SPECIFIC_TPM_EXPR_FN, sp_code, complevel=9, complib='zlib')"
   ]
  },
  {
   "cell_type": "markdown",
   "id": "172882ea-dd63-447e-99b0-9637237daca1",
   "metadata": {},
   "source": [
    "---"
   ]
  },
  {
   "cell_type": "markdown",
   "id": "9fe6bf95-aec7-4486-b22e-5073800a0f0e",
   "metadata": {},
   "source": [
    "## 8 - Categorise and filter animal tissues\n",
    "\n",
    "The plant data is already categorised and filtered. We still need to transform the UBERON terms to the curated categories for the animal dataset.\n",
    "\n",
    "Embryo developmental stages have already been filtered out at the previous step."
   ]
  },
  {
   "cell_type": "code",
   "execution_count": 72,
   "id": "5f2dbd92-931b-4eb4-b9ea-65b47c9e121b",
   "metadata": {},
   "outputs": [],
   "source": [
    "def map_to_category(df, catmap):\n",
    "    def check_nonempty():\n",
    "        return len(set(map(lambda x: x[0], df.columns)) & set(catmap.keys())) > 0\n",
    "\n",
    "    def gen():\n",
    "        terms = set(map(lambda x: x[0], df.columns))\n",
    "        for k in filter(lambda k: k in terms, catmap):\n",
    "            cats = [catmap[k]] if isinstance(catmap[k], str) else catmap[k]\n",
    "            for cat in cats:\n",
    "                zdf = df.loc[:,k].copy()\n",
    "                zdf.columns = pd.MultiIndex.from_tuples(map(lambda x: (cat, x), zdf.columns))\n",
    "                yield zdf\n",
    "    \n",
    "    if check_nonempty():\n",
    "        return pd.concat(gen(), axis=1)\n",
    "\n",
    "\n",
    "def map_db_to_category(db_fn, out_fn, catmap):\n",
    "    in_db = pd.HDFStore(db_fn, mode='r')\n",
    "    if not os.path.isfile(out_fn):\n",
    "        for n in tqdm(in_db.root):\n",
    "            sp = n._v_name\n",
    "            print(sp)\n",
    "            expr_df = pd.read_hdf(in_db, sp)\n",
    "            expr_df1 = map_to_category(expr_df, catmap)\n",
    "            if expr_df1 is not None:\n",
    "                expr_df1.to_hdf(out_fn, sp, complevel=9, complib='zlib')"
   ]
  },
  {
   "cell_type": "code",
   "execution_count": 74,
   "id": "031f91d1-b0b9-423b-8873-b1de1aa29872",
   "metadata": {},
   "outputs": [],
   "source": [
    "map_db_to_category(db_fn=ANIMAL_TPM_EXPR_FN,\n",
    "                   out_fn=f'{EXPR}/animal_maincat_tpm_expr.h5',\n",
    "                   catmap=uberon2maincat)\n",
    "\n",
    "map_db_to_category(db_fn=ANIMAL_TPM_EXPR_FN,\n",
    "                   out_fn=f'{EXPR}/animal_categorised_tpm_expr.h5',\n",
    "                   catmap=uberon2cat)"
   ]
  },
  {
   "cell_type": "code",
   "execution_count": null,
   "id": "f41d85b3-465a-4333-97b7-314b7b7b85a4",
   "metadata": {},
   "outputs": [],
   "source": []
  },
  {
   "cell_type": "code",
   "execution_count": null,
   "id": "5806e1ab-060d-49b0-9cd8-4338b9cee4f4",
   "metadata": {},
   "outputs": [],
   "source": []
  },
  {
   "cell_type": "code",
   "execution_count": null,
   "id": "fa03e3dc-e780-4d30-b9a0-f4c856cd6065",
   "metadata": {},
   "outputs": [],
   "source": []
  }
 ],
 "metadata": {
  "kernelspec": {
   "display_name": "Python 3 (ipykernel)",
   "language": "python",
   "name": "python3"
  },
  "language_info": {
   "codemirror_mode": {
    "name": "ipython",
    "version": 3
   },
   "file_extension": ".py",
   "mimetype": "text/x-python",
   "name": "python",
   "nbconvert_exporter": "python",
   "pygments_lexer": "ipython3",
   "version": "3.11.9"
  }
 },
 "nbformat": 4,
 "nbformat_minor": 5
}
