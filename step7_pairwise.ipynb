{
 "cells": [
  {
   "cell_type": "markdown",
   "id": "40084902-323d-4d76-aa10-96c3e909d62c",
   "metadata": {},
   "source": [
    "# Step 6 - Paralogous Pairwise Tests\n",
    "-- Alex Warwick Vesztrocy, February 2024"
   ]
  },
  {
   "cell_type": "markdown",
   "id": "13eb117d-7642-4084-b67b-3044e2828112",
   "metadata": {},
   "source": [
    "This notebook contains the code to run the inparalogue pairwise Pearson's correlation ($\\rho$) and tissue specificity ($\\tau$) tests."
   ]
  },
  {
   "cell_type": "code",
   "execution_count": 16,
   "id": "e29af330-0cc9-41f7-b75b-c7e7c39f0293",
   "metadata": {},
   "outputs": [],
   "source": [
    "from tqdm.auto import tqdm\n",
    "from scipy.stats import spearmanr, pearsonr\n",
    "import os\n",
    "import numpy as np\n",
    "import pandas as pd\n",
    "\n",
    "from parallel_pandas import ParallelPandas\n",
    "ParallelPandas.initialize()"
   ]
  },
  {
   "cell_type": "code",
   "execution_count": 12,
   "id": "935653f4-39c7-4393-b617-8f987cbc3806",
   "metadata": {},
   "outputs": [],
   "source": [
    "# species that have enough data and are in PANTHER\n",
    "dataset = {'animals': {'BOVIN','CHICK','DROME','FELCA','GORGO','HORSE','HUMAN','LEPOC','MACMU','MONDO','MOUSE','ORNAN','ORYLA','PANTR','PIG','RAT'},\n",
    "           'plants': {'AMBTC','ARATH','BRANA','CAPAN','CUCSA','HELAN','MAIZE','MANES','MARPO','MEDTR','ORYSJ','PHYPA','POPTR','SELML','SETIT','SOLLC','SOLTU','SOYBN','VITVI','WHEAT'}}"
   ]
  },
  {
   "cell_type": "code",
   "execution_count": 13,
   "id": "c8a4da62-162a-4780-838e-d451f8d6b9c9",
   "metadata": {},
   "outputs": [],
   "source": [
    "pairs_df = pd.read_csv('./results/pairwise_tests.tsv.gz', sep='\\t')"
   ]
  },
  {
   "cell_type": "code",
   "execution_count": 14,
   "id": "0c048083-5d7c-4d02-a9fe-fbdd027e1e9f",
   "metadata": {},
   "outputs": [],
   "source": [
    "pairs = {sp: zdf for (sp, zdf) in pairs_df[pairs_df.species.isin(dataset['animals'] | dataset['plants'])].groupby('species')}"
   ]
  },
  {
   "cell_type": "markdown",
   "id": "7261cff5-7ad6-4d81-a615-8e5bcc2fc705",
   "metadata": {},
   "source": [
    "---"
   ]
  },
  {
   "cell_type": "markdown",
   "id": "9a3dc883-a0e8-4c64-a28c-b54e1c162cde",
   "metadata": {},
   "source": [
    "### How many tests can we perform?"
   ]
  },
  {
   "cell_type": "code",
   "execution_count": 5,
   "id": "2ff84b86-77cf-4070-9719-e55b68578b41",
   "metadata": {},
   "outputs": [],
   "source": [
    "MAP_FN = './results/expr/gene_map.h5'"
   ]
  },
  {
   "cell_type": "code",
   "execution_count": 6,
   "id": "067cc07d-e8c4-425a-b72a-52377d9faf0e",
   "metadata": {},
   "outputs": [],
   "source": [
    "res = []\n",
    "for sp in (sorted(dataset['animals']) + sorted(dataset['plants'])):\n",
    "    sp_map = pd.read_hdf(MAP_FN, sp)\n",
    "    have_data = set(sp_map.UniProtKB)\n",
    "\n",
    "    zdf = pairs[sp]\n",
    "    \n",
    "    can_test = sum(zdf.ldo_gene.isin(have_data) & zdf.mdo_gene.isin(have_data))\n",
    "\n",
    "    res.append((sp, can_test, len(zdf), '{:.02%}'.format(can_test/len(zdf))))"
   ]
  },
  {
   "cell_type": "code",
   "execution_count": 7,
   "id": "a419c552-797b-45b0-aeac-002cc62c1cc2",
   "metadata": {},
   "outputs": [
    {
     "data": {
      "text/html": [
       "<div>\n",
       "<style scoped>\n",
       "    .dataframe tbody tr th:only-of-type {\n",
       "        vertical-align: middle;\n",
       "    }\n",
       "\n",
       "    .dataframe tbody tr th {\n",
       "        vertical-align: top;\n",
       "    }\n",
       "\n",
       "    .dataframe thead th {\n",
       "        text-align: right;\n",
       "    }\n",
       "</style>\n",
       "<table border=\"1\" class=\"dataframe\">\n",
       "  <thead>\n",
       "    <tr style=\"text-align: right;\">\n",
       "      <th></th>\n",
       "      <th>species</th>\n",
       "      <th>no. possible</th>\n",
       "      <th>total tests</th>\n",
       "      <th>% possible</th>\n",
       "    </tr>\n",
       "  </thead>\n",
       "  <tbody>\n",
       "    <tr>\n",
       "      <th>0</th>\n",
       "      <td>BOVIN</td>\n",
       "      <td>7035</td>\n",
       "      <td>9855</td>\n",
       "      <td>71.39%</td>\n",
       "    </tr>\n",
       "    <tr>\n",
       "      <th>1</th>\n",
       "      <td>CHICK</td>\n",
       "      <td>4023</td>\n",
       "      <td>5796</td>\n",
       "      <td>69.41%</td>\n",
       "    </tr>\n",
       "    <tr>\n",
       "      <th>2</th>\n",
       "      <td>DROME</td>\n",
       "      <td>4285</td>\n",
       "      <td>4501</td>\n",
       "      <td>95.20%</td>\n",
       "    </tr>\n",
       "    <tr>\n",
       "      <th>3</th>\n",
       "      <td>FELCA</td>\n",
       "      <td>5359</td>\n",
       "      <td>6829</td>\n",
       "      <td>78.47%</td>\n",
       "    </tr>\n",
       "    <tr>\n",
       "      <th>4</th>\n",
       "      <td>GORGO</td>\n",
       "      <td>5306</td>\n",
       "      <td>7594</td>\n",
       "      <td>69.87%</td>\n",
       "    </tr>\n",
       "    <tr>\n",
       "      <th>5</th>\n",
       "      <td>HORSE</td>\n",
       "      <td>6365</td>\n",
       "      <td>8042</td>\n",
       "      <td>79.15%</td>\n",
       "    </tr>\n",
       "    <tr>\n",
       "      <th>6</th>\n",
       "      <td>HUMAN</td>\n",
       "      <td>6677</td>\n",
       "      <td>7239</td>\n",
       "      <td>92.24%</td>\n",
       "    </tr>\n",
       "    <tr>\n",
       "      <th>7</th>\n",
       "      <td>LEPOC</td>\n",
       "      <td>5724</td>\n",
       "      <td>6356</td>\n",
       "      <td>90.06%</td>\n",
       "    </tr>\n",
       "    <tr>\n",
       "      <th>8</th>\n",
       "      <td>MACMU</td>\n",
       "      <td>6494</td>\n",
       "      <td>7243</td>\n",
       "      <td>89.66%</td>\n",
       "    </tr>\n",
       "    <tr>\n",
       "      <th>9</th>\n",
       "      <td>MONDO</td>\n",
       "      <td>6678</td>\n",
       "      <td>8211</td>\n",
       "      <td>81.33%</td>\n",
       "    </tr>\n",
       "    <tr>\n",
       "      <th>10</th>\n",
       "      <td>MOUSE</td>\n",
       "      <td>7328</td>\n",
       "      <td>8954</td>\n",
       "      <td>81.84%</td>\n",
       "    </tr>\n",
       "    <tr>\n",
       "      <th>11</th>\n",
       "      <td>ORNAN</td>\n",
       "      <td>4559</td>\n",
       "      <td>5566</td>\n",
       "      <td>81.91%</td>\n",
       "    </tr>\n",
       "    <tr>\n",
       "      <th>12</th>\n",
       "      <td>ORYLA</td>\n",
       "      <td>9017</td>\n",
       "      <td>9300</td>\n",
       "      <td>96.96%</td>\n",
       "    </tr>\n",
       "    <tr>\n",
       "      <th>13</th>\n",
       "      <td>PANTR</td>\n",
       "      <td>6878</td>\n",
       "      <td>8593</td>\n",
       "      <td>80.04%</td>\n",
       "    </tr>\n",
       "    <tr>\n",
       "      <th>14</th>\n",
       "      <td>PIG</td>\n",
       "      <td>5594</td>\n",
       "      <td>8223</td>\n",
       "      <td>68.03%</td>\n",
       "    </tr>\n",
       "    <tr>\n",
       "      <th>15</th>\n",
       "      <td>RAT</td>\n",
       "      <td>5933</td>\n",
       "      <td>8890</td>\n",
       "      <td>66.74%</td>\n",
       "    </tr>\n",
       "    <tr>\n",
       "      <th>16</th>\n",
       "      <td>AMBTC</td>\n",
       "      <td>6354</td>\n",
       "      <td>6881</td>\n",
       "      <td>92.34%</td>\n",
       "    </tr>\n",
       "    <tr>\n",
       "      <th>17</th>\n",
       "      <td>ARATH</td>\n",
       "      <td>13310</td>\n",
       "      <td>13769</td>\n",
       "      <td>96.67%</td>\n",
       "    </tr>\n",
       "    <tr>\n",
       "      <th>18</th>\n",
       "      <td>BRANA</td>\n",
       "      <td>25353</td>\n",
       "      <td>27248</td>\n",
       "      <td>93.05%</td>\n",
       "    </tr>\n",
       "    <tr>\n",
       "      <th>19</th>\n",
       "      <td>CAPAN</td>\n",
       "      <td>11051</td>\n",
       "      <td>12736</td>\n",
       "      <td>86.77%</td>\n",
       "    </tr>\n",
       "    <tr>\n",
       "      <th>20</th>\n",
       "      <td>CUCSA</td>\n",
       "      <td>7941</td>\n",
       "      <td>8155</td>\n",
       "      <td>97.38%</td>\n",
       "    </tr>\n",
       "    <tr>\n",
       "      <th>21</th>\n",
       "      <td>HELAN</td>\n",
       "      <td>15802</td>\n",
       "      <td>22346</td>\n",
       "      <td>70.72%</td>\n",
       "    </tr>\n",
       "    <tr>\n",
       "      <th>22</th>\n",
       "      <td>MAIZE</td>\n",
       "      <td>15866</td>\n",
       "      <td>16424</td>\n",
       "      <td>96.60%</td>\n",
       "    </tr>\n",
       "    <tr>\n",
       "      <th>23</th>\n",
       "      <td>MANES</td>\n",
       "      <td>13805</td>\n",
       "      <td>14927</td>\n",
       "      <td>92.48%</td>\n",
       "    </tr>\n",
       "    <tr>\n",
       "      <th>24</th>\n",
       "      <td>MARPO</td>\n",
       "      <td>3492</td>\n",
       "      <td>4234</td>\n",
       "      <td>82.48%</td>\n",
       "    </tr>\n",
       "    <tr>\n",
       "      <th>25</th>\n",
       "      <td>MEDTR</td>\n",
       "      <td>14881</td>\n",
       "      <td>17780</td>\n",
       "      <td>83.70%</td>\n",
       "    </tr>\n",
       "    <tr>\n",
       "      <th>26</th>\n",
       "      <td>ORYSJ</td>\n",
       "      <td>11270</td>\n",
       "      <td>13439</td>\n",
       "      <td>83.86%</td>\n",
       "    </tr>\n",
       "    <tr>\n",
       "      <th>27</th>\n",
       "      <td>PHYPA</td>\n",
       "      <td>10570</td>\n",
       "      <td>10982</td>\n",
       "      <td>96.25%</td>\n",
       "    </tr>\n",
       "    <tr>\n",
       "      <th>28</th>\n",
       "      <td>POPTR</td>\n",
       "      <td>15192</td>\n",
       "      <td>20180</td>\n",
       "      <td>75.28%</td>\n",
       "    </tr>\n",
       "    <tr>\n",
       "      <th>29</th>\n",
       "      <td>SELML</td>\n",
       "      <td>13404</td>\n",
       "      <td>14813</td>\n",
       "      <td>90.49%</td>\n",
       "    </tr>\n",
       "    <tr>\n",
       "      <th>30</th>\n",
       "      <td>SETIT</td>\n",
       "      <td>11931</td>\n",
       "      <td>14630</td>\n",
       "      <td>81.55%</td>\n",
       "    </tr>\n",
       "    <tr>\n",
       "      <th>31</th>\n",
       "      <td>SOLLC</td>\n",
       "      <td>10301</td>\n",
       "      <td>11099</td>\n",
       "      <td>92.81%</td>\n",
       "    </tr>\n",
       "    <tr>\n",
       "      <th>32</th>\n",
       "      <td>SOLTU</td>\n",
       "      <td>10310</td>\n",
       "      <td>11691</td>\n",
       "      <td>88.19%</td>\n",
       "    </tr>\n",
       "    <tr>\n",
       "      <th>33</th>\n",
       "      <td>SOYBN</td>\n",
       "      <td>30167</td>\n",
       "      <td>31970</td>\n",
       "      <td>94.36%</td>\n",
       "    </tr>\n",
       "    <tr>\n",
       "      <th>34</th>\n",
       "      <td>VITVI</td>\n",
       "      <td>7459</td>\n",
       "      <td>11769</td>\n",
       "      <td>63.38%</td>\n",
       "    </tr>\n",
       "    <tr>\n",
       "      <th>35</th>\n",
       "      <td>WHEAT</td>\n",
       "      <td>59221</td>\n",
       "      <td>64988</td>\n",
       "      <td>91.13%</td>\n",
       "    </tr>\n",
       "  </tbody>\n",
       "</table>\n",
       "</div>"
      ],
      "text/plain": [
       "   species  no. possible  total tests % possible\n",
       "0    BOVIN          7035         9855     71.39%\n",
       "1    CHICK          4023         5796     69.41%\n",
       "2    DROME          4285         4501     95.20%\n",
       "3    FELCA          5359         6829     78.47%\n",
       "4    GORGO          5306         7594     69.87%\n",
       "5    HORSE          6365         8042     79.15%\n",
       "6    HUMAN          6677         7239     92.24%\n",
       "7    LEPOC          5724         6356     90.06%\n",
       "8    MACMU          6494         7243     89.66%\n",
       "9    MONDO          6678         8211     81.33%\n",
       "10   MOUSE          7328         8954     81.84%\n",
       "11   ORNAN          4559         5566     81.91%\n",
       "12   ORYLA          9017         9300     96.96%\n",
       "13   PANTR          6878         8593     80.04%\n",
       "14     PIG          5594         8223     68.03%\n",
       "15     RAT          5933         8890     66.74%\n",
       "16   AMBTC          6354         6881     92.34%\n",
       "17   ARATH         13310        13769     96.67%\n",
       "18   BRANA         25353        27248     93.05%\n",
       "19   CAPAN         11051        12736     86.77%\n",
       "20   CUCSA          7941         8155     97.38%\n",
       "21   HELAN         15802        22346     70.72%\n",
       "22   MAIZE         15866        16424     96.60%\n",
       "23   MANES         13805        14927     92.48%\n",
       "24   MARPO          3492         4234     82.48%\n",
       "25   MEDTR         14881        17780     83.70%\n",
       "26   ORYSJ         11270        13439     83.86%\n",
       "27   PHYPA         10570        10982     96.25%\n",
       "28   POPTR         15192        20180     75.28%\n",
       "29   SELML         13404        14813     90.49%\n",
       "30   SETIT         11931        14630     81.55%\n",
       "31   SOLLC         10301        11099     92.81%\n",
       "32   SOLTU         10310        11691     88.19%\n",
       "33   SOYBN         30167        31970     94.36%\n",
       "34   VITVI          7459        11769     63.38%\n",
       "35   WHEAT         59221        64988     91.13%"
      ]
     },
     "execution_count": 7,
     "metadata": {},
     "output_type": "execute_result"
    }
   ],
   "source": [
    "test_stats_df = pd.DataFrame(res, columns=['species', 'no. possible', 'total tests', '% possible'])\n",
    "test_stats_df.to_csv('./results/tables/test_stats_possible.tsv', sep='\\t', index=False)\n",
    "test_stats_df"
   ]
  },
  {
   "cell_type": "markdown",
   "id": "2f2f70f9-c876-4a74-b753-031f61615e51",
   "metadata": {},
   "source": [
    "---\n",
    "## Paralogous Expression Similarity\n",
    "\n",
    "Compute pearson correlation coefficients for the expression values for each of the pairs, for each of the average expression methods."
   ]
  },
  {
   "cell_type": "code",
   "execution_count": 8,
   "id": "4bd09409-8e7c-456c-9126-e22f773e6df1",
   "metadata": {},
   "outputs": [],
   "source": [
    "EXPR = './results/expr'\n",
    "TAU = './results/tau'\n",
    "    \n",
    "\n",
    "def load_expr(sp, expr_fn, tau_fn, map_fn, genes=None):\n",
    "    # load the expression data, into a consistent format.\n",
    "    map_df = pd.read_hdf(map_fn, sp)\n",
    "\n",
    "    if genes is not None:\n",
    "        map_df = map_df[map_df['UniProtKB'].isin(genes)]\n",
    "\n",
    "    # load expression data\n",
    "    expr_df = pd.read_hdf(expr_fn, sp)\n",
    "\n",
    "    # temporarily flatten\n",
    "    mi = expr_df.columns.copy()\n",
    "    expr_df.columns = list(range(len(expr_df.columns)))\n",
    "    \n",
    "    # merge and apply transformation\n",
    "    expr_df = pd.merge(expr_df, map_df, left_on='gene_id', right_on='xref').set_index('UniProtKB')[expr_df.columns]\n",
    "    expr_df = expr_df.apply(np.arcsinh)\n",
    "\n",
    "    # regroup the tissue names\n",
    "    expr_df.columns = mi\n",
    "    \n",
    "    # load the tau values\n",
    "    tau_df = pd.read_hdf(tau_fn, sp)\n",
    "    tau = pd.merge(pd.DataFrame({'tau': tau_df}), map_df, left_on='gene_id', right_on='xref').set_index('UniProtKB')['tau'].to_dict()\n",
    "\n",
    "    return (expr_df, tau)\n",
    "\n",
    "\n",
    "def compute_expr_sim(pair_df, expr_df, sim_func):\n",
    "    return pair_df.p_apply(lambda x: sim_func(expr_df, x.ldo_gene, x.mdo_gene), axis=1)\n",
    "\n",
    "def compute_pearson_(expr_df, x, y):\n",
    "    if x in expr_df.index and y in expr_df.index:\n",
    "        e_x = expr_df.loc[x].values\n",
    "        e_y = expr_df.loc[y].values\n",
    "        if np.all(e_x == e_x[0]) or np.all(e_y == e_y[0]):\n",
    "            return (None, None)\n",
    "        return pearsonr(e_x, e_y)\n",
    "    else:\n",
    "        return (None, None)"
   ]
  },
  {
   "cell_type": "code",
   "execution_count": null,
   "id": "ebf179cc-34ba-44cd-b5aa-472b53154a86",
   "metadata": {},
   "outputs": [],
   "source": []
  },
  {
   "cell_type": "markdown",
   "id": "33637bee-5486-461c-9907-9da0ce2e83a3",
   "metadata": {},
   "source": [
    "---\n",
    "## Run for each species"
   ]
  },
  {
   "cell_type": "code",
   "execution_count": 9,
   "id": "477a1c74-4081-45a3-a0a0-c9aeb562ecab",
   "metadata": {},
   "outputs": [],
   "source": [
    "databases = {'animals': [('animal_categorised_tpm_expr.h5', 'animal_categorised_tau.h5', 'animal_categorised'),\n",
    "                         ('animal_maincat_tpm_expr.h5', 'animal_maincat_tau.h5', 'animal_maincat'),\n",
    "                         ('animal_tpm_expr.h5', 'animal_alldata_tau.h5', 'animal_alldata')],\n",
    "             'plants': [('plant_general_tpm_expr.h5', 'plant_general_tau.h5', 'plant_general'),\n",
    "                        ('plant_specific_tpm_expr.h5', 'plant_specific_tau.h5', 'plant_specific')]}"
   ]
  },
  {
   "cell_type": "code",
   "execution_count": 17,
   "id": "c38fa488-781e-4975-a685-d66bc53f3fae",
   "metadata": {},
   "outputs": [
    {
     "data": {
      "application/vnd.jupyter.widget-view+json": {
       "model_id": "ddfdb1eb1ddd49c49a71d02e44383169",
       "version_major": 2,
       "version_minor": 0
      },
      "text/plain": [
       "  0%|          | 0/36 [00:00<?, ?it/s]"
      ]
     },
     "metadata": {},
     "output_type": "display_data"
    },
    {
     "name": "stdout",
     "output_type": "stream",
     "text": [
      "AMBTC plant_general\n"
     ]
    },
    {
     "data": {
      "application/vnd.jupyter.widget-view+json": {
       "model_id": "ca0552187091400a88e8c7ffb9bf2e99",
       "version_major": 2,
       "version_minor": 0
      },
      "text/plain": [
       "<LAMBDA> DONE:   0%|          | 0/6881 [00:00<?, ?it/s]"
      ]
     },
     "metadata": {},
     "output_type": "display_data"
    },
    {
     "name": "stdout",
     "output_type": "stream",
     "text": [
      "AMBTC plant_specific\n"
     ]
    },
    {
     "data": {
      "application/vnd.jupyter.widget-view+json": {
       "model_id": "2e090dac88384341a859a46d11c2a44d",
       "version_major": 2,
       "version_minor": 0
      },
      "text/plain": [
       "<LAMBDA> DONE:   0%|          | 0/6881 [00:00<?, ?it/s]"
      ]
     },
     "metadata": {},
     "output_type": "display_data"
    },
    {
     "name": "stdout",
     "output_type": "stream",
     "text": [
      "ARATH plant_general\n"
     ]
    },
    {
     "data": {
      "application/vnd.jupyter.widget-view+json": {
       "model_id": "adcb985108a8431ea993215985fc7108",
       "version_major": 2,
       "version_minor": 0
      },
      "text/plain": [
       "<LAMBDA> DONE:   0%|          | 0/13769 [00:00<?, ?it/s]"
      ]
     },
     "metadata": {},
     "output_type": "display_data"
    },
    {
     "name": "stdout",
     "output_type": "stream",
     "text": [
      "ARATH plant_specific\n"
     ]
    },
    {
     "data": {
      "application/vnd.jupyter.widget-view+json": {
       "model_id": "c62f280e9e684973b6b1a05c6559169c",
       "version_major": 2,
       "version_minor": 0
      },
      "text/plain": [
       "<LAMBDA> DONE:   0%|          | 0/13769 [00:00<?, ?it/s]"
      ]
     },
     "metadata": {},
     "output_type": "display_data"
    },
    {
     "name": "stdout",
     "output_type": "stream",
     "text": [
      "BOVIN animal_categorised\n"
     ]
    },
    {
     "data": {
      "application/vnd.jupyter.widget-view+json": {
       "model_id": "dd8e794e989c4656a945ee063ec9532e",
       "version_major": 2,
       "version_minor": 0
      },
      "text/plain": [
       "<LAMBDA> DONE:   0%|          | 0/9855 [00:00<?, ?it/s]"
      ]
     },
     "metadata": {},
     "output_type": "display_data"
    },
    {
     "name": "stdout",
     "output_type": "stream",
     "text": [
      "BOVIN animal_maincat\n"
     ]
    },
    {
     "data": {
      "application/vnd.jupyter.widget-view+json": {
       "model_id": "addfecd7c2ea46eab2143ce314ae3f17",
       "version_major": 2,
       "version_minor": 0
      },
      "text/plain": [
       "<LAMBDA> DONE:   0%|          | 0/9855 [00:00<?, ?it/s]"
      ]
     },
     "metadata": {},
     "output_type": "display_data"
    },
    {
     "name": "stdout",
     "output_type": "stream",
     "text": [
      "BOVIN animal_alldata\n"
     ]
    },
    {
     "data": {
      "application/vnd.jupyter.widget-view+json": {
       "model_id": "633ce03808e046349a745a988d12e890",
       "version_major": 2,
       "version_minor": 0
      },
      "text/plain": [
       "<LAMBDA> DONE:   0%|          | 0/9855 [00:00<?, ?it/s]"
      ]
     },
     "metadata": {},
     "output_type": "display_data"
    },
    {
     "name": "stdout",
     "output_type": "stream",
     "text": [
      "BRANA plant_general\n"
     ]
    },
    {
     "data": {
      "application/vnd.jupyter.widget-view+json": {
       "model_id": "11b5d0a79f6640488d4e1d503698fd35",
       "version_major": 2,
       "version_minor": 0
      },
      "text/plain": [
       "<LAMBDA> DONE:   0%|          | 0/27248 [00:00<?, ?it/s]"
      ]
     },
     "metadata": {},
     "output_type": "display_data"
    },
    {
     "name": "stdout",
     "output_type": "stream",
     "text": [
      "BRANA plant_specific\n"
     ]
    },
    {
     "data": {
      "application/vnd.jupyter.widget-view+json": {
       "model_id": "8482683dcb214fe186d73bfcb1179001",
       "version_major": 2,
       "version_minor": 0
      },
      "text/plain": [
       "<LAMBDA> DONE:   0%|          | 0/27248 [00:00<?, ?it/s]"
      ]
     },
     "metadata": {},
     "output_type": "display_data"
    },
    {
     "name": "stdout",
     "output_type": "stream",
     "text": [
      "CAPAN plant_general\n"
     ]
    },
    {
     "data": {
      "application/vnd.jupyter.widget-view+json": {
       "model_id": "89a1107dcf3b4c7daa0b73697a93e055",
       "version_major": 2,
       "version_minor": 0
      },
      "text/plain": [
       "<LAMBDA> DONE:   0%|          | 0/12736 [00:00<?, ?it/s]"
      ]
     },
     "metadata": {},
     "output_type": "display_data"
    },
    {
     "name": "stdout",
     "output_type": "stream",
     "text": [
      "CAPAN plant_specific\n"
     ]
    },
    {
     "data": {
      "application/vnd.jupyter.widget-view+json": {
       "model_id": "ca3e8527771b41c785ed3a0fe301d6a6",
       "version_major": 2,
       "version_minor": 0
      },
      "text/plain": [
       "<LAMBDA> DONE:   0%|          | 0/12736 [00:00<?, ?it/s]"
      ]
     },
     "metadata": {},
     "output_type": "display_data"
    },
    {
     "name": "stdout",
     "output_type": "stream",
     "text": [
      "CHICK animal_categorised\n"
     ]
    },
    {
     "data": {
      "application/vnd.jupyter.widget-view+json": {
       "model_id": "61920b6b8c684019b5f66bf7664fe363",
       "version_major": 2,
       "version_minor": 0
      },
      "text/plain": [
       "<LAMBDA> DONE:   0%|          | 0/5796 [00:00<?, ?it/s]"
      ]
     },
     "metadata": {},
     "output_type": "display_data"
    },
    {
     "name": "stdout",
     "output_type": "stream",
     "text": [
      "CHICK animal_maincat\n"
     ]
    },
    {
     "data": {
      "application/vnd.jupyter.widget-view+json": {
       "model_id": "96e5003cf7c6432e9b0cabbc683de7bf",
       "version_major": 2,
       "version_minor": 0
      },
      "text/plain": [
       "<LAMBDA> DONE:   0%|          | 0/5796 [00:00<?, ?it/s]"
      ]
     },
     "metadata": {},
     "output_type": "display_data"
    },
    {
     "name": "stdout",
     "output_type": "stream",
     "text": [
      "CHICK animal_alldata\n"
     ]
    },
    {
     "data": {
      "application/vnd.jupyter.widget-view+json": {
       "model_id": "0789f96663764ce7ac99f28012aec3c1",
       "version_major": 2,
       "version_minor": 0
      },
      "text/plain": [
       "<LAMBDA> DONE:   0%|          | 0/5796 [00:00<?, ?it/s]"
      ]
     },
     "metadata": {},
     "output_type": "display_data"
    },
    {
     "name": "stdout",
     "output_type": "stream",
     "text": [
      "CUCSA plant_general\n"
     ]
    },
    {
     "data": {
      "application/vnd.jupyter.widget-view+json": {
       "model_id": "004fe6bc1d634cc79db97aa96b3ad4cc",
       "version_major": 2,
       "version_minor": 0
      },
      "text/plain": [
       "<LAMBDA> DONE:   0%|          | 0/8155 [00:00<?, ?it/s]"
      ]
     },
     "metadata": {},
     "output_type": "display_data"
    },
    {
     "name": "stdout",
     "output_type": "stream",
     "text": [
      "CUCSA plant_specific\n"
     ]
    },
    {
     "data": {
      "application/vnd.jupyter.widget-view+json": {
       "model_id": "6104bf166b4644e7a0ebea108acab667",
       "version_major": 2,
       "version_minor": 0
      },
      "text/plain": [
       "<LAMBDA> DONE:   0%|          | 0/8155 [00:00<?, ?it/s]"
      ]
     },
     "metadata": {},
     "output_type": "display_data"
    },
    {
     "name": "stdout",
     "output_type": "stream",
     "text": [
      "DROME animal_categorised\n"
     ]
    },
    {
     "data": {
      "application/vnd.jupyter.widget-view+json": {
       "model_id": "3a6bba9103864fa689a20f4f6543c737",
       "version_major": 2,
       "version_minor": 0
      },
      "text/plain": [
       "<LAMBDA> DONE:   0%|          | 0/4501 [00:00<?, ?it/s]"
      ]
     },
     "metadata": {},
     "output_type": "display_data"
    },
    {
     "name": "stdout",
     "output_type": "stream",
     "text": [
      "DROME animal_maincat\n"
     ]
    },
    {
     "data": {
      "application/vnd.jupyter.widget-view+json": {
       "model_id": "bcbd42c0089d4218a9182f8cd5a17adf",
       "version_major": 2,
       "version_minor": 0
      },
      "text/plain": [
       "<LAMBDA> DONE:   0%|          | 0/4501 [00:00<?, ?it/s]"
      ]
     },
     "metadata": {},
     "output_type": "display_data"
    },
    {
     "name": "stdout",
     "output_type": "stream",
     "text": [
      "DROME animal_alldata\n"
     ]
    },
    {
     "data": {
      "application/vnd.jupyter.widget-view+json": {
       "model_id": "aa4d913f8ae742e2bc49aa11b172bc24",
       "version_major": 2,
       "version_minor": 0
      },
      "text/plain": [
       "<LAMBDA> DONE:   0%|          | 0/4501 [00:00<?, ?it/s]"
      ]
     },
     "metadata": {},
     "output_type": "display_data"
    },
    {
     "name": "stdout",
     "output_type": "stream",
     "text": [
      "FELCA animal_categorised\n"
     ]
    },
    {
     "data": {
      "application/vnd.jupyter.widget-view+json": {
       "model_id": "6e222b287b59447d995617c8c79d4fe6",
       "version_major": 2,
       "version_minor": 0
      },
      "text/plain": [
       "<LAMBDA> DONE:   0%|          | 0/6829 [00:00<?, ?it/s]"
      ]
     },
     "metadata": {},
     "output_type": "display_data"
    },
    {
     "name": "stdout",
     "output_type": "stream",
     "text": [
      "FELCA animal_maincat\n"
     ]
    },
    {
     "data": {
      "application/vnd.jupyter.widget-view+json": {
       "model_id": "dfd28bb486464165902f296adc528962",
       "version_major": 2,
       "version_minor": 0
      },
      "text/plain": [
       "<LAMBDA> DONE:   0%|          | 0/6829 [00:00<?, ?it/s]"
      ]
     },
     "metadata": {},
     "output_type": "display_data"
    },
    {
     "name": "stdout",
     "output_type": "stream",
     "text": [
      "FELCA animal_alldata\n"
     ]
    },
    {
     "data": {
      "application/vnd.jupyter.widget-view+json": {
       "model_id": "69f62b29eabe4a1b8f1ba01d4d62a744",
       "version_major": 2,
       "version_minor": 0
      },
      "text/plain": [
       "<LAMBDA> DONE:   0%|          | 0/6829 [00:00<?, ?it/s]"
      ]
     },
     "metadata": {},
     "output_type": "display_data"
    },
    {
     "name": "stdout",
     "output_type": "stream",
     "text": [
      "GORGO animal_categorised\n"
     ]
    },
    {
     "data": {
      "application/vnd.jupyter.widget-view+json": {
       "model_id": "80412f988be44b1ab9ef6c155af99a78",
       "version_major": 2,
       "version_minor": 0
      },
      "text/plain": [
       "<LAMBDA> DONE:   0%|          | 0/7594 [00:00<?, ?it/s]"
      ]
     },
     "metadata": {},
     "output_type": "display_data"
    },
    {
     "name": "stdout",
     "output_type": "stream",
     "text": [
      "GORGO animal_maincat\n"
     ]
    },
    {
     "data": {
      "application/vnd.jupyter.widget-view+json": {
       "model_id": "6a522303d5334ca284626e2b151016c0",
       "version_major": 2,
       "version_minor": 0
      },
      "text/plain": [
       "<LAMBDA> DONE:   0%|          | 0/7594 [00:00<?, ?it/s]"
      ]
     },
     "metadata": {},
     "output_type": "display_data"
    },
    {
     "name": "stdout",
     "output_type": "stream",
     "text": [
      "GORGO animal_alldata\n"
     ]
    },
    {
     "data": {
      "application/vnd.jupyter.widget-view+json": {
       "model_id": "db91355bf52d40e8809a62ee71b095ea",
       "version_major": 2,
       "version_minor": 0
      },
      "text/plain": [
       "<LAMBDA> DONE:   0%|          | 0/7594 [00:00<?, ?it/s]"
      ]
     },
     "metadata": {},
     "output_type": "display_data"
    },
    {
     "name": "stdout",
     "output_type": "stream",
     "text": [
      "HELAN plant_general\n"
     ]
    },
    {
     "data": {
      "application/vnd.jupyter.widget-view+json": {
       "model_id": "d65070522add486d8592aabdc67ce15c",
       "version_major": 2,
       "version_minor": 0
      },
      "text/plain": [
       "<LAMBDA> DONE:   0%|          | 0/22346 [00:00<?, ?it/s]"
      ]
     },
     "metadata": {},
     "output_type": "display_data"
    },
    {
     "name": "stdout",
     "output_type": "stream",
     "text": [
      "HELAN plant_specific\n"
     ]
    },
    {
     "data": {
      "application/vnd.jupyter.widget-view+json": {
       "model_id": "3355e708f0ee40d596f74ab3792b9659",
       "version_major": 2,
       "version_minor": 0
      },
      "text/plain": [
       "<LAMBDA> DONE:   0%|          | 0/22346 [00:00<?, ?it/s]"
      ]
     },
     "metadata": {},
     "output_type": "display_data"
    },
    {
     "name": "stdout",
     "output_type": "stream",
     "text": [
      "HORSE animal_categorised\n"
     ]
    },
    {
     "data": {
      "application/vnd.jupyter.widget-view+json": {
       "model_id": "bd648a1b49e84618a94229209b6590a5",
       "version_major": 2,
       "version_minor": 0
      },
      "text/plain": [
       "<LAMBDA> DONE:   0%|          | 0/8042 [00:00<?, ?it/s]"
      ]
     },
     "metadata": {},
     "output_type": "display_data"
    },
    {
     "name": "stdout",
     "output_type": "stream",
     "text": [
      "HORSE animal_maincat\n"
     ]
    },
    {
     "data": {
      "application/vnd.jupyter.widget-view+json": {
       "model_id": "029392a18b5f4255be93641ea1d60ca6",
       "version_major": 2,
       "version_minor": 0
      },
      "text/plain": [
       "<LAMBDA> DONE:   0%|          | 0/8042 [00:00<?, ?it/s]"
      ]
     },
     "metadata": {},
     "output_type": "display_data"
    },
    {
     "name": "stdout",
     "output_type": "stream",
     "text": [
      "HORSE animal_alldata\n"
     ]
    },
    {
     "data": {
      "application/vnd.jupyter.widget-view+json": {
       "model_id": "ba7a30cc413c40289377b825afa3648f",
       "version_major": 2,
       "version_minor": 0
      },
      "text/plain": [
       "<LAMBDA> DONE:   0%|          | 0/8042 [00:00<?, ?it/s]"
      ]
     },
     "metadata": {},
     "output_type": "display_data"
    },
    {
     "name": "stdout",
     "output_type": "stream",
     "text": [
      "HUMAN animal_categorised\n"
     ]
    },
    {
     "data": {
      "application/vnd.jupyter.widget-view+json": {
       "model_id": "232f6439f19641798994a74b63a92b1e",
       "version_major": 2,
       "version_minor": 0
      },
      "text/plain": [
       "<LAMBDA> DONE:   0%|          | 0/7239 [00:00<?, ?it/s]"
      ]
     },
     "metadata": {},
     "output_type": "display_data"
    },
    {
     "name": "stdout",
     "output_type": "stream",
     "text": [
      "HUMAN animal_maincat\n"
     ]
    },
    {
     "data": {
      "application/vnd.jupyter.widget-view+json": {
       "model_id": "b6da44e70b6446029b6d021e1d34a80f",
       "version_major": 2,
       "version_minor": 0
      },
      "text/plain": [
       "<LAMBDA> DONE:   0%|          | 0/7239 [00:00<?, ?it/s]"
      ]
     },
     "metadata": {},
     "output_type": "display_data"
    },
    {
     "name": "stdout",
     "output_type": "stream",
     "text": [
      "HUMAN animal_alldata\n"
     ]
    },
    {
     "data": {
      "application/vnd.jupyter.widget-view+json": {
       "model_id": "44cd6118da074caebfda2ff4ccaa626e",
       "version_major": 2,
       "version_minor": 0
      },
      "text/plain": [
       "<LAMBDA> DONE:   0%|          | 0/7239 [00:00<?, ?it/s]"
      ]
     },
     "metadata": {},
     "output_type": "display_data"
    },
    {
     "name": "stdout",
     "output_type": "stream",
     "text": [
      "LEPOC animal_categorised\n"
     ]
    },
    {
     "data": {
      "application/vnd.jupyter.widget-view+json": {
       "model_id": "67376a3bf54a4883b3faef1c8ae31a15",
       "version_major": 2,
       "version_minor": 0
      },
      "text/plain": [
       "<LAMBDA> DONE:   0%|          | 0/6356 [00:00<?, ?it/s]"
      ]
     },
     "metadata": {},
     "output_type": "display_data"
    },
    {
     "name": "stdout",
     "output_type": "stream",
     "text": [
      "LEPOC animal_maincat\n"
     ]
    },
    {
     "data": {
      "application/vnd.jupyter.widget-view+json": {
       "model_id": "359e60ea61b24a7a988ab11acc5038d1",
       "version_major": 2,
       "version_minor": 0
      },
      "text/plain": [
       "<LAMBDA> DONE:   0%|          | 0/6356 [00:00<?, ?it/s]"
      ]
     },
     "metadata": {},
     "output_type": "display_data"
    },
    {
     "name": "stdout",
     "output_type": "stream",
     "text": [
      "LEPOC animal_alldata\n"
     ]
    },
    {
     "data": {
      "application/vnd.jupyter.widget-view+json": {
       "model_id": "5806f657b4c9409d8128fc9ee422e034",
       "version_major": 2,
       "version_minor": 0
      },
      "text/plain": [
       "<LAMBDA> DONE:   0%|          | 0/6356 [00:00<?, ?it/s]"
      ]
     },
     "metadata": {},
     "output_type": "display_data"
    },
    {
     "name": "stdout",
     "output_type": "stream",
     "text": [
      "MACMU animal_categorised\n"
     ]
    },
    {
     "data": {
      "application/vnd.jupyter.widget-view+json": {
       "model_id": "cef9b7b6addf483cb11f09bea127fdc8",
       "version_major": 2,
       "version_minor": 0
      },
      "text/plain": [
       "<LAMBDA> DONE:   0%|          | 0/7243 [00:00<?, ?it/s]"
      ]
     },
     "metadata": {},
     "output_type": "display_data"
    },
    {
     "name": "stdout",
     "output_type": "stream",
     "text": [
      "MACMU animal_maincat\n"
     ]
    },
    {
     "data": {
      "application/vnd.jupyter.widget-view+json": {
       "model_id": "7f831cfc274c4b5dacfd5e4207b7db19",
       "version_major": 2,
       "version_minor": 0
      },
      "text/plain": [
       "<LAMBDA> DONE:   0%|          | 0/7243 [00:00<?, ?it/s]"
      ]
     },
     "metadata": {},
     "output_type": "display_data"
    },
    {
     "name": "stdout",
     "output_type": "stream",
     "text": [
      "MACMU animal_alldata\n"
     ]
    },
    {
     "data": {
      "application/vnd.jupyter.widget-view+json": {
       "model_id": "9693e8b62e9440bb8052cdc27adb396b",
       "version_major": 2,
       "version_minor": 0
      },
      "text/plain": [
       "<LAMBDA> DONE:   0%|          | 0/7243 [00:00<?, ?it/s]"
      ]
     },
     "metadata": {},
     "output_type": "display_data"
    },
    {
     "name": "stdout",
     "output_type": "stream",
     "text": [
      "MAIZE plant_general\n"
     ]
    },
    {
     "data": {
      "application/vnd.jupyter.widget-view+json": {
       "model_id": "91c1e99a011d47658e96d9e641241dbb",
       "version_major": 2,
       "version_minor": 0
      },
      "text/plain": [
       "<LAMBDA> DONE:   0%|          | 0/16424 [00:00<?, ?it/s]"
      ]
     },
     "metadata": {},
     "output_type": "display_data"
    },
    {
     "name": "stdout",
     "output_type": "stream",
     "text": [
      "MAIZE plant_specific\n"
     ]
    },
    {
     "data": {
      "application/vnd.jupyter.widget-view+json": {
       "model_id": "f2d99e10bd1e42bb8fd77434f91c364f",
       "version_major": 2,
       "version_minor": 0
      },
      "text/plain": [
       "<LAMBDA> DONE:   0%|          | 0/16424 [00:00<?, ?it/s]"
      ]
     },
     "metadata": {},
     "output_type": "display_data"
    },
    {
     "name": "stdout",
     "output_type": "stream",
     "text": [
      "MANES plant_general\n"
     ]
    },
    {
     "data": {
      "application/vnd.jupyter.widget-view+json": {
       "model_id": "00a515ed83b74d5fa1628513b91f8340",
       "version_major": 2,
       "version_minor": 0
      },
      "text/plain": [
       "<LAMBDA> DONE:   0%|          | 0/14927 [00:00<?, ?it/s]"
      ]
     },
     "metadata": {},
     "output_type": "display_data"
    },
    {
     "name": "stdout",
     "output_type": "stream",
     "text": [
      "MANES plant_specific\n"
     ]
    },
    {
     "data": {
      "application/vnd.jupyter.widget-view+json": {
       "model_id": "a0c34e02431b4fe29c5282751da6710a",
       "version_major": 2,
       "version_minor": 0
      },
      "text/plain": [
       "<LAMBDA> DONE:   0%|          | 0/14927 [00:00<?, ?it/s]"
      ]
     },
     "metadata": {},
     "output_type": "display_data"
    },
    {
     "name": "stdout",
     "output_type": "stream",
     "text": [
      "MARPO plant_general\n"
     ]
    },
    {
     "data": {
      "application/vnd.jupyter.widget-view+json": {
       "model_id": "776a5784e7ef44f2a5538d21efc353ec",
       "version_major": 2,
       "version_minor": 0
      },
      "text/plain": [
       "<LAMBDA> DONE:   0%|          | 0/4234 [00:00<?, ?it/s]"
      ]
     },
     "metadata": {},
     "output_type": "display_data"
    },
    {
     "name": "stdout",
     "output_type": "stream",
     "text": [
      "MARPO plant_specific\n"
     ]
    },
    {
     "data": {
      "application/vnd.jupyter.widget-view+json": {
       "model_id": "62d8fccd74fb4581a819d357a9198992",
       "version_major": 2,
       "version_minor": 0
      },
      "text/plain": [
       "<LAMBDA> DONE:   0%|          | 0/4234 [00:00<?, ?it/s]"
      ]
     },
     "metadata": {},
     "output_type": "display_data"
    },
    {
     "name": "stdout",
     "output_type": "stream",
     "text": [
      "MEDTR plant_general\n"
     ]
    },
    {
     "data": {
      "application/vnd.jupyter.widget-view+json": {
       "model_id": "06d8d009ea514cd09d27ae2d5e14e253",
       "version_major": 2,
       "version_minor": 0
      },
      "text/plain": [
       "<LAMBDA> DONE:   0%|          | 0/17780 [00:00<?, ?it/s]"
      ]
     },
     "metadata": {},
     "output_type": "display_data"
    },
    {
     "name": "stdout",
     "output_type": "stream",
     "text": [
      "MEDTR plant_specific\n"
     ]
    },
    {
     "data": {
      "application/vnd.jupyter.widget-view+json": {
       "model_id": "35afeee661d74097a0252653ea627d5a",
       "version_major": 2,
       "version_minor": 0
      },
      "text/plain": [
       "<LAMBDA> DONE:   0%|          | 0/17780 [00:00<?, ?it/s]"
      ]
     },
     "metadata": {},
     "output_type": "display_data"
    },
    {
     "name": "stdout",
     "output_type": "stream",
     "text": [
      "MONDO animal_categorised\n"
     ]
    },
    {
     "data": {
      "application/vnd.jupyter.widget-view+json": {
       "model_id": "99ac317974e341a1beed269df9d6fe32",
       "version_major": 2,
       "version_minor": 0
      },
      "text/plain": [
       "<LAMBDA> DONE:   0%|          | 0/8211 [00:00<?, ?it/s]"
      ]
     },
     "metadata": {},
     "output_type": "display_data"
    },
    {
     "name": "stdout",
     "output_type": "stream",
     "text": [
      "MONDO animal_maincat\n"
     ]
    },
    {
     "data": {
      "application/vnd.jupyter.widget-view+json": {
       "model_id": "8c2ee1c6042d42b09ed20f776211020c",
       "version_major": 2,
       "version_minor": 0
      },
      "text/plain": [
       "<LAMBDA> DONE:   0%|          | 0/8211 [00:00<?, ?it/s]"
      ]
     },
     "metadata": {},
     "output_type": "display_data"
    },
    {
     "name": "stdout",
     "output_type": "stream",
     "text": [
      "MONDO animal_alldata\n"
     ]
    },
    {
     "data": {
      "application/vnd.jupyter.widget-view+json": {
       "model_id": "0958b8193890404fa86bebc824b6a6bc",
       "version_major": 2,
       "version_minor": 0
      },
      "text/plain": [
       "<LAMBDA> DONE:   0%|          | 0/8211 [00:00<?, ?it/s]"
      ]
     },
     "metadata": {},
     "output_type": "display_data"
    },
    {
     "name": "stdout",
     "output_type": "stream",
     "text": [
      "MOUSE animal_categorised\n"
     ]
    },
    {
     "data": {
      "application/vnd.jupyter.widget-view+json": {
       "model_id": "de7494224a1844b091e45cf704b2cc3a",
       "version_major": 2,
       "version_minor": 0
      },
      "text/plain": [
       "<LAMBDA> DONE:   0%|          | 0/8954 [00:00<?, ?it/s]"
      ]
     },
     "metadata": {},
     "output_type": "display_data"
    },
    {
     "name": "stdout",
     "output_type": "stream",
     "text": [
      "MOUSE animal_maincat\n"
     ]
    },
    {
     "data": {
      "application/vnd.jupyter.widget-view+json": {
       "model_id": "124930a127684cb38ddf451e142caba4",
       "version_major": 2,
       "version_minor": 0
      },
      "text/plain": [
       "<LAMBDA> DONE:   0%|          | 0/8954 [00:00<?, ?it/s]"
      ]
     },
     "metadata": {},
     "output_type": "display_data"
    },
    {
     "name": "stdout",
     "output_type": "stream",
     "text": [
      "MOUSE animal_alldata\n"
     ]
    },
    {
     "data": {
      "application/vnd.jupyter.widget-view+json": {
       "model_id": "b56bc67982764982859cb812d555de14",
       "version_major": 2,
       "version_minor": 0
      },
      "text/plain": [
       "<LAMBDA> DONE:   0%|          | 0/8954 [00:00<?, ?it/s]"
      ]
     },
     "metadata": {},
     "output_type": "display_data"
    },
    {
     "name": "stdout",
     "output_type": "stream",
     "text": [
      "ORNAN animal_categorised\n"
     ]
    },
    {
     "data": {
      "application/vnd.jupyter.widget-view+json": {
       "model_id": "a1ca787bdb0147c7bc6f4a02d099aedf",
       "version_major": 2,
       "version_minor": 0
      },
      "text/plain": [
       "<LAMBDA> DONE:   0%|          | 0/5566 [00:00<?, ?it/s]"
      ]
     },
     "metadata": {},
     "output_type": "display_data"
    },
    {
     "name": "stdout",
     "output_type": "stream",
     "text": [
      "ORNAN animal_maincat\n"
     ]
    },
    {
     "data": {
      "application/vnd.jupyter.widget-view+json": {
       "model_id": "7cd61aab624a45908952140f3448289c",
       "version_major": 2,
       "version_minor": 0
      },
      "text/plain": [
       "<LAMBDA> DONE:   0%|          | 0/5566 [00:00<?, ?it/s]"
      ]
     },
     "metadata": {},
     "output_type": "display_data"
    },
    {
     "name": "stdout",
     "output_type": "stream",
     "text": [
      "ORNAN animal_alldata\n"
     ]
    },
    {
     "data": {
      "application/vnd.jupyter.widget-view+json": {
       "model_id": "301c553ee1814674b8c31e70ec971fab",
       "version_major": 2,
       "version_minor": 0
      },
      "text/plain": [
       "<LAMBDA> DONE:   0%|          | 0/5566 [00:00<?, ?it/s]"
      ]
     },
     "metadata": {},
     "output_type": "display_data"
    },
    {
     "name": "stdout",
     "output_type": "stream",
     "text": [
      "ORYLA animal_categorised\n"
     ]
    },
    {
     "data": {
      "application/vnd.jupyter.widget-view+json": {
       "model_id": "347c4c7d3cdd47f6ac2447f781e50cc9",
       "version_major": 2,
       "version_minor": 0
      },
      "text/plain": [
       "<LAMBDA> DONE:   0%|          | 0/9300 [00:00<?, ?it/s]"
      ]
     },
     "metadata": {},
     "output_type": "display_data"
    },
    {
     "name": "stdout",
     "output_type": "stream",
     "text": [
      "ORYLA animal_maincat\n"
     ]
    },
    {
     "data": {
      "application/vnd.jupyter.widget-view+json": {
       "model_id": "78a40fbf83e94066829336062225c5a3",
       "version_major": 2,
       "version_minor": 0
      },
      "text/plain": [
       "<LAMBDA> DONE:   0%|          | 0/9300 [00:00<?, ?it/s]"
      ]
     },
     "metadata": {},
     "output_type": "display_data"
    },
    {
     "name": "stdout",
     "output_type": "stream",
     "text": [
      "ORYLA animal_alldata\n"
     ]
    },
    {
     "data": {
      "application/vnd.jupyter.widget-view+json": {
       "model_id": "c755b61fee674adfa50b9fe452faf226",
       "version_major": 2,
       "version_minor": 0
      },
      "text/plain": [
       "<LAMBDA> DONE:   0%|          | 0/9300 [00:00<?, ?it/s]"
      ]
     },
     "metadata": {},
     "output_type": "display_data"
    },
    {
     "name": "stdout",
     "output_type": "stream",
     "text": [
      "ORYSJ plant_general\n"
     ]
    },
    {
     "data": {
      "application/vnd.jupyter.widget-view+json": {
       "model_id": "cd00452a49904a96b7dac33cd83a6758",
       "version_major": 2,
       "version_minor": 0
      },
      "text/plain": [
       "<LAMBDA> DONE:   0%|          | 0/13439 [00:00<?, ?it/s]"
      ]
     },
     "metadata": {},
     "output_type": "display_data"
    },
    {
     "name": "stdout",
     "output_type": "stream",
     "text": [
      "ORYSJ plant_specific\n"
     ]
    },
    {
     "data": {
      "application/vnd.jupyter.widget-view+json": {
       "model_id": "d0c05fbe565743e884a8006b70558866",
       "version_major": 2,
       "version_minor": 0
      },
      "text/plain": [
       "<LAMBDA> DONE:   0%|          | 0/13439 [00:00<?, ?it/s]"
      ]
     },
     "metadata": {},
     "output_type": "display_data"
    },
    {
     "name": "stdout",
     "output_type": "stream",
     "text": [
      "PANTR animal_categorised\n"
     ]
    },
    {
     "data": {
      "application/vnd.jupyter.widget-view+json": {
       "model_id": "bd7e1adc41d74e0487e0cf2b9cc130e7",
       "version_major": 2,
       "version_minor": 0
      },
      "text/plain": [
       "<LAMBDA> DONE:   0%|          | 0/8593 [00:00<?, ?it/s]"
      ]
     },
     "metadata": {},
     "output_type": "display_data"
    },
    {
     "name": "stdout",
     "output_type": "stream",
     "text": [
      "PANTR animal_maincat\n"
     ]
    },
    {
     "data": {
      "application/vnd.jupyter.widget-view+json": {
       "model_id": "8e0e5b094161465a821fd77b043051b2",
       "version_major": 2,
       "version_minor": 0
      },
      "text/plain": [
       "<LAMBDA> DONE:   0%|          | 0/8593 [00:00<?, ?it/s]"
      ]
     },
     "metadata": {},
     "output_type": "display_data"
    },
    {
     "name": "stdout",
     "output_type": "stream",
     "text": [
      "PANTR animal_alldata\n"
     ]
    },
    {
     "data": {
      "application/vnd.jupyter.widget-view+json": {
       "model_id": "5afb17b16b6d49ac977779d4df954d7e",
       "version_major": 2,
       "version_minor": 0
      },
      "text/plain": [
       "<LAMBDA> DONE:   0%|          | 0/8593 [00:00<?, ?it/s]"
      ]
     },
     "metadata": {},
     "output_type": "display_data"
    },
    {
     "name": "stdout",
     "output_type": "stream",
     "text": [
      "PHYPA plant_general\n"
     ]
    },
    {
     "data": {
      "application/vnd.jupyter.widget-view+json": {
       "model_id": "f2d95b3ef22047609c21fd32a7ca212f",
       "version_major": 2,
       "version_minor": 0
      },
      "text/plain": [
       "<LAMBDA> DONE:   0%|          | 0/10982 [00:00<?, ?it/s]"
      ]
     },
     "metadata": {},
     "output_type": "display_data"
    },
    {
     "name": "stdout",
     "output_type": "stream",
     "text": [
      "PHYPA plant_specific\n"
     ]
    },
    {
     "data": {
      "application/vnd.jupyter.widget-view+json": {
       "model_id": "58d32f60037d40dea06c5d3d8678bc0a",
       "version_major": 2,
       "version_minor": 0
      },
      "text/plain": [
       "<LAMBDA> DONE:   0%|          | 0/10982 [00:00<?, ?it/s]"
      ]
     },
     "metadata": {},
     "output_type": "display_data"
    },
    {
     "name": "stdout",
     "output_type": "stream",
     "text": [
      "PIG animal_categorised\n"
     ]
    },
    {
     "data": {
      "application/vnd.jupyter.widget-view+json": {
       "model_id": "f7f5da79949b4f5aa8f739a604e4a4ba",
       "version_major": 2,
       "version_minor": 0
      },
      "text/plain": [
       "<LAMBDA> DONE:   0%|          | 0/8223 [00:00<?, ?it/s]"
      ]
     },
     "metadata": {},
     "output_type": "display_data"
    },
    {
     "name": "stdout",
     "output_type": "stream",
     "text": [
      "PIG animal_maincat\n"
     ]
    },
    {
     "data": {
      "application/vnd.jupyter.widget-view+json": {
       "model_id": "2a0fddc22740424ea7dd89605f846c95",
       "version_major": 2,
       "version_minor": 0
      },
      "text/plain": [
       "<LAMBDA> DONE:   0%|          | 0/8223 [00:00<?, ?it/s]"
      ]
     },
     "metadata": {},
     "output_type": "display_data"
    },
    {
     "name": "stdout",
     "output_type": "stream",
     "text": [
      "PIG animal_alldata\n"
     ]
    },
    {
     "data": {
      "application/vnd.jupyter.widget-view+json": {
       "model_id": "bf67692353f3474b86fc40ede5963d80",
       "version_major": 2,
       "version_minor": 0
      },
      "text/plain": [
       "<LAMBDA> DONE:   0%|          | 0/8223 [00:00<?, ?it/s]"
      ]
     },
     "metadata": {},
     "output_type": "display_data"
    },
    {
     "name": "stdout",
     "output_type": "stream",
     "text": [
      "POPTR plant_general\n"
     ]
    },
    {
     "data": {
      "application/vnd.jupyter.widget-view+json": {
       "model_id": "27e31e3ec5534ca68042dd90f8f186c9",
       "version_major": 2,
       "version_minor": 0
      },
      "text/plain": [
       "<LAMBDA> DONE:   0%|          | 0/20180 [00:00<?, ?it/s]"
      ]
     },
     "metadata": {},
     "output_type": "display_data"
    },
    {
     "name": "stdout",
     "output_type": "stream",
     "text": [
      "POPTR plant_specific\n"
     ]
    },
    {
     "data": {
      "application/vnd.jupyter.widget-view+json": {
       "model_id": "9b3fe03796ab48b29aa89e575c297b83",
       "version_major": 2,
       "version_minor": 0
      },
      "text/plain": [
       "<LAMBDA> DONE:   0%|          | 0/20180 [00:00<?, ?it/s]"
      ]
     },
     "metadata": {},
     "output_type": "display_data"
    },
    {
     "name": "stdout",
     "output_type": "stream",
     "text": [
      "RAT animal_categorised\n"
     ]
    },
    {
     "data": {
      "application/vnd.jupyter.widget-view+json": {
       "model_id": "0c4b70c63d0a47c18e1813bcc0e457c2",
       "version_major": 2,
       "version_minor": 0
      },
      "text/plain": [
       "<LAMBDA> DONE:   0%|          | 0/8890 [00:00<?, ?it/s]"
      ]
     },
     "metadata": {},
     "output_type": "display_data"
    },
    {
     "name": "stdout",
     "output_type": "stream",
     "text": [
      "RAT animal_maincat\n"
     ]
    },
    {
     "data": {
      "application/vnd.jupyter.widget-view+json": {
       "model_id": "018fac6d7c2f451387c9310ab1038ec0",
       "version_major": 2,
       "version_minor": 0
      },
      "text/plain": [
       "<LAMBDA> DONE:   0%|          | 0/8890 [00:00<?, ?it/s]"
      ]
     },
     "metadata": {},
     "output_type": "display_data"
    },
    {
     "name": "stdout",
     "output_type": "stream",
     "text": [
      "RAT animal_alldata\n"
     ]
    },
    {
     "data": {
      "application/vnd.jupyter.widget-view+json": {
       "model_id": "5a36b2fa9168420baeae6d06dfa2f57a",
       "version_major": 2,
       "version_minor": 0
      },
      "text/plain": [
       "<LAMBDA> DONE:   0%|          | 0/8890 [00:00<?, ?it/s]"
      ]
     },
     "metadata": {},
     "output_type": "display_data"
    },
    {
     "name": "stdout",
     "output_type": "stream",
     "text": [
      "SELML plant_general\n"
     ]
    },
    {
     "data": {
      "application/vnd.jupyter.widget-view+json": {
       "model_id": "518c29435a4f4fd9b2372a3fad143027",
       "version_major": 2,
       "version_minor": 0
      },
      "text/plain": [
       "<LAMBDA> DONE:   0%|          | 0/14813 [00:00<?, ?it/s]"
      ]
     },
     "metadata": {},
     "output_type": "display_data"
    },
    {
     "name": "stdout",
     "output_type": "stream",
     "text": [
      "SELML plant_specific\n"
     ]
    },
    {
     "data": {
      "application/vnd.jupyter.widget-view+json": {
       "model_id": "e417de0125f642689df9d1447dc6f240",
       "version_major": 2,
       "version_minor": 0
      },
      "text/plain": [
       "<LAMBDA> DONE:   0%|          | 0/14813 [00:00<?, ?it/s]"
      ]
     },
     "metadata": {},
     "output_type": "display_data"
    },
    {
     "name": "stdout",
     "output_type": "stream",
     "text": [
      "SETIT plant_general\n"
     ]
    },
    {
     "data": {
      "application/vnd.jupyter.widget-view+json": {
       "model_id": "45de9dd4ce834178840f7874d93c137c",
       "version_major": 2,
       "version_minor": 0
      },
      "text/plain": [
       "<LAMBDA> DONE:   0%|          | 0/14630 [00:00<?, ?it/s]"
      ]
     },
     "metadata": {},
     "output_type": "display_data"
    },
    {
     "name": "stdout",
     "output_type": "stream",
     "text": [
      "SETIT plant_specific\n"
     ]
    },
    {
     "data": {
      "application/vnd.jupyter.widget-view+json": {
       "model_id": "e86f3f73befe4f449a8e488aca1aa1a0",
       "version_major": 2,
       "version_minor": 0
      },
      "text/plain": [
       "<LAMBDA> DONE:   0%|          | 0/14630 [00:00<?, ?it/s]"
      ]
     },
     "metadata": {},
     "output_type": "display_data"
    },
    {
     "name": "stdout",
     "output_type": "stream",
     "text": [
      "SOLLC plant_general\n"
     ]
    },
    {
     "data": {
      "application/vnd.jupyter.widget-view+json": {
       "model_id": "ed758f064433461d9e0a1893c72dc987",
       "version_major": 2,
       "version_minor": 0
      },
      "text/plain": [
       "<LAMBDA> DONE:   0%|          | 0/11099 [00:00<?, ?it/s]"
      ]
     },
     "metadata": {},
     "output_type": "display_data"
    },
    {
     "name": "stdout",
     "output_type": "stream",
     "text": [
      "SOLLC plant_specific\n"
     ]
    },
    {
     "data": {
      "application/vnd.jupyter.widget-view+json": {
       "model_id": "9767b8db76f842cf9acf4c112264cdd1",
       "version_major": 2,
       "version_minor": 0
      },
      "text/plain": [
       "<LAMBDA> DONE:   0%|          | 0/11099 [00:00<?, ?it/s]"
      ]
     },
     "metadata": {},
     "output_type": "display_data"
    },
    {
     "name": "stdout",
     "output_type": "stream",
     "text": [
      "SOLTU plant_general\n"
     ]
    },
    {
     "data": {
      "application/vnd.jupyter.widget-view+json": {
       "model_id": "be95f1a9cbed4b66ab44fb0f78b3110c",
       "version_major": 2,
       "version_minor": 0
      },
      "text/plain": [
       "<LAMBDA> DONE:   0%|          | 0/11691 [00:00<?, ?it/s]"
      ]
     },
     "metadata": {},
     "output_type": "display_data"
    },
    {
     "name": "stdout",
     "output_type": "stream",
     "text": [
      "SOLTU plant_specific\n"
     ]
    },
    {
     "data": {
      "application/vnd.jupyter.widget-view+json": {
       "model_id": "748c0892434d461db3a5dd3a5c09c827",
       "version_major": 2,
       "version_minor": 0
      },
      "text/plain": [
       "<LAMBDA> DONE:   0%|          | 0/11691 [00:00<?, ?it/s]"
      ]
     },
     "metadata": {},
     "output_type": "display_data"
    },
    {
     "name": "stdout",
     "output_type": "stream",
     "text": [
      "SOYBN plant_general\n"
     ]
    },
    {
     "data": {
      "application/vnd.jupyter.widget-view+json": {
       "model_id": "87208e0e57f54a5d83382fcdac9f41ba",
       "version_major": 2,
       "version_minor": 0
      },
      "text/plain": [
       "<LAMBDA> DONE:   0%|          | 0/31970 [00:00<?, ?it/s]"
      ]
     },
     "metadata": {},
     "output_type": "display_data"
    },
    {
     "name": "stdout",
     "output_type": "stream",
     "text": [
      "SOYBN plant_specific\n"
     ]
    },
    {
     "data": {
      "application/vnd.jupyter.widget-view+json": {
       "model_id": "77f2269fb1d54c5980c623eb628a2114",
       "version_major": 2,
       "version_minor": 0
      },
      "text/plain": [
       "<LAMBDA> DONE:   0%|          | 0/31970 [00:00<?, ?it/s]"
      ]
     },
     "metadata": {},
     "output_type": "display_data"
    },
    {
     "name": "stdout",
     "output_type": "stream",
     "text": [
      "VITVI plant_general\n"
     ]
    },
    {
     "data": {
      "application/vnd.jupyter.widget-view+json": {
       "model_id": "a759a8a48de1455e85561bd44169c3c3",
       "version_major": 2,
       "version_minor": 0
      },
      "text/plain": [
       "<LAMBDA> DONE:   0%|          | 0/11769 [00:00<?, ?it/s]"
      ]
     },
     "metadata": {},
     "output_type": "display_data"
    },
    {
     "name": "stdout",
     "output_type": "stream",
     "text": [
      "VITVI plant_specific\n"
     ]
    },
    {
     "data": {
      "application/vnd.jupyter.widget-view+json": {
       "model_id": "84236e8b6ded4749bc8dfd40333e738e",
       "version_major": 2,
       "version_minor": 0
      },
      "text/plain": [
       "<LAMBDA> DONE:   0%|          | 0/11769 [00:00<?, ?it/s]"
      ]
     },
     "metadata": {},
     "output_type": "display_data"
    },
    {
     "name": "stdout",
     "output_type": "stream",
     "text": [
      "WHEAT plant_general\n"
     ]
    },
    {
     "data": {
      "application/vnd.jupyter.widget-view+json": {
       "model_id": "fc6d48c4319d45f8bb7cb785e5c75d73",
       "version_major": 2,
       "version_minor": 0
      },
      "text/plain": [
       "<LAMBDA> DONE:   0%|          | 0/64988 [00:00<?, ?it/s]"
      ]
     },
     "metadata": {},
     "output_type": "display_data"
    },
    {
     "name": "stdout",
     "output_type": "stream",
     "text": [
      "WHEAT plant_specific\n"
     ]
    },
    {
     "data": {
      "application/vnd.jupyter.widget-view+json": {
       "model_id": "946d2f24b2cc496588519d359e500cdb",
       "version_major": 2,
       "version_minor": 0
      },
      "text/plain": [
       "<LAMBDA> DONE:   0%|          | 0/64988 [00:00<?, ?it/s]"
      ]
     },
     "metadata": {},
     "output_type": "display_data"
    }
   ],
   "source": [
    "RES_PATH = './results/correlation'\n",
    "!mkdir -p {RES_PATH}\n",
    "\n",
    "for (sp, zdf) in tqdm(pairs.items()):\n",
    "    if sp in dataset['animals']:\n",
    "        db_key = 'animals'\n",
    "    elif sp in dataset['plants']:\n",
    "        db_key = 'plants'\n",
    "    else:\n",
    "        raise ValueError('unknown species {}'.format(sp))\n",
    "\n",
    "    genes_to_load = (set(zdf.ldo_gene) | set(zdf.mdo_gene))\n",
    "\n",
    "    # run for each database\n",
    "    for (expr_fn, tau_fn, key) in databases[db_key]:\n",
    "        print(sp, key\n",
    ")\n",
    "        (expr_df, tau_expr) = load_expr(sp,\n",
    "                                        expr_fn=f'{EXPR}/{expr_fn}',\n",
    "                                        tau_fn=f'{TAU}/{tau_fn}',\n",
    "                                        map_fn=f'{EXPR}/gene_map.h5',\n",
    "                                        genes=genes_to_load)\n",
    "        pcc = compute_expr_sim(zdf, expr_df, compute_pearson_)\n",
    "\n",
    "        zdf['pcc_stat'] = pcc.apply(lambda x: x[0])\n",
    "        zdf['pcc_p'] = pcc.apply(lambda x: x[1])\n",
    "\n",
    "        zdf['ldo_tau'] = zdf['ldo_gene'].apply(lambda x: tau_expr.get(x, None))\n",
    "        zdf['mdo_tau'] = zdf['mdo_gene'].apply(lambda x: tau_expr.get(x, None))\n",
    "\n",
    "        zdf.to_hdf(f'{RES_PATH}/{key}.h5', sp)"
   ]
  },
  {
   "cell_type": "code",
   "execution_count": null,
   "id": "4e454f3e-225a-4fe1-ab2e-520e6ed35da9",
   "metadata": {},
   "outputs": [],
   "source": []
  },
  {
   "cell_type": "code",
   "execution_count": null,
   "id": "f1287213-937b-4596-a314-bdeab7c95eac",
   "metadata": {},
   "outputs": [],
   "source": []
  },
  {
   "cell_type": "code",
   "execution_count": null,
   "id": "adaac3e9-d8b0-405d-ab67-a479d793bfac",
   "metadata": {},
   "outputs": [],
   "source": []
  },
  {
   "cell_type": "code",
   "execution_count": null,
   "id": "c284efec-f708-40e6-a841-65d01584f577",
   "metadata": {},
   "outputs": [],
   "source": []
  }
 ],
 "metadata": {
  "kernelspec": {
   "display_name": "Python 3 (ipykernel)",
   "language": "python",
   "name": "python3"
  },
  "language_info": {
   "codemirror_mode": {
    "name": "ipython",
    "version": 3
   },
   "file_extension": ".py",
   "mimetype": "text/x-python",
   "name": "python",
   "nbconvert_exporter": "python",
   "pygments_lexer": "ipython3",
   "version": "3.11.9"
  }
 },
 "nbformat": 4,
 "nbformat_minor": 5
}
