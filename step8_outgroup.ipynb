{
 "cells": [
  {
   "cell_type": "markdown",
   "id": "40084902-323d-4d76-aa10-96c3e909d62c",
   "metadata": {},
   "source": [
    "# Step 8  - Outgroup Testing\n",
    "-- Alex Warwick Vesztrocy, February 2024"
   ]
  },
  {
   "cell_type": "markdown",
   "id": "e994356e-05d2-4071-a099-0a6f49870420",
   "metadata": {},
   "source": [
    "This notebook identifies relevant species to use for each branch in the species tree as outgroup species.\n",
    "\n",
    "After, LDO / MDO are compared to the outgroup gene with both a PCC and tau analysis."
   ]
  },
  {
   "cell_type": "code",
   "execution_count": 1,
   "id": "f3bcc345-750d-4650-a8b0-b8ce8672becb",
   "metadata": {},
   "outputs": [],
   "source": [
    "from collections import defaultdict\n",
    "from dendropy import Tree\n",
    "from scipy.stats import spearmanr, pearsonr\n",
    "from tqdm.auto import tqdm\n",
    "import numpy as np\n",
    "import os\n",
    "import pandas as pd\n",
    "\n",
    "from parallel_pandas import ParallelPandas\n",
    "ParallelPandas.initialize()"
   ]
  },
  {
   "cell_type": "code",
   "execution_count": 2,
   "id": "1a1b6374-63e3-46bc-b06f-96a22c2bbd43",
   "metadata": {},
   "outputs": [],
   "source": [
    "# species that have enough data and are in PANTHER\n",
    "dataset = {'animals': {'BOVIN','CHICK','DROME','FELCA','GORGO','HORSE','HUMAN','LEPOC','MACMU','MONDO','MOUSE','ORNAN','ORYLA','PANTR','PIG','RAT'},\n",
    "           'plants': {'AMBTC','ARATH','BRANA','CAPAN','CUCSA','HELAN','MAIZE','MANES','MARPO','MEDTR','ORYSJ','PHYPA','POPTR','SELML','SETIT','SOLLC','SOLTU','SOYBN','VITVI','WHEAT'}}"
   ]
  },
  {
   "cell_type": "markdown",
   "id": "9331026a-a5bb-444b-892b-5be63918da11",
   "metadata": {},
   "source": [
    "---\n",
    "## Identify branches to study\n",
    "\n",
    "For each branch in the tree, identify the outgroups and print the choices. We can then filter the outgroup test file to only the closest outgroup for each branch."
   ]
  },
  {
   "cell_type": "markdown",
   "id": "28e60b11-964d-4081-8f66-6d9efd5c7962",
   "metadata": {},
   "source": [
    "First, load the taxonomy used for PANTHER"
   ]
  },
  {
   "cell_type": "code",
   "execution_count": 3,
   "id": "9c2f0570-5969-482f-a8c4-b68bc91a9047",
   "metadata": {},
   "outputs": [],
   "source": [
    "t = Tree.get(path='./results/taxonomy_fit.nwk', schema='newick')\n",
    "D = t.phylogenetic_distance_matrix()"
   ]
  },
  {
   "cell_type": "code",
   "execution_count": 4,
   "id": "27d0667e-e7ee-4811-a90b-0fb595fc3f4b",
   "metadata": {},
   "outputs": [],
   "source": [
    "def collect_out(df):\n",
    "    outgroups = np.array(list(filter(lambda x: x.startswith('outgroup_ldo'), df.keys())))\n",
    "    def gen():\n",
    "        for (_, r) in df.iterrows():\n",
    "            b = (r['sp_tree_tail'], r['sp_tree_head'])\n",
    "            x = outgroups[r[outgroups].notna()]\n",
    "            if len(x) > 0:\n",
    "                yield (b,set(x))\n",
    "    res = defaultdict(set)\n",
    "    for x in gen():\n",
    "        res[x[0]].update(set(map(lambda x: x.split('_')[-1], x[1])))\n",
    "    return res"
   ]
  },
  {
   "cell_type": "code",
   "execution_count": 5,
   "id": "c4a45a85-1b6e-46fb-a0b9-5a3ca375c634",
   "metadata": {},
   "outputs": [],
   "source": [
    "def generate_candidates(sp, pairs_df, possible_species=None):\n",
    "    def gen():\n",
    "        x = collect_out(pairs_df)\n",
    "        sp_n = t.find_node_with_taxon_label(sp)\n",
    "        for (b, cands) in x.items():\n",
    "            y = []\n",
    "            for c in cands:\n",
    "                if possible_species is not None and c not in possible_species:\n",
    "                    continue\n",
    "                c_n = t.find_node_with_taxon_label(c)\n",
    "                y.append((b, c, D.distance(sp_n.taxon, c_n.taxon)))\n",
    "            if len(y) > 0:\n",
    "                yield min(y, key=lambda x: x[2])\n",
    "            \n",
    "    return {x[0]: x[1] for x in gen()}"
   ]
  },
  {
   "cell_type": "code",
   "execution_count": 6,
   "id": "73ed234a-6bb8-4119-ba7a-52e158b4f383",
   "metadata": {},
   "outputs": [],
   "source": [
    "def filter_to_closest(df, closest_map):\n",
    "    df = df.copy()\n",
    "    outgroup_keys = list(filter(lambda x: x.startswith('outgroup_ldo_'), df.keys()))\n",
    "    df['outgroup_species'] = df.apply(lambda x: closest_map.get((x.sp_tree_tail, x.sp_tree_head), None), axis=1)\n",
    "    df['out_gene'] = df.apply(lambda x: x['outgroup_ldo_{}'.format(x.outgroup_species)] if x.outgroup_species is not None else None, axis=1)\n",
    "\n",
    "    return df.drop(columns=outgroup_keys)"
   ]
  },
  {
   "cell_type": "markdown",
   "id": "19b7e2b6-3b07-4f91-ad17-4bad0f7fef6d",
   "metadata": {},
   "source": [
    "Generate expression data outgroup choices"
   ]
  },
  {
   "cell_type": "code",
   "execution_count": 7,
   "id": "ae61e021-068f-4956-8c69-2259b29257c8",
   "metadata": {},
   "outputs": [],
   "source": [
    "expr_test_fn = './results/outgroup_tests_expression.tsv.gz'\n",
    "if not os.path.isfile(expr_test_fn):\n",
    "    pairs_df = pd.read_csv('./results/outgroup_tests.tsv.gz', sep='\\t', low_memory=False)\n",
    "    pairs = {sp: zdf for (sp, zdf) in pairs_df[pairs_df.species.isin(dataset['animals'] | dataset['plants'])].groupby('species')}\n",
    "    \n",
    "    z = []\n",
    "    for sp in tqdm(dataset['animals']):\n",
    "        x = generate_candidates(sp, pairs[sp], possible_species=dataset['animals'])\n",
    "        z.append(filter_to_closest(pairs[sp], x))\n",
    "    \n",
    "    for sp in tqdm(dataset['plants']):\n",
    "        x = generate_candidates(sp, pairs[sp], possible_species=dataset['plants'])\n",
    "        z.append(filter_to_closest(pairs[sp], x))\n",
    "    \n",
    "    zdf = pd.concat(z)\n",
    "    zdf.to_csv(expr_test_fn, sep='\\t', index=False)"
   ]
  },
  {
   "cell_type": "markdown",
   "id": "3aafc19c-aa27-44c2-9f70-99ceb8f0ad4e",
   "metadata": {},
   "source": [
    "Generate choices for outgroup structural alphafold tests"
   ]
  },
  {
   "cell_type": "code",
   "execution_count": 8,
   "id": "a27b6bcc-93ad-485a-8d64-cd57b19296f9",
   "metadata": {},
   "outputs": [],
   "source": [
    "struct_test_fn = './results/outgroup_tests_structure.tsv.gz'\n",
    "if not os.path.isfile(struct_test_fn):\n",
    "    pairs_df = pd.read_csv('./results/outgroup_tests.tsv.gz', sep='\\t', low_memory=False)\n",
    "    \n",
    "    z = []\n",
    "    for (sp, zdf) in tqdm(pairs_df.groupby('species')):\n",
    "        x = generate_candidates(sp, zdf, possible_species=None)\n",
    "        z.append(filter_to_closest(zdf, x))\n",
    "    \n",
    "    zdf1 = pd.concat(z)\n",
    "    zdf1.to_csv(struct_test_fn, sep='\\t', index=False)"
   ]
  },
  {
   "cell_type": "markdown",
   "id": "79c39337-d21e-4a22-82e5-ae7b527fd1c6",
   "metadata": {},
   "source": [
    "---"
   ]
  },
  {
   "cell_type": "markdown",
   "id": "2fd95a8b-27b3-457c-8cba-d5c4641ccf77",
   "metadata": {},
   "source": [
    "Functions to load the data"
   ]
  },
  {
   "cell_type": "code",
   "execution_count": 9,
   "id": "1bf6cd72-1931-492a-b51d-fc381d09189e",
   "metadata": {},
   "outputs": [],
   "source": [
    "EXPR = './results/expr'\n",
    "TAU = './results/tau'\n",
    "    \n",
    "\n",
    "def load_expr(sp, expr_fn, tau_fn, map_fn, genes=None):\n",
    "    # load the expression data, into a consistent format.\n",
    "    map_df = pd.read_hdf(map_fn, sp)\n",
    "\n",
    "    if genes is not None:\n",
    "        map_df = map_df[map_df['UniProtKB'].isin(genes)]\n",
    "\n",
    "    # load expression data\n",
    "    expr_df = pd.read_hdf(expr_fn, sp)\n",
    "\n",
    "    # temporarily flatten\n",
    "    mi = expr_df.columns.copy()\n",
    "    expr_df.columns = list(range(len(expr_df.columns)))\n",
    "    \n",
    "    # merge and apply transformation\n",
    "    expr_df = pd.merge(expr_df, map_df, left_on='gene_id', right_on='xref').set_index('UniProtKB')[expr_df.columns]\n",
    "    expr_df = expr_df.apply(np.arcsinh)\n",
    "\n",
    "    # regroup the tissue names\n",
    "    expr_df.columns = mi\n",
    "\n",
    "    # average on columns!\n",
    "    def avg():\n",
    "        for k in set(map(lambda x: x[0], expr_df.columns)):\n",
    "            yield pd.DataFrame({k: expr_df.loc[:,k].mean(axis=1)})\n",
    "\n",
    "    expr_df = pd.concat(avg(), axis=1)\n",
    "\n",
    "    # load the tau values\n",
    "    tau_df = pd.read_hdf(tau_fn, sp)\n",
    "    tau = pd.merge(pd.DataFrame({'tau': tau_df}), map_df, left_on='gene_id', right_on='xref').set_index('UniProtKB')['tau'].to_dict()\n",
    "\n",
    "    return (expr_df, tau)\n",
    "\n",
    "\n",
    "def compute_expr_sim(pair_df, expr_df, sim_func, key1, key2):\n",
    "    return pair_df.p_apply(lambda x: sim_func(expr_df, x[key1], x[key2]), axis=1)\n",
    "\n",
    "def compute_pearson_(expr_df, x, y):\n",
    "    if x in expr_df.index and y in expr_df.index:\n",
    "        e_x = expr_df.loc[x].values\n",
    "        e_y = expr_df.loc[y].values\n",
    "        if np.all(e_x == e_x[0]) or np.all(e_y == e_y[0]):\n",
    "            return (None, None)\n",
    "        return pearsonr(e_x, e_y)\n",
    "    else:\n",
    "        return (None, None)"
   ]
  },
  {
   "cell_type": "markdown",
   "id": "49470240-4e80-4a5a-8fb2-f76c284061ac",
   "metadata": {},
   "source": [
    "---"
   ]
  },
  {
   "cell_type": "markdown",
   "id": "718f4aaa-a646-43c7-bdbd-16e312bdb1cf",
   "metadata": {},
   "source": [
    "## Run for each species"
   ]
  },
  {
   "cell_type": "code",
   "execution_count": 10,
   "id": "b0ee7ac2-467e-44e6-96a3-4381fdaba2be",
   "metadata": {},
   "outputs": [],
   "source": [
    "databases = {'animals': [('animal_categorised_tpm_expr.h5', 'animal_categorised_tau.h5', 'animal_categorised'),\n",
    "                         ('animal_maincat_tpm_expr.h5', 'animal_maincat_tau.h5', 'animal_maincat'),\n",
    "                         ('animal_tpm_expr.h5', 'animal_alldata_tau.h5', 'animal_alldata')],\n",
    "             'plants': [('plant_general_tpm_expr.h5', 'plant_general_tau.h5', 'plant_general'),\n",
    "                        ('plant_specific_tpm_expr.h5', 'plant_specific_tau.h5', 'plant_specific')]}"
   ]
  },
  {
   "cell_type": "code",
   "execution_count": 11,
   "id": "b942c565-0e6c-4d7a-9674-be4d01061d0f",
   "metadata": {},
   "outputs": [
    {
     "data": {
      "application/vnd.jupyter.widget-view+json": {
       "model_id": "97dc92e413944ffa902c70e56637b488",
       "version_major": 2,
       "version_minor": 0
      },
      "text/plain": [
       "  0%|          | 0/36 [00:00<?, ?it/s]"
      ]
     },
     "metadata": {},
     "output_type": "display_data"
    },
    {
     "data": {
      "application/vnd.jupyter.widget-view+json": {
       "model_id": "53f3f384e5454bcb89f95b25292a0a77",
       "version_major": 2,
       "version_minor": 0
      },
      "text/plain": [
       "<LAMBDA> DONE:   0%|          | 0/199 [00:00<?, ?it/s]"
      ]
     },
     "metadata": {},
     "output_type": "display_data"
    },
    {
     "data": {
      "application/vnd.jupyter.widget-view+json": {
       "model_id": "e40a4701583b4b98b902a9efe48717aa",
       "version_major": 2,
       "version_minor": 0
      },
      "text/plain": [
       "<LAMBDA> DONE:   0%|          | 0/199 [00:00<?, ?it/s]"
      ]
     },
     "metadata": {},
     "output_type": "display_data"
    },
    {
     "data": {
      "application/vnd.jupyter.widget-view+json": {
       "model_id": "e05dec8db22f4b68ac0781888992cf8b",
       "version_major": 2,
       "version_minor": 0
      },
      "text/plain": [
       "<LAMBDA> DONE:   0%|          | 0/199 [00:00<?, ?it/s]"
      ]
     },
     "metadata": {},
     "output_type": "display_data"
    },
    {
     "data": {
      "application/vnd.jupyter.widget-view+json": {
       "model_id": "1cf3152c154b42ae882820538e4ccb10",
       "version_major": 2,
       "version_minor": 0
      },
      "text/plain": [
       "<LAMBDA> DONE:   0%|          | 0/207 [00:00<?, ?it/s]"
      ]
     },
     "metadata": {},
     "output_type": "display_data"
    },
    {
     "data": {
      "application/vnd.jupyter.widget-view+json": {
       "model_id": "aee64650fe8b41e794e06a8469f4099f",
       "version_major": 2,
       "version_minor": 0
      },
      "text/plain": [
       "<LAMBDA> DONE:   0%|          | 0/207 [00:00<?, ?it/s]"
      ]
     },
     "metadata": {},
     "output_type": "display_data"
    },
    {
     "data": {
      "application/vnd.jupyter.widget-view+json": {
       "model_id": "814b05ef384f47ad93eb0f2fd720462b",
       "version_major": 2,
       "version_minor": 0
      },
      "text/plain": [
       "<LAMBDA> DONE:   0%|          | 0/207 [00:00<?, ?it/s]"
      ]
     },
     "metadata": {},
     "output_type": "display_data"
    },
    {
     "data": {
      "application/vnd.jupyter.widget-view+json": {
       "model_id": "48e6b2cbaf424fd8a3c89923a457fad7",
       "version_major": 2,
       "version_minor": 0
      },
      "text/plain": [
       "<LAMBDA> DONE:   0%|          | 0/2662 [00:00<?, ?it/s]"
      ]
     },
     "metadata": {},
     "output_type": "display_data"
    },
    {
     "data": {
      "application/vnd.jupyter.widget-view+json": {
       "model_id": "38539ecd8e9c4da08378bc5ba4dbb35c",
       "version_major": 2,
       "version_minor": 0
      },
      "text/plain": [
       "<LAMBDA> DONE:   0%|          | 0/2662 [00:00<?, ?it/s]"
      ]
     },
     "metadata": {},
     "output_type": "display_data"
    },
    {
     "data": {
      "application/vnd.jupyter.widget-view+json": {
       "model_id": "fce3ab1ce90348128939a35927bd4ade",
       "version_major": 2,
       "version_minor": 0
      },
      "text/plain": [
       "<LAMBDA> DONE:   0%|          | 0/2662 [00:00<?, ?it/s]"
      ]
     },
     "metadata": {},
     "output_type": "display_data"
    },
    {
     "data": {
      "application/vnd.jupyter.widget-view+json": {
       "model_id": "51caf7d49ebe4a04aee7ad127ce9201e",
       "version_major": 2,
       "version_minor": 0
      },
      "text/plain": [
       "<LAMBDA> DONE:   0%|          | 0/2887 [00:00<?, ?it/s]"
      ]
     },
     "metadata": {},
     "output_type": "display_data"
    },
    {
     "data": {
      "application/vnd.jupyter.widget-view+json": {
       "model_id": "e721b52eac5340388106b7c2e066327e",
       "version_major": 2,
       "version_minor": 0
      },
      "text/plain": [
       "<LAMBDA> DONE:   0%|          | 0/2887 [00:00<?, ?it/s]"
      ]
     },
     "metadata": {},
     "output_type": "display_data"
    },
    {
     "data": {
      "application/vnd.jupyter.widget-view+json": {
       "model_id": "414dd26eda3a4dac9cba2bbf6d7bfde2",
       "version_major": 2,
       "version_minor": 0
      },
      "text/plain": [
       "<LAMBDA> DONE:   0%|          | 0/2887 [00:00<?, ?it/s]"
      ]
     },
     "metadata": {},
     "output_type": "display_data"
    },
    {
     "name": "stderr",
     "output_type": "stream",
     "text": [
      "/tmp/ipykernel_3805226/2830027787.py:60: PerformanceWarning: \n",
      "your performance may suffer as PyTables will pickle object types that it cannot\n",
      "map directly to c-types [inferred_type->mixed,key->block2_values] [items->Index(['sp_tree_tail', 'sp_tree_head', 'ldo_category', 'mdo_category',\n",
      "       'species', 'ldo_gene', 'mdo_gene', 'outgroup_species', 'out_gene'],\n",
      "      dtype='object')]\n",
      "\n",
      "  pd.concat(tmp).to_hdf(f'{RES_PATH}/{key}.h5', sp, complevel=9, complib='zlib')\n"
     ]
    },
    {
     "data": {
      "application/vnd.jupyter.widget-view+json": {
       "model_id": "0bb8c78097b24b6ab7f82cfa674c7ad9",
       "version_major": 2,
       "version_minor": 0
      },
      "text/plain": [
       "<LAMBDA> DONE:   0%|          | 0/207 [00:00<?, ?it/s]"
      ]
     },
     "metadata": {},
     "output_type": "display_data"
    },
    {
     "data": {
      "application/vnd.jupyter.widget-view+json": {
       "model_id": "cc6e0147f10a4993a6d64a2ff89b9e6d",
       "version_major": 2,
       "version_minor": 0
      },
      "text/plain": [
       "<LAMBDA> DONE:   0%|          | 0/207 [00:00<?, ?it/s]"
      ]
     },
     "metadata": {},
     "output_type": "display_data"
    },
    {
     "data": {
      "application/vnd.jupyter.widget-view+json": {
       "model_id": "b470ed726e7b49f897d6541dee04300f",
       "version_major": 2,
       "version_minor": 0
      },
      "text/plain": [
       "<LAMBDA> DONE:   0%|          | 0/207 [00:00<?, ?it/s]"
      ]
     },
     "metadata": {},
     "output_type": "display_data"
    },
    {
     "data": {
      "application/vnd.jupyter.widget-view+json": {
       "model_id": "4d4f719f13f6455ebc21f73cbd2e34b6",
       "version_major": 2,
       "version_minor": 0
      },
      "text/plain": [
       "<LAMBDA> DONE:   0%|          | 0/2662 [00:00<?, ?it/s]"
      ]
     },
     "metadata": {},
     "output_type": "display_data"
    },
    {
     "data": {
      "application/vnd.jupyter.widget-view+json": {
       "model_id": "8e7c49ce14314a4ebfde4018e669e355",
       "version_major": 2,
       "version_minor": 0
      },
      "text/plain": [
       "<LAMBDA> DONE:   0%|          | 0/2662 [00:00<?, ?it/s]"
      ]
     },
     "metadata": {},
     "output_type": "display_data"
    },
    {
     "data": {
      "application/vnd.jupyter.widget-view+json": {
       "model_id": "24b55f3f9b6c421b8a03cb001e3433db",
       "version_major": 2,
       "version_minor": 0
      },
      "text/plain": [
       "<LAMBDA> DONE:   0%|          | 0/2662 [00:00<?, ?it/s]"
      ]
     },
     "metadata": {},
     "output_type": "display_data"
    },
    {
     "data": {
      "application/vnd.jupyter.widget-view+json": {
       "model_id": "f860bcd8ab124c448ce04ce9b14e19d2",
       "version_major": 2,
       "version_minor": 0
      },
      "text/plain": [
       "<LAMBDA> DONE:   0%|          | 0/2887 [00:00<?, ?it/s]"
      ]
     },
     "metadata": {},
     "output_type": "display_data"
    },
    {
     "data": {
      "application/vnd.jupyter.widget-view+json": {
       "model_id": "637410eac55a44bf8917bbbe7ad8836c",
       "version_major": 2,
       "version_minor": 0
      },
      "text/plain": [
       "<LAMBDA> DONE:   0%|          | 0/2887 [00:00<?, ?it/s]"
      ]
     },
     "metadata": {},
     "output_type": "display_data"
    },
    {
     "data": {
      "application/vnd.jupyter.widget-view+json": {
       "model_id": "2f36117dec6c4335bcf7b71fc79c83cd",
       "version_major": 2,
       "version_minor": 0
      },
      "text/plain": [
       "<LAMBDA> DONE:   0%|          | 0/2887 [00:00<?, ?it/s]"
      ]
     },
     "metadata": {},
     "output_type": "display_data"
    },
    {
     "name": "stderr",
     "output_type": "stream",
     "text": [
      "/tmp/ipykernel_3805226/2830027787.py:60: FutureWarning: The behavior of DataFrame concatenation with empty or all-NA entries is deprecated. In a future version, this will no longer exclude empty or all-NA columns when determining the result dtypes. To retain the old behavior, exclude the relevant entries before the concat operation.\n",
      "  pd.concat(tmp).to_hdf(f'{RES_PATH}/{key}.h5', sp, complevel=9, complib='zlib')\n",
      "/tmp/ipykernel_3805226/2830027787.py:60: PerformanceWarning: \n",
      "your performance may suffer as PyTables will pickle object types that it cannot\n",
      "map directly to c-types [inferred_type->mixed,key->block2_values] [items->Index(['sp_tree_tail', 'sp_tree_head', 'ldo_category', 'mdo_category',\n",
      "       'species', 'ldo_gene', 'mdo_gene', 'outgroup_species', 'out_gene'],\n",
      "      dtype='object')]\n",
      "\n",
      "  pd.concat(tmp).to_hdf(f'{RES_PATH}/{key}.h5', sp, complevel=9, complib='zlib')\n"
     ]
    },
    {
     "data": {
      "application/vnd.jupyter.widget-view+json": {
       "model_id": "e234494e57a2409490bc8135306684ec",
       "version_major": 2,
       "version_minor": 0
      },
      "text/plain": [
       "<LAMBDA> DONE:   0%|          | 0/761 [00:00<?, ?it/s]"
      ]
     },
     "metadata": {},
     "output_type": "display_data"
    },
    {
     "data": {
      "application/vnd.jupyter.widget-view+json": {
       "model_id": "4f1e72b43df447319ab8bf2ceec066f7",
       "version_major": 2,
       "version_minor": 0
      },
      "text/plain": [
       "<LAMBDA> DONE:   0%|          | 0/761 [00:00<?, ?it/s]"
      ]
     },
     "metadata": {},
     "output_type": "display_data"
    },
    {
     "data": {
      "application/vnd.jupyter.widget-view+json": {
       "model_id": "4e0c213665f444d38ccc2f60ffc7c7f4",
       "version_major": 2,
       "version_minor": 0
      },
      "text/plain": [
       "<LAMBDA> DONE:   0%|          | 0/761 [00:00<?, ?it/s]"
      ]
     },
     "metadata": {},
     "output_type": "display_data"
    },
    {
     "data": {
      "application/vnd.jupyter.widget-view+json": {
       "model_id": "6bfa70ad534347f2bd55b0f9ae9d8463",
       "version_major": 2,
       "version_minor": 0
      },
      "text/plain": [
       "<LAMBDA> DONE:   0%|          | 0/3870 [00:00<?, ?it/s]"
      ]
     },
     "metadata": {},
     "output_type": "display_data"
    },
    {
     "data": {
      "application/vnd.jupyter.widget-view+json": {
       "model_id": "d7f03e2c7fb64a988e71218176eca9b0",
       "version_major": 2,
       "version_minor": 0
      },
      "text/plain": [
       "<LAMBDA> DONE:   0%|          | 0/3870 [00:00<?, ?it/s]"
      ]
     },
     "metadata": {},
     "output_type": "display_data"
    },
    {
     "data": {
      "application/vnd.jupyter.widget-view+json": {
       "model_id": "545e76c8b0c74d738c53b4fa4078ae01",
       "version_major": 2,
       "version_minor": 0
      },
      "text/plain": [
       "<LAMBDA> DONE:   0%|          | 0/3870 [00:00<?, ?it/s]"
      ]
     },
     "metadata": {},
     "output_type": "display_data"
    },
    {
     "data": {
      "application/vnd.jupyter.widget-view+json": {
       "model_id": "6921c04455dc435a8b006539a9034a31",
       "version_major": 2,
       "version_minor": 0
      },
      "text/plain": [
       "<LAMBDA> DONE:   0%|          | 0/128 [00:00<?, ?it/s]"
      ]
     },
     "metadata": {},
     "output_type": "display_data"
    },
    {
     "data": {
      "application/vnd.jupyter.widget-view+json": {
       "model_id": "f5200f8153f347acbb33f76fe25abf6d",
       "version_major": 2,
       "version_minor": 0
      },
      "text/plain": [
       "<LAMBDA> DONE:   0%|          | 0/128 [00:00<?, ?it/s]"
      ]
     },
     "metadata": {},
     "output_type": "display_data"
    },
    {
     "data": {
      "application/vnd.jupyter.widget-view+json": {
       "model_id": "a18c00b8cba64bd8b8377463a3ef5bb1",
       "version_major": 2,
       "version_minor": 0
      },
      "text/plain": [
       "<LAMBDA> DONE:   0%|          | 0/128 [00:00<?, ?it/s]"
      ]
     },
     "metadata": {},
     "output_type": "display_data"
    },
    {
     "data": {
      "application/vnd.jupyter.widget-view+json": {
       "model_id": "e32888b392d64bddbc8ddc1a8d0aeaad",
       "version_major": 2,
       "version_minor": 0
      },
      "text/plain": [
       "<LAMBDA> DONE:   0%|          | 0/138 [00:00<?, ?it/s]"
      ]
     },
     "metadata": {},
     "output_type": "display_data"
    },
    {
     "data": {
      "application/vnd.jupyter.widget-view+json": {
       "model_id": "01dd0ff0a1884b37beda915ad12d09e8",
       "version_major": 2,
       "version_minor": 0
      },
      "text/plain": [
       "<LAMBDA> DONE:   0%|          | 0/138 [00:00<?, ?it/s]"
      ]
     },
     "metadata": {},
     "output_type": "display_data"
    },
    {
     "data": {
      "application/vnd.jupyter.widget-view+json": {
       "model_id": "66aefbb40d374e0bac07c03860ea42b7",
       "version_major": 2,
       "version_minor": 0
      },
      "text/plain": [
       "<LAMBDA> DONE:   0%|          | 0/138 [00:00<?, ?it/s]"
      ]
     },
     "metadata": {},
     "output_type": "display_data"
    },
    {
     "data": {
      "application/vnd.jupyter.widget-view+json": {
       "model_id": "3d8cce286c2c48438ed397ec170d8959",
       "version_major": 2,
       "version_minor": 0
      },
      "text/plain": [
       "<LAMBDA> DONE:   0%|          | 0/142 [00:00<?, ?it/s]"
      ]
     },
     "metadata": {},
     "output_type": "display_data"
    },
    {
     "data": {
      "application/vnd.jupyter.widget-view+json": {
       "model_id": "a881e6992f874713a75940470853a53a",
       "version_major": 2,
       "version_minor": 0
      },
      "text/plain": [
       "<LAMBDA> DONE:   0%|          | 0/142 [00:00<?, ?it/s]"
      ]
     },
     "metadata": {},
     "output_type": "display_data"
    },
    {
     "data": {
      "application/vnd.jupyter.widget-view+json": {
       "model_id": "07ba04f5fd5347048949e90243180aa9",
       "version_major": 2,
       "version_minor": 0
      },
      "text/plain": [
       "<LAMBDA> DONE:   0%|          | 0/142 [00:00<?, ?it/s]"
      ]
     },
     "metadata": {},
     "output_type": "display_data"
    },
    {
     "data": {
      "application/vnd.jupyter.widget-view+json": {
       "model_id": "48f308d6a74c47eb97495fb1704b71ed",
       "version_major": 2,
       "version_minor": 0
      },
      "text/plain": [
       "<LAMBDA> DONE:   0%|          | 0/10 [00:00<?, ?it/s]"
      ]
     },
     "metadata": {},
     "output_type": "display_data"
    },
    {
     "data": {
      "application/vnd.jupyter.widget-view+json": {
       "model_id": "c5112e626e5d4f03af51ac9d5b9c1887",
       "version_major": 2,
       "version_minor": 0
      },
      "text/plain": [
       "<LAMBDA> DONE:   0%|          | 0/10 [00:00<?, ?it/s]"
      ]
     },
     "metadata": {},
     "output_type": "display_data"
    },
    {
     "data": {
      "application/vnd.jupyter.widget-view+json": {
       "model_id": "36aa3ad1be5e449dbe34adb2d6bd7d5e",
       "version_major": 2,
       "version_minor": 0
      },
      "text/plain": [
       "<LAMBDA> DONE:   0%|          | 0/10 [00:00<?, ?it/s]"
      ]
     },
     "metadata": {},
     "output_type": "display_data"
    },
    {
     "data": {
      "application/vnd.jupyter.widget-view+json": {
       "model_id": "a3f69268885346bba71e7021f5d399ac",
       "version_major": 2,
       "version_minor": 0
      },
      "text/plain": [
       "<LAMBDA> DONE:   0%|          | 0/1547 [00:00<?, ?it/s]"
      ]
     },
     "metadata": {},
     "output_type": "display_data"
    },
    {
     "data": {
      "application/vnd.jupyter.widget-view+json": {
       "model_id": "bd28f004a72146db83aeb14a7d752526",
       "version_major": 2,
       "version_minor": 0
      },
      "text/plain": [
       "<LAMBDA> DONE:   0%|          | 0/1547 [00:00<?, ?it/s]"
      ]
     },
     "metadata": {},
     "output_type": "display_data"
    },
    {
     "data": {
      "application/vnd.jupyter.widget-view+json": {
       "model_id": "39c032f2b17443f98074ef107f4d7c60",
       "version_major": 2,
       "version_minor": 0
      },
      "text/plain": [
       "<LAMBDA> DONE:   0%|          | 0/1547 [00:00<?, ?it/s]"
      ]
     },
     "metadata": {},
     "output_type": "display_data"
    },
    {
     "data": {
      "application/vnd.jupyter.widget-view+json": {
       "model_id": "45f2a3b793484b258e143c6fbf29b92c",
       "version_major": 2,
       "version_minor": 0
      },
      "text/plain": [
       "<LAMBDA> DONE:   0%|          | 0/260 [00:00<?, ?it/s]"
      ]
     },
     "metadata": {},
     "output_type": "display_data"
    },
    {
     "data": {
      "application/vnd.jupyter.widget-view+json": {
       "model_id": "32235f39e935423b871577d5ce061452",
       "version_major": 2,
       "version_minor": 0
      },
      "text/plain": [
       "<LAMBDA> DONE:   0%|          | 0/260 [00:00<?, ?it/s]"
      ]
     },
     "metadata": {},
     "output_type": "display_data"
    },
    {
     "data": {
      "application/vnd.jupyter.widget-view+json": {
       "model_id": "21f15462ead744f888ac93fc8db0753a",
       "version_major": 2,
       "version_minor": 0
      },
      "text/plain": [
       "<LAMBDA> DONE:   0%|          | 0/260 [00:00<?, ?it/s]"
      ]
     },
     "metadata": {},
     "output_type": "display_data"
    },
    {
     "data": {
      "application/vnd.jupyter.widget-view+json": {
       "model_id": "ab59606018ae4b45ba8ace7f42616e3d",
       "version_major": 2,
       "version_minor": 0
      },
      "text/plain": [
       "<LAMBDA> DONE:   0%|          | 0/329 [00:00<?, ?it/s]"
      ]
     },
     "metadata": {},
     "output_type": "display_data"
    },
    {
     "data": {
      "application/vnd.jupyter.widget-view+json": {
       "model_id": "852dd7a0ae8641ed8f1150f40dbe6c6d",
       "version_major": 2,
       "version_minor": 0
      },
      "text/plain": [
       "<LAMBDA> DONE:   0%|          | 0/329 [00:00<?, ?it/s]"
      ]
     },
     "metadata": {},
     "output_type": "display_data"
    },
    {
     "data": {
      "application/vnd.jupyter.widget-view+json": {
       "model_id": "7d9a2850289348ab84bf5390b3f6796f",
       "version_major": 2,
       "version_minor": 0
      },
      "text/plain": [
       "<LAMBDA> DONE:   0%|          | 0/329 [00:00<?, ?it/s]"
      ]
     },
     "metadata": {},
     "output_type": "display_data"
    },
    {
     "name": "stderr",
     "output_type": "stream",
     "text": [
      "/tmp/ipykernel_3805226/2830027787.py:60: PerformanceWarning: \n",
      "your performance may suffer as PyTables will pickle object types that it cannot\n",
      "map directly to c-types [inferred_type->mixed,key->block2_values] [items->Index(['sp_tree_tail', 'sp_tree_head', 'ldo_category', 'mdo_category',\n",
      "       'species', 'ldo_gene', 'mdo_gene', 'outgroup_species', 'out_gene'],\n",
      "      dtype='object')]\n",
      "\n",
      "  pd.concat(tmp).to_hdf(f'{RES_PATH}/{key}.h5', sp, complevel=9, complib='zlib')\n"
     ]
    },
    {
     "data": {
      "application/vnd.jupyter.widget-view+json": {
       "model_id": "54e1d7fb1d5148b3beb86e815cbc96fe",
       "version_major": 2,
       "version_minor": 0
      },
      "text/plain": [
       "<LAMBDA> DONE:   0%|          | 0/761 [00:00<?, ?it/s]"
      ]
     },
     "metadata": {},
     "output_type": "display_data"
    },
    {
     "data": {
      "application/vnd.jupyter.widget-view+json": {
       "model_id": "e849d182b9b5412eb0ef51da3f3ab493",
       "version_major": 2,
       "version_minor": 0
      },
      "text/plain": [
       "<LAMBDA> DONE:   0%|          | 0/761 [00:00<?, ?it/s]"
      ]
     },
     "metadata": {},
     "output_type": "display_data"
    },
    {
     "data": {
      "application/vnd.jupyter.widget-view+json": {
       "model_id": "5e7e1b8137244680b8a173e8875fe07b",
       "version_major": 2,
       "version_minor": 0
      },
      "text/plain": [
       "<LAMBDA> DONE:   0%|          | 0/761 [00:00<?, ?it/s]"
      ]
     },
     "metadata": {},
     "output_type": "display_data"
    },
    {
     "data": {
      "application/vnd.jupyter.widget-view+json": {
       "model_id": "7bc86770a09343aa92a21e19586a23c4",
       "version_major": 2,
       "version_minor": 0
      },
      "text/plain": [
       "<LAMBDA> DONE:   0%|          | 0/3870 [00:00<?, ?it/s]"
      ]
     },
     "metadata": {},
     "output_type": "display_data"
    },
    {
     "data": {
      "application/vnd.jupyter.widget-view+json": {
       "model_id": "172dd4d104364e2f850602cfe3a99a52",
       "version_major": 2,
       "version_minor": 0
      },
      "text/plain": [
       "<LAMBDA> DONE:   0%|          | 0/3870 [00:00<?, ?it/s]"
      ]
     },
     "metadata": {},
     "output_type": "display_data"
    },
    {
     "data": {
      "application/vnd.jupyter.widget-view+json": {
       "model_id": "271e6249c9e5422fb2c0be07d46d6d00",
       "version_major": 2,
       "version_minor": 0
      },
      "text/plain": [
       "<LAMBDA> DONE:   0%|          | 0/3870 [00:00<?, ?it/s]"
      ]
     },
     "metadata": {},
     "output_type": "display_data"
    },
    {
     "data": {
      "application/vnd.jupyter.widget-view+json": {
       "model_id": "b1e41bbf37484063afe7f73b0605e133",
       "version_major": 2,
       "version_minor": 0
      },
      "text/plain": [
       "<LAMBDA> DONE:   0%|          | 0/128 [00:00<?, ?it/s]"
      ]
     },
     "metadata": {},
     "output_type": "display_data"
    },
    {
     "data": {
      "application/vnd.jupyter.widget-view+json": {
       "model_id": "94d21d4418dd4e4688daed297a3df1ac",
       "version_major": 2,
       "version_minor": 0
      },
      "text/plain": [
       "<LAMBDA> DONE:   0%|          | 0/128 [00:00<?, ?it/s]"
      ]
     },
     "metadata": {},
     "output_type": "display_data"
    },
    {
     "data": {
      "application/vnd.jupyter.widget-view+json": {
       "model_id": "31461b1c09a543aa9d213fa70fbd0bfc",
       "version_major": 2,
       "version_minor": 0
      },
      "text/plain": [
       "<LAMBDA> DONE:   0%|          | 0/128 [00:00<?, ?it/s]"
      ]
     },
     "metadata": {},
     "output_type": "display_data"
    },
    {
     "data": {
      "application/vnd.jupyter.widget-view+json": {
       "model_id": "57affca5746f469da389d183af8dc4be",
       "version_major": 2,
       "version_minor": 0
      },
      "text/plain": [
       "<LAMBDA> DONE:   0%|          | 0/142 [00:00<?, ?it/s]"
      ]
     },
     "metadata": {},
     "output_type": "display_data"
    },
    {
     "data": {
      "application/vnd.jupyter.widget-view+json": {
       "model_id": "c0d68781bb4149beab975a4b70d98707",
       "version_major": 2,
       "version_minor": 0
      },
      "text/plain": [
       "<LAMBDA> DONE:   0%|          | 0/142 [00:00<?, ?it/s]"
      ]
     },
     "metadata": {},
     "output_type": "display_data"
    },
    {
     "data": {
      "application/vnd.jupyter.widget-view+json": {
       "model_id": "0d873a0ca27b41c3b424cb50e0c1fc24",
       "version_major": 2,
       "version_minor": 0
      },
      "text/plain": [
       "<LAMBDA> DONE:   0%|          | 0/142 [00:00<?, ?it/s]"
      ]
     },
     "metadata": {},
     "output_type": "display_data"
    },
    {
     "data": {
      "application/vnd.jupyter.widget-view+json": {
       "model_id": "1fc449bbf9d84eeda10782c942b03438",
       "version_major": 2,
       "version_minor": 0
      },
      "text/plain": [
       "<LAMBDA> DONE:   0%|          | 0/10 [00:00<?, ?it/s]"
      ]
     },
     "metadata": {},
     "output_type": "display_data"
    },
    {
     "data": {
      "application/vnd.jupyter.widget-view+json": {
       "model_id": "c11e519809df4d79beeb6564e6fe3d9f",
       "version_major": 2,
       "version_minor": 0
      },
      "text/plain": [
       "<LAMBDA> DONE:   0%|          | 0/10 [00:00<?, ?it/s]"
      ]
     },
     "metadata": {},
     "output_type": "display_data"
    },
    {
     "data": {
      "application/vnd.jupyter.widget-view+json": {
       "model_id": "e458739a01da40b099485e04addf083b",
       "version_major": 2,
       "version_minor": 0
      },
      "text/plain": [
       "<LAMBDA> DONE:   0%|          | 0/10 [00:00<?, ?it/s]"
      ]
     },
     "metadata": {},
     "output_type": "display_data"
    },
    {
     "data": {
      "application/vnd.jupyter.widget-view+json": {
       "model_id": "c168e8446e6c49d1a5736783c091b8d4",
       "version_major": 2,
       "version_minor": 0
      },
      "text/plain": [
       "<LAMBDA> DONE:   0%|          | 0/1547 [00:00<?, ?it/s]"
      ]
     },
     "metadata": {},
     "output_type": "display_data"
    },
    {
     "data": {
      "application/vnd.jupyter.widget-view+json": {
       "model_id": "5d24c1841215477f8462192aa69fe787",
       "version_major": 2,
       "version_minor": 0
      },
      "text/plain": [
       "<LAMBDA> DONE:   0%|          | 0/1547 [00:00<?, ?it/s]"
      ]
     },
     "metadata": {},
     "output_type": "display_data"
    },
    {
     "data": {
      "application/vnd.jupyter.widget-view+json": {
       "model_id": "44fe9cca096246f18e98e9ee95fc402f",
       "version_major": 2,
       "version_minor": 0
      },
      "text/plain": [
       "<LAMBDA> DONE:   0%|          | 0/1547 [00:00<?, ?it/s]"
      ]
     },
     "metadata": {},
     "output_type": "display_data"
    },
    {
     "data": {
      "application/vnd.jupyter.widget-view+json": {
       "model_id": "ecc8f184681b4dc58a5866ae7cc83f33",
       "version_major": 2,
       "version_minor": 0
      },
      "text/plain": [
       "<LAMBDA> DONE:   0%|          | 0/260 [00:00<?, ?it/s]"
      ]
     },
     "metadata": {},
     "output_type": "display_data"
    },
    {
     "data": {
      "application/vnd.jupyter.widget-view+json": {
       "model_id": "5be8841cdb6040afaff0c8e5c6dd1551",
       "version_major": 2,
       "version_minor": 0
      },
      "text/plain": [
       "<LAMBDA> DONE:   0%|          | 0/260 [00:00<?, ?it/s]"
      ]
     },
     "metadata": {},
     "output_type": "display_data"
    },
    {
     "data": {
      "application/vnd.jupyter.widget-view+json": {
       "model_id": "644eb00d4e6f49e5bac4f28da4056738",
       "version_major": 2,
       "version_minor": 0
      },
      "text/plain": [
       "<LAMBDA> DONE:   0%|          | 0/260 [00:00<?, ?it/s]"
      ]
     },
     "metadata": {},
     "output_type": "display_data"
    },
    {
     "data": {
      "application/vnd.jupyter.widget-view+json": {
       "model_id": "8cf0a36de5a446279b56e4334af6b14c",
       "version_major": 2,
       "version_minor": 0
      },
      "text/plain": [
       "<LAMBDA> DONE:   0%|          | 0/329 [00:00<?, ?it/s]"
      ]
     },
     "metadata": {},
     "output_type": "display_data"
    },
    {
     "data": {
      "application/vnd.jupyter.widget-view+json": {
       "model_id": "06310e63c24b490b97989d6a2cf7bed7",
       "version_major": 2,
       "version_minor": 0
      },
      "text/plain": [
       "<LAMBDA> DONE:   0%|          | 0/329 [00:00<?, ?it/s]"
      ]
     },
     "metadata": {},
     "output_type": "display_data"
    },
    {
     "data": {
      "application/vnd.jupyter.widget-view+json": {
       "model_id": "47143e15fb0b4bfdaef14900b57f46d8",
       "version_major": 2,
       "version_minor": 0
      },
      "text/plain": [
       "<LAMBDA> DONE:   0%|          | 0/329 [00:00<?, ?it/s]"
      ]
     },
     "metadata": {},
     "output_type": "display_data"
    },
    {
     "name": "stderr",
     "output_type": "stream",
     "text": [
      "/tmp/ipykernel_3805226/2830027787.py:60: FutureWarning: The behavior of DataFrame concatenation with empty or all-NA entries is deprecated. In a future version, this will no longer exclude empty or all-NA columns when determining the result dtypes. To retain the old behavior, exclude the relevant entries before the concat operation.\n",
      "  pd.concat(tmp).to_hdf(f'{RES_PATH}/{key}.h5', sp, complevel=9, complib='zlib')\n",
      "/tmp/ipykernel_3805226/2830027787.py:60: PerformanceWarning: \n",
      "your performance may suffer as PyTables will pickle object types that it cannot\n",
      "map directly to c-types [inferred_type->mixed,key->block2_values] [items->Index(['sp_tree_tail', 'sp_tree_head', 'ldo_category', 'mdo_category',\n",
      "       'species', 'ldo_gene', 'mdo_gene', 'outgroup_species', 'out_gene'],\n",
      "      dtype='object')]\n",
      "\n",
      "  pd.concat(tmp).to_hdf(f'{RES_PATH}/{key}.h5', sp, complevel=9, complib='zlib')\n"
     ]
    },
    {
     "data": {
      "application/vnd.jupyter.widget-view+json": {
       "model_id": "f866a929a453448ca613cb1e8cf24f73",
       "version_major": 2,
       "version_minor": 0
      },
      "text/plain": [
       "<LAMBDA> DONE:   0%|          | 0/310 [00:00<?, ?it/s]"
      ]
     },
     "metadata": {},
     "output_type": "display_data"
    },
    {
     "data": {
      "application/vnd.jupyter.widget-view+json": {
       "model_id": "3ee1913c88624b2086e011c9da2ea8a6",
       "version_major": 2,
       "version_minor": 0
      },
      "text/plain": [
       "<LAMBDA> DONE:   0%|          | 0/310 [00:00<?, ?it/s]"
      ]
     },
     "metadata": {},
     "output_type": "display_data"
    },
    {
     "data": {
      "application/vnd.jupyter.widget-view+json": {
       "model_id": "5616cc88108040459b6a575bfb34b8d4",
       "version_major": 2,
       "version_minor": 0
      },
      "text/plain": [
       "<LAMBDA> DONE:   0%|          | 0/310 [00:00<?, ?it/s]"
      ]
     },
     "metadata": {},
     "output_type": "display_data"
    },
    {
     "data": {
      "application/vnd.jupyter.widget-view+json": {
       "model_id": "d449f90642b74e29a19c87f679c66286",
       "version_major": 2,
       "version_minor": 0
      },
      "text/plain": [
       "<LAMBDA> DONE:   0%|          | 0/100 [00:00<?, ?it/s]"
      ]
     },
     "metadata": {},
     "output_type": "display_data"
    },
    {
     "data": {
      "application/vnd.jupyter.widget-view+json": {
       "model_id": "bc15587e3f1942b885d25f9cc472568a",
       "version_major": 2,
       "version_minor": 0
      },
      "text/plain": [
       "<LAMBDA> DONE:   0%|          | 0/100 [00:00<?, ?it/s]"
      ]
     },
     "metadata": {},
     "output_type": "display_data"
    },
    {
     "data": {
      "application/vnd.jupyter.widget-view+json": {
       "model_id": "a20aef3343b843eb8f81263c7ff9f9e3",
       "version_major": 2,
       "version_minor": 0
      },
      "text/plain": [
       "<LAMBDA> DONE:   0%|          | 0/100 [00:00<?, ?it/s]"
      ]
     },
     "metadata": {},
     "output_type": "display_data"
    },
    {
     "data": {
      "application/vnd.jupyter.widget-view+json": {
       "model_id": "c56522d514294a9aa486e5397bd89722",
       "version_major": 2,
       "version_minor": 0
      },
      "text/plain": [
       "<LAMBDA> DONE:   0%|          | 0/42 [00:00<?, ?it/s]"
      ]
     },
     "metadata": {},
     "output_type": "display_data"
    },
    {
     "data": {
      "application/vnd.jupyter.widget-view+json": {
       "model_id": "d9ac4ffbd5eb491da398a0f16e9eec35",
       "version_major": 2,
       "version_minor": 0
      },
      "text/plain": [
       "<LAMBDA> DONE:   0%|          | 0/42 [00:00<?, ?it/s]"
      ]
     },
     "metadata": {},
     "output_type": "display_data"
    },
    {
     "data": {
      "application/vnd.jupyter.widget-view+json": {
       "model_id": "d9a065b74f134b33aa0d0f05246d98f5",
       "version_major": 2,
       "version_minor": 0
      },
      "text/plain": [
       "<LAMBDA> DONE:   0%|          | 0/42 [00:00<?, ?it/s]"
      ]
     },
     "metadata": {},
     "output_type": "display_data"
    },
    {
     "data": {
      "application/vnd.jupyter.widget-view+json": {
       "model_id": "92d7b7eddd7645688b93df4b1cd861e1",
       "version_major": 2,
       "version_minor": 0
      },
      "text/plain": [
       "<LAMBDA> DONE:   0%|          | 0/59 [00:00<?, ?it/s]"
      ]
     },
     "metadata": {},
     "output_type": "display_data"
    },
    {
     "data": {
      "application/vnd.jupyter.widget-view+json": {
       "model_id": "4bfb34ac5f624ccd88f4b97992bb5da2",
       "version_major": 2,
       "version_minor": 0
      },
      "text/plain": [
       "<LAMBDA> DONE:   0%|          | 0/59 [00:00<?, ?it/s]"
      ]
     },
     "metadata": {},
     "output_type": "display_data"
    },
    {
     "data": {
      "application/vnd.jupyter.widget-view+json": {
       "model_id": "4220947c294340dea702f277354e5970",
       "version_major": 2,
       "version_minor": 0
      },
      "text/plain": [
       "<LAMBDA> DONE:   0%|          | 0/59 [00:00<?, ?it/s]"
      ]
     },
     "metadata": {},
     "output_type": "display_data"
    },
    {
     "data": {
      "application/vnd.jupyter.widget-view+json": {
       "model_id": "cf9ea671a5ac4d558d491e3828525854",
       "version_major": 2,
       "version_minor": 0
      },
      "text/plain": [
       "<LAMBDA> DONE:   0%|          | 0/332 [00:00<?, ?it/s]"
      ]
     },
     "metadata": {},
     "output_type": "display_data"
    },
    {
     "data": {
      "application/vnd.jupyter.widget-view+json": {
       "model_id": "8671a2295a1f498bb75012e6a263cd43",
       "version_major": 2,
       "version_minor": 0
      },
      "text/plain": [
       "<LAMBDA> DONE:   0%|          | 0/332 [00:00<?, ?it/s]"
      ]
     },
     "metadata": {},
     "output_type": "display_data"
    },
    {
     "data": {
      "application/vnd.jupyter.widget-view+json": {
       "model_id": "adedd4e613124f1dafc55a060b1bdec9",
       "version_major": 2,
       "version_minor": 0
      },
      "text/plain": [
       "<LAMBDA> DONE:   0%|          | 0/332 [00:00<?, ?it/s]"
      ]
     },
     "metadata": {},
     "output_type": "display_data"
    },
    {
     "data": {
      "application/vnd.jupyter.widget-view+json": {
       "model_id": "9fbcfe5a90c44eafa710180aaa2151cd",
       "version_major": 2,
       "version_minor": 0
      },
      "text/plain": [
       "<LAMBDA> DONE:   0%|          | 0/115 [00:00<?, ?it/s]"
      ]
     },
     "metadata": {},
     "output_type": "display_data"
    },
    {
     "data": {
      "application/vnd.jupyter.widget-view+json": {
       "model_id": "c4960eba7d3b458e85a76603a5a95671",
       "version_major": 2,
       "version_minor": 0
      },
      "text/plain": [
       "<LAMBDA> DONE:   0%|          | 0/115 [00:00<?, ?it/s]"
      ]
     },
     "metadata": {},
     "output_type": "display_data"
    },
    {
     "data": {
      "application/vnd.jupyter.widget-view+json": {
       "model_id": "992298a7808945e8bf8b40aa156fc60b",
       "version_major": 2,
       "version_minor": 0
      },
      "text/plain": [
       "<LAMBDA> DONE:   0%|          | 0/115 [00:00<?, ?it/s]"
      ]
     },
     "metadata": {},
     "output_type": "display_data"
    },
    {
     "data": {
      "application/vnd.jupyter.widget-view+json": {
       "model_id": "87e7c465eff44edba14daff69358cb0e",
       "version_major": 2,
       "version_minor": 0
      },
      "text/plain": [
       "<LAMBDA> DONE:   0%|          | 0/720 [00:00<?, ?it/s]"
      ]
     },
     "metadata": {},
     "output_type": "display_data"
    },
    {
     "data": {
      "application/vnd.jupyter.widget-view+json": {
       "model_id": "218b9f5ef51248338ff4647a79220f1e",
       "version_major": 2,
       "version_minor": 0
      },
      "text/plain": [
       "<LAMBDA> DONE:   0%|          | 0/720 [00:00<?, ?it/s]"
      ]
     },
     "metadata": {},
     "output_type": "display_data"
    },
    {
     "data": {
      "application/vnd.jupyter.widget-view+json": {
       "model_id": "4744d4465d1548c9b370d696ae9d0208",
       "version_major": 2,
       "version_minor": 0
      },
      "text/plain": [
       "<LAMBDA> DONE:   0%|          | 0/720 [00:00<?, ?it/s]"
      ]
     },
     "metadata": {},
     "output_type": "display_data"
    },
    {
     "data": {
      "application/vnd.jupyter.widget-view+json": {
       "model_id": "7e1076770a1e432fa4fa9c340bac625e",
       "version_major": 2,
       "version_minor": 0
      },
      "text/plain": [
       "<LAMBDA> DONE:   0%|          | 0/292 [00:00<?, ?it/s]"
      ]
     },
     "metadata": {},
     "output_type": "display_data"
    },
    {
     "data": {
      "application/vnd.jupyter.widget-view+json": {
       "model_id": "e29bbd29724441b7a8b093124f4f8cac",
       "version_major": 2,
       "version_minor": 0
      },
      "text/plain": [
       "<LAMBDA> DONE:   0%|          | 0/292 [00:00<?, ?it/s]"
      ]
     },
     "metadata": {},
     "output_type": "display_data"
    },
    {
     "data": {
      "application/vnd.jupyter.widget-view+json": {
       "model_id": "6ee362ba13c74dbd8958c16e582e787d",
       "version_major": 2,
       "version_minor": 0
      },
      "text/plain": [
       "<LAMBDA> DONE:   0%|          | 0/292 [00:00<?, ?it/s]"
      ]
     },
     "metadata": {},
     "output_type": "display_data"
    },
    {
     "data": {
      "application/vnd.jupyter.widget-view+json": {
       "model_id": "1d96e26a11294b5abe77f52506d54f56",
       "version_major": 2,
       "version_minor": 0
      },
      "text/plain": [
       "<LAMBDA> DONE:   0%|          | 0/3784 [00:00<?, ?it/s]"
      ]
     },
     "metadata": {},
     "output_type": "display_data"
    },
    {
     "data": {
      "application/vnd.jupyter.widget-view+json": {
       "model_id": "25e35813a4544a4e8d5b5bc1aa36e079",
       "version_major": 2,
       "version_minor": 0
      },
      "text/plain": [
       "<LAMBDA> DONE:   0%|          | 0/3784 [00:00<?, ?it/s]"
      ]
     },
     "metadata": {},
     "output_type": "display_data"
    },
    {
     "data": {
      "application/vnd.jupyter.widget-view+json": {
       "model_id": "dbfd0e305bf74232ab162adde8b2826f",
       "version_major": 2,
       "version_minor": 0
      },
      "text/plain": [
       "<LAMBDA> DONE:   0%|          | 0/3784 [00:00<?, ?it/s]"
      ]
     },
     "metadata": {},
     "output_type": "display_data"
    },
    {
     "name": "stderr",
     "output_type": "stream",
     "text": [
      "/tmp/ipykernel_3805226/2830027787.py:60: PerformanceWarning: \n",
      "your performance may suffer as PyTables will pickle object types that it cannot\n",
      "map directly to c-types [inferred_type->mixed,key->block2_values] [items->Index(['sp_tree_tail', 'sp_tree_head', 'ldo_category', 'mdo_category',\n",
      "       'species', 'ldo_gene', 'mdo_gene', 'outgroup_species', 'out_gene'],\n",
      "      dtype='object')]\n",
      "\n",
      "  pd.concat(tmp).to_hdf(f'{RES_PATH}/{key}.h5', sp, complevel=9, complib='zlib')\n"
     ]
    },
    {
     "data": {
      "application/vnd.jupyter.widget-view+json": {
       "model_id": "5cf2c7820952427ba0db661e8bc2d2c9",
       "version_major": 2,
       "version_minor": 0
      },
      "text/plain": [
       "<LAMBDA> DONE:   0%|          | 0/310 [00:00<?, ?it/s]"
      ]
     },
     "metadata": {},
     "output_type": "display_data"
    },
    {
     "data": {
      "application/vnd.jupyter.widget-view+json": {
       "model_id": "918cef6ad48b463fb3fb7c3cd49f14fa",
       "version_major": 2,
       "version_minor": 0
      },
      "text/plain": [
       "<LAMBDA> DONE:   0%|          | 0/310 [00:00<?, ?it/s]"
      ]
     },
     "metadata": {},
     "output_type": "display_data"
    },
    {
     "data": {
      "application/vnd.jupyter.widget-view+json": {
       "model_id": "75858935513442099570d2c7c957e9b0",
       "version_major": 2,
       "version_minor": 0
      },
      "text/plain": [
       "<LAMBDA> DONE:   0%|          | 0/310 [00:00<?, ?it/s]"
      ]
     },
     "metadata": {},
     "output_type": "display_data"
    },
    {
     "data": {
      "application/vnd.jupyter.widget-view+json": {
       "model_id": "c467f589ce99481bb26fa0d4e9e8b109",
       "version_major": 2,
       "version_minor": 0
      },
      "text/plain": [
       "<LAMBDA> DONE:   0%|          | 0/100 [00:00<?, ?it/s]"
      ]
     },
     "metadata": {},
     "output_type": "display_data"
    },
    {
     "data": {
      "application/vnd.jupyter.widget-view+json": {
       "model_id": "5ef32aac7c8e4186aea8586662665168",
       "version_major": 2,
       "version_minor": 0
      },
      "text/plain": [
       "<LAMBDA> DONE:   0%|          | 0/100 [00:00<?, ?it/s]"
      ]
     },
     "metadata": {},
     "output_type": "display_data"
    },
    {
     "data": {
      "application/vnd.jupyter.widget-view+json": {
       "model_id": "7ff37eff95424ed0a519ac54749efc8e",
       "version_major": 2,
       "version_minor": 0
      },
      "text/plain": [
       "<LAMBDA> DONE:   0%|          | 0/100 [00:00<?, ?it/s]"
      ]
     },
     "metadata": {},
     "output_type": "display_data"
    },
    {
     "data": {
      "application/vnd.jupyter.widget-view+json": {
       "model_id": "afda8cc3813447f18c5cf3eba5343823",
       "version_major": 2,
       "version_minor": 0
      },
      "text/plain": [
       "<LAMBDA> DONE:   0%|          | 0/42 [00:00<?, ?it/s]"
      ]
     },
     "metadata": {},
     "output_type": "display_data"
    },
    {
     "data": {
      "application/vnd.jupyter.widget-view+json": {
       "model_id": "cca9f136d2da4e75b2f0c2791f68a584",
       "version_major": 2,
       "version_minor": 0
      },
      "text/plain": [
       "<LAMBDA> DONE:   0%|          | 0/42 [00:00<?, ?it/s]"
      ]
     },
     "metadata": {},
     "output_type": "display_data"
    },
    {
     "data": {
      "application/vnd.jupyter.widget-view+json": {
       "model_id": "2c30993cdd804ebfa75d529a33c0378d",
       "version_major": 2,
       "version_minor": 0
      },
      "text/plain": [
       "<LAMBDA> DONE:   0%|          | 0/42 [00:00<?, ?it/s]"
      ]
     },
     "metadata": {},
     "output_type": "display_data"
    },
    {
     "data": {
      "application/vnd.jupyter.widget-view+json": {
       "model_id": "15a4f4524fe0408d8f9c644cf2b59f31",
       "version_major": 2,
       "version_minor": 0
      },
      "text/plain": [
       "<LAMBDA> DONE:   0%|          | 0/59 [00:00<?, ?it/s]"
      ]
     },
     "metadata": {},
     "output_type": "display_data"
    },
    {
     "data": {
      "application/vnd.jupyter.widget-view+json": {
       "model_id": "d3bbf7dc36954baea96860b5dc449b36",
       "version_major": 2,
       "version_minor": 0
      },
      "text/plain": [
       "<LAMBDA> DONE:   0%|          | 0/59 [00:00<?, ?it/s]"
      ]
     },
     "metadata": {},
     "output_type": "display_data"
    },
    {
     "data": {
      "application/vnd.jupyter.widget-view+json": {
       "model_id": "353fd2fa68e84353872f581da38606bc",
       "version_major": 2,
       "version_minor": 0
      },
      "text/plain": [
       "<LAMBDA> DONE:   0%|          | 0/59 [00:00<?, ?it/s]"
      ]
     },
     "metadata": {},
     "output_type": "display_data"
    },
    {
     "data": {
      "application/vnd.jupyter.widget-view+json": {
       "model_id": "650fba600f9c4c7185fd72950427d09c",
       "version_major": 2,
       "version_minor": 0
      },
      "text/plain": [
       "<LAMBDA> DONE:   0%|          | 0/332 [00:00<?, ?it/s]"
      ]
     },
     "metadata": {},
     "output_type": "display_data"
    },
    {
     "data": {
      "application/vnd.jupyter.widget-view+json": {
       "model_id": "c1eb7abb8ff54234bd01580369c21728",
       "version_major": 2,
       "version_minor": 0
      },
      "text/plain": [
       "<LAMBDA> DONE:   0%|          | 0/332 [00:00<?, ?it/s]"
      ]
     },
     "metadata": {},
     "output_type": "display_data"
    },
    {
     "data": {
      "application/vnd.jupyter.widget-view+json": {
       "model_id": "2488256c6e9a46df98a1894dcbe63d1c",
       "version_major": 2,
       "version_minor": 0
      },
      "text/plain": [
       "<LAMBDA> DONE:   0%|          | 0/332 [00:00<?, ?it/s]"
      ]
     },
     "metadata": {},
     "output_type": "display_data"
    },
    {
     "data": {
      "application/vnd.jupyter.widget-view+json": {
       "model_id": "3ac0a704edba44a39e571f0cad23a2cb",
       "version_major": 2,
       "version_minor": 0
      },
      "text/plain": [
       "<LAMBDA> DONE:   0%|          | 0/115 [00:00<?, ?it/s]"
      ]
     },
     "metadata": {},
     "output_type": "display_data"
    },
    {
     "data": {
      "application/vnd.jupyter.widget-view+json": {
       "model_id": "a65f3ab70f564af38d6c1a5ea478abb8",
       "version_major": 2,
       "version_minor": 0
      },
      "text/plain": [
       "<LAMBDA> DONE:   0%|          | 0/115 [00:00<?, ?it/s]"
      ]
     },
     "metadata": {},
     "output_type": "display_data"
    },
    {
     "data": {
      "application/vnd.jupyter.widget-view+json": {
       "model_id": "d0e7b56c6cb8472abbf4a555fb2b1d39",
       "version_major": 2,
       "version_minor": 0
      },
      "text/plain": [
       "<LAMBDA> DONE:   0%|          | 0/115 [00:00<?, ?it/s]"
      ]
     },
     "metadata": {},
     "output_type": "display_data"
    },
    {
     "data": {
      "application/vnd.jupyter.widget-view+json": {
       "model_id": "54e08a135bec40208150ffa36d49a0af",
       "version_major": 2,
       "version_minor": 0
      },
      "text/plain": [
       "<LAMBDA> DONE:   0%|          | 0/720 [00:00<?, ?it/s]"
      ]
     },
     "metadata": {},
     "output_type": "display_data"
    },
    {
     "data": {
      "application/vnd.jupyter.widget-view+json": {
       "model_id": "0eef0acf68ec467eb8d8ebe1581023c4",
       "version_major": 2,
       "version_minor": 0
      },
      "text/plain": [
       "<LAMBDA> DONE:   0%|          | 0/720 [00:00<?, ?it/s]"
      ]
     },
     "metadata": {},
     "output_type": "display_data"
    },
    {
     "data": {
      "application/vnd.jupyter.widget-view+json": {
       "model_id": "41088d0087564f7ea94defe8ed00d2f3",
       "version_major": 2,
       "version_minor": 0
      },
      "text/plain": [
       "<LAMBDA> DONE:   0%|          | 0/720 [00:00<?, ?it/s]"
      ]
     },
     "metadata": {},
     "output_type": "display_data"
    },
    {
     "data": {
      "application/vnd.jupyter.widget-view+json": {
       "model_id": "c29dc3aedb9f41ddb96aeeca4c73a39e",
       "version_major": 2,
       "version_minor": 0
      },
      "text/plain": [
       "<LAMBDA> DONE:   0%|          | 0/292 [00:00<?, ?it/s]"
      ]
     },
     "metadata": {},
     "output_type": "display_data"
    },
    {
     "data": {
      "application/vnd.jupyter.widget-view+json": {
       "model_id": "cbbdedab603a4b49b3f2abece090bf13",
       "version_major": 2,
       "version_minor": 0
      },
      "text/plain": [
       "<LAMBDA> DONE:   0%|          | 0/292 [00:00<?, ?it/s]"
      ]
     },
     "metadata": {},
     "output_type": "display_data"
    },
    {
     "data": {
      "application/vnd.jupyter.widget-view+json": {
       "model_id": "6fb4d29e9b3c425ab5f489a8299ba71c",
       "version_major": 2,
       "version_minor": 0
      },
      "text/plain": [
       "<LAMBDA> DONE:   0%|          | 0/292 [00:00<?, ?it/s]"
      ]
     },
     "metadata": {},
     "output_type": "display_data"
    },
    {
     "data": {
      "application/vnd.jupyter.widget-view+json": {
       "model_id": "d5bbf46559db4dfc9d81e3d05e9adc2a",
       "version_major": 2,
       "version_minor": 0
      },
      "text/plain": [
       "<LAMBDA> DONE:   0%|          | 0/3784 [00:00<?, ?it/s]"
      ]
     },
     "metadata": {},
     "output_type": "display_data"
    },
    {
     "data": {
      "application/vnd.jupyter.widget-view+json": {
       "model_id": "b05c0cb55352453ea9bd29d455485ee7",
       "version_major": 2,
       "version_minor": 0
      },
      "text/plain": [
       "<LAMBDA> DONE:   0%|          | 0/3784 [00:00<?, ?it/s]"
      ]
     },
     "metadata": {},
     "output_type": "display_data"
    },
    {
     "data": {
      "application/vnd.jupyter.widget-view+json": {
       "model_id": "40fccfd0e6ec4f7f8a4970a61baa9952",
       "version_major": 2,
       "version_minor": 0
      },
      "text/plain": [
       "<LAMBDA> DONE:   0%|          | 0/3784 [00:00<?, ?it/s]"
      ]
     },
     "metadata": {},
     "output_type": "display_data"
    },
    {
     "name": "stderr",
     "output_type": "stream",
     "text": [
      "/tmp/ipykernel_3805226/2830027787.py:60: PerformanceWarning: \n",
      "your performance may suffer as PyTables will pickle object types that it cannot\n",
      "map directly to c-types [inferred_type->mixed,key->block2_values] [items->Index(['sp_tree_tail', 'sp_tree_head', 'ldo_category', 'mdo_category',\n",
      "       'species', 'ldo_gene', 'mdo_gene', 'outgroup_species', 'out_gene'],\n",
      "      dtype='object')]\n",
      "\n",
      "  pd.concat(tmp).to_hdf(f'{RES_PATH}/{key}.h5', sp, complevel=9, complib='zlib')\n"
     ]
    },
    {
     "data": {
      "application/vnd.jupyter.widget-view+json": {
       "model_id": "778882dc7a6d44a780fce7d1a2de49d3",
       "version_major": 2,
       "version_minor": 0
      },
      "text/plain": [
       "<LAMBDA> DONE:   0%|          | 0/310 [00:00<?, ?it/s]"
      ]
     },
     "metadata": {},
     "output_type": "display_data"
    },
    {
     "data": {
      "application/vnd.jupyter.widget-view+json": {
       "model_id": "98cdfb0d9ba243e196cc4c29b4cd305f",
       "version_major": 2,
       "version_minor": 0
      },
      "text/plain": [
       "<LAMBDA> DONE:   0%|          | 0/310 [00:00<?, ?it/s]"
      ]
     },
     "metadata": {},
     "output_type": "display_data"
    },
    {
     "data": {
      "application/vnd.jupyter.widget-view+json": {
       "model_id": "53dc6223f69e4e7aa5b35b11676d6175",
       "version_major": 2,
       "version_minor": 0
      },
      "text/plain": [
       "<LAMBDA> DONE:   0%|          | 0/310 [00:00<?, ?it/s]"
      ]
     },
     "metadata": {},
     "output_type": "display_data"
    },
    {
     "data": {
      "application/vnd.jupyter.widget-view+json": {
       "model_id": "33450fdceae142348f4308d94decee43",
       "version_major": 2,
       "version_minor": 0
      },
      "text/plain": [
       "<LAMBDA> DONE:   0%|          | 0/100 [00:00<?, ?it/s]"
      ]
     },
     "metadata": {},
     "output_type": "display_data"
    },
    {
     "data": {
      "application/vnd.jupyter.widget-view+json": {
       "model_id": "72bf16627edc41658f09d88a560e3822",
       "version_major": 2,
       "version_minor": 0
      },
      "text/plain": [
       "<LAMBDA> DONE:   0%|          | 0/100 [00:00<?, ?it/s]"
      ]
     },
     "metadata": {},
     "output_type": "display_data"
    },
    {
     "data": {
      "application/vnd.jupyter.widget-view+json": {
       "model_id": "dd6220a7f56a467c9ef9945329ba4249",
       "version_major": 2,
       "version_minor": 0
      },
      "text/plain": [
       "<LAMBDA> DONE:   0%|          | 0/100 [00:00<?, ?it/s]"
      ]
     },
     "metadata": {},
     "output_type": "display_data"
    },
    {
     "data": {
      "application/vnd.jupyter.widget-view+json": {
       "model_id": "34e443ddb11b4a1aa7162fe803b9fcd1",
       "version_major": 2,
       "version_minor": 0
      },
      "text/plain": [
       "<LAMBDA> DONE:   0%|          | 0/42 [00:00<?, ?it/s]"
      ]
     },
     "metadata": {},
     "output_type": "display_data"
    },
    {
     "data": {
      "application/vnd.jupyter.widget-view+json": {
       "model_id": "59f70379742140bba28520e4b074cd5f",
       "version_major": 2,
       "version_minor": 0
      },
      "text/plain": [
       "<LAMBDA> DONE:   0%|          | 0/42 [00:00<?, ?it/s]"
      ]
     },
     "metadata": {},
     "output_type": "display_data"
    },
    {
     "data": {
      "application/vnd.jupyter.widget-view+json": {
       "model_id": "1e9dcb3bad714b9abf191cbf5cbd447b",
       "version_major": 2,
       "version_minor": 0
      },
      "text/plain": [
       "<LAMBDA> DONE:   0%|          | 0/42 [00:00<?, ?it/s]"
      ]
     },
     "metadata": {},
     "output_type": "display_data"
    },
    {
     "data": {
      "application/vnd.jupyter.widget-view+json": {
       "model_id": "6b674d1de4084ae8bea73935f134a724",
       "version_major": 2,
       "version_minor": 0
      },
      "text/plain": [
       "<LAMBDA> DONE:   0%|          | 0/59 [00:00<?, ?it/s]"
      ]
     },
     "metadata": {},
     "output_type": "display_data"
    },
    {
     "data": {
      "application/vnd.jupyter.widget-view+json": {
       "model_id": "59443b68db9b4424a3d1922f5abfef93",
       "version_major": 2,
       "version_minor": 0
      },
      "text/plain": [
       "<LAMBDA> DONE:   0%|          | 0/59 [00:00<?, ?it/s]"
      ]
     },
     "metadata": {},
     "output_type": "display_data"
    },
    {
     "data": {
      "application/vnd.jupyter.widget-view+json": {
       "model_id": "588ae57daa464432a8841e02e8e89d70",
       "version_major": 2,
       "version_minor": 0
      },
      "text/plain": [
       "<LAMBDA> DONE:   0%|          | 0/59 [00:00<?, ?it/s]"
      ]
     },
     "metadata": {},
     "output_type": "display_data"
    },
    {
     "data": {
      "application/vnd.jupyter.widget-view+json": {
       "model_id": "db0bbccea69c48f38c32ef51ca2e6720",
       "version_major": 2,
       "version_minor": 0
      },
      "text/plain": [
       "<LAMBDA> DONE:   0%|          | 0/332 [00:00<?, ?it/s]"
      ]
     },
     "metadata": {},
     "output_type": "display_data"
    },
    {
     "data": {
      "application/vnd.jupyter.widget-view+json": {
       "model_id": "1a3dedda7cf84ef7919abd5dcab6beae",
       "version_major": 2,
       "version_minor": 0
      },
      "text/plain": [
       "<LAMBDA> DONE:   0%|          | 0/332 [00:00<?, ?it/s]"
      ]
     },
     "metadata": {},
     "output_type": "display_data"
    },
    {
     "data": {
      "application/vnd.jupyter.widget-view+json": {
       "model_id": "aa5b8d8ceb42432f8a033c14f32851ea",
       "version_major": 2,
       "version_minor": 0
      },
      "text/plain": [
       "<LAMBDA> DONE:   0%|          | 0/332 [00:00<?, ?it/s]"
      ]
     },
     "metadata": {},
     "output_type": "display_data"
    },
    {
     "data": {
      "application/vnd.jupyter.widget-view+json": {
       "model_id": "5fa76a3979fe44248f62454452e33274",
       "version_major": 2,
       "version_minor": 0
      },
      "text/plain": [
       "<LAMBDA> DONE:   0%|          | 0/115 [00:00<?, ?it/s]"
      ]
     },
     "metadata": {},
     "output_type": "display_data"
    },
    {
     "data": {
      "application/vnd.jupyter.widget-view+json": {
       "model_id": "065ff0b874a344e79afcd0e2b31cf083",
       "version_major": 2,
       "version_minor": 0
      },
      "text/plain": [
       "<LAMBDA> DONE:   0%|          | 0/115 [00:00<?, ?it/s]"
      ]
     },
     "metadata": {},
     "output_type": "display_data"
    },
    {
     "data": {
      "application/vnd.jupyter.widget-view+json": {
       "model_id": "ab58fd806b964f4189d06612019d3bd2",
       "version_major": 2,
       "version_minor": 0
      },
      "text/plain": [
       "<LAMBDA> DONE:   0%|          | 0/115 [00:00<?, ?it/s]"
      ]
     },
     "metadata": {},
     "output_type": "display_data"
    },
    {
     "data": {
      "application/vnd.jupyter.widget-view+json": {
       "model_id": "5d0b7e80867c4e6b9913778607a10f83",
       "version_major": 2,
       "version_minor": 0
      },
      "text/plain": [
       "<LAMBDA> DONE:   0%|          | 0/720 [00:00<?, ?it/s]"
      ]
     },
     "metadata": {},
     "output_type": "display_data"
    },
    {
     "data": {
      "application/vnd.jupyter.widget-view+json": {
       "model_id": "f87b0bc51ca64227a80a1eab941c531e",
       "version_major": 2,
       "version_minor": 0
      },
      "text/plain": [
       "<LAMBDA> DONE:   0%|          | 0/720 [00:00<?, ?it/s]"
      ]
     },
     "metadata": {},
     "output_type": "display_data"
    },
    {
     "data": {
      "application/vnd.jupyter.widget-view+json": {
       "model_id": "86394bfe3e82495ab2ef364480c44bc9",
       "version_major": 2,
       "version_minor": 0
      },
      "text/plain": [
       "<LAMBDA> DONE:   0%|          | 0/720 [00:00<?, ?it/s]"
      ]
     },
     "metadata": {},
     "output_type": "display_data"
    },
    {
     "data": {
      "application/vnd.jupyter.widget-view+json": {
       "model_id": "b686e60cc5c94ef8abb4fb8fd71dfeb5",
       "version_major": 2,
       "version_minor": 0
      },
      "text/plain": [
       "<LAMBDA> DONE:   0%|          | 0/292 [00:00<?, ?it/s]"
      ]
     },
     "metadata": {},
     "output_type": "display_data"
    },
    {
     "data": {
      "application/vnd.jupyter.widget-view+json": {
       "model_id": "caccd49175584d979988e4611f015499",
       "version_major": 2,
       "version_minor": 0
      },
      "text/plain": [
       "<LAMBDA> DONE:   0%|          | 0/292 [00:00<?, ?it/s]"
      ]
     },
     "metadata": {},
     "output_type": "display_data"
    },
    {
     "data": {
      "application/vnd.jupyter.widget-view+json": {
       "model_id": "77b8aa22744541c8859a0ff8880b6d5b",
       "version_major": 2,
       "version_minor": 0
      },
      "text/plain": [
       "<LAMBDA> DONE:   0%|          | 0/292 [00:00<?, ?it/s]"
      ]
     },
     "metadata": {},
     "output_type": "display_data"
    },
    {
     "data": {
      "application/vnd.jupyter.widget-view+json": {
       "model_id": "ea951e85da0b4eae90090b07094d41b7",
       "version_major": 2,
       "version_minor": 0
      },
      "text/plain": [
       "<LAMBDA> DONE:   0%|          | 0/3784 [00:00<?, ?it/s]"
      ]
     },
     "metadata": {},
     "output_type": "display_data"
    },
    {
     "data": {
      "application/vnd.jupyter.widget-view+json": {
       "model_id": "a68b046297d24233b642199fd87d86c6",
       "version_major": 2,
       "version_minor": 0
      },
      "text/plain": [
       "<LAMBDA> DONE:   0%|          | 0/3784 [00:00<?, ?it/s]"
      ]
     },
     "metadata": {},
     "output_type": "display_data"
    },
    {
     "data": {
      "application/vnd.jupyter.widget-view+json": {
       "model_id": "8b91320482d545fcaef2ca30db99a351",
       "version_major": 2,
       "version_minor": 0
      },
      "text/plain": [
       "<LAMBDA> DONE:   0%|          | 0/3784 [00:00<?, ?it/s]"
      ]
     },
     "metadata": {},
     "output_type": "display_data"
    },
    {
     "name": "stderr",
     "output_type": "stream",
     "text": [
      "/tmp/ipykernel_3805226/2830027787.py:60: PerformanceWarning: \n",
      "your performance may suffer as PyTables will pickle object types that it cannot\n",
      "map directly to c-types [inferred_type->mixed,key->block2_values] [items->Index(['sp_tree_tail', 'sp_tree_head', 'ldo_category', 'mdo_category',\n",
      "       'species', 'ldo_gene', 'mdo_gene', 'outgroup_species', 'out_gene'],\n",
      "      dtype='object')]\n",
      "\n",
      "  pd.concat(tmp).to_hdf(f'{RES_PATH}/{key}.h5', sp, complevel=9, complib='zlib')\n"
     ]
    },
    {
     "data": {
      "application/vnd.jupyter.widget-view+json": {
       "model_id": "9861206db81742c9881901f652ddb99d",
       "version_major": 2,
       "version_minor": 0
      },
      "text/plain": [
       "<LAMBDA> DONE:   0%|          | 0/537 [00:00<?, ?it/s]"
      ]
     },
     "metadata": {},
     "output_type": "display_data"
    },
    {
     "data": {
      "application/vnd.jupyter.widget-view+json": {
       "model_id": "a0a1d7751230435e92d261b45c71e963",
       "version_major": 2,
       "version_minor": 0
      },
      "text/plain": [
       "<LAMBDA> DONE:   0%|          | 0/537 [00:00<?, ?it/s]"
      ]
     },
     "metadata": {},
     "output_type": "display_data"
    },
    {
     "data": {
      "application/vnd.jupyter.widget-view+json": {
       "model_id": "bea7c955c51141c4b7b80b6e2cbb22ae",
       "version_major": 2,
       "version_minor": 0
      },
      "text/plain": [
       "<LAMBDA> DONE:   0%|          | 0/537 [00:00<?, ?it/s]"
      ]
     },
     "metadata": {},
     "output_type": "display_data"
    },
    {
     "data": {
      "application/vnd.jupyter.widget-view+json": {
       "model_id": "553b34cbb69d4eb9b70a73e743ae7a80",
       "version_major": 2,
       "version_minor": 0
      },
      "text/plain": [
       "<LAMBDA> DONE:   0%|          | 0/8181 [00:00<?, ?it/s]"
      ]
     },
     "metadata": {},
     "output_type": "display_data"
    },
    {
     "data": {
      "application/vnd.jupyter.widget-view+json": {
       "model_id": "f666cd9844264307b5c2ebc213fd5f52",
       "version_major": 2,
       "version_minor": 0
      },
      "text/plain": [
       "<LAMBDA> DONE:   0%|          | 0/8181 [00:00<?, ?it/s]"
      ]
     },
     "metadata": {},
     "output_type": "display_data"
    },
    {
     "data": {
      "application/vnd.jupyter.widget-view+json": {
       "model_id": "74c3836c117e4afda8797f0a07741b99",
       "version_major": 2,
       "version_minor": 0
      },
      "text/plain": [
       "<LAMBDA> DONE:   0%|          | 0/8181 [00:00<?, ?it/s]"
      ]
     },
     "metadata": {},
     "output_type": "display_data"
    },
    {
     "data": {
      "application/vnd.jupyter.widget-view+json": {
       "model_id": "3e3c80c524cb4489b52c7ab9f256666d",
       "version_major": 2,
       "version_minor": 0
      },
      "text/plain": [
       "<LAMBDA> DONE:   0%|          | 0/87 [00:00<?, ?it/s]"
      ]
     },
     "metadata": {},
     "output_type": "display_data"
    },
    {
     "data": {
      "application/vnd.jupyter.widget-view+json": {
       "model_id": "6ee7131d098b467fa80bf63325e119c6",
       "version_major": 2,
       "version_minor": 0
      },
      "text/plain": [
       "<LAMBDA> DONE:   0%|          | 0/87 [00:00<?, ?it/s]"
      ]
     },
     "metadata": {},
     "output_type": "display_data"
    },
    {
     "data": {
      "application/vnd.jupyter.widget-view+json": {
       "model_id": "801b8d3af9b94c24a1a72ad446c512de",
       "version_major": 2,
       "version_minor": 0
      },
      "text/plain": [
       "<LAMBDA> DONE:   0%|          | 0/87 [00:00<?, ?it/s]"
      ]
     },
     "metadata": {},
     "output_type": "display_data"
    },
    {
     "data": {
      "application/vnd.jupyter.widget-view+json": {
       "model_id": "54297276be1a4cf08abd2ec8a2ca23d4",
       "version_major": 2,
       "version_minor": 0
      },
      "text/plain": [
       "<LAMBDA> DONE:   0%|          | 0/77 [00:00<?, ?it/s]"
      ]
     },
     "metadata": {},
     "output_type": "display_data"
    },
    {
     "data": {
      "application/vnd.jupyter.widget-view+json": {
       "model_id": "7780a49e61a74467b8d22835e8ff48a3",
       "version_major": 2,
       "version_minor": 0
      },
      "text/plain": [
       "<LAMBDA> DONE:   0%|          | 0/77 [00:00<?, ?it/s]"
      ]
     },
     "metadata": {},
     "output_type": "display_data"
    },
    {
     "data": {
      "application/vnd.jupyter.widget-view+json": {
       "model_id": "576cfc729bad46c7acd1fbd2e15f9eff",
       "version_major": 2,
       "version_minor": 0
      },
      "text/plain": [
       "<LAMBDA> DONE:   0%|          | 0/77 [00:00<?, ?it/s]"
      ]
     },
     "metadata": {},
     "output_type": "display_data"
    },
    {
     "data": {
      "application/vnd.jupyter.widget-view+json": {
       "model_id": "396cb91108f14e6fb5f67f1672ce507c",
       "version_major": 2,
       "version_minor": 0
      },
      "text/plain": [
       "<LAMBDA> DONE:   0%|          | 0/102 [00:00<?, ?it/s]"
      ]
     },
     "metadata": {},
     "output_type": "display_data"
    },
    {
     "data": {
      "application/vnd.jupyter.widget-view+json": {
       "model_id": "2755c5d31fc74ccfaa14c72bc0eb31ea",
       "version_major": 2,
       "version_minor": 0
      },
      "text/plain": [
       "<LAMBDA> DONE:   0%|          | 0/102 [00:00<?, ?it/s]"
      ]
     },
     "metadata": {},
     "output_type": "display_data"
    },
    {
     "data": {
      "application/vnd.jupyter.widget-view+json": {
       "model_id": "424f4dedd19e45e389c65c35b0643ae2",
       "version_major": 2,
       "version_minor": 0
      },
      "text/plain": [
       "<LAMBDA> DONE:   0%|          | 0/102 [00:00<?, ?it/s]"
      ]
     },
     "metadata": {},
     "output_type": "display_data"
    },
    {
     "data": {
      "application/vnd.jupyter.widget-view+json": {
       "model_id": "9f5c383de7a548398932788149c1933b",
       "version_major": 2,
       "version_minor": 0
      },
      "text/plain": [
       "<LAMBDA> DONE:   0%|          | 0/6 [00:00<?, ?it/s]"
      ]
     },
     "metadata": {},
     "output_type": "display_data"
    },
    {
     "data": {
      "application/vnd.jupyter.widget-view+json": {
       "model_id": "593a75823f7d4aa586166e57e1e39411",
       "version_major": 2,
       "version_minor": 0
      },
      "text/plain": [
       "<LAMBDA> DONE:   0%|          | 0/6 [00:00<?, ?it/s]"
      ]
     },
     "metadata": {},
     "output_type": "display_data"
    },
    {
     "data": {
      "application/vnd.jupyter.widget-view+json": {
       "model_id": "2ade20c628074619a6d8609514f99aac",
       "version_major": 2,
       "version_minor": 0
      },
      "text/plain": [
       "<LAMBDA> DONE:   0%|          | 0/6 [00:00<?, ?it/s]"
      ]
     },
     "metadata": {},
     "output_type": "display_data"
    },
    {
     "data": {
      "application/vnd.jupyter.widget-view+json": {
       "model_id": "9e1a844fd3674ebc945c9dcaf186fa72",
       "version_major": 2,
       "version_minor": 0
      },
      "text/plain": [
       "<LAMBDA> DONE:   0%|          | 0/1037 [00:00<?, ?it/s]"
      ]
     },
     "metadata": {},
     "output_type": "display_data"
    },
    {
     "data": {
      "application/vnd.jupyter.widget-view+json": {
       "model_id": "b529bf47bbd34faeb9ba43a23b3a94c6",
       "version_major": 2,
       "version_minor": 0
      },
      "text/plain": [
       "<LAMBDA> DONE:   0%|          | 0/1037 [00:00<?, ?it/s]"
      ]
     },
     "metadata": {},
     "output_type": "display_data"
    },
    {
     "data": {
      "application/vnd.jupyter.widget-view+json": {
       "model_id": "5906d623a7cb4119bf9513a7a0a90e5a",
       "version_major": 2,
       "version_minor": 0
      },
      "text/plain": [
       "<LAMBDA> DONE:   0%|          | 0/1037 [00:00<?, ?it/s]"
      ]
     },
     "metadata": {},
     "output_type": "display_data"
    },
    {
     "data": {
      "application/vnd.jupyter.widget-view+json": {
       "model_id": "cf855259ce6f46e295e50e2508518f83",
       "version_major": 2,
       "version_minor": 0
      },
      "text/plain": [
       "<LAMBDA> DONE:   0%|          | 0/235 [00:00<?, ?it/s]"
      ]
     },
     "metadata": {},
     "output_type": "display_data"
    },
    {
     "data": {
      "application/vnd.jupyter.widget-view+json": {
       "model_id": "e635339210bf4b199ad1f9086fa3a12a",
       "version_major": 2,
       "version_minor": 0
      },
      "text/plain": [
       "<LAMBDA> DONE:   0%|          | 0/235 [00:00<?, ?it/s]"
      ]
     },
     "metadata": {},
     "output_type": "display_data"
    },
    {
     "data": {
      "application/vnd.jupyter.widget-view+json": {
       "model_id": "2d1b58fef11a40c1ba94fd89951ece14",
       "version_major": 2,
       "version_minor": 0
      },
      "text/plain": [
       "<LAMBDA> DONE:   0%|          | 0/235 [00:00<?, ?it/s]"
      ]
     },
     "metadata": {},
     "output_type": "display_data"
    },
    {
     "data": {
      "application/vnd.jupyter.widget-view+json": {
       "model_id": "85b68af9fe59485fba2b12a03d9c4786",
       "version_major": 2,
       "version_minor": 0
      },
      "text/plain": [
       "<LAMBDA> DONE:   0%|          | 0/202 [00:00<?, ?it/s]"
      ]
     },
     "metadata": {},
     "output_type": "display_data"
    },
    {
     "data": {
      "application/vnd.jupyter.widget-view+json": {
       "model_id": "e77efdc14c6e44d28132794e07c442bd",
       "version_major": 2,
       "version_minor": 0
      },
      "text/plain": [
       "<LAMBDA> DONE:   0%|          | 0/202 [00:00<?, ?it/s]"
      ]
     },
     "metadata": {},
     "output_type": "display_data"
    },
    {
     "data": {
      "application/vnd.jupyter.widget-view+json": {
       "model_id": "28173e3d9be34384abc398c9f2ba986b",
       "version_major": 2,
       "version_minor": 0
      },
      "text/plain": [
       "<LAMBDA> DONE:   0%|          | 0/202 [00:00<?, ?it/s]"
      ]
     },
     "metadata": {},
     "output_type": "display_data"
    },
    {
     "name": "stderr",
     "output_type": "stream",
     "text": [
      "/tmp/ipykernel_3805226/2830027787.py:60: PerformanceWarning: \n",
      "your performance may suffer as PyTables will pickle object types that it cannot\n",
      "map directly to c-types [inferred_type->mixed,key->block2_values] [items->Index(['sp_tree_tail', 'sp_tree_head', 'ldo_category', 'mdo_category',\n",
      "       'species', 'ldo_gene', 'mdo_gene', 'outgroup_species', 'out_gene'],\n",
      "      dtype='object')]\n",
      "\n",
      "  pd.concat(tmp).to_hdf(f'{RES_PATH}/{key}.h5', sp, complevel=9, complib='zlib')\n"
     ]
    },
    {
     "data": {
      "application/vnd.jupyter.widget-view+json": {
       "model_id": "468f9bb657af46e58926b8edddc59aa5",
       "version_major": 2,
       "version_minor": 0
      },
      "text/plain": [
       "<LAMBDA> DONE:   0%|          | 0/537 [00:00<?, ?it/s]"
      ]
     },
     "metadata": {},
     "output_type": "display_data"
    },
    {
     "data": {
      "application/vnd.jupyter.widget-view+json": {
       "model_id": "d2917c62312b4c7891fcaab9a29f0a3a",
       "version_major": 2,
       "version_minor": 0
      },
      "text/plain": [
       "<LAMBDA> DONE:   0%|          | 0/537 [00:00<?, ?it/s]"
      ]
     },
     "metadata": {},
     "output_type": "display_data"
    },
    {
     "data": {
      "application/vnd.jupyter.widget-view+json": {
       "model_id": "df20779443c248559bce2d8989afc2df",
       "version_major": 2,
       "version_minor": 0
      },
      "text/plain": [
       "<LAMBDA> DONE:   0%|          | 0/537 [00:00<?, ?it/s]"
      ]
     },
     "metadata": {},
     "output_type": "display_data"
    },
    {
     "data": {
      "application/vnd.jupyter.widget-view+json": {
       "model_id": "8b4a0d4b3080457fa3ea369f44bb80eb",
       "version_major": 2,
       "version_minor": 0
      },
      "text/plain": [
       "<LAMBDA> DONE:   0%|          | 0/8181 [00:00<?, ?it/s]"
      ]
     },
     "metadata": {},
     "output_type": "display_data"
    },
    {
     "data": {
      "application/vnd.jupyter.widget-view+json": {
       "model_id": "3dcd35e84d5b45d68abcd0aea012285e",
       "version_major": 2,
       "version_minor": 0
      },
      "text/plain": [
       "<LAMBDA> DONE:   0%|          | 0/8181 [00:00<?, ?it/s]"
      ]
     },
     "metadata": {},
     "output_type": "display_data"
    },
    {
     "data": {
      "application/vnd.jupyter.widget-view+json": {
       "model_id": "c66405cb55584a77a9836551accefb35",
       "version_major": 2,
       "version_minor": 0
      },
      "text/plain": [
       "<LAMBDA> DONE:   0%|          | 0/8181 [00:00<?, ?it/s]"
      ]
     },
     "metadata": {},
     "output_type": "display_data"
    },
    {
     "data": {
      "application/vnd.jupyter.widget-view+json": {
       "model_id": "83020f7e04ee44ab85ef413898f62428",
       "version_major": 2,
       "version_minor": 0
      },
      "text/plain": [
       "<LAMBDA> DONE:   0%|          | 0/87 [00:00<?, ?it/s]"
      ]
     },
     "metadata": {},
     "output_type": "display_data"
    },
    {
     "data": {
      "application/vnd.jupyter.widget-view+json": {
       "model_id": "f688120aebed418882027ae8c56f710e",
       "version_major": 2,
       "version_minor": 0
      },
      "text/plain": [
       "<LAMBDA> DONE:   0%|          | 0/87 [00:00<?, ?it/s]"
      ]
     },
     "metadata": {},
     "output_type": "display_data"
    },
    {
     "data": {
      "application/vnd.jupyter.widget-view+json": {
       "model_id": "045a50c50e3d473f8bc510d0bb1e1a7e",
       "version_major": 2,
       "version_minor": 0
      },
      "text/plain": [
       "<LAMBDA> DONE:   0%|          | 0/87 [00:00<?, ?it/s]"
      ]
     },
     "metadata": {},
     "output_type": "display_data"
    },
    {
     "data": {
      "application/vnd.jupyter.widget-view+json": {
       "model_id": "3d23ec169a954a84a68dd498bb5422ae",
       "version_major": 2,
       "version_minor": 0
      },
      "text/plain": [
       "<LAMBDA> DONE:   0%|          | 0/102 [00:00<?, ?it/s]"
      ]
     },
     "metadata": {},
     "output_type": "display_data"
    },
    {
     "data": {
      "application/vnd.jupyter.widget-view+json": {
       "model_id": "9324f633c1b440f2bee57df2c99f0d41",
       "version_major": 2,
       "version_minor": 0
      },
      "text/plain": [
       "<LAMBDA> DONE:   0%|          | 0/102 [00:00<?, ?it/s]"
      ]
     },
     "metadata": {},
     "output_type": "display_data"
    },
    {
     "data": {
      "application/vnd.jupyter.widget-view+json": {
       "model_id": "c43a8a2aa0d648dfb513ef6bca4df518",
       "version_major": 2,
       "version_minor": 0
      },
      "text/plain": [
       "<LAMBDA> DONE:   0%|          | 0/102 [00:00<?, ?it/s]"
      ]
     },
     "metadata": {},
     "output_type": "display_data"
    },
    {
     "data": {
      "application/vnd.jupyter.widget-view+json": {
       "model_id": "4dc758f38f844627961918792936d727",
       "version_major": 2,
       "version_minor": 0
      },
      "text/plain": [
       "<LAMBDA> DONE:   0%|          | 0/6 [00:00<?, ?it/s]"
      ]
     },
     "metadata": {},
     "output_type": "display_data"
    },
    {
     "data": {
      "application/vnd.jupyter.widget-view+json": {
       "model_id": "952eafe687724716aedb5488b9dcdfb0",
       "version_major": 2,
       "version_minor": 0
      },
      "text/plain": [
       "<LAMBDA> DONE:   0%|          | 0/6 [00:00<?, ?it/s]"
      ]
     },
     "metadata": {},
     "output_type": "display_data"
    },
    {
     "data": {
      "application/vnd.jupyter.widget-view+json": {
       "model_id": "b3f5c0ee1a7d4711bc52cf56fdbfd346",
       "version_major": 2,
       "version_minor": 0
      },
      "text/plain": [
       "<LAMBDA> DONE:   0%|          | 0/6 [00:00<?, ?it/s]"
      ]
     },
     "metadata": {},
     "output_type": "display_data"
    },
    {
     "data": {
      "application/vnd.jupyter.widget-view+json": {
       "model_id": "51bc5cc385a04dcab4fe06dc2e0ca8c3",
       "version_major": 2,
       "version_minor": 0
      },
      "text/plain": [
       "<LAMBDA> DONE:   0%|          | 0/1037 [00:00<?, ?it/s]"
      ]
     },
     "metadata": {},
     "output_type": "display_data"
    },
    {
     "data": {
      "application/vnd.jupyter.widget-view+json": {
       "model_id": "59a4532f046341a9a3576ef77c1ac904",
       "version_major": 2,
       "version_minor": 0
      },
      "text/plain": [
       "<LAMBDA> DONE:   0%|          | 0/1037 [00:00<?, ?it/s]"
      ]
     },
     "metadata": {},
     "output_type": "display_data"
    },
    {
     "data": {
      "application/vnd.jupyter.widget-view+json": {
       "model_id": "69f164b89e574080806d7df054154fb9",
       "version_major": 2,
       "version_minor": 0
      },
      "text/plain": [
       "<LAMBDA> DONE:   0%|          | 0/1037 [00:00<?, ?it/s]"
      ]
     },
     "metadata": {},
     "output_type": "display_data"
    },
    {
     "data": {
      "application/vnd.jupyter.widget-view+json": {
       "model_id": "f74db39dfa4b40218647254db1e3a7cc",
       "version_major": 2,
       "version_minor": 0
      },
      "text/plain": [
       "<LAMBDA> DONE:   0%|          | 0/235 [00:00<?, ?it/s]"
      ]
     },
     "metadata": {},
     "output_type": "display_data"
    },
    {
     "data": {
      "application/vnd.jupyter.widget-view+json": {
       "model_id": "03138c59cb544964b626da28f23079e4",
       "version_major": 2,
       "version_minor": 0
      },
      "text/plain": [
       "<LAMBDA> DONE:   0%|          | 0/235 [00:00<?, ?it/s]"
      ]
     },
     "metadata": {},
     "output_type": "display_data"
    },
    {
     "data": {
      "application/vnd.jupyter.widget-view+json": {
       "model_id": "d22441f2e3944cabaeae366385349b87",
       "version_major": 2,
       "version_minor": 0
      },
      "text/plain": [
       "<LAMBDA> DONE:   0%|          | 0/235 [00:00<?, ?it/s]"
      ]
     },
     "metadata": {},
     "output_type": "display_data"
    },
    {
     "data": {
      "application/vnd.jupyter.widget-view+json": {
       "model_id": "a31f353da7814024863a0baa852c2639",
       "version_major": 2,
       "version_minor": 0
      },
      "text/plain": [
       "<LAMBDA> DONE:   0%|          | 0/202 [00:00<?, ?it/s]"
      ]
     },
     "metadata": {},
     "output_type": "display_data"
    },
    {
     "data": {
      "application/vnd.jupyter.widget-view+json": {
       "model_id": "9364df0612344284b4484a05db00f950",
       "version_major": 2,
       "version_minor": 0
      },
      "text/plain": [
       "<LAMBDA> DONE:   0%|          | 0/202 [00:00<?, ?it/s]"
      ]
     },
     "metadata": {},
     "output_type": "display_data"
    },
    {
     "data": {
      "application/vnd.jupyter.widget-view+json": {
       "model_id": "274b136116084df9ade661979650747d",
       "version_major": 2,
       "version_minor": 0
      },
      "text/plain": [
       "<LAMBDA> DONE:   0%|          | 0/202 [00:00<?, ?it/s]"
      ]
     },
     "metadata": {},
     "output_type": "display_data"
    },
    {
     "name": "stderr",
     "output_type": "stream",
     "text": [
      "/tmp/ipykernel_3805226/2830027787.py:60: FutureWarning: The behavior of DataFrame concatenation with empty or all-NA entries is deprecated. In a future version, this will no longer exclude empty or all-NA columns when determining the result dtypes. To retain the old behavior, exclude the relevant entries before the concat operation.\n",
      "  pd.concat(tmp).to_hdf(f'{RES_PATH}/{key}.h5', sp, complevel=9, complib='zlib')\n",
      "/tmp/ipykernel_3805226/2830027787.py:60: PerformanceWarning: \n",
      "your performance may suffer as PyTables will pickle object types that it cannot\n",
      "map directly to c-types [inferred_type->mixed,key->block2_values] [items->Index(['sp_tree_tail', 'sp_tree_head', 'ldo_category', 'mdo_category',\n",
      "       'species', 'ldo_gene', 'mdo_gene', 'outgroup_species', 'out_gene'],\n",
      "      dtype='object')]\n",
      "\n",
      "  pd.concat(tmp).to_hdf(f'{RES_PATH}/{key}.h5', sp, complevel=9, complib='zlib')\n"
     ]
    },
    {
     "data": {
      "application/vnd.jupyter.widget-view+json": {
       "model_id": "479d7a87b40c4e9aaf774bfd4949fabb",
       "version_major": 2,
       "version_minor": 0
      },
      "text/plain": [
       "<LAMBDA> DONE:   0%|          | 0/721 [00:00<?, ?it/s]"
      ]
     },
     "metadata": {},
     "output_type": "display_data"
    },
    {
     "data": {
      "application/vnd.jupyter.widget-view+json": {
       "model_id": "9ef594b18dff455d9b9f9894a620167b",
       "version_major": 2,
       "version_minor": 0
      },
      "text/plain": [
       "<LAMBDA> DONE:   0%|          | 0/721 [00:00<?, ?it/s]"
      ]
     },
     "metadata": {},
     "output_type": "display_data"
    },
    {
     "data": {
      "application/vnd.jupyter.widget-view+json": {
       "model_id": "3d5069bf9f7945ec9275c40002969b05",
       "version_major": 2,
       "version_minor": 0
      },
      "text/plain": [
       "<LAMBDA> DONE:   0%|          | 0/721 [00:00<?, ?it/s]"
      ]
     },
     "metadata": {},
     "output_type": "display_data"
    },
    {
     "data": {
      "application/vnd.jupyter.widget-view+json": {
       "model_id": "fe21ec09d854419c9ac9ec3d812e796c",
       "version_major": 2,
       "version_minor": 0
      },
      "text/plain": [
       "<LAMBDA> DONE:   0%|          | 0/152 [00:00<?, ?it/s]"
      ]
     },
     "metadata": {},
     "output_type": "display_data"
    },
    {
     "data": {
      "application/vnd.jupyter.widget-view+json": {
       "model_id": "1e10355b1c7d4425b8666bcacb0027eb",
       "version_major": 2,
       "version_minor": 0
      },
      "text/plain": [
       "<LAMBDA> DONE:   0%|          | 0/152 [00:00<?, ?it/s]"
      ]
     },
     "metadata": {},
     "output_type": "display_data"
    },
    {
     "data": {
      "application/vnd.jupyter.widget-view+json": {
       "model_id": "a8c678491a3f469098609434244a301e",
       "version_major": 2,
       "version_minor": 0
      },
      "text/plain": [
       "<LAMBDA> DONE:   0%|          | 0/152 [00:00<?, ?it/s]"
      ]
     },
     "metadata": {},
     "output_type": "display_data"
    },
    {
     "data": {
      "application/vnd.jupyter.widget-view+json": {
       "model_id": "9ec966cc99034853a6ba305b4e76dc17",
       "version_major": 2,
       "version_minor": 0
      },
      "text/plain": [
       "<LAMBDA> DONE:   0%|          | 0/147 [00:00<?, ?it/s]"
      ]
     },
     "metadata": {},
     "output_type": "display_data"
    },
    {
     "data": {
      "application/vnd.jupyter.widget-view+json": {
       "model_id": "ce49a42f55fe4044ad64dc03180419f1",
       "version_major": 2,
       "version_minor": 0
      },
      "text/plain": [
       "<LAMBDA> DONE:   0%|          | 0/147 [00:00<?, ?it/s]"
      ]
     },
     "metadata": {},
     "output_type": "display_data"
    },
    {
     "data": {
      "application/vnd.jupyter.widget-view+json": {
       "model_id": "b16e0a9385494c8db1239f0daec9b96f",
       "version_major": 2,
       "version_minor": 0
      },
      "text/plain": [
       "<LAMBDA> DONE:   0%|          | 0/147 [00:00<?, ?it/s]"
      ]
     },
     "metadata": {},
     "output_type": "display_data"
    },
    {
     "data": {
      "application/vnd.jupyter.widget-view+json": {
       "model_id": "9fa57af19342418f879271cfc39fd905",
       "version_major": 2,
       "version_minor": 0
      },
      "text/plain": [
       "<LAMBDA> DONE:   0%|          | 0/162 [00:00<?, ?it/s]"
      ]
     },
     "metadata": {},
     "output_type": "display_data"
    },
    {
     "data": {
      "application/vnd.jupyter.widget-view+json": {
       "model_id": "1b0bd91028d34a6e92f8aae568f79bf0",
       "version_major": 2,
       "version_minor": 0
      },
      "text/plain": [
       "<LAMBDA> DONE:   0%|          | 0/162 [00:00<?, ?it/s]"
      ]
     },
     "metadata": {},
     "output_type": "display_data"
    },
    {
     "data": {
      "application/vnd.jupyter.widget-view+json": {
       "model_id": "b310895c69144f29a676cb75ef963cb3",
       "version_major": 2,
       "version_minor": 0
      },
      "text/plain": [
       "<LAMBDA> DONE:   0%|          | 0/162 [00:00<?, ?it/s]"
      ]
     },
     "metadata": {},
     "output_type": "display_data"
    },
    {
     "data": {
      "application/vnd.jupyter.widget-view+json": {
       "model_id": "c0bb6006a04c480daa405c547fe8dec0",
       "version_major": 2,
       "version_minor": 0
      },
      "text/plain": [
       "<LAMBDA> DONE:   0%|          | 0/1417 [00:00<?, ?it/s]"
      ]
     },
     "metadata": {},
     "output_type": "display_data"
    },
    {
     "data": {
      "application/vnd.jupyter.widget-view+json": {
       "model_id": "e1da0421f2bb44d7b1a1af50c94e3ad3",
       "version_major": 2,
       "version_minor": 0
      },
      "text/plain": [
       "<LAMBDA> DONE:   0%|          | 0/1417 [00:00<?, ?it/s]"
      ]
     },
     "metadata": {},
     "output_type": "display_data"
    },
    {
     "data": {
      "application/vnd.jupyter.widget-view+json": {
       "model_id": "09b2d4da66f9428ebb93d4dd109a445c",
       "version_major": 2,
       "version_minor": 0
      },
      "text/plain": [
       "<LAMBDA> DONE:   0%|          | 0/1417 [00:00<?, ?it/s]"
      ]
     },
     "metadata": {},
     "output_type": "display_data"
    },
    {
     "data": {
      "application/vnd.jupyter.widget-view+json": {
       "model_id": "fdf2d1fe3b56491faf6d380451ea863e",
       "version_major": 2,
       "version_minor": 0
      },
      "text/plain": [
       "<LAMBDA> DONE:   0%|          | 0/367 [00:00<?, ?it/s]"
      ]
     },
     "metadata": {},
     "output_type": "display_data"
    },
    {
     "data": {
      "application/vnd.jupyter.widget-view+json": {
       "model_id": "39bb226d806c4d9a84648d9a522609e1",
       "version_major": 2,
       "version_minor": 0
      },
      "text/plain": [
       "<LAMBDA> DONE:   0%|          | 0/367 [00:00<?, ?it/s]"
      ]
     },
     "metadata": {},
     "output_type": "display_data"
    },
    {
     "data": {
      "application/vnd.jupyter.widget-view+json": {
       "model_id": "6711fe7b57e04f4f9107216d360e6386",
       "version_major": 2,
       "version_minor": 0
      },
      "text/plain": [
       "<LAMBDA> DONE:   0%|          | 0/367 [00:00<?, ?it/s]"
      ]
     },
     "metadata": {},
     "output_type": "display_data"
    },
    {
     "data": {
      "application/vnd.jupyter.widget-view+json": {
       "model_id": "96c6cbf0d8b14c59870d220b3742bb37",
       "version_major": 2,
       "version_minor": 0
      },
      "text/plain": [
       "<LAMBDA> DONE:   0%|          | 0/4436 [00:00<?, ?it/s]"
      ]
     },
     "metadata": {},
     "output_type": "display_data"
    },
    {
     "data": {
      "application/vnd.jupyter.widget-view+json": {
       "model_id": "555af522926f47adb24d5f036c83c75a",
       "version_major": 2,
       "version_minor": 0
      },
      "text/plain": [
       "<LAMBDA> DONE:   0%|          | 0/4436 [00:00<?, ?it/s]"
      ]
     },
     "metadata": {},
     "output_type": "display_data"
    },
    {
     "data": {
      "application/vnd.jupyter.widget-view+json": {
       "model_id": "315665bf63584e188600173900947606",
       "version_major": 2,
       "version_minor": 0
      },
      "text/plain": [
       "<LAMBDA> DONE:   0%|          | 0/4436 [00:00<?, ?it/s]"
      ]
     },
     "metadata": {},
     "output_type": "display_data"
    },
    {
     "data": {
      "application/vnd.jupyter.widget-view+json": {
       "model_id": "3a6e3518c25d4cfb8a7675bb71e462ab",
       "version_major": 2,
       "version_minor": 0
      },
      "text/plain": [
       "<LAMBDA> DONE:   0%|          | 0/22 [00:00<?, ?it/s]"
      ]
     },
     "metadata": {},
     "output_type": "display_data"
    },
    {
     "data": {
      "application/vnd.jupyter.widget-view+json": {
       "model_id": "d16b376368f2490e8803c78fba88fd27",
       "version_major": 2,
       "version_minor": 0
      },
      "text/plain": [
       "<LAMBDA> DONE:   0%|          | 0/22 [00:00<?, ?it/s]"
      ]
     },
     "metadata": {},
     "output_type": "display_data"
    },
    {
     "data": {
      "application/vnd.jupyter.widget-view+json": {
       "model_id": "a20dea2abe134e98b220806b42a0de3c",
       "version_major": 2,
       "version_minor": 0
      },
      "text/plain": [
       "<LAMBDA> DONE:   0%|          | 0/22 [00:00<?, ?it/s]"
      ]
     },
     "metadata": {},
     "output_type": "display_data"
    },
    {
     "name": "stderr",
     "output_type": "stream",
     "text": [
      "/tmp/ipykernel_3805226/2830027787.py:60: FutureWarning: The behavior of DataFrame concatenation with empty or all-NA entries is deprecated. In a future version, this will no longer exclude empty or all-NA columns when determining the result dtypes. To retain the old behavior, exclude the relevant entries before the concat operation.\n",
      "  pd.concat(tmp).to_hdf(f'{RES_PATH}/{key}.h5', sp, complevel=9, complib='zlib')\n",
      "/tmp/ipykernel_3805226/2830027787.py:60: PerformanceWarning: \n",
      "your performance may suffer as PyTables will pickle object types that it cannot\n",
      "map directly to c-types [inferred_type->mixed,key->block2_values] [items->Index(['sp_tree_tail', 'sp_tree_head', 'ldo_category', 'mdo_category',\n",
      "       'species', 'ldo_gene', 'mdo_gene', 'outgroup_species', 'out_gene'],\n",
      "      dtype='object')]\n",
      "\n",
      "  pd.concat(tmp).to_hdf(f'{RES_PATH}/{key}.h5', sp, complevel=9, complib='zlib')\n"
     ]
    },
    {
     "data": {
      "application/vnd.jupyter.widget-view+json": {
       "model_id": "b02ae4c9f7cf4294814cf7d16c129b8c",
       "version_major": 2,
       "version_minor": 0
      },
      "text/plain": [
       "<LAMBDA> DONE:   0%|          | 0/721 [00:00<?, ?it/s]"
      ]
     },
     "metadata": {},
     "output_type": "display_data"
    },
    {
     "data": {
      "application/vnd.jupyter.widget-view+json": {
       "model_id": "983c592f45a34d3d8cccec54b727f236",
       "version_major": 2,
       "version_minor": 0
      },
      "text/plain": [
       "<LAMBDA> DONE:   0%|          | 0/721 [00:00<?, ?it/s]"
      ]
     },
     "metadata": {},
     "output_type": "display_data"
    },
    {
     "data": {
      "application/vnd.jupyter.widget-view+json": {
       "model_id": "a1a5705481fa4f44b96ba04e04b06f9b",
       "version_major": 2,
       "version_minor": 0
      },
      "text/plain": [
       "<LAMBDA> DONE:   0%|          | 0/721 [00:00<?, ?it/s]"
      ]
     },
     "metadata": {},
     "output_type": "display_data"
    },
    {
     "data": {
      "application/vnd.jupyter.widget-view+json": {
       "model_id": "817eef3f358d481b84eabea751fe1439",
       "version_major": 2,
       "version_minor": 0
      },
      "text/plain": [
       "<LAMBDA> DONE:   0%|          | 0/152 [00:00<?, ?it/s]"
      ]
     },
     "metadata": {},
     "output_type": "display_data"
    },
    {
     "data": {
      "application/vnd.jupyter.widget-view+json": {
       "model_id": "d5dd35b3394246c89d0b248e9b46e656",
       "version_major": 2,
       "version_minor": 0
      },
      "text/plain": [
       "<LAMBDA> DONE:   0%|          | 0/152 [00:00<?, ?it/s]"
      ]
     },
     "metadata": {},
     "output_type": "display_data"
    },
    {
     "data": {
      "application/vnd.jupyter.widget-view+json": {
       "model_id": "f4aa2cdb8c0a41098a547dbe227aa092",
       "version_major": 2,
       "version_minor": 0
      },
      "text/plain": [
       "<LAMBDA> DONE:   0%|          | 0/152 [00:00<?, ?it/s]"
      ]
     },
     "metadata": {},
     "output_type": "display_data"
    },
    {
     "data": {
      "application/vnd.jupyter.widget-view+json": {
       "model_id": "d63b377bd4ac47a293c0c8a662e8ef2e",
       "version_major": 2,
       "version_minor": 0
      },
      "text/plain": [
       "<LAMBDA> DONE:   0%|          | 0/162 [00:00<?, ?it/s]"
      ]
     },
     "metadata": {},
     "output_type": "display_data"
    },
    {
     "data": {
      "application/vnd.jupyter.widget-view+json": {
       "model_id": "0aeb4893c1434735a20a770f01db7b81",
       "version_major": 2,
       "version_minor": 0
      },
      "text/plain": [
       "<LAMBDA> DONE:   0%|          | 0/162 [00:00<?, ?it/s]"
      ]
     },
     "metadata": {},
     "output_type": "display_data"
    },
    {
     "data": {
      "application/vnd.jupyter.widget-view+json": {
       "model_id": "60667a78d35a4414a120c4dff36e28e4",
       "version_major": 2,
       "version_minor": 0
      },
      "text/plain": [
       "<LAMBDA> DONE:   0%|          | 0/162 [00:00<?, ?it/s]"
      ]
     },
     "metadata": {},
     "output_type": "display_data"
    },
    {
     "data": {
      "application/vnd.jupyter.widget-view+json": {
       "model_id": "43fe8c32cb2041489038d2e6378329fc",
       "version_major": 2,
       "version_minor": 0
      },
      "text/plain": [
       "<LAMBDA> DONE:   0%|          | 0/1417 [00:00<?, ?it/s]"
      ]
     },
     "metadata": {},
     "output_type": "display_data"
    },
    {
     "data": {
      "application/vnd.jupyter.widget-view+json": {
       "model_id": "1f124a32c43d48b7a60bfdf1b4545512",
       "version_major": 2,
       "version_minor": 0
      },
      "text/plain": [
       "<LAMBDA> DONE:   0%|          | 0/1417 [00:00<?, ?it/s]"
      ]
     },
     "metadata": {},
     "output_type": "display_data"
    },
    {
     "data": {
      "application/vnd.jupyter.widget-view+json": {
       "model_id": "c55b394239a54345af089e91d3faf449",
       "version_major": 2,
       "version_minor": 0
      },
      "text/plain": [
       "<LAMBDA> DONE:   0%|          | 0/1417 [00:00<?, ?it/s]"
      ]
     },
     "metadata": {},
     "output_type": "display_data"
    },
    {
     "data": {
      "application/vnd.jupyter.widget-view+json": {
       "model_id": "4f52617d95404911bd38f9e0115e8e56",
       "version_major": 2,
       "version_minor": 0
      },
      "text/plain": [
       "<LAMBDA> DONE:   0%|          | 0/367 [00:00<?, ?it/s]"
      ]
     },
     "metadata": {},
     "output_type": "display_data"
    },
    {
     "data": {
      "application/vnd.jupyter.widget-view+json": {
       "model_id": "15c324964078461c99aa25957a110139",
       "version_major": 2,
       "version_minor": 0
      },
      "text/plain": [
       "<LAMBDA> DONE:   0%|          | 0/367 [00:00<?, ?it/s]"
      ]
     },
     "metadata": {},
     "output_type": "display_data"
    },
    {
     "data": {
      "application/vnd.jupyter.widget-view+json": {
       "model_id": "3cc223beab634134a5eae34aa1e38514",
       "version_major": 2,
       "version_minor": 0
      },
      "text/plain": [
       "<LAMBDA> DONE:   0%|          | 0/367 [00:00<?, ?it/s]"
      ]
     },
     "metadata": {},
     "output_type": "display_data"
    },
    {
     "data": {
      "application/vnd.jupyter.widget-view+json": {
       "model_id": "61e6e298a7414c3bb9beddbb398d98ab",
       "version_major": 2,
       "version_minor": 0
      },
      "text/plain": [
       "<LAMBDA> DONE:   0%|          | 0/4436 [00:00<?, ?it/s]"
      ]
     },
     "metadata": {},
     "output_type": "display_data"
    },
    {
     "data": {
      "application/vnd.jupyter.widget-view+json": {
       "model_id": "dba20df5f59c453db59a1f1eebed8966",
       "version_major": 2,
       "version_minor": 0
      },
      "text/plain": [
       "<LAMBDA> DONE:   0%|          | 0/4436 [00:00<?, ?it/s]"
      ]
     },
     "metadata": {},
     "output_type": "display_data"
    },
    {
     "data": {
      "application/vnd.jupyter.widget-view+json": {
       "model_id": "a23933c154ff48c2935c7620ab12ea5f",
       "version_major": 2,
       "version_minor": 0
      },
      "text/plain": [
       "<LAMBDA> DONE:   0%|          | 0/4436 [00:00<?, ?it/s]"
      ]
     },
     "metadata": {},
     "output_type": "display_data"
    },
    {
     "data": {
      "application/vnd.jupyter.widget-view+json": {
       "model_id": "eca8529ebc1b4222a410ec786a869ba8",
       "version_major": 2,
       "version_minor": 0
      },
      "text/plain": [
       "<LAMBDA> DONE:   0%|          | 0/22 [00:00<?, ?it/s]"
      ]
     },
     "metadata": {},
     "output_type": "display_data"
    },
    {
     "data": {
      "application/vnd.jupyter.widget-view+json": {
       "model_id": "1f1a7512c4f04ea4ac808bc1222fb20a",
       "version_major": 2,
       "version_minor": 0
      },
      "text/plain": [
       "<LAMBDA> DONE:   0%|          | 0/22 [00:00<?, ?it/s]"
      ]
     },
     "metadata": {},
     "output_type": "display_data"
    },
    {
     "data": {
      "application/vnd.jupyter.widget-view+json": {
       "model_id": "6f07a99465ee4bada1f944e1cf6a32d3",
       "version_major": 2,
       "version_minor": 0
      },
      "text/plain": [
       "<LAMBDA> DONE:   0%|          | 0/22 [00:00<?, ?it/s]"
      ]
     },
     "metadata": {},
     "output_type": "display_data"
    },
    {
     "name": "stderr",
     "output_type": "stream",
     "text": [
      "/tmp/ipykernel_3805226/2830027787.py:60: FutureWarning: The behavior of DataFrame concatenation with empty or all-NA entries is deprecated. In a future version, this will no longer exclude empty or all-NA columns when determining the result dtypes. To retain the old behavior, exclude the relevant entries before the concat operation.\n",
      "  pd.concat(tmp).to_hdf(f'{RES_PATH}/{key}.h5', sp, complevel=9, complib='zlib')\n",
      "/tmp/ipykernel_3805226/2830027787.py:60: PerformanceWarning: \n",
      "your performance may suffer as PyTables will pickle object types that it cannot\n",
      "map directly to c-types [inferred_type->mixed,key->block2_values] [items->Index(['sp_tree_tail', 'sp_tree_head', 'ldo_category', 'mdo_category',\n",
      "       'species', 'ldo_gene', 'mdo_gene', 'outgroup_species', 'out_gene'],\n",
      "      dtype='object')]\n",
      "\n",
      "  pd.concat(tmp).to_hdf(f'{RES_PATH}/{key}.h5', sp, complevel=9, complib='zlib')\n"
     ]
    },
    {
     "data": {
      "application/vnd.jupyter.widget-view+json": {
       "model_id": "0de7fc8ace9f4be78bea85eabf919e5e",
       "version_major": 2,
       "version_minor": 0
      },
      "text/plain": [
       "<LAMBDA> DONE:   0%|          | 0/68 [00:00<?, ?it/s]"
      ]
     },
     "metadata": {},
     "output_type": "display_data"
    },
    {
     "data": {
      "application/vnd.jupyter.widget-view+json": {
       "model_id": "88670d6c316f4212948fefa0943089bc",
       "version_major": 2,
       "version_minor": 0
      },
      "text/plain": [
       "<LAMBDA> DONE:   0%|          | 0/68 [00:00<?, ?it/s]"
      ]
     },
     "metadata": {},
     "output_type": "display_data"
    },
    {
     "data": {
      "application/vnd.jupyter.widget-view+json": {
       "model_id": "9b41c9805ef94b75997c62ca33be1ce0",
       "version_major": 2,
       "version_minor": 0
      },
      "text/plain": [
       "<LAMBDA> DONE:   0%|          | 0/68 [00:00<?, ?it/s]"
      ]
     },
     "metadata": {},
     "output_type": "display_data"
    },
    {
     "data": {
      "application/vnd.jupyter.widget-view+json": {
       "model_id": "c20bf47aa4cd4854bab254a3aa3116c5",
       "version_major": 2,
       "version_minor": 0
      },
      "text/plain": [
       "<LAMBDA> DONE:   0%|          | 0/237 [00:00<?, ?it/s]"
      ]
     },
     "metadata": {},
     "output_type": "display_data"
    },
    {
     "data": {
      "application/vnd.jupyter.widget-view+json": {
       "model_id": "845bda9b234f4d9b95ecc86245a9044a",
       "version_major": 2,
       "version_minor": 0
      },
      "text/plain": [
       "<LAMBDA> DONE:   0%|          | 0/237 [00:00<?, ?it/s]"
      ]
     },
     "metadata": {},
     "output_type": "display_data"
    },
    {
     "data": {
      "application/vnd.jupyter.widget-view+json": {
       "model_id": "7b124b6cc9ac4bc2b84e9d3a258ebbc8",
       "version_major": 2,
       "version_minor": 0
      },
      "text/plain": [
       "<LAMBDA> DONE:   0%|          | 0/237 [00:00<?, ?it/s]"
      ]
     },
     "metadata": {},
     "output_type": "display_data"
    },
    {
     "data": {
      "application/vnd.jupyter.widget-view+json": {
       "model_id": "609e4b90d4474242890f87dfb2892547",
       "version_major": 2,
       "version_minor": 0
      },
      "text/plain": [
       "<LAMBDA> DONE:   0%|          | 0/44 [00:00<?, ?it/s]"
      ]
     },
     "metadata": {},
     "output_type": "display_data"
    },
    {
     "data": {
      "application/vnd.jupyter.widget-view+json": {
       "model_id": "e5bc1a6aa7514721bc2aa61e5bcbd242",
       "version_major": 2,
       "version_minor": 0
      },
      "text/plain": [
       "<LAMBDA> DONE:   0%|          | 0/44 [00:00<?, ?it/s]"
      ]
     },
     "metadata": {},
     "output_type": "display_data"
    },
    {
     "data": {
      "application/vnd.jupyter.widget-view+json": {
       "model_id": "191025bef0af4eb696e7d5705c97237c",
       "version_major": 2,
       "version_minor": 0
      },
      "text/plain": [
       "<LAMBDA> DONE:   0%|          | 0/44 [00:00<?, ?it/s]"
      ]
     },
     "metadata": {},
     "output_type": "display_data"
    },
    {
     "name": "stderr",
     "output_type": "stream",
     "text": [
      "/tmp/ipykernel_3805226/2830027787.py:60: PerformanceWarning: \n",
      "your performance may suffer as PyTables will pickle object types that it cannot\n",
      "map directly to c-types [inferred_type->mixed,key->block2_values] [items->Index(['sp_tree_tail', 'sp_tree_head', 'ldo_category', 'mdo_category',\n",
      "       'species', 'ldo_gene', 'mdo_gene', 'outgroup_species', 'out_gene'],\n",
      "      dtype='object')]\n",
      "\n",
      "  pd.concat(tmp).to_hdf(f'{RES_PATH}/{key}.h5', sp, complevel=9, complib='zlib')\n"
     ]
    },
    {
     "data": {
      "application/vnd.jupyter.widget-view+json": {
       "model_id": "4205c78eae0f4d8696cdbdad654c91cc",
       "version_major": 2,
       "version_minor": 0
      },
      "text/plain": [
       "<LAMBDA> DONE:   0%|          | 0/68 [00:00<?, ?it/s]"
      ]
     },
     "metadata": {},
     "output_type": "display_data"
    },
    {
     "data": {
      "application/vnd.jupyter.widget-view+json": {
       "model_id": "fe3aa6fb49ab48d1bedb0c6841acd7dc",
       "version_major": 2,
       "version_minor": 0
      },
      "text/plain": [
       "<LAMBDA> DONE:   0%|          | 0/68 [00:00<?, ?it/s]"
      ]
     },
     "metadata": {},
     "output_type": "display_data"
    },
    {
     "data": {
      "application/vnd.jupyter.widget-view+json": {
       "model_id": "8eafd76685814456af5a9fe16e5c36bf",
       "version_major": 2,
       "version_minor": 0
      },
      "text/plain": [
       "<LAMBDA> DONE:   0%|          | 0/68 [00:00<?, ?it/s]"
      ]
     },
     "metadata": {},
     "output_type": "display_data"
    },
    {
     "data": {
      "application/vnd.jupyter.widget-view+json": {
       "model_id": "ed17d0fd999948868f4bdf1fb22184cb",
       "version_major": 2,
       "version_minor": 0
      },
      "text/plain": [
       "<LAMBDA> DONE:   0%|          | 0/237 [00:00<?, ?it/s]"
      ]
     },
     "metadata": {},
     "output_type": "display_data"
    },
    {
     "data": {
      "application/vnd.jupyter.widget-view+json": {
       "model_id": "550da52667b94da99541b15f9096a325",
       "version_major": 2,
       "version_minor": 0
      },
      "text/plain": [
       "<LAMBDA> DONE:   0%|          | 0/237 [00:00<?, ?it/s]"
      ]
     },
     "metadata": {},
     "output_type": "display_data"
    },
    {
     "data": {
      "application/vnd.jupyter.widget-view+json": {
       "model_id": "a8963401c1f24f55abf381334a2e76af",
       "version_major": 2,
       "version_minor": 0
      },
      "text/plain": [
       "<LAMBDA> DONE:   0%|          | 0/237 [00:00<?, ?it/s]"
      ]
     },
     "metadata": {},
     "output_type": "display_data"
    },
    {
     "data": {
      "application/vnd.jupyter.widget-view+json": {
       "model_id": "4de950d9c405450694fef637bc5e8b34",
       "version_major": 2,
       "version_minor": 0
      },
      "text/plain": [
       "<LAMBDA> DONE:   0%|          | 0/44 [00:00<?, ?it/s]"
      ]
     },
     "metadata": {},
     "output_type": "display_data"
    },
    {
     "data": {
      "application/vnd.jupyter.widget-view+json": {
       "model_id": "dc0e1a4d1484416985a579528c604357",
       "version_major": 2,
       "version_minor": 0
      },
      "text/plain": [
       "<LAMBDA> DONE:   0%|          | 0/44 [00:00<?, ?it/s]"
      ]
     },
     "metadata": {},
     "output_type": "display_data"
    },
    {
     "data": {
      "application/vnd.jupyter.widget-view+json": {
       "model_id": "028da96334f4438eaced774e436c8e1a",
       "version_major": 2,
       "version_minor": 0
      },
      "text/plain": [
       "<LAMBDA> DONE:   0%|          | 0/44 [00:00<?, ?it/s]"
      ]
     },
     "metadata": {},
     "output_type": "display_data"
    },
    {
     "name": "stderr",
     "output_type": "stream",
     "text": [
      "/tmp/ipykernel_3805226/2830027787.py:60: PerformanceWarning: \n",
      "your performance may suffer as PyTables will pickle object types that it cannot\n",
      "map directly to c-types [inferred_type->mixed,key->block2_values] [items->Index(['sp_tree_tail', 'sp_tree_head', 'ldo_category', 'mdo_category',\n",
      "       'species', 'ldo_gene', 'mdo_gene', 'outgroup_species', 'out_gene'],\n",
      "      dtype='object')]\n",
      "\n",
      "  pd.concat(tmp).to_hdf(f'{RES_PATH}/{key}.h5', sp, complevel=9, complib='zlib')\n"
     ]
    },
    {
     "data": {
      "application/vnd.jupyter.widget-view+json": {
       "model_id": "23a123206bb24ebaa8e5bc30878f1db4",
       "version_major": 2,
       "version_minor": 0
      },
      "text/plain": [
       "<LAMBDA> DONE:   0%|          | 0/68 [00:00<?, ?it/s]"
      ]
     },
     "metadata": {},
     "output_type": "display_data"
    },
    {
     "data": {
      "application/vnd.jupyter.widget-view+json": {
       "model_id": "df5d80c9c6a8460593688766ea633e63",
       "version_major": 2,
       "version_minor": 0
      },
      "text/plain": [
       "<LAMBDA> DONE:   0%|          | 0/68 [00:00<?, ?it/s]"
      ]
     },
     "metadata": {},
     "output_type": "display_data"
    },
    {
     "data": {
      "application/vnd.jupyter.widget-view+json": {
       "model_id": "a10131ea3ef9476c94bf2ce07904cf7d",
       "version_major": 2,
       "version_minor": 0
      },
      "text/plain": [
       "<LAMBDA> DONE:   0%|          | 0/68 [00:00<?, ?it/s]"
      ]
     },
     "metadata": {},
     "output_type": "display_data"
    },
    {
     "data": {
      "application/vnd.jupyter.widget-view+json": {
       "model_id": "2e3b000c3ec94e5fb97d0e998a8061f8",
       "version_major": 2,
       "version_minor": 0
      },
      "text/plain": [
       "<LAMBDA> DONE:   0%|          | 0/237 [00:00<?, ?it/s]"
      ]
     },
     "metadata": {},
     "output_type": "display_data"
    },
    {
     "data": {
      "application/vnd.jupyter.widget-view+json": {
       "model_id": "8d44352218b84669a5e614fb186577ac",
       "version_major": 2,
       "version_minor": 0
      },
      "text/plain": [
       "<LAMBDA> DONE:   0%|          | 0/237 [00:00<?, ?it/s]"
      ]
     },
     "metadata": {},
     "output_type": "display_data"
    },
    {
     "data": {
      "application/vnd.jupyter.widget-view+json": {
       "model_id": "5b630f7863b74911b2b0d6448da11452",
       "version_major": 2,
       "version_minor": 0
      },
      "text/plain": [
       "<LAMBDA> DONE:   0%|          | 0/237 [00:00<?, ?it/s]"
      ]
     },
     "metadata": {},
     "output_type": "display_data"
    },
    {
     "data": {
      "application/vnd.jupyter.widget-view+json": {
       "model_id": "dff7e609f4e24ed3a8609dd866622a15",
       "version_major": 2,
       "version_minor": 0
      },
      "text/plain": [
       "<LAMBDA> DONE:   0%|          | 0/44 [00:00<?, ?it/s]"
      ]
     },
     "metadata": {},
     "output_type": "display_data"
    },
    {
     "data": {
      "application/vnd.jupyter.widget-view+json": {
       "model_id": "90b81a6bc915433784b81b92df9e1a11",
       "version_major": 2,
       "version_minor": 0
      },
      "text/plain": [
       "<LAMBDA> DONE:   0%|          | 0/44 [00:00<?, ?it/s]"
      ]
     },
     "metadata": {},
     "output_type": "display_data"
    },
    {
     "data": {
      "application/vnd.jupyter.widget-view+json": {
       "model_id": "3e5286e2ed8b40ddbe06eb72324070e7",
       "version_major": 2,
       "version_minor": 0
      },
      "text/plain": [
       "<LAMBDA> DONE:   0%|          | 0/44 [00:00<?, ?it/s]"
      ]
     },
     "metadata": {},
     "output_type": "display_data"
    },
    {
     "name": "stderr",
     "output_type": "stream",
     "text": [
      "/tmp/ipykernel_3805226/2830027787.py:60: PerformanceWarning: \n",
      "your performance may suffer as PyTables will pickle object types that it cannot\n",
      "map directly to c-types [inferred_type->mixed,key->block2_values] [items->Index(['sp_tree_tail', 'sp_tree_head', 'ldo_category', 'mdo_category',\n",
      "       'species', 'ldo_gene', 'mdo_gene', 'outgroup_species', 'out_gene'],\n",
      "      dtype='object')]\n",
      "\n",
      "  pd.concat(tmp).to_hdf(f'{RES_PATH}/{key}.h5', sp, complevel=9, complib='zlib')\n"
     ]
    },
    {
     "data": {
      "application/vnd.jupyter.widget-view+json": {
       "model_id": "b267ddc0072541209f5e64b6ffc2b02c",
       "version_major": 2,
       "version_minor": 0
      },
      "text/plain": [
       "<LAMBDA> DONE:   0%|          | 0/809 [00:00<?, ?it/s]"
      ]
     },
     "metadata": {},
     "output_type": "display_data"
    },
    {
     "data": {
      "application/vnd.jupyter.widget-view+json": {
       "model_id": "16a8d987dc5947718870a493bf02124a",
       "version_major": 2,
       "version_minor": 0
      },
      "text/plain": [
       "<LAMBDA> DONE:   0%|          | 0/809 [00:00<?, ?it/s]"
      ]
     },
     "metadata": {},
     "output_type": "display_data"
    },
    {
     "data": {
      "application/vnd.jupyter.widget-view+json": {
       "model_id": "1a2af76b0f2441248a0e9f6c4b25a6c0",
       "version_major": 2,
       "version_minor": 0
      },
      "text/plain": [
       "<LAMBDA> DONE:   0%|          | 0/809 [00:00<?, ?it/s]"
      ]
     },
     "metadata": {},
     "output_type": "display_data"
    },
    {
     "data": {
      "application/vnd.jupyter.widget-view+json": {
       "model_id": "728518427cf547868eec966b9e912668",
       "version_major": 2,
       "version_minor": 0
      },
      "text/plain": [
       "<LAMBDA> DONE:   0%|          | 0/53 [00:00<?, ?it/s]"
      ]
     },
     "metadata": {},
     "output_type": "display_data"
    },
    {
     "data": {
      "application/vnd.jupyter.widget-view+json": {
       "model_id": "bb13b2cbe0fc4bce92a9119ea1136a8b",
       "version_major": 2,
       "version_minor": 0
      },
      "text/plain": [
       "<LAMBDA> DONE:   0%|          | 0/53 [00:00<?, ?it/s]"
      ]
     },
     "metadata": {},
     "output_type": "display_data"
    },
    {
     "data": {
      "application/vnd.jupyter.widget-view+json": {
       "model_id": "1cef37a256c9427dbd8a79e94297f211",
       "version_major": 2,
       "version_minor": 0
      },
      "text/plain": [
       "<LAMBDA> DONE:   0%|          | 0/53 [00:00<?, ?it/s]"
      ]
     },
     "metadata": {},
     "output_type": "display_data"
    },
    {
     "data": {
      "application/vnd.jupyter.widget-view+json": {
       "model_id": "0869768d21c74b098f04f241e18b3dba",
       "version_major": 2,
       "version_minor": 0
      },
      "text/plain": [
       "<LAMBDA> DONE:   0%|          | 0/158 [00:00<?, ?it/s]"
      ]
     },
     "metadata": {},
     "output_type": "display_data"
    },
    {
     "data": {
      "application/vnd.jupyter.widget-view+json": {
       "model_id": "cea6649b6a34473d81ac1c1f09cdd868",
       "version_major": 2,
       "version_minor": 0
      },
      "text/plain": [
       "<LAMBDA> DONE:   0%|          | 0/158 [00:00<?, ?it/s]"
      ]
     },
     "metadata": {},
     "output_type": "display_data"
    },
    {
     "data": {
      "application/vnd.jupyter.widget-view+json": {
       "model_id": "714c10bafa0648edba45020d3d7407a7",
       "version_major": 2,
       "version_minor": 0
      },
      "text/plain": [
       "<LAMBDA> DONE:   0%|          | 0/158 [00:00<?, ?it/s]"
      ]
     },
     "metadata": {},
     "output_type": "display_data"
    },
    {
     "data": {
      "application/vnd.jupyter.widget-view+json": {
       "model_id": "9bb508bde44d4221b7ae93fe267f4dfd",
       "version_major": 2,
       "version_minor": 0
      },
      "text/plain": [
       "<LAMBDA> DONE:   0%|          | 0/147 [00:00<?, ?it/s]"
      ]
     },
     "metadata": {},
     "output_type": "display_data"
    },
    {
     "data": {
      "application/vnd.jupyter.widget-view+json": {
       "model_id": "8967c5b798a04fe7a34a90daf0754c48",
       "version_major": 2,
       "version_minor": 0
      },
      "text/plain": [
       "<LAMBDA> DONE:   0%|          | 0/147 [00:00<?, ?it/s]"
      ]
     },
     "metadata": {},
     "output_type": "display_data"
    },
    {
     "data": {
      "application/vnd.jupyter.widget-view+json": {
       "model_id": "fe31a776717549b38771f0209f1ae102",
       "version_major": 2,
       "version_minor": 0
      },
      "text/plain": [
       "<LAMBDA> DONE:   0%|          | 0/147 [00:00<?, ?it/s]"
      ]
     },
     "metadata": {},
     "output_type": "display_data"
    },
    {
     "data": {
      "application/vnd.jupyter.widget-view+json": {
       "model_id": "e28c77c0de1549349b43e40f935496e5",
       "version_major": 2,
       "version_minor": 0
      },
      "text/plain": [
       "<LAMBDA> DONE:   0%|          | 0/151 [00:00<?, ?it/s]"
      ]
     },
     "metadata": {},
     "output_type": "display_data"
    },
    {
     "data": {
      "application/vnd.jupyter.widget-view+json": {
       "model_id": "26e0b806c9094d649524cb3d11845b02",
       "version_major": 2,
       "version_minor": 0
      },
      "text/plain": [
       "<LAMBDA> DONE:   0%|          | 0/151 [00:00<?, ?it/s]"
      ]
     },
     "metadata": {},
     "output_type": "display_data"
    },
    {
     "data": {
      "application/vnd.jupyter.widget-view+json": {
       "model_id": "6cf5f270ec2947018e0d697bac3ed439",
       "version_major": 2,
       "version_minor": 0
      },
      "text/plain": [
       "<LAMBDA> DONE:   0%|          | 0/151 [00:00<?, ?it/s]"
      ]
     },
     "metadata": {},
     "output_type": "display_data"
    },
    {
     "data": {
      "application/vnd.jupyter.widget-view+json": {
       "model_id": "e8becb1b9b074e299f72851eb2fc82ee",
       "version_major": 2,
       "version_minor": 0
      },
      "text/plain": [
       "<LAMBDA> DONE:   0%|          | 0/41 [00:00<?, ?it/s]"
      ]
     },
     "metadata": {},
     "output_type": "display_data"
    },
    {
     "data": {
      "application/vnd.jupyter.widget-view+json": {
       "model_id": "ee0dabde2ce247eaaf8203be175f081a",
       "version_major": 2,
       "version_minor": 0
      },
      "text/plain": [
       "<LAMBDA> DONE:   0%|          | 0/41 [00:00<?, ?it/s]"
      ]
     },
     "metadata": {},
     "output_type": "display_data"
    },
    {
     "data": {
      "application/vnd.jupyter.widget-view+json": {
       "model_id": "835701cd224e4ae3b28fdafe7db21e1d",
       "version_major": 2,
       "version_minor": 0
      },
      "text/plain": [
       "<LAMBDA> DONE:   0%|          | 0/41 [00:00<?, ?it/s]"
      ]
     },
     "metadata": {},
     "output_type": "display_data"
    },
    {
     "data": {
      "application/vnd.jupyter.widget-view+json": {
       "model_id": "ec8835c19e4b422f8a5246acbddab14f",
       "version_major": 2,
       "version_minor": 0
      },
      "text/plain": [
       "<LAMBDA> DONE:   0%|          | 0/1560 [00:00<?, ?it/s]"
      ]
     },
     "metadata": {},
     "output_type": "display_data"
    },
    {
     "data": {
      "application/vnd.jupyter.widget-view+json": {
       "model_id": "550f2aee28d741bb974f88952278f036",
       "version_major": 2,
       "version_minor": 0
      },
      "text/plain": [
       "<LAMBDA> DONE:   0%|          | 0/1560 [00:00<?, ?it/s]"
      ]
     },
     "metadata": {},
     "output_type": "display_data"
    },
    {
     "data": {
      "application/vnd.jupyter.widget-view+json": {
       "model_id": "09483acda85147229c0af03055b3a5e6",
       "version_major": 2,
       "version_minor": 0
      },
      "text/plain": [
       "<LAMBDA> DONE:   0%|          | 0/1560 [00:00<?, ?it/s]"
      ]
     },
     "metadata": {},
     "output_type": "display_data"
    },
    {
     "data": {
      "application/vnd.jupyter.widget-view+json": {
       "model_id": "3cbce177c1314866982c13c63a6b6eb8",
       "version_major": 2,
       "version_minor": 0
      },
      "text/plain": [
       "<LAMBDA> DONE:   0%|          | 0/310 [00:00<?, ?it/s]"
      ]
     },
     "metadata": {},
     "output_type": "display_data"
    },
    {
     "data": {
      "application/vnd.jupyter.widget-view+json": {
       "model_id": "bd50b29910434dd78a4c9843c98867ea",
       "version_major": 2,
       "version_minor": 0
      },
      "text/plain": [
       "<LAMBDA> DONE:   0%|          | 0/310 [00:00<?, ?it/s]"
      ]
     },
     "metadata": {},
     "output_type": "display_data"
    },
    {
     "data": {
      "application/vnd.jupyter.widget-view+json": {
       "model_id": "945a7722cdf44ce6945b80683a39c4a9",
       "version_major": 2,
       "version_minor": 0
      },
      "text/plain": [
       "<LAMBDA> DONE:   0%|          | 0/310 [00:00<?, ?it/s]"
      ]
     },
     "metadata": {},
     "output_type": "display_data"
    },
    {
     "data": {
      "application/vnd.jupyter.widget-view+json": {
       "model_id": "ef3c1baac6d541e8bbab324c3320ddd1",
       "version_major": 2,
       "version_minor": 0
      },
      "text/plain": [
       "<LAMBDA> DONE:   0%|          | 0/23 [00:00<?, ?it/s]"
      ]
     },
     "metadata": {},
     "output_type": "display_data"
    },
    {
     "data": {
      "application/vnd.jupyter.widget-view+json": {
       "model_id": "1b7b97dca2d64c698724b8c27a698878",
       "version_major": 2,
       "version_minor": 0
      },
      "text/plain": [
       "<LAMBDA> DONE:   0%|          | 0/23 [00:00<?, ?it/s]"
      ]
     },
     "metadata": {},
     "output_type": "display_data"
    },
    {
     "data": {
      "application/vnd.jupyter.widget-view+json": {
       "model_id": "ecf256e3416d4ceb817212f7f83552f1",
       "version_major": 2,
       "version_minor": 0
      },
      "text/plain": [
       "<LAMBDA> DONE:   0%|          | 0/23 [00:00<?, ?it/s]"
      ]
     },
     "metadata": {},
     "output_type": "display_data"
    },
    {
     "data": {
      "application/vnd.jupyter.widget-view+json": {
       "model_id": "ed49542db6f542d9a53051304c1bc79d",
       "version_major": 2,
       "version_minor": 0
      },
      "text/plain": [
       "<LAMBDA> DONE:   0%|          | 0/281 [00:00<?, ?it/s]"
      ]
     },
     "metadata": {},
     "output_type": "display_data"
    },
    {
     "data": {
      "application/vnd.jupyter.widget-view+json": {
       "model_id": "4a57af318b8e47019e04375f21db817a",
       "version_major": 2,
       "version_minor": 0
      },
      "text/plain": [
       "<LAMBDA> DONE:   0%|          | 0/281 [00:00<?, ?it/s]"
      ]
     },
     "metadata": {},
     "output_type": "display_data"
    },
    {
     "data": {
      "application/vnd.jupyter.widget-view+json": {
       "model_id": "c7131bbce33c4f7db840215b5cd9f70a",
       "version_major": 2,
       "version_minor": 0
      },
      "text/plain": [
       "<LAMBDA> DONE:   0%|          | 0/281 [00:00<?, ?it/s]"
      ]
     },
     "metadata": {},
     "output_type": "display_data"
    },
    {
     "name": "stderr",
     "output_type": "stream",
     "text": [
      "/tmp/ipykernel_3805226/2830027787.py:60: FutureWarning: The behavior of DataFrame concatenation with empty or all-NA entries is deprecated. In a future version, this will no longer exclude empty or all-NA columns when determining the result dtypes. To retain the old behavior, exclude the relevant entries before the concat operation.\n",
      "  pd.concat(tmp).to_hdf(f'{RES_PATH}/{key}.h5', sp, complevel=9, complib='zlib')\n",
      "/tmp/ipykernel_3805226/2830027787.py:60: PerformanceWarning: \n",
      "your performance may suffer as PyTables will pickle object types that it cannot\n",
      "map directly to c-types [inferred_type->mixed,key->block2_values] [items->Index(['sp_tree_tail', 'sp_tree_head', 'ldo_category', 'mdo_category',\n",
      "       'species', 'ldo_gene', 'mdo_gene', 'outgroup_species', 'out_gene'],\n",
      "      dtype='object')]\n",
      "\n",
      "  pd.concat(tmp).to_hdf(f'{RES_PATH}/{key}.h5', sp, complevel=9, complib='zlib')\n"
     ]
    },
    {
     "data": {
      "application/vnd.jupyter.widget-view+json": {
       "model_id": "62f8e6924ef847f983c939d6e314c283",
       "version_major": 2,
       "version_minor": 0
      },
      "text/plain": [
       "<LAMBDA> DONE:   0%|          | 0/809 [00:00<?, ?it/s]"
      ]
     },
     "metadata": {},
     "output_type": "display_data"
    },
    {
     "data": {
      "application/vnd.jupyter.widget-view+json": {
       "model_id": "3f9f144e61c34e15bd4f45a3f58cac2b",
       "version_major": 2,
       "version_minor": 0
      },
      "text/plain": [
       "<LAMBDA> DONE:   0%|          | 0/809 [00:00<?, ?it/s]"
      ]
     },
     "metadata": {},
     "output_type": "display_data"
    },
    {
     "data": {
      "application/vnd.jupyter.widget-view+json": {
       "model_id": "8949bec110674ef1bb5607d230136965",
       "version_major": 2,
       "version_minor": 0
      },
      "text/plain": [
       "<LAMBDA> DONE:   0%|          | 0/809 [00:00<?, ?it/s]"
      ]
     },
     "metadata": {},
     "output_type": "display_data"
    },
    {
     "data": {
      "application/vnd.jupyter.widget-view+json": {
       "model_id": "5ecc75f15c2846c7999bbf6debe6f130",
       "version_major": 2,
       "version_minor": 0
      },
      "text/plain": [
       "<LAMBDA> DONE:   0%|          | 0/53 [00:00<?, ?it/s]"
      ]
     },
     "metadata": {},
     "output_type": "display_data"
    },
    {
     "data": {
      "application/vnd.jupyter.widget-view+json": {
       "model_id": "af7266c89f974aa8bfcfe8dca2c98c90",
       "version_major": 2,
       "version_minor": 0
      },
      "text/plain": [
       "<LAMBDA> DONE:   0%|          | 0/53 [00:00<?, ?it/s]"
      ]
     },
     "metadata": {},
     "output_type": "display_data"
    },
    {
     "data": {
      "application/vnd.jupyter.widget-view+json": {
       "model_id": "142cde0fcc5340a7a717202fa5abc112",
       "version_major": 2,
       "version_minor": 0
      },
      "text/plain": [
       "<LAMBDA> DONE:   0%|          | 0/53 [00:00<?, ?it/s]"
      ]
     },
     "metadata": {},
     "output_type": "display_data"
    },
    {
     "data": {
      "application/vnd.jupyter.widget-view+json": {
       "model_id": "601e517e5a0c419084784b68d4a8265c",
       "version_major": 2,
       "version_minor": 0
      },
      "text/plain": [
       "<LAMBDA> DONE:   0%|          | 0/158 [00:00<?, ?it/s]"
      ]
     },
     "metadata": {},
     "output_type": "display_data"
    },
    {
     "data": {
      "application/vnd.jupyter.widget-view+json": {
       "model_id": "185565e201c14f528052bf2f1ee4a081",
       "version_major": 2,
       "version_minor": 0
      },
      "text/plain": [
       "<LAMBDA> DONE:   0%|          | 0/158 [00:00<?, ?it/s]"
      ]
     },
     "metadata": {},
     "output_type": "display_data"
    },
    {
     "data": {
      "application/vnd.jupyter.widget-view+json": {
       "model_id": "b83882e9673c4c9f96df0de69269f91c",
       "version_major": 2,
       "version_minor": 0
      },
      "text/plain": [
       "<LAMBDA> DONE:   0%|          | 0/158 [00:00<?, ?it/s]"
      ]
     },
     "metadata": {},
     "output_type": "display_data"
    },
    {
     "data": {
      "application/vnd.jupyter.widget-view+json": {
       "model_id": "cb2a1d5e5c424b2d89e7e75a9dc416c1",
       "version_major": 2,
       "version_minor": 0
      },
      "text/plain": [
       "<LAMBDA> DONE:   0%|          | 0/151 [00:00<?, ?it/s]"
      ]
     },
     "metadata": {},
     "output_type": "display_data"
    },
    {
     "data": {
      "application/vnd.jupyter.widget-view+json": {
       "model_id": "fe186245633c41babb19cef50b4413b1",
       "version_major": 2,
       "version_minor": 0
      },
      "text/plain": [
       "<LAMBDA> DONE:   0%|          | 0/151 [00:00<?, ?it/s]"
      ]
     },
     "metadata": {},
     "output_type": "display_data"
    },
    {
     "data": {
      "application/vnd.jupyter.widget-view+json": {
       "model_id": "a852391e73394ba39f71658bb091dc45",
       "version_major": 2,
       "version_minor": 0
      },
      "text/plain": [
       "<LAMBDA> DONE:   0%|          | 0/151 [00:00<?, ?it/s]"
      ]
     },
     "metadata": {},
     "output_type": "display_data"
    },
    {
     "data": {
      "application/vnd.jupyter.widget-view+json": {
       "model_id": "812ef56204e74b2d90f0401ae1d4c065",
       "version_major": 2,
       "version_minor": 0
      },
      "text/plain": [
       "<LAMBDA> DONE:   0%|          | 0/41 [00:00<?, ?it/s]"
      ]
     },
     "metadata": {},
     "output_type": "display_data"
    },
    {
     "data": {
      "application/vnd.jupyter.widget-view+json": {
       "model_id": "baa75dff6f604341893af62fe56bd53a",
       "version_major": 2,
       "version_minor": 0
      },
      "text/plain": [
       "<LAMBDA> DONE:   0%|          | 0/41 [00:00<?, ?it/s]"
      ]
     },
     "metadata": {},
     "output_type": "display_data"
    },
    {
     "data": {
      "application/vnd.jupyter.widget-view+json": {
       "model_id": "c28cf2e9125e45f59ca17d97d03ff681",
       "version_major": 2,
       "version_minor": 0
      },
      "text/plain": [
       "<LAMBDA> DONE:   0%|          | 0/41 [00:00<?, ?it/s]"
      ]
     },
     "metadata": {},
     "output_type": "display_data"
    },
    {
     "data": {
      "application/vnd.jupyter.widget-view+json": {
       "model_id": "75e02166230f45dea873d8b03a8b3a90",
       "version_major": 2,
       "version_minor": 0
      },
      "text/plain": [
       "<LAMBDA> DONE:   0%|          | 0/1560 [00:00<?, ?it/s]"
      ]
     },
     "metadata": {},
     "output_type": "display_data"
    },
    {
     "data": {
      "application/vnd.jupyter.widget-view+json": {
       "model_id": "388e3513cd854715857661e797a689c2",
       "version_major": 2,
       "version_minor": 0
      },
      "text/plain": [
       "<LAMBDA> DONE:   0%|          | 0/1560 [00:00<?, ?it/s]"
      ]
     },
     "metadata": {},
     "output_type": "display_data"
    },
    {
     "data": {
      "application/vnd.jupyter.widget-view+json": {
       "model_id": "6ed6a421d6a446d3856c224c8d440658",
       "version_major": 2,
       "version_minor": 0
      },
      "text/plain": [
       "<LAMBDA> DONE:   0%|          | 0/1560 [00:00<?, ?it/s]"
      ]
     },
     "metadata": {},
     "output_type": "display_data"
    },
    {
     "data": {
      "application/vnd.jupyter.widget-view+json": {
       "model_id": "cb6750df41454dd296d395fdce0c4723",
       "version_major": 2,
       "version_minor": 0
      },
      "text/plain": [
       "<LAMBDA> DONE:   0%|          | 0/310 [00:00<?, ?it/s]"
      ]
     },
     "metadata": {},
     "output_type": "display_data"
    },
    {
     "data": {
      "application/vnd.jupyter.widget-view+json": {
       "model_id": "208cff39ceb74834826f2ab242146938",
       "version_major": 2,
       "version_minor": 0
      },
      "text/plain": [
       "<LAMBDA> DONE:   0%|          | 0/310 [00:00<?, ?it/s]"
      ]
     },
     "metadata": {},
     "output_type": "display_data"
    },
    {
     "data": {
      "application/vnd.jupyter.widget-view+json": {
       "model_id": "dde1aadb0f114f7687496aa2ee6000c8",
       "version_major": 2,
       "version_minor": 0
      },
      "text/plain": [
       "<LAMBDA> DONE:   0%|          | 0/310 [00:00<?, ?it/s]"
      ]
     },
     "metadata": {},
     "output_type": "display_data"
    },
    {
     "data": {
      "application/vnd.jupyter.widget-view+json": {
       "model_id": "65425996f135441892284d3ae7e11223",
       "version_major": 2,
       "version_minor": 0
      },
      "text/plain": [
       "<LAMBDA> DONE:   0%|          | 0/23 [00:00<?, ?it/s]"
      ]
     },
     "metadata": {},
     "output_type": "display_data"
    },
    {
     "data": {
      "application/vnd.jupyter.widget-view+json": {
       "model_id": "4fffe59ded404dc3894e90b952d49bcc",
       "version_major": 2,
       "version_minor": 0
      },
      "text/plain": [
       "<LAMBDA> DONE:   0%|          | 0/23 [00:00<?, ?it/s]"
      ]
     },
     "metadata": {},
     "output_type": "display_data"
    },
    {
     "data": {
      "application/vnd.jupyter.widget-view+json": {
       "model_id": "95f4f5c72eca47898336f1f1e518bcf8",
       "version_major": 2,
       "version_minor": 0
      },
      "text/plain": [
       "<LAMBDA> DONE:   0%|          | 0/23 [00:00<?, ?it/s]"
      ]
     },
     "metadata": {},
     "output_type": "display_data"
    },
    {
     "data": {
      "application/vnd.jupyter.widget-view+json": {
       "model_id": "73619a0863514d03a069cd6ba45078fe",
       "version_major": 2,
       "version_minor": 0
      },
      "text/plain": [
       "<LAMBDA> DONE:   0%|          | 0/281 [00:00<?, ?it/s]"
      ]
     },
     "metadata": {},
     "output_type": "display_data"
    },
    {
     "data": {
      "application/vnd.jupyter.widget-view+json": {
       "model_id": "1d6f971bec0f437eb34dde598b5ba5c0",
       "version_major": 2,
       "version_minor": 0
      },
      "text/plain": [
       "<LAMBDA> DONE:   0%|          | 0/281 [00:00<?, ?it/s]"
      ]
     },
     "metadata": {},
     "output_type": "display_data"
    },
    {
     "data": {
      "application/vnd.jupyter.widget-view+json": {
       "model_id": "3065a9c3be66448288a97a819896cdf3",
       "version_major": 2,
       "version_minor": 0
      },
      "text/plain": [
       "<LAMBDA> DONE:   0%|          | 0/281 [00:00<?, ?it/s]"
      ]
     },
     "metadata": {},
     "output_type": "display_data"
    },
    {
     "name": "stderr",
     "output_type": "stream",
     "text": [
      "/tmp/ipykernel_3805226/2830027787.py:60: FutureWarning: The behavior of DataFrame concatenation with empty or all-NA entries is deprecated. In a future version, this will no longer exclude empty or all-NA columns when determining the result dtypes. To retain the old behavior, exclude the relevant entries before the concat operation.\n",
      "  pd.concat(tmp).to_hdf(f'{RES_PATH}/{key}.h5', sp, complevel=9, complib='zlib')\n",
      "/tmp/ipykernel_3805226/2830027787.py:60: PerformanceWarning: \n",
      "your performance may suffer as PyTables will pickle object types that it cannot\n",
      "map directly to c-types [inferred_type->mixed,key->block2_values] [items->Index(['sp_tree_tail', 'sp_tree_head', 'ldo_category', 'mdo_category',\n",
      "       'species', 'ldo_gene', 'mdo_gene', 'outgroup_species', 'out_gene'],\n",
      "      dtype='object')]\n",
      "\n",
      "  pd.concat(tmp).to_hdf(f'{RES_PATH}/{key}.h5', sp, complevel=9, complib='zlib')\n"
     ]
    },
    {
     "data": {
      "application/vnd.jupyter.widget-view+json": {
       "model_id": "63e4a1547c7f4d7f8ddeffd121525629",
       "version_major": 2,
       "version_minor": 0
      },
      "text/plain": [
       "<LAMBDA> DONE:   0%|          | 0/23 [00:00<?, ?it/s]"
      ]
     },
     "metadata": {},
     "output_type": "display_data"
    },
    {
     "data": {
      "application/vnd.jupyter.widget-view+json": {
       "model_id": "6729e961e9a7459880a9be10812d5739",
       "version_major": 2,
       "version_minor": 0
      },
      "text/plain": [
       "<LAMBDA> DONE:   0%|          | 0/23 [00:00<?, ?it/s]"
      ]
     },
     "metadata": {},
     "output_type": "display_data"
    },
    {
     "data": {
      "application/vnd.jupyter.widget-view+json": {
       "model_id": "a3ed9cfd720f4cc98ebbd47478843bf2",
       "version_major": 2,
       "version_minor": 0
      },
      "text/plain": [
       "<LAMBDA> DONE:   0%|          | 0/23 [00:00<?, ?it/s]"
      ]
     },
     "metadata": {},
     "output_type": "display_data"
    },
    {
     "name": "stderr",
     "output_type": "stream",
     "text": [
      "/tmp/ipykernel_3805226/2830027787.py:60: PerformanceWarning: \n",
      "your performance may suffer as PyTables will pickle object types that it cannot\n",
      "map directly to c-types [inferred_type->mixed,key->block2_values] [items->Index(['sp_tree_tail', 'sp_tree_head', 'ldo_category', 'mdo_category',\n",
      "       'species', 'ldo_gene', 'mdo_gene', 'outgroup_species', 'out_gene'],\n",
      "      dtype='object')]\n",
      "\n",
      "  pd.concat(tmp).to_hdf(f'{RES_PATH}/{key}.h5', sp, complevel=9, complib='zlib')\n"
     ]
    },
    {
     "data": {
      "application/vnd.jupyter.widget-view+json": {
       "model_id": "dc88353a2e004e019092738d77a59214",
       "version_major": 2,
       "version_minor": 0
      },
      "text/plain": [
       "<LAMBDA> DONE:   0%|          | 0/23 [00:00<?, ?it/s]"
      ]
     },
     "metadata": {},
     "output_type": "display_data"
    },
    {
     "data": {
      "application/vnd.jupyter.widget-view+json": {
       "model_id": "82659b408acc4d5c9c5191301eced96c",
       "version_major": 2,
       "version_minor": 0
      },
      "text/plain": [
       "<LAMBDA> DONE:   0%|          | 0/23 [00:00<?, ?it/s]"
      ]
     },
     "metadata": {},
     "output_type": "display_data"
    },
    {
     "data": {
      "application/vnd.jupyter.widget-view+json": {
       "model_id": "e8f8b880a9ee4cd4879973ab2e0604d3",
       "version_major": 2,
       "version_minor": 0
      },
      "text/plain": [
       "<LAMBDA> DONE:   0%|          | 0/23 [00:00<?, ?it/s]"
      ]
     },
     "metadata": {},
     "output_type": "display_data"
    },
    {
     "name": "stderr",
     "output_type": "stream",
     "text": [
      "/tmp/ipykernel_3805226/2830027787.py:60: PerformanceWarning: \n",
      "your performance may suffer as PyTables will pickle object types that it cannot\n",
      "map directly to c-types [inferred_type->mixed,key->block2_values] [items->Index(['sp_tree_tail', 'sp_tree_head', 'ldo_category', 'mdo_category',\n",
      "       'species', 'ldo_gene', 'mdo_gene', 'outgroup_species', 'out_gene'],\n",
      "      dtype='object')]\n",
      "\n",
      "  pd.concat(tmp).to_hdf(f'{RES_PATH}/{key}.h5', sp, complevel=9, complib='zlib')\n"
     ]
    },
    {
     "data": {
      "application/vnd.jupyter.widget-view+json": {
       "model_id": "94e2a65ed2ac4e198fb27a80575bbe74",
       "version_major": 2,
       "version_minor": 0
      },
      "text/plain": [
       "<LAMBDA> DONE:   0%|          | 0/23 [00:00<?, ?it/s]"
      ]
     },
     "metadata": {},
     "output_type": "display_data"
    },
    {
     "data": {
      "application/vnd.jupyter.widget-view+json": {
       "model_id": "14cb731b23b3450f8b96c5c317b24d70",
       "version_major": 2,
       "version_minor": 0
      },
      "text/plain": [
       "<LAMBDA> DONE:   0%|          | 0/23 [00:00<?, ?it/s]"
      ]
     },
     "metadata": {},
     "output_type": "display_data"
    },
    {
     "data": {
      "application/vnd.jupyter.widget-view+json": {
       "model_id": "647a334cfb0e4f5daf3dfabe5d0f7f36",
       "version_major": 2,
       "version_minor": 0
      },
      "text/plain": [
       "<LAMBDA> DONE:   0%|          | 0/23 [00:00<?, ?it/s]"
      ]
     },
     "metadata": {},
     "output_type": "display_data"
    },
    {
     "name": "stderr",
     "output_type": "stream",
     "text": [
      "/tmp/ipykernel_3805226/2830027787.py:60: PerformanceWarning: \n",
      "your performance may suffer as PyTables will pickle object types that it cannot\n",
      "map directly to c-types [inferred_type->mixed,key->block2_values] [items->Index(['sp_tree_tail', 'sp_tree_head', 'ldo_category', 'mdo_category',\n",
      "       'species', 'ldo_gene', 'mdo_gene', 'outgroup_species', 'out_gene'],\n",
      "      dtype='object')]\n",
      "\n",
      "  pd.concat(tmp).to_hdf(f'{RES_PATH}/{key}.h5', sp, complevel=9, complib='zlib')\n"
     ]
    },
    {
     "data": {
      "application/vnd.jupyter.widget-view+json": {
       "model_id": "8830bcfb2b634a4493f05ac435ebd1ab",
       "version_major": 2,
       "version_minor": 0
      },
      "text/plain": [
       "<LAMBDA> DONE:   0%|          | 0/289 [00:00<?, ?it/s]"
      ]
     },
     "metadata": {},
     "output_type": "display_data"
    },
    {
     "data": {
      "application/vnd.jupyter.widget-view+json": {
       "model_id": "af998df2890642f79f798ab098aaafdb",
       "version_major": 2,
       "version_minor": 0
      },
      "text/plain": [
       "<LAMBDA> DONE:   0%|          | 0/289 [00:00<?, ?it/s]"
      ]
     },
     "metadata": {},
     "output_type": "display_data"
    },
    {
     "data": {
      "application/vnd.jupyter.widget-view+json": {
       "model_id": "b3ee57faedba402190f80d8dc545769a",
       "version_major": 2,
       "version_minor": 0
      },
      "text/plain": [
       "<LAMBDA> DONE:   0%|          | 0/289 [00:00<?, ?it/s]"
      ]
     },
     "metadata": {},
     "output_type": "display_data"
    },
    {
     "data": {
      "application/vnd.jupyter.widget-view+json": {
       "model_id": "727990d26774432daa923a54c3f52893",
       "version_major": 2,
       "version_minor": 0
      },
      "text/plain": [
       "<LAMBDA> DONE:   0%|          | 0/96 [00:00<?, ?it/s]"
      ]
     },
     "metadata": {},
     "output_type": "display_data"
    },
    {
     "data": {
      "application/vnd.jupyter.widget-view+json": {
       "model_id": "e5c5611fc8664e8bb1b6c875dec038a2",
       "version_major": 2,
       "version_minor": 0
      },
      "text/plain": [
       "<LAMBDA> DONE:   0%|          | 0/96 [00:00<?, ?it/s]"
      ]
     },
     "metadata": {},
     "output_type": "display_data"
    },
    {
     "data": {
      "application/vnd.jupyter.widget-view+json": {
       "model_id": "bdf26a8e495d418b97a0fc07a043e01c",
       "version_major": 2,
       "version_minor": 0
      },
      "text/plain": [
       "<LAMBDA> DONE:   0%|          | 0/96 [00:00<?, ?it/s]"
      ]
     },
     "metadata": {},
     "output_type": "display_data"
    },
    {
     "data": {
      "application/vnd.jupyter.widget-view+json": {
       "model_id": "31af0d41356242139858f17953604bad",
       "version_major": 2,
       "version_minor": 0
      },
      "text/plain": [
       "<LAMBDA> DONE:   0%|          | 0/50 [00:00<?, ?it/s]"
      ]
     },
     "metadata": {},
     "output_type": "display_data"
    },
    {
     "data": {
      "application/vnd.jupyter.widget-view+json": {
       "model_id": "cb6299e84c0b4e54ac620ae805c2793e",
       "version_major": 2,
       "version_minor": 0
      },
      "text/plain": [
       "<LAMBDA> DONE:   0%|          | 0/50 [00:00<?, ?it/s]"
      ]
     },
     "metadata": {},
     "output_type": "display_data"
    },
    {
     "data": {
      "application/vnd.jupyter.widget-view+json": {
       "model_id": "3a49c76c2bde44b8ab204aa335e02b0b",
       "version_major": 2,
       "version_minor": 0
      },
      "text/plain": [
       "<LAMBDA> DONE:   0%|          | 0/50 [00:00<?, ?it/s]"
      ]
     },
     "metadata": {},
     "output_type": "display_data"
    },
    {
     "data": {
      "application/vnd.jupyter.widget-view+json": {
       "model_id": "59f0569e290a4b049cccdaf6a35f3765",
       "version_major": 2,
       "version_minor": 0
      },
      "text/plain": [
       "<LAMBDA> DONE:   0%|          | 0/320 [00:00<?, ?it/s]"
      ]
     },
     "metadata": {},
     "output_type": "display_data"
    },
    {
     "data": {
      "application/vnd.jupyter.widget-view+json": {
       "model_id": "a0779d0448424623ab4635852a7df1b4",
       "version_major": 2,
       "version_minor": 0
      },
      "text/plain": [
       "<LAMBDA> DONE:   0%|          | 0/320 [00:00<?, ?it/s]"
      ]
     },
     "metadata": {},
     "output_type": "display_data"
    },
    {
     "data": {
      "application/vnd.jupyter.widget-view+json": {
       "model_id": "1fcf22891ab54b72bde9bb0f1fcc4bc2",
       "version_major": 2,
       "version_minor": 0
      },
      "text/plain": [
       "<LAMBDA> DONE:   0%|          | 0/320 [00:00<?, ?it/s]"
      ]
     },
     "metadata": {},
     "output_type": "display_data"
    },
    {
     "data": {
      "application/vnd.jupyter.widget-view+json": {
       "model_id": "9a8ec1fc81044d4394e3a4b72bf72a28",
       "version_major": 2,
       "version_minor": 0
      },
      "text/plain": [
       "<LAMBDA> DONE:   0%|          | 0/144 [00:00<?, ?it/s]"
      ]
     },
     "metadata": {},
     "output_type": "display_data"
    },
    {
     "data": {
      "application/vnd.jupyter.widget-view+json": {
       "model_id": "fce11f2c6c1744d1801a42af52dc760e",
       "version_major": 2,
       "version_minor": 0
      },
      "text/plain": [
       "<LAMBDA> DONE:   0%|          | 0/144 [00:00<?, ?it/s]"
      ]
     },
     "metadata": {},
     "output_type": "display_data"
    },
    {
     "data": {
      "application/vnd.jupyter.widget-view+json": {
       "model_id": "ec2e0c27262f40049c200f3669100298",
       "version_major": 2,
       "version_minor": 0
      },
      "text/plain": [
       "<LAMBDA> DONE:   0%|          | 0/144 [00:00<?, ?it/s]"
      ]
     },
     "metadata": {},
     "output_type": "display_data"
    },
    {
     "data": {
      "application/vnd.jupyter.widget-view+json": {
       "model_id": "c4a7ef95de434b82912dde8dd6669f7f",
       "version_major": 2,
       "version_minor": 0
      },
      "text/plain": [
       "<LAMBDA> DONE:   0%|          | 0/714 [00:00<?, ?it/s]"
      ]
     },
     "metadata": {},
     "output_type": "display_data"
    },
    {
     "data": {
      "application/vnd.jupyter.widget-view+json": {
       "model_id": "ac0e650bb86d437ca81a86daf6388ec2",
       "version_major": 2,
       "version_minor": 0
      },
      "text/plain": [
       "<LAMBDA> DONE:   0%|          | 0/714 [00:00<?, ?it/s]"
      ]
     },
     "metadata": {},
     "output_type": "display_data"
    },
    {
     "data": {
      "application/vnd.jupyter.widget-view+json": {
       "model_id": "95707e633aa24ac695bd1188bc631c3f",
       "version_major": 2,
       "version_minor": 0
      },
      "text/plain": [
       "<LAMBDA> DONE:   0%|          | 0/714 [00:00<?, ?it/s]"
      ]
     },
     "metadata": {},
     "output_type": "display_data"
    },
    {
     "data": {
      "application/vnd.jupyter.widget-view+json": {
       "model_id": "e85d9d5859624926b8b823a651201c59",
       "version_major": 2,
       "version_minor": 0
      },
      "text/plain": [
       "<LAMBDA> DONE:   0%|          | 0/266 [00:00<?, ?it/s]"
      ]
     },
     "metadata": {},
     "output_type": "display_data"
    },
    {
     "data": {
      "application/vnd.jupyter.widget-view+json": {
       "model_id": "c4cf507207694959956dddea7d9c097b",
       "version_major": 2,
       "version_minor": 0
      },
      "text/plain": [
       "<LAMBDA> DONE:   0%|          | 0/266 [00:00<?, ?it/s]"
      ]
     },
     "metadata": {},
     "output_type": "display_data"
    },
    {
     "data": {
      "application/vnd.jupyter.widget-view+json": {
       "model_id": "379dab3b12184c0b8c2271089136a8d6",
       "version_major": 2,
       "version_minor": 0
      },
      "text/plain": [
       "<LAMBDA> DONE:   0%|          | 0/266 [00:00<?, ?it/s]"
      ]
     },
     "metadata": {},
     "output_type": "display_data"
    },
    {
     "name": "stderr",
     "output_type": "stream",
     "text": [
      "/tmp/ipykernel_3805226/2830027787.py:60: PerformanceWarning: \n",
      "your performance may suffer as PyTables will pickle object types that it cannot\n",
      "map directly to c-types [inferred_type->mixed,key->block2_values] [items->Index(['sp_tree_tail', 'sp_tree_head', 'ldo_category', 'mdo_category',\n",
      "       'species', 'ldo_gene', 'mdo_gene', 'outgroup_species', 'out_gene'],\n",
      "      dtype='object')]\n",
      "\n",
      "  pd.concat(tmp).to_hdf(f'{RES_PATH}/{key}.h5', sp, complevel=9, complib='zlib')\n"
     ]
    },
    {
     "data": {
      "application/vnd.jupyter.widget-view+json": {
       "model_id": "5db0fb4aa6574ba59f5cb9d0afd78117",
       "version_major": 2,
       "version_minor": 0
      },
      "text/plain": [
       "<LAMBDA> DONE:   0%|          | 0/289 [00:00<?, ?it/s]"
      ]
     },
     "metadata": {},
     "output_type": "display_data"
    },
    {
     "data": {
      "application/vnd.jupyter.widget-view+json": {
       "model_id": "b23f527f1af04f7f9f82fc98cc0e313b",
       "version_major": 2,
       "version_minor": 0
      },
      "text/plain": [
       "<LAMBDA> DONE:   0%|          | 0/289 [00:00<?, ?it/s]"
      ]
     },
     "metadata": {},
     "output_type": "display_data"
    },
    {
     "data": {
      "application/vnd.jupyter.widget-view+json": {
       "model_id": "11cefc8a509e433293899b6c222e29fd",
       "version_major": 2,
       "version_minor": 0
      },
      "text/plain": [
       "<LAMBDA> DONE:   0%|          | 0/289 [00:00<?, ?it/s]"
      ]
     },
     "metadata": {},
     "output_type": "display_data"
    },
    {
     "data": {
      "application/vnd.jupyter.widget-view+json": {
       "model_id": "acd76269c98b405aaa6a059e1acb3e70",
       "version_major": 2,
       "version_minor": 0
      },
      "text/plain": [
       "<LAMBDA> DONE:   0%|          | 0/96 [00:00<?, ?it/s]"
      ]
     },
     "metadata": {},
     "output_type": "display_data"
    },
    {
     "data": {
      "application/vnd.jupyter.widget-view+json": {
       "model_id": "5fb2e077a73b4b0dac48170b309764ff",
       "version_major": 2,
       "version_minor": 0
      },
      "text/plain": [
       "<LAMBDA> DONE:   0%|          | 0/96 [00:00<?, ?it/s]"
      ]
     },
     "metadata": {},
     "output_type": "display_data"
    },
    {
     "data": {
      "application/vnd.jupyter.widget-view+json": {
       "model_id": "52d005ebd98243e2ba1f08588edea797",
       "version_major": 2,
       "version_minor": 0
      },
      "text/plain": [
       "<LAMBDA> DONE:   0%|          | 0/96 [00:00<?, ?it/s]"
      ]
     },
     "metadata": {},
     "output_type": "display_data"
    },
    {
     "data": {
      "application/vnd.jupyter.widget-view+json": {
       "model_id": "2609029c2ac04afe9fbbb00fb6845809",
       "version_major": 2,
       "version_minor": 0
      },
      "text/plain": [
       "<LAMBDA> DONE:   0%|          | 0/50 [00:00<?, ?it/s]"
      ]
     },
     "metadata": {},
     "output_type": "display_data"
    },
    {
     "data": {
      "application/vnd.jupyter.widget-view+json": {
       "model_id": "ce663dc8fb5c4920a8cca94e77f34bf6",
       "version_major": 2,
       "version_minor": 0
      },
      "text/plain": [
       "<LAMBDA> DONE:   0%|          | 0/50 [00:00<?, ?it/s]"
      ]
     },
     "metadata": {},
     "output_type": "display_data"
    },
    {
     "data": {
      "application/vnd.jupyter.widget-view+json": {
       "model_id": "1522d7b73b714f7784d9bdbafec468e6",
       "version_major": 2,
       "version_minor": 0
      },
      "text/plain": [
       "<LAMBDA> DONE:   0%|          | 0/50 [00:00<?, ?it/s]"
      ]
     },
     "metadata": {},
     "output_type": "display_data"
    },
    {
     "data": {
      "application/vnd.jupyter.widget-view+json": {
       "model_id": "3384395d95ab46f38b092d47470f747a",
       "version_major": 2,
       "version_minor": 0
      },
      "text/plain": [
       "<LAMBDA> DONE:   0%|          | 0/320 [00:00<?, ?it/s]"
      ]
     },
     "metadata": {},
     "output_type": "display_data"
    },
    {
     "data": {
      "application/vnd.jupyter.widget-view+json": {
       "model_id": "260170c2f9ae44f2bcf4a593f9850dcb",
       "version_major": 2,
       "version_minor": 0
      },
      "text/plain": [
       "<LAMBDA> DONE:   0%|          | 0/320 [00:00<?, ?it/s]"
      ]
     },
     "metadata": {},
     "output_type": "display_data"
    },
    {
     "data": {
      "application/vnd.jupyter.widget-view+json": {
       "model_id": "bce400c4725d4c929e9172922681142c",
       "version_major": 2,
       "version_minor": 0
      },
      "text/plain": [
       "<LAMBDA> DONE:   0%|          | 0/320 [00:00<?, ?it/s]"
      ]
     },
     "metadata": {},
     "output_type": "display_data"
    },
    {
     "data": {
      "application/vnd.jupyter.widget-view+json": {
       "model_id": "af7baa413d0e4e0ebdfd955035472f69",
       "version_major": 2,
       "version_minor": 0
      },
      "text/plain": [
       "<LAMBDA> DONE:   0%|          | 0/144 [00:00<?, ?it/s]"
      ]
     },
     "metadata": {},
     "output_type": "display_data"
    },
    {
     "data": {
      "application/vnd.jupyter.widget-view+json": {
       "model_id": "b01be5a9d2164dd0ad0163c33c88460c",
       "version_major": 2,
       "version_minor": 0
      },
      "text/plain": [
       "<LAMBDA> DONE:   0%|          | 0/144 [00:00<?, ?it/s]"
      ]
     },
     "metadata": {},
     "output_type": "display_data"
    },
    {
     "data": {
      "application/vnd.jupyter.widget-view+json": {
       "model_id": "2f1f6f015bb04a4782c0fd23bd8eb8f7",
       "version_major": 2,
       "version_minor": 0
      },
      "text/plain": [
       "<LAMBDA> DONE:   0%|          | 0/144 [00:00<?, ?it/s]"
      ]
     },
     "metadata": {},
     "output_type": "display_data"
    },
    {
     "data": {
      "application/vnd.jupyter.widget-view+json": {
       "model_id": "569ec43419cf49c889c183e1cf41105c",
       "version_major": 2,
       "version_minor": 0
      },
      "text/plain": [
       "<LAMBDA> DONE:   0%|          | 0/714 [00:00<?, ?it/s]"
      ]
     },
     "metadata": {},
     "output_type": "display_data"
    },
    {
     "data": {
      "application/vnd.jupyter.widget-view+json": {
       "model_id": "ed8f8c3002264eb3a94d2561a3d69697",
       "version_major": 2,
       "version_minor": 0
      },
      "text/plain": [
       "<LAMBDA> DONE:   0%|          | 0/714 [00:00<?, ?it/s]"
      ]
     },
     "metadata": {},
     "output_type": "display_data"
    },
    {
     "data": {
      "application/vnd.jupyter.widget-view+json": {
       "model_id": "bccd8df3ac8e4cdcb060dc1ae5a4da38",
       "version_major": 2,
       "version_minor": 0
      },
      "text/plain": [
       "<LAMBDA> DONE:   0%|          | 0/714 [00:00<?, ?it/s]"
      ]
     },
     "metadata": {},
     "output_type": "display_data"
    },
    {
     "data": {
      "application/vnd.jupyter.widget-view+json": {
       "model_id": "339203af197046ad8dec858c5532edd2",
       "version_major": 2,
       "version_minor": 0
      },
      "text/plain": [
       "<LAMBDA> DONE:   0%|          | 0/266 [00:00<?, ?it/s]"
      ]
     },
     "metadata": {},
     "output_type": "display_data"
    },
    {
     "data": {
      "application/vnd.jupyter.widget-view+json": {
       "model_id": "819a81e4a2ab4f0383a1e034178d29ce",
       "version_major": 2,
       "version_minor": 0
      },
      "text/plain": [
       "<LAMBDA> DONE:   0%|          | 0/266 [00:00<?, ?it/s]"
      ]
     },
     "metadata": {},
     "output_type": "display_data"
    },
    {
     "data": {
      "application/vnd.jupyter.widget-view+json": {
       "model_id": "2774998382a442029ae1eea57d78c0a6",
       "version_major": 2,
       "version_minor": 0
      },
      "text/plain": [
       "<LAMBDA> DONE:   0%|          | 0/266 [00:00<?, ?it/s]"
      ]
     },
     "metadata": {},
     "output_type": "display_data"
    },
    {
     "name": "stderr",
     "output_type": "stream",
     "text": [
      "/tmp/ipykernel_3805226/2830027787.py:60: PerformanceWarning: \n",
      "your performance may suffer as PyTables will pickle object types that it cannot\n",
      "map directly to c-types [inferred_type->mixed,key->block2_values] [items->Index(['sp_tree_tail', 'sp_tree_head', 'ldo_category', 'mdo_category',\n",
      "       'species', 'ldo_gene', 'mdo_gene', 'outgroup_species', 'out_gene'],\n",
      "      dtype='object')]\n",
      "\n",
      "  pd.concat(tmp).to_hdf(f'{RES_PATH}/{key}.h5', sp, complevel=9, complib='zlib')\n"
     ]
    },
    {
     "data": {
      "application/vnd.jupyter.widget-view+json": {
       "model_id": "a7e79289809e43d791956fb8204e90c3",
       "version_major": 2,
       "version_minor": 0
      },
      "text/plain": [
       "<LAMBDA> DONE:   0%|          | 0/289 [00:00<?, ?it/s]"
      ]
     },
     "metadata": {},
     "output_type": "display_data"
    },
    {
     "data": {
      "application/vnd.jupyter.widget-view+json": {
       "model_id": "398a9cc5e64d40549ea27300b9f41c64",
       "version_major": 2,
       "version_minor": 0
      },
      "text/plain": [
       "<LAMBDA> DONE:   0%|          | 0/289 [00:00<?, ?it/s]"
      ]
     },
     "metadata": {},
     "output_type": "display_data"
    },
    {
     "data": {
      "application/vnd.jupyter.widget-view+json": {
       "model_id": "957b9a380a62447cbe6dd37d2bb22ea2",
       "version_major": 2,
       "version_minor": 0
      },
      "text/plain": [
       "<LAMBDA> DONE:   0%|          | 0/289 [00:00<?, ?it/s]"
      ]
     },
     "metadata": {},
     "output_type": "display_data"
    },
    {
     "data": {
      "application/vnd.jupyter.widget-view+json": {
       "model_id": "84546dbd8a934d35b8339a6cf9e787b9",
       "version_major": 2,
       "version_minor": 0
      },
      "text/plain": [
       "<LAMBDA> DONE:   0%|          | 0/96 [00:00<?, ?it/s]"
      ]
     },
     "metadata": {},
     "output_type": "display_data"
    },
    {
     "data": {
      "application/vnd.jupyter.widget-view+json": {
       "model_id": "4b7618e0a6a94ceca779f03d0aa1fe3f",
       "version_major": 2,
       "version_minor": 0
      },
      "text/plain": [
       "<LAMBDA> DONE:   0%|          | 0/96 [00:00<?, ?it/s]"
      ]
     },
     "metadata": {},
     "output_type": "display_data"
    },
    {
     "data": {
      "application/vnd.jupyter.widget-view+json": {
       "model_id": "b5d56ea544e04d6c9abcecdfe3708a19",
       "version_major": 2,
       "version_minor": 0
      },
      "text/plain": [
       "<LAMBDA> DONE:   0%|          | 0/96 [00:00<?, ?it/s]"
      ]
     },
     "metadata": {},
     "output_type": "display_data"
    },
    {
     "data": {
      "application/vnd.jupyter.widget-view+json": {
       "model_id": "46b829b0340d4c4882a0d9b120c41693",
       "version_major": 2,
       "version_minor": 0
      },
      "text/plain": [
       "<LAMBDA> DONE:   0%|          | 0/50 [00:00<?, ?it/s]"
      ]
     },
     "metadata": {},
     "output_type": "display_data"
    },
    {
     "data": {
      "application/vnd.jupyter.widget-view+json": {
       "model_id": "15dc7daeec324ff58c1cd20f980e9eb0",
       "version_major": 2,
       "version_minor": 0
      },
      "text/plain": [
       "<LAMBDA> DONE:   0%|          | 0/50 [00:00<?, ?it/s]"
      ]
     },
     "metadata": {},
     "output_type": "display_data"
    },
    {
     "data": {
      "application/vnd.jupyter.widget-view+json": {
       "model_id": "e593e75c053246249758c5b2e46596bf",
       "version_major": 2,
       "version_minor": 0
      },
      "text/plain": [
       "<LAMBDA> DONE:   0%|          | 0/50 [00:00<?, ?it/s]"
      ]
     },
     "metadata": {},
     "output_type": "display_data"
    },
    {
     "data": {
      "application/vnd.jupyter.widget-view+json": {
       "model_id": "9c0314f6f0a94268b58370eceadc91d9",
       "version_major": 2,
       "version_minor": 0
      },
      "text/plain": [
       "<LAMBDA> DONE:   0%|          | 0/320 [00:00<?, ?it/s]"
      ]
     },
     "metadata": {},
     "output_type": "display_data"
    },
    {
     "data": {
      "application/vnd.jupyter.widget-view+json": {
       "model_id": "b6437a20793f4a42bcee725ff401fed6",
       "version_major": 2,
       "version_minor": 0
      },
      "text/plain": [
       "<LAMBDA> DONE:   0%|          | 0/320 [00:00<?, ?it/s]"
      ]
     },
     "metadata": {},
     "output_type": "display_data"
    },
    {
     "data": {
      "application/vnd.jupyter.widget-view+json": {
       "model_id": "61bccd2433b142f1bd3634f948b1e268",
       "version_major": 2,
       "version_minor": 0
      },
      "text/plain": [
       "<LAMBDA> DONE:   0%|          | 0/320 [00:00<?, ?it/s]"
      ]
     },
     "metadata": {},
     "output_type": "display_data"
    },
    {
     "data": {
      "application/vnd.jupyter.widget-view+json": {
       "model_id": "bacbc6a1c2c64fd1aeaa1830c696b3ef",
       "version_major": 2,
       "version_minor": 0
      },
      "text/plain": [
       "<LAMBDA> DONE:   0%|          | 0/144 [00:00<?, ?it/s]"
      ]
     },
     "metadata": {},
     "output_type": "display_data"
    },
    {
     "data": {
      "application/vnd.jupyter.widget-view+json": {
       "model_id": "8b12542cc5d745ff85e4abb11d994450",
       "version_major": 2,
       "version_minor": 0
      },
      "text/plain": [
       "<LAMBDA> DONE:   0%|          | 0/144 [00:00<?, ?it/s]"
      ]
     },
     "metadata": {},
     "output_type": "display_data"
    },
    {
     "data": {
      "application/vnd.jupyter.widget-view+json": {
       "model_id": "8d0aacef21294036ac84d566804d010a",
       "version_major": 2,
       "version_minor": 0
      },
      "text/plain": [
       "<LAMBDA> DONE:   0%|          | 0/144 [00:00<?, ?it/s]"
      ]
     },
     "metadata": {},
     "output_type": "display_data"
    },
    {
     "data": {
      "application/vnd.jupyter.widget-view+json": {
       "model_id": "e663a4a80cba4a26a1e7eec8b77d922a",
       "version_major": 2,
       "version_minor": 0
      },
      "text/plain": [
       "<LAMBDA> DONE:   0%|          | 0/714 [00:00<?, ?it/s]"
      ]
     },
     "metadata": {},
     "output_type": "display_data"
    },
    {
     "data": {
      "application/vnd.jupyter.widget-view+json": {
       "model_id": "bf323df5f77c4c1eae05172d8e326561",
       "version_major": 2,
       "version_minor": 0
      },
      "text/plain": [
       "<LAMBDA> DONE:   0%|          | 0/714 [00:00<?, ?it/s]"
      ]
     },
     "metadata": {},
     "output_type": "display_data"
    },
    {
     "data": {
      "application/vnd.jupyter.widget-view+json": {
       "model_id": "3f3c5fdc6ed04059a92f8cff73c8493e",
       "version_major": 2,
       "version_minor": 0
      },
      "text/plain": [
       "<LAMBDA> DONE:   0%|          | 0/714 [00:00<?, ?it/s]"
      ]
     },
     "metadata": {},
     "output_type": "display_data"
    },
    {
     "data": {
      "application/vnd.jupyter.widget-view+json": {
       "model_id": "e3bd2528579e4cb5b3245908cbac1a6f",
       "version_major": 2,
       "version_minor": 0
      },
      "text/plain": [
       "<LAMBDA> DONE:   0%|          | 0/266 [00:00<?, ?it/s]"
      ]
     },
     "metadata": {},
     "output_type": "display_data"
    },
    {
     "data": {
      "application/vnd.jupyter.widget-view+json": {
       "model_id": "4ca83b3b2fcb41909289b28cfc41feef",
       "version_major": 2,
       "version_minor": 0
      },
      "text/plain": [
       "<LAMBDA> DONE:   0%|          | 0/266 [00:00<?, ?it/s]"
      ]
     },
     "metadata": {},
     "output_type": "display_data"
    },
    {
     "data": {
      "application/vnd.jupyter.widget-view+json": {
       "model_id": "370fa428380d4751aa5bc214a105488a",
       "version_major": 2,
       "version_minor": 0
      },
      "text/plain": [
       "<LAMBDA> DONE:   0%|          | 0/266 [00:00<?, ?it/s]"
      ]
     },
     "metadata": {},
     "output_type": "display_data"
    },
    {
     "name": "stderr",
     "output_type": "stream",
     "text": [
      "/tmp/ipykernel_3805226/2830027787.py:60: PerformanceWarning: \n",
      "your performance may suffer as PyTables will pickle object types that it cannot\n",
      "map directly to c-types [inferred_type->mixed,key->block2_values] [items->Index(['sp_tree_tail', 'sp_tree_head', 'ldo_category', 'mdo_category',\n",
      "       'species', 'ldo_gene', 'mdo_gene', 'outgroup_species', 'out_gene'],\n",
      "      dtype='object')]\n",
      "\n",
      "  pd.concat(tmp).to_hdf(f'{RES_PATH}/{key}.h5', sp, complevel=9, complib='zlib')\n"
     ]
    },
    {
     "data": {
      "application/vnd.jupyter.widget-view+json": {
       "model_id": "d777cab453944b22812f4d24236cafef",
       "version_major": 2,
       "version_minor": 0
      },
      "text/plain": [
       "<LAMBDA> DONE:   0%|          | 0/257 [00:00<?, ?it/s]"
      ]
     },
     "metadata": {},
     "output_type": "display_data"
    },
    {
     "data": {
      "application/vnd.jupyter.widget-view+json": {
       "model_id": "d57e6d5ed4e04e4e8e8b8044c3d23b5c",
       "version_major": 2,
       "version_minor": 0
      },
      "text/plain": [
       "<LAMBDA> DONE:   0%|          | 0/257 [00:00<?, ?it/s]"
      ]
     },
     "metadata": {},
     "output_type": "display_data"
    },
    {
     "data": {
      "application/vnd.jupyter.widget-view+json": {
       "model_id": "228dd9a014e34d1c8838547faa3ee92c",
       "version_major": 2,
       "version_minor": 0
      },
      "text/plain": [
       "<LAMBDA> DONE:   0%|          | 0/257 [00:00<?, ?it/s]"
      ]
     },
     "metadata": {},
     "output_type": "display_data"
    },
    {
     "data": {
      "application/vnd.jupyter.widget-view+json": {
       "model_id": "1ea1f2890ad34be697b1a3a875d8e77e",
       "version_major": 2,
       "version_minor": 0
      },
      "text/plain": [
       "<LAMBDA> DONE:   0%|          | 0/98 [00:00<?, ?it/s]"
      ]
     },
     "metadata": {},
     "output_type": "display_data"
    },
    {
     "data": {
      "application/vnd.jupyter.widget-view+json": {
       "model_id": "e4f47b45058a43fd80d60d9be4154278",
       "version_major": 2,
       "version_minor": 0
      },
      "text/plain": [
       "<LAMBDA> DONE:   0%|          | 0/98 [00:00<?, ?it/s]"
      ]
     },
     "metadata": {},
     "output_type": "display_data"
    },
    {
     "data": {
      "application/vnd.jupyter.widget-view+json": {
       "model_id": "a771a88286664c24bca73774b892755b",
       "version_major": 2,
       "version_minor": 0
      },
      "text/plain": [
       "<LAMBDA> DONE:   0%|          | 0/98 [00:00<?, ?it/s]"
      ]
     },
     "metadata": {},
     "output_type": "display_data"
    },
    {
     "data": {
      "application/vnd.jupyter.widget-view+json": {
       "model_id": "625465ceaa4947c1b68e1170fca37fd5",
       "version_major": 2,
       "version_minor": 0
      },
      "text/plain": [
       "<LAMBDA> DONE:   0%|          | 0/38 [00:00<?, ?it/s]"
      ]
     },
     "metadata": {},
     "output_type": "display_data"
    },
    {
     "data": {
      "application/vnd.jupyter.widget-view+json": {
       "model_id": "ad305ab4be5942fc96f82a1421e55b19",
       "version_major": 2,
       "version_minor": 0
      },
      "text/plain": [
       "<LAMBDA> DONE:   0%|          | 0/38 [00:00<?, ?it/s]"
      ]
     },
     "metadata": {},
     "output_type": "display_data"
    },
    {
     "data": {
      "application/vnd.jupyter.widget-view+json": {
       "model_id": "abc60c4f3f5a4a96b7f287d68a416464",
       "version_major": 2,
       "version_minor": 0
      },
      "text/plain": [
       "<LAMBDA> DONE:   0%|          | 0/38 [00:00<?, ?it/s]"
      ]
     },
     "metadata": {},
     "output_type": "display_data"
    },
    {
     "data": {
      "application/vnd.jupyter.widget-view+json": {
       "model_id": "57a1d0bff66f41018f5b180dea81846c",
       "version_major": 2,
       "version_minor": 0
      },
      "text/plain": [
       "<LAMBDA> DONE:   0%|          | 0/866 [00:00<?, ?it/s]"
      ]
     },
     "metadata": {},
     "output_type": "display_data"
    },
    {
     "data": {
      "application/vnd.jupyter.widget-view+json": {
       "model_id": "3f22d40c736549c0be333c9195b3a154",
       "version_major": 2,
       "version_minor": 0
      },
      "text/plain": [
       "<LAMBDA> DONE:   0%|          | 0/866 [00:00<?, ?it/s]"
      ]
     },
     "metadata": {},
     "output_type": "display_data"
    },
    {
     "data": {
      "application/vnd.jupyter.widget-view+json": {
       "model_id": "c892ec0d70594945aa08f182ec3efaf6",
       "version_major": 2,
       "version_minor": 0
      },
      "text/plain": [
       "<LAMBDA> DONE:   0%|          | 0/866 [00:00<?, ?it/s]"
      ]
     },
     "metadata": {},
     "output_type": "display_data"
    },
    {
     "data": {
      "application/vnd.jupyter.widget-view+json": {
       "model_id": "90b9aecd49554926a189f8fccdf1a4c9",
       "version_major": 2,
       "version_minor": 0
      },
      "text/plain": [
       "<LAMBDA> DONE:   0%|          | 0/302 [00:00<?, ?it/s]"
      ]
     },
     "metadata": {},
     "output_type": "display_data"
    },
    {
     "data": {
      "application/vnd.jupyter.widget-view+json": {
       "model_id": "d18614a4b3524902aa848ccc345db5c3",
       "version_major": 2,
       "version_minor": 0
      },
      "text/plain": [
       "<LAMBDA> DONE:   0%|          | 0/302 [00:00<?, ?it/s]"
      ]
     },
     "metadata": {},
     "output_type": "display_data"
    },
    {
     "data": {
      "application/vnd.jupyter.widget-view+json": {
       "model_id": "44f989d17ec14a70b19a81b59414b6ae",
       "version_major": 2,
       "version_minor": 0
      },
      "text/plain": [
       "<LAMBDA> DONE:   0%|          | 0/302 [00:00<?, ?it/s]"
      ]
     },
     "metadata": {},
     "output_type": "display_data"
    },
    {
     "data": {
      "application/vnd.jupyter.widget-view+json": {
       "model_id": "978c48da6b4240d290a969f6fd2e388d",
       "version_major": 2,
       "version_minor": 0
      },
      "text/plain": [
       "<LAMBDA> DONE:   0%|          | 0/1066 [00:00<?, ?it/s]"
      ]
     },
     "metadata": {},
     "output_type": "display_data"
    },
    {
     "data": {
      "application/vnd.jupyter.widget-view+json": {
       "model_id": "bd134a9d847a482e8c3352a6172489aa",
       "version_major": 2,
       "version_minor": 0
      },
      "text/plain": [
       "<LAMBDA> DONE:   0%|          | 0/1066 [00:00<?, ?it/s]"
      ]
     },
     "metadata": {},
     "output_type": "display_data"
    },
    {
     "data": {
      "application/vnd.jupyter.widget-view+json": {
       "model_id": "98452060d2c14b54a61362caa94ffd47",
       "version_major": 2,
       "version_minor": 0
      },
      "text/plain": [
       "<LAMBDA> DONE:   0%|          | 0/1066 [00:00<?, ?it/s]"
      ]
     },
     "metadata": {},
     "output_type": "display_data"
    },
    {
     "data": {
      "application/vnd.jupyter.widget-view+json": {
       "model_id": "462df2f487b14e28a71b8683fadfd52e",
       "version_major": 2,
       "version_minor": 0
      },
      "text/plain": [
       "<LAMBDA> DONE:   0%|          | 0/641 [00:00<?, ?it/s]"
      ]
     },
     "metadata": {},
     "output_type": "display_data"
    },
    {
     "data": {
      "application/vnd.jupyter.widget-view+json": {
       "model_id": "e3a92ccec0e54a319b5331a0f79009fb",
       "version_major": 2,
       "version_minor": 0
      },
      "text/plain": [
       "<LAMBDA> DONE:   0%|          | 0/641 [00:00<?, ?it/s]"
      ]
     },
     "metadata": {},
     "output_type": "display_data"
    },
    {
     "data": {
      "application/vnd.jupyter.widget-view+json": {
       "model_id": "bd90380b535547f78a5aefadd4c729c5",
       "version_major": 2,
       "version_minor": 0
      },
      "text/plain": [
       "<LAMBDA> DONE:   0%|          | 0/641 [00:00<?, ?it/s]"
      ]
     },
     "metadata": {},
     "output_type": "display_data"
    },
    {
     "data": {
      "application/vnd.jupyter.widget-view+json": {
       "model_id": "2ccd8aaeca0944078c5a1a0169be8285",
       "version_major": 2,
       "version_minor": 0
      },
      "text/plain": [
       "<LAMBDA> DONE:   0%|          | 0/221 [00:00<?, ?it/s]"
      ]
     },
     "metadata": {},
     "output_type": "display_data"
    },
    {
     "data": {
      "application/vnd.jupyter.widget-view+json": {
       "model_id": "c1b1ce5c265647e0a86d5f17360cbbd2",
       "version_major": 2,
       "version_minor": 0
      },
      "text/plain": [
       "<LAMBDA> DONE:   0%|          | 0/221 [00:00<?, ?it/s]"
      ]
     },
     "metadata": {},
     "output_type": "display_data"
    },
    {
     "data": {
      "application/vnd.jupyter.widget-view+json": {
       "model_id": "da5886189afe49d58f58a36184025a5e",
       "version_major": 2,
       "version_minor": 0
      },
      "text/plain": [
       "<LAMBDA> DONE:   0%|          | 0/221 [00:00<?, ?it/s]"
      ]
     },
     "metadata": {},
     "output_type": "display_data"
    },
    {
     "data": {
      "application/vnd.jupyter.widget-view+json": {
       "model_id": "a86667eefefe4baabbda0b2e909ea391",
       "version_major": 2,
       "version_minor": 0
      },
      "text/plain": [
       "<LAMBDA> DONE:   0%|          | 0/204 [00:00<?, ?it/s]"
      ]
     },
     "metadata": {},
     "output_type": "display_data"
    },
    {
     "data": {
      "application/vnd.jupyter.widget-view+json": {
       "model_id": "8b4ff77d4cf644978f324d7131043a83",
       "version_major": 2,
       "version_minor": 0
      },
      "text/plain": [
       "<LAMBDA> DONE:   0%|          | 0/204 [00:00<?, ?it/s]"
      ]
     },
     "metadata": {},
     "output_type": "display_data"
    },
    {
     "data": {
      "application/vnd.jupyter.widget-view+json": {
       "model_id": "bbe82d742d224ca582ba7aab461caace",
       "version_major": 2,
       "version_minor": 0
      },
      "text/plain": [
       "<LAMBDA> DONE:   0%|          | 0/204 [00:00<?, ?it/s]"
      ]
     },
     "metadata": {},
     "output_type": "display_data"
    },
    {
     "name": "stderr",
     "output_type": "stream",
     "text": [
      "/tmp/ipykernel_3805226/2830027787.py:60: PerformanceWarning: \n",
      "your performance may suffer as PyTables will pickle object types that it cannot\n",
      "map directly to c-types [inferred_type->mixed,key->block2_values] [items->Index(['sp_tree_tail', 'sp_tree_head', 'ldo_category', 'mdo_category',\n",
      "       'species', 'ldo_gene', 'mdo_gene', 'outgroup_species', 'out_gene'],\n",
      "      dtype='object')]\n",
      "\n",
      "  pd.concat(tmp).to_hdf(f'{RES_PATH}/{key}.h5', sp, complevel=9, complib='zlib')\n"
     ]
    },
    {
     "data": {
      "application/vnd.jupyter.widget-view+json": {
       "model_id": "218dff025fd9415cb77ec29c6adb714f",
       "version_major": 2,
       "version_minor": 0
      },
      "text/plain": [
       "<LAMBDA> DONE:   0%|          | 0/257 [00:00<?, ?it/s]"
      ]
     },
     "metadata": {},
     "output_type": "display_data"
    },
    {
     "data": {
      "application/vnd.jupyter.widget-view+json": {
       "model_id": "11d215b2180242c68a58940f2acda1af",
       "version_major": 2,
       "version_minor": 0
      },
      "text/plain": [
       "<LAMBDA> DONE:   0%|          | 0/257 [00:00<?, ?it/s]"
      ]
     },
     "metadata": {},
     "output_type": "display_data"
    },
    {
     "data": {
      "application/vnd.jupyter.widget-view+json": {
       "model_id": "ce1607ccb7974cf0866a4fdd6cc677dc",
       "version_major": 2,
       "version_minor": 0
      },
      "text/plain": [
       "<LAMBDA> DONE:   0%|          | 0/257 [00:00<?, ?it/s]"
      ]
     },
     "metadata": {},
     "output_type": "display_data"
    },
    {
     "data": {
      "application/vnd.jupyter.widget-view+json": {
       "model_id": "7a2da78f0e6a47c99ca01dbd7ecbc4c5",
       "version_major": 2,
       "version_minor": 0
      },
      "text/plain": [
       "<LAMBDA> DONE:   0%|          | 0/98 [00:00<?, ?it/s]"
      ]
     },
     "metadata": {},
     "output_type": "display_data"
    },
    {
     "data": {
      "application/vnd.jupyter.widget-view+json": {
       "model_id": "aabd73c432d4482283e5d71f0e91c63e",
       "version_major": 2,
       "version_minor": 0
      },
      "text/plain": [
       "<LAMBDA> DONE:   0%|          | 0/98 [00:00<?, ?it/s]"
      ]
     },
     "metadata": {},
     "output_type": "display_data"
    },
    {
     "data": {
      "application/vnd.jupyter.widget-view+json": {
       "model_id": "ea2a6b5b58a643d690ce8a3ef947c5ba",
       "version_major": 2,
       "version_minor": 0
      },
      "text/plain": [
       "<LAMBDA> DONE:   0%|          | 0/98 [00:00<?, ?it/s]"
      ]
     },
     "metadata": {},
     "output_type": "display_data"
    },
    {
     "data": {
      "application/vnd.jupyter.widget-view+json": {
       "model_id": "0e45d225f193451d989c5dc400628039",
       "version_major": 2,
       "version_minor": 0
      },
      "text/plain": [
       "<LAMBDA> DONE:   0%|          | 0/38 [00:00<?, ?it/s]"
      ]
     },
     "metadata": {},
     "output_type": "display_data"
    },
    {
     "data": {
      "application/vnd.jupyter.widget-view+json": {
       "model_id": "598d700f319642adb52d40bc1fb1796e",
       "version_major": 2,
       "version_minor": 0
      },
      "text/plain": [
       "<LAMBDA> DONE:   0%|          | 0/38 [00:00<?, ?it/s]"
      ]
     },
     "metadata": {},
     "output_type": "display_data"
    },
    {
     "data": {
      "application/vnd.jupyter.widget-view+json": {
       "model_id": "a90da4ad99d34b2e9b9dcb5442ebabed",
       "version_major": 2,
       "version_minor": 0
      },
      "text/plain": [
       "<LAMBDA> DONE:   0%|          | 0/38 [00:00<?, ?it/s]"
      ]
     },
     "metadata": {},
     "output_type": "display_data"
    },
    {
     "data": {
      "application/vnd.jupyter.widget-view+json": {
       "model_id": "dc40cd43bd784fedac5ee008ae23bcb5",
       "version_major": 2,
       "version_minor": 0
      },
      "text/plain": [
       "<LAMBDA> DONE:   0%|          | 0/866 [00:00<?, ?it/s]"
      ]
     },
     "metadata": {},
     "output_type": "display_data"
    },
    {
     "data": {
      "application/vnd.jupyter.widget-view+json": {
       "model_id": "c55e5c371a604f30a4e0100014670077",
       "version_major": 2,
       "version_minor": 0
      },
      "text/plain": [
       "<LAMBDA> DONE:   0%|          | 0/866 [00:00<?, ?it/s]"
      ]
     },
     "metadata": {},
     "output_type": "display_data"
    },
    {
     "data": {
      "application/vnd.jupyter.widget-view+json": {
       "model_id": "480dd5923ac444b592c7faa043cecb09",
       "version_major": 2,
       "version_minor": 0
      },
      "text/plain": [
       "<LAMBDA> DONE:   0%|          | 0/866 [00:00<?, ?it/s]"
      ]
     },
     "metadata": {},
     "output_type": "display_data"
    },
    {
     "data": {
      "application/vnd.jupyter.widget-view+json": {
       "model_id": "bdb3a3754aee49c0a1e52a5205d6feb6",
       "version_major": 2,
       "version_minor": 0
      },
      "text/plain": [
       "<LAMBDA> DONE:   0%|          | 0/302 [00:00<?, ?it/s]"
      ]
     },
     "metadata": {},
     "output_type": "display_data"
    },
    {
     "data": {
      "application/vnd.jupyter.widget-view+json": {
       "model_id": "aa3e545b71d94288a37e564f1ed3657a",
       "version_major": 2,
       "version_minor": 0
      },
      "text/plain": [
       "<LAMBDA> DONE:   0%|          | 0/302 [00:00<?, ?it/s]"
      ]
     },
     "metadata": {},
     "output_type": "display_data"
    },
    {
     "data": {
      "application/vnd.jupyter.widget-view+json": {
       "model_id": "4fe6fcc8d27f47be9ff56b5c6402e20b",
       "version_major": 2,
       "version_minor": 0
      },
      "text/plain": [
       "<LAMBDA> DONE:   0%|          | 0/302 [00:00<?, ?it/s]"
      ]
     },
     "metadata": {},
     "output_type": "display_data"
    },
    {
     "data": {
      "application/vnd.jupyter.widget-view+json": {
       "model_id": "4cc890b21d5246829aa90128d36b107b",
       "version_major": 2,
       "version_minor": 0
      },
      "text/plain": [
       "<LAMBDA> DONE:   0%|          | 0/1066 [00:00<?, ?it/s]"
      ]
     },
     "metadata": {},
     "output_type": "display_data"
    },
    {
     "data": {
      "application/vnd.jupyter.widget-view+json": {
       "model_id": "2a9fc4877c46469ab6ae9f7ab4dca9a4",
       "version_major": 2,
       "version_minor": 0
      },
      "text/plain": [
       "<LAMBDA> DONE:   0%|          | 0/1066 [00:00<?, ?it/s]"
      ]
     },
     "metadata": {},
     "output_type": "display_data"
    },
    {
     "data": {
      "application/vnd.jupyter.widget-view+json": {
       "model_id": "6806d588d66a4e29abbcdafb436caf6d",
       "version_major": 2,
       "version_minor": 0
      },
      "text/plain": [
       "<LAMBDA> DONE:   0%|          | 0/1066 [00:00<?, ?it/s]"
      ]
     },
     "metadata": {},
     "output_type": "display_data"
    },
    {
     "data": {
      "application/vnd.jupyter.widget-view+json": {
       "model_id": "d994d72cc1b34ac994ef73709486e8fb",
       "version_major": 2,
       "version_minor": 0
      },
      "text/plain": [
       "<LAMBDA> DONE:   0%|          | 0/641 [00:00<?, ?it/s]"
      ]
     },
     "metadata": {},
     "output_type": "display_data"
    },
    {
     "data": {
      "application/vnd.jupyter.widget-view+json": {
       "model_id": "9560c78e51b940a182e1fe057eabe647",
       "version_major": 2,
       "version_minor": 0
      },
      "text/plain": [
       "<LAMBDA> DONE:   0%|          | 0/641 [00:00<?, ?it/s]"
      ]
     },
     "metadata": {},
     "output_type": "display_data"
    },
    {
     "data": {
      "application/vnd.jupyter.widget-view+json": {
       "model_id": "7f3f7bdce8db417c9cc00f02b2a71b9f",
       "version_major": 2,
       "version_minor": 0
      },
      "text/plain": [
       "<LAMBDA> DONE:   0%|          | 0/641 [00:00<?, ?it/s]"
      ]
     },
     "metadata": {},
     "output_type": "display_data"
    },
    {
     "data": {
      "application/vnd.jupyter.widget-view+json": {
       "model_id": "2fc285cfa10d40bf8233d5ee15f1aec5",
       "version_major": 2,
       "version_minor": 0
      },
      "text/plain": [
       "<LAMBDA> DONE:   0%|          | 0/221 [00:00<?, ?it/s]"
      ]
     },
     "metadata": {},
     "output_type": "display_data"
    },
    {
     "data": {
      "application/vnd.jupyter.widget-view+json": {
       "model_id": "1c6c33986cf7445eae622ab7f7cff06a",
       "version_major": 2,
       "version_minor": 0
      },
      "text/plain": [
       "<LAMBDA> DONE:   0%|          | 0/221 [00:00<?, ?it/s]"
      ]
     },
     "metadata": {},
     "output_type": "display_data"
    },
    {
     "data": {
      "application/vnd.jupyter.widget-view+json": {
       "model_id": "e53fa51a8c71480999afdfc6bd4bd19c",
       "version_major": 2,
       "version_minor": 0
      },
      "text/plain": [
       "<LAMBDA> DONE:   0%|          | 0/221 [00:00<?, ?it/s]"
      ]
     },
     "metadata": {},
     "output_type": "display_data"
    },
    {
     "data": {
      "application/vnd.jupyter.widget-view+json": {
       "model_id": "13f54201887a491c95d8c47b65383091",
       "version_major": 2,
       "version_minor": 0
      },
      "text/plain": [
       "<LAMBDA> DONE:   0%|          | 0/204 [00:00<?, ?it/s]"
      ]
     },
     "metadata": {},
     "output_type": "display_data"
    },
    {
     "data": {
      "application/vnd.jupyter.widget-view+json": {
       "model_id": "08575dcba2d14f47a630970fca53eb5d",
       "version_major": 2,
       "version_minor": 0
      },
      "text/plain": [
       "<LAMBDA> DONE:   0%|          | 0/204 [00:00<?, ?it/s]"
      ]
     },
     "metadata": {},
     "output_type": "display_data"
    },
    {
     "data": {
      "application/vnd.jupyter.widget-view+json": {
       "model_id": "8f7c834ef2dd4fe8ab5952c4087c5221",
       "version_major": 2,
       "version_minor": 0
      },
      "text/plain": [
       "<LAMBDA> DONE:   0%|          | 0/204 [00:00<?, ?it/s]"
      ]
     },
     "metadata": {},
     "output_type": "display_data"
    },
    {
     "name": "stderr",
     "output_type": "stream",
     "text": [
      "/tmp/ipykernel_3805226/2830027787.py:60: FutureWarning: The behavior of DataFrame concatenation with empty or all-NA entries is deprecated. In a future version, this will no longer exclude empty or all-NA columns when determining the result dtypes. To retain the old behavior, exclude the relevant entries before the concat operation.\n",
      "  pd.concat(tmp).to_hdf(f'{RES_PATH}/{key}.h5', sp, complevel=9, complib='zlib')\n",
      "/tmp/ipykernel_3805226/2830027787.py:60: PerformanceWarning: \n",
      "your performance may suffer as PyTables will pickle object types that it cannot\n",
      "map directly to c-types [inferred_type->mixed,key->block2_values] [items->Index(['sp_tree_tail', 'sp_tree_head', 'ldo_category', 'mdo_category',\n",
      "       'species', 'ldo_gene', 'mdo_gene', 'outgroup_species', 'out_gene'],\n",
      "      dtype='object')]\n",
      "\n",
      "  pd.concat(tmp).to_hdf(f'{RES_PATH}/{key}.h5', sp, complevel=9, complib='zlib')\n"
     ]
    },
    {
     "data": {
      "application/vnd.jupyter.widget-view+json": {
       "model_id": "922765a48de947cea24d708b4aeecc6c",
       "version_major": 2,
       "version_minor": 0
      },
      "text/plain": [
       "<LAMBDA> DONE:   0%|          | 0/257 [00:00<?, ?it/s]"
      ]
     },
     "metadata": {},
     "output_type": "display_data"
    },
    {
     "data": {
      "application/vnd.jupyter.widget-view+json": {
       "model_id": "d2e784b91e0d4653b5a9b087e734ff4b",
       "version_major": 2,
       "version_minor": 0
      },
      "text/plain": [
       "<LAMBDA> DONE:   0%|          | 0/257 [00:00<?, ?it/s]"
      ]
     },
     "metadata": {},
     "output_type": "display_data"
    },
    {
     "data": {
      "application/vnd.jupyter.widget-view+json": {
       "model_id": "3b9b200c9abb4616ba6769a848df4b2d",
       "version_major": 2,
       "version_minor": 0
      },
      "text/plain": [
       "<LAMBDA> DONE:   0%|          | 0/257 [00:00<?, ?it/s]"
      ]
     },
     "metadata": {},
     "output_type": "display_data"
    },
    {
     "data": {
      "application/vnd.jupyter.widget-view+json": {
       "model_id": "47bccfbd7850457a94f01fb81b0d665a",
       "version_major": 2,
       "version_minor": 0
      },
      "text/plain": [
       "<LAMBDA> DONE:   0%|          | 0/98 [00:00<?, ?it/s]"
      ]
     },
     "metadata": {},
     "output_type": "display_data"
    },
    {
     "data": {
      "application/vnd.jupyter.widget-view+json": {
       "model_id": "dc4df942b8fe41d6b3437fe77e22d28f",
       "version_major": 2,
       "version_minor": 0
      },
      "text/plain": [
       "<LAMBDA> DONE:   0%|          | 0/98 [00:00<?, ?it/s]"
      ]
     },
     "metadata": {},
     "output_type": "display_data"
    },
    {
     "data": {
      "application/vnd.jupyter.widget-view+json": {
       "model_id": "b38ff7d3fef8462a8613ca981c482e83",
       "version_major": 2,
       "version_minor": 0
      },
      "text/plain": [
       "<LAMBDA> DONE:   0%|          | 0/98 [00:00<?, ?it/s]"
      ]
     },
     "metadata": {},
     "output_type": "display_data"
    },
    {
     "data": {
      "application/vnd.jupyter.widget-view+json": {
       "model_id": "966bca926bee45aaa9bd9e366a3cf4c7",
       "version_major": 2,
       "version_minor": 0
      },
      "text/plain": [
       "<LAMBDA> DONE:   0%|          | 0/38 [00:00<?, ?it/s]"
      ]
     },
     "metadata": {},
     "output_type": "display_data"
    },
    {
     "data": {
      "application/vnd.jupyter.widget-view+json": {
       "model_id": "4aa8742e127c43a581338397a81e3b6a",
       "version_major": 2,
       "version_minor": 0
      },
      "text/plain": [
       "<LAMBDA> DONE:   0%|          | 0/38 [00:00<?, ?it/s]"
      ]
     },
     "metadata": {},
     "output_type": "display_data"
    },
    {
     "data": {
      "application/vnd.jupyter.widget-view+json": {
       "model_id": "5657e6bb80f0440fab00644126ea6c38",
       "version_major": 2,
       "version_minor": 0
      },
      "text/plain": [
       "<LAMBDA> DONE:   0%|          | 0/38 [00:00<?, ?it/s]"
      ]
     },
     "metadata": {},
     "output_type": "display_data"
    },
    {
     "data": {
      "application/vnd.jupyter.widget-view+json": {
       "model_id": "1ef64df230724731adbe37917f8e8e23",
       "version_major": 2,
       "version_minor": 0
      },
      "text/plain": [
       "<LAMBDA> DONE:   0%|          | 0/866 [00:00<?, ?it/s]"
      ]
     },
     "metadata": {},
     "output_type": "display_data"
    },
    {
     "data": {
      "application/vnd.jupyter.widget-view+json": {
       "model_id": "a253cc9f12394ae2905b993690773970",
       "version_major": 2,
       "version_minor": 0
      },
      "text/plain": [
       "<LAMBDA> DONE:   0%|          | 0/866 [00:00<?, ?it/s]"
      ]
     },
     "metadata": {},
     "output_type": "display_data"
    },
    {
     "data": {
      "application/vnd.jupyter.widget-view+json": {
       "model_id": "d924cda2b60744ddbdcd6e5be9faa2d8",
       "version_major": 2,
       "version_minor": 0
      },
      "text/plain": [
       "<LAMBDA> DONE:   0%|          | 0/866 [00:00<?, ?it/s]"
      ]
     },
     "metadata": {},
     "output_type": "display_data"
    },
    {
     "data": {
      "application/vnd.jupyter.widget-view+json": {
       "model_id": "9d147ea40b0f4bbf9ef8b2bfaca86e9b",
       "version_major": 2,
       "version_minor": 0
      },
      "text/plain": [
       "<LAMBDA> DONE:   0%|          | 0/302 [00:00<?, ?it/s]"
      ]
     },
     "metadata": {},
     "output_type": "display_data"
    },
    {
     "data": {
      "application/vnd.jupyter.widget-view+json": {
       "model_id": "7eede3c3484a48109b69001c8ddc4f3b",
       "version_major": 2,
       "version_minor": 0
      },
      "text/plain": [
       "<LAMBDA> DONE:   0%|          | 0/302 [00:00<?, ?it/s]"
      ]
     },
     "metadata": {},
     "output_type": "display_data"
    },
    {
     "data": {
      "application/vnd.jupyter.widget-view+json": {
       "model_id": "9f114e411e1945348035e18201d4e721",
       "version_major": 2,
       "version_minor": 0
      },
      "text/plain": [
       "<LAMBDA> DONE:   0%|          | 0/302 [00:00<?, ?it/s]"
      ]
     },
     "metadata": {},
     "output_type": "display_data"
    },
    {
     "data": {
      "application/vnd.jupyter.widget-view+json": {
       "model_id": "aebe6e6bc9a44641bbb6159655a30a79",
       "version_major": 2,
       "version_minor": 0
      },
      "text/plain": [
       "<LAMBDA> DONE:   0%|          | 0/1066 [00:00<?, ?it/s]"
      ]
     },
     "metadata": {},
     "output_type": "display_data"
    },
    {
     "data": {
      "application/vnd.jupyter.widget-view+json": {
       "model_id": "57913df050ba4f60aa15e9169490cd50",
       "version_major": 2,
       "version_minor": 0
      },
      "text/plain": [
       "<LAMBDA> DONE:   0%|          | 0/1066 [00:00<?, ?it/s]"
      ]
     },
     "metadata": {},
     "output_type": "display_data"
    },
    {
     "data": {
      "application/vnd.jupyter.widget-view+json": {
       "model_id": "3e8d80bbe135470d910288a4327052ef",
       "version_major": 2,
       "version_minor": 0
      },
      "text/plain": [
       "<LAMBDA> DONE:   0%|          | 0/1066 [00:00<?, ?it/s]"
      ]
     },
     "metadata": {},
     "output_type": "display_data"
    },
    {
     "data": {
      "application/vnd.jupyter.widget-view+json": {
       "model_id": "0a70e03886434eeebc6130173d1a1be3",
       "version_major": 2,
       "version_minor": 0
      },
      "text/plain": [
       "<LAMBDA> DONE:   0%|          | 0/641 [00:00<?, ?it/s]"
      ]
     },
     "metadata": {},
     "output_type": "display_data"
    },
    {
     "data": {
      "application/vnd.jupyter.widget-view+json": {
       "model_id": "f629691a68864c75af0a557114701dcf",
       "version_major": 2,
       "version_minor": 0
      },
      "text/plain": [
       "<LAMBDA> DONE:   0%|          | 0/641 [00:00<?, ?it/s]"
      ]
     },
     "metadata": {},
     "output_type": "display_data"
    },
    {
     "data": {
      "application/vnd.jupyter.widget-view+json": {
       "model_id": "5e0225f6dbb34672ab42d5725b4cafaf",
       "version_major": 2,
       "version_minor": 0
      },
      "text/plain": [
       "<LAMBDA> DONE:   0%|          | 0/641 [00:00<?, ?it/s]"
      ]
     },
     "metadata": {},
     "output_type": "display_data"
    },
    {
     "data": {
      "application/vnd.jupyter.widget-view+json": {
       "model_id": "bb3f13f63fc643449e6624fdcc508c57",
       "version_major": 2,
       "version_minor": 0
      },
      "text/plain": [
       "<LAMBDA> DONE:   0%|          | 0/221 [00:00<?, ?it/s]"
      ]
     },
     "metadata": {},
     "output_type": "display_data"
    },
    {
     "data": {
      "application/vnd.jupyter.widget-view+json": {
       "model_id": "f61eabafb23d45cd8799b9e503ca1c77",
       "version_major": 2,
       "version_minor": 0
      },
      "text/plain": [
       "<LAMBDA> DONE:   0%|          | 0/221 [00:00<?, ?it/s]"
      ]
     },
     "metadata": {},
     "output_type": "display_data"
    },
    {
     "data": {
      "application/vnd.jupyter.widget-view+json": {
       "model_id": "b5c019d28748496e8d3e44ebeabf1581",
       "version_major": 2,
       "version_minor": 0
      },
      "text/plain": [
       "<LAMBDA> DONE:   0%|          | 0/221 [00:00<?, ?it/s]"
      ]
     },
     "metadata": {},
     "output_type": "display_data"
    },
    {
     "data": {
      "application/vnd.jupyter.widget-view+json": {
       "model_id": "4112a95a41af4f3782fe3f7e1639fb28",
       "version_major": 2,
       "version_minor": 0
      },
      "text/plain": [
       "<LAMBDA> DONE:   0%|          | 0/204 [00:00<?, ?it/s]"
      ]
     },
     "metadata": {},
     "output_type": "display_data"
    },
    {
     "data": {
      "application/vnd.jupyter.widget-view+json": {
       "model_id": "c2449796874842e0b23baa99102da8d6",
       "version_major": 2,
       "version_minor": 0
      },
      "text/plain": [
       "<LAMBDA> DONE:   0%|          | 0/204 [00:00<?, ?it/s]"
      ]
     },
     "metadata": {},
     "output_type": "display_data"
    },
    {
     "data": {
      "application/vnd.jupyter.widget-view+json": {
       "model_id": "db10f7e6ca384cbea917b74af1fdc473",
       "version_major": 2,
       "version_minor": 0
      },
      "text/plain": [
       "<LAMBDA> DONE:   0%|          | 0/204 [00:00<?, ?it/s]"
      ]
     },
     "metadata": {},
     "output_type": "display_data"
    },
    {
     "name": "stderr",
     "output_type": "stream",
     "text": [
      "/tmp/ipykernel_3805226/2830027787.py:60: FutureWarning: The behavior of DataFrame concatenation with empty or all-NA entries is deprecated. In a future version, this will no longer exclude empty or all-NA columns when determining the result dtypes. To retain the old behavior, exclude the relevant entries before the concat operation.\n",
      "  pd.concat(tmp).to_hdf(f'{RES_PATH}/{key}.h5', sp, complevel=9, complib='zlib')\n",
      "/tmp/ipykernel_3805226/2830027787.py:60: PerformanceWarning: \n",
      "your performance may suffer as PyTables will pickle object types that it cannot\n",
      "map directly to c-types [inferred_type->mixed,key->block2_values] [items->Index(['sp_tree_tail', 'sp_tree_head', 'ldo_category', 'mdo_category',\n",
      "       'species', 'ldo_gene', 'mdo_gene', 'outgroup_species', 'out_gene'],\n",
      "      dtype='object')]\n",
      "\n",
      "  pd.concat(tmp).to_hdf(f'{RES_PATH}/{key}.h5', sp, complevel=9, complib='zlib')\n"
     ]
    },
    {
     "data": {
      "application/vnd.jupyter.widget-view+json": {
       "model_id": "115178479a154e5193a64cadec7ab232",
       "version_major": 2,
       "version_minor": 0
      },
      "text/plain": [
       "<LAMBDA> DONE:   0%|          | 0/930 [00:00<?, ?it/s]"
      ]
     },
     "metadata": {},
     "output_type": "display_data"
    },
    {
     "data": {
      "application/vnd.jupyter.widget-view+json": {
       "model_id": "bbaa6bc6ab5446929421403f86fbdbe5",
       "version_major": 2,
       "version_minor": 0
      },
      "text/plain": [
       "<LAMBDA> DONE:   0%|          | 0/930 [00:00<?, ?it/s]"
      ]
     },
     "metadata": {},
     "output_type": "display_data"
    },
    {
     "data": {
      "application/vnd.jupyter.widget-view+json": {
       "model_id": "8eb6f7e17f564a5eafc92f6c81960d7f",
       "version_major": 2,
       "version_minor": 0
      },
      "text/plain": [
       "<LAMBDA> DONE:   0%|          | 0/930 [00:00<?, ?it/s]"
      ]
     },
     "metadata": {},
     "output_type": "display_data"
    },
    {
     "data": {
      "application/vnd.jupyter.widget-view+json": {
       "model_id": "6896822e32e343029b6bc4711551e786",
       "version_major": 2,
       "version_minor": 0
      },
      "text/plain": [
       "<LAMBDA> DONE:   0%|          | 0/175 [00:00<?, ?it/s]"
      ]
     },
     "metadata": {},
     "output_type": "display_data"
    },
    {
     "data": {
      "application/vnd.jupyter.widget-view+json": {
       "model_id": "16bfb6f66d114ad9ad3394eb5daa3c54",
       "version_major": 2,
       "version_minor": 0
      },
      "text/plain": [
       "<LAMBDA> DONE:   0%|          | 0/175 [00:00<?, ?it/s]"
      ]
     },
     "metadata": {},
     "output_type": "display_data"
    },
    {
     "data": {
      "application/vnd.jupyter.widget-view+json": {
       "model_id": "e40e398f6891455babab7280f611bb42",
       "version_major": 2,
       "version_minor": 0
      },
      "text/plain": [
       "<LAMBDA> DONE:   0%|          | 0/175 [00:00<?, ?it/s]"
      ]
     },
     "metadata": {},
     "output_type": "display_data"
    },
    {
     "data": {
      "application/vnd.jupyter.widget-view+json": {
       "model_id": "d6c4e2ba0f95436d94cc8ebeaad861f4",
       "version_major": 2,
       "version_minor": 0
      },
      "text/plain": [
       "<LAMBDA> DONE:   0%|          | 0/172 [00:00<?, ?it/s]"
      ]
     },
     "metadata": {},
     "output_type": "display_data"
    },
    {
     "data": {
      "application/vnd.jupyter.widget-view+json": {
       "model_id": "ec71f31acd5d411f8013b63976c0d031",
       "version_major": 2,
       "version_minor": 0
      },
      "text/plain": [
       "<LAMBDA> DONE:   0%|          | 0/172 [00:00<?, ?it/s]"
      ]
     },
     "metadata": {},
     "output_type": "display_data"
    },
    {
     "data": {
      "application/vnd.jupyter.widget-view+json": {
       "model_id": "00084224ebe8419e877a69cd7ce7a6ca",
       "version_major": 2,
       "version_minor": 0
      },
      "text/plain": [
       "<LAMBDA> DONE:   0%|          | 0/172 [00:00<?, ?it/s]"
      ]
     },
     "metadata": {},
     "output_type": "display_data"
    },
    {
     "data": {
      "application/vnd.jupyter.widget-view+json": {
       "model_id": "f76aa52c935246d78c15602755e49057",
       "version_major": 2,
       "version_minor": 0
      },
      "text/plain": [
       "<LAMBDA> DONE:   0%|          | 0/1680 [00:00<?, ?it/s]"
      ]
     },
     "metadata": {},
     "output_type": "display_data"
    },
    {
     "data": {
      "application/vnd.jupyter.widget-view+json": {
       "model_id": "3b72ceff1036448aa518b045d3d7132d",
       "version_major": 2,
       "version_minor": 0
      },
      "text/plain": [
       "<LAMBDA> DONE:   0%|          | 0/1680 [00:00<?, ?it/s]"
      ]
     },
     "metadata": {},
     "output_type": "display_data"
    },
    {
     "data": {
      "application/vnd.jupyter.widget-view+json": {
       "model_id": "6940ac638e0b4f9ab0b00ad67610512a",
       "version_major": 2,
       "version_minor": 0
      },
      "text/plain": [
       "<LAMBDA> DONE:   0%|          | 0/1680 [00:00<?, ?it/s]"
      ]
     },
     "metadata": {},
     "output_type": "display_data"
    },
    {
     "data": {
      "application/vnd.jupyter.widget-view+json": {
       "model_id": "8fae506d6c254f178f8905bbabc416f5",
       "version_major": 2,
       "version_minor": 0
      },
      "text/plain": [
       "<LAMBDA> DONE:   0%|          | 0/335 [00:00<?, ?it/s]"
      ]
     },
     "metadata": {},
     "output_type": "display_data"
    },
    {
     "data": {
      "application/vnd.jupyter.widget-view+json": {
       "model_id": "ba748f0f955447c9b8a0b771037631c8",
       "version_major": 2,
       "version_minor": 0
      },
      "text/plain": [
       "<LAMBDA> DONE:   0%|          | 0/335 [00:00<?, ?it/s]"
      ]
     },
     "metadata": {},
     "output_type": "display_data"
    },
    {
     "data": {
      "application/vnd.jupyter.widget-view+json": {
       "model_id": "3d8cb2b961be481399c44adcd5acae59",
       "version_major": 2,
       "version_minor": 0
      },
      "text/plain": [
       "<LAMBDA> DONE:   0%|          | 0/335 [00:00<?, ?it/s]"
      ]
     },
     "metadata": {},
     "output_type": "display_data"
    },
    {
     "data": {
      "application/vnd.jupyter.widget-view+json": {
       "model_id": "a7492c4b6b4f4728aed22d00f4a2d195",
       "version_major": 2,
       "version_minor": 0
      },
      "text/plain": [
       "<LAMBDA> DONE:   0%|          | 0/3663 [00:00<?, ?it/s]"
      ]
     },
     "metadata": {},
     "output_type": "display_data"
    },
    {
     "data": {
      "application/vnd.jupyter.widget-view+json": {
       "model_id": "bfb5417a985743c9b35a067ea477eaa0",
       "version_major": 2,
       "version_minor": 0
      },
      "text/plain": [
       "<LAMBDA> DONE:   0%|          | 0/3663 [00:00<?, ?it/s]"
      ]
     },
     "metadata": {},
     "output_type": "display_data"
    },
    {
     "data": {
      "application/vnd.jupyter.widget-view+json": {
       "model_id": "033b990a357847999c0f3b11c5249366",
       "version_major": 2,
       "version_minor": 0
      },
      "text/plain": [
       "<LAMBDA> DONE:   0%|          | 0/3663 [00:00<?, ?it/s]"
      ]
     },
     "metadata": {},
     "output_type": "display_data"
    },
    {
     "data": {
      "application/vnd.jupyter.widget-view+json": {
       "model_id": "53a3bf04f6ef4a9f88fbf7cac5aa4ebc",
       "version_major": 2,
       "version_minor": 0
      },
      "text/plain": [
       "<LAMBDA> DONE:   0%|          | 0/26 [00:00<?, ?it/s]"
      ]
     },
     "metadata": {},
     "output_type": "display_data"
    },
    {
     "data": {
      "application/vnd.jupyter.widget-view+json": {
       "model_id": "724cd1e9c5184239bc73029e60d3fce5",
       "version_major": 2,
       "version_minor": 0
      },
      "text/plain": [
       "<LAMBDA> DONE:   0%|          | 0/26 [00:00<?, ?it/s]"
      ]
     },
     "metadata": {},
     "output_type": "display_data"
    },
    {
     "data": {
      "application/vnd.jupyter.widget-view+json": {
       "model_id": "181353e0281d4a80b099e1c3ce7e94e4",
       "version_major": 2,
       "version_minor": 0
      },
      "text/plain": [
       "<LAMBDA> DONE:   0%|          | 0/26 [00:00<?, ?it/s]"
      ]
     },
     "metadata": {},
     "output_type": "display_data"
    },
    {
     "name": "stderr",
     "output_type": "stream",
     "text": [
      "/tmp/ipykernel_3805226/2830027787.py:60: PerformanceWarning: \n",
      "your performance may suffer as PyTables will pickle object types that it cannot\n",
      "map directly to c-types [inferred_type->mixed,key->block2_values] [items->Index(['sp_tree_tail', 'sp_tree_head', 'ldo_category', 'mdo_category',\n",
      "       'species', 'ldo_gene', 'mdo_gene', 'outgroup_species', 'out_gene'],\n",
      "      dtype='object')]\n",
      "\n",
      "  pd.concat(tmp).to_hdf(f'{RES_PATH}/{key}.h5', sp, complevel=9, complib='zlib')\n"
     ]
    },
    {
     "data": {
      "application/vnd.jupyter.widget-view+json": {
       "model_id": "61c23c06d66a486cae26afcf9de1c935",
       "version_major": 2,
       "version_minor": 0
      },
      "text/plain": [
       "<LAMBDA> DONE:   0%|          | 0/930 [00:00<?, ?it/s]"
      ]
     },
     "metadata": {},
     "output_type": "display_data"
    },
    {
     "data": {
      "application/vnd.jupyter.widget-view+json": {
       "model_id": "3c59720e0f4e4f25a5a6dd06df9f679d",
       "version_major": 2,
       "version_minor": 0
      },
      "text/plain": [
       "<LAMBDA> DONE:   0%|          | 0/930 [00:00<?, ?it/s]"
      ]
     },
     "metadata": {},
     "output_type": "display_data"
    },
    {
     "data": {
      "application/vnd.jupyter.widget-view+json": {
       "model_id": "2386c36281224fd4b4df855bca3ca023",
       "version_major": 2,
       "version_minor": 0
      },
      "text/plain": [
       "<LAMBDA> DONE:   0%|          | 0/930 [00:00<?, ?it/s]"
      ]
     },
     "metadata": {},
     "output_type": "display_data"
    },
    {
     "data": {
      "application/vnd.jupyter.widget-view+json": {
       "model_id": "946e05f31ffd467aa5423f05b753a86a",
       "version_major": 2,
       "version_minor": 0
      },
      "text/plain": [
       "<LAMBDA> DONE:   0%|          | 0/172 [00:00<?, ?it/s]"
      ]
     },
     "metadata": {},
     "output_type": "display_data"
    },
    {
     "data": {
      "application/vnd.jupyter.widget-view+json": {
       "model_id": "be4549aa6ffa4e039f083e0ea9c432d3",
       "version_major": 2,
       "version_minor": 0
      },
      "text/plain": [
       "<LAMBDA> DONE:   0%|          | 0/172 [00:00<?, ?it/s]"
      ]
     },
     "metadata": {},
     "output_type": "display_data"
    },
    {
     "data": {
      "application/vnd.jupyter.widget-view+json": {
       "model_id": "41c4e5b44aae45a0b328bd75bb1ca87c",
       "version_major": 2,
       "version_minor": 0
      },
      "text/plain": [
       "<LAMBDA> DONE:   0%|          | 0/172 [00:00<?, ?it/s]"
      ]
     },
     "metadata": {},
     "output_type": "display_data"
    },
    {
     "data": {
      "application/vnd.jupyter.widget-view+json": {
       "model_id": "f559878a455941de9d1820955c04d5a3",
       "version_major": 2,
       "version_minor": 0
      },
      "text/plain": [
       "<LAMBDA> DONE:   0%|          | 0/1680 [00:00<?, ?it/s]"
      ]
     },
     "metadata": {},
     "output_type": "display_data"
    },
    {
     "data": {
      "application/vnd.jupyter.widget-view+json": {
       "model_id": "79bc630cb8684b9da9e5b0b59b3a3322",
       "version_major": 2,
       "version_minor": 0
      },
      "text/plain": [
       "<LAMBDA> DONE:   0%|          | 0/1680 [00:00<?, ?it/s]"
      ]
     },
     "metadata": {},
     "output_type": "display_data"
    },
    {
     "data": {
      "application/vnd.jupyter.widget-view+json": {
       "model_id": "bdf71190c80447fd853a741e1398f5f6",
       "version_major": 2,
       "version_minor": 0
      },
      "text/plain": [
       "<LAMBDA> DONE:   0%|          | 0/1680 [00:00<?, ?it/s]"
      ]
     },
     "metadata": {},
     "output_type": "display_data"
    },
    {
     "data": {
      "application/vnd.jupyter.widget-view+json": {
       "model_id": "bb687f7756ee44459c2ccc3537be275c",
       "version_major": 2,
       "version_minor": 0
      },
      "text/plain": [
       "<LAMBDA> DONE:   0%|          | 0/335 [00:00<?, ?it/s]"
      ]
     },
     "metadata": {},
     "output_type": "display_data"
    },
    {
     "data": {
      "application/vnd.jupyter.widget-view+json": {
       "model_id": "f6cfb1340edc4646b6bc2eea5ca32a76",
       "version_major": 2,
       "version_minor": 0
      },
      "text/plain": [
       "<LAMBDA> DONE:   0%|          | 0/335 [00:00<?, ?it/s]"
      ]
     },
     "metadata": {},
     "output_type": "display_data"
    },
    {
     "data": {
      "application/vnd.jupyter.widget-view+json": {
       "model_id": "7115ce653a304d0db04a37847988d259",
       "version_major": 2,
       "version_minor": 0
      },
      "text/plain": [
       "<LAMBDA> DONE:   0%|          | 0/335 [00:00<?, ?it/s]"
      ]
     },
     "metadata": {},
     "output_type": "display_data"
    },
    {
     "data": {
      "application/vnd.jupyter.widget-view+json": {
       "model_id": "5784a2f8380e42c8b27ace754b43f034",
       "version_major": 2,
       "version_minor": 0
      },
      "text/plain": [
       "<LAMBDA> DONE:   0%|          | 0/3663 [00:00<?, ?it/s]"
      ]
     },
     "metadata": {},
     "output_type": "display_data"
    },
    {
     "data": {
      "application/vnd.jupyter.widget-view+json": {
       "model_id": "8d28b1ae69364a50b2a8ae915075e071",
       "version_major": 2,
       "version_minor": 0
      },
      "text/plain": [
       "<LAMBDA> DONE:   0%|          | 0/3663 [00:00<?, ?it/s]"
      ]
     },
     "metadata": {},
     "output_type": "display_data"
    },
    {
     "data": {
      "application/vnd.jupyter.widget-view+json": {
       "model_id": "607fa099163e44dabff00f2bf7a30884",
       "version_major": 2,
       "version_minor": 0
      },
      "text/plain": [
       "<LAMBDA> DONE:   0%|          | 0/3663 [00:00<?, ?it/s]"
      ]
     },
     "metadata": {},
     "output_type": "display_data"
    },
    {
     "data": {
      "application/vnd.jupyter.widget-view+json": {
       "model_id": "e6757314c7fc4da6baf259a383c341c9",
       "version_major": 2,
       "version_minor": 0
      },
      "text/plain": [
       "<LAMBDA> DONE:   0%|          | 0/26 [00:00<?, ?it/s]"
      ]
     },
     "metadata": {},
     "output_type": "display_data"
    },
    {
     "data": {
      "application/vnd.jupyter.widget-view+json": {
       "model_id": "5e2c1e629be94427b7b9caf4713552ac",
       "version_major": 2,
       "version_minor": 0
      },
      "text/plain": [
       "<LAMBDA> DONE:   0%|          | 0/26 [00:00<?, ?it/s]"
      ]
     },
     "metadata": {},
     "output_type": "display_data"
    },
    {
     "data": {
      "application/vnd.jupyter.widget-view+json": {
       "model_id": "d90251cb65e3491cacad78997c0be33e",
       "version_major": 2,
       "version_minor": 0
      },
      "text/plain": [
       "<LAMBDA> DONE:   0%|          | 0/26 [00:00<?, ?it/s]"
      ]
     },
     "metadata": {},
     "output_type": "display_data"
    },
    {
     "name": "stderr",
     "output_type": "stream",
     "text": [
      "/tmp/ipykernel_3805226/2830027787.py:60: FutureWarning: The behavior of DataFrame concatenation with empty or all-NA entries is deprecated. In a future version, this will no longer exclude empty or all-NA columns when determining the result dtypes. To retain the old behavior, exclude the relevant entries before the concat operation.\n",
      "  pd.concat(tmp).to_hdf(f'{RES_PATH}/{key}.h5', sp, complevel=9, complib='zlib')\n",
      "/tmp/ipykernel_3805226/2830027787.py:60: PerformanceWarning: \n",
      "your performance may suffer as PyTables will pickle object types that it cannot\n",
      "map directly to c-types [inferred_type->mixed,key->block2_values] [items->Index(['sp_tree_tail', 'sp_tree_head', 'ldo_category', 'mdo_category',\n",
      "       'species', 'ldo_gene', 'mdo_gene', 'outgroup_species', 'out_gene'],\n",
      "      dtype='object')]\n",
      "\n",
      "  pd.concat(tmp).to_hdf(f'{RES_PATH}/{key}.h5', sp, complevel=9, complib='zlib')\n"
     ]
    },
    {
     "data": {
      "application/vnd.jupyter.widget-view+json": {
       "model_id": "e609bd3431d14a5c871902b9ae81d8b5",
       "version_major": 2,
       "version_minor": 0
      },
      "text/plain": [
       "<LAMBDA> DONE:   0%|          | 0/304 [00:00<?, ?it/s]"
      ]
     },
     "metadata": {},
     "output_type": "display_data"
    },
    {
     "data": {
      "application/vnd.jupyter.widget-view+json": {
       "model_id": "c3d6db3d582043aba9d0d86d09d6b227",
       "version_major": 2,
       "version_minor": 0
      },
      "text/plain": [
       "<LAMBDA> DONE:   0%|          | 0/304 [00:00<?, ?it/s]"
      ]
     },
     "metadata": {},
     "output_type": "display_data"
    },
    {
     "data": {
      "application/vnd.jupyter.widget-view+json": {
       "model_id": "0158715a3b2a442f9702aa53b31668fc",
       "version_major": 2,
       "version_minor": 0
      },
      "text/plain": [
       "<LAMBDA> DONE:   0%|          | 0/304 [00:00<?, ?it/s]"
      ]
     },
     "metadata": {},
     "output_type": "display_data"
    },
    {
     "data": {
      "application/vnd.jupyter.widget-view+json": {
       "model_id": "d8b7a8359e8b44cda359d9f01aa9faa6",
       "version_major": 2,
       "version_minor": 0
      },
      "text/plain": [
       "<LAMBDA> DONE:   0%|          | 0/97 [00:00<?, ?it/s]"
      ]
     },
     "metadata": {},
     "output_type": "display_data"
    },
    {
     "data": {
      "application/vnd.jupyter.widget-view+json": {
       "model_id": "69084ba2c036466aa950ce3318c69c44",
       "version_major": 2,
       "version_minor": 0
      },
      "text/plain": [
       "<LAMBDA> DONE:   0%|          | 0/97 [00:00<?, ?it/s]"
      ]
     },
     "metadata": {},
     "output_type": "display_data"
    },
    {
     "data": {
      "application/vnd.jupyter.widget-view+json": {
       "model_id": "3b1b3d08e81244f0a6b8be902541fa39",
       "version_major": 2,
       "version_minor": 0
      },
      "text/plain": [
       "<LAMBDA> DONE:   0%|          | 0/97 [00:00<?, ?it/s]"
      ]
     },
     "metadata": {},
     "output_type": "display_data"
    },
    {
     "data": {
      "application/vnd.jupyter.widget-view+json": {
       "model_id": "f2ac90afdb6b4c3482bb95a0f7794861",
       "version_major": 2,
       "version_minor": 0
      },
      "text/plain": [
       "<LAMBDA> DONE:   0%|          | 0/58 [00:00<?, ?it/s]"
      ]
     },
     "metadata": {},
     "output_type": "display_data"
    },
    {
     "data": {
      "application/vnd.jupyter.widget-view+json": {
       "model_id": "16f9aee8cb7049b4b3c2f2cc1ae53609",
       "version_major": 2,
       "version_minor": 0
      },
      "text/plain": [
       "<LAMBDA> DONE:   0%|          | 0/58 [00:00<?, ?it/s]"
      ]
     },
     "metadata": {},
     "output_type": "display_data"
    },
    {
     "data": {
      "application/vnd.jupyter.widget-view+json": {
       "model_id": "acdca6b814a14034b953b69ae53aec07",
       "version_major": 2,
       "version_minor": 0
      },
      "text/plain": [
       "<LAMBDA> DONE:   0%|          | 0/58 [00:00<?, ?it/s]"
      ]
     },
     "metadata": {},
     "output_type": "display_data"
    },
    {
     "data": {
      "application/vnd.jupyter.widget-view+json": {
       "model_id": "9f56580eb76b476da20707ab1e0b3814",
       "version_major": 2,
       "version_minor": 0
      },
      "text/plain": [
       "<LAMBDA> DONE:   0%|          | 0/318 [00:00<?, ?it/s]"
      ]
     },
     "metadata": {},
     "output_type": "display_data"
    },
    {
     "data": {
      "application/vnd.jupyter.widget-view+json": {
       "model_id": "142925fdc97149629f142f2411df7581",
       "version_major": 2,
       "version_minor": 0
      },
      "text/plain": [
       "<LAMBDA> DONE:   0%|          | 0/318 [00:00<?, ?it/s]"
      ]
     },
     "metadata": {},
     "output_type": "display_data"
    },
    {
     "data": {
      "application/vnd.jupyter.widget-view+json": {
       "model_id": "f65a3924ddd84a389cdf05ced7bcf286",
       "version_major": 2,
       "version_minor": 0
      },
      "text/plain": [
       "<LAMBDA> DONE:   0%|          | 0/318 [00:00<?, ?it/s]"
      ]
     },
     "metadata": {},
     "output_type": "display_data"
    },
    {
     "data": {
      "application/vnd.jupyter.widget-view+json": {
       "model_id": "4c94cf72b2524410803d9b899e3bc516",
       "version_major": 2,
       "version_minor": 0
      },
      "text/plain": [
       "<LAMBDA> DONE:   0%|          | 0/104 [00:00<?, ?it/s]"
      ]
     },
     "metadata": {},
     "output_type": "display_data"
    },
    {
     "data": {
      "application/vnd.jupyter.widget-view+json": {
       "model_id": "2e3830d2f0f74b609f32c321e0895c8a",
       "version_major": 2,
       "version_minor": 0
      },
      "text/plain": [
       "<LAMBDA> DONE:   0%|          | 0/104 [00:00<?, ?it/s]"
      ]
     },
     "metadata": {},
     "output_type": "display_data"
    },
    {
     "data": {
      "application/vnd.jupyter.widget-view+json": {
       "model_id": "0d4801403dc14b338ae08187e89068b9",
       "version_major": 2,
       "version_minor": 0
      },
      "text/plain": [
       "<LAMBDA> DONE:   0%|          | 0/104 [00:00<?, ?it/s]"
      ]
     },
     "metadata": {},
     "output_type": "display_data"
    },
    {
     "data": {
      "application/vnd.jupyter.widget-view+json": {
       "model_id": "e20714532ee44027bb30c2277112eddd",
       "version_major": 2,
       "version_minor": 0
      },
      "text/plain": [
       "<LAMBDA> DONE:   0%|          | 0/778 [00:00<?, ?it/s]"
      ]
     },
     "metadata": {},
     "output_type": "display_data"
    },
    {
     "data": {
      "application/vnd.jupyter.widget-view+json": {
       "model_id": "3439c12e567a43c5915b44d852a20872",
       "version_major": 2,
       "version_minor": 0
      },
      "text/plain": [
       "<LAMBDA> DONE:   0%|          | 0/778 [00:00<?, ?it/s]"
      ]
     },
     "metadata": {},
     "output_type": "display_data"
    },
    {
     "data": {
      "application/vnd.jupyter.widget-view+json": {
       "model_id": "10bcaad69747487f8ef7a2a00281a600",
       "version_major": 2,
       "version_minor": 0
      },
      "text/plain": [
       "<LAMBDA> DONE:   0%|          | 0/778 [00:00<?, ?it/s]"
      ]
     },
     "metadata": {},
     "output_type": "display_data"
    },
    {
     "data": {
      "application/vnd.jupyter.widget-view+json": {
       "model_id": "b7a028a81e8a4daaaa52c8041e5f4377",
       "version_major": 2,
       "version_minor": 0
      },
      "text/plain": [
       "<LAMBDA> DONE:   0%|          | 0/319 [00:00<?, ?it/s]"
      ]
     },
     "metadata": {},
     "output_type": "display_data"
    },
    {
     "data": {
      "application/vnd.jupyter.widget-view+json": {
       "model_id": "6b2fc23a8daf47dfbdebe06994e6aad2",
       "version_major": 2,
       "version_minor": 0
      },
      "text/plain": [
       "<LAMBDA> DONE:   0%|          | 0/319 [00:00<?, ?it/s]"
      ]
     },
     "metadata": {},
     "output_type": "display_data"
    },
    {
     "data": {
      "application/vnd.jupyter.widget-view+json": {
       "model_id": "6b0d929c88c947c69712dd5d98689470",
       "version_major": 2,
       "version_minor": 0
      },
      "text/plain": [
       "<LAMBDA> DONE:   0%|          | 0/319 [00:00<?, ?it/s]"
      ]
     },
     "metadata": {},
     "output_type": "display_data"
    },
    {
     "data": {
      "application/vnd.jupyter.widget-view+json": {
       "model_id": "36ce04f5352642e2aaf26c11b8cc6451",
       "version_major": 2,
       "version_minor": 0
      },
      "text/plain": [
       "<LAMBDA> DONE:   0%|          | 0/2016 [00:00<?, ?it/s]"
      ]
     },
     "metadata": {},
     "output_type": "display_data"
    },
    {
     "data": {
      "application/vnd.jupyter.widget-view+json": {
       "model_id": "34c95dd13bb64682ad603c2e7ea65b62",
       "version_major": 2,
       "version_minor": 0
      },
      "text/plain": [
       "<LAMBDA> DONE:   0%|          | 0/2016 [00:00<?, ?it/s]"
      ]
     },
     "metadata": {},
     "output_type": "display_data"
    },
    {
     "data": {
      "application/vnd.jupyter.widget-view+json": {
       "model_id": "0d6467b6342b49d49a590fff359a6994",
       "version_major": 2,
       "version_minor": 0
      },
      "text/plain": [
       "<LAMBDA> DONE:   0%|          | 0/2016 [00:00<?, ?it/s]"
      ]
     },
     "metadata": {},
     "output_type": "display_data"
    },
    {
     "name": "stderr",
     "output_type": "stream",
     "text": [
      "/tmp/ipykernel_3805226/2830027787.py:60: PerformanceWarning: \n",
      "your performance may suffer as PyTables will pickle object types that it cannot\n",
      "map directly to c-types [inferred_type->mixed,key->block2_values] [items->Index(['sp_tree_tail', 'sp_tree_head', 'ldo_category', 'mdo_category',\n",
      "       'species', 'ldo_gene', 'mdo_gene', 'outgroup_species', 'out_gene'],\n",
      "      dtype='object')]\n",
      "\n",
      "  pd.concat(tmp).to_hdf(f'{RES_PATH}/{key}.h5', sp, complevel=9, complib='zlib')\n"
     ]
    },
    {
     "data": {
      "application/vnd.jupyter.widget-view+json": {
       "model_id": "ce46574f7a9347a0be531abb4f86c2f1",
       "version_major": 2,
       "version_minor": 0
      },
      "text/plain": [
       "<LAMBDA> DONE:   0%|          | 0/304 [00:00<?, ?it/s]"
      ]
     },
     "metadata": {},
     "output_type": "display_data"
    },
    {
     "data": {
      "application/vnd.jupyter.widget-view+json": {
       "model_id": "ab2fb7845c214e97890c9040e96dd8c6",
       "version_major": 2,
       "version_minor": 0
      },
      "text/plain": [
       "<LAMBDA> DONE:   0%|          | 0/304 [00:00<?, ?it/s]"
      ]
     },
     "metadata": {},
     "output_type": "display_data"
    },
    {
     "data": {
      "application/vnd.jupyter.widget-view+json": {
       "model_id": "fbb77ecfe65b491e9324604f7a32704a",
       "version_major": 2,
       "version_minor": 0
      },
      "text/plain": [
       "<LAMBDA> DONE:   0%|          | 0/304 [00:00<?, ?it/s]"
      ]
     },
     "metadata": {},
     "output_type": "display_data"
    },
    {
     "data": {
      "application/vnd.jupyter.widget-view+json": {
       "model_id": "36a7b832562a4a8a869c9d8993d26422",
       "version_major": 2,
       "version_minor": 0
      },
      "text/plain": [
       "<LAMBDA> DONE:   0%|          | 0/97 [00:00<?, ?it/s]"
      ]
     },
     "metadata": {},
     "output_type": "display_data"
    },
    {
     "data": {
      "application/vnd.jupyter.widget-view+json": {
       "model_id": "e0347c458b4d49bfa1cbd826c49c355b",
       "version_major": 2,
       "version_minor": 0
      },
      "text/plain": [
       "<LAMBDA> DONE:   0%|          | 0/97 [00:00<?, ?it/s]"
      ]
     },
     "metadata": {},
     "output_type": "display_data"
    },
    {
     "data": {
      "application/vnd.jupyter.widget-view+json": {
       "model_id": "f2b33157f37e412bb310ce401c0b22d9",
       "version_major": 2,
       "version_minor": 0
      },
      "text/plain": [
       "<LAMBDA> DONE:   0%|          | 0/97 [00:00<?, ?it/s]"
      ]
     },
     "metadata": {},
     "output_type": "display_data"
    },
    {
     "data": {
      "application/vnd.jupyter.widget-view+json": {
       "model_id": "a08f7f00d12446e29b36250728bb61c5",
       "version_major": 2,
       "version_minor": 0
      },
      "text/plain": [
       "<LAMBDA> DONE:   0%|          | 0/58 [00:00<?, ?it/s]"
      ]
     },
     "metadata": {},
     "output_type": "display_data"
    },
    {
     "data": {
      "application/vnd.jupyter.widget-view+json": {
       "model_id": "31ac0ccda7204b988d50395f60adf336",
       "version_major": 2,
       "version_minor": 0
      },
      "text/plain": [
       "<LAMBDA> DONE:   0%|          | 0/58 [00:00<?, ?it/s]"
      ]
     },
     "metadata": {},
     "output_type": "display_data"
    },
    {
     "data": {
      "application/vnd.jupyter.widget-view+json": {
       "model_id": "9e7197726c6f4cd19d28fe4f27caabbb",
       "version_major": 2,
       "version_minor": 0
      },
      "text/plain": [
       "<LAMBDA> DONE:   0%|          | 0/58 [00:00<?, ?it/s]"
      ]
     },
     "metadata": {},
     "output_type": "display_data"
    },
    {
     "data": {
      "application/vnd.jupyter.widget-view+json": {
       "model_id": "5652e0c71b0747e7b7c3c8f4133754c2",
       "version_major": 2,
       "version_minor": 0
      },
      "text/plain": [
       "<LAMBDA> DONE:   0%|          | 0/318 [00:00<?, ?it/s]"
      ]
     },
     "metadata": {},
     "output_type": "display_data"
    },
    {
     "data": {
      "application/vnd.jupyter.widget-view+json": {
       "model_id": "04b54cde304f48aa872fd1ce58eaa135",
       "version_major": 2,
       "version_minor": 0
      },
      "text/plain": [
       "<LAMBDA> DONE:   0%|          | 0/318 [00:00<?, ?it/s]"
      ]
     },
     "metadata": {},
     "output_type": "display_data"
    },
    {
     "data": {
      "application/vnd.jupyter.widget-view+json": {
       "model_id": "f1d586f61ab04d73ac5d7e5d379864df",
       "version_major": 2,
       "version_minor": 0
      },
      "text/plain": [
       "<LAMBDA> DONE:   0%|          | 0/318 [00:00<?, ?it/s]"
      ]
     },
     "metadata": {},
     "output_type": "display_data"
    },
    {
     "data": {
      "application/vnd.jupyter.widget-view+json": {
       "model_id": "21c6185d5ef1415ea43dfbcb7a9e48dd",
       "version_major": 2,
       "version_minor": 0
      },
      "text/plain": [
       "<LAMBDA> DONE:   0%|          | 0/104 [00:00<?, ?it/s]"
      ]
     },
     "metadata": {},
     "output_type": "display_data"
    },
    {
     "data": {
      "application/vnd.jupyter.widget-view+json": {
       "model_id": "ea5692c2a0ee49939850ad20f9ede717",
       "version_major": 2,
       "version_minor": 0
      },
      "text/plain": [
       "<LAMBDA> DONE:   0%|          | 0/104 [00:00<?, ?it/s]"
      ]
     },
     "metadata": {},
     "output_type": "display_data"
    },
    {
     "data": {
      "application/vnd.jupyter.widget-view+json": {
       "model_id": "5c8c6d5b779d4593badf25ca86251c0c",
       "version_major": 2,
       "version_minor": 0
      },
      "text/plain": [
       "<LAMBDA> DONE:   0%|          | 0/104 [00:00<?, ?it/s]"
      ]
     },
     "metadata": {},
     "output_type": "display_data"
    },
    {
     "data": {
      "application/vnd.jupyter.widget-view+json": {
       "model_id": "97d79cf84b9e45cea0a189983b6ec253",
       "version_major": 2,
       "version_minor": 0
      },
      "text/plain": [
       "<LAMBDA> DONE:   0%|          | 0/778 [00:00<?, ?it/s]"
      ]
     },
     "metadata": {},
     "output_type": "display_data"
    },
    {
     "data": {
      "application/vnd.jupyter.widget-view+json": {
       "model_id": "88ccf451f42d43e98e7c4e7abad4021e",
       "version_major": 2,
       "version_minor": 0
      },
      "text/plain": [
       "<LAMBDA> DONE:   0%|          | 0/778 [00:00<?, ?it/s]"
      ]
     },
     "metadata": {},
     "output_type": "display_data"
    },
    {
     "data": {
      "application/vnd.jupyter.widget-view+json": {
       "model_id": "2141a0ce91464807b1031e2d1bb5bcb6",
       "version_major": 2,
       "version_minor": 0
      },
      "text/plain": [
       "<LAMBDA> DONE:   0%|          | 0/778 [00:00<?, ?it/s]"
      ]
     },
     "metadata": {},
     "output_type": "display_data"
    },
    {
     "data": {
      "application/vnd.jupyter.widget-view+json": {
       "model_id": "16837c6dbf7448f4ab21d202657a1a65",
       "version_major": 2,
       "version_minor": 0
      },
      "text/plain": [
       "<LAMBDA> DONE:   0%|          | 0/319 [00:00<?, ?it/s]"
      ]
     },
     "metadata": {},
     "output_type": "display_data"
    },
    {
     "data": {
      "application/vnd.jupyter.widget-view+json": {
       "model_id": "089187ac311e4926b761c04e8ceb5483",
       "version_major": 2,
       "version_minor": 0
      },
      "text/plain": [
       "<LAMBDA> DONE:   0%|          | 0/319 [00:00<?, ?it/s]"
      ]
     },
     "metadata": {},
     "output_type": "display_data"
    },
    {
     "data": {
      "application/vnd.jupyter.widget-view+json": {
       "model_id": "46b1e636d2c24299a5ef4a57e7b3afa5",
       "version_major": 2,
       "version_minor": 0
      },
      "text/plain": [
       "<LAMBDA> DONE:   0%|          | 0/319 [00:00<?, ?it/s]"
      ]
     },
     "metadata": {},
     "output_type": "display_data"
    },
    {
     "data": {
      "application/vnd.jupyter.widget-view+json": {
       "model_id": "4d88ee5022064312bd4a3c12de37a357",
       "version_major": 2,
       "version_minor": 0
      },
      "text/plain": [
       "<LAMBDA> DONE:   0%|          | 0/2016 [00:00<?, ?it/s]"
      ]
     },
     "metadata": {},
     "output_type": "display_data"
    },
    {
     "data": {
      "application/vnd.jupyter.widget-view+json": {
       "model_id": "b133a6393e744e538c4e5f56d0d37b27",
       "version_major": 2,
       "version_minor": 0
      },
      "text/plain": [
       "<LAMBDA> DONE:   0%|          | 0/2016 [00:00<?, ?it/s]"
      ]
     },
     "metadata": {},
     "output_type": "display_data"
    },
    {
     "data": {
      "application/vnd.jupyter.widget-view+json": {
       "model_id": "a93503aeed6345899643d04573f24d76",
       "version_major": 2,
       "version_minor": 0
      },
      "text/plain": [
       "<LAMBDA> DONE:   0%|          | 0/2016 [00:00<?, ?it/s]"
      ]
     },
     "metadata": {},
     "output_type": "display_data"
    },
    {
     "name": "stderr",
     "output_type": "stream",
     "text": [
      "/tmp/ipykernel_3805226/2830027787.py:60: FutureWarning: The behavior of DataFrame concatenation with empty or all-NA entries is deprecated. In a future version, this will no longer exclude empty or all-NA columns when determining the result dtypes. To retain the old behavior, exclude the relevant entries before the concat operation.\n",
      "  pd.concat(tmp).to_hdf(f'{RES_PATH}/{key}.h5', sp, complevel=9, complib='zlib')\n",
      "/tmp/ipykernel_3805226/2830027787.py:60: PerformanceWarning: \n",
      "your performance may suffer as PyTables will pickle object types that it cannot\n",
      "map directly to c-types [inferred_type->mixed,key->block2_values] [items->Index(['sp_tree_tail', 'sp_tree_head', 'ldo_category', 'mdo_category',\n",
      "       'species', 'ldo_gene', 'mdo_gene', 'outgroup_species', 'out_gene'],\n",
      "      dtype='object')]\n",
      "\n",
      "  pd.concat(tmp).to_hdf(f'{RES_PATH}/{key}.h5', sp, complevel=9, complib='zlib')\n"
     ]
    },
    {
     "data": {
      "application/vnd.jupyter.widget-view+json": {
       "model_id": "10b10dbd4534459782c4a98e8876a11b",
       "version_major": 2,
       "version_minor": 0
      },
      "text/plain": [
       "<LAMBDA> DONE:   0%|          | 0/304 [00:00<?, ?it/s]"
      ]
     },
     "metadata": {},
     "output_type": "display_data"
    },
    {
     "data": {
      "application/vnd.jupyter.widget-view+json": {
       "model_id": "4e421c27ffe64588b6b7887ae62a9f80",
       "version_major": 2,
       "version_minor": 0
      },
      "text/plain": [
       "<LAMBDA> DONE:   0%|          | 0/304 [00:00<?, ?it/s]"
      ]
     },
     "metadata": {},
     "output_type": "display_data"
    },
    {
     "data": {
      "application/vnd.jupyter.widget-view+json": {
       "model_id": "534d8ec29f274be68f2ba1052e3a09a5",
       "version_major": 2,
       "version_minor": 0
      },
      "text/plain": [
       "<LAMBDA> DONE:   0%|          | 0/304 [00:00<?, ?it/s]"
      ]
     },
     "metadata": {},
     "output_type": "display_data"
    },
    {
     "data": {
      "application/vnd.jupyter.widget-view+json": {
       "model_id": "ef792304c52d40c28b418c6c34537b79",
       "version_major": 2,
       "version_minor": 0
      },
      "text/plain": [
       "<LAMBDA> DONE:   0%|          | 0/97 [00:00<?, ?it/s]"
      ]
     },
     "metadata": {},
     "output_type": "display_data"
    },
    {
     "data": {
      "application/vnd.jupyter.widget-view+json": {
       "model_id": "ccac7e0ee3794737a53d07f9e14c4555",
       "version_major": 2,
       "version_minor": 0
      },
      "text/plain": [
       "<LAMBDA> DONE:   0%|          | 0/97 [00:00<?, ?it/s]"
      ]
     },
     "metadata": {},
     "output_type": "display_data"
    },
    {
     "data": {
      "application/vnd.jupyter.widget-view+json": {
       "model_id": "d8abe8a9734f4171b806c64bd29f4d87",
       "version_major": 2,
       "version_minor": 0
      },
      "text/plain": [
       "<LAMBDA> DONE:   0%|          | 0/97 [00:00<?, ?it/s]"
      ]
     },
     "metadata": {},
     "output_type": "display_data"
    },
    {
     "data": {
      "application/vnd.jupyter.widget-view+json": {
       "model_id": "21b886f8cc0e447b992d7d635b0bfe62",
       "version_major": 2,
       "version_minor": 0
      },
      "text/plain": [
       "<LAMBDA> DONE:   0%|          | 0/58 [00:00<?, ?it/s]"
      ]
     },
     "metadata": {},
     "output_type": "display_data"
    },
    {
     "data": {
      "application/vnd.jupyter.widget-view+json": {
       "model_id": "c68b397327824b329b18461295f61692",
       "version_major": 2,
       "version_minor": 0
      },
      "text/plain": [
       "<LAMBDA> DONE:   0%|          | 0/58 [00:00<?, ?it/s]"
      ]
     },
     "metadata": {},
     "output_type": "display_data"
    },
    {
     "data": {
      "application/vnd.jupyter.widget-view+json": {
       "model_id": "ce542566d1724dec86fc295fe5000839",
       "version_major": 2,
       "version_minor": 0
      },
      "text/plain": [
       "<LAMBDA> DONE:   0%|          | 0/58 [00:00<?, ?it/s]"
      ]
     },
     "metadata": {},
     "output_type": "display_data"
    },
    {
     "data": {
      "application/vnd.jupyter.widget-view+json": {
       "model_id": "3c580120606548de885643cd0024c56a",
       "version_major": 2,
       "version_minor": 0
      },
      "text/plain": [
       "<LAMBDA> DONE:   0%|          | 0/318 [00:00<?, ?it/s]"
      ]
     },
     "metadata": {},
     "output_type": "display_data"
    },
    {
     "data": {
      "application/vnd.jupyter.widget-view+json": {
       "model_id": "db2f908dfa7444f59fc3f6e8df190be4",
       "version_major": 2,
       "version_minor": 0
      },
      "text/plain": [
       "<LAMBDA> DONE:   0%|          | 0/318 [00:00<?, ?it/s]"
      ]
     },
     "metadata": {},
     "output_type": "display_data"
    },
    {
     "data": {
      "application/vnd.jupyter.widget-view+json": {
       "model_id": "a95ca97864944288be9a2a893f4a8a7c",
       "version_major": 2,
       "version_minor": 0
      },
      "text/plain": [
       "<LAMBDA> DONE:   0%|          | 0/318 [00:00<?, ?it/s]"
      ]
     },
     "metadata": {},
     "output_type": "display_data"
    },
    {
     "data": {
      "application/vnd.jupyter.widget-view+json": {
       "model_id": "d4cd717e0f824a2789998f7895783b63",
       "version_major": 2,
       "version_minor": 0
      },
      "text/plain": [
       "<LAMBDA> DONE:   0%|          | 0/104 [00:00<?, ?it/s]"
      ]
     },
     "metadata": {},
     "output_type": "display_data"
    },
    {
     "data": {
      "application/vnd.jupyter.widget-view+json": {
       "model_id": "de71a9b0d96e4cad8135e15a9dac3d8a",
       "version_major": 2,
       "version_minor": 0
      },
      "text/plain": [
       "<LAMBDA> DONE:   0%|          | 0/104 [00:00<?, ?it/s]"
      ]
     },
     "metadata": {},
     "output_type": "display_data"
    },
    {
     "data": {
      "application/vnd.jupyter.widget-view+json": {
       "model_id": "d8cb3e96503d48319d66c1a0bae6c9a4",
       "version_major": 2,
       "version_minor": 0
      },
      "text/plain": [
       "<LAMBDA> DONE:   0%|          | 0/104 [00:00<?, ?it/s]"
      ]
     },
     "metadata": {},
     "output_type": "display_data"
    },
    {
     "data": {
      "application/vnd.jupyter.widget-view+json": {
       "model_id": "9fb0a28c256c43389c3a790cc245e5ab",
       "version_major": 2,
       "version_minor": 0
      },
      "text/plain": [
       "<LAMBDA> DONE:   0%|          | 0/778 [00:00<?, ?it/s]"
      ]
     },
     "metadata": {},
     "output_type": "display_data"
    },
    {
     "data": {
      "application/vnd.jupyter.widget-view+json": {
       "model_id": "382b5cff6c3f422d9a979faf5fd6f4c7",
       "version_major": 2,
       "version_minor": 0
      },
      "text/plain": [
       "<LAMBDA> DONE:   0%|          | 0/778 [00:00<?, ?it/s]"
      ]
     },
     "metadata": {},
     "output_type": "display_data"
    },
    {
     "data": {
      "application/vnd.jupyter.widget-view+json": {
       "model_id": "ea2f027056244741852bbbaef6739218",
       "version_major": 2,
       "version_minor": 0
      },
      "text/plain": [
       "<LAMBDA> DONE:   0%|          | 0/778 [00:00<?, ?it/s]"
      ]
     },
     "metadata": {},
     "output_type": "display_data"
    },
    {
     "data": {
      "application/vnd.jupyter.widget-view+json": {
       "model_id": "24200590a9154ff488c85f0ec5fddfa1",
       "version_major": 2,
       "version_minor": 0
      },
      "text/plain": [
       "<LAMBDA> DONE:   0%|          | 0/319 [00:00<?, ?it/s]"
      ]
     },
     "metadata": {},
     "output_type": "display_data"
    },
    {
     "data": {
      "application/vnd.jupyter.widget-view+json": {
       "model_id": "1c313283abf64978bd303547fbf64cc0",
       "version_major": 2,
       "version_minor": 0
      },
      "text/plain": [
       "<LAMBDA> DONE:   0%|          | 0/319 [00:00<?, ?it/s]"
      ]
     },
     "metadata": {},
     "output_type": "display_data"
    },
    {
     "data": {
      "application/vnd.jupyter.widget-view+json": {
       "model_id": "63b7fe1159c847d38078d3f3e7108d9c",
       "version_major": 2,
       "version_minor": 0
      },
      "text/plain": [
       "<LAMBDA> DONE:   0%|          | 0/319 [00:00<?, ?it/s]"
      ]
     },
     "metadata": {},
     "output_type": "display_data"
    },
    {
     "data": {
      "application/vnd.jupyter.widget-view+json": {
       "model_id": "58d14ef9e5184b2d825336b3f5839ff5",
       "version_major": 2,
       "version_minor": 0
      },
      "text/plain": [
       "<LAMBDA> DONE:   0%|          | 0/2016 [00:00<?, ?it/s]"
      ]
     },
     "metadata": {},
     "output_type": "display_data"
    },
    {
     "data": {
      "application/vnd.jupyter.widget-view+json": {
       "model_id": "5f573a564b7146779a9d9c53dc6fbe41",
       "version_major": 2,
       "version_minor": 0
      },
      "text/plain": [
       "<LAMBDA> DONE:   0%|          | 0/2016 [00:00<?, ?it/s]"
      ]
     },
     "metadata": {},
     "output_type": "display_data"
    },
    {
     "data": {
      "application/vnd.jupyter.widget-view+json": {
       "model_id": "bddb676f34a04763aa668044861e1c03",
       "version_major": 2,
       "version_minor": 0
      },
      "text/plain": [
       "<LAMBDA> DONE:   0%|          | 0/2016 [00:00<?, ?it/s]"
      ]
     },
     "metadata": {},
     "output_type": "display_data"
    },
    {
     "name": "stderr",
     "output_type": "stream",
     "text": [
      "/tmp/ipykernel_3805226/2830027787.py:60: FutureWarning: The behavior of DataFrame concatenation with empty or all-NA entries is deprecated. In a future version, this will no longer exclude empty or all-NA columns when determining the result dtypes. To retain the old behavior, exclude the relevant entries before the concat operation.\n",
      "  pd.concat(tmp).to_hdf(f'{RES_PATH}/{key}.h5', sp, complevel=9, complib='zlib')\n",
      "/tmp/ipykernel_3805226/2830027787.py:60: PerformanceWarning: \n",
      "your performance may suffer as PyTables will pickle object types that it cannot\n",
      "map directly to c-types [inferred_type->mixed,key->block2_values] [items->Index(['sp_tree_tail', 'sp_tree_head', 'ldo_category', 'mdo_category',\n",
      "       'species', 'ldo_gene', 'mdo_gene', 'outgroup_species', 'out_gene'],\n",
      "      dtype='object')]\n",
      "\n",
      "  pd.concat(tmp).to_hdf(f'{RES_PATH}/{key}.h5', sp, complevel=9, complib='zlib')\n"
     ]
    },
    {
     "data": {
      "application/vnd.jupyter.widget-view+json": {
       "model_id": "34a6c4886bca4259a8358090a5ef31d9",
       "version_major": 2,
       "version_minor": 0
      },
      "text/plain": [
       "<LAMBDA> DONE:   0%|          | 0/277 [00:00<?, ?it/s]"
      ]
     },
     "metadata": {},
     "output_type": "display_data"
    },
    {
     "data": {
      "application/vnd.jupyter.widget-view+json": {
       "model_id": "c94d4bbb8d6f4ec4be3fcef802f92258",
       "version_major": 2,
       "version_minor": 0
      },
      "text/plain": [
       "<LAMBDA> DONE:   0%|          | 0/277 [00:00<?, ?it/s]"
      ]
     },
     "metadata": {},
     "output_type": "display_data"
    },
    {
     "data": {
      "application/vnd.jupyter.widget-view+json": {
       "model_id": "2aa47c90ac4c43f3a2a75e820d8cfe7f",
       "version_major": 2,
       "version_minor": 0
      },
      "text/plain": [
       "<LAMBDA> DONE:   0%|          | 0/277 [00:00<?, ?it/s]"
      ]
     },
     "metadata": {},
     "output_type": "display_data"
    },
    {
     "data": {
      "application/vnd.jupyter.widget-view+json": {
       "model_id": "26a1e21f1277465a8023e276461ee846",
       "version_major": 2,
       "version_minor": 0
      },
      "text/plain": [
       "<LAMBDA> DONE:   0%|          | 0/105 [00:00<?, ?it/s]"
      ]
     },
     "metadata": {},
     "output_type": "display_data"
    },
    {
     "data": {
      "application/vnd.jupyter.widget-view+json": {
       "model_id": "acc1ea0ed9174df6940ece5f6662490b",
       "version_major": 2,
       "version_minor": 0
      },
      "text/plain": [
       "<LAMBDA> DONE:   0%|          | 0/105 [00:00<?, ?it/s]"
      ]
     },
     "metadata": {},
     "output_type": "display_data"
    },
    {
     "data": {
      "application/vnd.jupyter.widget-view+json": {
       "model_id": "e7f418c859734a7ea50ecf94a28997c2",
       "version_major": 2,
       "version_minor": 0
      },
      "text/plain": [
       "<LAMBDA> DONE:   0%|          | 0/105 [00:00<?, ?it/s]"
      ]
     },
     "metadata": {},
     "output_type": "display_data"
    },
    {
     "data": {
      "application/vnd.jupyter.widget-view+json": {
       "model_id": "dc1a3f61bafb4d56bb96c71866409331",
       "version_major": 2,
       "version_minor": 0
      },
      "text/plain": [
       "<LAMBDA> DONE:   0%|          | 0/131 [00:00<?, ?it/s]"
      ]
     },
     "metadata": {},
     "output_type": "display_data"
    },
    {
     "data": {
      "application/vnd.jupyter.widget-view+json": {
       "model_id": "d0a1b149b7ff4aa497ea6bd35484ffc3",
       "version_major": 2,
       "version_minor": 0
      },
      "text/plain": [
       "<LAMBDA> DONE:   0%|          | 0/131 [00:00<?, ?it/s]"
      ]
     },
     "metadata": {},
     "output_type": "display_data"
    },
    {
     "data": {
      "application/vnd.jupyter.widget-view+json": {
       "model_id": "2492c27064d44616b792a09c3e61aec8",
       "version_major": 2,
       "version_minor": 0
      },
      "text/plain": [
       "<LAMBDA> DONE:   0%|          | 0/131 [00:00<?, ?it/s]"
      ]
     },
     "metadata": {},
     "output_type": "display_data"
    },
    {
     "data": {
      "application/vnd.jupyter.widget-view+json": {
       "model_id": "f96169164c7c49e0b4761972e1f9263a",
       "version_major": 2,
       "version_minor": 0
      },
      "text/plain": [
       "<LAMBDA> DONE:   0%|          | 0/58 [00:00<?, ?it/s]"
      ]
     },
     "metadata": {},
     "output_type": "display_data"
    },
    {
     "data": {
      "application/vnd.jupyter.widget-view+json": {
       "model_id": "5306481e17aa4cefa665ef347b2cf1ac",
       "version_major": 2,
       "version_minor": 0
      },
      "text/plain": [
       "<LAMBDA> DONE:   0%|          | 0/58 [00:00<?, ?it/s]"
      ]
     },
     "metadata": {},
     "output_type": "display_data"
    },
    {
     "data": {
      "application/vnd.jupyter.widget-view+json": {
       "model_id": "5a6dc4ebe10d4a91a852bc2b015abbd6",
       "version_major": 2,
       "version_minor": 0
      },
      "text/plain": [
       "<LAMBDA> DONE:   0%|          | 0/58 [00:00<?, ?it/s]"
      ]
     },
     "metadata": {},
     "output_type": "display_data"
    },
    {
     "data": {
      "application/vnd.jupyter.widget-view+json": {
       "model_id": "57b9b37217344c1b802fff752633cb79",
       "version_major": 2,
       "version_minor": 0
      },
      "text/plain": [
       "<LAMBDA> DONE:   0%|          | 0/327 [00:00<?, ?it/s]"
      ]
     },
     "metadata": {},
     "output_type": "display_data"
    },
    {
     "data": {
      "application/vnd.jupyter.widget-view+json": {
       "model_id": "6193a2e3a4c84bb1886783c79774fef1",
       "version_major": 2,
       "version_minor": 0
      },
      "text/plain": [
       "<LAMBDA> DONE:   0%|          | 0/327 [00:00<?, ?it/s]"
      ]
     },
     "metadata": {},
     "output_type": "display_data"
    },
    {
     "data": {
      "application/vnd.jupyter.widget-view+json": {
       "model_id": "e5238950c43e41f5b480a3ec8f74c289",
       "version_major": 2,
       "version_minor": 0
      },
      "text/plain": [
       "<LAMBDA> DONE:   0%|          | 0/327 [00:00<?, ?it/s]"
      ]
     },
     "metadata": {},
     "output_type": "display_data"
    },
    {
     "data": {
      "application/vnd.jupyter.widget-view+json": {
       "model_id": "212ac7adc7474f859660d4c9fce2f0e2",
       "version_major": 2,
       "version_minor": 0
      },
      "text/plain": [
       "<LAMBDA> DONE:   0%|          | 0/226 [00:00<?, ?it/s]"
      ]
     },
     "metadata": {},
     "output_type": "display_data"
    },
    {
     "data": {
      "application/vnd.jupyter.widget-view+json": {
       "model_id": "31ca817709c34524a68063818325f244",
       "version_major": 2,
       "version_minor": 0
      },
      "text/plain": [
       "<LAMBDA> DONE:   0%|          | 0/226 [00:00<?, ?it/s]"
      ]
     },
     "metadata": {},
     "output_type": "display_data"
    },
    {
     "data": {
      "application/vnd.jupyter.widget-view+json": {
       "model_id": "f21e080e0211451da2b302c69e59217b",
       "version_major": 2,
       "version_minor": 0
      },
      "text/plain": [
       "<LAMBDA> DONE:   0%|          | 0/226 [00:00<?, ?it/s]"
      ]
     },
     "metadata": {},
     "output_type": "display_data"
    },
    {
     "data": {
      "application/vnd.jupyter.widget-view+json": {
       "model_id": "3ed0759429aa498dac0c4701597f8d54",
       "version_major": 2,
       "version_minor": 0
      },
      "text/plain": [
       "<LAMBDA> DONE:   0%|          | 0/757 [00:00<?, ?it/s]"
      ]
     },
     "metadata": {},
     "output_type": "display_data"
    },
    {
     "data": {
      "application/vnd.jupyter.widget-view+json": {
       "model_id": "9328ef5ac43849b58826f9fa3cdb251b",
       "version_major": 2,
       "version_minor": 0
      },
      "text/plain": [
       "<LAMBDA> DONE:   0%|          | 0/757 [00:00<?, ?it/s]"
      ]
     },
     "metadata": {},
     "output_type": "display_data"
    },
    {
     "data": {
      "application/vnd.jupyter.widget-view+json": {
       "model_id": "81ebeb8c6f10457d8881bc4a72cd5cc7",
       "version_major": 2,
       "version_minor": 0
      },
      "text/plain": [
       "<LAMBDA> DONE:   0%|          | 0/757 [00:00<?, ?it/s]"
      ]
     },
     "metadata": {},
     "output_type": "display_data"
    },
    {
     "data": {
      "application/vnd.jupyter.widget-view+json": {
       "model_id": "d1dfe400aa584340bbcab964c100d916",
       "version_major": 2,
       "version_minor": 0
      },
      "text/plain": [
       "<LAMBDA> DONE:   0%|          | 0/282 [00:00<?, ?it/s]"
      ]
     },
     "metadata": {},
     "output_type": "display_data"
    },
    {
     "data": {
      "application/vnd.jupyter.widget-view+json": {
       "model_id": "edd8becc9cef427795efb82a5e4081e8",
       "version_major": 2,
       "version_minor": 0
      },
      "text/plain": [
       "<LAMBDA> DONE:   0%|          | 0/282 [00:00<?, ?it/s]"
      ]
     },
     "metadata": {},
     "output_type": "display_data"
    },
    {
     "data": {
      "application/vnd.jupyter.widget-view+json": {
       "model_id": "898bc2b7bef74c1ab984bce1385a683a",
       "version_major": 2,
       "version_minor": 0
      },
      "text/plain": [
       "<LAMBDA> DONE:   0%|          | 0/282 [00:00<?, ?it/s]"
      ]
     },
     "metadata": {},
     "output_type": "display_data"
    },
    {
     "data": {
      "application/vnd.jupyter.widget-view+json": {
       "model_id": "949a758919374d2f828fc8739068de57",
       "version_major": 2,
       "version_minor": 0
      },
      "text/plain": [
       "<LAMBDA> DONE:   0%|          | 0/249 [00:00<?, ?it/s]"
      ]
     },
     "metadata": {},
     "output_type": "display_data"
    },
    {
     "data": {
      "application/vnd.jupyter.widget-view+json": {
       "model_id": "355b8c9fb4fe415ab8743869f3f7930c",
       "version_major": 2,
       "version_minor": 0
      },
      "text/plain": [
       "<LAMBDA> DONE:   0%|          | 0/249 [00:00<?, ?it/s]"
      ]
     },
     "metadata": {},
     "output_type": "display_data"
    },
    {
     "data": {
      "application/vnd.jupyter.widget-view+json": {
       "model_id": "ec3c1654c0fd427b9d0d1b8563faed64",
       "version_major": 2,
       "version_minor": 0
      },
      "text/plain": [
       "<LAMBDA> DONE:   0%|          | 0/249 [00:00<?, ?it/s]"
      ]
     },
     "metadata": {},
     "output_type": "display_data"
    },
    {
     "data": {
      "application/vnd.jupyter.widget-view+json": {
       "model_id": "62639fed7fd24eed938b46b39a42b438",
       "version_major": 2,
       "version_minor": 0
      },
      "text/plain": [
       "<LAMBDA> DONE:   0%|          | 0/622 [00:00<?, ?it/s]"
      ]
     },
     "metadata": {},
     "output_type": "display_data"
    },
    {
     "data": {
      "application/vnd.jupyter.widget-view+json": {
       "model_id": "4b3cde9217d34ecfb369de569af60110",
       "version_major": 2,
       "version_minor": 0
      },
      "text/plain": [
       "<LAMBDA> DONE:   0%|          | 0/622 [00:00<?, ?it/s]"
      ]
     },
     "metadata": {},
     "output_type": "display_data"
    },
    {
     "data": {
      "application/vnd.jupyter.widget-view+json": {
       "model_id": "04332152f5a54acbb51764bbe043f8a9",
       "version_major": 2,
       "version_minor": 0
      },
      "text/plain": [
       "<LAMBDA> DONE:   0%|          | 0/622 [00:00<?, ?it/s]"
      ]
     },
     "metadata": {},
     "output_type": "display_data"
    },
    {
     "name": "stderr",
     "output_type": "stream",
     "text": [
      "/tmp/ipykernel_3805226/2830027787.py:60: PerformanceWarning: \n",
      "your performance may suffer as PyTables will pickle object types that it cannot\n",
      "map directly to c-types [inferred_type->mixed,key->block2_values] [items->Index(['sp_tree_tail', 'sp_tree_head', 'ldo_category', 'mdo_category',\n",
      "       'species', 'ldo_gene', 'mdo_gene', 'outgroup_species', 'out_gene'],\n",
      "      dtype='object')]\n",
      "\n",
      "  pd.concat(tmp).to_hdf(f'{RES_PATH}/{key}.h5', sp, complevel=9, complib='zlib')\n"
     ]
    },
    {
     "data": {
      "application/vnd.jupyter.widget-view+json": {
       "model_id": "36a57c1a1d24440ababf2d34ebbd2e63",
       "version_major": 2,
       "version_minor": 0
      },
      "text/plain": [
       "<LAMBDA> DONE:   0%|          | 0/277 [00:00<?, ?it/s]"
      ]
     },
     "metadata": {},
     "output_type": "display_data"
    },
    {
     "data": {
      "application/vnd.jupyter.widget-view+json": {
       "model_id": "d7a739b89f4a4fef8e12779994fed060",
       "version_major": 2,
       "version_minor": 0
      },
      "text/plain": [
       "<LAMBDA> DONE:   0%|          | 0/277 [00:00<?, ?it/s]"
      ]
     },
     "metadata": {},
     "output_type": "display_data"
    },
    {
     "data": {
      "application/vnd.jupyter.widget-view+json": {
       "model_id": "fc5b2f620d664d158f219c727972f89f",
       "version_major": 2,
       "version_minor": 0
      },
      "text/plain": [
       "<LAMBDA> DONE:   0%|          | 0/277 [00:00<?, ?it/s]"
      ]
     },
     "metadata": {},
     "output_type": "display_data"
    },
    {
     "data": {
      "application/vnd.jupyter.widget-view+json": {
       "model_id": "d46d52c723ca4016ad19b0c841f0f11d",
       "version_major": 2,
       "version_minor": 0
      },
      "text/plain": [
       "<LAMBDA> DONE:   0%|          | 0/105 [00:00<?, ?it/s]"
      ]
     },
     "metadata": {},
     "output_type": "display_data"
    },
    {
     "data": {
      "application/vnd.jupyter.widget-view+json": {
       "model_id": "e7291f470103454697d0c460b2b5b2b2",
       "version_major": 2,
       "version_minor": 0
      },
      "text/plain": [
       "<LAMBDA> DONE:   0%|          | 0/105 [00:00<?, ?it/s]"
      ]
     },
     "metadata": {},
     "output_type": "display_data"
    },
    {
     "data": {
      "application/vnd.jupyter.widget-view+json": {
       "model_id": "644e11dd83974bccb0e43e334a018afd",
       "version_major": 2,
       "version_minor": 0
      },
      "text/plain": [
       "<LAMBDA> DONE:   0%|          | 0/105 [00:00<?, ?it/s]"
      ]
     },
     "metadata": {},
     "output_type": "display_data"
    },
    {
     "data": {
      "application/vnd.jupyter.widget-view+json": {
       "model_id": "fec24db4db1d485a86c1b61863d303c0",
       "version_major": 2,
       "version_minor": 0
      },
      "text/plain": [
       "<LAMBDA> DONE:   0%|          | 0/131 [00:00<?, ?it/s]"
      ]
     },
     "metadata": {},
     "output_type": "display_data"
    },
    {
     "data": {
      "application/vnd.jupyter.widget-view+json": {
       "model_id": "bab330d4d5454c00a3a39e2fdc2abb1c",
       "version_major": 2,
       "version_minor": 0
      },
      "text/plain": [
       "<LAMBDA> DONE:   0%|          | 0/131 [00:00<?, ?it/s]"
      ]
     },
     "metadata": {},
     "output_type": "display_data"
    },
    {
     "data": {
      "application/vnd.jupyter.widget-view+json": {
       "model_id": "88495f1235974eac861e3db3579170fd",
       "version_major": 2,
       "version_minor": 0
      },
      "text/plain": [
       "<LAMBDA> DONE:   0%|          | 0/131 [00:00<?, ?it/s]"
      ]
     },
     "metadata": {},
     "output_type": "display_data"
    },
    {
     "data": {
      "application/vnd.jupyter.widget-view+json": {
       "model_id": "78dc1521ab1640379b0263375586aa1a",
       "version_major": 2,
       "version_minor": 0
      },
      "text/plain": [
       "<LAMBDA> DONE:   0%|          | 0/58 [00:00<?, ?it/s]"
      ]
     },
     "metadata": {},
     "output_type": "display_data"
    },
    {
     "data": {
      "application/vnd.jupyter.widget-view+json": {
       "model_id": "0a29d2900c944fc4804552cb955565ca",
       "version_major": 2,
       "version_minor": 0
      },
      "text/plain": [
       "<LAMBDA> DONE:   0%|          | 0/58 [00:00<?, ?it/s]"
      ]
     },
     "metadata": {},
     "output_type": "display_data"
    },
    {
     "data": {
      "application/vnd.jupyter.widget-view+json": {
       "model_id": "67e3ae71daac43528af50326ce1154c4",
       "version_major": 2,
       "version_minor": 0
      },
      "text/plain": [
       "<LAMBDA> DONE:   0%|          | 0/58 [00:00<?, ?it/s]"
      ]
     },
     "metadata": {},
     "output_type": "display_data"
    },
    {
     "data": {
      "application/vnd.jupyter.widget-view+json": {
       "model_id": "7e0b3c7d113e401f9c860a3d6e7c8754",
       "version_major": 2,
       "version_minor": 0
      },
      "text/plain": [
       "<LAMBDA> DONE:   0%|          | 0/327 [00:00<?, ?it/s]"
      ]
     },
     "metadata": {},
     "output_type": "display_data"
    },
    {
     "data": {
      "application/vnd.jupyter.widget-view+json": {
       "model_id": "40a6a5d5a1d24308b3e453c5db01a2ba",
       "version_major": 2,
       "version_minor": 0
      },
      "text/plain": [
       "<LAMBDA> DONE:   0%|          | 0/327 [00:00<?, ?it/s]"
      ]
     },
     "metadata": {},
     "output_type": "display_data"
    },
    {
     "data": {
      "application/vnd.jupyter.widget-view+json": {
       "model_id": "a3f8f10b6c2f48be89ff9234432bf657",
       "version_major": 2,
       "version_minor": 0
      },
      "text/plain": [
       "<LAMBDA> DONE:   0%|          | 0/327 [00:00<?, ?it/s]"
      ]
     },
     "metadata": {},
     "output_type": "display_data"
    },
    {
     "data": {
      "application/vnd.jupyter.widget-view+json": {
       "model_id": "daa16fca9600461d8016931daa38c67a",
       "version_major": 2,
       "version_minor": 0
      },
      "text/plain": [
       "<LAMBDA> DONE:   0%|          | 0/226 [00:00<?, ?it/s]"
      ]
     },
     "metadata": {},
     "output_type": "display_data"
    },
    {
     "data": {
      "application/vnd.jupyter.widget-view+json": {
       "model_id": "83687427d3ef4f7d8dd32f69e1913389",
       "version_major": 2,
       "version_minor": 0
      },
      "text/plain": [
       "<LAMBDA> DONE:   0%|          | 0/226 [00:00<?, ?it/s]"
      ]
     },
     "metadata": {},
     "output_type": "display_data"
    },
    {
     "data": {
      "application/vnd.jupyter.widget-view+json": {
       "model_id": "4e99cb12c0c145f195cc943f49343f14",
       "version_major": 2,
       "version_minor": 0
      },
      "text/plain": [
       "<LAMBDA> DONE:   0%|          | 0/226 [00:00<?, ?it/s]"
      ]
     },
     "metadata": {},
     "output_type": "display_data"
    },
    {
     "data": {
      "application/vnd.jupyter.widget-view+json": {
       "model_id": "7764d9a7845f4d9dbb77d47495ab1176",
       "version_major": 2,
       "version_minor": 0
      },
      "text/plain": [
       "<LAMBDA> DONE:   0%|          | 0/757 [00:00<?, ?it/s]"
      ]
     },
     "metadata": {},
     "output_type": "display_data"
    },
    {
     "data": {
      "application/vnd.jupyter.widget-view+json": {
       "model_id": "1a90249f98664f63932fd64649221642",
       "version_major": 2,
       "version_minor": 0
      },
      "text/plain": [
       "<LAMBDA> DONE:   0%|          | 0/757 [00:00<?, ?it/s]"
      ]
     },
     "metadata": {},
     "output_type": "display_data"
    },
    {
     "data": {
      "application/vnd.jupyter.widget-view+json": {
       "model_id": "48114361d9ff481cafb8ef2143d8950b",
       "version_major": 2,
       "version_minor": 0
      },
      "text/plain": [
       "<LAMBDA> DONE:   0%|          | 0/757 [00:00<?, ?it/s]"
      ]
     },
     "metadata": {},
     "output_type": "display_data"
    },
    {
     "data": {
      "application/vnd.jupyter.widget-view+json": {
       "model_id": "dcd064c07acb462384847ce7e6c4d010",
       "version_major": 2,
       "version_minor": 0
      },
      "text/plain": [
       "<LAMBDA> DONE:   0%|          | 0/282 [00:00<?, ?it/s]"
      ]
     },
     "metadata": {},
     "output_type": "display_data"
    },
    {
     "data": {
      "application/vnd.jupyter.widget-view+json": {
       "model_id": "325ccc489fdf4a8abb4920e4da5a649f",
       "version_major": 2,
       "version_minor": 0
      },
      "text/plain": [
       "<LAMBDA> DONE:   0%|          | 0/282 [00:00<?, ?it/s]"
      ]
     },
     "metadata": {},
     "output_type": "display_data"
    },
    {
     "data": {
      "application/vnd.jupyter.widget-view+json": {
       "model_id": "67793e069d8c41698b68a884ceb73651",
       "version_major": 2,
       "version_minor": 0
      },
      "text/plain": [
       "<LAMBDA> DONE:   0%|          | 0/282 [00:00<?, ?it/s]"
      ]
     },
     "metadata": {},
     "output_type": "display_data"
    },
    {
     "data": {
      "application/vnd.jupyter.widget-view+json": {
       "model_id": "c700de4d5b4946d195cd24b94b41fa8c",
       "version_major": 2,
       "version_minor": 0
      },
      "text/plain": [
       "<LAMBDA> DONE:   0%|          | 0/249 [00:00<?, ?it/s]"
      ]
     },
     "metadata": {},
     "output_type": "display_data"
    },
    {
     "data": {
      "application/vnd.jupyter.widget-view+json": {
       "model_id": "5c4fd3929de44d378075f9139e3c9993",
       "version_major": 2,
       "version_minor": 0
      },
      "text/plain": [
       "<LAMBDA> DONE:   0%|          | 0/249 [00:00<?, ?it/s]"
      ]
     },
     "metadata": {},
     "output_type": "display_data"
    },
    {
     "data": {
      "application/vnd.jupyter.widget-view+json": {
       "model_id": "e968f50f16c0450b8bc62c2b3391daa2",
       "version_major": 2,
       "version_minor": 0
      },
      "text/plain": [
       "<LAMBDA> DONE:   0%|          | 0/249 [00:00<?, ?it/s]"
      ]
     },
     "metadata": {},
     "output_type": "display_data"
    },
    {
     "data": {
      "application/vnd.jupyter.widget-view+json": {
       "model_id": "a15daeae4973473baf40b091b197430b",
       "version_major": 2,
       "version_minor": 0
      },
      "text/plain": [
       "<LAMBDA> DONE:   0%|          | 0/622 [00:00<?, ?it/s]"
      ]
     },
     "metadata": {},
     "output_type": "display_data"
    },
    {
     "data": {
      "application/vnd.jupyter.widget-view+json": {
       "model_id": "9e5d3ddc60d14f9482c0b52bc7292dce",
       "version_major": 2,
       "version_minor": 0
      },
      "text/plain": [
       "<LAMBDA> DONE:   0%|          | 0/622 [00:00<?, ?it/s]"
      ]
     },
     "metadata": {},
     "output_type": "display_data"
    },
    {
     "data": {
      "application/vnd.jupyter.widget-view+json": {
       "model_id": "a05599de58f14cd0b4a6a62849260758",
       "version_major": 2,
       "version_minor": 0
      },
      "text/plain": [
       "<LAMBDA> DONE:   0%|          | 0/622 [00:00<?, ?it/s]"
      ]
     },
     "metadata": {},
     "output_type": "display_data"
    },
    {
     "name": "stderr",
     "output_type": "stream",
     "text": [
      "/tmp/ipykernel_3805226/2830027787.py:60: PerformanceWarning: \n",
      "your performance may suffer as PyTables will pickle object types that it cannot\n",
      "map directly to c-types [inferred_type->mixed,key->block2_values] [items->Index(['sp_tree_tail', 'sp_tree_head', 'ldo_category', 'mdo_category',\n",
      "       'species', 'ldo_gene', 'mdo_gene', 'outgroup_species', 'out_gene'],\n",
      "      dtype='object')]\n",
      "\n",
      "  pd.concat(tmp).to_hdf(f'{RES_PATH}/{key}.h5', sp, complevel=9, complib='zlib')\n"
     ]
    },
    {
     "data": {
      "application/vnd.jupyter.widget-view+json": {
       "model_id": "42dde2f8532a49ecbee02a745e1a107b",
       "version_major": 2,
       "version_minor": 0
      },
      "text/plain": [
       "<LAMBDA> DONE:   0%|          | 0/277 [00:00<?, ?it/s]"
      ]
     },
     "metadata": {},
     "output_type": "display_data"
    },
    {
     "data": {
      "application/vnd.jupyter.widget-view+json": {
       "model_id": "f34015396b7d418dab57c1a6bbb55e72",
       "version_major": 2,
       "version_minor": 0
      },
      "text/plain": [
       "<LAMBDA> DONE:   0%|          | 0/277 [00:00<?, ?it/s]"
      ]
     },
     "metadata": {},
     "output_type": "display_data"
    },
    {
     "data": {
      "application/vnd.jupyter.widget-view+json": {
       "model_id": "d58fd75220214668aeb16acb587e256f",
       "version_major": 2,
       "version_minor": 0
      },
      "text/plain": [
       "<LAMBDA> DONE:   0%|          | 0/277 [00:00<?, ?it/s]"
      ]
     },
     "metadata": {},
     "output_type": "display_data"
    },
    {
     "data": {
      "application/vnd.jupyter.widget-view+json": {
       "model_id": "bd5cf73a381e4b20947e1f522e012fd0",
       "version_major": 2,
       "version_minor": 0
      },
      "text/plain": [
       "<LAMBDA> DONE:   0%|          | 0/105 [00:00<?, ?it/s]"
      ]
     },
     "metadata": {},
     "output_type": "display_data"
    },
    {
     "data": {
      "application/vnd.jupyter.widget-view+json": {
       "model_id": "72f7ee320355478eb31e0fe619d87b4d",
       "version_major": 2,
       "version_minor": 0
      },
      "text/plain": [
       "<LAMBDA> DONE:   0%|          | 0/105 [00:00<?, ?it/s]"
      ]
     },
     "metadata": {},
     "output_type": "display_data"
    },
    {
     "data": {
      "application/vnd.jupyter.widget-view+json": {
       "model_id": "8882196ddeb04ef79dcf15a15421b805",
       "version_major": 2,
       "version_minor": 0
      },
      "text/plain": [
       "<LAMBDA> DONE:   0%|          | 0/105 [00:00<?, ?it/s]"
      ]
     },
     "metadata": {},
     "output_type": "display_data"
    },
    {
     "data": {
      "application/vnd.jupyter.widget-view+json": {
       "model_id": "4558427097a44004ad201f6699bf795f",
       "version_major": 2,
       "version_minor": 0
      },
      "text/plain": [
       "<LAMBDA> DONE:   0%|          | 0/131 [00:00<?, ?it/s]"
      ]
     },
     "metadata": {},
     "output_type": "display_data"
    },
    {
     "data": {
      "application/vnd.jupyter.widget-view+json": {
       "model_id": "5fa2dec2e87044f4bf9c554eb7091a64",
       "version_major": 2,
       "version_minor": 0
      },
      "text/plain": [
       "<LAMBDA> DONE:   0%|          | 0/131 [00:00<?, ?it/s]"
      ]
     },
     "metadata": {},
     "output_type": "display_data"
    },
    {
     "data": {
      "application/vnd.jupyter.widget-view+json": {
       "model_id": "1514f8d2c6e041af9961d9386d2e4954",
       "version_major": 2,
       "version_minor": 0
      },
      "text/plain": [
       "<LAMBDA> DONE:   0%|          | 0/131 [00:00<?, ?it/s]"
      ]
     },
     "metadata": {},
     "output_type": "display_data"
    },
    {
     "data": {
      "application/vnd.jupyter.widget-view+json": {
       "model_id": "d825e548a1e4498c96d6d76755ea0bea",
       "version_major": 2,
       "version_minor": 0
      },
      "text/plain": [
       "<LAMBDA> DONE:   0%|          | 0/58 [00:00<?, ?it/s]"
      ]
     },
     "metadata": {},
     "output_type": "display_data"
    },
    {
     "data": {
      "application/vnd.jupyter.widget-view+json": {
       "model_id": "e0982324764549d5a30eb4adf6211072",
       "version_major": 2,
       "version_minor": 0
      },
      "text/plain": [
       "<LAMBDA> DONE:   0%|          | 0/58 [00:00<?, ?it/s]"
      ]
     },
     "metadata": {},
     "output_type": "display_data"
    },
    {
     "data": {
      "application/vnd.jupyter.widget-view+json": {
       "model_id": "02e05eb9da7b426a87134b8f8ebff9e0",
       "version_major": 2,
       "version_minor": 0
      },
      "text/plain": [
       "<LAMBDA> DONE:   0%|          | 0/58 [00:00<?, ?it/s]"
      ]
     },
     "metadata": {},
     "output_type": "display_data"
    },
    {
     "data": {
      "application/vnd.jupyter.widget-view+json": {
       "model_id": "7f182107006b4a8a8bef461562acdc3a",
       "version_major": 2,
       "version_minor": 0
      },
      "text/plain": [
       "<LAMBDA> DONE:   0%|          | 0/327 [00:00<?, ?it/s]"
      ]
     },
     "metadata": {},
     "output_type": "display_data"
    },
    {
     "data": {
      "application/vnd.jupyter.widget-view+json": {
       "model_id": "71d0d562d44e4c75bb9618487a233d29",
       "version_major": 2,
       "version_minor": 0
      },
      "text/plain": [
       "<LAMBDA> DONE:   0%|          | 0/327 [00:00<?, ?it/s]"
      ]
     },
     "metadata": {},
     "output_type": "display_data"
    },
    {
     "data": {
      "application/vnd.jupyter.widget-view+json": {
       "model_id": "96ff72412f114e5485bfffa4f9d4ee55",
       "version_major": 2,
       "version_minor": 0
      },
      "text/plain": [
       "<LAMBDA> DONE:   0%|          | 0/327 [00:00<?, ?it/s]"
      ]
     },
     "metadata": {},
     "output_type": "display_data"
    },
    {
     "data": {
      "application/vnd.jupyter.widget-view+json": {
       "model_id": "84a5e499824141c4842380bb05f31b8c",
       "version_major": 2,
       "version_minor": 0
      },
      "text/plain": [
       "<LAMBDA> DONE:   0%|          | 0/226 [00:00<?, ?it/s]"
      ]
     },
     "metadata": {},
     "output_type": "display_data"
    },
    {
     "data": {
      "application/vnd.jupyter.widget-view+json": {
       "model_id": "0dd914bc0acf4f5c8bc7b1ccda0b5477",
       "version_major": 2,
       "version_minor": 0
      },
      "text/plain": [
       "<LAMBDA> DONE:   0%|          | 0/226 [00:00<?, ?it/s]"
      ]
     },
     "metadata": {},
     "output_type": "display_data"
    },
    {
     "data": {
      "application/vnd.jupyter.widget-view+json": {
       "model_id": "8c7fef3d13e24326a06f61a601b546f4",
       "version_major": 2,
       "version_minor": 0
      },
      "text/plain": [
       "<LAMBDA> DONE:   0%|          | 0/226 [00:00<?, ?it/s]"
      ]
     },
     "metadata": {},
     "output_type": "display_data"
    },
    {
     "data": {
      "application/vnd.jupyter.widget-view+json": {
       "model_id": "eab5d6c289cd443a9bd1ec1278f1e169",
       "version_major": 2,
       "version_minor": 0
      },
      "text/plain": [
       "<LAMBDA> DONE:   0%|          | 0/757 [00:00<?, ?it/s]"
      ]
     },
     "metadata": {},
     "output_type": "display_data"
    },
    {
     "data": {
      "application/vnd.jupyter.widget-view+json": {
       "model_id": "8d7cf9b706034389bdc0953d13328658",
       "version_major": 2,
       "version_minor": 0
      },
      "text/plain": [
       "<LAMBDA> DONE:   0%|          | 0/757 [00:00<?, ?it/s]"
      ]
     },
     "metadata": {},
     "output_type": "display_data"
    },
    {
     "data": {
      "application/vnd.jupyter.widget-view+json": {
       "model_id": "b64900cba26e4b46acd04012e7ef4d95",
       "version_major": 2,
       "version_minor": 0
      },
      "text/plain": [
       "<LAMBDA> DONE:   0%|          | 0/757 [00:00<?, ?it/s]"
      ]
     },
     "metadata": {},
     "output_type": "display_data"
    },
    {
     "data": {
      "application/vnd.jupyter.widget-view+json": {
       "model_id": "05d5808c84394bcfaddbadf4ece223b2",
       "version_major": 2,
       "version_minor": 0
      },
      "text/plain": [
       "<LAMBDA> DONE:   0%|          | 0/282 [00:00<?, ?it/s]"
      ]
     },
     "metadata": {},
     "output_type": "display_data"
    },
    {
     "data": {
      "application/vnd.jupyter.widget-view+json": {
       "model_id": "a91b9b345ffa47dd9112cbba467da8f9",
       "version_major": 2,
       "version_minor": 0
      },
      "text/plain": [
       "<LAMBDA> DONE:   0%|          | 0/282 [00:00<?, ?it/s]"
      ]
     },
     "metadata": {},
     "output_type": "display_data"
    },
    {
     "data": {
      "application/vnd.jupyter.widget-view+json": {
       "model_id": "d9ccdf81832f49bd85843ac6df649094",
       "version_major": 2,
       "version_minor": 0
      },
      "text/plain": [
       "<LAMBDA> DONE:   0%|          | 0/282 [00:00<?, ?it/s]"
      ]
     },
     "metadata": {},
     "output_type": "display_data"
    },
    {
     "data": {
      "application/vnd.jupyter.widget-view+json": {
       "model_id": "2e7cf49ae4bb49f39e6c061ff257fdf6",
       "version_major": 2,
       "version_minor": 0
      },
      "text/plain": [
       "<LAMBDA> DONE:   0%|          | 0/249 [00:00<?, ?it/s]"
      ]
     },
     "metadata": {},
     "output_type": "display_data"
    },
    {
     "data": {
      "application/vnd.jupyter.widget-view+json": {
       "model_id": "1b31a0d7060748fd82879e2487aedfde",
       "version_major": 2,
       "version_minor": 0
      },
      "text/plain": [
       "<LAMBDA> DONE:   0%|          | 0/249 [00:00<?, ?it/s]"
      ]
     },
     "metadata": {},
     "output_type": "display_data"
    },
    {
     "data": {
      "application/vnd.jupyter.widget-view+json": {
       "model_id": "87eb8f5461934dc08268783a59dc960b",
       "version_major": 2,
       "version_minor": 0
      },
      "text/plain": [
       "<LAMBDA> DONE:   0%|          | 0/249 [00:00<?, ?it/s]"
      ]
     },
     "metadata": {},
     "output_type": "display_data"
    },
    {
     "data": {
      "application/vnd.jupyter.widget-view+json": {
       "model_id": "85c2398e68d4492191aa6e477dea6a52",
       "version_major": 2,
       "version_minor": 0
      },
      "text/plain": [
       "<LAMBDA> DONE:   0%|          | 0/622 [00:00<?, ?it/s]"
      ]
     },
     "metadata": {},
     "output_type": "display_data"
    },
    {
     "data": {
      "application/vnd.jupyter.widget-view+json": {
       "model_id": "2af078b17eba49b28639ad2404eb5562",
       "version_major": 2,
       "version_minor": 0
      },
      "text/plain": [
       "<LAMBDA> DONE:   0%|          | 0/622 [00:00<?, ?it/s]"
      ]
     },
     "metadata": {},
     "output_type": "display_data"
    },
    {
     "data": {
      "application/vnd.jupyter.widget-view+json": {
       "model_id": "d08adcf75fd24ab48d5fb25a89f4a482",
       "version_major": 2,
       "version_minor": 0
      },
      "text/plain": [
       "<LAMBDA> DONE:   0%|          | 0/622 [00:00<?, ?it/s]"
      ]
     },
     "metadata": {},
     "output_type": "display_data"
    },
    {
     "name": "stderr",
     "output_type": "stream",
     "text": [
      "/tmp/ipykernel_3805226/2830027787.py:60: PerformanceWarning: \n",
      "your performance may suffer as PyTables will pickle object types that it cannot\n",
      "map directly to c-types [inferred_type->mixed,key->block2_values] [items->Index(['sp_tree_tail', 'sp_tree_head', 'ldo_category', 'mdo_category',\n",
      "       'species', 'ldo_gene', 'mdo_gene', 'outgroup_species', 'out_gene'],\n",
      "      dtype='object')]\n",
      "\n",
      "  pd.concat(tmp).to_hdf(f'{RES_PATH}/{key}.h5', sp, complevel=9, complib='zlib')\n"
     ]
    },
    {
     "data": {
      "application/vnd.jupyter.widget-view+json": {
       "model_id": "af79f6f6d5454411acf89a2ed16caf27",
       "version_major": 2,
       "version_minor": 0
      },
      "text/plain": [
       "<LAMBDA> DONE:   0%|          | 0/774 [00:00<?, ?it/s]"
      ]
     },
     "metadata": {},
     "output_type": "display_data"
    },
    {
     "data": {
      "application/vnd.jupyter.widget-view+json": {
       "model_id": "17436b50b31b4ceca8101cac7fa497bc",
       "version_major": 2,
       "version_minor": 0
      },
      "text/plain": [
       "<LAMBDA> DONE:   0%|          | 0/774 [00:00<?, ?it/s]"
      ]
     },
     "metadata": {},
     "output_type": "display_data"
    },
    {
     "data": {
      "application/vnd.jupyter.widget-view+json": {
       "model_id": "71514d7d264d4eb3840ba0006d617b46",
       "version_major": 2,
       "version_minor": 0
      },
      "text/plain": [
       "<LAMBDA> DONE:   0%|          | 0/774 [00:00<?, ?it/s]"
      ]
     },
     "metadata": {},
     "output_type": "display_data"
    },
    {
     "data": {
      "application/vnd.jupyter.widget-view+json": {
       "model_id": "b3e9085c154d46e79e2acb5458ba5160",
       "version_major": 2,
       "version_minor": 0
      },
      "text/plain": [
       "<LAMBDA> DONE:   0%|          | 0/105 [00:00<?, ?it/s]"
      ]
     },
     "metadata": {},
     "output_type": "display_data"
    },
    {
     "data": {
      "application/vnd.jupyter.widget-view+json": {
       "model_id": "1217cba5d8424a64915c011dabc67c07",
       "version_major": 2,
       "version_minor": 0
      },
      "text/plain": [
       "<LAMBDA> DONE:   0%|          | 0/105 [00:00<?, ?it/s]"
      ]
     },
     "metadata": {},
     "output_type": "display_data"
    },
    {
     "data": {
      "application/vnd.jupyter.widget-view+json": {
       "model_id": "fa35ec6df42f426f816e8018566fc9a4",
       "version_major": 2,
       "version_minor": 0
      },
      "text/plain": [
       "<LAMBDA> DONE:   0%|          | 0/105 [00:00<?, ?it/s]"
      ]
     },
     "metadata": {},
     "output_type": "display_data"
    },
    {
     "data": {
      "application/vnd.jupyter.widget-view+json": {
       "model_id": "2e78dd47dc7d49a4adc9f84d1f9d748f",
       "version_major": 2,
       "version_minor": 0
      },
      "text/plain": [
       "<LAMBDA> DONE:   0%|          | 0/1450 [00:00<?, ?it/s]"
      ]
     },
     "metadata": {},
     "output_type": "display_data"
    },
    {
     "data": {
      "application/vnd.jupyter.widget-view+json": {
       "model_id": "817660e20ec547d8809a2e81036eeaf4",
       "version_major": 2,
       "version_minor": 0
      },
      "text/plain": [
       "<LAMBDA> DONE:   0%|          | 0/1450 [00:00<?, ?it/s]"
      ]
     },
     "metadata": {},
     "output_type": "display_data"
    },
    {
     "data": {
      "application/vnd.jupyter.widget-view+json": {
       "model_id": "5086037bdf95432f8a58420070b278d0",
       "version_major": 2,
       "version_minor": 0
      },
      "text/plain": [
       "<LAMBDA> DONE:   0%|          | 0/1450 [00:00<?, ?it/s]"
      ]
     },
     "metadata": {},
     "output_type": "display_data"
    },
    {
     "name": "stderr",
     "output_type": "stream",
     "text": [
      "/tmp/ipykernel_3805226/2830027787.py:60: PerformanceWarning: \n",
      "your performance may suffer as PyTables will pickle object types that it cannot\n",
      "map directly to c-types [inferred_type->mixed,key->block2_values] [items->Index(['sp_tree_tail', 'sp_tree_head', 'ldo_category', 'mdo_category',\n",
      "       'species', 'ldo_gene', 'mdo_gene', 'outgroup_species', 'out_gene'],\n",
      "      dtype='object')]\n",
      "\n",
      "  pd.concat(tmp).to_hdf(f'{RES_PATH}/{key}.h5', sp, complevel=9, complib='zlib')\n"
     ]
    },
    {
     "data": {
      "application/vnd.jupyter.widget-view+json": {
       "model_id": "f227b715338f4dc4a684605886271656",
       "version_major": 2,
       "version_minor": 0
      },
      "text/plain": [
       "<LAMBDA> DONE:   0%|          | 0/774 [00:00<?, ?it/s]"
      ]
     },
     "metadata": {},
     "output_type": "display_data"
    },
    {
     "data": {
      "application/vnd.jupyter.widget-view+json": {
       "model_id": "df14195658274f928192b1610959dd16",
       "version_major": 2,
       "version_minor": 0
      },
      "text/plain": [
       "<LAMBDA> DONE:   0%|          | 0/774 [00:00<?, ?it/s]"
      ]
     },
     "metadata": {},
     "output_type": "display_data"
    },
    {
     "data": {
      "application/vnd.jupyter.widget-view+json": {
       "model_id": "b530b8e901e848efbbe44f04e087bea1",
       "version_major": 2,
       "version_minor": 0
      },
      "text/plain": [
       "<LAMBDA> DONE:   0%|          | 0/774 [00:00<?, ?it/s]"
      ]
     },
     "metadata": {},
     "output_type": "display_data"
    },
    {
     "data": {
      "application/vnd.jupyter.widget-view+json": {
       "model_id": "2c8cea4416874df2b9ce42c4a17316bb",
       "version_major": 2,
       "version_minor": 0
      },
      "text/plain": [
       "<LAMBDA> DONE:   0%|          | 0/105 [00:00<?, ?it/s]"
      ]
     },
     "metadata": {},
     "output_type": "display_data"
    },
    {
     "data": {
      "application/vnd.jupyter.widget-view+json": {
       "model_id": "178ca4c24d894b6bbf22bf72c95ec04b",
       "version_major": 2,
       "version_minor": 0
      },
      "text/plain": [
       "<LAMBDA> DONE:   0%|          | 0/105 [00:00<?, ?it/s]"
      ]
     },
     "metadata": {},
     "output_type": "display_data"
    },
    {
     "data": {
      "application/vnd.jupyter.widget-view+json": {
       "model_id": "9434079498314a7699a5d6f0303ed0f4",
       "version_major": 2,
       "version_minor": 0
      },
      "text/plain": [
       "<LAMBDA> DONE:   0%|          | 0/105 [00:00<?, ?it/s]"
      ]
     },
     "metadata": {},
     "output_type": "display_data"
    },
    {
     "data": {
      "application/vnd.jupyter.widget-view+json": {
       "model_id": "0549cc4e00b747b28e3de7226fcf8106",
       "version_major": 2,
       "version_minor": 0
      },
      "text/plain": [
       "<LAMBDA> DONE:   0%|          | 0/1450 [00:00<?, ?it/s]"
      ]
     },
     "metadata": {},
     "output_type": "display_data"
    },
    {
     "data": {
      "application/vnd.jupyter.widget-view+json": {
       "model_id": "5d43f282ad2c4f3abeaf8a4a4431a9cf",
       "version_major": 2,
       "version_minor": 0
      },
      "text/plain": [
       "<LAMBDA> DONE:   0%|          | 0/1450 [00:00<?, ?it/s]"
      ]
     },
     "metadata": {},
     "output_type": "display_data"
    },
    {
     "data": {
      "application/vnd.jupyter.widget-view+json": {
       "model_id": "b79cd7b42f50444c8ff34cde57d46691",
       "version_major": 2,
       "version_minor": 0
      },
      "text/plain": [
       "<LAMBDA> DONE:   0%|          | 0/1450 [00:00<?, ?it/s]"
      ]
     },
     "metadata": {},
     "output_type": "display_data"
    },
    {
     "name": "stderr",
     "output_type": "stream",
     "text": [
      "/tmp/ipykernel_3805226/2830027787.py:60: PerformanceWarning: \n",
      "your performance may suffer as PyTables will pickle object types that it cannot\n",
      "map directly to c-types [inferred_type->mixed,key->block2_values] [items->Index(['sp_tree_tail', 'sp_tree_head', 'ldo_category', 'mdo_category',\n",
      "       'species', 'ldo_gene', 'mdo_gene', 'outgroup_species', 'out_gene'],\n",
      "      dtype='object')]\n",
      "\n",
      "  pd.concat(tmp).to_hdf(f'{RES_PATH}/{key}.h5', sp, complevel=9, complib='zlib')\n"
     ]
    },
    {
     "data": {
      "application/vnd.jupyter.widget-view+json": {
       "model_id": "d9a8fe1f02424819801775c0c48a5fc3",
       "version_major": 2,
       "version_minor": 0
      },
      "text/plain": [
       "<LAMBDA> DONE:   0%|          | 0/774 [00:00<?, ?it/s]"
      ]
     },
     "metadata": {},
     "output_type": "display_data"
    },
    {
     "data": {
      "application/vnd.jupyter.widget-view+json": {
       "model_id": "0baba9b8938b4e18a85cfa56b71f6094",
       "version_major": 2,
       "version_minor": 0
      },
      "text/plain": [
       "<LAMBDA> DONE:   0%|          | 0/774 [00:00<?, ?it/s]"
      ]
     },
     "metadata": {},
     "output_type": "display_data"
    },
    {
     "data": {
      "application/vnd.jupyter.widget-view+json": {
       "model_id": "c58b0aa4bbb6425292c63e08ceda4428",
       "version_major": 2,
       "version_minor": 0
      },
      "text/plain": [
       "<LAMBDA> DONE:   0%|          | 0/774 [00:00<?, ?it/s]"
      ]
     },
     "metadata": {},
     "output_type": "display_data"
    },
    {
     "data": {
      "application/vnd.jupyter.widget-view+json": {
       "model_id": "7382f189e1934e05b2d423d8ee6a7812",
       "version_major": 2,
       "version_minor": 0
      },
      "text/plain": [
       "<LAMBDA> DONE:   0%|          | 0/105 [00:00<?, ?it/s]"
      ]
     },
     "metadata": {},
     "output_type": "display_data"
    },
    {
     "data": {
      "application/vnd.jupyter.widget-view+json": {
       "model_id": "5bed19cb672f4e22b943d0ae82d4efce",
       "version_major": 2,
       "version_minor": 0
      },
      "text/plain": [
       "<LAMBDA> DONE:   0%|          | 0/105 [00:00<?, ?it/s]"
      ]
     },
     "metadata": {},
     "output_type": "display_data"
    },
    {
     "data": {
      "application/vnd.jupyter.widget-view+json": {
       "model_id": "a67b101f1e4b40ec8b25b2f6fc2681ed",
       "version_major": 2,
       "version_minor": 0
      },
      "text/plain": [
       "<LAMBDA> DONE:   0%|          | 0/105 [00:00<?, ?it/s]"
      ]
     },
     "metadata": {},
     "output_type": "display_data"
    },
    {
     "data": {
      "application/vnd.jupyter.widget-view+json": {
       "model_id": "0b2e397500824ab79c33b669146306b7",
       "version_major": 2,
       "version_minor": 0
      },
      "text/plain": [
       "<LAMBDA> DONE:   0%|          | 0/1450 [00:00<?, ?it/s]"
      ]
     },
     "metadata": {},
     "output_type": "display_data"
    },
    {
     "data": {
      "application/vnd.jupyter.widget-view+json": {
       "model_id": "e4748c09aeea46f797bee89cdb0ca738",
       "version_major": 2,
       "version_minor": 0
      },
      "text/plain": [
       "<LAMBDA> DONE:   0%|          | 0/1450 [00:00<?, ?it/s]"
      ]
     },
     "metadata": {},
     "output_type": "display_data"
    },
    {
     "data": {
      "application/vnd.jupyter.widget-view+json": {
       "model_id": "05e3eadde593405395a39ad5858b5f41",
       "version_major": 2,
       "version_minor": 0
      },
      "text/plain": [
       "<LAMBDA> DONE:   0%|          | 0/1450 [00:00<?, ?it/s]"
      ]
     },
     "metadata": {},
     "output_type": "display_data"
    },
    {
     "name": "stderr",
     "output_type": "stream",
     "text": [
      "/tmp/ipykernel_3805226/2830027787.py:60: PerformanceWarning: \n",
      "your performance may suffer as PyTables will pickle object types that it cannot\n",
      "map directly to c-types [inferred_type->mixed,key->block2_values] [items->Index(['sp_tree_tail', 'sp_tree_head', 'ldo_category', 'mdo_category',\n",
      "       'species', 'ldo_gene', 'mdo_gene', 'outgroup_species', 'out_gene'],\n",
      "      dtype='object')]\n",
      "\n",
      "  pd.concat(tmp).to_hdf(f'{RES_PATH}/{key}.h5', sp, complevel=9, complib='zlib')\n"
     ]
    },
    {
     "data": {
      "application/vnd.jupyter.widget-view+json": {
       "model_id": "1914970dd0a8401895afbfc8ec2c43c5",
       "version_major": 2,
       "version_minor": 0
      },
      "text/plain": [
       "<LAMBDA> DONE:   0%|          | 0/252 [00:00<?, ?it/s]"
      ]
     },
     "metadata": {},
     "output_type": "display_data"
    },
    {
     "data": {
      "application/vnd.jupyter.widget-view+json": {
       "model_id": "418eaf3843864a9c824cf620f1be4856",
       "version_major": 2,
       "version_minor": 0
      },
      "text/plain": [
       "<LAMBDA> DONE:   0%|          | 0/252 [00:00<?, ?it/s]"
      ]
     },
     "metadata": {},
     "output_type": "display_data"
    },
    {
     "data": {
      "application/vnd.jupyter.widget-view+json": {
       "model_id": "dfe388656ce0483b9e639cfba722f285",
       "version_major": 2,
       "version_minor": 0
      },
      "text/plain": [
       "<LAMBDA> DONE:   0%|          | 0/252 [00:00<?, ?it/s]"
      ]
     },
     "metadata": {},
     "output_type": "display_data"
    },
    {
     "data": {
      "application/vnd.jupyter.widget-view+json": {
       "model_id": "8a3b8f8feb6c48e5bd49b496912958b7",
       "version_major": 2,
       "version_minor": 0
      },
      "text/plain": [
       "<LAMBDA> DONE:   0%|          | 0/95 [00:00<?, ?it/s]"
      ]
     },
     "metadata": {},
     "output_type": "display_data"
    },
    {
     "data": {
      "application/vnd.jupyter.widget-view+json": {
       "model_id": "30742af05a0d492e89a962c142943cde",
       "version_major": 2,
       "version_minor": 0
      },
      "text/plain": [
       "<LAMBDA> DONE:   0%|          | 0/95 [00:00<?, ?it/s]"
      ]
     },
     "metadata": {},
     "output_type": "display_data"
    },
    {
     "data": {
      "application/vnd.jupyter.widget-view+json": {
       "model_id": "c3ed19781afb44a3b210a0deb81f6a52",
       "version_major": 2,
       "version_minor": 0
      },
      "text/plain": [
       "<LAMBDA> DONE:   0%|          | 0/95 [00:00<?, ?it/s]"
      ]
     },
     "metadata": {},
     "output_type": "display_data"
    },
    {
     "data": {
      "application/vnd.jupyter.widget-view+json": {
       "model_id": "d0e704b6ac23405a9d5f192d5c465aeb",
       "version_major": 2,
       "version_minor": 0
      },
      "text/plain": [
       "<LAMBDA> DONE:   0%|          | 0/36 [00:00<?, ?it/s]"
      ]
     },
     "metadata": {},
     "output_type": "display_data"
    },
    {
     "data": {
      "application/vnd.jupyter.widget-view+json": {
       "model_id": "76c98bf9eee44e21a56bee93eb57349c",
       "version_major": 2,
       "version_minor": 0
      },
      "text/plain": [
       "<LAMBDA> DONE:   0%|          | 0/36 [00:00<?, ?it/s]"
      ]
     },
     "metadata": {},
     "output_type": "display_data"
    },
    {
     "data": {
      "application/vnd.jupyter.widget-view+json": {
       "model_id": "8de6017939934acf9b94be039d881c9d",
       "version_major": 2,
       "version_minor": 0
      },
      "text/plain": [
       "<LAMBDA> DONE:   0%|          | 0/36 [00:00<?, ?it/s]"
      ]
     },
     "metadata": {},
     "output_type": "display_data"
    },
    {
     "data": {
      "application/vnd.jupyter.widget-view+json": {
       "model_id": "b38367a2e5e1419cb40bfc2a94131250",
       "version_major": 2,
       "version_minor": 0
      },
      "text/plain": [
       "<LAMBDA> DONE:   0%|          | 0/1431 [00:00<?, ?it/s]"
      ]
     },
     "metadata": {},
     "output_type": "display_data"
    },
    {
     "data": {
      "application/vnd.jupyter.widget-view+json": {
       "model_id": "ad45e3005a89443bafedc8e817cce07e",
       "version_major": 2,
       "version_minor": 0
      },
      "text/plain": [
       "<LAMBDA> DONE:   0%|          | 0/1431 [00:00<?, ?it/s]"
      ]
     },
     "metadata": {},
     "output_type": "display_data"
    },
    {
     "data": {
      "application/vnd.jupyter.widget-view+json": {
       "model_id": "97a073a9bb2a4ce98be9f051315a772d",
       "version_major": 2,
       "version_minor": 0
      },
      "text/plain": [
       "<LAMBDA> DONE:   0%|          | 0/1431 [00:00<?, ?it/s]"
      ]
     },
     "metadata": {},
     "output_type": "display_data"
    },
    {
     "data": {
      "application/vnd.jupyter.widget-view+json": {
       "model_id": "4ccc856efebd4571a8eea789cd9ab414",
       "version_major": 2,
       "version_minor": 0
      },
      "text/plain": [
       "<LAMBDA> DONE:   0%|          | 0/295 [00:00<?, ?it/s]"
      ]
     },
     "metadata": {},
     "output_type": "display_data"
    },
    {
     "data": {
      "application/vnd.jupyter.widget-view+json": {
       "model_id": "80b0ad4202e64ccdae688aa963a20347",
       "version_major": 2,
       "version_minor": 0
      },
      "text/plain": [
       "<LAMBDA> DONE:   0%|          | 0/295 [00:00<?, ?it/s]"
      ]
     },
     "metadata": {},
     "output_type": "display_data"
    },
    {
     "data": {
      "application/vnd.jupyter.widget-view+json": {
       "model_id": "304a7358a56a4a46a461a16c29090816",
       "version_major": 2,
       "version_minor": 0
      },
      "text/plain": [
       "<LAMBDA> DONE:   0%|          | 0/295 [00:00<?, ?it/s]"
      ]
     },
     "metadata": {},
     "output_type": "display_data"
    },
    {
     "data": {
      "application/vnd.jupyter.widget-view+json": {
       "model_id": "5ce73c419eea4c3ca393fe229708836b",
       "version_major": 2,
       "version_minor": 0
      },
      "text/plain": [
       "<LAMBDA> DONE:   0%|          | 0/646 [00:00<?, ?it/s]"
      ]
     },
     "metadata": {},
     "output_type": "display_data"
    },
    {
     "data": {
      "application/vnd.jupyter.widget-view+json": {
       "model_id": "c0c986f04bb74258a41748981ea6b3fb",
       "version_major": 2,
       "version_minor": 0
      },
      "text/plain": [
       "<LAMBDA> DONE:   0%|          | 0/646 [00:00<?, ?it/s]"
      ]
     },
     "metadata": {},
     "output_type": "display_data"
    },
    {
     "data": {
      "application/vnd.jupyter.widget-view+json": {
       "model_id": "d992b457e7e94fe8b74c3ed6252a4ab0",
       "version_major": 2,
       "version_minor": 0
      },
      "text/plain": [
       "<LAMBDA> DONE:   0%|          | 0/646 [00:00<?, ?it/s]"
      ]
     },
     "metadata": {},
     "output_type": "display_data"
    },
    {
     "data": {
      "application/vnd.jupyter.widget-view+json": {
       "model_id": "b214d5c08b5f4aa2bf660cd76ab1fda8",
       "version_major": 2,
       "version_minor": 0
      },
      "text/plain": [
       "<LAMBDA> DONE:   0%|          | 0/366 [00:00<?, ?it/s]"
      ]
     },
     "metadata": {},
     "output_type": "display_data"
    },
    {
     "data": {
      "application/vnd.jupyter.widget-view+json": {
       "model_id": "efd9c11c6a964877b2c5fcb34dba9d80",
       "version_major": 2,
       "version_minor": 0
      },
      "text/plain": [
       "<LAMBDA> DONE:   0%|          | 0/366 [00:00<?, ?it/s]"
      ]
     },
     "metadata": {},
     "output_type": "display_data"
    },
    {
     "data": {
      "application/vnd.jupyter.widget-view+json": {
       "model_id": "b7fcd5ca5177456fb04ba7d6e47e6816",
       "version_major": 2,
       "version_minor": 0
      },
      "text/plain": [
       "<LAMBDA> DONE:   0%|          | 0/366 [00:00<?, ?it/s]"
      ]
     },
     "metadata": {},
     "output_type": "display_data"
    },
    {
     "data": {
      "application/vnd.jupyter.widget-view+json": {
       "model_id": "81e6978bc7a640ecac050f02d9454efb",
       "version_major": 2,
       "version_minor": 0
      },
      "text/plain": [
       "<LAMBDA> DONE:   0%|          | 0/196 [00:00<?, ?it/s]"
      ]
     },
     "metadata": {},
     "output_type": "display_data"
    },
    {
     "data": {
      "application/vnd.jupyter.widget-view+json": {
       "model_id": "ebb934b3c08c43008f0fb0400a60b284",
       "version_major": 2,
       "version_minor": 0
      },
      "text/plain": [
       "<LAMBDA> DONE:   0%|          | 0/196 [00:00<?, ?it/s]"
      ]
     },
     "metadata": {},
     "output_type": "display_data"
    },
    {
     "data": {
      "application/vnd.jupyter.widget-view+json": {
       "model_id": "bc7336db222b4f63bb26146823549615",
       "version_major": 2,
       "version_minor": 0
      },
      "text/plain": [
       "<LAMBDA> DONE:   0%|          | 0/196 [00:00<?, ?it/s]"
      ]
     },
     "metadata": {},
     "output_type": "display_data"
    },
    {
     "name": "stderr",
     "output_type": "stream",
     "text": [
      "/tmp/ipykernel_3805226/2830027787.py:60: PerformanceWarning: \n",
      "your performance may suffer as PyTables will pickle object types that it cannot\n",
      "map directly to c-types [inferred_type->mixed,key->block2_values] [items->Index(['sp_tree_tail', 'sp_tree_head', 'ldo_category', 'mdo_category',\n",
      "       'species', 'ldo_gene', 'mdo_gene', 'outgroup_species', 'out_gene'],\n",
      "      dtype='object')]\n",
      "\n",
      "  pd.concat(tmp).to_hdf(f'{RES_PATH}/{key}.h5', sp, complevel=9, complib='zlib')\n"
     ]
    },
    {
     "data": {
      "application/vnd.jupyter.widget-view+json": {
       "model_id": "5e75b02a605c459daf2a7afe51a6812c",
       "version_major": 2,
       "version_minor": 0
      },
      "text/plain": [
       "<LAMBDA> DONE:   0%|          | 0/252 [00:00<?, ?it/s]"
      ]
     },
     "metadata": {},
     "output_type": "display_data"
    },
    {
     "data": {
      "application/vnd.jupyter.widget-view+json": {
       "model_id": "f0ae796da14c45a0bc52f1898753a7f5",
       "version_major": 2,
       "version_minor": 0
      },
      "text/plain": [
       "<LAMBDA> DONE:   0%|          | 0/252 [00:00<?, ?it/s]"
      ]
     },
     "metadata": {},
     "output_type": "display_data"
    },
    {
     "data": {
      "application/vnd.jupyter.widget-view+json": {
       "model_id": "c60f8c29b27a4241a263eb3b7f383948",
       "version_major": 2,
       "version_minor": 0
      },
      "text/plain": [
       "<LAMBDA> DONE:   0%|          | 0/252 [00:00<?, ?it/s]"
      ]
     },
     "metadata": {},
     "output_type": "display_data"
    },
    {
     "data": {
      "application/vnd.jupyter.widget-view+json": {
       "model_id": "3c20c336316943ad9e7f0134fbc5fa21",
       "version_major": 2,
       "version_minor": 0
      },
      "text/plain": [
       "<LAMBDA> DONE:   0%|          | 0/95 [00:00<?, ?it/s]"
      ]
     },
     "metadata": {},
     "output_type": "display_data"
    },
    {
     "data": {
      "application/vnd.jupyter.widget-view+json": {
       "model_id": "bb4845036ccc4eeab31bb70f17aec9ef",
       "version_major": 2,
       "version_minor": 0
      },
      "text/plain": [
       "<LAMBDA> DONE:   0%|          | 0/95 [00:00<?, ?it/s]"
      ]
     },
     "metadata": {},
     "output_type": "display_data"
    },
    {
     "data": {
      "application/vnd.jupyter.widget-view+json": {
       "model_id": "ffa92714c59a44f1ab8eabedc2170ac0",
       "version_major": 2,
       "version_minor": 0
      },
      "text/plain": [
       "<LAMBDA> DONE:   0%|          | 0/95 [00:00<?, ?it/s]"
      ]
     },
     "metadata": {},
     "output_type": "display_data"
    },
    {
     "data": {
      "application/vnd.jupyter.widget-view+json": {
       "model_id": "6cb610721e5f4b51bc2d08741f58b8aa",
       "version_major": 2,
       "version_minor": 0
      },
      "text/plain": [
       "<LAMBDA> DONE:   0%|          | 0/36 [00:00<?, ?it/s]"
      ]
     },
     "metadata": {},
     "output_type": "display_data"
    },
    {
     "data": {
      "application/vnd.jupyter.widget-view+json": {
       "model_id": "bcd4329f8bda4ec5a8a61c0471a413f9",
       "version_major": 2,
       "version_minor": 0
      },
      "text/plain": [
       "<LAMBDA> DONE:   0%|          | 0/36 [00:00<?, ?it/s]"
      ]
     },
     "metadata": {},
     "output_type": "display_data"
    },
    {
     "data": {
      "application/vnd.jupyter.widget-view+json": {
       "model_id": "d0a9e673fff74bf2aaeeba64bf7567a9",
       "version_major": 2,
       "version_minor": 0
      },
      "text/plain": [
       "<LAMBDA> DONE:   0%|          | 0/36 [00:00<?, ?it/s]"
      ]
     },
     "metadata": {},
     "output_type": "display_data"
    },
    {
     "data": {
      "application/vnd.jupyter.widget-view+json": {
       "model_id": "5c9086b4e1604b229c3f9753d7d7e77f",
       "version_major": 2,
       "version_minor": 0
      },
      "text/plain": [
       "<LAMBDA> DONE:   0%|          | 0/1431 [00:00<?, ?it/s]"
      ]
     },
     "metadata": {},
     "output_type": "display_data"
    },
    {
     "data": {
      "application/vnd.jupyter.widget-view+json": {
       "model_id": "304de90bdb54433b811880cbcf12f07c",
       "version_major": 2,
       "version_minor": 0
      },
      "text/plain": [
       "<LAMBDA> DONE:   0%|          | 0/1431 [00:00<?, ?it/s]"
      ]
     },
     "metadata": {},
     "output_type": "display_data"
    },
    {
     "data": {
      "application/vnd.jupyter.widget-view+json": {
       "model_id": "3b926f663701492cb550335d591e0aab",
       "version_major": 2,
       "version_minor": 0
      },
      "text/plain": [
       "<LAMBDA> DONE:   0%|          | 0/1431 [00:00<?, ?it/s]"
      ]
     },
     "metadata": {},
     "output_type": "display_data"
    },
    {
     "data": {
      "application/vnd.jupyter.widget-view+json": {
       "model_id": "7c8627c45a594ea0b4092d18b5fb41be",
       "version_major": 2,
       "version_minor": 0
      },
      "text/plain": [
       "<LAMBDA> DONE:   0%|          | 0/295 [00:00<?, ?it/s]"
      ]
     },
     "metadata": {},
     "output_type": "display_data"
    },
    {
     "data": {
      "application/vnd.jupyter.widget-view+json": {
       "model_id": "2af02c47bfe646339346d93bace9ce10",
       "version_major": 2,
       "version_minor": 0
      },
      "text/plain": [
       "<LAMBDA> DONE:   0%|          | 0/295 [00:00<?, ?it/s]"
      ]
     },
     "metadata": {},
     "output_type": "display_data"
    },
    {
     "data": {
      "application/vnd.jupyter.widget-view+json": {
       "model_id": "4cdc8b04a7554450aedb9f4bcc92a055",
       "version_major": 2,
       "version_minor": 0
      },
      "text/plain": [
       "<LAMBDA> DONE:   0%|          | 0/295 [00:00<?, ?it/s]"
      ]
     },
     "metadata": {},
     "output_type": "display_data"
    },
    {
     "data": {
      "application/vnd.jupyter.widget-view+json": {
       "model_id": "b5cece3a3ffa4d73bf823cdbd55926e7",
       "version_major": 2,
       "version_minor": 0
      },
      "text/plain": [
       "<LAMBDA> DONE:   0%|          | 0/646 [00:00<?, ?it/s]"
      ]
     },
     "metadata": {},
     "output_type": "display_data"
    },
    {
     "data": {
      "application/vnd.jupyter.widget-view+json": {
       "model_id": "6af0ba09c8a945f2ab6d326be72b11e6",
       "version_major": 2,
       "version_minor": 0
      },
      "text/plain": [
       "<LAMBDA> DONE:   0%|          | 0/646 [00:00<?, ?it/s]"
      ]
     },
     "metadata": {},
     "output_type": "display_data"
    },
    {
     "data": {
      "application/vnd.jupyter.widget-view+json": {
       "model_id": "6dee23cec9de4d36bd1b78d84ea14561",
       "version_major": 2,
       "version_minor": 0
      },
      "text/plain": [
       "<LAMBDA> DONE:   0%|          | 0/646 [00:00<?, ?it/s]"
      ]
     },
     "metadata": {},
     "output_type": "display_data"
    },
    {
     "data": {
      "application/vnd.jupyter.widget-view+json": {
       "model_id": "1582edeb8a744f4891803e912f82037c",
       "version_major": 2,
       "version_minor": 0
      },
      "text/plain": [
       "<LAMBDA> DONE:   0%|          | 0/366 [00:00<?, ?it/s]"
      ]
     },
     "metadata": {},
     "output_type": "display_data"
    },
    {
     "data": {
      "application/vnd.jupyter.widget-view+json": {
       "model_id": "36f397d8cfca43b4a197e420e01eff79",
       "version_major": 2,
       "version_minor": 0
      },
      "text/plain": [
       "<LAMBDA> DONE:   0%|          | 0/366 [00:00<?, ?it/s]"
      ]
     },
     "metadata": {},
     "output_type": "display_data"
    },
    {
     "data": {
      "application/vnd.jupyter.widget-view+json": {
       "model_id": "6d8f5e710fec4a049df508e83b781e49",
       "version_major": 2,
       "version_minor": 0
      },
      "text/plain": [
       "<LAMBDA> DONE:   0%|          | 0/366 [00:00<?, ?it/s]"
      ]
     },
     "metadata": {},
     "output_type": "display_data"
    },
    {
     "data": {
      "application/vnd.jupyter.widget-view+json": {
       "model_id": "84002fa8b0214cc0807c3a6dfbea59c9",
       "version_major": 2,
       "version_minor": 0
      },
      "text/plain": [
       "<LAMBDA> DONE:   0%|          | 0/196 [00:00<?, ?it/s]"
      ]
     },
     "metadata": {},
     "output_type": "display_data"
    },
    {
     "data": {
      "application/vnd.jupyter.widget-view+json": {
       "model_id": "57386e3bc4f94b11a0d65b36b4d1b589",
       "version_major": 2,
       "version_minor": 0
      },
      "text/plain": [
       "<LAMBDA> DONE:   0%|          | 0/196 [00:00<?, ?it/s]"
      ]
     },
     "metadata": {},
     "output_type": "display_data"
    },
    {
     "data": {
      "application/vnd.jupyter.widget-view+json": {
       "model_id": "aef09553b5c54887bb33cd10788786be",
       "version_major": 2,
       "version_minor": 0
      },
      "text/plain": [
       "<LAMBDA> DONE:   0%|          | 0/196 [00:00<?, ?it/s]"
      ]
     },
     "metadata": {},
     "output_type": "display_data"
    },
    {
     "name": "stderr",
     "output_type": "stream",
     "text": [
      "/tmp/ipykernel_3805226/2830027787.py:60: PerformanceWarning: \n",
      "your performance may suffer as PyTables will pickle object types that it cannot\n",
      "map directly to c-types [inferred_type->mixed,key->block2_values] [items->Index(['sp_tree_tail', 'sp_tree_head', 'ldo_category', 'mdo_category',\n",
      "       'species', 'ldo_gene', 'mdo_gene', 'outgroup_species', 'out_gene'],\n",
      "      dtype='object')]\n",
      "\n",
      "  pd.concat(tmp).to_hdf(f'{RES_PATH}/{key}.h5', sp, complevel=9, complib='zlib')\n"
     ]
    },
    {
     "data": {
      "application/vnd.jupyter.widget-view+json": {
       "model_id": "8536dab56f814eb6922d6b88b2f9c691",
       "version_major": 2,
       "version_minor": 0
      },
      "text/plain": [
       "<LAMBDA> DONE:   0%|          | 0/252 [00:00<?, ?it/s]"
      ]
     },
     "metadata": {},
     "output_type": "display_data"
    },
    {
     "data": {
      "application/vnd.jupyter.widget-view+json": {
       "model_id": "c898538631384ec18dadf9fe24b464f0",
       "version_major": 2,
       "version_minor": 0
      },
      "text/plain": [
       "<LAMBDA> DONE:   0%|          | 0/252 [00:00<?, ?it/s]"
      ]
     },
     "metadata": {},
     "output_type": "display_data"
    },
    {
     "data": {
      "application/vnd.jupyter.widget-view+json": {
       "model_id": "b5e0d7f5b6f5497a8c7dc33e9faedcba",
       "version_major": 2,
       "version_minor": 0
      },
      "text/plain": [
       "<LAMBDA> DONE:   0%|          | 0/252 [00:00<?, ?it/s]"
      ]
     },
     "metadata": {},
     "output_type": "display_data"
    },
    {
     "data": {
      "application/vnd.jupyter.widget-view+json": {
       "model_id": "6af65d4257614f1cb9cffe3f336739ba",
       "version_major": 2,
       "version_minor": 0
      },
      "text/plain": [
       "<LAMBDA> DONE:   0%|          | 0/95 [00:00<?, ?it/s]"
      ]
     },
     "metadata": {},
     "output_type": "display_data"
    },
    {
     "data": {
      "application/vnd.jupyter.widget-view+json": {
       "model_id": "999c7f9fcf8a4bfb9f41cbeff0552438",
       "version_major": 2,
       "version_minor": 0
      },
      "text/plain": [
       "<LAMBDA> DONE:   0%|          | 0/95 [00:00<?, ?it/s]"
      ]
     },
     "metadata": {},
     "output_type": "display_data"
    },
    {
     "data": {
      "application/vnd.jupyter.widget-view+json": {
       "model_id": "9b8233b8ef3a4cdfb536d2b80b52d0a9",
       "version_major": 2,
       "version_minor": 0
      },
      "text/plain": [
       "<LAMBDA> DONE:   0%|          | 0/95 [00:00<?, ?it/s]"
      ]
     },
     "metadata": {},
     "output_type": "display_data"
    },
    {
     "data": {
      "application/vnd.jupyter.widget-view+json": {
       "model_id": "361f9bedb3c448bd9b98986673496fe8",
       "version_major": 2,
       "version_minor": 0
      },
      "text/plain": [
       "<LAMBDA> DONE:   0%|          | 0/36 [00:00<?, ?it/s]"
      ]
     },
     "metadata": {},
     "output_type": "display_data"
    },
    {
     "data": {
      "application/vnd.jupyter.widget-view+json": {
       "model_id": "99d53154b2b945c79188b6114b2bc542",
       "version_major": 2,
       "version_minor": 0
      },
      "text/plain": [
       "<LAMBDA> DONE:   0%|          | 0/36 [00:00<?, ?it/s]"
      ]
     },
     "metadata": {},
     "output_type": "display_data"
    },
    {
     "data": {
      "application/vnd.jupyter.widget-view+json": {
       "model_id": "4323de2f897a4b029995f15a585b1a27",
       "version_major": 2,
       "version_minor": 0
      },
      "text/plain": [
       "<LAMBDA> DONE:   0%|          | 0/36 [00:00<?, ?it/s]"
      ]
     },
     "metadata": {},
     "output_type": "display_data"
    },
    {
     "data": {
      "application/vnd.jupyter.widget-view+json": {
       "model_id": "066750f1a88e4a02b9bb0f2166ef5cd6",
       "version_major": 2,
       "version_minor": 0
      },
      "text/plain": [
       "<LAMBDA> DONE:   0%|          | 0/1431 [00:00<?, ?it/s]"
      ]
     },
     "metadata": {},
     "output_type": "display_data"
    },
    {
     "data": {
      "application/vnd.jupyter.widget-view+json": {
       "model_id": "14a6ca34f8cf4aebbb7490b6d29da29b",
       "version_major": 2,
       "version_minor": 0
      },
      "text/plain": [
       "<LAMBDA> DONE:   0%|          | 0/1431 [00:00<?, ?it/s]"
      ]
     },
     "metadata": {},
     "output_type": "display_data"
    },
    {
     "data": {
      "application/vnd.jupyter.widget-view+json": {
       "model_id": "fec694be86e146a3a3a5d1a6fe71e3dc",
       "version_major": 2,
       "version_minor": 0
      },
      "text/plain": [
       "<LAMBDA> DONE:   0%|          | 0/1431 [00:00<?, ?it/s]"
      ]
     },
     "metadata": {},
     "output_type": "display_data"
    },
    {
     "data": {
      "application/vnd.jupyter.widget-view+json": {
       "model_id": "e571c43900824c6d979268fc81c4209e",
       "version_major": 2,
       "version_minor": 0
      },
      "text/plain": [
       "<LAMBDA> DONE:   0%|          | 0/295 [00:00<?, ?it/s]"
      ]
     },
     "metadata": {},
     "output_type": "display_data"
    },
    {
     "data": {
      "application/vnd.jupyter.widget-view+json": {
       "model_id": "3221ef002c094c78b302468906d994ae",
       "version_major": 2,
       "version_minor": 0
      },
      "text/plain": [
       "<LAMBDA> DONE:   0%|          | 0/295 [00:00<?, ?it/s]"
      ]
     },
     "metadata": {},
     "output_type": "display_data"
    },
    {
     "data": {
      "application/vnd.jupyter.widget-view+json": {
       "model_id": "de18e6461e6a48a8aff4f6727f68eaa0",
       "version_major": 2,
       "version_minor": 0
      },
      "text/plain": [
       "<LAMBDA> DONE:   0%|          | 0/295 [00:00<?, ?it/s]"
      ]
     },
     "metadata": {},
     "output_type": "display_data"
    },
    {
     "data": {
      "application/vnd.jupyter.widget-view+json": {
       "model_id": "6a21c4d2ce454d489bf89801bd9887a6",
       "version_major": 2,
       "version_minor": 0
      },
      "text/plain": [
       "<LAMBDA> DONE:   0%|          | 0/646 [00:00<?, ?it/s]"
      ]
     },
     "metadata": {},
     "output_type": "display_data"
    },
    {
     "data": {
      "application/vnd.jupyter.widget-view+json": {
       "model_id": "336aeaebe85c46b8866c5fca67334240",
       "version_major": 2,
       "version_minor": 0
      },
      "text/plain": [
       "<LAMBDA> DONE:   0%|          | 0/646 [00:00<?, ?it/s]"
      ]
     },
     "metadata": {},
     "output_type": "display_data"
    },
    {
     "data": {
      "application/vnd.jupyter.widget-view+json": {
       "model_id": "cf3a622d7e574e7eb6d0f5344ef3e7c5",
       "version_major": 2,
       "version_minor": 0
      },
      "text/plain": [
       "<LAMBDA> DONE:   0%|          | 0/646 [00:00<?, ?it/s]"
      ]
     },
     "metadata": {},
     "output_type": "display_data"
    },
    {
     "data": {
      "application/vnd.jupyter.widget-view+json": {
       "model_id": "263f1c9170a84a5394db17c0e78e4088",
       "version_major": 2,
       "version_minor": 0
      },
      "text/plain": [
       "<LAMBDA> DONE:   0%|          | 0/366 [00:00<?, ?it/s]"
      ]
     },
     "metadata": {},
     "output_type": "display_data"
    },
    {
     "data": {
      "application/vnd.jupyter.widget-view+json": {
       "model_id": "975b4d5d822548c893020db781f05a20",
       "version_major": 2,
       "version_minor": 0
      },
      "text/plain": [
       "<LAMBDA> DONE:   0%|          | 0/366 [00:00<?, ?it/s]"
      ]
     },
     "metadata": {},
     "output_type": "display_data"
    },
    {
     "data": {
      "application/vnd.jupyter.widget-view+json": {
       "model_id": "997c8baa3fbb488283fe26076a46fa55",
       "version_major": 2,
       "version_minor": 0
      },
      "text/plain": [
       "<LAMBDA> DONE:   0%|          | 0/366 [00:00<?, ?it/s]"
      ]
     },
     "metadata": {},
     "output_type": "display_data"
    },
    {
     "data": {
      "application/vnd.jupyter.widget-view+json": {
       "model_id": "f8506604ffa243c7a409599434d0a89f",
       "version_major": 2,
       "version_minor": 0
      },
      "text/plain": [
       "<LAMBDA> DONE:   0%|          | 0/196 [00:00<?, ?it/s]"
      ]
     },
     "metadata": {},
     "output_type": "display_data"
    },
    {
     "data": {
      "application/vnd.jupyter.widget-view+json": {
       "model_id": "054729c8e30c4aa3a132627f2eddfe29",
       "version_major": 2,
       "version_minor": 0
      },
      "text/plain": [
       "<LAMBDA> DONE:   0%|          | 0/196 [00:00<?, ?it/s]"
      ]
     },
     "metadata": {},
     "output_type": "display_data"
    },
    {
     "data": {
      "application/vnd.jupyter.widget-view+json": {
       "model_id": "444f2be182a54651bfb8241d1935cb66",
       "version_major": 2,
       "version_minor": 0
      },
      "text/plain": [
       "<LAMBDA> DONE:   0%|          | 0/196 [00:00<?, ?it/s]"
      ]
     },
     "metadata": {},
     "output_type": "display_data"
    },
    {
     "name": "stderr",
     "output_type": "stream",
     "text": [
      "/tmp/ipykernel_3805226/2830027787.py:60: PerformanceWarning: \n",
      "your performance may suffer as PyTables will pickle object types that it cannot\n",
      "map directly to c-types [inferred_type->mixed,key->block2_values] [items->Index(['sp_tree_tail', 'sp_tree_head', 'ldo_category', 'mdo_category',\n",
      "       'species', 'ldo_gene', 'mdo_gene', 'outgroup_species', 'out_gene'],\n",
      "      dtype='object')]\n",
      "\n",
      "  pd.concat(tmp).to_hdf(f'{RES_PATH}/{key}.h5', sp, complevel=9, complib='zlib')\n"
     ]
    },
    {
     "data": {
      "application/vnd.jupyter.widget-view+json": {
       "model_id": "c60c58cbd4bf4f798ad8dbe24c2fb8d5",
       "version_major": 2,
       "version_minor": 0
      },
      "text/plain": [
       "<LAMBDA> DONE:   0%|          | 0/840 [00:00<?, ?it/s]"
      ]
     },
     "metadata": {},
     "output_type": "display_data"
    },
    {
     "data": {
      "application/vnd.jupyter.widget-view+json": {
       "model_id": "81f70b31d74c489b97bb798226a7303a",
       "version_major": 2,
       "version_minor": 0
      },
      "text/plain": [
       "<LAMBDA> DONE:   0%|          | 0/840 [00:00<?, ?it/s]"
      ]
     },
     "metadata": {},
     "output_type": "display_data"
    },
    {
     "data": {
      "application/vnd.jupyter.widget-view+json": {
       "model_id": "fd214b0e03684abc8ebf054b4aa227b7",
       "version_major": 2,
       "version_minor": 0
      },
      "text/plain": [
       "<LAMBDA> DONE:   0%|          | 0/840 [00:00<?, ?it/s]"
      ]
     },
     "metadata": {},
     "output_type": "display_data"
    },
    {
     "data": {
      "application/vnd.jupyter.widget-view+json": {
       "model_id": "bd2ebc937acf4e8fb029896cfebff73b",
       "version_major": 2,
       "version_minor": 0
      },
      "text/plain": [
       "<LAMBDA> DONE:   0%|          | 0/149 [00:00<?, ?it/s]"
      ]
     },
     "metadata": {},
     "output_type": "display_data"
    },
    {
     "data": {
      "application/vnd.jupyter.widget-view+json": {
       "model_id": "173f4831c75344c39e5c791afa2b3d73",
       "version_major": 2,
       "version_minor": 0
      },
      "text/plain": [
       "<LAMBDA> DONE:   0%|          | 0/149 [00:00<?, ?it/s]"
      ]
     },
     "metadata": {},
     "output_type": "display_data"
    },
    {
     "data": {
      "application/vnd.jupyter.widget-view+json": {
       "model_id": "91424b80a0e04eea8876a7ed564e72ef",
       "version_major": 2,
       "version_minor": 0
      },
      "text/plain": [
       "<LAMBDA> DONE:   0%|          | 0/149 [00:00<?, ?it/s]"
      ]
     },
     "metadata": {},
     "output_type": "display_data"
    },
    {
     "data": {
      "application/vnd.jupyter.widget-view+json": {
       "model_id": "ff993e9ca4af4f43bd75f4543801e766",
       "version_major": 2,
       "version_minor": 0
      },
      "text/plain": [
       "<LAMBDA> DONE:   0%|          | 0/661 [00:00<?, ?it/s]"
      ]
     },
     "metadata": {},
     "output_type": "display_data"
    },
    {
     "data": {
      "application/vnd.jupyter.widget-view+json": {
       "model_id": "0582492c8b254545aba886041e07c12e",
       "version_major": 2,
       "version_minor": 0
      },
      "text/plain": [
       "<LAMBDA> DONE:   0%|          | 0/661 [00:00<?, ?it/s]"
      ]
     },
     "metadata": {},
     "output_type": "display_data"
    },
    {
     "data": {
      "application/vnd.jupyter.widget-view+json": {
       "model_id": "f125a793d7954c34a0135ab8418cceb2",
       "version_major": 2,
       "version_minor": 0
      },
      "text/plain": [
       "<LAMBDA> DONE:   0%|          | 0/661 [00:00<?, ?it/s]"
      ]
     },
     "metadata": {},
     "output_type": "display_data"
    },
    {
     "data": {
      "application/vnd.jupyter.widget-view+json": {
       "model_id": "9d995a02984e4fb3aaba6d39c886b2cc",
       "version_major": 2,
       "version_minor": 0
      },
      "text/plain": [
       "<LAMBDA> DONE:   0%|          | 0/130 [00:00<?, ?it/s]"
      ]
     },
     "metadata": {},
     "output_type": "display_data"
    },
    {
     "data": {
      "application/vnd.jupyter.widget-view+json": {
       "model_id": "39f4b1430c704cbdb7dc30bfbf7fecf8",
       "version_major": 2,
       "version_minor": 0
      },
      "text/plain": [
       "<LAMBDA> DONE:   0%|          | 0/130 [00:00<?, ?it/s]"
      ]
     },
     "metadata": {},
     "output_type": "display_data"
    },
    {
     "data": {
      "application/vnd.jupyter.widget-view+json": {
       "model_id": "0ba61c0bf5084a6a846dba4caaa5f5c0",
       "version_major": 2,
       "version_minor": 0
      },
      "text/plain": [
       "<LAMBDA> DONE:   0%|          | 0/130 [00:00<?, ?it/s]"
      ]
     },
     "metadata": {},
     "output_type": "display_data"
    },
    {
     "data": {
      "application/vnd.jupyter.widget-view+json": {
       "model_id": "14eeebc293e648b3bf0a4aa434c995a4",
       "version_major": 2,
       "version_minor": 0
      },
      "text/plain": [
       "<LAMBDA> DONE:   0%|          | 0/1520 [00:00<?, ?it/s]"
      ]
     },
     "metadata": {},
     "output_type": "display_data"
    },
    {
     "data": {
      "application/vnd.jupyter.widget-view+json": {
       "model_id": "542d9291a6324533a48af1acd62530bd",
       "version_major": 2,
       "version_minor": 0
      },
      "text/plain": [
       "<LAMBDA> DONE:   0%|          | 0/1520 [00:00<?, ?it/s]"
      ]
     },
     "metadata": {},
     "output_type": "display_data"
    },
    {
     "data": {
      "application/vnd.jupyter.widget-view+json": {
       "model_id": "ddb8d73add0b4f3ca3f41c9a298ef666",
       "version_major": 2,
       "version_minor": 0
      },
      "text/plain": [
       "<LAMBDA> DONE:   0%|          | 0/1520 [00:00<?, ?it/s]"
      ]
     },
     "metadata": {},
     "output_type": "display_data"
    },
    {
     "data": {
      "application/vnd.jupyter.widget-view+json": {
       "model_id": "cbefa079d6ea41d9a0d7b021e5fda6a7",
       "version_major": 2,
       "version_minor": 0
      },
      "text/plain": [
       "<LAMBDA> DONE:   0%|          | 0/413 [00:00<?, ?it/s]"
      ]
     },
     "metadata": {},
     "output_type": "display_data"
    },
    {
     "data": {
      "application/vnd.jupyter.widget-view+json": {
       "model_id": "7d85b3ff6be34d09916bed8fd08b3be4",
       "version_major": 2,
       "version_minor": 0
      },
      "text/plain": [
       "<LAMBDA> DONE:   0%|          | 0/413 [00:00<?, ?it/s]"
      ]
     },
     "metadata": {},
     "output_type": "display_data"
    },
    {
     "data": {
      "application/vnd.jupyter.widget-view+json": {
       "model_id": "7fc3007e8e8f4e5d864e100a22506e74",
       "version_major": 2,
       "version_minor": 0
      },
      "text/plain": [
       "<LAMBDA> DONE:   0%|          | 0/413 [00:00<?, ?it/s]"
      ]
     },
     "metadata": {},
     "output_type": "display_data"
    },
    {
     "data": {
      "application/vnd.jupyter.widget-view+json": {
       "model_id": "172c36f8694047bd995d6da05149367d",
       "version_major": 2,
       "version_minor": 0
      },
      "text/plain": [
       "<LAMBDA> DONE:   0%|          | 0/61 [00:00<?, ?it/s]"
      ]
     },
     "metadata": {},
     "output_type": "display_data"
    },
    {
     "data": {
      "application/vnd.jupyter.widget-view+json": {
       "model_id": "59379e502c8c4650b75993fc746038e6",
       "version_major": 2,
       "version_minor": 0
      },
      "text/plain": [
       "<LAMBDA> DONE:   0%|          | 0/61 [00:00<?, ?it/s]"
      ]
     },
     "metadata": {},
     "output_type": "display_data"
    },
    {
     "data": {
      "application/vnd.jupyter.widget-view+json": {
       "model_id": "ba2dfdc23c694549861a278d2550bc57",
       "version_major": 2,
       "version_minor": 0
      },
      "text/plain": [
       "<LAMBDA> DONE:   0%|          | 0/61 [00:00<?, ?it/s]"
      ]
     },
     "metadata": {},
     "output_type": "display_data"
    },
    {
     "name": "stderr",
     "output_type": "stream",
     "text": [
      "/tmp/ipykernel_3805226/2830027787.py:60: PerformanceWarning: \n",
      "your performance may suffer as PyTables will pickle object types that it cannot\n",
      "map directly to c-types [inferred_type->mixed,key->block2_values] [items->Index(['sp_tree_tail', 'sp_tree_head', 'ldo_category', 'mdo_category',\n",
      "       'species', 'ldo_gene', 'mdo_gene', 'outgroup_species', 'out_gene'],\n",
      "      dtype='object')]\n",
      "\n",
      "  pd.concat(tmp).to_hdf(f'{RES_PATH}/{key}.h5', sp, complevel=9, complib='zlib')\n"
     ]
    },
    {
     "data": {
      "application/vnd.jupyter.widget-view+json": {
       "model_id": "7f1ff15daff644b0a469f9b7b0695c16",
       "version_major": 2,
       "version_minor": 0
      },
      "text/plain": [
       "<LAMBDA> DONE:   0%|          | 0/840 [00:00<?, ?it/s]"
      ]
     },
     "metadata": {},
     "output_type": "display_data"
    },
    {
     "data": {
      "application/vnd.jupyter.widget-view+json": {
       "model_id": "9d971ac5e21743cc90df28bc812bb9e8",
       "version_major": 2,
       "version_minor": 0
      },
      "text/plain": [
       "<LAMBDA> DONE:   0%|          | 0/840 [00:00<?, ?it/s]"
      ]
     },
     "metadata": {},
     "output_type": "display_data"
    },
    {
     "data": {
      "application/vnd.jupyter.widget-view+json": {
       "model_id": "a4ff4de623714625992e60e078ba5f95",
       "version_major": 2,
       "version_minor": 0
      },
      "text/plain": [
       "<LAMBDA> DONE:   0%|          | 0/840 [00:00<?, ?it/s]"
      ]
     },
     "metadata": {},
     "output_type": "display_data"
    },
    {
     "data": {
      "application/vnd.jupyter.widget-view+json": {
       "model_id": "eaa2529ec1364ed78d211f72a10c277a",
       "version_major": 2,
       "version_minor": 0
      },
      "text/plain": [
       "<LAMBDA> DONE:   0%|          | 0/661 [00:00<?, ?it/s]"
      ]
     },
     "metadata": {},
     "output_type": "display_data"
    },
    {
     "data": {
      "application/vnd.jupyter.widget-view+json": {
       "model_id": "3f9f892548154827b3763e0d48739555",
       "version_major": 2,
       "version_minor": 0
      },
      "text/plain": [
       "<LAMBDA> DONE:   0%|          | 0/661 [00:00<?, ?it/s]"
      ]
     },
     "metadata": {},
     "output_type": "display_data"
    },
    {
     "data": {
      "application/vnd.jupyter.widget-view+json": {
       "model_id": "8fc62cac992b49379e76f5b8ff19a680",
       "version_major": 2,
       "version_minor": 0
      },
      "text/plain": [
       "<LAMBDA> DONE:   0%|          | 0/661 [00:00<?, ?it/s]"
      ]
     },
     "metadata": {},
     "output_type": "display_data"
    },
    {
     "data": {
      "application/vnd.jupyter.widget-view+json": {
       "model_id": "921553b65c3e4f49946da3a255f823e8",
       "version_major": 2,
       "version_minor": 0
      },
      "text/plain": [
       "<LAMBDA> DONE:   0%|          | 0/130 [00:00<?, ?it/s]"
      ]
     },
     "metadata": {},
     "output_type": "display_data"
    },
    {
     "data": {
      "application/vnd.jupyter.widget-view+json": {
       "model_id": "bbcb7edc235345488bf6f31075050151",
       "version_major": 2,
       "version_minor": 0
      },
      "text/plain": [
       "<LAMBDA> DONE:   0%|          | 0/130 [00:00<?, ?it/s]"
      ]
     },
     "metadata": {},
     "output_type": "display_data"
    },
    {
     "data": {
      "application/vnd.jupyter.widget-view+json": {
       "model_id": "72a8b7d4943b435dac3968c929f32a1a",
       "version_major": 2,
       "version_minor": 0
      },
      "text/plain": [
       "<LAMBDA> DONE:   0%|          | 0/130 [00:00<?, ?it/s]"
      ]
     },
     "metadata": {},
     "output_type": "display_data"
    },
    {
     "data": {
      "application/vnd.jupyter.widget-view+json": {
       "model_id": "bd77d5b27cb945ea868309300e87935f",
       "version_major": 2,
       "version_minor": 0
      },
      "text/plain": [
       "<LAMBDA> DONE:   0%|          | 0/1520 [00:00<?, ?it/s]"
      ]
     },
     "metadata": {},
     "output_type": "display_data"
    },
    {
     "data": {
      "application/vnd.jupyter.widget-view+json": {
       "model_id": "e13eb407f85448c6bf3a38de47264fe1",
       "version_major": 2,
       "version_minor": 0
      },
      "text/plain": [
       "<LAMBDA> DONE:   0%|          | 0/1520 [00:00<?, ?it/s]"
      ]
     },
     "metadata": {},
     "output_type": "display_data"
    },
    {
     "data": {
      "application/vnd.jupyter.widget-view+json": {
       "model_id": "40df7b2f59bb4d6a89bd4c930bd5b83e",
       "version_major": 2,
       "version_minor": 0
      },
      "text/plain": [
       "<LAMBDA> DONE:   0%|          | 0/1520 [00:00<?, ?it/s]"
      ]
     },
     "metadata": {},
     "output_type": "display_data"
    },
    {
     "data": {
      "application/vnd.jupyter.widget-view+json": {
       "model_id": "28ca7ab6d61a4d4c90d5eef76bd06b1f",
       "version_major": 2,
       "version_minor": 0
      },
      "text/plain": [
       "<LAMBDA> DONE:   0%|          | 0/413 [00:00<?, ?it/s]"
      ]
     },
     "metadata": {},
     "output_type": "display_data"
    },
    {
     "data": {
      "application/vnd.jupyter.widget-view+json": {
       "model_id": "d373bd82e868470aac723394792969c2",
       "version_major": 2,
       "version_minor": 0
      },
      "text/plain": [
       "<LAMBDA> DONE:   0%|          | 0/413 [00:00<?, ?it/s]"
      ]
     },
     "metadata": {},
     "output_type": "display_data"
    },
    {
     "data": {
      "application/vnd.jupyter.widget-view+json": {
       "model_id": "4bd8a62492234fb58cbbaad9c94dffd9",
       "version_major": 2,
       "version_minor": 0
      },
      "text/plain": [
       "<LAMBDA> DONE:   0%|          | 0/413 [00:00<?, ?it/s]"
      ]
     },
     "metadata": {},
     "output_type": "display_data"
    },
    {
     "data": {
      "application/vnd.jupyter.widget-view+json": {
       "model_id": "cd6b46b159564af8823a3b01d8c1ed6c",
       "version_major": 2,
       "version_minor": 0
      },
      "text/plain": [
       "<LAMBDA> DONE:   0%|          | 0/61 [00:00<?, ?it/s]"
      ]
     },
     "metadata": {},
     "output_type": "display_data"
    },
    {
     "data": {
      "application/vnd.jupyter.widget-view+json": {
       "model_id": "77223a6099ba4f49b12f178a3d7f39a5",
       "version_major": 2,
       "version_minor": 0
      },
      "text/plain": [
       "<LAMBDA> DONE:   0%|          | 0/61 [00:00<?, ?it/s]"
      ]
     },
     "metadata": {},
     "output_type": "display_data"
    },
    {
     "data": {
      "application/vnd.jupyter.widget-view+json": {
       "model_id": "6d43c47257374c6aa4c1774a3e892474",
       "version_major": 2,
       "version_minor": 0
      },
      "text/plain": [
       "<LAMBDA> DONE:   0%|          | 0/61 [00:00<?, ?it/s]"
      ]
     },
     "metadata": {},
     "output_type": "display_data"
    },
    {
     "name": "stderr",
     "output_type": "stream",
     "text": [
      "/tmp/ipykernel_3805226/2830027787.py:60: FutureWarning: The behavior of DataFrame concatenation with empty or all-NA entries is deprecated. In a future version, this will no longer exclude empty or all-NA columns when determining the result dtypes. To retain the old behavior, exclude the relevant entries before the concat operation.\n",
      "  pd.concat(tmp).to_hdf(f'{RES_PATH}/{key}.h5', sp, complevel=9, complib='zlib')\n",
      "/tmp/ipykernel_3805226/2830027787.py:60: PerformanceWarning: \n",
      "your performance may suffer as PyTables will pickle object types that it cannot\n",
      "map directly to c-types [inferred_type->mixed,key->block2_values] [items->Index(['sp_tree_tail', 'sp_tree_head', 'ldo_category', 'mdo_category',\n",
      "       'species', 'ldo_gene', 'mdo_gene', 'outgroup_species', 'out_gene'],\n",
      "      dtype='object')]\n",
      "\n",
      "  pd.concat(tmp).to_hdf(f'{RES_PATH}/{key}.h5', sp, complevel=9, complib='zlib')\n"
     ]
    },
    {
     "data": {
      "application/vnd.jupyter.widget-view+json": {
       "model_id": "761bd1bf3f8345e8a9bc8a0f1223ad8b",
       "version_major": 2,
       "version_minor": 0
      },
      "text/plain": [
       "<LAMBDA> DONE:   0%|          | 0/998 [00:00<?, ?it/s]"
      ]
     },
     "metadata": {},
     "output_type": "display_data"
    },
    {
     "data": {
      "application/vnd.jupyter.widget-view+json": {
       "model_id": "1d238a506a1f4753a98983d96fa3c8d8",
       "version_major": 2,
       "version_minor": 0
      },
      "text/plain": [
       "<LAMBDA> DONE:   0%|          | 0/998 [00:00<?, ?it/s]"
      ]
     },
     "metadata": {},
     "output_type": "display_data"
    },
    {
     "data": {
      "application/vnd.jupyter.widget-view+json": {
       "model_id": "71c283ab25d240c5881f1f59205e8dab",
       "version_major": 2,
       "version_minor": 0
      },
      "text/plain": [
       "<LAMBDA> DONE:   0%|          | 0/998 [00:00<?, ?it/s]"
      ]
     },
     "metadata": {},
     "output_type": "display_data"
    },
    {
     "data": {
      "application/vnd.jupyter.widget-view+json": {
       "model_id": "5f6b648da43b4b59ba2191039fbb2e7a",
       "version_major": 2,
       "version_minor": 0
      },
      "text/plain": [
       "<LAMBDA> DONE:   0%|          | 0/155 [00:00<?, ?it/s]"
      ]
     },
     "metadata": {},
     "output_type": "display_data"
    },
    {
     "data": {
      "application/vnd.jupyter.widget-view+json": {
       "model_id": "b27c4d2732ea4826afa34fc080a1d954",
       "version_major": 2,
       "version_minor": 0
      },
      "text/plain": [
       "<LAMBDA> DONE:   0%|          | 0/155 [00:00<?, ?it/s]"
      ]
     },
     "metadata": {},
     "output_type": "display_data"
    },
    {
     "data": {
      "application/vnd.jupyter.widget-view+json": {
       "model_id": "f9ef73ca50bb43e99d3ee6a7669d6f22",
       "version_major": 2,
       "version_minor": 0
      },
      "text/plain": [
       "<LAMBDA> DONE:   0%|          | 0/155 [00:00<?, ?it/s]"
      ]
     },
     "metadata": {},
     "output_type": "display_data"
    },
    {
     "data": {
      "application/vnd.jupyter.widget-view+json": {
       "model_id": "04e4d5c2de804b95b8d3e543043b7ed5",
       "version_major": 2,
       "version_minor": 0
      },
      "text/plain": [
       "<LAMBDA> DONE:   0%|          | 0/312 [00:00<?, ?it/s]"
      ]
     },
     "metadata": {},
     "output_type": "display_data"
    },
    {
     "data": {
      "application/vnd.jupyter.widget-view+json": {
       "model_id": "bd1139da8238442ca99b0a3f7dfd9212",
       "version_major": 2,
       "version_minor": 0
      },
      "text/plain": [
       "<LAMBDA> DONE:   0%|          | 0/312 [00:00<?, ?it/s]"
      ]
     },
     "metadata": {},
     "output_type": "display_data"
    },
    {
     "data": {
      "application/vnd.jupyter.widget-view+json": {
       "model_id": "cae725b05eb0413dae0b9761d1ef5823",
       "version_major": 2,
       "version_minor": 0
      },
      "text/plain": [
       "<LAMBDA> DONE:   0%|          | 0/312 [00:00<?, ?it/s]"
      ]
     },
     "metadata": {},
     "output_type": "display_data"
    },
    {
     "data": {
      "application/vnd.jupyter.widget-view+json": {
       "model_id": "f5d71b69bb2d4d0da8a1c390056aa9ef",
       "version_major": 2,
       "version_minor": 0
      },
      "text/plain": [
       "<LAMBDA> DONE:   0%|          | 0/210 [00:00<?, ?it/s]"
      ]
     },
     "metadata": {},
     "output_type": "display_data"
    },
    {
     "data": {
      "application/vnd.jupyter.widget-view+json": {
       "model_id": "a0932670e6c24d88920fc7e9ea0b5f22",
       "version_major": 2,
       "version_minor": 0
      },
      "text/plain": [
       "<LAMBDA> DONE:   0%|          | 0/210 [00:00<?, ?it/s]"
      ]
     },
     "metadata": {},
     "output_type": "display_data"
    },
    {
     "data": {
      "application/vnd.jupyter.widget-view+json": {
       "model_id": "7ade9256a244414ca27151cd90fe533e",
       "version_major": 2,
       "version_minor": 0
      },
      "text/plain": [
       "<LAMBDA> DONE:   0%|          | 0/210 [00:00<?, ?it/s]"
      ]
     },
     "metadata": {},
     "output_type": "display_data"
    },
    {
     "data": {
      "application/vnd.jupyter.widget-view+json": {
       "model_id": "986a21ef705245a586087daa88a2429b",
       "version_major": 2,
       "version_minor": 0
      },
      "text/plain": [
       "<LAMBDA> DONE:   0%|          | 0/325 [00:00<?, ?it/s]"
      ]
     },
     "metadata": {},
     "output_type": "display_data"
    },
    {
     "data": {
      "application/vnd.jupyter.widget-view+json": {
       "model_id": "bc60f4db97504c80b430682d57f58c43",
       "version_major": 2,
       "version_minor": 0
      },
      "text/plain": [
       "<LAMBDA> DONE:   0%|          | 0/325 [00:00<?, ?it/s]"
      ]
     },
     "metadata": {},
     "output_type": "display_data"
    },
    {
     "data": {
      "application/vnd.jupyter.widget-view+json": {
       "model_id": "e7f3d9fe3c5a46d8b4ea518d5479ed81",
       "version_major": 2,
       "version_minor": 0
      },
      "text/plain": [
       "<LAMBDA> DONE:   0%|          | 0/325 [00:00<?, ?it/s]"
      ]
     },
     "metadata": {},
     "output_type": "display_data"
    },
    {
     "data": {
      "application/vnd.jupyter.widget-view+json": {
       "model_id": "6bb7da78f3e6409bbbdfe1232ad527be",
       "version_major": 2,
       "version_minor": 0
      },
      "text/plain": [
       "<LAMBDA> DONE:   0%|          | 0/1848 [00:00<?, ?it/s]"
      ]
     },
     "metadata": {},
     "output_type": "display_data"
    },
    {
     "data": {
      "application/vnd.jupyter.widget-view+json": {
       "model_id": "6af4dae0735c43e99ba6f6f4fc3ab40e",
       "version_major": 2,
       "version_minor": 0
      },
      "text/plain": [
       "<LAMBDA> DONE:   0%|          | 0/1848 [00:00<?, ?it/s]"
      ]
     },
     "metadata": {},
     "output_type": "display_data"
    },
    {
     "data": {
      "application/vnd.jupyter.widget-view+json": {
       "model_id": "812bcda8ab104aa5b0ea96a5d63e375f",
       "version_major": 2,
       "version_minor": 0
      },
      "text/plain": [
       "<LAMBDA> DONE:   0%|          | 0/1848 [00:00<?, ?it/s]"
      ]
     },
     "metadata": {},
     "output_type": "display_data"
    },
    {
     "data": {
      "application/vnd.jupyter.widget-view+json": {
       "model_id": "32ab776813af45dba45ab893aa53613f",
       "version_major": 2,
       "version_minor": 0
      },
      "text/plain": [
       "<LAMBDA> DONE:   0%|          | 0/589 [00:00<?, ?it/s]"
      ]
     },
     "metadata": {},
     "output_type": "display_data"
    },
    {
     "data": {
      "application/vnd.jupyter.widget-view+json": {
       "model_id": "6a31960351b84bacaf98244e617232db",
       "version_major": 2,
       "version_minor": 0
      },
      "text/plain": [
       "<LAMBDA> DONE:   0%|          | 0/589 [00:00<?, ?it/s]"
      ]
     },
     "metadata": {},
     "output_type": "display_data"
    },
    {
     "data": {
      "application/vnd.jupyter.widget-view+json": {
       "model_id": "436ec98b83f4482d88628e6d1db283f3",
       "version_major": 2,
       "version_minor": 0
      },
      "text/plain": [
       "<LAMBDA> DONE:   0%|          | 0/589 [00:00<?, ?it/s]"
      ]
     },
     "metadata": {},
     "output_type": "display_data"
    },
    {
     "data": {
      "application/vnd.jupyter.widget-view+json": {
       "model_id": "e7f1b5fc82ff4749ab9bb87630518c5c",
       "version_major": 2,
       "version_minor": 0
      },
      "text/plain": [
       "<LAMBDA> DONE:   0%|          | 0/227 [00:00<?, ?it/s]"
      ]
     },
     "metadata": {},
     "output_type": "display_data"
    },
    {
     "data": {
      "application/vnd.jupyter.widget-view+json": {
       "model_id": "b7f400a925414ff89e255fd7fef76025",
       "version_major": 2,
       "version_minor": 0
      },
      "text/plain": [
       "<LAMBDA> DONE:   0%|          | 0/227 [00:00<?, ?it/s]"
      ]
     },
     "metadata": {},
     "output_type": "display_data"
    },
    {
     "data": {
      "application/vnd.jupyter.widget-view+json": {
       "model_id": "84f2226793104d419d8ccb4a9ed23afc",
       "version_major": 2,
       "version_minor": 0
      },
      "text/plain": [
       "<LAMBDA> DONE:   0%|          | 0/227 [00:00<?, ?it/s]"
      ]
     },
     "metadata": {},
     "output_type": "display_data"
    },
    {
     "data": {
      "application/vnd.jupyter.widget-view+json": {
       "model_id": "e573bc673dc3462fae247d3145d79b26",
       "version_major": 2,
       "version_minor": 0
      },
      "text/plain": [
       "<LAMBDA> DONE:   0%|          | 0/678 [00:00<?, ?it/s]"
      ]
     },
     "metadata": {},
     "output_type": "display_data"
    },
    {
     "data": {
      "application/vnd.jupyter.widget-view+json": {
       "model_id": "3812b3850ede4997a3d39428dc59b933",
       "version_major": 2,
       "version_minor": 0
      },
      "text/plain": [
       "<LAMBDA> DONE:   0%|          | 0/678 [00:00<?, ?it/s]"
      ]
     },
     "metadata": {},
     "output_type": "display_data"
    },
    {
     "data": {
      "application/vnd.jupyter.widget-view+json": {
       "model_id": "5f9493b09aaa496da2f106cf2822cb48",
       "version_major": 2,
       "version_minor": 0
      },
      "text/plain": [
       "<LAMBDA> DONE:   0%|          | 0/678 [00:00<?, ?it/s]"
      ]
     },
     "metadata": {},
     "output_type": "display_data"
    },
    {
     "name": "stderr",
     "output_type": "stream",
     "text": [
      "/tmp/ipykernel_3805226/2830027787.py:60: FutureWarning: The behavior of DataFrame concatenation with empty or all-NA entries is deprecated. In a future version, this will no longer exclude empty or all-NA columns when determining the result dtypes. To retain the old behavior, exclude the relevant entries before the concat operation.\n",
      "  pd.concat(tmp).to_hdf(f'{RES_PATH}/{key}.h5', sp, complevel=9, complib='zlib')\n",
      "/tmp/ipykernel_3805226/2830027787.py:60: PerformanceWarning: \n",
      "your performance may suffer as PyTables will pickle object types that it cannot\n",
      "map directly to c-types [inferred_type->mixed,key->block2_values] [items->Index(['sp_tree_tail', 'sp_tree_head', 'ldo_category', 'mdo_category',\n",
      "       'species', 'ldo_gene', 'mdo_gene', 'outgroup_species', 'out_gene'],\n",
      "      dtype='object')]\n",
      "\n",
      "  pd.concat(tmp).to_hdf(f'{RES_PATH}/{key}.h5', sp, complevel=9, complib='zlib')\n"
     ]
    },
    {
     "data": {
      "application/vnd.jupyter.widget-view+json": {
       "model_id": "d345613e1fb4434d8d6f9361f0ba80cf",
       "version_major": 2,
       "version_minor": 0
      },
      "text/plain": [
       "<LAMBDA> DONE:   0%|          | 0/998 [00:00<?, ?it/s]"
      ]
     },
     "metadata": {},
     "output_type": "display_data"
    },
    {
     "data": {
      "application/vnd.jupyter.widget-view+json": {
       "model_id": "feff46efd55948b9975c653f66a6fb6a",
       "version_major": 2,
       "version_minor": 0
      },
      "text/plain": [
       "<LAMBDA> DONE:   0%|          | 0/998 [00:00<?, ?it/s]"
      ]
     },
     "metadata": {},
     "output_type": "display_data"
    },
    {
     "data": {
      "application/vnd.jupyter.widget-view+json": {
       "model_id": "07f5c824925b494da2287728e9b23c51",
       "version_major": 2,
       "version_minor": 0
      },
      "text/plain": [
       "<LAMBDA> DONE:   0%|          | 0/998 [00:00<?, ?it/s]"
      ]
     },
     "metadata": {},
     "output_type": "display_data"
    },
    {
     "data": {
      "application/vnd.jupyter.widget-view+json": {
       "model_id": "29bfae873adc46199dbcae3e229f6ad0",
       "version_major": 2,
       "version_minor": 0
      },
      "text/plain": [
       "<LAMBDA> DONE:   0%|          | 0/155 [00:00<?, ?it/s]"
      ]
     },
     "metadata": {},
     "output_type": "display_data"
    },
    {
     "data": {
      "application/vnd.jupyter.widget-view+json": {
       "model_id": "fc48c3e490734d80b1abdd0fafbb4303",
       "version_major": 2,
       "version_minor": 0
      },
      "text/plain": [
       "<LAMBDA> DONE:   0%|          | 0/155 [00:00<?, ?it/s]"
      ]
     },
     "metadata": {},
     "output_type": "display_data"
    },
    {
     "data": {
      "application/vnd.jupyter.widget-view+json": {
       "model_id": "5262329568d34f5bbae72cc7f230b283",
       "version_major": 2,
       "version_minor": 0
      },
      "text/plain": [
       "<LAMBDA> DONE:   0%|          | 0/155 [00:00<?, ?it/s]"
      ]
     },
     "metadata": {},
     "output_type": "display_data"
    },
    {
     "data": {
      "application/vnd.jupyter.widget-view+json": {
       "model_id": "9d038b0917e54e75af52b7e720027a9f",
       "version_major": 2,
       "version_minor": 0
      },
      "text/plain": [
       "<LAMBDA> DONE:   0%|          | 0/312 [00:00<?, ?it/s]"
      ]
     },
     "metadata": {},
     "output_type": "display_data"
    },
    {
     "data": {
      "application/vnd.jupyter.widget-view+json": {
       "model_id": "eb911c221e474e56bf8902fd98032777",
       "version_major": 2,
       "version_minor": 0
      },
      "text/plain": [
       "<LAMBDA> DONE:   0%|          | 0/312 [00:00<?, ?it/s]"
      ]
     },
     "metadata": {},
     "output_type": "display_data"
    },
    {
     "data": {
      "application/vnd.jupyter.widget-view+json": {
       "model_id": "13903d96a7984ea2b9f085e3301468d6",
       "version_major": 2,
       "version_minor": 0
      },
      "text/plain": [
       "<LAMBDA> DONE:   0%|          | 0/312 [00:00<?, ?it/s]"
      ]
     },
     "metadata": {},
     "output_type": "display_data"
    },
    {
     "data": {
      "application/vnd.jupyter.widget-view+json": {
       "model_id": "3a38be997b5944ee8d7cc570a1ec213a",
       "version_major": 2,
       "version_minor": 0
      },
      "text/plain": [
       "<LAMBDA> DONE:   0%|          | 0/210 [00:00<?, ?it/s]"
      ]
     },
     "metadata": {},
     "output_type": "display_data"
    },
    {
     "data": {
      "application/vnd.jupyter.widget-view+json": {
       "model_id": "1f8c6cae91b545aa87c32db409dc55a7",
       "version_major": 2,
       "version_minor": 0
      },
      "text/plain": [
       "<LAMBDA> DONE:   0%|          | 0/210 [00:00<?, ?it/s]"
      ]
     },
     "metadata": {},
     "output_type": "display_data"
    },
    {
     "data": {
      "application/vnd.jupyter.widget-view+json": {
       "model_id": "152dc198ec794d4392efdf4fbcf87337",
       "version_major": 2,
       "version_minor": 0
      },
      "text/plain": [
       "<LAMBDA> DONE:   0%|          | 0/210 [00:00<?, ?it/s]"
      ]
     },
     "metadata": {},
     "output_type": "display_data"
    },
    {
     "data": {
      "application/vnd.jupyter.widget-view+json": {
       "model_id": "e73ca2ced8f94046ade723f4954ef78b",
       "version_major": 2,
       "version_minor": 0
      },
      "text/plain": [
       "<LAMBDA> DONE:   0%|          | 0/325 [00:00<?, ?it/s]"
      ]
     },
     "metadata": {},
     "output_type": "display_data"
    },
    {
     "data": {
      "application/vnd.jupyter.widget-view+json": {
       "model_id": "fd6c8821581e4ff3a65f54ee2125f466",
       "version_major": 2,
       "version_minor": 0
      },
      "text/plain": [
       "<LAMBDA> DONE:   0%|          | 0/325 [00:00<?, ?it/s]"
      ]
     },
     "metadata": {},
     "output_type": "display_data"
    },
    {
     "data": {
      "application/vnd.jupyter.widget-view+json": {
       "model_id": "87a0ad49925f4b66836be77d83892c93",
       "version_major": 2,
       "version_minor": 0
      },
      "text/plain": [
       "<LAMBDA> DONE:   0%|          | 0/325 [00:00<?, ?it/s]"
      ]
     },
     "metadata": {},
     "output_type": "display_data"
    },
    {
     "data": {
      "application/vnd.jupyter.widget-view+json": {
       "model_id": "c62a9134a5d14139b012047db5d7c3c0",
       "version_major": 2,
       "version_minor": 0
      },
      "text/plain": [
       "<LAMBDA> DONE:   0%|          | 0/1848 [00:00<?, ?it/s]"
      ]
     },
     "metadata": {},
     "output_type": "display_data"
    },
    {
     "data": {
      "application/vnd.jupyter.widget-view+json": {
       "model_id": "fd95c7487159472489297e7377c71643",
       "version_major": 2,
       "version_minor": 0
      },
      "text/plain": [
       "<LAMBDA> DONE:   0%|          | 0/1848 [00:00<?, ?it/s]"
      ]
     },
     "metadata": {},
     "output_type": "display_data"
    },
    {
     "data": {
      "application/vnd.jupyter.widget-view+json": {
       "model_id": "b959334875974127a70a224d22acc572",
       "version_major": 2,
       "version_minor": 0
      },
      "text/plain": [
       "<LAMBDA> DONE:   0%|          | 0/1848 [00:00<?, ?it/s]"
      ]
     },
     "metadata": {},
     "output_type": "display_data"
    },
    {
     "data": {
      "application/vnd.jupyter.widget-view+json": {
       "model_id": "563995c7bb644474a73ba742f608d917",
       "version_major": 2,
       "version_minor": 0
      },
      "text/plain": [
       "<LAMBDA> DONE:   0%|          | 0/589 [00:00<?, ?it/s]"
      ]
     },
     "metadata": {},
     "output_type": "display_data"
    },
    {
     "data": {
      "application/vnd.jupyter.widget-view+json": {
       "model_id": "b35e56945a2e4cd7a6f36246d3208062",
       "version_major": 2,
       "version_minor": 0
      },
      "text/plain": [
       "<LAMBDA> DONE:   0%|          | 0/589 [00:00<?, ?it/s]"
      ]
     },
     "metadata": {},
     "output_type": "display_data"
    },
    {
     "data": {
      "application/vnd.jupyter.widget-view+json": {
       "model_id": "ecbf52c2f32546d3843a153c56e3b952",
       "version_major": 2,
       "version_minor": 0
      },
      "text/plain": [
       "<LAMBDA> DONE:   0%|          | 0/589 [00:00<?, ?it/s]"
      ]
     },
     "metadata": {},
     "output_type": "display_data"
    },
    {
     "data": {
      "application/vnd.jupyter.widget-view+json": {
       "model_id": "9984f6f00d4a47758bee88f818faf47b",
       "version_major": 2,
       "version_minor": 0
      },
      "text/plain": [
       "<LAMBDA> DONE:   0%|          | 0/227 [00:00<?, ?it/s]"
      ]
     },
     "metadata": {},
     "output_type": "display_data"
    },
    {
     "data": {
      "application/vnd.jupyter.widget-view+json": {
       "model_id": "5eed01b434b9421290c9a7d964301b8e",
       "version_major": 2,
       "version_minor": 0
      },
      "text/plain": [
       "<LAMBDA> DONE:   0%|          | 0/227 [00:00<?, ?it/s]"
      ]
     },
     "metadata": {},
     "output_type": "display_data"
    },
    {
     "data": {
      "application/vnd.jupyter.widget-view+json": {
       "model_id": "f51b9deeaf0c4582bca349029c9d329d",
       "version_major": 2,
       "version_minor": 0
      },
      "text/plain": [
       "<LAMBDA> DONE:   0%|          | 0/227 [00:00<?, ?it/s]"
      ]
     },
     "metadata": {},
     "output_type": "display_data"
    },
    {
     "data": {
      "application/vnd.jupyter.widget-view+json": {
       "model_id": "cb45d8f12f3a4da1a3f0fe8363429224",
       "version_major": 2,
       "version_minor": 0
      },
      "text/plain": [
       "<LAMBDA> DONE:   0%|          | 0/678 [00:00<?, ?it/s]"
      ]
     },
     "metadata": {},
     "output_type": "display_data"
    },
    {
     "data": {
      "application/vnd.jupyter.widget-view+json": {
       "model_id": "ec5da971e5ed4a4ca6fb59d655b86ef2",
       "version_major": 2,
       "version_minor": 0
      },
      "text/plain": [
       "<LAMBDA> DONE:   0%|          | 0/678 [00:00<?, ?it/s]"
      ]
     },
     "metadata": {},
     "output_type": "display_data"
    },
    {
     "data": {
      "application/vnd.jupyter.widget-view+json": {
       "model_id": "9bf295e5dc6d4a59b8fc4c40d569a2da",
       "version_major": 2,
       "version_minor": 0
      },
      "text/plain": [
       "<LAMBDA> DONE:   0%|          | 0/678 [00:00<?, ?it/s]"
      ]
     },
     "metadata": {},
     "output_type": "display_data"
    },
    {
     "name": "stderr",
     "output_type": "stream",
     "text": [
      "/tmp/ipykernel_3805226/2830027787.py:60: FutureWarning: The behavior of DataFrame concatenation with empty or all-NA entries is deprecated. In a future version, this will no longer exclude empty or all-NA columns when determining the result dtypes. To retain the old behavior, exclude the relevant entries before the concat operation.\n",
      "  pd.concat(tmp).to_hdf(f'{RES_PATH}/{key}.h5', sp, complevel=9, complib='zlib')\n",
      "/tmp/ipykernel_3805226/2830027787.py:60: PerformanceWarning: \n",
      "your performance may suffer as PyTables will pickle object types that it cannot\n",
      "map directly to c-types [inferred_type->mixed,key->block2_values] [items->Index(['sp_tree_tail', 'sp_tree_head', 'ldo_category', 'mdo_category',\n",
      "       'species', 'ldo_gene', 'mdo_gene', 'outgroup_species', 'out_gene'],\n",
      "      dtype='object')]\n",
      "\n",
      "  pd.concat(tmp).to_hdf(f'{RES_PATH}/{key}.h5', sp, complevel=9, complib='zlib')\n"
     ]
    },
    {
     "data": {
      "application/vnd.jupyter.widget-view+json": {
       "model_id": "a316b885a5774f888d8d071c549c369c",
       "version_major": 2,
       "version_minor": 0
      },
      "text/plain": [
       "<LAMBDA> DONE:   0%|          | 0/2909 [00:00<?, ?it/s]"
      ]
     },
     "metadata": {},
     "output_type": "display_data"
    },
    {
     "data": {
      "application/vnd.jupyter.widget-view+json": {
       "model_id": "d7d8d7f075a44c8e8adb093ecc992448",
       "version_major": 2,
       "version_minor": 0
      },
      "text/plain": [
       "<LAMBDA> DONE:   0%|          | 0/2909 [00:00<?, ?it/s]"
      ]
     },
     "metadata": {},
     "output_type": "display_data"
    },
    {
     "data": {
      "application/vnd.jupyter.widget-view+json": {
       "model_id": "cbc6edc0056c46d691b6f341ed960875",
       "version_major": 2,
       "version_minor": 0
      },
      "text/plain": [
       "<LAMBDA> DONE:   0%|          | 0/2909 [00:00<?, ?it/s]"
      ]
     },
     "metadata": {},
     "output_type": "display_data"
    },
    {
     "name": "stderr",
     "output_type": "stream",
     "text": [
      "/tmp/ipykernel_3805226/2830027787.py:60: PerformanceWarning: \n",
      "your performance may suffer as PyTables will pickle object types that it cannot\n",
      "map directly to c-types [inferred_type->mixed,key->block2_values] [items->Index(['sp_tree_tail', 'sp_tree_head', 'ldo_category', 'mdo_category',\n",
      "       'species', 'ldo_gene', 'mdo_gene', 'outgroup_species', 'out_gene'],\n",
      "      dtype='object')]\n",
      "\n",
      "  pd.concat(tmp).to_hdf(f'{RES_PATH}/{key}.h5', sp, complevel=9, complib='zlib')\n"
     ]
    },
    {
     "data": {
      "application/vnd.jupyter.widget-view+json": {
       "model_id": "96664c542ce74ee1aaee12d213234c01",
       "version_major": 2,
       "version_minor": 0
      },
      "text/plain": [
       "<LAMBDA> DONE:   0%|          | 0/2909 [00:00<?, ?it/s]"
      ]
     },
     "metadata": {},
     "output_type": "display_data"
    },
    {
     "data": {
      "application/vnd.jupyter.widget-view+json": {
       "model_id": "37eaca48084f491fa141177ffc9e0bb7",
       "version_major": 2,
       "version_minor": 0
      },
      "text/plain": [
       "<LAMBDA> DONE:   0%|          | 0/2909 [00:00<?, ?it/s]"
      ]
     },
     "metadata": {},
     "output_type": "display_data"
    },
    {
     "data": {
      "application/vnd.jupyter.widget-view+json": {
       "model_id": "bd26f2358c6c44989faf1bb6171b7f72",
       "version_major": 2,
       "version_minor": 0
      },
      "text/plain": [
       "<LAMBDA> DONE:   0%|          | 0/2909 [00:00<?, ?it/s]"
      ]
     },
     "metadata": {},
     "output_type": "display_data"
    },
    {
     "name": "stderr",
     "output_type": "stream",
     "text": [
      "/tmp/ipykernel_3805226/2830027787.py:60: PerformanceWarning: \n",
      "your performance may suffer as PyTables will pickle object types that it cannot\n",
      "map directly to c-types [inferred_type->mixed,key->block2_values] [items->Index(['sp_tree_tail', 'sp_tree_head', 'ldo_category', 'mdo_category',\n",
      "       'species', 'ldo_gene', 'mdo_gene', 'outgroup_species', 'out_gene'],\n",
      "      dtype='object')]\n",
      "\n",
      "  pd.concat(tmp).to_hdf(f'{RES_PATH}/{key}.h5', sp, complevel=9, complib='zlib')\n"
     ]
    },
    {
     "data": {
      "application/vnd.jupyter.widget-view+json": {
       "model_id": "9d4636035ec0440c90c8d486cf547fe5",
       "version_major": 2,
       "version_minor": 0
      },
      "text/plain": [
       "<LAMBDA> DONE:   0%|          | 0/930 [00:00<?, ?it/s]"
      ]
     },
     "metadata": {},
     "output_type": "display_data"
    },
    {
     "data": {
      "application/vnd.jupyter.widget-view+json": {
       "model_id": "36344e8163e443eca30fa20b03784878",
       "version_major": 2,
       "version_minor": 0
      },
      "text/plain": [
       "<LAMBDA> DONE:   0%|          | 0/930 [00:00<?, ?it/s]"
      ]
     },
     "metadata": {},
     "output_type": "display_data"
    },
    {
     "data": {
      "application/vnd.jupyter.widget-view+json": {
       "model_id": "05514e49b74a4c9f968a9e61f278d765",
       "version_major": 2,
       "version_minor": 0
      },
      "text/plain": [
       "<LAMBDA> DONE:   0%|          | 0/930 [00:00<?, ?it/s]"
      ]
     },
     "metadata": {},
     "output_type": "display_data"
    },
    {
     "data": {
      "application/vnd.jupyter.widget-view+json": {
       "model_id": "fe995356ff7347f8b0fee5a50dfac41d",
       "version_major": 2,
       "version_minor": 0
      },
      "text/plain": [
       "<LAMBDA> DONE:   0%|          | 0/68 [00:00<?, ?it/s]"
      ]
     },
     "metadata": {},
     "output_type": "display_data"
    },
    {
     "data": {
      "application/vnd.jupyter.widget-view+json": {
       "model_id": "9ed2fde5942540f4ad7592f574f0803a",
       "version_major": 2,
       "version_minor": 0
      },
      "text/plain": [
       "<LAMBDA> DONE:   0%|          | 0/68 [00:00<?, ?it/s]"
      ]
     },
     "metadata": {},
     "output_type": "display_data"
    },
    {
     "data": {
      "application/vnd.jupyter.widget-view+json": {
       "model_id": "df546837eedf4dbcaff8bc34f92b38f3",
       "version_major": 2,
       "version_minor": 0
      },
      "text/plain": [
       "<LAMBDA> DONE:   0%|          | 0/68 [00:00<?, ?it/s]"
      ]
     },
     "metadata": {},
     "output_type": "display_data"
    },
    {
     "data": {
      "application/vnd.jupyter.widget-view+json": {
       "model_id": "b5e2741a958948f39037c70511a1712e",
       "version_major": 2,
       "version_minor": 0
      },
      "text/plain": [
       "<LAMBDA> DONE:   0%|          | 0/2583 [00:00<?, ?it/s]"
      ]
     },
     "metadata": {},
     "output_type": "display_data"
    },
    {
     "data": {
      "application/vnd.jupyter.widget-view+json": {
       "model_id": "9365650723474199a0698e111adadacb",
       "version_major": 2,
       "version_minor": 0
      },
      "text/plain": [
       "<LAMBDA> DONE:   0%|          | 0/2583 [00:00<?, ?it/s]"
      ]
     },
     "metadata": {},
     "output_type": "display_data"
    },
    {
     "data": {
      "application/vnd.jupyter.widget-view+json": {
       "model_id": "27117b5d08a2498e9461f31e7f688582",
       "version_major": 2,
       "version_minor": 0
      },
      "text/plain": [
       "<LAMBDA> DONE:   0%|          | 0/2583 [00:00<?, ?it/s]"
      ]
     },
     "metadata": {},
     "output_type": "display_data"
    },
    {
     "data": {
      "application/vnd.jupyter.widget-view+json": {
       "model_id": "a5a3e85f9bfc453ba9462d9da6a15e78",
       "version_major": 2,
       "version_minor": 0
      },
      "text/plain": [
       "<LAMBDA> DONE:   0%|          | 0/193 [00:00<?, ?it/s]"
      ]
     },
     "metadata": {},
     "output_type": "display_data"
    },
    {
     "data": {
      "application/vnd.jupyter.widget-view+json": {
       "model_id": "5d4995f08b1f4075935aae91a370e357",
       "version_major": 2,
       "version_minor": 0
      },
      "text/plain": [
       "<LAMBDA> DONE:   0%|          | 0/193 [00:00<?, ?it/s]"
      ]
     },
     "metadata": {},
     "output_type": "display_data"
    },
    {
     "data": {
      "application/vnd.jupyter.widget-view+json": {
       "model_id": "a394a899c48c491ca534b29d5c268aa8",
       "version_major": 2,
       "version_minor": 0
      },
      "text/plain": [
       "<LAMBDA> DONE:   0%|          | 0/193 [00:00<?, ?it/s]"
      ]
     },
     "metadata": {},
     "output_type": "display_data"
    },
    {
     "data": {
      "application/vnd.jupyter.widget-view+json": {
       "model_id": "161302097ac14ab6b4ecbe87b4636709",
       "version_major": 2,
       "version_minor": 0
      },
      "text/plain": [
       "<LAMBDA> DONE:   0%|          | 0/162 [00:00<?, ?it/s]"
      ]
     },
     "metadata": {},
     "output_type": "display_data"
    },
    {
     "data": {
      "application/vnd.jupyter.widget-view+json": {
       "model_id": "bd128195e3cb48e787c3ce839c7c95b9",
       "version_major": 2,
       "version_minor": 0
      },
      "text/plain": [
       "<LAMBDA> DONE:   0%|          | 0/162 [00:00<?, ?it/s]"
      ]
     },
     "metadata": {},
     "output_type": "display_data"
    },
    {
     "data": {
      "application/vnd.jupyter.widget-view+json": {
       "model_id": "cde89b52b5034c68902ddc1b86e7fd74",
       "version_major": 2,
       "version_minor": 0
      },
      "text/plain": [
       "<LAMBDA> DONE:   0%|          | 0/162 [00:00<?, ?it/s]"
      ]
     },
     "metadata": {},
     "output_type": "display_data"
    },
    {
     "data": {
      "application/vnd.jupyter.widget-view+json": {
       "model_id": "16656ed8e0af4105bb7dbab5fcf3b1d7",
       "version_major": 2,
       "version_minor": 0
      },
      "text/plain": [
       "<LAMBDA> DONE:   0%|          | 0/95 [00:00<?, ?it/s]"
      ]
     },
     "metadata": {},
     "output_type": "display_data"
    },
    {
     "data": {
      "application/vnd.jupyter.widget-view+json": {
       "model_id": "962f2cb6e2144a95bfb45f0adb7b8839",
       "version_major": 2,
       "version_minor": 0
      },
      "text/plain": [
       "<LAMBDA> DONE:   0%|          | 0/95 [00:00<?, ?it/s]"
      ]
     },
     "metadata": {},
     "output_type": "display_data"
    },
    {
     "data": {
      "application/vnd.jupyter.widget-view+json": {
       "model_id": "bee6bc20444a48cda5af0975d497e6a1",
       "version_major": 2,
       "version_minor": 0
      },
      "text/plain": [
       "<LAMBDA> DONE:   0%|          | 0/95 [00:00<?, ?it/s]"
      ]
     },
     "metadata": {},
     "output_type": "display_data"
    },
    {
     "data": {
      "application/vnd.jupyter.widget-view+json": {
       "model_id": "87ae645df4d14069ba7e3a59c6cc0421",
       "version_major": 2,
       "version_minor": 0
      },
      "text/plain": [
       "<LAMBDA> DONE:   0%|          | 0/1701 [00:00<?, ?it/s]"
      ]
     },
     "metadata": {},
     "output_type": "display_data"
    },
    {
     "data": {
      "application/vnd.jupyter.widget-view+json": {
       "model_id": "09e1e209efb049eea6ba3143ac8b4ab9",
       "version_major": 2,
       "version_minor": 0
      },
      "text/plain": [
       "<LAMBDA> DONE:   0%|          | 0/1701 [00:00<?, ?it/s]"
      ]
     },
     "metadata": {},
     "output_type": "display_data"
    },
    {
     "data": {
      "application/vnd.jupyter.widget-view+json": {
       "model_id": "dcf00e330e554e738142b3b93f265ad5",
       "version_major": 2,
       "version_minor": 0
      },
      "text/plain": [
       "<LAMBDA> DONE:   0%|          | 0/1701 [00:00<?, ?it/s]"
      ]
     },
     "metadata": {},
     "output_type": "display_data"
    },
    {
     "data": {
      "application/vnd.jupyter.widget-view+json": {
       "model_id": "29ca9068bd3649c28756cfb741533274",
       "version_major": 2,
       "version_minor": 0
      },
      "text/plain": [
       "<LAMBDA> DONE:   0%|          | 0/348 [00:00<?, ?it/s]"
      ]
     },
     "metadata": {},
     "output_type": "display_data"
    },
    {
     "data": {
      "application/vnd.jupyter.widget-view+json": {
       "model_id": "a731b32e4be54f5cb67c0e47e01b8960",
       "version_major": 2,
       "version_minor": 0
      },
      "text/plain": [
       "<LAMBDA> DONE:   0%|          | 0/348 [00:00<?, ?it/s]"
      ]
     },
     "metadata": {},
     "output_type": "display_data"
    },
    {
     "data": {
      "application/vnd.jupyter.widget-view+json": {
       "model_id": "18d13d908b18452a83658f65fe7fb4f4",
       "version_major": 2,
       "version_minor": 0
      },
      "text/plain": [
       "<LAMBDA> DONE:   0%|          | 0/348 [00:00<?, ?it/s]"
      ]
     },
     "metadata": {},
     "output_type": "display_data"
    },
    {
     "data": {
      "application/vnd.jupyter.widget-view+json": {
       "model_id": "1281f53396fe47de8633667f7727405f",
       "version_major": 2,
       "version_minor": 0
      },
      "text/plain": [
       "<LAMBDA> DONE:   0%|          | 0/9313 [00:00<?, ?it/s]"
      ]
     },
     "metadata": {},
     "output_type": "display_data"
    },
    {
     "data": {
      "application/vnd.jupyter.widget-view+json": {
       "model_id": "e259125e71b84d89ab04f80e761a8e14",
       "version_major": 2,
       "version_minor": 0
      },
      "text/plain": [
       "<LAMBDA> DONE:   0%|          | 0/9313 [00:00<?, ?it/s]"
      ]
     },
     "metadata": {},
     "output_type": "display_data"
    },
    {
     "data": {
      "application/vnd.jupyter.widget-view+json": {
       "model_id": "30a87a4b462c4ee68f72947e821d73a6",
       "version_major": 2,
       "version_minor": 0
      },
      "text/plain": [
       "<LAMBDA> DONE:   0%|          | 0/9313 [00:00<?, ?it/s]"
      ]
     },
     "metadata": {},
     "output_type": "display_data"
    },
    {
     "data": {
      "application/vnd.jupyter.widget-view+json": {
       "model_id": "061b7123a6de4c0299b623d1f778a719",
       "version_major": 2,
       "version_minor": 0
      },
      "text/plain": [
       "<LAMBDA> DONE:   0%|          | 0/365 [00:00<?, ?it/s]"
      ]
     },
     "metadata": {},
     "output_type": "display_data"
    },
    {
     "data": {
      "application/vnd.jupyter.widget-view+json": {
       "model_id": "603980fbcf6a4e88ad7ffacfa01c0047",
       "version_major": 2,
       "version_minor": 0
      },
      "text/plain": [
       "<LAMBDA> DONE:   0%|          | 0/365 [00:00<?, ?it/s]"
      ]
     },
     "metadata": {},
     "output_type": "display_data"
    },
    {
     "data": {
      "application/vnd.jupyter.widget-view+json": {
       "model_id": "69c9f85358fd4ec18127cfb691a83559",
       "version_major": 2,
       "version_minor": 0
      },
      "text/plain": [
       "<LAMBDA> DONE:   0%|          | 0/365 [00:00<?, ?it/s]"
      ]
     },
     "metadata": {},
     "output_type": "display_data"
    },
    {
     "name": "stderr",
     "output_type": "stream",
     "text": [
      "/tmp/ipykernel_3805226/2830027787.py:60: FutureWarning: The behavior of DataFrame concatenation with empty or all-NA entries is deprecated. In a future version, this will no longer exclude empty or all-NA columns when determining the result dtypes. To retain the old behavior, exclude the relevant entries before the concat operation.\n",
      "  pd.concat(tmp).to_hdf(f'{RES_PATH}/{key}.h5', sp, complevel=9, complib='zlib')\n",
      "/tmp/ipykernel_3805226/2830027787.py:60: PerformanceWarning: \n",
      "your performance may suffer as PyTables will pickle object types that it cannot\n",
      "map directly to c-types [inferred_type->mixed,key->block2_values] [items->Index(['sp_tree_tail', 'sp_tree_head', 'ldo_category', 'mdo_category',\n",
      "       'species', 'ldo_gene', 'mdo_gene', 'outgroup_species', 'out_gene'],\n",
      "      dtype='object')]\n",
      "\n",
      "  pd.concat(tmp).to_hdf(f'{RES_PATH}/{key}.h5', sp, complevel=9, complib='zlib')\n"
     ]
    },
    {
     "data": {
      "application/vnd.jupyter.widget-view+json": {
       "model_id": "3963087346b44315af6bed001b11bb49",
       "version_major": 2,
       "version_minor": 0
      },
      "text/plain": [
       "<LAMBDA> DONE:   0%|          | 0/930 [00:00<?, ?it/s]"
      ]
     },
     "metadata": {},
     "output_type": "display_data"
    },
    {
     "data": {
      "application/vnd.jupyter.widget-view+json": {
       "model_id": "d20a943fe8b64ff784b7dd7c39650549",
       "version_major": 2,
       "version_minor": 0
      },
      "text/plain": [
       "<LAMBDA> DONE:   0%|          | 0/930 [00:00<?, ?it/s]"
      ]
     },
     "metadata": {},
     "output_type": "display_data"
    },
    {
     "data": {
      "application/vnd.jupyter.widget-view+json": {
       "model_id": "c98d53de06e74828b2c926f6786cc0ad",
       "version_major": 2,
       "version_minor": 0
      },
      "text/plain": [
       "<LAMBDA> DONE:   0%|          | 0/930 [00:00<?, ?it/s]"
      ]
     },
     "metadata": {},
     "output_type": "display_data"
    },
    {
     "data": {
      "application/vnd.jupyter.widget-view+json": {
       "model_id": "5328152ea10a4c418b52b3e6fb160574",
       "version_major": 2,
       "version_minor": 0
      },
      "text/plain": [
       "<LAMBDA> DONE:   0%|          | 0/68 [00:00<?, ?it/s]"
      ]
     },
     "metadata": {},
     "output_type": "display_data"
    },
    {
     "data": {
      "application/vnd.jupyter.widget-view+json": {
       "model_id": "57a5533df02142eeb97e8b99a0a7e13d",
       "version_major": 2,
       "version_minor": 0
      },
      "text/plain": [
       "<LAMBDA> DONE:   0%|          | 0/68 [00:00<?, ?it/s]"
      ]
     },
     "metadata": {},
     "output_type": "display_data"
    },
    {
     "data": {
      "application/vnd.jupyter.widget-view+json": {
       "model_id": "27df825739834313b24d6ab9ad62468d",
       "version_major": 2,
       "version_minor": 0
      },
      "text/plain": [
       "<LAMBDA> DONE:   0%|          | 0/68 [00:00<?, ?it/s]"
      ]
     },
     "metadata": {},
     "output_type": "display_data"
    },
    {
     "data": {
      "application/vnd.jupyter.widget-view+json": {
       "model_id": "d58cedde564240d6925bb1124773be0b",
       "version_major": 2,
       "version_minor": 0
      },
      "text/plain": [
       "<LAMBDA> DONE:   0%|          | 0/2583 [00:00<?, ?it/s]"
      ]
     },
     "metadata": {},
     "output_type": "display_data"
    },
    {
     "data": {
      "application/vnd.jupyter.widget-view+json": {
       "model_id": "1bd04a8626f440a899304e259590f2fd",
       "version_major": 2,
       "version_minor": 0
      },
      "text/plain": [
       "<LAMBDA> DONE:   0%|          | 0/2583 [00:00<?, ?it/s]"
      ]
     },
     "metadata": {},
     "output_type": "display_data"
    },
    {
     "data": {
      "application/vnd.jupyter.widget-view+json": {
       "model_id": "6a093fdc279141da8341a9618a8e8a3f",
       "version_major": 2,
       "version_minor": 0
      },
      "text/plain": [
       "<LAMBDA> DONE:   0%|          | 0/2583 [00:00<?, ?it/s]"
      ]
     },
     "metadata": {},
     "output_type": "display_data"
    },
    {
     "data": {
      "application/vnd.jupyter.widget-view+json": {
       "model_id": "4f3c1f7ac23b428dbd0b982667c34d1f",
       "version_major": 2,
       "version_minor": 0
      },
      "text/plain": [
       "<LAMBDA> DONE:   0%|          | 0/193 [00:00<?, ?it/s]"
      ]
     },
     "metadata": {},
     "output_type": "display_data"
    },
    {
     "data": {
      "application/vnd.jupyter.widget-view+json": {
       "model_id": "93e24a5a91b24a47b5a49f24711087f5",
       "version_major": 2,
       "version_minor": 0
      },
      "text/plain": [
       "<LAMBDA> DONE:   0%|          | 0/193 [00:00<?, ?it/s]"
      ]
     },
     "metadata": {},
     "output_type": "display_data"
    },
    {
     "data": {
      "application/vnd.jupyter.widget-view+json": {
       "model_id": "39cee1068c1c4973b7143780907cf4e9",
       "version_major": 2,
       "version_minor": 0
      },
      "text/plain": [
       "<LAMBDA> DONE:   0%|          | 0/193 [00:00<?, ?it/s]"
      ]
     },
     "metadata": {},
     "output_type": "display_data"
    },
    {
     "data": {
      "application/vnd.jupyter.widget-view+json": {
       "model_id": "3df6d8b390ad4094b3f558b7805581fb",
       "version_major": 2,
       "version_minor": 0
      },
      "text/plain": [
       "<LAMBDA> DONE:   0%|          | 0/162 [00:00<?, ?it/s]"
      ]
     },
     "metadata": {},
     "output_type": "display_data"
    },
    {
     "data": {
      "application/vnd.jupyter.widget-view+json": {
       "model_id": "8b8613d63cdb40288b350e4d45373189",
       "version_major": 2,
       "version_minor": 0
      },
      "text/plain": [
       "<LAMBDA> DONE:   0%|          | 0/162 [00:00<?, ?it/s]"
      ]
     },
     "metadata": {},
     "output_type": "display_data"
    },
    {
     "data": {
      "application/vnd.jupyter.widget-view+json": {
       "model_id": "990940a2cd20473d841f02d96dbd2ac8",
       "version_major": 2,
       "version_minor": 0
      },
      "text/plain": [
       "<LAMBDA> DONE:   0%|          | 0/162 [00:00<?, ?it/s]"
      ]
     },
     "metadata": {},
     "output_type": "display_data"
    },
    {
     "data": {
      "application/vnd.jupyter.widget-view+json": {
       "model_id": "3b1278a7a5d14ed0a312d34cc8cb3645",
       "version_major": 2,
       "version_minor": 0
      },
      "text/plain": [
       "<LAMBDA> DONE:   0%|          | 0/95 [00:00<?, ?it/s]"
      ]
     },
     "metadata": {},
     "output_type": "display_data"
    },
    {
     "data": {
      "application/vnd.jupyter.widget-view+json": {
       "model_id": "a603437d0f1143f7b5bba8c1558773eb",
       "version_major": 2,
       "version_minor": 0
      },
      "text/plain": [
       "<LAMBDA> DONE:   0%|          | 0/95 [00:00<?, ?it/s]"
      ]
     },
     "metadata": {},
     "output_type": "display_data"
    },
    {
     "data": {
      "application/vnd.jupyter.widget-view+json": {
       "model_id": "734e6b36dc814bdf8546edabd90390c9",
       "version_major": 2,
       "version_minor": 0
      },
      "text/plain": [
       "<LAMBDA> DONE:   0%|          | 0/95 [00:00<?, ?it/s]"
      ]
     },
     "metadata": {},
     "output_type": "display_data"
    },
    {
     "data": {
      "application/vnd.jupyter.widget-view+json": {
       "model_id": "f6f6713a966242d294ccbb5f4f46c1d2",
       "version_major": 2,
       "version_minor": 0
      },
      "text/plain": [
       "<LAMBDA> DONE:   0%|          | 0/1701 [00:00<?, ?it/s]"
      ]
     },
     "metadata": {},
     "output_type": "display_data"
    },
    {
     "data": {
      "application/vnd.jupyter.widget-view+json": {
       "model_id": "dfb13f59bc0d4320ba87e48f06e62737",
       "version_major": 2,
       "version_minor": 0
      },
      "text/plain": [
       "<LAMBDA> DONE:   0%|          | 0/1701 [00:00<?, ?it/s]"
      ]
     },
     "metadata": {},
     "output_type": "display_data"
    },
    {
     "data": {
      "application/vnd.jupyter.widget-view+json": {
       "model_id": "87548594be4e4b5a83400872ea762890",
       "version_major": 2,
       "version_minor": 0
      },
      "text/plain": [
       "<LAMBDA> DONE:   0%|          | 0/1701 [00:00<?, ?it/s]"
      ]
     },
     "metadata": {},
     "output_type": "display_data"
    },
    {
     "data": {
      "application/vnd.jupyter.widget-view+json": {
       "model_id": "d727c4618adf4be7b0c16f11d7d7c5e6",
       "version_major": 2,
       "version_minor": 0
      },
      "text/plain": [
       "<LAMBDA> DONE:   0%|          | 0/348 [00:00<?, ?it/s]"
      ]
     },
     "metadata": {},
     "output_type": "display_data"
    },
    {
     "data": {
      "application/vnd.jupyter.widget-view+json": {
       "model_id": "d97ef746c7254f1a90e5355313af0e02",
       "version_major": 2,
       "version_minor": 0
      },
      "text/plain": [
       "<LAMBDA> DONE:   0%|          | 0/348 [00:00<?, ?it/s]"
      ]
     },
     "metadata": {},
     "output_type": "display_data"
    },
    {
     "data": {
      "application/vnd.jupyter.widget-view+json": {
       "model_id": "dfb8f73a5cd346ae8ffbf37c1de2a33a",
       "version_major": 2,
       "version_minor": 0
      },
      "text/plain": [
       "<LAMBDA> DONE:   0%|          | 0/348 [00:00<?, ?it/s]"
      ]
     },
     "metadata": {},
     "output_type": "display_data"
    },
    {
     "data": {
      "application/vnd.jupyter.widget-view+json": {
       "model_id": "d40e86ce3fc54634b48ddae38ce20069",
       "version_major": 2,
       "version_minor": 0
      },
      "text/plain": [
       "<LAMBDA> DONE:   0%|          | 0/9313 [00:00<?, ?it/s]"
      ]
     },
     "metadata": {},
     "output_type": "display_data"
    },
    {
     "data": {
      "application/vnd.jupyter.widget-view+json": {
       "model_id": "41718cc5eacc4e22a6068ac77d2ef527",
       "version_major": 2,
       "version_minor": 0
      },
      "text/plain": [
       "<LAMBDA> DONE:   0%|          | 0/9313 [00:00<?, ?it/s]"
      ]
     },
     "metadata": {},
     "output_type": "display_data"
    },
    {
     "data": {
      "application/vnd.jupyter.widget-view+json": {
       "model_id": "0819bb3bb4a44f33b989d83f034a48eb",
       "version_major": 2,
       "version_minor": 0
      },
      "text/plain": [
       "<LAMBDA> DONE:   0%|          | 0/9313 [00:00<?, ?it/s]"
      ]
     },
     "metadata": {},
     "output_type": "display_data"
    },
    {
     "data": {
      "application/vnd.jupyter.widget-view+json": {
       "model_id": "e529e75373ee4146ad6709c403622918",
       "version_major": 2,
       "version_minor": 0
      },
      "text/plain": [
       "<LAMBDA> DONE:   0%|          | 0/365 [00:00<?, ?it/s]"
      ]
     },
     "metadata": {},
     "output_type": "display_data"
    },
    {
     "data": {
      "application/vnd.jupyter.widget-view+json": {
       "model_id": "8937914f9d874e11ad82dd561c51281c",
       "version_major": 2,
       "version_minor": 0
      },
      "text/plain": [
       "<LAMBDA> DONE:   0%|          | 0/365 [00:00<?, ?it/s]"
      ]
     },
     "metadata": {},
     "output_type": "display_data"
    },
    {
     "data": {
      "application/vnd.jupyter.widget-view+json": {
       "model_id": "9266b42ae5df4e4eb63a1084fed59636",
       "version_major": 2,
       "version_minor": 0
      },
      "text/plain": [
       "<LAMBDA> DONE:   0%|          | 0/365 [00:00<?, ?it/s]"
      ]
     },
     "metadata": {},
     "output_type": "display_data"
    },
    {
     "name": "stderr",
     "output_type": "stream",
     "text": [
      "/tmp/ipykernel_3805226/2830027787.py:60: FutureWarning: The behavior of DataFrame concatenation with empty or all-NA entries is deprecated. In a future version, this will no longer exclude empty or all-NA columns when determining the result dtypes. To retain the old behavior, exclude the relevant entries before the concat operation.\n",
      "  pd.concat(tmp).to_hdf(f'{RES_PATH}/{key}.h5', sp, complevel=9, complib='zlib')\n",
      "/tmp/ipykernel_3805226/2830027787.py:60: PerformanceWarning: \n",
      "your performance may suffer as PyTables will pickle object types that it cannot\n",
      "map directly to c-types [inferred_type->mixed,key->block2_values] [items->Index(['sp_tree_tail', 'sp_tree_head', 'ldo_category', 'mdo_category',\n",
      "       'species', 'ldo_gene', 'mdo_gene', 'outgroup_species', 'out_gene'],\n",
      "      dtype='object')]\n",
      "\n",
      "  pd.concat(tmp).to_hdf(f'{RES_PATH}/{key}.h5', sp, complevel=9, complib='zlib')\n"
     ]
    },
    {
     "data": {
      "application/vnd.jupyter.widget-view+json": {
       "model_id": "022e71f996a146a695883e000285f44f",
       "version_major": 2,
       "version_minor": 0
      },
      "text/plain": [
       "<LAMBDA> DONE:   0%|          | 0/293 [00:00<?, ?it/s]"
      ]
     },
     "metadata": {},
     "output_type": "display_data"
    },
    {
     "data": {
      "application/vnd.jupyter.widget-view+json": {
       "model_id": "fd4ed5c2fc1b49ebbde496c971cea213",
       "version_major": 2,
       "version_minor": 0
      },
      "text/plain": [
       "<LAMBDA> DONE:   0%|          | 0/293 [00:00<?, ?it/s]"
      ]
     },
     "metadata": {},
     "output_type": "display_data"
    },
    {
     "data": {
      "application/vnd.jupyter.widget-view+json": {
       "model_id": "08a64c78323c4c43a3f3820fef7673f7",
       "version_major": 2,
       "version_minor": 0
      },
      "text/plain": [
       "<LAMBDA> DONE:   0%|          | 0/293 [00:00<?, ?it/s]"
      ]
     },
     "metadata": {},
     "output_type": "display_data"
    },
    {
     "data": {
      "application/vnd.jupyter.widget-view+json": {
       "model_id": "ed33c7f056594eee9241ce920af7baf6",
       "version_major": 2,
       "version_minor": 0
      },
      "text/plain": [
       "<LAMBDA> DONE:   0%|          | 0/84 [00:00<?, ?it/s]"
      ]
     },
     "metadata": {},
     "output_type": "display_data"
    },
    {
     "data": {
      "application/vnd.jupyter.widget-view+json": {
       "model_id": "fad031f3157e4bf4a8d7be5d7dddcf4c",
       "version_major": 2,
       "version_minor": 0
      },
      "text/plain": [
       "<LAMBDA> DONE:   0%|          | 0/84 [00:00<?, ?it/s]"
      ]
     },
     "metadata": {},
     "output_type": "display_data"
    },
    {
     "data": {
      "application/vnd.jupyter.widget-view+json": {
       "model_id": "b1603391962444249272c4ab345d5ada",
       "version_major": 2,
       "version_minor": 0
      },
      "text/plain": [
       "<LAMBDA> DONE:   0%|          | 0/84 [00:00<?, ?it/s]"
      ]
     },
     "metadata": {},
     "output_type": "display_data"
    },
    {
     "data": {
      "application/vnd.jupyter.widget-view+json": {
       "model_id": "7dbd2604e92948809ef585fc6886f929",
       "version_major": 2,
       "version_minor": 0
      },
      "text/plain": [
       "<LAMBDA> DONE:   0%|          | 0/3435 [00:00<?, ?it/s]"
      ]
     },
     "metadata": {},
     "output_type": "display_data"
    },
    {
     "data": {
      "application/vnd.jupyter.widget-view+json": {
       "model_id": "691069e6be974369bf5683b8a15a746c",
       "version_major": 2,
       "version_minor": 0
      },
      "text/plain": [
       "<LAMBDA> DONE:   0%|          | 0/3435 [00:00<?, ?it/s]"
      ]
     },
     "metadata": {},
     "output_type": "display_data"
    },
    {
     "data": {
      "application/vnd.jupyter.widget-view+json": {
       "model_id": "ce3f871345ad427eafa7289ca632d442",
       "version_major": 2,
       "version_minor": 0
      },
      "text/plain": [
       "<LAMBDA> DONE:   0%|          | 0/3435 [00:00<?, ?it/s]"
      ]
     },
     "metadata": {},
     "output_type": "display_data"
    },
    {
     "data": {
      "application/vnd.jupyter.widget-view+json": {
       "model_id": "29428b40065746abbc292578f42e3367",
       "version_major": 2,
       "version_minor": 0
      },
      "text/plain": [
       "<LAMBDA> DONE:   0%|          | 0/291 [00:00<?, ?it/s]"
      ]
     },
     "metadata": {},
     "output_type": "display_data"
    },
    {
     "data": {
      "application/vnd.jupyter.widget-view+json": {
       "model_id": "39ec2f3e6b6a45fd86778f7b5ca82f67",
       "version_major": 2,
       "version_minor": 0
      },
      "text/plain": [
       "<LAMBDA> DONE:   0%|          | 0/291 [00:00<?, ?it/s]"
      ]
     },
     "metadata": {},
     "output_type": "display_data"
    },
    {
     "data": {
      "application/vnd.jupyter.widget-view+json": {
       "model_id": "8b6864340d5c4efe9a05546a47962f76",
       "version_major": 2,
       "version_minor": 0
      },
      "text/plain": [
       "<LAMBDA> DONE:   0%|          | 0/291 [00:00<?, ?it/s]"
      ]
     },
     "metadata": {},
     "output_type": "display_data"
    },
    {
     "data": {
      "application/vnd.jupyter.widget-view+json": {
       "model_id": "19abdf84f57d47ac94da1c4eecbb5461",
       "version_major": 2,
       "version_minor": 0
      },
      "text/plain": [
       "<LAMBDA> DONE:   0%|          | 0/510 [00:00<?, ?it/s]"
      ]
     },
     "metadata": {},
     "output_type": "display_data"
    },
    {
     "data": {
      "application/vnd.jupyter.widget-view+json": {
       "model_id": "ebfd223374cb473fb9dcd3a76aa6380e",
       "version_major": 2,
       "version_minor": 0
      },
      "text/plain": [
       "<LAMBDA> DONE:   0%|          | 0/510 [00:00<?, ?it/s]"
      ]
     },
     "metadata": {},
     "output_type": "display_data"
    },
    {
     "data": {
      "application/vnd.jupyter.widget-view+json": {
       "model_id": "1b66a0765fb54da08427ff7125cc3b9d",
       "version_major": 2,
       "version_minor": 0
      },
      "text/plain": [
       "<LAMBDA> DONE:   0%|          | 0/510 [00:00<?, ?it/s]"
      ]
     },
     "metadata": {},
     "output_type": "display_data"
    },
    {
     "name": "stderr",
     "output_type": "stream",
     "text": [
      "/tmp/ipykernel_3805226/2830027787.py:60: PerformanceWarning: \n",
      "your performance may suffer as PyTables will pickle object types that it cannot\n",
      "map directly to c-types [inferred_type->mixed,key->block2_values] [items->Index(['sp_tree_tail', 'sp_tree_head', 'ldo_category', 'mdo_category',\n",
      "       'species', 'ldo_gene', 'mdo_gene', 'outgroup_species', 'out_gene'],\n",
      "      dtype='object')]\n",
      "\n",
      "  pd.concat(tmp).to_hdf(f'{RES_PATH}/{key}.h5', sp, complevel=9, complib='zlib')\n"
     ]
    },
    {
     "data": {
      "application/vnd.jupyter.widget-view+json": {
       "model_id": "90eb6266282f4dae88a5049890f7b966",
       "version_major": 2,
       "version_minor": 0
      },
      "text/plain": [
       "<LAMBDA> DONE:   0%|          | 0/293 [00:00<?, ?it/s]"
      ]
     },
     "metadata": {},
     "output_type": "display_data"
    },
    {
     "data": {
      "application/vnd.jupyter.widget-view+json": {
       "model_id": "abf2c48e9cfd4a6e8eee9c6f93d09d40",
       "version_major": 2,
       "version_minor": 0
      },
      "text/plain": [
       "<LAMBDA> DONE:   0%|          | 0/293 [00:00<?, ?it/s]"
      ]
     },
     "metadata": {},
     "output_type": "display_data"
    },
    {
     "data": {
      "application/vnd.jupyter.widget-view+json": {
       "model_id": "4b19c35ee6784a92a1b1195b58daf562",
       "version_major": 2,
       "version_minor": 0
      },
      "text/plain": [
       "<LAMBDA> DONE:   0%|          | 0/293 [00:00<?, ?it/s]"
      ]
     },
     "metadata": {},
     "output_type": "display_data"
    },
    {
     "data": {
      "application/vnd.jupyter.widget-view+json": {
       "model_id": "068012f8970a44f99d10ee0e640e2478",
       "version_major": 2,
       "version_minor": 0
      },
      "text/plain": [
       "<LAMBDA> DONE:   0%|          | 0/84 [00:00<?, ?it/s]"
      ]
     },
     "metadata": {},
     "output_type": "display_data"
    },
    {
     "data": {
      "application/vnd.jupyter.widget-view+json": {
       "model_id": "f0c0a70976cb4a4d8d53c7bddbfab81a",
       "version_major": 2,
       "version_minor": 0
      },
      "text/plain": [
       "<LAMBDA> DONE:   0%|          | 0/84 [00:00<?, ?it/s]"
      ]
     },
     "metadata": {},
     "output_type": "display_data"
    },
    {
     "data": {
      "application/vnd.jupyter.widget-view+json": {
       "model_id": "5b58298b06c44c0abe2bfd3196ecb185",
       "version_major": 2,
       "version_minor": 0
      },
      "text/plain": [
       "<LAMBDA> DONE:   0%|          | 0/84 [00:00<?, ?it/s]"
      ]
     },
     "metadata": {},
     "output_type": "display_data"
    },
    {
     "data": {
      "application/vnd.jupyter.widget-view+json": {
       "model_id": "3c7eff5a652d4853980e96de4a05879c",
       "version_major": 2,
       "version_minor": 0
      },
      "text/plain": [
       "<LAMBDA> DONE:   0%|          | 0/3435 [00:00<?, ?it/s]"
      ]
     },
     "metadata": {},
     "output_type": "display_data"
    },
    {
     "data": {
      "application/vnd.jupyter.widget-view+json": {
       "model_id": "0b01fb85c0124baeb7351ad8eb0df25e",
       "version_major": 2,
       "version_minor": 0
      },
      "text/plain": [
       "<LAMBDA> DONE:   0%|          | 0/3435 [00:00<?, ?it/s]"
      ]
     },
     "metadata": {},
     "output_type": "display_data"
    },
    {
     "data": {
      "application/vnd.jupyter.widget-view+json": {
       "model_id": "5d3e419bbe8b4248803a9a9a6dd719e0",
       "version_major": 2,
       "version_minor": 0
      },
      "text/plain": [
       "<LAMBDA> DONE:   0%|          | 0/3435 [00:00<?, ?it/s]"
      ]
     },
     "metadata": {},
     "output_type": "display_data"
    },
    {
     "data": {
      "application/vnd.jupyter.widget-view+json": {
       "model_id": "31ed32415afb476e8b1703c33b118305",
       "version_major": 2,
       "version_minor": 0
      },
      "text/plain": [
       "<LAMBDA> DONE:   0%|          | 0/291 [00:00<?, ?it/s]"
      ]
     },
     "metadata": {},
     "output_type": "display_data"
    },
    {
     "data": {
      "application/vnd.jupyter.widget-view+json": {
       "model_id": "49a278a1585845bc8bd11848a013b903",
       "version_major": 2,
       "version_minor": 0
      },
      "text/plain": [
       "<LAMBDA> DONE:   0%|          | 0/291 [00:00<?, ?it/s]"
      ]
     },
     "metadata": {},
     "output_type": "display_data"
    },
    {
     "data": {
      "application/vnd.jupyter.widget-view+json": {
       "model_id": "1b5d7fb4566545198194fc573ccddff8",
       "version_major": 2,
       "version_minor": 0
      },
      "text/plain": [
       "<LAMBDA> DONE:   0%|          | 0/291 [00:00<?, ?it/s]"
      ]
     },
     "metadata": {},
     "output_type": "display_data"
    },
    {
     "data": {
      "application/vnd.jupyter.widget-view+json": {
       "model_id": "7c62e39bb5474f2d945aac79d70cc68a",
       "version_major": 2,
       "version_minor": 0
      },
      "text/plain": [
       "<LAMBDA> DONE:   0%|          | 0/510 [00:00<?, ?it/s]"
      ]
     },
     "metadata": {},
     "output_type": "display_data"
    },
    {
     "data": {
      "application/vnd.jupyter.widget-view+json": {
       "model_id": "b3888b7b87b443e4b150785f98760283",
       "version_major": 2,
       "version_minor": 0
      },
      "text/plain": [
       "<LAMBDA> DONE:   0%|          | 0/510 [00:00<?, ?it/s]"
      ]
     },
     "metadata": {},
     "output_type": "display_data"
    },
    {
     "data": {
      "application/vnd.jupyter.widget-view+json": {
       "model_id": "dc4db498515d435682aff58bbeaed699",
       "version_major": 2,
       "version_minor": 0
      },
      "text/plain": [
       "<LAMBDA> DONE:   0%|          | 0/510 [00:00<?, ?it/s]"
      ]
     },
     "metadata": {},
     "output_type": "display_data"
    },
    {
     "name": "stderr",
     "output_type": "stream",
     "text": [
      "/tmp/ipykernel_3805226/2830027787.py:60: PerformanceWarning: \n",
      "your performance may suffer as PyTables will pickle object types that it cannot\n",
      "map directly to c-types [inferred_type->mixed,key->block2_values] [items->Index(['sp_tree_tail', 'sp_tree_head', 'ldo_category', 'mdo_category',\n",
      "       'species', 'ldo_gene', 'mdo_gene', 'outgroup_species', 'out_gene'],\n",
      "      dtype='object')]\n",
      "\n",
      "  pd.concat(tmp).to_hdf(f'{RES_PATH}/{key}.h5', sp, complevel=9, complib='zlib')\n"
     ]
    },
    {
     "data": {
      "application/vnd.jupyter.widget-view+json": {
       "model_id": "000b6bcaf3194b58beefbb17f7f25329",
       "version_major": 2,
       "version_minor": 0
      },
      "text/plain": [
       "<LAMBDA> DONE:   0%|          | 0/293 [00:00<?, ?it/s]"
      ]
     },
     "metadata": {},
     "output_type": "display_data"
    },
    {
     "data": {
      "application/vnd.jupyter.widget-view+json": {
       "model_id": "1a5382782c6346b9b16d25028bd86b0a",
       "version_major": 2,
       "version_minor": 0
      },
      "text/plain": [
       "<LAMBDA> DONE:   0%|          | 0/293 [00:00<?, ?it/s]"
      ]
     },
     "metadata": {},
     "output_type": "display_data"
    },
    {
     "data": {
      "application/vnd.jupyter.widget-view+json": {
       "model_id": "d4a3d834edaf4957a4cf619c5a705ef2",
       "version_major": 2,
       "version_minor": 0
      },
      "text/plain": [
       "<LAMBDA> DONE:   0%|          | 0/293 [00:00<?, ?it/s]"
      ]
     },
     "metadata": {},
     "output_type": "display_data"
    },
    {
     "data": {
      "application/vnd.jupyter.widget-view+json": {
       "model_id": "072deb940665490e99e7089fe3122cd0",
       "version_major": 2,
       "version_minor": 0
      },
      "text/plain": [
       "<LAMBDA> DONE:   0%|          | 0/84 [00:00<?, ?it/s]"
      ]
     },
     "metadata": {},
     "output_type": "display_data"
    },
    {
     "data": {
      "application/vnd.jupyter.widget-view+json": {
       "model_id": "ecab910ac8454ae68c5d16b7c2b90307",
       "version_major": 2,
       "version_minor": 0
      },
      "text/plain": [
       "<LAMBDA> DONE:   0%|          | 0/84 [00:00<?, ?it/s]"
      ]
     },
     "metadata": {},
     "output_type": "display_data"
    },
    {
     "data": {
      "application/vnd.jupyter.widget-view+json": {
       "model_id": "c405bf96af3e4479a93c7c674f8c902e",
       "version_major": 2,
       "version_minor": 0
      },
      "text/plain": [
       "<LAMBDA> DONE:   0%|          | 0/84 [00:00<?, ?it/s]"
      ]
     },
     "metadata": {},
     "output_type": "display_data"
    },
    {
     "data": {
      "application/vnd.jupyter.widget-view+json": {
       "model_id": "167874e403e1472b9755b21a0775b3ee",
       "version_major": 2,
       "version_minor": 0
      },
      "text/plain": [
       "<LAMBDA> DONE:   0%|          | 0/3435 [00:00<?, ?it/s]"
      ]
     },
     "metadata": {},
     "output_type": "display_data"
    },
    {
     "data": {
      "application/vnd.jupyter.widget-view+json": {
       "model_id": "c9bfca4cb0f44ad09beebb7b4970a6b6",
       "version_major": 2,
       "version_minor": 0
      },
      "text/plain": [
       "<LAMBDA> DONE:   0%|          | 0/3435 [00:00<?, ?it/s]"
      ]
     },
     "metadata": {},
     "output_type": "display_data"
    },
    {
     "data": {
      "application/vnd.jupyter.widget-view+json": {
       "model_id": "a0eed23238b849a88784209f816d311b",
       "version_major": 2,
       "version_minor": 0
      },
      "text/plain": [
       "<LAMBDA> DONE:   0%|          | 0/3435 [00:00<?, ?it/s]"
      ]
     },
     "metadata": {},
     "output_type": "display_data"
    },
    {
     "data": {
      "application/vnd.jupyter.widget-view+json": {
       "model_id": "71a68e70049941a091824ec7332ed46f",
       "version_major": 2,
       "version_minor": 0
      },
      "text/plain": [
       "<LAMBDA> DONE:   0%|          | 0/291 [00:00<?, ?it/s]"
      ]
     },
     "metadata": {},
     "output_type": "display_data"
    },
    {
     "data": {
      "application/vnd.jupyter.widget-view+json": {
       "model_id": "0b0e4aefcc3e402b89c774d602f22601",
       "version_major": 2,
       "version_minor": 0
      },
      "text/plain": [
       "<LAMBDA> DONE:   0%|          | 0/291 [00:00<?, ?it/s]"
      ]
     },
     "metadata": {},
     "output_type": "display_data"
    },
    {
     "data": {
      "application/vnd.jupyter.widget-view+json": {
       "model_id": "44a24661e8c74397b144f0fa32c88bd2",
       "version_major": 2,
       "version_minor": 0
      },
      "text/plain": [
       "<LAMBDA> DONE:   0%|          | 0/291 [00:00<?, ?it/s]"
      ]
     },
     "metadata": {},
     "output_type": "display_data"
    },
    {
     "data": {
      "application/vnd.jupyter.widget-view+json": {
       "model_id": "daf65ab2faae4005ba3a4f4b30eba5a7",
       "version_major": 2,
       "version_minor": 0
      },
      "text/plain": [
       "<LAMBDA> DONE:   0%|          | 0/510 [00:00<?, ?it/s]"
      ]
     },
     "metadata": {},
     "output_type": "display_data"
    },
    {
     "data": {
      "application/vnd.jupyter.widget-view+json": {
       "model_id": "4f92b0b0d3424a21adda071f96761830",
       "version_major": 2,
       "version_minor": 0
      },
      "text/plain": [
       "<LAMBDA> DONE:   0%|          | 0/510 [00:00<?, ?it/s]"
      ]
     },
     "metadata": {},
     "output_type": "display_data"
    },
    {
     "data": {
      "application/vnd.jupyter.widget-view+json": {
       "model_id": "b5e115cf9061475692a8e41f792cb729",
       "version_major": 2,
       "version_minor": 0
      },
      "text/plain": [
       "<LAMBDA> DONE:   0%|          | 0/510 [00:00<?, ?it/s]"
      ]
     },
     "metadata": {},
     "output_type": "display_data"
    },
    {
     "name": "stderr",
     "output_type": "stream",
     "text": [
      "/tmp/ipykernel_3805226/2830027787.py:60: PerformanceWarning: \n",
      "your performance may suffer as PyTables will pickle object types that it cannot\n",
      "map directly to c-types [inferred_type->mixed,key->block2_values] [items->Index(['sp_tree_tail', 'sp_tree_head', 'ldo_category', 'mdo_category',\n",
      "       'species', 'ldo_gene', 'mdo_gene', 'outgroup_species', 'out_gene'],\n",
      "      dtype='object')]\n",
      "\n",
      "  pd.concat(tmp).to_hdf(f'{RES_PATH}/{key}.h5', sp, complevel=9, complib='zlib')\n"
     ]
    },
    {
     "data": {
      "application/vnd.jupyter.widget-view+json": {
       "model_id": "bc50c7d6d9fd4bd699d3089526e5100a",
       "version_major": 2,
       "version_minor": 0
      },
      "text/plain": [
       "<LAMBDA> DONE:   0%|          | 0/297 [00:00<?, ?it/s]"
      ]
     },
     "metadata": {},
     "output_type": "display_data"
    },
    {
     "data": {
      "application/vnd.jupyter.widget-view+json": {
       "model_id": "1352d8ca5e7943a08070aab4333f9fcf",
       "version_major": 2,
       "version_minor": 0
      },
      "text/plain": [
       "<LAMBDA> DONE:   0%|          | 0/297 [00:00<?, ?it/s]"
      ]
     },
     "metadata": {},
     "output_type": "display_data"
    },
    {
     "data": {
      "application/vnd.jupyter.widget-view+json": {
       "model_id": "7b730df92e234440a5c1fa82538daf0a",
       "version_major": 2,
       "version_minor": 0
      },
      "text/plain": [
       "<LAMBDA> DONE:   0%|          | 0/297 [00:00<?, ?it/s]"
      ]
     },
     "metadata": {},
     "output_type": "display_data"
    },
    {
     "data": {
      "application/vnd.jupyter.widget-view+json": {
       "model_id": "ac33bb5ee19943a6a4b2f9314e2deeef",
       "version_major": 2,
       "version_minor": 0
      },
      "text/plain": [
       "<LAMBDA> DONE:   0%|          | 0/99 [00:00<?, ?it/s]"
      ]
     },
     "metadata": {},
     "output_type": "display_data"
    },
    {
     "data": {
      "application/vnd.jupyter.widget-view+json": {
       "model_id": "eeb40ca98c914f27844c2e43f3ac0dbd",
       "version_major": 2,
       "version_minor": 0
      },
      "text/plain": [
       "<LAMBDA> DONE:   0%|          | 0/99 [00:00<?, ?it/s]"
      ]
     },
     "metadata": {},
     "output_type": "display_data"
    },
    {
     "data": {
      "application/vnd.jupyter.widget-view+json": {
       "model_id": "c4c3bb9dae7946ee8e940bef15d9cba5",
       "version_major": 2,
       "version_minor": 0
      },
      "text/plain": [
       "<LAMBDA> DONE:   0%|          | 0/99 [00:00<?, ?it/s]"
      ]
     },
     "metadata": {},
     "output_type": "display_data"
    },
    {
     "data": {
      "application/vnd.jupyter.widget-view+json": {
       "model_id": "58d39b01725444f597c8223a1d57f2a6",
       "version_major": 2,
       "version_minor": 0
      },
      "text/plain": [
       "<LAMBDA> DONE:   0%|          | 0/70 [00:00<?, ?it/s]"
      ]
     },
     "metadata": {},
     "output_type": "display_data"
    },
    {
     "data": {
      "application/vnd.jupyter.widget-view+json": {
       "model_id": "008f3a05cf2f4a53a4d924885ddaa472",
       "version_major": 2,
       "version_minor": 0
      },
      "text/plain": [
       "<LAMBDA> DONE:   0%|          | 0/70 [00:00<?, ?it/s]"
      ]
     },
     "metadata": {},
     "output_type": "display_data"
    },
    {
     "data": {
      "application/vnd.jupyter.widget-view+json": {
       "model_id": "66476bcb7da743f3ad4d226d7f5c686b",
       "version_major": 2,
       "version_minor": 0
      },
      "text/plain": [
       "<LAMBDA> DONE:   0%|          | 0/70 [00:00<?, ?it/s]"
      ]
     },
     "metadata": {},
     "output_type": "display_data"
    },
    {
     "data": {
      "application/vnd.jupyter.widget-view+json": {
       "model_id": "099a883daf714818b1e69d53a6a475fd",
       "version_major": 2,
       "version_minor": 0
      },
      "text/plain": [
       "<LAMBDA> DONE:   0%|          | 0/340 [00:00<?, ?it/s]"
      ]
     },
     "metadata": {},
     "output_type": "display_data"
    },
    {
     "data": {
      "application/vnd.jupyter.widget-view+json": {
       "model_id": "10e504d515094a829462fb35c8db61ec",
       "version_major": 2,
       "version_minor": 0
      },
      "text/plain": [
       "<LAMBDA> DONE:   0%|          | 0/340 [00:00<?, ?it/s]"
      ]
     },
     "metadata": {},
     "output_type": "display_data"
    },
    {
     "data": {
      "application/vnd.jupyter.widget-view+json": {
       "model_id": "94536f9d43d3466ab3fbd1818daeacc5",
       "version_major": 2,
       "version_minor": 0
      },
      "text/plain": [
       "<LAMBDA> DONE:   0%|          | 0/340 [00:00<?, ?it/s]"
      ]
     },
     "metadata": {},
     "output_type": "display_data"
    },
    {
     "data": {
      "application/vnd.jupyter.widget-view+json": {
       "model_id": "a38fcf61abfc41a0981d56238e92d42b",
       "version_major": 2,
       "version_minor": 0
      },
      "text/plain": [
       "<LAMBDA> DONE:   0%|          | 0/752 [00:00<?, ?it/s]"
      ]
     },
     "metadata": {},
     "output_type": "display_data"
    },
    {
     "data": {
      "application/vnd.jupyter.widget-view+json": {
       "model_id": "62491db079ee4304a09dbc3206010593",
       "version_major": 2,
       "version_minor": 0
      },
      "text/plain": [
       "<LAMBDA> DONE:   0%|          | 0/752 [00:00<?, ?it/s]"
      ]
     },
     "metadata": {},
     "output_type": "display_data"
    },
    {
     "data": {
      "application/vnd.jupyter.widget-view+json": {
       "model_id": "cfe297c6cec441a390938a373017ffe5",
       "version_major": 2,
       "version_minor": 0
      },
      "text/plain": [
       "<LAMBDA> DONE:   0%|          | 0/752 [00:00<?, ?it/s]"
      ]
     },
     "metadata": {},
     "output_type": "display_data"
    },
    {
     "data": {
      "application/vnd.jupyter.widget-view+json": {
       "model_id": "5f73dd6aaf124c719cfa310139f1bf77",
       "version_major": 2,
       "version_minor": 0
      },
      "text/plain": [
       "<LAMBDA> DONE:   0%|          | 0/710 [00:00<?, ?it/s]"
      ]
     },
     "metadata": {},
     "output_type": "display_data"
    },
    {
     "data": {
      "application/vnd.jupyter.widget-view+json": {
       "model_id": "e202243a21154071ba36a164982941d8",
       "version_major": 2,
       "version_minor": 0
      },
      "text/plain": [
       "<LAMBDA> DONE:   0%|          | 0/710 [00:00<?, ?it/s]"
      ]
     },
     "metadata": {},
     "output_type": "display_data"
    },
    {
     "data": {
      "application/vnd.jupyter.widget-view+json": {
       "model_id": "a043693ea9594822a318631bee0b518a",
       "version_major": 2,
       "version_minor": 0
      },
      "text/plain": [
       "<LAMBDA> DONE:   0%|          | 0/710 [00:00<?, ?it/s]"
      ]
     },
     "metadata": {},
     "output_type": "display_data"
    },
    {
     "data": {
      "application/vnd.jupyter.widget-view+json": {
       "model_id": "e0df97cc99cf4813954e99269ed4500f",
       "version_major": 2,
       "version_minor": 0
      },
      "text/plain": [
       "<LAMBDA> DONE:   0%|          | 0/312 [00:00<?, ?it/s]"
      ]
     },
     "metadata": {},
     "output_type": "display_data"
    },
    {
     "data": {
      "application/vnd.jupyter.widget-view+json": {
       "model_id": "27ac9b12bb07419c80d6e978cad354d5",
       "version_major": 2,
       "version_minor": 0
      },
      "text/plain": [
       "<LAMBDA> DONE:   0%|          | 0/312 [00:00<?, ?it/s]"
      ]
     },
     "metadata": {},
     "output_type": "display_data"
    },
    {
     "data": {
      "application/vnd.jupyter.widget-view+json": {
       "model_id": "b37036b1c5d94eb4ac77739c92aba4c1",
       "version_major": 2,
       "version_minor": 0
      },
      "text/plain": [
       "<LAMBDA> DONE:   0%|          | 0/312 [00:00<?, ?it/s]"
      ]
     },
     "metadata": {},
     "output_type": "display_data"
    },
    {
     "data": {
      "application/vnd.jupyter.widget-view+json": {
       "model_id": "5eb7a85ac98a410ab5d77559e51fc2c8",
       "version_major": 2,
       "version_minor": 0
      },
      "text/plain": [
       "<LAMBDA> DONE:   0%|          | 0/2133 [00:00<?, ?it/s]"
      ]
     },
     "metadata": {},
     "output_type": "display_data"
    },
    {
     "data": {
      "application/vnd.jupyter.widget-view+json": {
       "model_id": "bce4a210fc7b47daacbcada4d1b6843a",
       "version_major": 2,
       "version_minor": 0
      },
      "text/plain": [
       "<LAMBDA> DONE:   0%|          | 0/2133 [00:00<?, ?it/s]"
      ]
     },
     "metadata": {},
     "output_type": "display_data"
    },
    {
     "data": {
      "application/vnd.jupyter.widget-view+json": {
       "model_id": "17a952cd9ad24423a3cb9c37eb6f6559",
       "version_major": 2,
       "version_minor": 0
      },
      "text/plain": [
       "<LAMBDA> DONE:   0%|          | 0/2133 [00:00<?, ?it/s]"
      ]
     },
     "metadata": {},
     "output_type": "display_data"
    },
    {
     "name": "stderr",
     "output_type": "stream",
     "text": [
      "/tmp/ipykernel_3805226/2830027787.py:60: PerformanceWarning: \n",
      "your performance may suffer as PyTables will pickle object types that it cannot\n",
      "map directly to c-types [inferred_type->mixed,key->block2_values] [items->Index(['sp_tree_tail', 'sp_tree_head', 'ldo_category', 'mdo_category',\n",
      "       'species', 'ldo_gene', 'mdo_gene', 'outgroup_species', 'out_gene'],\n",
      "      dtype='object')]\n",
      "\n",
      "  pd.concat(tmp).to_hdf(f'{RES_PATH}/{key}.h5', sp, complevel=9, complib='zlib')\n"
     ]
    },
    {
     "data": {
      "application/vnd.jupyter.widget-view+json": {
       "model_id": "6be5e28dce6a409fafbfbf0250351960",
       "version_major": 2,
       "version_minor": 0
      },
      "text/plain": [
       "<LAMBDA> DONE:   0%|          | 0/297 [00:00<?, ?it/s]"
      ]
     },
     "metadata": {},
     "output_type": "display_data"
    },
    {
     "data": {
      "application/vnd.jupyter.widget-view+json": {
       "model_id": "899e9c9652334d71a6ac15102d5ba6ac",
       "version_major": 2,
       "version_minor": 0
      },
      "text/plain": [
       "<LAMBDA> DONE:   0%|          | 0/297 [00:00<?, ?it/s]"
      ]
     },
     "metadata": {},
     "output_type": "display_data"
    },
    {
     "data": {
      "application/vnd.jupyter.widget-view+json": {
       "model_id": "f695bd1d5d834a6daed924bf7e6f0924",
       "version_major": 2,
       "version_minor": 0
      },
      "text/plain": [
       "<LAMBDA> DONE:   0%|          | 0/297 [00:00<?, ?it/s]"
      ]
     },
     "metadata": {},
     "output_type": "display_data"
    },
    {
     "data": {
      "application/vnd.jupyter.widget-view+json": {
       "model_id": "60a0d83c833647b0866a638373704847",
       "version_major": 2,
       "version_minor": 0
      },
      "text/plain": [
       "<LAMBDA> DONE:   0%|          | 0/99 [00:00<?, ?it/s]"
      ]
     },
     "metadata": {},
     "output_type": "display_data"
    },
    {
     "data": {
      "application/vnd.jupyter.widget-view+json": {
       "model_id": "cbb535778f5c4412a8d00ec19826108a",
       "version_major": 2,
       "version_minor": 0
      },
      "text/plain": [
       "<LAMBDA> DONE:   0%|          | 0/99 [00:00<?, ?it/s]"
      ]
     },
     "metadata": {},
     "output_type": "display_data"
    },
    {
     "data": {
      "application/vnd.jupyter.widget-view+json": {
       "model_id": "8cb31bd4c22740d7b502a6b6087190b6",
       "version_major": 2,
       "version_minor": 0
      },
      "text/plain": [
       "<LAMBDA> DONE:   0%|          | 0/99 [00:00<?, ?it/s]"
      ]
     },
     "metadata": {},
     "output_type": "display_data"
    },
    {
     "data": {
      "application/vnd.jupyter.widget-view+json": {
       "model_id": "71e0c0beb2344e2494d52a72e9711ce2",
       "version_major": 2,
       "version_minor": 0
      },
      "text/plain": [
       "<LAMBDA> DONE:   0%|          | 0/70 [00:00<?, ?it/s]"
      ]
     },
     "metadata": {},
     "output_type": "display_data"
    },
    {
     "data": {
      "application/vnd.jupyter.widget-view+json": {
       "model_id": "bb14c65525474f15895ed5a08b7fdbb7",
       "version_major": 2,
       "version_minor": 0
      },
      "text/plain": [
       "<LAMBDA> DONE:   0%|          | 0/70 [00:00<?, ?it/s]"
      ]
     },
     "metadata": {},
     "output_type": "display_data"
    },
    {
     "data": {
      "application/vnd.jupyter.widget-view+json": {
       "model_id": "99a69a68a6254801a20e6d4511be402c",
       "version_major": 2,
       "version_minor": 0
      },
      "text/plain": [
       "<LAMBDA> DONE:   0%|          | 0/70 [00:00<?, ?it/s]"
      ]
     },
     "metadata": {},
     "output_type": "display_data"
    },
    {
     "data": {
      "application/vnd.jupyter.widget-view+json": {
       "model_id": "14c0b7f46b0e4a1783ca0a6536971193",
       "version_major": 2,
       "version_minor": 0
      },
      "text/plain": [
       "<LAMBDA> DONE:   0%|          | 0/340 [00:00<?, ?it/s]"
      ]
     },
     "metadata": {},
     "output_type": "display_data"
    },
    {
     "data": {
      "application/vnd.jupyter.widget-view+json": {
       "model_id": "405d25df56764ed588bf2a542339eb64",
       "version_major": 2,
       "version_minor": 0
      },
      "text/plain": [
       "<LAMBDA> DONE:   0%|          | 0/340 [00:00<?, ?it/s]"
      ]
     },
     "metadata": {},
     "output_type": "display_data"
    },
    {
     "data": {
      "application/vnd.jupyter.widget-view+json": {
       "model_id": "7724b20b1fdb4488b6326125956724d0",
       "version_major": 2,
       "version_minor": 0
      },
      "text/plain": [
       "<LAMBDA> DONE:   0%|          | 0/340 [00:00<?, ?it/s]"
      ]
     },
     "metadata": {},
     "output_type": "display_data"
    },
    {
     "data": {
      "application/vnd.jupyter.widget-view+json": {
       "model_id": "95735b434be94833a96258c97eb8db8c",
       "version_major": 2,
       "version_minor": 0
      },
      "text/plain": [
       "<LAMBDA> DONE:   0%|          | 0/752 [00:00<?, ?it/s]"
      ]
     },
     "metadata": {},
     "output_type": "display_data"
    },
    {
     "data": {
      "application/vnd.jupyter.widget-view+json": {
       "model_id": "073c52f5e1c247bcaa651b165d23a39c",
       "version_major": 2,
       "version_minor": 0
      },
      "text/plain": [
       "<LAMBDA> DONE:   0%|          | 0/752 [00:00<?, ?it/s]"
      ]
     },
     "metadata": {},
     "output_type": "display_data"
    },
    {
     "data": {
      "application/vnd.jupyter.widget-view+json": {
       "model_id": "59f9ef69fc4440bab1ad70932fdc7d6e",
       "version_major": 2,
       "version_minor": 0
      },
      "text/plain": [
       "<LAMBDA> DONE:   0%|          | 0/752 [00:00<?, ?it/s]"
      ]
     },
     "metadata": {},
     "output_type": "display_data"
    },
    {
     "data": {
      "application/vnd.jupyter.widget-view+json": {
       "model_id": "909c06170b784679938dd8c06f66da65",
       "version_major": 2,
       "version_minor": 0
      },
      "text/plain": [
       "<LAMBDA> DONE:   0%|          | 0/710 [00:00<?, ?it/s]"
      ]
     },
     "metadata": {},
     "output_type": "display_data"
    },
    {
     "data": {
      "application/vnd.jupyter.widget-view+json": {
       "model_id": "9c183dab62e840689f928191a519cf15",
       "version_major": 2,
       "version_minor": 0
      },
      "text/plain": [
       "<LAMBDA> DONE:   0%|          | 0/710 [00:00<?, ?it/s]"
      ]
     },
     "metadata": {},
     "output_type": "display_data"
    },
    {
     "data": {
      "application/vnd.jupyter.widget-view+json": {
       "model_id": "7a4bcaf2c03444bb9aa2bb7e657024b3",
       "version_major": 2,
       "version_minor": 0
      },
      "text/plain": [
       "<LAMBDA> DONE:   0%|          | 0/710 [00:00<?, ?it/s]"
      ]
     },
     "metadata": {},
     "output_type": "display_data"
    },
    {
     "data": {
      "application/vnd.jupyter.widget-view+json": {
       "model_id": "a510528300334610a6c69b2f4dc81560",
       "version_major": 2,
       "version_minor": 0
      },
      "text/plain": [
       "<LAMBDA> DONE:   0%|          | 0/312 [00:00<?, ?it/s]"
      ]
     },
     "metadata": {},
     "output_type": "display_data"
    },
    {
     "data": {
      "application/vnd.jupyter.widget-view+json": {
       "model_id": "9de9d473077a462fa0a9e9b01ba5d415",
       "version_major": 2,
       "version_minor": 0
      },
      "text/plain": [
       "<LAMBDA> DONE:   0%|          | 0/312 [00:00<?, ?it/s]"
      ]
     },
     "metadata": {},
     "output_type": "display_data"
    },
    {
     "data": {
      "application/vnd.jupyter.widget-view+json": {
       "model_id": "c15f1574225f460ba5add11da707c482",
       "version_major": 2,
       "version_minor": 0
      },
      "text/plain": [
       "<LAMBDA> DONE:   0%|          | 0/312 [00:00<?, ?it/s]"
      ]
     },
     "metadata": {},
     "output_type": "display_data"
    },
    {
     "data": {
      "application/vnd.jupyter.widget-view+json": {
       "model_id": "959dfb720b9641e1901a84aa65ef0401",
       "version_major": 2,
       "version_minor": 0
      },
      "text/plain": [
       "<LAMBDA> DONE:   0%|          | 0/2133 [00:00<?, ?it/s]"
      ]
     },
     "metadata": {},
     "output_type": "display_data"
    },
    {
     "data": {
      "application/vnd.jupyter.widget-view+json": {
       "model_id": "1a6d686c57a04aa893070a66ea0e6020",
       "version_major": 2,
       "version_minor": 0
      },
      "text/plain": [
       "<LAMBDA> DONE:   0%|          | 0/2133 [00:00<?, ?it/s]"
      ]
     },
     "metadata": {},
     "output_type": "display_data"
    },
    {
     "data": {
      "application/vnd.jupyter.widget-view+json": {
       "model_id": "967847af9feb4b1fb2c81f2ae6484417",
       "version_major": 2,
       "version_minor": 0
      },
      "text/plain": [
       "<LAMBDA> DONE:   0%|          | 0/2133 [00:00<?, ?it/s]"
      ]
     },
     "metadata": {},
     "output_type": "display_data"
    },
    {
     "name": "stderr",
     "output_type": "stream",
     "text": [
      "/tmp/ipykernel_3805226/2830027787.py:60: PerformanceWarning: \n",
      "your performance may suffer as PyTables will pickle object types that it cannot\n",
      "map directly to c-types [inferred_type->mixed,key->block2_values] [items->Index(['sp_tree_tail', 'sp_tree_head', 'ldo_category', 'mdo_category',\n",
      "       'species', 'ldo_gene', 'mdo_gene', 'outgroup_species', 'out_gene'],\n",
      "      dtype='object')]\n",
      "\n",
      "  pd.concat(tmp).to_hdf(f'{RES_PATH}/{key}.h5', sp, complevel=9, complib='zlib')\n"
     ]
    },
    {
     "data": {
      "application/vnd.jupyter.widget-view+json": {
       "model_id": "9ac4bd580fd34fe297c03d28bbdc5341",
       "version_major": 2,
       "version_minor": 0
      },
      "text/plain": [
       "<LAMBDA> DONE:   0%|          | 0/297 [00:00<?, ?it/s]"
      ]
     },
     "metadata": {},
     "output_type": "display_data"
    },
    {
     "data": {
      "application/vnd.jupyter.widget-view+json": {
       "model_id": "22f3758ee00d44049aa3e92d3dce85c6",
       "version_major": 2,
       "version_minor": 0
      },
      "text/plain": [
       "<LAMBDA> DONE:   0%|          | 0/297 [00:00<?, ?it/s]"
      ]
     },
     "metadata": {},
     "output_type": "display_data"
    },
    {
     "data": {
      "application/vnd.jupyter.widget-view+json": {
       "model_id": "1b79e1342bcb4eaebbaa3990820009d4",
       "version_major": 2,
       "version_minor": 0
      },
      "text/plain": [
       "<LAMBDA> DONE:   0%|          | 0/297 [00:00<?, ?it/s]"
      ]
     },
     "metadata": {},
     "output_type": "display_data"
    },
    {
     "data": {
      "application/vnd.jupyter.widget-view+json": {
       "model_id": "6d808f5e110c4805a455d098ef9d82c4",
       "version_major": 2,
       "version_minor": 0
      },
      "text/plain": [
       "<LAMBDA> DONE:   0%|          | 0/99 [00:00<?, ?it/s]"
      ]
     },
     "metadata": {},
     "output_type": "display_data"
    },
    {
     "data": {
      "application/vnd.jupyter.widget-view+json": {
       "model_id": "e6c1bbb073194288b700550fa27f71d9",
       "version_major": 2,
       "version_minor": 0
      },
      "text/plain": [
       "<LAMBDA> DONE:   0%|          | 0/99 [00:00<?, ?it/s]"
      ]
     },
     "metadata": {},
     "output_type": "display_data"
    },
    {
     "data": {
      "application/vnd.jupyter.widget-view+json": {
       "model_id": "f51f9a20a4414178828a11da1a3da641",
       "version_major": 2,
       "version_minor": 0
      },
      "text/plain": [
       "<LAMBDA> DONE:   0%|          | 0/99 [00:00<?, ?it/s]"
      ]
     },
     "metadata": {},
     "output_type": "display_data"
    },
    {
     "data": {
      "application/vnd.jupyter.widget-view+json": {
       "model_id": "6871b5b399154731aa5b3a62ac5f2891",
       "version_major": 2,
       "version_minor": 0
      },
      "text/plain": [
       "<LAMBDA> DONE:   0%|          | 0/70 [00:00<?, ?it/s]"
      ]
     },
     "metadata": {},
     "output_type": "display_data"
    },
    {
     "data": {
      "application/vnd.jupyter.widget-view+json": {
       "model_id": "559f8277365a42d0a0efd3f4040660cb",
       "version_major": 2,
       "version_minor": 0
      },
      "text/plain": [
       "<LAMBDA> DONE:   0%|          | 0/70 [00:00<?, ?it/s]"
      ]
     },
     "metadata": {},
     "output_type": "display_data"
    },
    {
     "data": {
      "application/vnd.jupyter.widget-view+json": {
       "model_id": "3f643ba7364748fca4e798fb62434a97",
       "version_major": 2,
       "version_minor": 0
      },
      "text/plain": [
       "<LAMBDA> DONE:   0%|          | 0/70 [00:00<?, ?it/s]"
      ]
     },
     "metadata": {},
     "output_type": "display_data"
    },
    {
     "data": {
      "application/vnd.jupyter.widget-view+json": {
       "model_id": "abda37f202684fe28ab6db4f8ae50d2c",
       "version_major": 2,
       "version_minor": 0
      },
      "text/plain": [
       "<LAMBDA> DONE:   0%|          | 0/340 [00:00<?, ?it/s]"
      ]
     },
     "metadata": {},
     "output_type": "display_data"
    },
    {
     "data": {
      "application/vnd.jupyter.widget-view+json": {
       "model_id": "ab830aa8d365467b8148bd0292c52e3c",
       "version_major": 2,
       "version_minor": 0
      },
      "text/plain": [
       "<LAMBDA> DONE:   0%|          | 0/340 [00:00<?, ?it/s]"
      ]
     },
     "metadata": {},
     "output_type": "display_data"
    },
    {
     "data": {
      "application/vnd.jupyter.widget-view+json": {
       "model_id": "e2847d5f0c5742f98a70cf9724276a90",
       "version_major": 2,
       "version_minor": 0
      },
      "text/plain": [
       "<LAMBDA> DONE:   0%|          | 0/340 [00:00<?, ?it/s]"
      ]
     },
     "metadata": {},
     "output_type": "display_data"
    },
    {
     "data": {
      "application/vnd.jupyter.widget-view+json": {
       "model_id": "a34753bcf1174cb5b771b13111a4f726",
       "version_major": 2,
       "version_minor": 0
      },
      "text/plain": [
       "<LAMBDA> DONE:   0%|          | 0/752 [00:00<?, ?it/s]"
      ]
     },
     "metadata": {},
     "output_type": "display_data"
    },
    {
     "data": {
      "application/vnd.jupyter.widget-view+json": {
       "model_id": "f6d807b2b864424990beb4168e3e46d9",
       "version_major": 2,
       "version_minor": 0
      },
      "text/plain": [
       "<LAMBDA> DONE:   0%|          | 0/752 [00:00<?, ?it/s]"
      ]
     },
     "metadata": {},
     "output_type": "display_data"
    },
    {
     "data": {
      "application/vnd.jupyter.widget-view+json": {
       "model_id": "26b4bcb0e24a453a9c0846aeaf4e966d",
       "version_major": 2,
       "version_minor": 0
      },
      "text/plain": [
       "<LAMBDA> DONE:   0%|          | 0/752 [00:00<?, ?it/s]"
      ]
     },
     "metadata": {},
     "output_type": "display_data"
    },
    {
     "data": {
      "application/vnd.jupyter.widget-view+json": {
       "model_id": "82e9d5ec067946a0aa7f79f8d806c06e",
       "version_major": 2,
       "version_minor": 0
      },
      "text/plain": [
       "<LAMBDA> DONE:   0%|          | 0/710 [00:00<?, ?it/s]"
      ]
     },
     "metadata": {},
     "output_type": "display_data"
    },
    {
     "data": {
      "application/vnd.jupyter.widget-view+json": {
       "model_id": "c0e758b391b143f58e60bbaae0d6bac0",
       "version_major": 2,
       "version_minor": 0
      },
      "text/plain": [
       "<LAMBDA> DONE:   0%|          | 0/710 [00:00<?, ?it/s]"
      ]
     },
     "metadata": {},
     "output_type": "display_data"
    },
    {
     "data": {
      "application/vnd.jupyter.widget-view+json": {
       "model_id": "853d1c479a914964babc88ff203735e3",
       "version_major": 2,
       "version_minor": 0
      },
      "text/plain": [
       "<LAMBDA> DONE:   0%|          | 0/710 [00:00<?, ?it/s]"
      ]
     },
     "metadata": {},
     "output_type": "display_data"
    },
    {
     "data": {
      "application/vnd.jupyter.widget-view+json": {
       "model_id": "3b4b822306dc49e1ab91f4812193b2a3",
       "version_major": 2,
       "version_minor": 0
      },
      "text/plain": [
       "<LAMBDA> DONE:   0%|          | 0/312 [00:00<?, ?it/s]"
      ]
     },
     "metadata": {},
     "output_type": "display_data"
    },
    {
     "data": {
      "application/vnd.jupyter.widget-view+json": {
       "model_id": "b978f660c4de440687d0e210778cf69f",
       "version_major": 2,
       "version_minor": 0
      },
      "text/plain": [
       "<LAMBDA> DONE:   0%|          | 0/312 [00:00<?, ?it/s]"
      ]
     },
     "metadata": {},
     "output_type": "display_data"
    },
    {
     "data": {
      "application/vnd.jupyter.widget-view+json": {
       "model_id": "dd1e34fc1fce42f98e1fc6546b9b5a1f",
       "version_major": 2,
       "version_minor": 0
      },
      "text/plain": [
       "<LAMBDA> DONE:   0%|          | 0/312 [00:00<?, ?it/s]"
      ]
     },
     "metadata": {},
     "output_type": "display_data"
    },
    {
     "data": {
      "application/vnd.jupyter.widget-view+json": {
       "model_id": "a6f5d6bd6ce1472b8418f3528a2ab555",
       "version_major": 2,
       "version_minor": 0
      },
      "text/plain": [
       "<LAMBDA> DONE:   0%|          | 0/2133 [00:00<?, ?it/s]"
      ]
     },
     "metadata": {},
     "output_type": "display_data"
    },
    {
     "data": {
      "application/vnd.jupyter.widget-view+json": {
       "model_id": "54d20ea612db4706a246a953929c9209",
       "version_major": 2,
       "version_minor": 0
      },
      "text/plain": [
       "<LAMBDA> DONE:   0%|          | 0/2133 [00:00<?, ?it/s]"
      ]
     },
     "metadata": {},
     "output_type": "display_data"
    },
    {
     "data": {
      "application/vnd.jupyter.widget-view+json": {
       "model_id": "d7551a715b6f4de7be95eeac9e82686d",
       "version_major": 2,
       "version_minor": 0
      },
      "text/plain": [
       "<LAMBDA> DONE:   0%|          | 0/2133 [00:00<?, ?it/s]"
      ]
     },
     "metadata": {},
     "output_type": "display_data"
    },
    {
     "name": "stderr",
     "output_type": "stream",
     "text": [
      "/tmp/ipykernel_3805226/2830027787.py:60: PerformanceWarning: \n",
      "your performance may suffer as PyTables will pickle object types that it cannot\n",
      "map directly to c-types [inferred_type->mixed,key->block2_values] [items->Index(['sp_tree_tail', 'sp_tree_head', 'ldo_category', 'mdo_category',\n",
      "       'species', 'ldo_gene', 'mdo_gene', 'outgroup_species', 'out_gene'],\n",
      "      dtype='object')]\n",
      "\n",
      "  pd.concat(tmp).to_hdf(f'{RES_PATH}/{key}.h5', sp, complevel=9, complib='zlib')\n"
     ]
    },
    {
     "data": {
      "application/vnd.jupyter.widget-view+json": {
       "model_id": "6d1d23032a8342c4a20a6c3772bb9b61",
       "version_major": 2,
       "version_minor": 0
      },
      "text/plain": [
       "<LAMBDA> DONE:   0%|          | 0/475 [00:00<?, ?it/s]"
      ]
     },
     "metadata": {},
     "output_type": "display_data"
    },
    {
     "data": {
      "application/vnd.jupyter.widget-view+json": {
       "model_id": "7407b400a9b94ccf9ed64fb44decada9",
       "version_major": 2,
       "version_minor": 0
      },
      "text/plain": [
       "<LAMBDA> DONE:   0%|          | 0/475 [00:00<?, ?it/s]"
      ]
     },
     "metadata": {},
     "output_type": "display_data"
    },
    {
     "data": {
      "application/vnd.jupyter.widget-view+json": {
       "model_id": "ee0b2a60413f4dd499fa8b1d9425c88f",
       "version_major": 2,
       "version_minor": 0
      },
      "text/plain": [
       "<LAMBDA> DONE:   0%|          | 0/475 [00:00<?, ?it/s]"
      ]
     },
     "metadata": {},
     "output_type": "display_data"
    },
    {
     "data": {
      "application/vnd.jupyter.widget-view+json": {
       "model_id": "d6b6f6a1960d4a8ca6b6a1e0029bd4d8",
       "version_major": 2,
       "version_minor": 0
      },
      "text/plain": [
       "<LAMBDA> DONE:   0%|          | 0/89 [00:00<?, ?it/s]"
      ]
     },
     "metadata": {},
     "output_type": "display_data"
    },
    {
     "data": {
      "application/vnd.jupyter.widget-view+json": {
       "model_id": "958d92155ae045659217ec125e60c2e4",
       "version_major": 2,
       "version_minor": 0
      },
      "text/plain": [
       "<LAMBDA> DONE:   0%|          | 0/89 [00:00<?, ?it/s]"
      ]
     },
     "metadata": {},
     "output_type": "display_data"
    },
    {
     "data": {
      "application/vnd.jupyter.widget-view+json": {
       "model_id": "85bb32da0a0b472e922dd0672717981a",
       "version_major": 2,
       "version_minor": 0
      },
      "text/plain": [
       "<LAMBDA> DONE:   0%|          | 0/89 [00:00<?, ?it/s]"
      ]
     },
     "metadata": {},
     "output_type": "display_data"
    },
    {
     "data": {
      "application/vnd.jupyter.widget-view+json": {
       "model_id": "392e681c46dd4291ae0781b2c0fd3f57",
       "version_major": 2,
       "version_minor": 0
      },
      "text/plain": [
       "<LAMBDA> DONE:   0%|          | 0/306 [00:00<?, ?it/s]"
      ]
     },
     "metadata": {},
     "output_type": "display_data"
    },
    {
     "data": {
      "application/vnd.jupyter.widget-view+json": {
       "model_id": "d486c602ca9f4cf79159ec80b781f419",
       "version_major": 2,
       "version_minor": 0
      },
      "text/plain": [
       "<LAMBDA> DONE:   0%|          | 0/306 [00:00<?, ?it/s]"
      ]
     },
     "metadata": {},
     "output_type": "display_data"
    },
    {
     "data": {
      "application/vnd.jupyter.widget-view+json": {
       "model_id": "3f7c46beb3f4424f94a699f1264007ac",
       "version_major": 2,
       "version_minor": 0
      },
      "text/plain": [
       "<LAMBDA> DONE:   0%|          | 0/306 [00:00<?, ?it/s]"
      ]
     },
     "metadata": {},
     "output_type": "display_data"
    },
    {
     "data": {
      "application/vnd.jupyter.widget-view+json": {
       "model_id": "66c8a73fc0d0405ab478d5a612a50281",
       "version_major": 2,
       "version_minor": 0
      },
      "text/plain": [
       "<LAMBDA> DONE:   0%|          | 0/986 [00:00<?, ?it/s]"
      ]
     },
     "metadata": {},
     "output_type": "display_data"
    },
    {
     "data": {
      "application/vnd.jupyter.widget-view+json": {
       "model_id": "44ccc119d67b4a16808013f6d71f260b",
       "version_major": 2,
       "version_minor": 0
      },
      "text/plain": [
       "<LAMBDA> DONE:   0%|          | 0/986 [00:00<?, ?it/s]"
      ]
     },
     "metadata": {},
     "output_type": "display_data"
    },
    {
     "data": {
      "application/vnd.jupyter.widget-view+json": {
       "model_id": "f6d28ebaf1fd4c3f98c5f1e4de064ead",
       "version_major": 2,
       "version_minor": 0
      },
      "text/plain": [
       "<LAMBDA> DONE:   0%|          | 0/986 [00:00<?, ?it/s]"
      ]
     },
     "metadata": {},
     "output_type": "display_data"
    },
    {
     "name": "stderr",
     "output_type": "stream",
     "text": [
      "/tmp/ipykernel_3805226/2830027787.py:60: PerformanceWarning: \n",
      "your performance may suffer as PyTables will pickle object types that it cannot\n",
      "map directly to c-types [inferred_type->mixed,key->block2_values] [items->Index(['sp_tree_tail', 'sp_tree_head', 'ldo_category', 'mdo_category',\n",
      "       'species', 'ldo_gene', 'mdo_gene', 'outgroup_species', 'out_gene'],\n",
      "      dtype='object')]\n",
      "\n",
      "  pd.concat(tmp).to_hdf(f'{RES_PATH}/{key}.h5', sp, complevel=9, complib='zlib')\n"
     ]
    },
    {
     "data": {
      "application/vnd.jupyter.widget-view+json": {
       "model_id": "52becf13a4be41558fa323c72b0e3509",
       "version_major": 2,
       "version_minor": 0
      },
      "text/plain": [
       "<LAMBDA> DONE:   0%|          | 0/475 [00:00<?, ?it/s]"
      ]
     },
     "metadata": {},
     "output_type": "display_data"
    },
    {
     "data": {
      "application/vnd.jupyter.widget-view+json": {
       "model_id": "168944351de941eca4c8549f6d5f89fa",
       "version_major": 2,
       "version_minor": 0
      },
      "text/plain": [
       "<LAMBDA> DONE:   0%|          | 0/475 [00:00<?, ?it/s]"
      ]
     },
     "metadata": {},
     "output_type": "display_data"
    },
    {
     "data": {
      "application/vnd.jupyter.widget-view+json": {
       "model_id": "593a225a1d734ae7935ab397a560ebf4",
       "version_major": 2,
       "version_minor": 0
      },
      "text/plain": [
       "<LAMBDA> DONE:   0%|          | 0/475 [00:00<?, ?it/s]"
      ]
     },
     "metadata": {},
     "output_type": "display_data"
    },
    {
     "data": {
      "application/vnd.jupyter.widget-view+json": {
       "model_id": "4805a48b12a849e3ad7195bb4a129d7b",
       "version_major": 2,
       "version_minor": 0
      },
      "text/plain": [
       "<LAMBDA> DONE:   0%|          | 0/89 [00:00<?, ?it/s]"
      ]
     },
     "metadata": {},
     "output_type": "display_data"
    },
    {
     "data": {
      "application/vnd.jupyter.widget-view+json": {
       "model_id": "456a296b208542b2a54e1c2cbbaef04c",
       "version_major": 2,
       "version_minor": 0
      },
      "text/plain": [
       "<LAMBDA> DONE:   0%|          | 0/89 [00:00<?, ?it/s]"
      ]
     },
     "metadata": {},
     "output_type": "display_data"
    },
    {
     "data": {
      "application/vnd.jupyter.widget-view+json": {
       "model_id": "241ff0d2db3f4b9c8015f81b8ef6a991",
       "version_major": 2,
       "version_minor": 0
      },
      "text/plain": [
       "<LAMBDA> DONE:   0%|          | 0/89 [00:00<?, ?it/s]"
      ]
     },
     "metadata": {},
     "output_type": "display_data"
    },
    {
     "data": {
      "application/vnd.jupyter.widget-view+json": {
       "model_id": "0f125be879484ba4979d4cd0bd44515b",
       "version_major": 2,
       "version_minor": 0
      },
      "text/plain": [
       "<LAMBDA> DONE:   0%|          | 0/306 [00:00<?, ?it/s]"
      ]
     },
     "metadata": {},
     "output_type": "display_data"
    },
    {
     "data": {
      "application/vnd.jupyter.widget-view+json": {
       "model_id": "ac0f11e2f9954edeb93ec121b15d7452",
       "version_major": 2,
       "version_minor": 0
      },
      "text/plain": [
       "<LAMBDA> DONE:   0%|          | 0/306 [00:00<?, ?it/s]"
      ]
     },
     "metadata": {},
     "output_type": "display_data"
    },
    {
     "data": {
      "application/vnd.jupyter.widget-view+json": {
       "model_id": "e86fbf8fa81e42e6904d79f336a09046",
       "version_major": 2,
       "version_minor": 0
      },
      "text/plain": [
       "<LAMBDA> DONE:   0%|          | 0/306 [00:00<?, ?it/s]"
      ]
     },
     "metadata": {},
     "output_type": "display_data"
    },
    {
     "data": {
      "application/vnd.jupyter.widget-view+json": {
       "model_id": "0dee424001d341c1a9db2f1c20eb373f",
       "version_major": 2,
       "version_minor": 0
      },
      "text/plain": [
       "<LAMBDA> DONE:   0%|          | 0/986 [00:00<?, ?it/s]"
      ]
     },
     "metadata": {},
     "output_type": "display_data"
    },
    {
     "data": {
      "application/vnd.jupyter.widget-view+json": {
       "model_id": "80b4860bbba9428d81d1beba00b09f26",
       "version_major": 2,
       "version_minor": 0
      },
      "text/plain": [
       "<LAMBDA> DONE:   0%|          | 0/986 [00:00<?, ?it/s]"
      ]
     },
     "metadata": {},
     "output_type": "display_data"
    },
    {
     "data": {
      "application/vnd.jupyter.widget-view+json": {
       "model_id": "898d88271d5346e19667973e28c46db1",
       "version_major": 2,
       "version_minor": 0
      },
      "text/plain": [
       "<LAMBDA> DONE:   0%|          | 0/986 [00:00<?, ?it/s]"
      ]
     },
     "metadata": {},
     "output_type": "display_data"
    },
    {
     "name": "stderr",
     "output_type": "stream",
     "text": [
      "/tmp/ipykernel_3805226/2830027787.py:60: PerformanceWarning: \n",
      "your performance may suffer as PyTables will pickle object types that it cannot\n",
      "map directly to c-types [inferred_type->mixed,key->block2_values] [items->Index(['sp_tree_tail', 'sp_tree_head', 'ldo_category', 'mdo_category',\n",
      "       'species', 'ldo_gene', 'mdo_gene', 'outgroup_species', 'out_gene'],\n",
      "      dtype='object')]\n",
      "\n",
      "  pd.concat(tmp).to_hdf(f'{RES_PATH}/{key}.h5', sp, complevel=9, complib='zlib')\n"
     ]
    },
    {
     "data": {
      "application/vnd.jupyter.widget-view+json": {
       "model_id": "7d4c62caad2c4ccb90719afa63beb991",
       "version_major": 2,
       "version_minor": 0
      },
      "text/plain": [
       "<LAMBDA> DONE:   0%|          | 0/475 [00:00<?, ?it/s]"
      ]
     },
     "metadata": {},
     "output_type": "display_data"
    },
    {
     "data": {
      "application/vnd.jupyter.widget-view+json": {
       "model_id": "9ccab026bcf34952a058da17a54d8efb",
       "version_major": 2,
       "version_minor": 0
      },
      "text/plain": [
       "<LAMBDA> DONE:   0%|          | 0/475 [00:00<?, ?it/s]"
      ]
     },
     "metadata": {},
     "output_type": "display_data"
    },
    {
     "data": {
      "application/vnd.jupyter.widget-view+json": {
       "model_id": "0d74d6cd53404fe4be5169dbb860cb02",
       "version_major": 2,
       "version_minor": 0
      },
      "text/plain": [
       "<LAMBDA> DONE:   0%|          | 0/475 [00:00<?, ?it/s]"
      ]
     },
     "metadata": {},
     "output_type": "display_data"
    },
    {
     "data": {
      "application/vnd.jupyter.widget-view+json": {
       "model_id": "a1e31422d53845d49826bdcb7dcec90e",
       "version_major": 2,
       "version_minor": 0
      },
      "text/plain": [
       "<LAMBDA> DONE:   0%|          | 0/89 [00:00<?, ?it/s]"
      ]
     },
     "metadata": {},
     "output_type": "display_data"
    },
    {
     "data": {
      "application/vnd.jupyter.widget-view+json": {
       "model_id": "0e26552f2b3f4ad1a2693ceecc21a699",
       "version_major": 2,
       "version_minor": 0
      },
      "text/plain": [
       "<LAMBDA> DONE:   0%|          | 0/89 [00:00<?, ?it/s]"
      ]
     },
     "metadata": {},
     "output_type": "display_data"
    },
    {
     "data": {
      "application/vnd.jupyter.widget-view+json": {
       "model_id": "25cc4a21d9334bc08aa7660280741a1c",
       "version_major": 2,
       "version_minor": 0
      },
      "text/plain": [
       "<LAMBDA> DONE:   0%|          | 0/89 [00:00<?, ?it/s]"
      ]
     },
     "metadata": {},
     "output_type": "display_data"
    },
    {
     "data": {
      "application/vnd.jupyter.widget-view+json": {
       "model_id": "884b2df44e354ceeb8dae813c34666fb",
       "version_major": 2,
       "version_minor": 0
      },
      "text/plain": [
       "<LAMBDA> DONE:   0%|          | 0/306 [00:00<?, ?it/s]"
      ]
     },
     "metadata": {},
     "output_type": "display_data"
    },
    {
     "data": {
      "application/vnd.jupyter.widget-view+json": {
       "model_id": "4ec651e1f062495999a21f05aa0ef05c",
       "version_major": 2,
       "version_minor": 0
      },
      "text/plain": [
       "<LAMBDA> DONE:   0%|          | 0/306 [00:00<?, ?it/s]"
      ]
     },
     "metadata": {},
     "output_type": "display_data"
    },
    {
     "data": {
      "application/vnd.jupyter.widget-view+json": {
       "model_id": "c9261d1f1ece49cabab75c388ceff539",
       "version_major": 2,
       "version_minor": 0
      },
      "text/plain": [
       "<LAMBDA> DONE:   0%|          | 0/306 [00:00<?, ?it/s]"
      ]
     },
     "metadata": {},
     "output_type": "display_data"
    },
    {
     "data": {
      "application/vnd.jupyter.widget-view+json": {
       "model_id": "60080dd85911421a8d432968fda4ef7f",
       "version_major": 2,
       "version_minor": 0
      },
      "text/plain": [
       "<LAMBDA> DONE:   0%|          | 0/986 [00:00<?, ?it/s]"
      ]
     },
     "metadata": {},
     "output_type": "display_data"
    },
    {
     "data": {
      "application/vnd.jupyter.widget-view+json": {
       "model_id": "91915a5ad0f14cd69506551d21f7dece",
       "version_major": 2,
       "version_minor": 0
      },
      "text/plain": [
       "<LAMBDA> DONE:   0%|          | 0/986 [00:00<?, ?it/s]"
      ]
     },
     "metadata": {},
     "output_type": "display_data"
    },
    {
     "data": {
      "application/vnd.jupyter.widget-view+json": {
       "model_id": "87a6ed766cab4f61b85abd9c0c1a63fa",
       "version_major": 2,
       "version_minor": 0
      },
      "text/plain": [
       "<LAMBDA> DONE:   0%|          | 0/986 [00:00<?, ?it/s]"
      ]
     },
     "metadata": {},
     "output_type": "display_data"
    },
    {
     "name": "stderr",
     "output_type": "stream",
     "text": [
      "/tmp/ipykernel_3805226/2830027787.py:60: PerformanceWarning: \n",
      "your performance may suffer as PyTables will pickle object types that it cannot\n",
      "map directly to c-types [inferred_type->mixed,key->block2_values] [items->Index(['sp_tree_tail', 'sp_tree_head', 'ldo_category', 'mdo_category',\n",
      "       'species', 'ldo_gene', 'mdo_gene', 'outgroup_species', 'out_gene'],\n",
      "      dtype='object')]\n",
      "\n",
      "  pd.concat(tmp).to_hdf(f'{RES_PATH}/{key}.h5', sp, complevel=9, complib='zlib')\n"
     ]
    },
    {
     "data": {
      "application/vnd.jupyter.widget-view+json": {
       "model_id": "c9e054332ec3486e93039b2b1ad91421",
       "version_major": 2,
       "version_minor": 0
      },
      "text/plain": [
       "<LAMBDA> DONE:   0%|          | 0/545 [00:00<?, ?it/s]"
      ]
     },
     "metadata": {},
     "output_type": "display_data"
    },
    {
     "data": {
      "application/vnd.jupyter.widget-view+json": {
       "model_id": "5b235698d7d74f2da3bb5e279a5f4531",
       "version_major": 2,
       "version_minor": 0
      },
      "text/plain": [
       "<LAMBDA> DONE:   0%|          | 0/545 [00:00<?, ?it/s]"
      ]
     },
     "metadata": {},
     "output_type": "display_data"
    },
    {
     "data": {
      "application/vnd.jupyter.widget-view+json": {
       "model_id": "593f4d03c20344a6a43b27b1c37d2642",
       "version_major": 2,
       "version_minor": 0
      },
      "text/plain": [
       "<LAMBDA> DONE:   0%|          | 0/545 [00:00<?, ?it/s]"
      ]
     },
     "metadata": {},
     "output_type": "display_data"
    },
    {
     "data": {
      "application/vnd.jupyter.widget-view+json": {
       "model_id": "51477b4451584c4da1bf7c4fdf6b3072",
       "version_major": 2,
       "version_minor": 0
      },
      "text/plain": [
       "<LAMBDA> DONE:   0%|          | 0/112 [00:00<?, ?it/s]"
      ]
     },
     "metadata": {},
     "output_type": "display_data"
    },
    {
     "data": {
      "application/vnd.jupyter.widget-view+json": {
       "model_id": "2803909150964d8f918a70012c6632d6",
       "version_major": 2,
       "version_minor": 0
      },
      "text/plain": [
       "<LAMBDA> DONE:   0%|          | 0/112 [00:00<?, ?it/s]"
      ]
     },
     "metadata": {},
     "output_type": "display_data"
    },
    {
     "data": {
      "application/vnd.jupyter.widget-view+json": {
       "model_id": "04b254c8d79b419cbff39920852ea5f7",
       "version_major": 2,
       "version_minor": 0
      },
      "text/plain": [
       "<LAMBDA> DONE:   0%|          | 0/112 [00:00<?, ?it/s]"
      ]
     },
     "metadata": {},
     "output_type": "display_data"
    },
    {
     "data": {
      "application/vnd.jupyter.widget-view+json": {
       "model_id": "6b793167c4f34f70997620b94cfba4fa",
       "version_major": 2,
       "version_minor": 0
      },
      "text/plain": [
       "<LAMBDA> DONE:   0%|          | 0/962 [00:00<?, ?it/s]"
      ]
     },
     "metadata": {},
     "output_type": "display_data"
    },
    {
     "data": {
      "application/vnd.jupyter.widget-view+json": {
       "model_id": "082926fcf7fb48269790c53431380623",
       "version_major": 2,
       "version_minor": 0
      },
      "text/plain": [
       "<LAMBDA> DONE:   0%|          | 0/962 [00:00<?, ?it/s]"
      ]
     },
     "metadata": {},
     "output_type": "display_data"
    },
    {
     "data": {
      "application/vnd.jupyter.widget-view+json": {
       "model_id": "e4d693eed63c4fceae3ae93ee6397c0b",
       "version_major": 2,
       "version_minor": 0
      },
      "text/plain": [
       "<LAMBDA> DONE:   0%|          | 0/962 [00:00<?, ?it/s]"
      ]
     },
     "metadata": {},
     "output_type": "display_data"
    },
    {
     "name": "stderr",
     "output_type": "stream",
     "text": [
      "/tmp/ipykernel_3805226/2830027787.py:60: PerformanceWarning: \n",
      "your performance may suffer as PyTables will pickle object types that it cannot\n",
      "map directly to c-types [inferred_type->mixed,key->block2_values] [items->Index(['sp_tree_tail', 'sp_tree_head', 'ldo_category', 'mdo_category',\n",
      "       'species', 'ldo_gene', 'mdo_gene', 'outgroup_species', 'out_gene'],\n",
      "      dtype='object')]\n",
      "\n",
      "  pd.concat(tmp).to_hdf(f'{RES_PATH}/{key}.h5', sp, complevel=9, complib='zlib')\n"
     ]
    },
    {
     "data": {
      "application/vnd.jupyter.widget-view+json": {
       "model_id": "6c784987c7f64e94bccf65ae25c14aeb",
       "version_major": 2,
       "version_minor": 0
      },
      "text/plain": [
       "<LAMBDA> DONE:   0%|          | 0/545 [00:00<?, ?it/s]"
      ]
     },
     "metadata": {},
     "output_type": "display_data"
    },
    {
     "data": {
      "application/vnd.jupyter.widget-view+json": {
       "model_id": "0a9acf3654b24a50b66c77b1b0cc6c45",
       "version_major": 2,
       "version_minor": 0
      },
      "text/plain": [
       "<LAMBDA> DONE:   0%|          | 0/545 [00:00<?, ?it/s]"
      ]
     },
     "metadata": {},
     "output_type": "display_data"
    },
    {
     "data": {
      "application/vnd.jupyter.widget-view+json": {
       "model_id": "7995b47564ff4106b415a8c95c84d268",
       "version_major": 2,
       "version_minor": 0
      },
      "text/plain": [
       "<LAMBDA> DONE:   0%|          | 0/545 [00:00<?, ?it/s]"
      ]
     },
     "metadata": {},
     "output_type": "display_data"
    },
    {
     "data": {
      "application/vnd.jupyter.widget-view+json": {
       "model_id": "3949b1d238de4389b0c8ba7f6efbc5b9",
       "version_major": 2,
       "version_minor": 0
      },
      "text/plain": [
       "<LAMBDA> DONE:   0%|          | 0/112 [00:00<?, ?it/s]"
      ]
     },
     "metadata": {},
     "output_type": "display_data"
    },
    {
     "data": {
      "application/vnd.jupyter.widget-view+json": {
       "model_id": "a1933cafdd234c598975e80dfaad97f8",
       "version_major": 2,
       "version_minor": 0
      },
      "text/plain": [
       "<LAMBDA> DONE:   0%|          | 0/112 [00:00<?, ?it/s]"
      ]
     },
     "metadata": {},
     "output_type": "display_data"
    },
    {
     "data": {
      "application/vnd.jupyter.widget-view+json": {
       "model_id": "4737f91b97374fcbb8902229d15fd22b",
       "version_major": 2,
       "version_minor": 0
      },
      "text/plain": [
       "<LAMBDA> DONE:   0%|          | 0/112 [00:00<?, ?it/s]"
      ]
     },
     "metadata": {},
     "output_type": "display_data"
    },
    {
     "data": {
      "application/vnd.jupyter.widget-view+json": {
       "model_id": "77a84b1426414908a7cd4178ee530165",
       "version_major": 2,
       "version_minor": 0
      },
      "text/plain": [
       "<LAMBDA> DONE:   0%|          | 0/962 [00:00<?, ?it/s]"
      ]
     },
     "metadata": {},
     "output_type": "display_data"
    },
    {
     "data": {
      "application/vnd.jupyter.widget-view+json": {
       "model_id": "229f51f7752546f0bd6cc576e05c835f",
       "version_major": 2,
       "version_minor": 0
      },
      "text/plain": [
       "<LAMBDA> DONE:   0%|          | 0/962 [00:00<?, ?it/s]"
      ]
     },
     "metadata": {},
     "output_type": "display_data"
    },
    {
     "data": {
      "application/vnd.jupyter.widget-view+json": {
       "model_id": "80d9a216bec24c0bb35659f4789f19cd",
       "version_major": 2,
       "version_minor": 0
      },
      "text/plain": [
       "<LAMBDA> DONE:   0%|          | 0/962 [00:00<?, ?it/s]"
      ]
     },
     "metadata": {},
     "output_type": "display_data"
    },
    {
     "name": "stderr",
     "output_type": "stream",
     "text": [
      "/tmp/ipykernel_3805226/2830027787.py:60: PerformanceWarning: \n",
      "your performance may suffer as PyTables will pickle object types that it cannot\n",
      "map directly to c-types [inferred_type->mixed,key->block2_values] [items->Index(['sp_tree_tail', 'sp_tree_head', 'ldo_category', 'mdo_category',\n",
      "       'species', 'ldo_gene', 'mdo_gene', 'outgroup_species', 'out_gene'],\n",
      "      dtype='object')]\n",
      "\n",
      "  pd.concat(tmp).to_hdf(f'{RES_PATH}/{key}.h5', sp, complevel=9, complib='zlib')\n"
     ]
    },
    {
     "data": {
      "application/vnd.jupyter.widget-view+json": {
       "model_id": "bd5c001dd0cd4f5687173d231c7fde79",
       "version_major": 2,
       "version_minor": 0
      },
      "text/plain": [
       "<LAMBDA> DONE:   0%|          | 0/545 [00:00<?, ?it/s]"
      ]
     },
     "metadata": {},
     "output_type": "display_data"
    },
    {
     "data": {
      "application/vnd.jupyter.widget-view+json": {
       "model_id": "24c778d062ae4bf7989d14d9790b1f3f",
       "version_major": 2,
       "version_minor": 0
      },
      "text/plain": [
       "<LAMBDA> DONE:   0%|          | 0/545 [00:00<?, ?it/s]"
      ]
     },
     "metadata": {},
     "output_type": "display_data"
    },
    {
     "data": {
      "application/vnd.jupyter.widget-view+json": {
       "model_id": "c167fefb42774b2b9c5aef9fe7d9879e",
       "version_major": 2,
       "version_minor": 0
      },
      "text/plain": [
       "<LAMBDA> DONE:   0%|          | 0/545 [00:00<?, ?it/s]"
      ]
     },
     "metadata": {},
     "output_type": "display_data"
    },
    {
     "data": {
      "application/vnd.jupyter.widget-view+json": {
       "model_id": "07d584a9ee54455ea8c142dec2de3f32",
       "version_major": 2,
       "version_minor": 0
      },
      "text/plain": [
       "<LAMBDA> DONE:   0%|          | 0/112 [00:00<?, ?it/s]"
      ]
     },
     "metadata": {},
     "output_type": "display_data"
    },
    {
     "data": {
      "application/vnd.jupyter.widget-view+json": {
       "model_id": "aca968829f714d2ea79447347f6fafbb",
       "version_major": 2,
       "version_minor": 0
      },
      "text/plain": [
       "<LAMBDA> DONE:   0%|          | 0/112 [00:00<?, ?it/s]"
      ]
     },
     "metadata": {},
     "output_type": "display_data"
    },
    {
     "data": {
      "application/vnd.jupyter.widget-view+json": {
       "model_id": "691778cf8c234abe829805a3a4a1843c",
       "version_major": 2,
       "version_minor": 0
      },
      "text/plain": [
       "<LAMBDA> DONE:   0%|          | 0/112 [00:00<?, ?it/s]"
      ]
     },
     "metadata": {},
     "output_type": "display_data"
    },
    {
     "data": {
      "application/vnd.jupyter.widget-view+json": {
       "model_id": "0e6ecc5b2c8140559aaeed4c15809b73",
       "version_major": 2,
       "version_minor": 0
      },
      "text/plain": [
       "<LAMBDA> DONE:   0%|          | 0/962 [00:00<?, ?it/s]"
      ]
     },
     "metadata": {},
     "output_type": "display_data"
    },
    {
     "data": {
      "application/vnd.jupyter.widget-view+json": {
       "model_id": "577c41a3415c476984639b828c86b3ab",
       "version_major": 2,
       "version_minor": 0
      },
      "text/plain": [
       "<LAMBDA> DONE:   0%|          | 0/962 [00:00<?, ?it/s]"
      ]
     },
     "metadata": {},
     "output_type": "display_data"
    },
    {
     "data": {
      "application/vnd.jupyter.widget-view+json": {
       "model_id": "891eb353903d4ed4aa41df56db0fda47",
       "version_major": 2,
       "version_minor": 0
      },
      "text/plain": [
       "<LAMBDA> DONE:   0%|          | 0/962 [00:00<?, ?it/s]"
      ]
     },
     "metadata": {},
     "output_type": "display_data"
    },
    {
     "name": "stderr",
     "output_type": "stream",
     "text": [
      "/tmp/ipykernel_3805226/2830027787.py:60: PerformanceWarning: \n",
      "your performance may suffer as PyTables will pickle object types that it cannot\n",
      "map directly to c-types [inferred_type->mixed,key->block2_values] [items->Index(['sp_tree_tail', 'sp_tree_head', 'ldo_category', 'mdo_category',\n",
      "       'species', 'ldo_gene', 'mdo_gene', 'outgroup_species', 'out_gene'],\n",
      "      dtype='object')]\n",
      "\n",
      "  pd.concat(tmp).to_hdf(f'{RES_PATH}/{key}.h5', sp, complevel=9, complib='zlib')\n"
     ]
    },
    {
     "data": {
      "application/vnd.jupyter.widget-view+json": {
       "model_id": "c3e5be8cb18946f4bda72fecd139c083",
       "version_major": 2,
       "version_minor": 0
      },
      "text/plain": [
       "<LAMBDA> DONE:   0%|          | 0/909 [00:00<?, ?it/s]"
      ]
     },
     "metadata": {},
     "output_type": "display_data"
    },
    {
     "data": {
      "application/vnd.jupyter.widget-view+json": {
       "model_id": "5dd3771749ad4fa68acb24256e440151",
       "version_major": 2,
       "version_minor": 0
      },
      "text/plain": [
       "<LAMBDA> DONE:   0%|          | 0/909 [00:00<?, ?it/s]"
      ]
     },
     "metadata": {},
     "output_type": "display_data"
    },
    {
     "data": {
      "application/vnd.jupyter.widget-view+json": {
       "model_id": "d28ba823107f4670b401cfbffd8eb3d1",
       "version_major": 2,
       "version_minor": 0
      },
      "text/plain": [
       "<LAMBDA> DONE:   0%|          | 0/909 [00:00<?, ?it/s]"
      ]
     },
     "metadata": {},
     "output_type": "display_data"
    },
    {
     "data": {
      "application/vnd.jupyter.widget-view+json": {
       "model_id": "03e66a5e5882458b9eeed07fa589fc34",
       "version_major": 2,
       "version_minor": 0
      },
      "text/plain": [
       "<LAMBDA> DONE:   0%|          | 0/134 [00:00<?, ?it/s]"
      ]
     },
     "metadata": {},
     "output_type": "display_data"
    },
    {
     "data": {
      "application/vnd.jupyter.widget-view+json": {
       "model_id": "ba76095a02d6489387eaff39cc0f3860",
       "version_major": 2,
       "version_minor": 0
      },
      "text/plain": [
       "<LAMBDA> DONE:   0%|          | 0/134 [00:00<?, ?it/s]"
      ]
     },
     "metadata": {},
     "output_type": "display_data"
    },
    {
     "data": {
      "application/vnd.jupyter.widget-view+json": {
       "model_id": "45ad84ec20ab46939046448a27c874ae",
       "version_major": 2,
       "version_minor": 0
      },
      "text/plain": [
       "<LAMBDA> DONE:   0%|          | 0/134 [00:00<?, ?it/s]"
      ]
     },
     "metadata": {},
     "output_type": "display_data"
    },
    {
     "data": {
      "application/vnd.jupyter.widget-view+json": {
       "model_id": "87b02660240e481eb10b5f2526c473f2",
       "version_major": 2,
       "version_minor": 0
      },
      "text/plain": [
       "<LAMBDA> DONE:   0%|          | 0/148 [00:00<?, ?it/s]"
      ]
     },
     "metadata": {},
     "output_type": "display_data"
    },
    {
     "data": {
      "application/vnd.jupyter.widget-view+json": {
       "model_id": "daa95a8ae9a146099a5c35eeb22794cd",
       "version_major": 2,
       "version_minor": 0
      },
      "text/plain": [
       "<LAMBDA> DONE:   0%|          | 0/148 [00:00<?, ?it/s]"
      ]
     },
     "metadata": {},
     "output_type": "display_data"
    },
    {
     "data": {
      "application/vnd.jupyter.widget-view+json": {
       "model_id": "43e6a546b15c45b6a2e753ce74d5b9a7",
       "version_major": 2,
       "version_minor": 0
      },
      "text/plain": [
       "<LAMBDA> DONE:   0%|          | 0/148 [00:00<?, ?it/s]"
      ]
     },
     "metadata": {},
     "output_type": "display_data"
    },
    {
     "data": {
      "application/vnd.jupyter.widget-view+json": {
       "model_id": "1f69f16964d04bc1bce883e5ef9cf8eb",
       "version_major": 2,
       "version_minor": 0
      },
      "text/plain": [
       "<LAMBDA> DONE:   0%|          | 0/1464 [00:00<?, ?it/s]"
      ]
     },
     "metadata": {},
     "output_type": "display_data"
    },
    {
     "data": {
      "application/vnd.jupyter.widget-view+json": {
       "model_id": "d59794448f3741848529d53d7a08d3d3",
       "version_major": 2,
       "version_minor": 0
      },
      "text/plain": [
       "<LAMBDA> DONE:   0%|          | 0/1464 [00:00<?, ?it/s]"
      ]
     },
     "metadata": {},
     "output_type": "display_data"
    },
    {
     "data": {
      "application/vnd.jupyter.widget-view+json": {
       "model_id": "a06082e8b0c9494d8c0dd905f4fa0ebc",
       "version_major": 2,
       "version_minor": 0
      },
      "text/plain": [
       "<LAMBDA> DONE:   0%|          | 0/1464 [00:00<?, ?it/s]"
      ]
     },
     "metadata": {},
     "output_type": "display_data"
    },
    {
     "data": {
      "application/vnd.jupyter.widget-view+json": {
       "model_id": "e96c7c4cd56e460498bef23922026ec9",
       "version_major": 2,
       "version_minor": 0
      },
      "text/plain": [
       "<LAMBDA> DONE:   0%|          | 0/572 [00:00<?, ?it/s]"
      ]
     },
     "metadata": {},
     "output_type": "display_data"
    },
    {
     "data": {
      "application/vnd.jupyter.widget-view+json": {
       "model_id": "8339d15ffb0a465e87f757b51ea502a8",
       "version_major": 2,
       "version_minor": 0
      },
      "text/plain": [
       "<LAMBDA> DONE:   0%|          | 0/572 [00:00<?, ?it/s]"
      ]
     },
     "metadata": {},
     "output_type": "display_data"
    },
    {
     "data": {
      "application/vnd.jupyter.widget-view+json": {
       "model_id": "b3915f845236496c8a3ae0139249e946",
       "version_major": 2,
       "version_minor": 0
      },
      "text/plain": [
       "<LAMBDA> DONE:   0%|          | 0/572 [00:00<?, ?it/s]"
      ]
     },
     "metadata": {},
     "output_type": "display_data"
    },
    {
     "data": {
      "application/vnd.jupyter.widget-view+json": {
       "model_id": "029efab665214b6c9122799a85772097",
       "version_major": 2,
       "version_minor": 0
      },
      "text/plain": [
       "<LAMBDA> DONE:   0%|          | 0/69 [00:00<?, ?it/s]"
      ]
     },
     "metadata": {},
     "output_type": "display_data"
    },
    {
     "data": {
      "application/vnd.jupyter.widget-view+json": {
       "model_id": "69dcc07db8da4591908a3472009d39fd",
       "version_major": 2,
       "version_minor": 0
      },
      "text/plain": [
       "<LAMBDA> DONE:   0%|          | 0/69 [00:00<?, ?it/s]"
      ]
     },
     "metadata": {},
     "output_type": "display_data"
    },
    {
     "data": {
      "application/vnd.jupyter.widget-view+json": {
       "model_id": "950ed0e977a9471aa2445079f3b398be",
       "version_major": 2,
       "version_minor": 0
      },
      "text/plain": [
       "<LAMBDA> DONE:   0%|          | 0/69 [00:00<?, ?it/s]"
      ]
     },
     "metadata": {},
     "output_type": "display_data"
    },
    {
     "data": {
      "application/vnd.jupyter.widget-view+json": {
       "model_id": "adaaf54a01944282b49a90a7a2c687ea",
       "version_major": 2,
       "version_minor": 0
      },
      "text/plain": [
       "<LAMBDA> DONE:   0%|          | 0/4426 [00:00<?, ?it/s]"
      ]
     },
     "metadata": {},
     "output_type": "display_data"
    },
    {
     "data": {
      "application/vnd.jupyter.widget-view+json": {
       "model_id": "9d0bf52b11af42058eeaa4439f5ecd10",
       "version_major": 2,
       "version_minor": 0
      },
      "text/plain": [
       "<LAMBDA> DONE:   0%|          | 0/4426 [00:00<?, ?it/s]"
      ]
     },
     "metadata": {},
     "output_type": "display_data"
    },
    {
     "data": {
      "application/vnd.jupyter.widget-view+json": {
       "model_id": "4ca839a411e34bfb8e67ddf537c8543b",
       "version_major": 2,
       "version_minor": 0
      },
      "text/plain": [
       "<LAMBDA> DONE:   0%|          | 0/4426 [00:00<?, ?it/s]"
      ]
     },
     "metadata": {},
     "output_type": "display_data"
    },
    {
     "name": "stderr",
     "output_type": "stream",
     "text": [
      "/tmp/ipykernel_3805226/2830027787.py:60: PerformanceWarning: \n",
      "your performance may suffer as PyTables will pickle object types that it cannot\n",
      "map directly to c-types [inferred_type->mixed,key->block2_values] [items->Index(['sp_tree_tail', 'sp_tree_head', 'ldo_category', 'mdo_category',\n",
      "       'species', 'ldo_gene', 'mdo_gene', 'outgroup_species', 'out_gene'],\n",
      "      dtype='object')]\n",
      "\n",
      "  pd.concat(tmp).to_hdf(f'{RES_PATH}/{key}.h5', sp, complevel=9, complib='zlib')\n"
     ]
    },
    {
     "data": {
      "application/vnd.jupyter.widget-view+json": {
       "model_id": "fc649ab7af2b4252b2365eb68163ff06",
       "version_major": 2,
       "version_minor": 0
      },
      "text/plain": [
       "<LAMBDA> DONE:   0%|          | 0/909 [00:00<?, ?it/s]"
      ]
     },
     "metadata": {},
     "output_type": "display_data"
    },
    {
     "data": {
      "application/vnd.jupyter.widget-view+json": {
       "model_id": "2fbbb758a65647aa8280944b61b7f927",
       "version_major": 2,
       "version_minor": 0
      },
      "text/plain": [
       "<LAMBDA> DONE:   0%|          | 0/909 [00:00<?, ?it/s]"
      ]
     },
     "metadata": {},
     "output_type": "display_data"
    },
    {
     "data": {
      "application/vnd.jupyter.widget-view+json": {
       "model_id": "40624c6e5b8343aa8603db2ca2f2a2a1",
       "version_major": 2,
       "version_minor": 0
      },
      "text/plain": [
       "<LAMBDA> DONE:   0%|          | 0/909 [00:00<?, ?it/s]"
      ]
     },
     "metadata": {},
     "output_type": "display_data"
    },
    {
     "data": {
      "application/vnd.jupyter.widget-view+json": {
       "model_id": "a82ec69ec02d4d0aa154fd777dad17e0",
       "version_major": 2,
       "version_minor": 0
      },
      "text/plain": [
       "<LAMBDA> DONE:   0%|          | 0/148 [00:00<?, ?it/s]"
      ]
     },
     "metadata": {},
     "output_type": "display_data"
    },
    {
     "data": {
      "application/vnd.jupyter.widget-view+json": {
       "model_id": "aa2241d6019840648023eb25a44aad11",
       "version_major": 2,
       "version_minor": 0
      },
      "text/plain": [
       "<LAMBDA> DONE:   0%|          | 0/148 [00:00<?, ?it/s]"
      ]
     },
     "metadata": {},
     "output_type": "display_data"
    },
    {
     "data": {
      "application/vnd.jupyter.widget-view+json": {
       "model_id": "114d9e5f686e4e198bccc226b9e4ba63",
       "version_major": 2,
       "version_minor": 0
      },
      "text/plain": [
       "<LAMBDA> DONE:   0%|          | 0/148 [00:00<?, ?it/s]"
      ]
     },
     "metadata": {},
     "output_type": "display_data"
    },
    {
     "data": {
      "application/vnd.jupyter.widget-view+json": {
       "model_id": "3d35929783c542118cb549b715dafac8",
       "version_major": 2,
       "version_minor": 0
      },
      "text/plain": [
       "<LAMBDA> DONE:   0%|          | 0/1464 [00:00<?, ?it/s]"
      ]
     },
     "metadata": {},
     "output_type": "display_data"
    },
    {
     "data": {
      "application/vnd.jupyter.widget-view+json": {
       "model_id": "fd8ee18bc2694044b58b1124bc4b7823",
       "version_major": 2,
       "version_minor": 0
      },
      "text/plain": [
       "<LAMBDA> DONE:   0%|          | 0/1464 [00:00<?, ?it/s]"
      ]
     },
     "metadata": {},
     "output_type": "display_data"
    },
    {
     "data": {
      "application/vnd.jupyter.widget-view+json": {
       "model_id": "b29093076fe74ea4976e99786580fc6d",
       "version_major": 2,
       "version_minor": 0
      },
      "text/plain": [
       "<LAMBDA> DONE:   0%|          | 0/1464 [00:00<?, ?it/s]"
      ]
     },
     "metadata": {},
     "output_type": "display_data"
    },
    {
     "data": {
      "application/vnd.jupyter.widget-view+json": {
       "model_id": "0a880e55cc184b48b6273e6859e6f337",
       "version_major": 2,
       "version_minor": 0
      },
      "text/plain": [
       "<LAMBDA> DONE:   0%|          | 0/572 [00:00<?, ?it/s]"
      ]
     },
     "metadata": {},
     "output_type": "display_data"
    },
    {
     "data": {
      "application/vnd.jupyter.widget-view+json": {
       "model_id": "687b4e9c426643f6acaa3addca7678d1",
       "version_major": 2,
       "version_minor": 0
      },
      "text/plain": [
       "<LAMBDA> DONE:   0%|          | 0/572 [00:00<?, ?it/s]"
      ]
     },
     "metadata": {},
     "output_type": "display_data"
    },
    {
     "data": {
      "application/vnd.jupyter.widget-view+json": {
       "model_id": "195d5c3d3b5c4512bc2ff7dbe5051f57",
       "version_major": 2,
       "version_minor": 0
      },
      "text/plain": [
       "<LAMBDA> DONE:   0%|          | 0/572 [00:00<?, ?it/s]"
      ]
     },
     "metadata": {},
     "output_type": "display_data"
    },
    {
     "data": {
      "application/vnd.jupyter.widget-view+json": {
       "model_id": "e70a08d18b39462fa1c2e65f9daad3a2",
       "version_major": 2,
       "version_minor": 0
      },
      "text/plain": [
       "<LAMBDA> DONE:   0%|          | 0/69 [00:00<?, ?it/s]"
      ]
     },
     "metadata": {},
     "output_type": "display_data"
    },
    {
     "data": {
      "application/vnd.jupyter.widget-view+json": {
       "model_id": "0278916396534eff8167350e70970627",
       "version_major": 2,
       "version_minor": 0
      },
      "text/plain": [
       "<LAMBDA> DONE:   0%|          | 0/69 [00:00<?, ?it/s]"
      ]
     },
     "metadata": {},
     "output_type": "display_data"
    },
    {
     "data": {
      "application/vnd.jupyter.widget-view+json": {
       "model_id": "1845db8357a340289823b8baf128b93b",
       "version_major": 2,
       "version_minor": 0
      },
      "text/plain": [
       "<LAMBDA> DONE:   0%|          | 0/69 [00:00<?, ?it/s]"
      ]
     },
     "metadata": {},
     "output_type": "display_data"
    },
    {
     "data": {
      "application/vnd.jupyter.widget-view+json": {
       "model_id": "45cd6262245e4ddc99eed2e3d22f1fc3",
       "version_major": 2,
       "version_minor": 0
      },
      "text/plain": [
       "<LAMBDA> DONE:   0%|          | 0/4426 [00:00<?, ?it/s]"
      ]
     },
     "metadata": {},
     "output_type": "display_data"
    },
    {
     "data": {
      "application/vnd.jupyter.widget-view+json": {
       "model_id": "753a936d5930480b8642c86bb8125ee8",
       "version_major": 2,
       "version_minor": 0
      },
      "text/plain": [
       "<LAMBDA> DONE:   0%|          | 0/4426 [00:00<?, ?it/s]"
      ]
     },
     "metadata": {},
     "output_type": "display_data"
    },
    {
     "data": {
      "application/vnd.jupyter.widget-view+json": {
       "model_id": "b741bb51d0a94b92b3b97b55fb283a60",
       "version_major": 2,
       "version_minor": 0
      },
      "text/plain": [
       "<LAMBDA> DONE:   0%|          | 0/4426 [00:00<?, ?it/s]"
      ]
     },
     "metadata": {},
     "output_type": "display_data"
    },
    {
     "name": "stderr",
     "output_type": "stream",
     "text": [
      "/tmp/ipykernel_3805226/2830027787.py:60: FutureWarning: The behavior of DataFrame concatenation with empty or all-NA entries is deprecated. In a future version, this will no longer exclude empty or all-NA columns when determining the result dtypes. To retain the old behavior, exclude the relevant entries before the concat operation.\n",
      "  pd.concat(tmp).to_hdf(f'{RES_PATH}/{key}.h5', sp, complevel=9, complib='zlib')\n",
      "/tmp/ipykernel_3805226/2830027787.py:60: PerformanceWarning: \n",
      "your performance may suffer as PyTables will pickle object types that it cannot\n",
      "map directly to c-types [inferred_type->mixed,key->block2_values] [items->Index(['sp_tree_tail', 'sp_tree_head', 'ldo_category', 'mdo_category',\n",
      "       'species', 'ldo_gene', 'mdo_gene', 'outgroup_species', 'out_gene'],\n",
      "      dtype='object')]\n",
      "\n",
      "  pd.concat(tmp).to_hdf(f'{RES_PATH}/{key}.h5', sp, complevel=9, complib='zlib')\n"
     ]
    },
    {
     "data": {
      "application/vnd.jupyter.widget-view+json": {
       "model_id": "3613fcef7df343ec908a18d43dcc302f",
       "version_major": 2,
       "version_minor": 0
      },
      "text/plain": [
       "<LAMBDA> DONE:   0%|          | 0/261 [00:00<?, ?it/s]"
      ]
     },
     "metadata": {},
     "output_type": "display_data"
    },
    {
     "data": {
      "application/vnd.jupyter.widget-view+json": {
       "model_id": "29771badad7f4f699bf7fc27fc4e1220",
       "version_major": 2,
       "version_minor": 0
      },
      "text/plain": [
       "<LAMBDA> DONE:   0%|          | 0/261 [00:00<?, ?it/s]"
      ]
     },
     "metadata": {},
     "output_type": "display_data"
    },
    {
     "data": {
      "application/vnd.jupyter.widget-view+json": {
       "model_id": "7e0e7738289d4e6ba1c3baa308ac4e4d",
       "version_major": 2,
       "version_minor": 0
      },
      "text/plain": [
       "<LAMBDA> DONE:   0%|          | 0/261 [00:00<?, ?it/s]"
      ]
     },
     "metadata": {},
     "output_type": "display_data"
    },
    {
     "data": {
      "application/vnd.jupyter.widget-view+json": {
       "model_id": "6c86726e6c0041809646ab6f27d2b929",
       "version_major": 2,
       "version_minor": 0
      },
      "text/plain": [
       "<LAMBDA> DONE:   0%|          | 0/99 [00:00<?, ?it/s]"
      ]
     },
     "metadata": {},
     "output_type": "display_data"
    },
    {
     "data": {
      "application/vnd.jupyter.widget-view+json": {
       "model_id": "26f449f1ff0e438295ea6cf180206e3e",
       "version_major": 2,
       "version_minor": 0
      },
      "text/plain": [
       "<LAMBDA> DONE:   0%|          | 0/99 [00:00<?, ?it/s]"
      ]
     },
     "metadata": {},
     "output_type": "display_data"
    },
    {
     "data": {
      "application/vnd.jupyter.widget-view+json": {
       "model_id": "e835d81771d842019b2c8598b660c3c8",
       "version_major": 2,
       "version_minor": 0
      },
      "text/plain": [
       "<LAMBDA> DONE:   0%|          | 0/99 [00:00<?, ?it/s]"
      ]
     },
     "metadata": {},
     "output_type": "display_data"
    },
    {
     "data": {
      "application/vnd.jupyter.widget-view+json": {
       "model_id": "ca7f30fb1c504c00a3daff400c1a27e2",
       "version_major": 2,
       "version_minor": 0
      },
      "text/plain": [
       "<LAMBDA> DONE:   0%|          | 0/131 [00:00<?, ?it/s]"
      ]
     },
     "metadata": {},
     "output_type": "display_data"
    },
    {
     "data": {
      "application/vnd.jupyter.widget-view+json": {
       "model_id": "34728c39df994f928db2adea0e928ce5",
       "version_major": 2,
       "version_minor": 0
      },
      "text/plain": [
       "<LAMBDA> DONE:   0%|          | 0/131 [00:00<?, ?it/s]"
      ]
     },
     "metadata": {},
     "output_type": "display_data"
    },
    {
     "data": {
      "application/vnd.jupyter.widget-view+json": {
       "model_id": "9ef26a3c8da4481b8c0bed347b21f27f",
       "version_major": 2,
       "version_minor": 0
      },
      "text/plain": [
       "<LAMBDA> DONE:   0%|          | 0/131 [00:00<?, ?it/s]"
      ]
     },
     "metadata": {},
     "output_type": "display_data"
    },
    {
     "data": {
      "application/vnd.jupyter.widget-view+json": {
       "model_id": "c5bc931b569b4e80ba946f7990da0f93",
       "version_major": 2,
       "version_minor": 0
      },
      "text/plain": [
       "<LAMBDA> DONE:   0%|          | 0/54 [00:00<?, ?it/s]"
      ]
     },
     "metadata": {},
     "output_type": "display_data"
    },
    {
     "data": {
      "application/vnd.jupyter.widget-view+json": {
       "model_id": "812e19db2d91427295ba1d12a67531b4",
       "version_major": 2,
       "version_minor": 0
      },
      "text/plain": [
       "<LAMBDA> DONE:   0%|          | 0/54 [00:00<?, ?it/s]"
      ]
     },
     "metadata": {},
     "output_type": "display_data"
    },
    {
     "data": {
      "application/vnd.jupyter.widget-view+json": {
       "model_id": "376f4e9679264dedbdab6fcd37749bb0",
       "version_major": 2,
       "version_minor": 0
      },
      "text/plain": [
       "<LAMBDA> DONE:   0%|          | 0/54 [00:00<?, ?it/s]"
      ]
     },
     "metadata": {},
     "output_type": "display_data"
    },
    {
     "data": {
      "application/vnd.jupyter.widget-view+json": {
       "model_id": "4d3984efc33f422c80d8ea1799b7c5e0",
       "version_major": 2,
       "version_minor": 0
      },
      "text/plain": [
       "<LAMBDA> DONE:   0%|          | 0/1389 [00:00<?, ?it/s]"
      ]
     },
     "metadata": {},
     "output_type": "display_data"
    },
    {
     "data": {
      "application/vnd.jupyter.widget-view+json": {
       "model_id": "66f708474cc8425cb98d1ee77223facc",
       "version_major": 2,
       "version_minor": 0
      },
      "text/plain": [
       "<LAMBDA> DONE:   0%|          | 0/1389 [00:00<?, ?it/s]"
      ]
     },
     "metadata": {},
     "output_type": "display_data"
    },
    {
     "data": {
      "application/vnd.jupyter.widget-view+json": {
       "model_id": "c2cef634b92c414bb1f365258c370351",
       "version_major": 2,
       "version_minor": 0
      },
      "text/plain": [
       "<LAMBDA> DONE:   0%|          | 0/1389 [00:00<?, ?it/s]"
      ]
     },
     "metadata": {},
     "output_type": "display_data"
    },
    {
     "data": {
      "application/vnd.jupyter.widget-view+json": {
       "model_id": "57c4bd9c74074c0393d088993c0b9738",
       "version_major": 2,
       "version_minor": 0
      },
      "text/plain": [
       "<LAMBDA> DONE:   0%|          | 0/318 [00:00<?, ?it/s]"
      ]
     },
     "metadata": {},
     "output_type": "display_data"
    },
    {
     "data": {
      "application/vnd.jupyter.widget-view+json": {
       "model_id": "9ecaaf892f394515956a7f7e8ee03595",
       "version_major": 2,
       "version_minor": 0
      },
      "text/plain": [
       "<LAMBDA> DONE:   0%|          | 0/318 [00:00<?, ?it/s]"
      ]
     },
     "metadata": {},
     "output_type": "display_data"
    },
    {
     "data": {
      "application/vnd.jupyter.widget-view+json": {
       "model_id": "9cbcd4d75d0d4e84a86a60615cd917f7",
       "version_major": 2,
       "version_minor": 0
      },
      "text/plain": [
       "<LAMBDA> DONE:   0%|          | 0/318 [00:00<?, ?it/s]"
      ]
     },
     "metadata": {},
     "output_type": "display_data"
    },
    {
     "data": {
      "application/vnd.jupyter.widget-view+json": {
       "model_id": "2178a7b8dcc64c3c82d486d7565ec460",
       "version_major": 2,
       "version_minor": 0
      },
      "text/plain": [
       "<LAMBDA> DONE:   0%|          | 0/997 [00:00<?, ?it/s]"
      ]
     },
     "metadata": {},
     "output_type": "display_data"
    },
    {
     "data": {
      "application/vnd.jupyter.widget-view+json": {
       "model_id": "9cd6481a84d246a59228769cd169023d",
       "version_major": 2,
       "version_minor": 0
      },
      "text/plain": [
       "<LAMBDA> DONE:   0%|          | 0/997 [00:00<?, ?it/s]"
      ]
     },
     "metadata": {},
     "output_type": "display_data"
    },
    {
     "data": {
      "application/vnd.jupyter.widget-view+json": {
       "model_id": "03fba3456a1f4893a9da4b333c7d2f85",
       "version_major": 2,
       "version_minor": 0
      },
      "text/plain": [
       "<LAMBDA> DONE:   0%|          | 0/997 [00:00<?, ?it/s]"
      ]
     },
     "metadata": {},
     "output_type": "display_data"
    },
    {
     "data": {
      "application/vnd.jupyter.widget-view+json": {
       "model_id": "e3b9679f84d44921b5c662da6b2f6a2e",
       "version_major": 2,
       "version_minor": 0
      },
      "text/plain": [
       "<LAMBDA> DONE:   0%|          | 0/723 [00:00<?, ?it/s]"
      ]
     },
     "metadata": {},
     "output_type": "display_data"
    },
    {
     "data": {
      "application/vnd.jupyter.widget-view+json": {
       "model_id": "894c70858bae4e2284457470a6b9b552",
       "version_major": 2,
       "version_minor": 0
      },
      "text/plain": [
       "<LAMBDA> DONE:   0%|          | 0/723 [00:00<?, ?it/s]"
      ]
     },
     "metadata": {},
     "output_type": "display_data"
    },
    {
     "data": {
      "application/vnd.jupyter.widget-view+json": {
       "model_id": "3a4363578ac24bac823ff2e8ee331263",
       "version_major": 2,
       "version_minor": 0
      },
      "text/plain": [
       "<LAMBDA> DONE:   0%|          | 0/723 [00:00<?, ?it/s]"
      ]
     },
     "metadata": {},
     "output_type": "display_data"
    },
    {
     "data": {
      "application/vnd.jupyter.widget-view+json": {
       "model_id": "70946c63b671412ca4630b989d5ee8d0",
       "version_major": 2,
       "version_minor": 0
      },
      "text/plain": [
       "<LAMBDA> DONE:   0%|          | 0/266 [00:00<?, ?it/s]"
      ]
     },
     "metadata": {},
     "output_type": "display_data"
    },
    {
     "data": {
      "application/vnd.jupyter.widget-view+json": {
       "model_id": "92c2999826f84e46a9ea780bb36157e0",
       "version_major": 2,
       "version_minor": 0
      },
      "text/plain": [
       "<LAMBDA> DONE:   0%|          | 0/266 [00:00<?, ?it/s]"
      ]
     },
     "metadata": {},
     "output_type": "display_data"
    },
    {
     "data": {
      "application/vnd.jupyter.widget-view+json": {
       "model_id": "ab7644fac5654a1da9b4881255ce7e9c",
       "version_major": 2,
       "version_minor": 0
      },
      "text/plain": [
       "<LAMBDA> DONE:   0%|          | 0/266 [00:00<?, ?it/s]"
      ]
     },
     "metadata": {},
     "output_type": "display_data"
    },
    {
     "data": {
      "application/vnd.jupyter.widget-view+json": {
       "model_id": "219e95f6725d41dd9311e55f92fc443f",
       "version_major": 2,
       "version_minor": 0
      },
      "text/plain": [
       "<LAMBDA> DONE:   0%|          | 0/235 [00:00<?, ?it/s]"
      ]
     },
     "metadata": {},
     "output_type": "display_data"
    },
    {
     "data": {
      "application/vnd.jupyter.widget-view+json": {
       "model_id": "585c859b68364343ac45ddb5a0f9370b",
       "version_major": 2,
       "version_minor": 0
      },
      "text/plain": [
       "<LAMBDA> DONE:   0%|          | 0/235 [00:00<?, ?it/s]"
      ]
     },
     "metadata": {},
     "output_type": "display_data"
    },
    {
     "data": {
      "application/vnd.jupyter.widget-view+json": {
       "model_id": "42c3633393e24896a4a3847ae8f9a7f3",
       "version_major": 2,
       "version_minor": 0
      },
      "text/plain": [
       "<LAMBDA> DONE:   0%|          | 0/235 [00:00<?, ?it/s]"
      ]
     },
     "metadata": {},
     "output_type": "display_data"
    },
    {
     "name": "stderr",
     "output_type": "stream",
     "text": [
      "/tmp/ipykernel_3805226/2830027787.py:60: PerformanceWarning: \n",
      "your performance may suffer as PyTables will pickle object types that it cannot\n",
      "map directly to c-types [inferred_type->mixed,key->block2_values] [items->Index(['sp_tree_tail', 'sp_tree_head', 'ldo_category', 'mdo_category',\n",
      "       'species', 'ldo_gene', 'mdo_gene', 'outgroup_species', 'out_gene'],\n",
      "      dtype='object')]\n",
      "\n",
      "  pd.concat(tmp).to_hdf(f'{RES_PATH}/{key}.h5', sp, complevel=9, complib='zlib')\n"
     ]
    },
    {
     "data": {
      "application/vnd.jupyter.widget-view+json": {
       "model_id": "55fd665c40bf42d8a6a418a3fd3fe86f",
       "version_major": 2,
       "version_minor": 0
      },
      "text/plain": [
       "<LAMBDA> DONE:   0%|          | 0/261 [00:00<?, ?it/s]"
      ]
     },
     "metadata": {},
     "output_type": "display_data"
    },
    {
     "data": {
      "application/vnd.jupyter.widget-view+json": {
       "model_id": "f3d496db4a3d440a88942a7fa13bde73",
       "version_major": 2,
       "version_minor": 0
      },
      "text/plain": [
       "<LAMBDA> DONE:   0%|          | 0/261 [00:00<?, ?it/s]"
      ]
     },
     "metadata": {},
     "output_type": "display_data"
    },
    {
     "data": {
      "application/vnd.jupyter.widget-view+json": {
       "model_id": "2dc49fd39d5a4d3c8501ab1758edc807",
       "version_major": 2,
       "version_minor": 0
      },
      "text/plain": [
       "<LAMBDA> DONE:   0%|          | 0/261 [00:00<?, ?it/s]"
      ]
     },
     "metadata": {},
     "output_type": "display_data"
    },
    {
     "data": {
      "application/vnd.jupyter.widget-view+json": {
       "model_id": "81bc8713217c48229ef95039ea9a8c41",
       "version_major": 2,
       "version_minor": 0
      },
      "text/plain": [
       "<LAMBDA> DONE:   0%|          | 0/99 [00:00<?, ?it/s]"
      ]
     },
     "metadata": {},
     "output_type": "display_data"
    },
    {
     "data": {
      "application/vnd.jupyter.widget-view+json": {
       "model_id": "e663781993454fdd8554aa0e6069a844",
       "version_major": 2,
       "version_minor": 0
      },
      "text/plain": [
       "<LAMBDA> DONE:   0%|          | 0/99 [00:00<?, ?it/s]"
      ]
     },
     "metadata": {},
     "output_type": "display_data"
    },
    {
     "data": {
      "application/vnd.jupyter.widget-view+json": {
       "model_id": "66e59e3eb8e0487f9f6cf37ccf46e1b0",
       "version_major": 2,
       "version_minor": 0
      },
      "text/plain": [
       "<LAMBDA> DONE:   0%|          | 0/99 [00:00<?, ?it/s]"
      ]
     },
     "metadata": {},
     "output_type": "display_data"
    },
    {
     "data": {
      "application/vnd.jupyter.widget-view+json": {
       "model_id": "928a44c0c8c04f73b9bfce16f05c6c19",
       "version_major": 2,
       "version_minor": 0
      },
      "text/plain": [
       "<LAMBDA> DONE:   0%|          | 0/131 [00:00<?, ?it/s]"
      ]
     },
     "metadata": {},
     "output_type": "display_data"
    },
    {
     "data": {
      "application/vnd.jupyter.widget-view+json": {
       "model_id": "77150e83678b4ac9b91c4599573666ed",
       "version_major": 2,
       "version_minor": 0
      },
      "text/plain": [
       "<LAMBDA> DONE:   0%|          | 0/131 [00:00<?, ?it/s]"
      ]
     },
     "metadata": {},
     "output_type": "display_data"
    },
    {
     "data": {
      "application/vnd.jupyter.widget-view+json": {
       "model_id": "8dd03867b7f84f4592719283944698d4",
       "version_major": 2,
       "version_minor": 0
      },
      "text/plain": [
       "<LAMBDA> DONE:   0%|          | 0/131 [00:00<?, ?it/s]"
      ]
     },
     "metadata": {},
     "output_type": "display_data"
    },
    {
     "data": {
      "application/vnd.jupyter.widget-view+json": {
       "model_id": "a6d804b79bb848b99990064b74dfed9d",
       "version_major": 2,
       "version_minor": 0
      },
      "text/plain": [
       "<LAMBDA> DONE:   0%|          | 0/54 [00:00<?, ?it/s]"
      ]
     },
     "metadata": {},
     "output_type": "display_data"
    },
    {
     "data": {
      "application/vnd.jupyter.widget-view+json": {
       "model_id": "58dcf0e4af3747debde68ef3fb5acc16",
       "version_major": 2,
       "version_minor": 0
      },
      "text/plain": [
       "<LAMBDA> DONE:   0%|          | 0/54 [00:00<?, ?it/s]"
      ]
     },
     "metadata": {},
     "output_type": "display_data"
    },
    {
     "data": {
      "application/vnd.jupyter.widget-view+json": {
       "model_id": "cce8601705a6428f89d31a4607639b11",
       "version_major": 2,
       "version_minor": 0
      },
      "text/plain": [
       "<LAMBDA> DONE:   0%|          | 0/54 [00:00<?, ?it/s]"
      ]
     },
     "metadata": {},
     "output_type": "display_data"
    },
    {
     "data": {
      "application/vnd.jupyter.widget-view+json": {
       "model_id": "d34c6dc9a57c4257a6f4ea96d7f40ada",
       "version_major": 2,
       "version_minor": 0
      },
      "text/plain": [
       "<LAMBDA> DONE:   0%|          | 0/1389 [00:00<?, ?it/s]"
      ]
     },
     "metadata": {},
     "output_type": "display_data"
    },
    {
     "data": {
      "application/vnd.jupyter.widget-view+json": {
       "model_id": "597ce42f0a5842c2ae254d3ee0fbd40f",
       "version_major": 2,
       "version_minor": 0
      },
      "text/plain": [
       "<LAMBDA> DONE:   0%|          | 0/1389 [00:00<?, ?it/s]"
      ]
     },
     "metadata": {},
     "output_type": "display_data"
    },
    {
     "data": {
      "application/vnd.jupyter.widget-view+json": {
       "model_id": "f5b4c18db3d24b3686ce82fea3da58f3",
       "version_major": 2,
       "version_minor": 0
      },
      "text/plain": [
       "<LAMBDA> DONE:   0%|          | 0/1389 [00:00<?, ?it/s]"
      ]
     },
     "metadata": {},
     "output_type": "display_data"
    },
    {
     "data": {
      "application/vnd.jupyter.widget-view+json": {
       "model_id": "0aa74c57a57142cea42bfd099984d441",
       "version_major": 2,
       "version_minor": 0
      },
      "text/plain": [
       "<LAMBDA> DONE:   0%|          | 0/318 [00:00<?, ?it/s]"
      ]
     },
     "metadata": {},
     "output_type": "display_data"
    },
    {
     "data": {
      "application/vnd.jupyter.widget-view+json": {
       "model_id": "cf3317de0896458bb803cd392c6a9fc2",
       "version_major": 2,
       "version_minor": 0
      },
      "text/plain": [
       "<LAMBDA> DONE:   0%|          | 0/318 [00:00<?, ?it/s]"
      ]
     },
     "metadata": {},
     "output_type": "display_data"
    },
    {
     "data": {
      "application/vnd.jupyter.widget-view+json": {
       "model_id": "8245de0686ff4ad59331dba0dfcb1a76",
       "version_major": 2,
       "version_minor": 0
      },
      "text/plain": [
       "<LAMBDA> DONE:   0%|          | 0/318 [00:00<?, ?it/s]"
      ]
     },
     "metadata": {},
     "output_type": "display_data"
    },
    {
     "data": {
      "application/vnd.jupyter.widget-view+json": {
       "model_id": "74b6ff791abc47039707f186af7d8512",
       "version_major": 2,
       "version_minor": 0
      },
      "text/plain": [
       "<LAMBDA> DONE:   0%|          | 0/997 [00:00<?, ?it/s]"
      ]
     },
     "metadata": {},
     "output_type": "display_data"
    },
    {
     "data": {
      "application/vnd.jupyter.widget-view+json": {
       "model_id": "8906d54cea7741778ca21a02d62721c9",
       "version_major": 2,
       "version_minor": 0
      },
      "text/plain": [
       "<LAMBDA> DONE:   0%|          | 0/997 [00:00<?, ?it/s]"
      ]
     },
     "metadata": {},
     "output_type": "display_data"
    },
    {
     "data": {
      "application/vnd.jupyter.widget-view+json": {
       "model_id": "484b523e36e5432ab01f17e12fdaae99",
       "version_major": 2,
       "version_minor": 0
      },
      "text/plain": [
       "<LAMBDA> DONE:   0%|          | 0/997 [00:00<?, ?it/s]"
      ]
     },
     "metadata": {},
     "output_type": "display_data"
    },
    {
     "data": {
      "application/vnd.jupyter.widget-view+json": {
       "model_id": "3dddb9de3c9345dca31e9f0ad87cf5f6",
       "version_major": 2,
       "version_minor": 0
      },
      "text/plain": [
       "<LAMBDA> DONE:   0%|          | 0/723 [00:00<?, ?it/s]"
      ]
     },
     "metadata": {},
     "output_type": "display_data"
    },
    {
     "data": {
      "application/vnd.jupyter.widget-view+json": {
       "model_id": "1000bd80c04d402fa53191d55eb1db4f",
       "version_major": 2,
       "version_minor": 0
      },
      "text/plain": [
       "<LAMBDA> DONE:   0%|          | 0/723 [00:00<?, ?it/s]"
      ]
     },
     "metadata": {},
     "output_type": "display_data"
    },
    {
     "data": {
      "application/vnd.jupyter.widget-view+json": {
       "model_id": "06d46223175240c8a37512b50a3be89e",
       "version_major": 2,
       "version_minor": 0
      },
      "text/plain": [
       "<LAMBDA> DONE:   0%|          | 0/723 [00:00<?, ?it/s]"
      ]
     },
     "metadata": {},
     "output_type": "display_data"
    },
    {
     "data": {
      "application/vnd.jupyter.widget-view+json": {
       "model_id": "2111ab6867c148dab0cd067e1b3f975d",
       "version_major": 2,
       "version_minor": 0
      },
      "text/plain": [
       "<LAMBDA> DONE:   0%|          | 0/266 [00:00<?, ?it/s]"
      ]
     },
     "metadata": {},
     "output_type": "display_data"
    },
    {
     "data": {
      "application/vnd.jupyter.widget-view+json": {
       "model_id": "487d16cad3ac4e988db051dfd4b9aa9b",
       "version_major": 2,
       "version_minor": 0
      },
      "text/plain": [
       "<LAMBDA> DONE:   0%|          | 0/266 [00:00<?, ?it/s]"
      ]
     },
     "metadata": {},
     "output_type": "display_data"
    },
    {
     "data": {
      "application/vnd.jupyter.widget-view+json": {
       "model_id": "1c429ae92e8e4f42a332acff0b009b3a",
       "version_major": 2,
       "version_minor": 0
      },
      "text/plain": [
       "<LAMBDA> DONE:   0%|          | 0/266 [00:00<?, ?it/s]"
      ]
     },
     "metadata": {},
     "output_type": "display_data"
    },
    {
     "data": {
      "application/vnd.jupyter.widget-view+json": {
       "model_id": "ec18ff9bf1d247bba6b38d89171fcdac",
       "version_major": 2,
       "version_minor": 0
      },
      "text/plain": [
       "<LAMBDA> DONE:   0%|          | 0/235 [00:00<?, ?it/s]"
      ]
     },
     "metadata": {},
     "output_type": "display_data"
    },
    {
     "data": {
      "application/vnd.jupyter.widget-view+json": {
       "model_id": "7c5ba8bc27ac435ca62876cfd6b45152",
       "version_major": 2,
       "version_minor": 0
      },
      "text/plain": [
       "<LAMBDA> DONE:   0%|          | 0/235 [00:00<?, ?it/s]"
      ]
     },
     "metadata": {},
     "output_type": "display_data"
    },
    {
     "data": {
      "application/vnd.jupyter.widget-view+json": {
       "model_id": "6dbbd9ec653f43f3afe196d985048844",
       "version_major": 2,
       "version_minor": 0
      },
      "text/plain": [
       "<LAMBDA> DONE:   0%|          | 0/235 [00:00<?, ?it/s]"
      ]
     },
     "metadata": {},
     "output_type": "display_data"
    },
    {
     "name": "stderr",
     "output_type": "stream",
     "text": [
      "/tmp/ipykernel_3805226/2830027787.py:60: FutureWarning: The behavior of DataFrame concatenation with empty or all-NA entries is deprecated. In a future version, this will no longer exclude empty or all-NA columns when determining the result dtypes. To retain the old behavior, exclude the relevant entries before the concat operation.\n",
      "  pd.concat(tmp).to_hdf(f'{RES_PATH}/{key}.h5', sp, complevel=9, complib='zlib')\n",
      "/tmp/ipykernel_3805226/2830027787.py:60: PerformanceWarning: \n",
      "your performance may suffer as PyTables will pickle object types that it cannot\n",
      "map directly to c-types [inferred_type->mixed,key->block2_values] [items->Index(['sp_tree_tail', 'sp_tree_head', 'ldo_category', 'mdo_category',\n",
      "       'species', 'ldo_gene', 'mdo_gene', 'outgroup_species', 'out_gene'],\n",
      "      dtype='object')]\n",
      "\n",
      "  pd.concat(tmp).to_hdf(f'{RES_PATH}/{key}.h5', sp, complevel=9, complib='zlib')\n"
     ]
    },
    {
     "data": {
      "application/vnd.jupyter.widget-view+json": {
       "model_id": "7eefb460055343df9d6d06e4faeeb9bd",
       "version_major": 2,
       "version_minor": 0
      },
      "text/plain": [
       "<LAMBDA> DONE:   0%|          | 0/261 [00:00<?, ?it/s]"
      ]
     },
     "metadata": {},
     "output_type": "display_data"
    },
    {
     "data": {
      "application/vnd.jupyter.widget-view+json": {
       "model_id": "0f92c8d20b704fcaa888c68c2ac80034",
       "version_major": 2,
       "version_minor": 0
      },
      "text/plain": [
       "<LAMBDA> DONE:   0%|          | 0/261 [00:00<?, ?it/s]"
      ]
     },
     "metadata": {},
     "output_type": "display_data"
    },
    {
     "data": {
      "application/vnd.jupyter.widget-view+json": {
       "model_id": "82cc2af014844bddbb7fd71159f904a4",
       "version_major": 2,
       "version_minor": 0
      },
      "text/plain": [
       "<LAMBDA> DONE:   0%|          | 0/261 [00:00<?, ?it/s]"
      ]
     },
     "metadata": {},
     "output_type": "display_data"
    },
    {
     "data": {
      "application/vnd.jupyter.widget-view+json": {
       "model_id": "6be28779e07047a8aa32d083da56b2b7",
       "version_major": 2,
       "version_minor": 0
      },
      "text/plain": [
       "<LAMBDA> DONE:   0%|          | 0/99 [00:00<?, ?it/s]"
      ]
     },
     "metadata": {},
     "output_type": "display_data"
    },
    {
     "data": {
      "application/vnd.jupyter.widget-view+json": {
       "model_id": "4cccd3f99b4a4376b10e75ef4c2f6b9e",
       "version_major": 2,
       "version_minor": 0
      },
      "text/plain": [
       "<LAMBDA> DONE:   0%|          | 0/99 [00:00<?, ?it/s]"
      ]
     },
     "metadata": {},
     "output_type": "display_data"
    },
    {
     "data": {
      "application/vnd.jupyter.widget-view+json": {
       "model_id": "e23df98529cd43168f0686dfee59649e",
       "version_major": 2,
       "version_minor": 0
      },
      "text/plain": [
       "<LAMBDA> DONE:   0%|          | 0/99 [00:00<?, ?it/s]"
      ]
     },
     "metadata": {},
     "output_type": "display_data"
    },
    {
     "data": {
      "application/vnd.jupyter.widget-view+json": {
       "model_id": "dc6e7d984c5f4e5da4d08dec9c308ad8",
       "version_major": 2,
       "version_minor": 0
      },
      "text/plain": [
       "<LAMBDA> DONE:   0%|          | 0/131 [00:00<?, ?it/s]"
      ]
     },
     "metadata": {},
     "output_type": "display_data"
    },
    {
     "data": {
      "application/vnd.jupyter.widget-view+json": {
       "model_id": "174a9fb19eb143f99e1896464b01546b",
       "version_major": 2,
       "version_minor": 0
      },
      "text/plain": [
       "<LAMBDA> DONE:   0%|          | 0/131 [00:00<?, ?it/s]"
      ]
     },
     "metadata": {},
     "output_type": "display_data"
    },
    {
     "data": {
      "application/vnd.jupyter.widget-view+json": {
       "model_id": "3f88897c9b5f48ddb0659c89dc5798bc",
       "version_major": 2,
       "version_minor": 0
      },
      "text/plain": [
       "<LAMBDA> DONE:   0%|          | 0/131 [00:00<?, ?it/s]"
      ]
     },
     "metadata": {},
     "output_type": "display_data"
    },
    {
     "data": {
      "application/vnd.jupyter.widget-view+json": {
       "model_id": "518324fa9df24193a29190ba4feb38ac",
       "version_major": 2,
       "version_minor": 0
      },
      "text/plain": [
       "<LAMBDA> DONE:   0%|          | 0/54 [00:00<?, ?it/s]"
      ]
     },
     "metadata": {},
     "output_type": "display_data"
    },
    {
     "data": {
      "application/vnd.jupyter.widget-view+json": {
       "model_id": "1348706d53aa4d23b1216ea12369808d",
       "version_major": 2,
       "version_minor": 0
      },
      "text/plain": [
       "<LAMBDA> DONE:   0%|          | 0/54 [00:00<?, ?it/s]"
      ]
     },
     "metadata": {},
     "output_type": "display_data"
    },
    {
     "data": {
      "application/vnd.jupyter.widget-view+json": {
       "model_id": "0f222b36e7294a5785e4a9491c426b77",
       "version_major": 2,
       "version_minor": 0
      },
      "text/plain": [
       "<LAMBDA> DONE:   0%|          | 0/54 [00:00<?, ?it/s]"
      ]
     },
     "metadata": {},
     "output_type": "display_data"
    },
    {
     "data": {
      "application/vnd.jupyter.widget-view+json": {
       "model_id": "32a56e4dedc449bea6dd29f2d73f9260",
       "version_major": 2,
       "version_minor": 0
      },
      "text/plain": [
       "<LAMBDA> DONE:   0%|          | 0/1389 [00:00<?, ?it/s]"
      ]
     },
     "metadata": {},
     "output_type": "display_data"
    },
    {
     "data": {
      "application/vnd.jupyter.widget-view+json": {
       "model_id": "ccf7cdae117142dc9e0e4060b42dd1e4",
       "version_major": 2,
       "version_minor": 0
      },
      "text/plain": [
       "<LAMBDA> DONE:   0%|          | 0/1389 [00:00<?, ?it/s]"
      ]
     },
     "metadata": {},
     "output_type": "display_data"
    },
    {
     "data": {
      "application/vnd.jupyter.widget-view+json": {
       "model_id": "78a23218acf94e74822c91b12bbc2399",
       "version_major": 2,
       "version_minor": 0
      },
      "text/plain": [
       "<LAMBDA> DONE:   0%|          | 0/1389 [00:00<?, ?it/s]"
      ]
     },
     "metadata": {},
     "output_type": "display_data"
    },
    {
     "data": {
      "application/vnd.jupyter.widget-view+json": {
       "model_id": "5e5ba135396f4ddcb8483f039b5c1f08",
       "version_major": 2,
       "version_minor": 0
      },
      "text/plain": [
       "<LAMBDA> DONE:   0%|          | 0/318 [00:00<?, ?it/s]"
      ]
     },
     "metadata": {},
     "output_type": "display_data"
    },
    {
     "data": {
      "application/vnd.jupyter.widget-view+json": {
       "model_id": "2544ecf1c2084a439ee82a2b97df6cac",
       "version_major": 2,
       "version_minor": 0
      },
      "text/plain": [
       "<LAMBDA> DONE:   0%|          | 0/318 [00:00<?, ?it/s]"
      ]
     },
     "metadata": {},
     "output_type": "display_data"
    },
    {
     "data": {
      "application/vnd.jupyter.widget-view+json": {
       "model_id": "2d9f3bad687e4dd49352112375cec479",
       "version_major": 2,
       "version_minor": 0
      },
      "text/plain": [
       "<LAMBDA> DONE:   0%|          | 0/318 [00:00<?, ?it/s]"
      ]
     },
     "metadata": {},
     "output_type": "display_data"
    },
    {
     "data": {
      "application/vnd.jupyter.widget-view+json": {
       "model_id": "3d572385c3c1418aac87322b02705e2b",
       "version_major": 2,
       "version_minor": 0
      },
      "text/plain": [
       "<LAMBDA> DONE:   0%|          | 0/997 [00:00<?, ?it/s]"
      ]
     },
     "metadata": {},
     "output_type": "display_data"
    },
    {
     "data": {
      "application/vnd.jupyter.widget-view+json": {
       "model_id": "6b662d09d05a49fc823c4749bf72fae0",
       "version_major": 2,
       "version_minor": 0
      },
      "text/plain": [
       "<LAMBDA> DONE:   0%|          | 0/997 [00:00<?, ?it/s]"
      ]
     },
     "metadata": {},
     "output_type": "display_data"
    },
    {
     "data": {
      "application/vnd.jupyter.widget-view+json": {
       "model_id": "df92461367734a21964a8c96e1d320a5",
       "version_major": 2,
       "version_minor": 0
      },
      "text/plain": [
       "<LAMBDA> DONE:   0%|          | 0/997 [00:00<?, ?it/s]"
      ]
     },
     "metadata": {},
     "output_type": "display_data"
    },
    {
     "data": {
      "application/vnd.jupyter.widget-view+json": {
       "model_id": "d573212e09cb425fa5233e449d1f5e50",
       "version_major": 2,
       "version_minor": 0
      },
      "text/plain": [
       "<LAMBDA> DONE:   0%|          | 0/723 [00:00<?, ?it/s]"
      ]
     },
     "metadata": {},
     "output_type": "display_data"
    },
    {
     "data": {
      "application/vnd.jupyter.widget-view+json": {
       "model_id": "cadef7dd080d400aa530f3a05ef65dbb",
       "version_major": 2,
       "version_minor": 0
      },
      "text/plain": [
       "<LAMBDA> DONE:   0%|          | 0/723 [00:00<?, ?it/s]"
      ]
     },
     "metadata": {},
     "output_type": "display_data"
    },
    {
     "data": {
      "application/vnd.jupyter.widget-view+json": {
       "model_id": "e1e9fa2247984b5a8c8ff36089e51b77",
       "version_major": 2,
       "version_minor": 0
      },
      "text/plain": [
       "<LAMBDA> DONE:   0%|          | 0/723 [00:00<?, ?it/s]"
      ]
     },
     "metadata": {},
     "output_type": "display_data"
    },
    {
     "data": {
      "application/vnd.jupyter.widget-view+json": {
       "model_id": "3133a1bd771741dda1e0f6e0c6445114",
       "version_major": 2,
       "version_minor": 0
      },
      "text/plain": [
       "<LAMBDA> DONE:   0%|          | 0/266 [00:00<?, ?it/s]"
      ]
     },
     "metadata": {},
     "output_type": "display_data"
    },
    {
     "data": {
      "application/vnd.jupyter.widget-view+json": {
       "model_id": "cf02f8a8ce8a47dcb0e6f42c495d8cb2",
       "version_major": 2,
       "version_minor": 0
      },
      "text/plain": [
       "<LAMBDA> DONE:   0%|          | 0/266 [00:00<?, ?it/s]"
      ]
     },
     "metadata": {},
     "output_type": "display_data"
    },
    {
     "data": {
      "application/vnd.jupyter.widget-view+json": {
       "model_id": "331088d4c1224f748a17ba643dd36216",
       "version_major": 2,
       "version_minor": 0
      },
      "text/plain": [
       "<LAMBDA> DONE:   0%|          | 0/266 [00:00<?, ?it/s]"
      ]
     },
     "metadata": {},
     "output_type": "display_data"
    },
    {
     "data": {
      "application/vnd.jupyter.widget-view+json": {
       "model_id": "9b964496176b4bf485af4b2acaab515d",
       "version_major": 2,
       "version_minor": 0
      },
      "text/plain": [
       "<LAMBDA> DONE:   0%|          | 0/235 [00:00<?, ?it/s]"
      ]
     },
     "metadata": {},
     "output_type": "display_data"
    },
    {
     "data": {
      "application/vnd.jupyter.widget-view+json": {
       "model_id": "91510cf20e5841feb128cae6880fe422",
       "version_major": 2,
       "version_minor": 0
      },
      "text/plain": [
       "<LAMBDA> DONE:   0%|          | 0/235 [00:00<?, ?it/s]"
      ]
     },
     "metadata": {},
     "output_type": "display_data"
    },
    {
     "data": {
      "application/vnd.jupyter.widget-view+json": {
       "model_id": "5f56068c48dc416eb8afe5e6fea74f2a",
       "version_major": 2,
       "version_minor": 0
      },
      "text/plain": [
       "<LAMBDA> DONE:   0%|          | 0/235 [00:00<?, ?it/s]"
      ]
     },
     "metadata": {},
     "output_type": "display_data"
    },
    {
     "name": "stderr",
     "output_type": "stream",
     "text": [
      "/tmp/ipykernel_3805226/2830027787.py:60: FutureWarning: The behavior of DataFrame concatenation with empty or all-NA entries is deprecated. In a future version, this will no longer exclude empty or all-NA columns when determining the result dtypes. To retain the old behavior, exclude the relevant entries before the concat operation.\n",
      "  pd.concat(tmp).to_hdf(f'{RES_PATH}/{key}.h5', sp, complevel=9, complib='zlib')\n",
      "/tmp/ipykernel_3805226/2830027787.py:60: PerformanceWarning: \n",
      "your performance may suffer as PyTables will pickle object types that it cannot\n",
      "map directly to c-types [inferred_type->mixed,key->block2_values] [items->Index(['sp_tree_tail', 'sp_tree_head', 'ldo_category', 'mdo_category',\n",
      "       'species', 'ldo_gene', 'mdo_gene', 'outgroup_species', 'out_gene'],\n",
      "      dtype='object')]\n",
      "\n",
      "  pd.concat(tmp).to_hdf(f'{RES_PATH}/{key}.h5', sp, complevel=9, complib='zlib')\n"
     ]
    },
    {
     "data": {
      "application/vnd.jupyter.widget-view+json": {
       "model_id": "33ee26ce738f48df846d62af92901370",
       "version_major": 2,
       "version_minor": 0
      },
      "text/plain": [
       "<LAMBDA> DONE:   0%|          | 0/393 [00:00<?, ?it/s]"
      ]
     },
     "metadata": {},
     "output_type": "display_data"
    },
    {
     "data": {
      "application/vnd.jupyter.widget-view+json": {
       "model_id": "307bcbe991444b459f9d04eb36137c87",
       "version_major": 2,
       "version_minor": 0
      },
      "text/plain": [
       "<LAMBDA> DONE:   0%|          | 0/393 [00:00<?, ?it/s]"
      ]
     },
     "metadata": {},
     "output_type": "display_data"
    },
    {
     "data": {
      "application/vnd.jupyter.widget-view+json": {
       "model_id": "f9aa31940fc84b1888245134c316cbcc",
       "version_major": 2,
       "version_minor": 0
      },
      "text/plain": [
       "<LAMBDA> DONE:   0%|          | 0/393 [00:00<?, ?it/s]"
      ]
     },
     "metadata": {},
     "output_type": "display_data"
    },
    {
     "data": {
      "application/vnd.jupyter.widget-view+json": {
       "model_id": "0004490a84b34f44bebe9497230b81df",
       "version_major": 2,
       "version_minor": 0
      },
      "text/plain": [
       "<LAMBDA> DONE:   0%|          | 0/9452 [00:00<?, ?it/s]"
      ]
     },
     "metadata": {},
     "output_type": "display_data"
    },
    {
     "data": {
      "application/vnd.jupyter.widget-view+json": {
       "model_id": "925e82b8c6654e2b8cc09932423b96b5",
       "version_major": 2,
       "version_minor": 0
      },
      "text/plain": [
       "<LAMBDA> DONE:   0%|          | 0/9452 [00:00<?, ?it/s]"
      ]
     },
     "metadata": {},
     "output_type": "display_data"
    },
    {
     "data": {
      "application/vnd.jupyter.widget-view+json": {
       "model_id": "9a27da2dedde4601b379431cadb03f54",
       "version_major": 2,
       "version_minor": 0
      },
      "text/plain": [
       "<LAMBDA> DONE:   0%|          | 0/9452 [00:00<?, ?it/s]"
      ]
     },
     "metadata": {},
     "output_type": "display_data"
    },
    {
     "name": "stderr",
     "output_type": "stream",
     "text": [
      "/tmp/ipykernel_3805226/2830027787.py:60: FutureWarning: The behavior of DataFrame concatenation with empty or all-NA entries is deprecated. In a future version, this will no longer exclude empty or all-NA columns when determining the result dtypes. To retain the old behavior, exclude the relevant entries before the concat operation.\n",
      "  pd.concat(tmp).to_hdf(f'{RES_PATH}/{key}.h5', sp, complevel=9, complib='zlib')\n",
      "/tmp/ipykernel_3805226/2830027787.py:60: PerformanceWarning: \n",
      "your performance may suffer as PyTables will pickle object types that it cannot\n",
      "map directly to c-types [inferred_type->mixed,key->block2_values] [items->Index(['sp_tree_tail', 'sp_tree_head', 'ldo_category', 'mdo_category',\n",
      "       'species', 'ldo_gene', 'mdo_gene', 'outgroup_species', 'out_gene'],\n",
      "      dtype='object')]\n",
      "\n",
      "  pd.concat(tmp).to_hdf(f'{RES_PATH}/{key}.h5', sp, complevel=9, complib='zlib')\n"
     ]
    },
    {
     "data": {
      "application/vnd.jupyter.widget-view+json": {
       "model_id": "b3994451d08e4a468b8232fe3cac44f2",
       "version_major": 2,
       "version_minor": 0
      },
      "text/plain": [
       "<LAMBDA> DONE:   0%|          | 0/393 [00:00<?, ?it/s]"
      ]
     },
     "metadata": {},
     "output_type": "display_data"
    },
    {
     "data": {
      "application/vnd.jupyter.widget-view+json": {
       "model_id": "ee2190301f584958a1c7aefba1bea845",
       "version_major": 2,
       "version_minor": 0
      },
      "text/plain": [
       "<LAMBDA> DONE:   0%|          | 0/393 [00:00<?, ?it/s]"
      ]
     },
     "metadata": {},
     "output_type": "display_data"
    },
    {
     "data": {
      "application/vnd.jupyter.widget-view+json": {
       "model_id": "2c22828b8aa34cdf9078e589b3cacc36",
       "version_major": 2,
       "version_minor": 0
      },
      "text/plain": [
       "<LAMBDA> DONE:   0%|          | 0/393 [00:00<?, ?it/s]"
      ]
     },
     "metadata": {},
     "output_type": "display_data"
    },
    {
     "data": {
      "application/vnd.jupyter.widget-view+json": {
       "model_id": "6dac34f611024e0e9db847e1448e2456",
       "version_major": 2,
       "version_minor": 0
      },
      "text/plain": [
       "<LAMBDA> DONE:   0%|          | 0/9452 [00:00<?, ?it/s]"
      ]
     },
     "metadata": {},
     "output_type": "display_data"
    },
    {
     "data": {
      "application/vnd.jupyter.widget-view+json": {
       "model_id": "0dc6e99033d6426d93a19f5cb12234d0",
       "version_major": 2,
       "version_minor": 0
      },
      "text/plain": [
       "<LAMBDA> DONE:   0%|          | 0/9452 [00:00<?, ?it/s]"
      ]
     },
     "metadata": {},
     "output_type": "display_data"
    },
    {
     "data": {
      "application/vnd.jupyter.widget-view+json": {
       "model_id": "6d8912d0085d4c91b55cec8db0b2f226",
       "version_major": 2,
       "version_minor": 0
      },
      "text/plain": [
       "<LAMBDA> DONE:   0%|          | 0/9452 [00:00<?, ?it/s]"
      ]
     },
     "metadata": {},
     "output_type": "display_data"
    },
    {
     "name": "stderr",
     "output_type": "stream",
     "text": [
      "/tmp/ipykernel_3805226/2830027787.py:60: FutureWarning: The behavior of DataFrame concatenation with empty or all-NA entries is deprecated. In a future version, this will no longer exclude empty or all-NA columns when determining the result dtypes. To retain the old behavior, exclude the relevant entries before the concat operation.\n",
      "  pd.concat(tmp).to_hdf(f'{RES_PATH}/{key}.h5', sp, complevel=9, complib='zlib')\n",
      "/tmp/ipykernel_3805226/2830027787.py:60: PerformanceWarning: \n",
      "your performance may suffer as PyTables will pickle object types that it cannot\n",
      "map directly to c-types [inferred_type->mixed,key->block2_values] [items->Index(['sp_tree_tail', 'sp_tree_head', 'ldo_category', 'mdo_category',\n",
      "       'species', 'ldo_gene', 'mdo_gene', 'outgroup_species', 'out_gene'],\n",
      "      dtype='object')]\n",
      "\n",
      "  pd.concat(tmp).to_hdf(f'{RES_PATH}/{key}.h5', sp, complevel=9, complib='zlib')\n"
     ]
    },
    {
     "data": {
      "application/vnd.jupyter.widget-view+json": {
       "model_id": "7adb566f4d2a410ba615e5458e8e7189",
       "version_major": 2,
       "version_minor": 0
      },
      "text/plain": [
       "<LAMBDA> DONE:   0%|          | 0/2267 [00:00<?, ?it/s]"
      ]
     },
     "metadata": {},
     "output_type": "display_data"
    },
    {
     "data": {
      "application/vnd.jupyter.widget-view+json": {
       "model_id": "b7c7779faff7489480cb8e7861768d23",
       "version_major": 2,
       "version_minor": 0
      },
      "text/plain": [
       "<LAMBDA> DONE:   0%|          | 0/2267 [00:00<?, ?it/s]"
      ]
     },
     "metadata": {},
     "output_type": "display_data"
    },
    {
     "data": {
      "application/vnd.jupyter.widget-view+json": {
       "model_id": "e35b570d84cb4fde90da9c3b9489f600",
       "version_major": 2,
       "version_minor": 0
      },
      "text/plain": [
       "<LAMBDA> DONE:   0%|          | 0/2267 [00:00<?, ?it/s]"
      ]
     },
     "metadata": {},
     "output_type": "display_data"
    },
    {
     "data": {
      "application/vnd.jupyter.widget-view+json": {
       "model_id": "a09d737e39314a36a42e9676d60cd95e",
       "version_major": 2,
       "version_minor": 0
      },
      "text/plain": [
       "<LAMBDA> DONE:   0%|          | 0/294 [00:00<?, ?it/s]"
      ]
     },
     "metadata": {},
     "output_type": "display_data"
    },
    {
     "data": {
      "application/vnd.jupyter.widget-view+json": {
       "model_id": "86f245cf32ce4d338b6327061ac0a090",
       "version_major": 2,
       "version_minor": 0
      },
      "text/plain": [
       "<LAMBDA> DONE:   0%|          | 0/294 [00:00<?, ?it/s]"
      ]
     },
     "metadata": {},
     "output_type": "display_data"
    },
    {
     "data": {
      "application/vnd.jupyter.widget-view+json": {
       "model_id": "95bdc93e14014ab7b9b3924023515966",
       "version_major": 2,
       "version_minor": 0
      },
      "text/plain": [
       "<LAMBDA> DONE:   0%|          | 0/294 [00:00<?, ?it/s]"
      ]
     },
     "metadata": {},
     "output_type": "display_data"
    },
    {
     "data": {
      "application/vnd.jupyter.widget-view+json": {
       "model_id": "6f60fa2931a248ce949a6160831a72e6",
       "version_major": 2,
       "version_minor": 0
      },
      "text/plain": [
       "<LAMBDA> DONE:   0%|          | 0/97 [00:00<?, ?it/s]"
      ]
     },
     "metadata": {},
     "output_type": "display_data"
    },
    {
     "data": {
      "application/vnd.jupyter.widget-view+json": {
       "model_id": "74326bd7b48849438a0cb06538139b28",
       "version_major": 2,
       "version_minor": 0
      },
      "text/plain": [
       "<LAMBDA> DONE:   0%|          | 0/97 [00:00<?, ?it/s]"
      ]
     },
     "metadata": {},
     "output_type": "display_data"
    },
    {
     "data": {
      "application/vnd.jupyter.widget-view+json": {
       "model_id": "cc3ddcf45ebd43bca39c0bbfba27cb50",
       "version_major": 2,
       "version_minor": 0
      },
      "text/plain": [
       "<LAMBDA> DONE:   0%|          | 0/97 [00:00<?, ?it/s]"
      ]
     },
     "metadata": {},
     "output_type": "display_data"
    },
    {
     "data": {
      "application/vnd.jupyter.widget-view+json": {
       "model_id": "adf2cf22ba3f403e9e3777b2c32cc6b6",
       "version_major": 2,
       "version_minor": 0
      },
      "text/plain": [
       "<LAMBDA> DONE:   0%|          | 0/28 [00:00<?, ?it/s]"
      ]
     },
     "metadata": {},
     "output_type": "display_data"
    },
    {
     "data": {
      "application/vnd.jupyter.widget-view+json": {
       "model_id": "8458b65abdcd441fbb3727d5b157608d",
       "version_major": 2,
       "version_minor": 0
      },
      "text/plain": [
       "<LAMBDA> DONE:   0%|          | 0/28 [00:00<?, ?it/s]"
      ]
     },
     "metadata": {},
     "output_type": "display_data"
    },
    {
     "data": {
      "application/vnd.jupyter.widget-view+json": {
       "model_id": "d9b0680cf6fe4c2b839f53b87c194548",
       "version_major": 2,
       "version_minor": 0
      },
      "text/plain": [
       "<LAMBDA> DONE:   0%|          | 0/28 [00:00<?, ?it/s]"
      ]
     },
     "metadata": {},
     "output_type": "display_data"
    },
    {
     "data": {
      "application/vnd.jupyter.widget-view+json": {
       "model_id": "f329c15fd4474dee8524fcac74638210",
       "version_major": 2,
       "version_minor": 0
      },
      "text/plain": [
       "<LAMBDA> DONE:   0%|          | 0/59 [00:00<?, ?it/s]"
      ]
     },
     "metadata": {},
     "output_type": "display_data"
    },
    {
     "data": {
      "application/vnd.jupyter.widget-view+json": {
       "model_id": "be62d5bbaafd4ac0bb646695d923075a",
       "version_major": 2,
       "version_minor": 0
      },
      "text/plain": [
       "<LAMBDA> DONE:   0%|          | 0/59 [00:00<?, ?it/s]"
      ]
     },
     "metadata": {},
     "output_type": "display_data"
    },
    {
     "data": {
      "application/vnd.jupyter.widget-view+json": {
       "model_id": "de3b5c076fb647e6ac494eac0de5464c",
       "version_major": 2,
       "version_minor": 0
      },
      "text/plain": [
       "<LAMBDA> DONE:   0%|          | 0/59 [00:00<?, ?it/s]"
      ]
     },
     "metadata": {},
     "output_type": "display_data"
    },
    {
     "data": {
      "application/vnd.jupyter.widget-view+json": {
       "model_id": "1985effb55fa41d789c0647ace945861",
       "version_major": 2,
       "version_minor": 0
      },
      "text/plain": [
       "<LAMBDA> DONE:   0%|          | 0/343 [00:00<?, ?it/s]"
      ]
     },
     "metadata": {},
     "output_type": "display_data"
    },
    {
     "data": {
      "application/vnd.jupyter.widget-view+json": {
       "model_id": "4afca39f264747d4ad2f70af02b5e7a9",
       "version_major": 2,
       "version_minor": 0
      },
      "text/plain": [
       "<LAMBDA> DONE:   0%|          | 0/343 [00:00<?, ?it/s]"
      ]
     },
     "metadata": {},
     "output_type": "display_data"
    },
    {
     "data": {
      "application/vnd.jupyter.widget-view+json": {
       "model_id": "5fe56f6a69d140548c13901b70b921ef",
       "version_major": 2,
       "version_minor": 0
      },
      "text/plain": [
       "<LAMBDA> DONE:   0%|          | 0/343 [00:00<?, ?it/s]"
      ]
     },
     "metadata": {},
     "output_type": "display_data"
    },
    {
     "data": {
      "application/vnd.jupyter.widget-view+json": {
       "model_id": "4126563290fc490c8d7926c0f40a6711",
       "version_major": 2,
       "version_minor": 0
      },
      "text/plain": [
       "<LAMBDA> DONE:   0%|          | 0/119 [00:00<?, ?it/s]"
      ]
     },
     "metadata": {},
     "output_type": "display_data"
    },
    {
     "data": {
      "application/vnd.jupyter.widget-view+json": {
       "model_id": "b3723866663a45b68e23dafab65bbb5a",
       "version_major": 2,
       "version_minor": 0
      },
      "text/plain": [
       "<LAMBDA> DONE:   0%|          | 0/119 [00:00<?, ?it/s]"
      ]
     },
     "metadata": {},
     "output_type": "display_data"
    },
    {
     "data": {
      "application/vnd.jupyter.widget-view+json": {
       "model_id": "d6451ac4cbb04b5f8070bd2633ae621a",
       "version_major": 2,
       "version_minor": 0
      },
      "text/plain": [
       "<LAMBDA> DONE:   0%|          | 0/119 [00:00<?, ?it/s]"
      ]
     },
     "metadata": {},
     "output_type": "display_data"
    },
    {
     "data": {
      "application/vnd.jupyter.widget-view+json": {
       "model_id": "838b5d981e9d4a7ba1510ad1f5d7940a",
       "version_major": 2,
       "version_minor": 0
      },
      "text/plain": [
       "<LAMBDA> DONE:   0%|          | 0/732 [00:00<?, ?it/s]"
      ]
     },
     "metadata": {},
     "output_type": "display_data"
    },
    {
     "data": {
      "application/vnd.jupyter.widget-view+json": {
       "model_id": "75078b6d51674536bfdd15a609e3954a",
       "version_major": 2,
       "version_minor": 0
      },
      "text/plain": [
       "<LAMBDA> DONE:   0%|          | 0/732 [00:00<?, ?it/s]"
      ]
     },
     "metadata": {},
     "output_type": "display_data"
    },
    {
     "data": {
      "application/vnd.jupyter.widget-view+json": {
       "model_id": "3e3dcc77dee54123baadbaf75d2366b1",
       "version_major": 2,
       "version_minor": 0
      },
      "text/plain": [
       "<LAMBDA> DONE:   0%|          | 0/732 [00:00<?, ?it/s]"
      ]
     },
     "metadata": {},
     "output_type": "display_data"
    },
    {
     "data": {
      "application/vnd.jupyter.widget-view+json": {
       "model_id": "513c0308554a4314b00dcc8c3701d364",
       "version_major": 2,
       "version_minor": 0
      },
      "text/plain": [
       "<LAMBDA> DONE:   0%|          | 0/287 [00:00<?, ?it/s]"
      ]
     },
     "metadata": {},
     "output_type": "display_data"
    },
    {
     "data": {
      "application/vnd.jupyter.widget-view+json": {
       "model_id": "8116937fe5ca4ff483da34970762f583",
       "version_major": 2,
       "version_minor": 0
      },
      "text/plain": [
       "<LAMBDA> DONE:   0%|          | 0/287 [00:00<?, ?it/s]"
      ]
     },
     "metadata": {},
     "output_type": "display_data"
    },
    {
     "data": {
      "application/vnd.jupyter.widget-view+json": {
       "model_id": "4cb129c0c105427da4aaffae3a6a1c0d",
       "version_major": 2,
       "version_minor": 0
      },
      "text/plain": [
       "<LAMBDA> DONE:   0%|          | 0/287 [00:00<?, ?it/s]"
      ]
     },
     "metadata": {},
     "output_type": "display_data"
    },
    {
     "name": "stderr",
     "output_type": "stream",
     "text": [
      "/tmp/ipykernel_3805226/2830027787.py:60: PerformanceWarning: \n",
      "your performance may suffer as PyTables will pickle object types that it cannot\n",
      "map directly to c-types [inferred_type->mixed,key->block2_values] [items->Index(['sp_tree_tail', 'sp_tree_head', 'ldo_category', 'mdo_category',\n",
      "       'species', 'ldo_gene', 'mdo_gene', 'outgroup_species', 'out_gene'],\n",
      "      dtype='object')]\n",
      "\n",
      "  pd.concat(tmp).to_hdf(f'{RES_PATH}/{key}.h5', sp, complevel=9, complib='zlib')\n"
     ]
    },
    {
     "data": {
      "application/vnd.jupyter.widget-view+json": {
       "model_id": "c2ba03de9d7140d0861c1df1520b1743",
       "version_major": 2,
       "version_minor": 0
      },
      "text/plain": [
       "<LAMBDA> DONE:   0%|          | 0/2267 [00:00<?, ?it/s]"
      ]
     },
     "metadata": {},
     "output_type": "display_data"
    },
    {
     "data": {
      "application/vnd.jupyter.widget-view+json": {
       "model_id": "31a0cfed399147d694987bd5d275452b",
       "version_major": 2,
       "version_minor": 0
      },
      "text/plain": [
       "<LAMBDA> DONE:   0%|          | 0/2267 [00:00<?, ?it/s]"
      ]
     },
     "metadata": {},
     "output_type": "display_data"
    },
    {
     "data": {
      "application/vnd.jupyter.widget-view+json": {
       "model_id": "e474606802e94149a3ba0dec3aab4f6a",
       "version_major": 2,
       "version_minor": 0
      },
      "text/plain": [
       "<LAMBDA> DONE:   0%|          | 0/2267 [00:00<?, ?it/s]"
      ]
     },
     "metadata": {},
     "output_type": "display_data"
    },
    {
     "data": {
      "application/vnd.jupyter.widget-view+json": {
       "model_id": "620abc640cd342c981fd56eff4201192",
       "version_major": 2,
       "version_minor": 0
      },
      "text/plain": [
       "<LAMBDA> DONE:   0%|          | 0/294 [00:00<?, ?it/s]"
      ]
     },
     "metadata": {},
     "output_type": "display_data"
    },
    {
     "data": {
      "application/vnd.jupyter.widget-view+json": {
       "model_id": "c6041a89ff54429e9b640297d110c56c",
       "version_major": 2,
       "version_minor": 0
      },
      "text/plain": [
       "<LAMBDA> DONE:   0%|          | 0/294 [00:00<?, ?it/s]"
      ]
     },
     "metadata": {},
     "output_type": "display_data"
    },
    {
     "data": {
      "application/vnd.jupyter.widget-view+json": {
       "model_id": "322a467c46784beb8b73e8a4601d4501",
       "version_major": 2,
       "version_minor": 0
      },
      "text/plain": [
       "<LAMBDA> DONE:   0%|          | 0/294 [00:00<?, ?it/s]"
      ]
     },
     "metadata": {},
     "output_type": "display_data"
    },
    {
     "data": {
      "application/vnd.jupyter.widget-view+json": {
       "model_id": "75e8471271124d0884aeff0659b56b51",
       "version_major": 2,
       "version_minor": 0
      },
      "text/plain": [
       "<LAMBDA> DONE:   0%|          | 0/97 [00:00<?, ?it/s]"
      ]
     },
     "metadata": {},
     "output_type": "display_data"
    },
    {
     "data": {
      "application/vnd.jupyter.widget-view+json": {
       "model_id": "1d8a90be553e4b809559745e6c2a8ca9",
       "version_major": 2,
       "version_minor": 0
      },
      "text/plain": [
       "<LAMBDA> DONE:   0%|          | 0/97 [00:00<?, ?it/s]"
      ]
     },
     "metadata": {},
     "output_type": "display_data"
    },
    {
     "data": {
      "application/vnd.jupyter.widget-view+json": {
       "model_id": "bdea16ff2dd04ec4a501a2715434d574",
       "version_major": 2,
       "version_minor": 0
      },
      "text/plain": [
       "<LAMBDA> DONE:   0%|          | 0/97 [00:00<?, ?it/s]"
      ]
     },
     "metadata": {},
     "output_type": "display_data"
    },
    {
     "data": {
      "application/vnd.jupyter.widget-view+json": {
       "model_id": "84714044ce7546aeb06bff796fbbd4ff",
       "version_major": 2,
       "version_minor": 0
      },
      "text/plain": [
       "<LAMBDA> DONE:   0%|          | 0/28 [00:00<?, ?it/s]"
      ]
     },
     "metadata": {},
     "output_type": "display_data"
    },
    {
     "data": {
      "application/vnd.jupyter.widget-view+json": {
       "model_id": "6a92835110fc4045ab66d65598f52291",
       "version_major": 2,
       "version_minor": 0
      },
      "text/plain": [
       "<LAMBDA> DONE:   0%|          | 0/28 [00:00<?, ?it/s]"
      ]
     },
     "metadata": {},
     "output_type": "display_data"
    },
    {
     "data": {
      "application/vnd.jupyter.widget-view+json": {
       "model_id": "3184152c7bee46f7b3835d161cf7a3f1",
       "version_major": 2,
       "version_minor": 0
      },
      "text/plain": [
       "<LAMBDA> DONE:   0%|          | 0/28 [00:00<?, ?it/s]"
      ]
     },
     "metadata": {},
     "output_type": "display_data"
    },
    {
     "data": {
      "application/vnd.jupyter.widget-view+json": {
       "model_id": "fb099a2156cb46898f418251273e24cb",
       "version_major": 2,
       "version_minor": 0
      },
      "text/plain": [
       "<LAMBDA> DONE:   0%|          | 0/59 [00:00<?, ?it/s]"
      ]
     },
     "metadata": {},
     "output_type": "display_data"
    },
    {
     "data": {
      "application/vnd.jupyter.widget-view+json": {
       "model_id": "ee6384fdce1840c1a80fb8527c2137aa",
       "version_major": 2,
       "version_minor": 0
      },
      "text/plain": [
       "<LAMBDA> DONE:   0%|          | 0/59 [00:00<?, ?it/s]"
      ]
     },
     "metadata": {},
     "output_type": "display_data"
    },
    {
     "data": {
      "application/vnd.jupyter.widget-view+json": {
       "model_id": "1c8f7485812c4be59df58355547c9e97",
       "version_major": 2,
       "version_minor": 0
      },
      "text/plain": [
       "<LAMBDA> DONE:   0%|          | 0/59 [00:00<?, ?it/s]"
      ]
     },
     "metadata": {},
     "output_type": "display_data"
    },
    {
     "data": {
      "application/vnd.jupyter.widget-view+json": {
       "model_id": "7c7fc8c30a2b40eca670d46c4d470e68",
       "version_major": 2,
       "version_minor": 0
      },
      "text/plain": [
       "<LAMBDA> DONE:   0%|          | 0/343 [00:00<?, ?it/s]"
      ]
     },
     "metadata": {},
     "output_type": "display_data"
    },
    {
     "data": {
      "application/vnd.jupyter.widget-view+json": {
       "model_id": "c29d0a4d22104a63b11905313d3ea46c",
       "version_major": 2,
       "version_minor": 0
      },
      "text/plain": [
       "<LAMBDA> DONE:   0%|          | 0/343 [00:00<?, ?it/s]"
      ]
     },
     "metadata": {},
     "output_type": "display_data"
    },
    {
     "data": {
      "application/vnd.jupyter.widget-view+json": {
       "model_id": "6c67fc85e00249118437cf5269b5a011",
       "version_major": 2,
       "version_minor": 0
      },
      "text/plain": [
       "<LAMBDA> DONE:   0%|          | 0/343 [00:00<?, ?it/s]"
      ]
     },
     "metadata": {},
     "output_type": "display_data"
    },
    {
     "data": {
      "application/vnd.jupyter.widget-view+json": {
       "model_id": "f07d8c03aa9c4123922a57e2b3cab28c",
       "version_major": 2,
       "version_minor": 0
      },
      "text/plain": [
       "<LAMBDA> DONE:   0%|          | 0/119 [00:00<?, ?it/s]"
      ]
     },
     "metadata": {},
     "output_type": "display_data"
    },
    {
     "data": {
      "application/vnd.jupyter.widget-view+json": {
       "model_id": "8ca0fadc84a6442ca8b402b93454c361",
       "version_major": 2,
       "version_minor": 0
      },
      "text/plain": [
       "<LAMBDA> DONE:   0%|          | 0/119 [00:00<?, ?it/s]"
      ]
     },
     "metadata": {},
     "output_type": "display_data"
    },
    {
     "data": {
      "application/vnd.jupyter.widget-view+json": {
       "model_id": "3a503e95462444d6bb7e66a6716c568d",
       "version_major": 2,
       "version_minor": 0
      },
      "text/plain": [
       "<LAMBDA> DONE:   0%|          | 0/119 [00:00<?, ?it/s]"
      ]
     },
     "metadata": {},
     "output_type": "display_data"
    },
    {
     "data": {
      "application/vnd.jupyter.widget-view+json": {
       "model_id": "d897b5d177af450c8f6b554dc20fbd6c",
       "version_major": 2,
       "version_minor": 0
      },
      "text/plain": [
       "<LAMBDA> DONE:   0%|          | 0/732 [00:00<?, ?it/s]"
      ]
     },
     "metadata": {},
     "output_type": "display_data"
    },
    {
     "data": {
      "application/vnd.jupyter.widget-view+json": {
       "model_id": "42fc2ee615bd43698c5c630b89d82de1",
       "version_major": 2,
       "version_minor": 0
      },
      "text/plain": [
       "<LAMBDA> DONE:   0%|          | 0/732 [00:00<?, ?it/s]"
      ]
     },
     "metadata": {},
     "output_type": "display_data"
    },
    {
     "data": {
      "application/vnd.jupyter.widget-view+json": {
       "model_id": "f8253b522a1845c9b2bba53db59183fe",
       "version_major": 2,
       "version_minor": 0
      },
      "text/plain": [
       "<LAMBDA> DONE:   0%|          | 0/732 [00:00<?, ?it/s]"
      ]
     },
     "metadata": {},
     "output_type": "display_data"
    },
    {
     "data": {
      "application/vnd.jupyter.widget-view+json": {
       "model_id": "7d6aaa7a88bd4dd2aec45af4d9b9f9aa",
       "version_major": 2,
       "version_minor": 0
      },
      "text/plain": [
       "<LAMBDA> DONE:   0%|          | 0/287 [00:00<?, ?it/s]"
      ]
     },
     "metadata": {},
     "output_type": "display_data"
    },
    {
     "data": {
      "application/vnd.jupyter.widget-view+json": {
       "model_id": "b93814059f074abdbd7ef47b61dbab13",
       "version_major": 2,
       "version_minor": 0
      },
      "text/plain": [
       "<LAMBDA> DONE:   0%|          | 0/287 [00:00<?, ?it/s]"
      ]
     },
     "metadata": {},
     "output_type": "display_data"
    },
    {
     "data": {
      "application/vnd.jupyter.widget-view+json": {
       "model_id": "2fe155ef84e54f969635c619753190f2",
       "version_major": 2,
       "version_minor": 0
      },
      "text/plain": [
       "<LAMBDA> DONE:   0%|          | 0/287 [00:00<?, ?it/s]"
      ]
     },
     "metadata": {},
     "output_type": "display_data"
    },
    {
     "name": "stderr",
     "output_type": "stream",
     "text": [
      "/tmp/ipykernel_3805226/2830027787.py:60: PerformanceWarning: \n",
      "your performance may suffer as PyTables will pickle object types that it cannot\n",
      "map directly to c-types [inferred_type->mixed,key->block2_values] [items->Index(['sp_tree_tail', 'sp_tree_head', 'ldo_category', 'mdo_category',\n",
      "       'species', 'ldo_gene', 'mdo_gene', 'outgroup_species', 'out_gene'],\n",
      "      dtype='object')]\n",
      "\n",
      "  pd.concat(tmp).to_hdf(f'{RES_PATH}/{key}.h5', sp, complevel=9, complib='zlib')\n"
     ]
    },
    {
     "data": {
      "application/vnd.jupyter.widget-view+json": {
       "model_id": "6d1184c73bc042b9b4f641417e21d33a",
       "version_major": 2,
       "version_minor": 0
      },
      "text/plain": [
       "<LAMBDA> DONE:   0%|          | 0/2267 [00:00<?, ?it/s]"
      ]
     },
     "metadata": {},
     "output_type": "display_data"
    },
    {
     "data": {
      "application/vnd.jupyter.widget-view+json": {
       "model_id": "df2d66b7ee0445dfb58501dd3d24bc45",
       "version_major": 2,
       "version_minor": 0
      },
      "text/plain": [
       "<LAMBDA> DONE:   0%|          | 0/2267 [00:00<?, ?it/s]"
      ]
     },
     "metadata": {},
     "output_type": "display_data"
    },
    {
     "data": {
      "application/vnd.jupyter.widget-view+json": {
       "model_id": "614ba223a2474ae09b651565e4467686",
       "version_major": 2,
       "version_minor": 0
      },
      "text/plain": [
       "<LAMBDA> DONE:   0%|          | 0/2267 [00:00<?, ?it/s]"
      ]
     },
     "metadata": {},
     "output_type": "display_data"
    },
    {
     "data": {
      "application/vnd.jupyter.widget-view+json": {
       "model_id": "df927808ae7f4f55bc65803818a23b63",
       "version_major": 2,
       "version_minor": 0
      },
      "text/plain": [
       "<LAMBDA> DONE:   0%|          | 0/294 [00:00<?, ?it/s]"
      ]
     },
     "metadata": {},
     "output_type": "display_data"
    },
    {
     "data": {
      "application/vnd.jupyter.widget-view+json": {
       "model_id": "c9b834c1cba140efb852ecc62b243e84",
       "version_major": 2,
       "version_minor": 0
      },
      "text/plain": [
       "<LAMBDA> DONE:   0%|          | 0/294 [00:00<?, ?it/s]"
      ]
     },
     "metadata": {},
     "output_type": "display_data"
    },
    {
     "data": {
      "application/vnd.jupyter.widget-view+json": {
       "model_id": "10a4bb210189412db0196c23938b3043",
       "version_major": 2,
       "version_minor": 0
      },
      "text/plain": [
       "<LAMBDA> DONE:   0%|          | 0/294 [00:00<?, ?it/s]"
      ]
     },
     "metadata": {},
     "output_type": "display_data"
    },
    {
     "data": {
      "application/vnd.jupyter.widget-view+json": {
       "model_id": "dcbba7e7c3824569851b2e6eadd3012a",
       "version_major": 2,
       "version_minor": 0
      },
      "text/plain": [
       "<LAMBDA> DONE:   0%|          | 0/97 [00:00<?, ?it/s]"
      ]
     },
     "metadata": {},
     "output_type": "display_data"
    },
    {
     "data": {
      "application/vnd.jupyter.widget-view+json": {
       "model_id": "0ee26fcf2f5f4318ad5e72b9c16c0b6c",
       "version_major": 2,
       "version_minor": 0
      },
      "text/plain": [
       "<LAMBDA> DONE:   0%|          | 0/97 [00:00<?, ?it/s]"
      ]
     },
     "metadata": {},
     "output_type": "display_data"
    },
    {
     "data": {
      "application/vnd.jupyter.widget-view+json": {
       "model_id": "0ece14d085e24811b8fafd28084d23e4",
       "version_major": 2,
       "version_minor": 0
      },
      "text/plain": [
       "<LAMBDA> DONE:   0%|          | 0/97 [00:00<?, ?it/s]"
      ]
     },
     "metadata": {},
     "output_type": "display_data"
    },
    {
     "data": {
      "application/vnd.jupyter.widget-view+json": {
       "model_id": "c3d1aacd6896492785e8bada25aca32e",
       "version_major": 2,
       "version_minor": 0
      },
      "text/plain": [
       "<LAMBDA> DONE:   0%|          | 0/28 [00:00<?, ?it/s]"
      ]
     },
     "metadata": {},
     "output_type": "display_data"
    },
    {
     "data": {
      "application/vnd.jupyter.widget-view+json": {
       "model_id": "eddc91cd5c2f4898b4e04c386af2633a",
       "version_major": 2,
       "version_minor": 0
      },
      "text/plain": [
       "<LAMBDA> DONE:   0%|          | 0/28 [00:00<?, ?it/s]"
      ]
     },
     "metadata": {},
     "output_type": "display_data"
    },
    {
     "data": {
      "application/vnd.jupyter.widget-view+json": {
       "model_id": "4602230a09b5496a9789e35324366e47",
       "version_major": 2,
       "version_minor": 0
      },
      "text/plain": [
       "<LAMBDA> DONE:   0%|          | 0/28 [00:00<?, ?it/s]"
      ]
     },
     "metadata": {},
     "output_type": "display_data"
    },
    {
     "data": {
      "application/vnd.jupyter.widget-view+json": {
       "model_id": "760812190a6145ca8d14152fae75f531",
       "version_major": 2,
       "version_minor": 0
      },
      "text/plain": [
       "<LAMBDA> DONE:   0%|          | 0/59 [00:00<?, ?it/s]"
      ]
     },
     "metadata": {},
     "output_type": "display_data"
    },
    {
     "data": {
      "application/vnd.jupyter.widget-view+json": {
       "model_id": "a0eb1079eabc434290647f240f164096",
       "version_major": 2,
       "version_minor": 0
      },
      "text/plain": [
       "<LAMBDA> DONE:   0%|          | 0/59 [00:00<?, ?it/s]"
      ]
     },
     "metadata": {},
     "output_type": "display_data"
    },
    {
     "data": {
      "application/vnd.jupyter.widget-view+json": {
       "model_id": "cfc68ab654644c4bb67e3f238f4bc0bf",
       "version_major": 2,
       "version_minor": 0
      },
      "text/plain": [
       "<LAMBDA> DONE:   0%|          | 0/59 [00:00<?, ?it/s]"
      ]
     },
     "metadata": {},
     "output_type": "display_data"
    },
    {
     "data": {
      "application/vnd.jupyter.widget-view+json": {
       "model_id": "6539de02329140d095d535eee3523eb9",
       "version_major": 2,
       "version_minor": 0
      },
      "text/plain": [
       "<LAMBDA> DONE:   0%|          | 0/343 [00:00<?, ?it/s]"
      ]
     },
     "metadata": {},
     "output_type": "display_data"
    },
    {
     "data": {
      "application/vnd.jupyter.widget-view+json": {
       "model_id": "f40697177f50456dab83fcef2be59464",
       "version_major": 2,
       "version_minor": 0
      },
      "text/plain": [
       "<LAMBDA> DONE:   0%|          | 0/343 [00:00<?, ?it/s]"
      ]
     },
     "metadata": {},
     "output_type": "display_data"
    },
    {
     "data": {
      "application/vnd.jupyter.widget-view+json": {
       "model_id": "0e0eb60bff134e128f8c4a3fade34e19",
       "version_major": 2,
       "version_minor": 0
      },
      "text/plain": [
       "<LAMBDA> DONE:   0%|          | 0/343 [00:00<?, ?it/s]"
      ]
     },
     "metadata": {},
     "output_type": "display_data"
    },
    {
     "data": {
      "application/vnd.jupyter.widget-view+json": {
       "model_id": "cfe958949ee84b92a6303519970a0bac",
       "version_major": 2,
       "version_minor": 0
      },
      "text/plain": [
       "<LAMBDA> DONE:   0%|          | 0/119 [00:00<?, ?it/s]"
      ]
     },
     "metadata": {},
     "output_type": "display_data"
    },
    {
     "data": {
      "application/vnd.jupyter.widget-view+json": {
       "model_id": "6ce6739e5ad64d0e9f3ee8f954d066c0",
       "version_major": 2,
       "version_minor": 0
      },
      "text/plain": [
       "<LAMBDA> DONE:   0%|          | 0/119 [00:00<?, ?it/s]"
      ]
     },
     "metadata": {},
     "output_type": "display_data"
    },
    {
     "data": {
      "application/vnd.jupyter.widget-view+json": {
       "model_id": "f0bc752d2bdf4ab499e6331037935eab",
       "version_major": 2,
       "version_minor": 0
      },
      "text/plain": [
       "<LAMBDA> DONE:   0%|          | 0/119 [00:00<?, ?it/s]"
      ]
     },
     "metadata": {},
     "output_type": "display_data"
    },
    {
     "data": {
      "application/vnd.jupyter.widget-view+json": {
       "model_id": "6886a3b7bb7b48b2ae0e4f6ad68df4c1",
       "version_major": 2,
       "version_minor": 0
      },
      "text/plain": [
       "<LAMBDA> DONE:   0%|          | 0/732 [00:00<?, ?it/s]"
      ]
     },
     "metadata": {},
     "output_type": "display_data"
    },
    {
     "data": {
      "application/vnd.jupyter.widget-view+json": {
       "model_id": "aef8527bf5604ab2bb4793453afd7db7",
       "version_major": 2,
       "version_minor": 0
      },
      "text/plain": [
       "<LAMBDA> DONE:   0%|          | 0/732 [00:00<?, ?it/s]"
      ]
     },
     "metadata": {},
     "output_type": "display_data"
    },
    {
     "data": {
      "application/vnd.jupyter.widget-view+json": {
       "model_id": "09476e30bba1469d893793149c6d9e7f",
       "version_major": 2,
       "version_minor": 0
      },
      "text/plain": [
       "<LAMBDA> DONE:   0%|          | 0/732 [00:00<?, ?it/s]"
      ]
     },
     "metadata": {},
     "output_type": "display_data"
    },
    {
     "data": {
      "application/vnd.jupyter.widget-view+json": {
       "model_id": "bd067c7bd5804b2eb2a9921bf4b3d535",
       "version_major": 2,
       "version_minor": 0
      },
      "text/plain": [
       "<LAMBDA> DONE:   0%|          | 0/287 [00:00<?, ?it/s]"
      ]
     },
     "metadata": {},
     "output_type": "display_data"
    },
    {
     "data": {
      "application/vnd.jupyter.widget-view+json": {
       "model_id": "c029ff7ff3de412d825f3097464c512c",
       "version_major": 2,
       "version_minor": 0
      },
      "text/plain": [
       "<LAMBDA> DONE:   0%|          | 0/287 [00:00<?, ?it/s]"
      ]
     },
     "metadata": {},
     "output_type": "display_data"
    },
    {
     "data": {
      "application/vnd.jupyter.widget-view+json": {
       "model_id": "01cda687b13c4f57931d1cc4e41b7632",
       "version_major": 2,
       "version_minor": 0
      },
      "text/plain": [
       "<LAMBDA> DONE:   0%|          | 0/287 [00:00<?, ?it/s]"
      ]
     },
     "metadata": {},
     "output_type": "display_data"
    },
    {
     "name": "stderr",
     "output_type": "stream",
     "text": [
      "/tmp/ipykernel_3805226/2830027787.py:60: PerformanceWarning: \n",
      "your performance may suffer as PyTables will pickle object types that it cannot\n",
      "map directly to c-types [inferred_type->mixed,key->block2_values] [items->Index(['sp_tree_tail', 'sp_tree_head', 'ldo_category', 'mdo_category',\n",
      "       'species', 'ldo_gene', 'mdo_gene', 'outgroup_species', 'out_gene'],\n",
      "      dtype='object')]\n",
      "\n",
      "  pd.concat(tmp).to_hdf(f'{RES_PATH}/{key}.h5', sp, complevel=9, complib='zlib')\n"
     ]
    },
    {
     "data": {
      "application/vnd.jupyter.widget-view+json": {
       "model_id": "c11b53da7846407e9dc5814d217ca20e",
       "version_major": 2,
       "version_minor": 0
      },
      "text/plain": [
       "<LAMBDA> DONE:   0%|          | 0/1081 [00:00<?, ?it/s]"
      ]
     },
     "metadata": {},
     "output_type": "display_data"
    },
    {
     "data": {
      "application/vnd.jupyter.widget-view+json": {
       "model_id": "aa40001eeda04de7904a2b493b3b9ebb",
       "version_major": 2,
       "version_minor": 0
      },
      "text/plain": [
       "<LAMBDA> DONE:   0%|          | 0/1081 [00:00<?, ?it/s]"
      ]
     },
     "metadata": {},
     "output_type": "display_data"
    },
    {
     "data": {
      "application/vnd.jupyter.widget-view+json": {
       "model_id": "8a4d2a843a32451aac90086e95cdde79",
       "version_major": 2,
       "version_minor": 0
      },
      "text/plain": [
       "<LAMBDA> DONE:   0%|          | 0/1081 [00:00<?, ?it/s]"
      ]
     },
     "metadata": {},
     "output_type": "display_data"
    },
    {
     "data": {
      "application/vnd.jupyter.widget-view+json": {
       "model_id": "7cb6703d90414bfba5479f76b368def3",
       "version_major": 2,
       "version_minor": 0
      },
      "text/plain": [
       "<LAMBDA> DONE:   0%|          | 0/155 [00:00<?, ?it/s]"
      ]
     },
     "metadata": {},
     "output_type": "display_data"
    },
    {
     "data": {
      "application/vnd.jupyter.widget-view+json": {
       "model_id": "e12f0a1ff94645238a4e829ef12988bb",
       "version_major": 2,
       "version_minor": 0
      },
      "text/plain": [
       "<LAMBDA> DONE:   0%|          | 0/155 [00:00<?, ?it/s]"
      ]
     },
     "metadata": {},
     "output_type": "display_data"
    },
    {
     "data": {
      "application/vnd.jupyter.widget-view+json": {
       "model_id": "b5a8a005b977486785bd4842199e767a",
       "version_major": 2,
       "version_minor": 0
      },
      "text/plain": [
       "<LAMBDA> DONE:   0%|          | 0/155 [00:00<?, ?it/s]"
      ]
     },
     "metadata": {},
     "output_type": "display_data"
    },
    {
     "data": {
      "application/vnd.jupyter.widget-view+json": {
       "model_id": "b5b069e60ef347578eab1b59358f1a2d",
       "version_major": 2,
       "version_minor": 0
      },
      "text/plain": [
       "<LAMBDA> DONE:   0%|          | 0/325 [00:00<?, ?it/s]"
      ]
     },
     "metadata": {},
     "output_type": "display_data"
    },
    {
     "data": {
      "application/vnd.jupyter.widget-view+json": {
       "model_id": "df50a6e34cca4cb9bcd3c2a9760e8837",
       "version_major": 2,
       "version_minor": 0
      },
      "text/plain": [
       "<LAMBDA> DONE:   0%|          | 0/325 [00:00<?, ?it/s]"
      ]
     },
     "metadata": {},
     "output_type": "display_data"
    },
    {
     "data": {
      "application/vnd.jupyter.widget-view+json": {
       "model_id": "558decc595704141b3acf2cd0f85a62e",
       "version_major": 2,
       "version_minor": 0
      },
      "text/plain": [
       "<LAMBDA> DONE:   0%|          | 0/325 [00:00<?, ?it/s]"
      ]
     },
     "metadata": {},
     "output_type": "display_data"
    },
    {
     "data": {
      "application/vnd.jupyter.widget-view+json": {
       "model_id": "ca6028cd4ffd407aa34cbdd25d11519d",
       "version_major": 2,
       "version_minor": 0
      },
      "text/plain": [
       "<LAMBDA> DONE:   0%|          | 0/12560 [00:00<?, ?it/s]"
      ]
     },
     "metadata": {},
     "output_type": "display_data"
    },
    {
     "data": {
      "application/vnd.jupyter.widget-view+json": {
       "model_id": "b7dd7fca3d584aaf82c7e169d55f5160",
       "version_major": 2,
       "version_minor": 0
      },
      "text/plain": [
       "<LAMBDA> DONE:   0%|          | 0/12560 [00:00<?, ?it/s]"
      ]
     },
     "metadata": {},
     "output_type": "display_data"
    },
    {
     "data": {
      "application/vnd.jupyter.widget-view+json": {
       "model_id": "30e9d38e7b53485295c1d4e9e8ab0ddf",
       "version_major": 2,
       "version_minor": 0
      },
      "text/plain": [
       "<LAMBDA> DONE:   0%|          | 0/12560 [00:00<?, ?it/s]"
      ]
     },
     "metadata": {},
     "output_type": "display_data"
    },
    {
     "data": {
      "application/vnd.jupyter.widget-view+json": {
       "model_id": "347fdef2b4fe490d8cbc16fe12ce0060",
       "version_major": 2,
       "version_minor": 0
      },
      "text/plain": [
       "<LAMBDA> DONE:   0%|          | 0/201 [00:00<?, ?it/s]"
      ]
     },
     "metadata": {},
     "output_type": "display_data"
    },
    {
     "data": {
      "application/vnd.jupyter.widget-view+json": {
       "model_id": "333fa835ab8847f9a3ee21a12527a7e2",
       "version_major": 2,
       "version_minor": 0
      },
      "text/plain": [
       "<LAMBDA> DONE:   0%|          | 0/201 [00:00<?, ?it/s]"
      ]
     },
     "metadata": {},
     "output_type": "display_data"
    },
    {
     "data": {
      "application/vnd.jupyter.widget-view+json": {
       "model_id": "1a389c7a37444c43ae2dd88e53952daf",
       "version_major": 2,
       "version_minor": 0
      },
      "text/plain": [
       "<LAMBDA> DONE:   0%|          | 0/201 [00:00<?, ?it/s]"
      ]
     },
     "metadata": {},
     "output_type": "display_data"
    },
    {
     "data": {
      "application/vnd.jupyter.widget-view+json": {
       "model_id": "9312dcd7bc6b4eef8420fd3ab1023d8c",
       "version_major": 2,
       "version_minor": 0
      },
      "text/plain": [
       "<LAMBDA> DONE:   0%|          | 0/1936 [00:00<?, ?it/s]"
      ]
     },
     "metadata": {},
     "output_type": "display_data"
    },
    {
     "data": {
      "application/vnd.jupyter.widget-view+json": {
       "model_id": "0bf870c946b0439f92eb5dd26c26e3f5",
       "version_major": 2,
       "version_minor": 0
      },
      "text/plain": [
       "<LAMBDA> DONE:   0%|          | 0/1936 [00:00<?, ?it/s]"
      ]
     },
     "metadata": {},
     "output_type": "display_data"
    },
    {
     "data": {
      "application/vnd.jupyter.widget-view+json": {
       "model_id": "00ad4207cbaa4df89ea0842030e93fde",
       "version_major": 2,
       "version_minor": 0
      },
      "text/plain": [
       "<LAMBDA> DONE:   0%|          | 0/1936 [00:00<?, ?it/s]"
      ]
     },
     "metadata": {},
     "output_type": "display_data"
    },
    {
     "data": {
      "application/vnd.jupyter.widget-view+json": {
       "model_id": "053b00bc18b34d4f9e11a72fea97951d",
       "version_major": 2,
       "version_minor": 0
      },
      "text/plain": [
       "<LAMBDA> DONE:   0%|          | 0/507 [00:00<?, ?it/s]"
      ]
     },
     "metadata": {},
     "output_type": "display_data"
    },
    {
     "data": {
      "application/vnd.jupyter.widget-view+json": {
       "model_id": "3797facb7fee41619a00f46aad84bfc5",
       "version_major": 2,
       "version_minor": 0
      },
      "text/plain": [
       "<LAMBDA> DONE:   0%|          | 0/507 [00:00<?, ?it/s]"
      ]
     },
     "metadata": {},
     "output_type": "display_data"
    },
    {
     "data": {
      "application/vnd.jupyter.widget-view+json": {
       "model_id": "9e0b42e4d9264e20af8694cd61955e8d",
       "version_major": 2,
       "version_minor": 0
      },
      "text/plain": [
       "<LAMBDA> DONE:   0%|          | 0/507 [00:00<?, ?it/s]"
      ]
     },
     "metadata": {},
     "output_type": "display_data"
    },
    {
     "data": {
      "application/vnd.jupyter.widget-view+json": {
       "model_id": "cf174eb3924d4c2ba8727e4b10c6f0b5",
       "version_major": 2,
       "version_minor": 0
      },
      "text/plain": [
       "<LAMBDA> DONE:   0%|          | 0/305 [00:00<?, ?it/s]"
      ]
     },
     "metadata": {},
     "output_type": "display_data"
    },
    {
     "data": {
      "application/vnd.jupyter.widget-view+json": {
       "model_id": "67ca8a2da4dd419ca36223208475986f",
       "version_major": 2,
       "version_minor": 0
      },
      "text/plain": [
       "<LAMBDA> DONE:   0%|          | 0/305 [00:00<?, ?it/s]"
      ]
     },
     "metadata": {},
     "output_type": "display_data"
    },
    {
     "data": {
      "application/vnd.jupyter.widget-view+json": {
       "model_id": "cd2ebfc0af034cdcaad66ac8551f0259",
       "version_major": 2,
       "version_minor": 0
      },
      "text/plain": [
       "<LAMBDA> DONE:   0%|          | 0/305 [00:00<?, ?it/s]"
      ]
     },
     "metadata": {},
     "output_type": "display_data"
    },
    {
     "data": {
      "application/vnd.jupyter.widget-view+json": {
       "model_id": "795a50efaa0f440c83ab173ec51b8cf9",
       "version_major": 2,
       "version_minor": 0
      },
      "text/plain": [
       "<LAMBDA> DONE:   0%|          | 0/691 [00:00<?, ?it/s]"
      ]
     },
     "metadata": {},
     "output_type": "display_data"
    },
    {
     "data": {
      "application/vnd.jupyter.widget-view+json": {
       "model_id": "1217cce02a924f2892e9072112be5911",
       "version_major": 2,
       "version_minor": 0
      },
      "text/plain": [
       "<LAMBDA> DONE:   0%|          | 0/691 [00:00<?, ?it/s]"
      ]
     },
     "metadata": {},
     "output_type": "display_data"
    },
    {
     "data": {
      "application/vnd.jupyter.widget-view+json": {
       "model_id": "3db7bcad133b40f489aa99b37974a037",
       "version_major": 2,
       "version_minor": 0
      },
      "text/plain": [
       "<LAMBDA> DONE:   0%|          | 0/691 [00:00<?, ?it/s]"
      ]
     },
     "metadata": {},
     "output_type": "display_data"
    },
    {
     "name": "stderr",
     "output_type": "stream",
     "text": [
      "/tmp/ipykernel_3805226/2830027787.py:60: FutureWarning: The behavior of DataFrame concatenation with empty or all-NA entries is deprecated. In a future version, this will no longer exclude empty or all-NA columns when determining the result dtypes. To retain the old behavior, exclude the relevant entries before the concat operation.\n",
      "  pd.concat(tmp).to_hdf(f'{RES_PATH}/{key}.h5', sp, complevel=9, complib='zlib')\n",
      "/tmp/ipykernel_3805226/2830027787.py:60: PerformanceWarning: \n",
      "your performance may suffer as PyTables will pickle object types that it cannot\n",
      "map directly to c-types [inferred_type->mixed,key->block2_values] [items->Index(['sp_tree_tail', 'sp_tree_head', 'ldo_category', 'mdo_category',\n",
      "       'species', 'ldo_gene', 'mdo_gene', 'outgroup_species', 'out_gene'],\n",
      "      dtype='object')]\n",
      "\n",
      "  pd.concat(tmp).to_hdf(f'{RES_PATH}/{key}.h5', sp, complevel=9, complib='zlib')\n"
     ]
    },
    {
     "data": {
      "application/vnd.jupyter.widget-view+json": {
       "model_id": "89a5ecfbe0bc4f96ba57bee72b1bf245",
       "version_major": 2,
       "version_minor": 0
      },
      "text/plain": [
       "<LAMBDA> DONE:   0%|          | 0/1081 [00:00<?, ?it/s]"
      ]
     },
     "metadata": {},
     "output_type": "display_data"
    },
    {
     "data": {
      "application/vnd.jupyter.widget-view+json": {
       "model_id": "7ebf70c3dc9844b38604f3273e15a842",
       "version_major": 2,
       "version_minor": 0
      },
      "text/plain": [
       "<LAMBDA> DONE:   0%|          | 0/1081 [00:00<?, ?it/s]"
      ]
     },
     "metadata": {},
     "output_type": "display_data"
    },
    {
     "data": {
      "application/vnd.jupyter.widget-view+json": {
       "model_id": "04fbf6a40b404e8e969de6dc33d38bce",
       "version_major": 2,
       "version_minor": 0
      },
      "text/plain": [
       "<LAMBDA> DONE:   0%|          | 0/1081 [00:00<?, ?it/s]"
      ]
     },
     "metadata": {},
     "output_type": "display_data"
    },
    {
     "data": {
      "application/vnd.jupyter.widget-view+json": {
       "model_id": "98de3f02e9384b27a50ff7207f2a0f6f",
       "version_major": 2,
       "version_minor": 0
      },
      "text/plain": [
       "<LAMBDA> DONE:   0%|          | 0/155 [00:00<?, ?it/s]"
      ]
     },
     "metadata": {},
     "output_type": "display_data"
    },
    {
     "data": {
      "application/vnd.jupyter.widget-view+json": {
       "model_id": "aced876619d944419a7c35a70e7829d8",
       "version_major": 2,
       "version_minor": 0
      },
      "text/plain": [
       "<LAMBDA> DONE:   0%|          | 0/155 [00:00<?, ?it/s]"
      ]
     },
     "metadata": {},
     "output_type": "display_data"
    },
    {
     "data": {
      "application/vnd.jupyter.widget-view+json": {
       "model_id": "313f82a809b748878ee7ccb3fd5db3fe",
       "version_major": 2,
       "version_minor": 0
      },
      "text/plain": [
       "<LAMBDA> DONE:   0%|          | 0/155 [00:00<?, ?it/s]"
      ]
     },
     "metadata": {},
     "output_type": "display_data"
    },
    {
     "data": {
      "application/vnd.jupyter.widget-view+json": {
       "model_id": "4d73ff3cba124ad493d2c4e75b6ded1b",
       "version_major": 2,
       "version_minor": 0
      },
      "text/plain": [
       "<LAMBDA> DONE:   0%|          | 0/325 [00:00<?, ?it/s]"
      ]
     },
     "metadata": {},
     "output_type": "display_data"
    },
    {
     "data": {
      "application/vnd.jupyter.widget-view+json": {
       "model_id": "08391be32c224aecac9585df14e67b10",
       "version_major": 2,
       "version_minor": 0
      },
      "text/plain": [
       "<LAMBDA> DONE:   0%|          | 0/325 [00:00<?, ?it/s]"
      ]
     },
     "metadata": {},
     "output_type": "display_data"
    },
    {
     "data": {
      "application/vnd.jupyter.widget-view+json": {
       "model_id": "259dd44880774119b9f36ee5580ea1df",
       "version_major": 2,
       "version_minor": 0
      },
      "text/plain": [
       "<LAMBDA> DONE:   0%|          | 0/325 [00:00<?, ?it/s]"
      ]
     },
     "metadata": {},
     "output_type": "display_data"
    },
    {
     "data": {
      "application/vnd.jupyter.widget-view+json": {
       "model_id": "55e76046de584fc899cf075e38350fd8",
       "version_major": 2,
       "version_minor": 0
      },
      "text/plain": [
       "<LAMBDA> DONE:   0%|          | 0/12560 [00:00<?, ?it/s]"
      ]
     },
     "metadata": {},
     "output_type": "display_data"
    },
    {
     "data": {
      "application/vnd.jupyter.widget-view+json": {
       "model_id": "6463ea16a0644c70ae75a9aaf0bed9f9",
       "version_major": 2,
       "version_minor": 0
      },
      "text/plain": [
       "<LAMBDA> DONE:   0%|          | 0/12560 [00:00<?, ?it/s]"
      ]
     },
     "metadata": {},
     "output_type": "display_data"
    },
    {
     "data": {
      "application/vnd.jupyter.widget-view+json": {
       "model_id": "1bdd88d5e0ab49b387f17b6acc68ec51",
       "version_major": 2,
       "version_minor": 0
      },
      "text/plain": [
       "<LAMBDA> DONE:   0%|          | 0/12560 [00:00<?, ?it/s]"
      ]
     },
     "metadata": {},
     "output_type": "display_data"
    },
    {
     "data": {
      "application/vnd.jupyter.widget-view+json": {
       "model_id": "47334224fd074148a5f0d9c454edc1f0",
       "version_major": 2,
       "version_minor": 0
      },
      "text/plain": [
       "<LAMBDA> DONE:   0%|          | 0/201 [00:00<?, ?it/s]"
      ]
     },
     "metadata": {},
     "output_type": "display_data"
    },
    {
     "data": {
      "application/vnd.jupyter.widget-view+json": {
       "model_id": "dd4e661e671441d6b2e1025a7224ba5c",
       "version_major": 2,
       "version_minor": 0
      },
      "text/plain": [
       "<LAMBDA> DONE:   0%|          | 0/201 [00:00<?, ?it/s]"
      ]
     },
     "metadata": {},
     "output_type": "display_data"
    },
    {
     "data": {
      "application/vnd.jupyter.widget-view+json": {
       "model_id": "f09cadc404274fca92031099c0457099",
       "version_major": 2,
       "version_minor": 0
      },
      "text/plain": [
       "<LAMBDA> DONE:   0%|          | 0/201 [00:00<?, ?it/s]"
      ]
     },
     "metadata": {},
     "output_type": "display_data"
    },
    {
     "data": {
      "application/vnd.jupyter.widget-view+json": {
       "model_id": "b1b3bca6e52e49f3bfdb2177773b71a9",
       "version_major": 2,
       "version_minor": 0
      },
      "text/plain": [
       "<LAMBDA> DONE:   0%|          | 0/1936 [00:00<?, ?it/s]"
      ]
     },
     "metadata": {},
     "output_type": "display_data"
    },
    {
     "data": {
      "application/vnd.jupyter.widget-view+json": {
       "model_id": "f64beb234ec544ada77e39108b72e35e",
       "version_major": 2,
       "version_minor": 0
      },
      "text/plain": [
       "<LAMBDA> DONE:   0%|          | 0/1936 [00:00<?, ?it/s]"
      ]
     },
     "metadata": {},
     "output_type": "display_data"
    },
    {
     "data": {
      "application/vnd.jupyter.widget-view+json": {
       "model_id": "905fad87211145e2916ccb654fe79d42",
       "version_major": 2,
       "version_minor": 0
      },
      "text/plain": [
       "<LAMBDA> DONE:   0%|          | 0/1936 [00:00<?, ?it/s]"
      ]
     },
     "metadata": {},
     "output_type": "display_data"
    },
    {
     "data": {
      "application/vnd.jupyter.widget-view+json": {
       "model_id": "993480cdea42474d8a7f2dbb2ab14045",
       "version_major": 2,
       "version_minor": 0
      },
      "text/plain": [
       "<LAMBDA> DONE:   0%|          | 0/507 [00:00<?, ?it/s]"
      ]
     },
     "metadata": {},
     "output_type": "display_data"
    },
    {
     "data": {
      "application/vnd.jupyter.widget-view+json": {
       "model_id": "bc1995d6c7764210bfe2348b85f394b6",
       "version_major": 2,
       "version_minor": 0
      },
      "text/plain": [
       "<LAMBDA> DONE:   0%|          | 0/507 [00:00<?, ?it/s]"
      ]
     },
     "metadata": {},
     "output_type": "display_data"
    },
    {
     "data": {
      "application/vnd.jupyter.widget-view+json": {
       "model_id": "70a073f07a7f45138532122a52b7e5ea",
       "version_major": 2,
       "version_minor": 0
      },
      "text/plain": [
       "<LAMBDA> DONE:   0%|          | 0/507 [00:00<?, ?it/s]"
      ]
     },
     "metadata": {},
     "output_type": "display_data"
    },
    {
     "data": {
      "application/vnd.jupyter.widget-view+json": {
       "model_id": "1dd1d3f2ec6b4dc8b54b32367e81ac12",
       "version_major": 2,
       "version_minor": 0
      },
      "text/plain": [
       "<LAMBDA> DONE:   0%|          | 0/305 [00:00<?, ?it/s]"
      ]
     },
     "metadata": {},
     "output_type": "display_data"
    },
    {
     "data": {
      "application/vnd.jupyter.widget-view+json": {
       "model_id": "12a7049fd9394d079e3994301badee64",
       "version_major": 2,
       "version_minor": 0
      },
      "text/plain": [
       "<LAMBDA> DONE:   0%|          | 0/305 [00:00<?, ?it/s]"
      ]
     },
     "metadata": {},
     "output_type": "display_data"
    },
    {
     "data": {
      "application/vnd.jupyter.widget-view+json": {
       "model_id": "ed9967cc3c374deab9d86d2e92c02027",
       "version_major": 2,
       "version_minor": 0
      },
      "text/plain": [
       "<LAMBDA> DONE:   0%|          | 0/305 [00:00<?, ?it/s]"
      ]
     },
     "metadata": {},
     "output_type": "display_data"
    },
    {
     "data": {
      "application/vnd.jupyter.widget-view+json": {
       "model_id": "357a841814bf4bbfb0bddb7bd4f5265c",
       "version_major": 2,
       "version_minor": 0
      },
      "text/plain": [
       "<LAMBDA> DONE:   0%|          | 0/691 [00:00<?, ?it/s]"
      ]
     },
     "metadata": {},
     "output_type": "display_data"
    },
    {
     "data": {
      "application/vnd.jupyter.widget-view+json": {
       "model_id": "e727d7ce3b0643e1b8131ce6de977abe",
       "version_major": 2,
       "version_minor": 0
      },
      "text/plain": [
       "<LAMBDA> DONE:   0%|          | 0/691 [00:00<?, ?it/s]"
      ]
     },
     "metadata": {},
     "output_type": "display_data"
    },
    {
     "data": {
      "application/vnd.jupyter.widget-view+json": {
       "model_id": "91087d643e8a42ed8cdee3260418d1c1",
       "version_major": 2,
       "version_minor": 0
      },
      "text/plain": [
       "<LAMBDA> DONE:   0%|          | 0/691 [00:00<?, ?it/s]"
      ]
     },
     "metadata": {},
     "output_type": "display_data"
    },
    {
     "name": "stderr",
     "output_type": "stream",
     "text": [
      "/tmp/ipykernel_3805226/2830027787.py:60: FutureWarning: The behavior of DataFrame concatenation with empty or all-NA entries is deprecated. In a future version, this will no longer exclude empty or all-NA columns when determining the result dtypes. To retain the old behavior, exclude the relevant entries before the concat operation.\n",
      "  pd.concat(tmp).to_hdf(f'{RES_PATH}/{key}.h5', sp, complevel=9, complib='zlib')\n",
      "/tmp/ipykernel_3805226/2830027787.py:60: PerformanceWarning: \n",
      "your performance may suffer as PyTables will pickle object types that it cannot\n",
      "map directly to c-types [inferred_type->mixed,key->block2_values] [items->Index(['sp_tree_tail', 'sp_tree_head', 'ldo_category', 'mdo_category',\n",
      "       'species', 'ldo_gene', 'mdo_gene', 'outgroup_species', 'out_gene'],\n",
      "      dtype='object')]\n",
      "\n",
      "  pd.concat(tmp).to_hdf(f'{RES_PATH}/{key}.h5', sp, complevel=9, complib='zlib')\n"
     ]
    },
    {
     "data": {
      "application/vnd.jupyter.widget-view+json": {
       "model_id": "046a6f1ebcaa4cdfaf7229758ad8c12b",
       "version_major": 2,
       "version_minor": 0
      },
      "text/plain": [
       "<LAMBDA> DONE:   0%|          | 0/265 [00:00<?, ?it/s]"
      ]
     },
     "metadata": {},
     "output_type": "display_data"
    },
    {
     "data": {
      "application/vnd.jupyter.widget-view+json": {
       "model_id": "06b2e620e02944a2b14a63980de9bc87",
       "version_major": 2,
       "version_minor": 0
      },
      "text/plain": [
       "<LAMBDA> DONE:   0%|          | 0/265 [00:00<?, ?it/s]"
      ]
     },
     "metadata": {},
     "output_type": "display_data"
    },
    {
     "data": {
      "application/vnd.jupyter.widget-view+json": {
       "model_id": "a880b2f70a9d4ce19df125a2652695bd",
       "version_major": 2,
       "version_minor": 0
      },
      "text/plain": [
       "<LAMBDA> DONE:   0%|          | 0/265 [00:00<?, ?it/s]"
      ]
     },
     "metadata": {},
     "output_type": "display_data"
    },
    {
     "data": {
      "application/vnd.jupyter.widget-view+json": {
       "model_id": "df514f518333468881118793cdd78e25",
       "version_major": 2,
       "version_minor": 0
      },
      "text/plain": [
       "<LAMBDA> DONE:   0%|          | 0/99 [00:00<?, ?it/s]"
      ]
     },
     "metadata": {},
     "output_type": "display_data"
    },
    {
     "data": {
      "application/vnd.jupyter.widget-view+json": {
       "model_id": "684b58ff0c214018b5b798cc24a1220e",
       "version_major": 2,
       "version_minor": 0
      },
      "text/plain": [
       "<LAMBDA> DONE:   0%|          | 0/99 [00:00<?, ?it/s]"
      ]
     },
     "metadata": {},
     "output_type": "display_data"
    },
    {
     "data": {
      "application/vnd.jupyter.widget-view+json": {
       "model_id": "d9fbe2e51e4746c6971f6c86f3ecb7c7",
       "version_major": 2,
       "version_minor": 0
      },
      "text/plain": [
       "<LAMBDA> DONE:   0%|          | 0/99 [00:00<?, ?it/s]"
      ]
     },
     "metadata": {},
     "output_type": "display_data"
    },
    {
     "data": {
      "application/vnd.jupyter.widget-view+json": {
       "model_id": "15ae477083944c06a1f988125f91e123",
       "version_major": 2,
       "version_minor": 0
      },
      "text/plain": [
       "<LAMBDA> DONE:   0%|          | 0/54 [00:00<?, ?it/s]"
      ]
     },
     "metadata": {},
     "output_type": "display_data"
    },
    {
     "data": {
      "application/vnd.jupyter.widget-view+json": {
       "model_id": "e98e9b5adf3d494aac7a390eae74ebda",
       "version_major": 2,
       "version_minor": 0
      },
      "text/plain": [
       "<LAMBDA> DONE:   0%|          | 0/54 [00:00<?, ?it/s]"
      ]
     },
     "metadata": {},
     "output_type": "display_data"
    },
    {
     "data": {
      "application/vnd.jupyter.widget-view+json": {
       "model_id": "9b4da5e3bf9c425a9843baa2b496fcec",
       "version_major": 2,
       "version_minor": 0
      },
      "text/plain": [
       "<LAMBDA> DONE:   0%|          | 0/54 [00:00<?, ?it/s]"
      ]
     },
     "metadata": {},
     "output_type": "display_data"
    },
    {
     "data": {
      "application/vnd.jupyter.widget-view+json": {
       "model_id": "6d4558dfad884bb88bfe011960b91310",
       "version_major": 2,
       "version_minor": 0
      },
      "text/plain": [
       "<LAMBDA> DONE:   0%|          | 0/326 [00:00<?, ?it/s]"
      ]
     },
     "metadata": {},
     "output_type": "display_data"
    },
    {
     "data": {
      "application/vnd.jupyter.widget-view+json": {
       "model_id": "5a0f41c83aee4c678ed5482992548930",
       "version_major": 2,
       "version_minor": 0
      },
      "text/plain": [
       "<LAMBDA> DONE:   0%|          | 0/326 [00:00<?, ?it/s]"
      ]
     },
     "metadata": {},
     "output_type": "display_data"
    },
    {
     "data": {
      "application/vnd.jupyter.widget-view+json": {
       "model_id": "e052a48a58b242828efaa968c69f182b",
       "version_major": 2,
       "version_minor": 0
      },
      "text/plain": [
       "<LAMBDA> DONE:   0%|          | 0/326 [00:00<?, ?it/s]"
      ]
     },
     "metadata": {},
     "output_type": "display_data"
    },
    {
     "data": {
      "application/vnd.jupyter.widget-view+json": {
       "model_id": "9376b28d67a44155ab8d3e8b8189e97f",
       "version_major": 2,
       "version_minor": 0
      },
      "text/plain": [
       "<LAMBDA> DONE:   0%|          | 0/752 [00:00<?, ?it/s]"
      ]
     },
     "metadata": {},
     "output_type": "display_data"
    },
    {
     "data": {
      "application/vnd.jupyter.widget-view+json": {
       "model_id": "557fbea6892541b3af7f68f5ef70dfa6",
       "version_major": 2,
       "version_minor": 0
      },
      "text/plain": [
       "<LAMBDA> DONE:   0%|          | 0/752 [00:00<?, ?it/s]"
      ]
     },
     "metadata": {},
     "output_type": "display_data"
    },
    {
     "data": {
      "application/vnd.jupyter.widget-view+json": {
       "model_id": "ba3b4da4849a403cac3ace46311ccda0",
       "version_major": 2,
       "version_minor": 0
      },
      "text/plain": [
       "<LAMBDA> DONE:   0%|          | 0/752 [00:00<?, ?it/s]"
      ]
     },
     "metadata": {},
     "output_type": "display_data"
    },
    {
     "data": {
      "application/vnd.jupyter.widget-view+json": {
       "model_id": "1dac550db23b451c808f7de2392b0494",
       "version_major": 2,
       "version_minor": 0
      },
      "text/plain": [
       "<LAMBDA> DONE:   0%|          | 0/677 [00:00<?, ?it/s]"
      ]
     },
     "metadata": {},
     "output_type": "display_data"
    },
    {
     "data": {
      "application/vnd.jupyter.widget-view+json": {
       "model_id": "02fbdf5dedec477bb0d55e9422e3043d",
       "version_major": 2,
       "version_minor": 0
      },
      "text/plain": [
       "<LAMBDA> DONE:   0%|          | 0/677 [00:00<?, ?it/s]"
      ]
     },
     "metadata": {},
     "output_type": "display_data"
    },
    {
     "data": {
      "application/vnd.jupyter.widget-view+json": {
       "model_id": "6c4988b757f64e42a71b1a4b092e88b8",
       "version_major": 2,
       "version_minor": 0
      },
      "text/plain": [
       "<LAMBDA> DONE:   0%|          | 0/677 [00:00<?, ?it/s]"
      ]
     },
     "metadata": {},
     "output_type": "display_data"
    },
    {
     "data": {
      "application/vnd.jupyter.widget-view+json": {
       "model_id": "e8056717628d4bba8cce0402aac9f3ab",
       "version_major": 2,
       "version_minor": 0
      },
      "text/plain": [
       "<LAMBDA> DONE:   0%|          | 0/2391 [00:00<?, ?it/s]"
      ]
     },
     "metadata": {},
     "output_type": "display_data"
    },
    {
     "data": {
      "application/vnd.jupyter.widget-view+json": {
       "model_id": "c4f3d18fec454d51b5dfbc35eaf69b69",
       "version_major": 2,
       "version_minor": 0
      },
      "text/plain": [
       "<LAMBDA> DONE:   0%|          | 0/2391 [00:00<?, ?it/s]"
      ]
     },
     "metadata": {},
     "output_type": "display_data"
    },
    {
     "data": {
      "application/vnd.jupyter.widget-view+json": {
       "model_id": "f2e9d02b012e484885d4f653d4a6e3a0",
       "version_major": 2,
       "version_minor": 0
      },
      "text/plain": [
       "<LAMBDA> DONE:   0%|          | 0/2391 [00:00<?, ?it/s]"
      ]
     },
     "metadata": {},
     "output_type": "display_data"
    },
    {
     "data": {
      "application/vnd.jupyter.widget-view+json": {
       "model_id": "5eb35ff2f06f453b8643fc720f543e3f",
       "version_major": 2,
       "version_minor": 0
      },
      "text/plain": [
       "<LAMBDA> DONE:   0%|          | 0/291 [00:00<?, ?it/s]"
      ]
     },
     "metadata": {},
     "output_type": "display_data"
    },
    {
     "data": {
      "application/vnd.jupyter.widget-view+json": {
       "model_id": "bd9ce5da27a3432285f902bf5c153557",
       "version_major": 2,
       "version_minor": 0
      },
      "text/plain": [
       "<LAMBDA> DONE:   0%|          | 0/291 [00:00<?, ?it/s]"
      ]
     },
     "metadata": {},
     "output_type": "display_data"
    },
    {
     "data": {
      "application/vnd.jupyter.widget-view+json": {
       "model_id": "7b5956b4307647a7bf0523c20dbf02df",
       "version_major": 2,
       "version_minor": 0
      },
      "text/plain": [
       "<LAMBDA> DONE:   0%|          | 0/291 [00:00<?, ?it/s]"
      ]
     },
     "metadata": {},
     "output_type": "display_data"
    },
    {
     "name": "stderr",
     "output_type": "stream",
     "text": [
      "/tmp/ipykernel_3805226/2830027787.py:60: PerformanceWarning: \n",
      "your performance may suffer as PyTables will pickle object types that it cannot\n",
      "map directly to c-types [inferred_type->mixed,key->block2_values] [items->Index(['sp_tree_tail', 'sp_tree_head', 'ldo_category', 'mdo_category',\n",
      "       'species', 'ldo_gene', 'mdo_gene', 'outgroup_species', 'out_gene'],\n",
      "      dtype='object')]\n",
      "\n",
      "  pd.concat(tmp).to_hdf(f'{RES_PATH}/{key}.h5', sp, complevel=9, complib='zlib')\n"
     ]
    },
    {
     "data": {
      "application/vnd.jupyter.widget-view+json": {
       "model_id": "f70d3b194d9940b28140e831741369a3",
       "version_major": 2,
       "version_minor": 0
      },
      "text/plain": [
       "<LAMBDA> DONE:   0%|          | 0/265 [00:00<?, ?it/s]"
      ]
     },
     "metadata": {},
     "output_type": "display_data"
    },
    {
     "data": {
      "application/vnd.jupyter.widget-view+json": {
       "model_id": "e4a9301a189c4f7599b13075106728af",
       "version_major": 2,
       "version_minor": 0
      },
      "text/plain": [
       "<LAMBDA> DONE:   0%|          | 0/265 [00:00<?, ?it/s]"
      ]
     },
     "metadata": {},
     "output_type": "display_data"
    },
    {
     "data": {
      "application/vnd.jupyter.widget-view+json": {
       "model_id": "c308eb1a50db45a490cf58b6fe3d7ccb",
       "version_major": 2,
       "version_minor": 0
      },
      "text/plain": [
       "<LAMBDA> DONE:   0%|          | 0/265 [00:00<?, ?it/s]"
      ]
     },
     "metadata": {},
     "output_type": "display_data"
    },
    {
     "data": {
      "application/vnd.jupyter.widget-view+json": {
       "model_id": "1b7da70df44c40e195313ce886ce28db",
       "version_major": 2,
       "version_minor": 0
      },
      "text/plain": [
       "<LAMBDA> DONE:   0%|          | 0/99 [00:00<?, ?it/s]"
      ]
     },
     "metadata": {},
     "output_type": "display_data"
    },
    {
     "data": {
      "application/vnd.jupyter.widget-view+json": {
       "model_id": "09e5cc56f63e4435bc71ee20d596fa57",
       "version_major": 2,
       "version_minor": 0
      },
      "text/plain": [
       "<LAMBDA> DONE:   0%|          | 0/99 [00:00<?, ?it/s]"
      ]
     },
     "metadata": {},
     "output_type": "display_data"
    },
    {
     "data": {
      "application/vnd.jupyter.widget-view+json": {
       "model_id": "d48ffe5c27684251b23bba5bd68c33f4",
       "version_major": 2,
       "version_minor": 0
      },
      "text/plain": [
       "<LAMBDA> DONE:   0%|          | 0/99 [00:00<?, ?it/s]"
      ]
     },
     "metadata": {},
     "output_type": "display_data"
    },
    {
     "data": {
      "application/vnd.jupyter.widget-view+json": {
       "model_id": "cb2b0051e1504700945c9c840f52c44b",
       "version_major": 2,
       "version_minor": 0
      },
      "text/plain": [
       "<LAMBDA> DONE:   0%|          | 0/54 [00:00<?, ?it/s]"
      ]
     },
     "metadata": {},
     "output_type": "display_data"
    },
    {
     "data": {
      "application/vnd.jupyter.widget-view+json": {
       "model_id": "497af27994dc4f42b6032306b2c56601",
       "version_major": 2,
       "version_minor": 0
      },
      "text/plain": [
       "<LAMBDA> DONE:   0%|          | 0/54 [00:00<?, ?it/s]"
      ]
     },
     "metadata": {},
     "output_type": "display_data"
    },
    {
     "data": {
      "application/vnd.jupyter.widget-view+json": {
       "model_id": "0bb3054ee22a4eefb8212fb7f9ecdd6f",
       "version_major": 2,
       "version_minor": 0
      },
      "text/plain": [
       "<LAMBDA> DONE:   0%|          | 0/54 [00:00<?, ?it/s]"
      ]
     },
     "metadata": {},
     "output_type": "display_data"
    },
    {
     "data": {
      "application/vnd.jupyter.widget-view+json": {
       "model_id": "ccee416148da4fb48724d330ca1f5429",
       "version_major": 2,
       "version_minor": 0
      },
      "text/plain": [
       "<LAMBDA> DONE:   0%|          | 0/326 [00:00<?, ?it/s]"
      ]
     },
     "metadata": {},
     "output_type": "display_data"
    },
    {
     "data": {
      "application/vnd.jupyter.widget-view+json": {
       "model_id": "b4b63510c5bb4b429a5bfabea6852438",
       "version_major": 2,
       "version_minor": 0
      },
      "text/plain": [
       "<LAMBDA> DONE:   0%|          | 0/326 [00:00<?, ?it/s]"
      ]
     },
     "metadata": {},
     "output_type": "display_data"
    },
    {
     "data": {
      "application/vnd.jupyter.widget-view+json": {
       "model_id": "266bd604af564ad59c18e34b80b414b3",
       "version_major": 2,
       "version_minor": 0
      },
      "text/plain": [
       "<LAMBDA> DONE:   0%|          | 0/326 [00:00<?, ?it/s]"
      ]
     },
     "metadata": {},
     "output_type": "display_data"
    },
    {
     "data": {
      "application/vnd.jupyter.widget-view+json": {
       "model_id": "263e74ab368b43889131b088ac953b7b",
       "version_major": 2,
       "version_minor": 0
      },
      "text/plain": [
       "<LAMBDA> DONE:   0%|          | 0/752 [00:00<?, ?it/s]"
      ]
     },
     "metadata": {},
     "output_type": "display_data"
    },
    {
     "data": {
      "application/vnd.jupyter.widget-view+json": {
       "model_id": "b2587f63f5c948afa0e056df5b857086",
       "version_major": 2,
       "version_minor": 0
      },
      "text/plain": [
       "<LAMBDA> DONE:   0%|          | 0/752 [00:00<?, ?it/s]"
      ]
     },
     "metadata": {},
     "output_type": "display_data"
    },
    {
     "data": {
      "application/vnd.jupyter.widget-view+json": {
       "model_id": "3bcbb1b6987a41f4b31d073671d3c401",
       "version_major": 2,
       "version_minor": 0
      },
      "text/plain": [
       "<LAMBDA> DONE:   0%|          | 0/752 [00:00<?, ?it/s]"
      ]
     },
     "metadata": {},
     "output_type": "display_data"
    },
    {
     "data": {
      "application/vnd.jupyter.widget-view+json": {
       "model_id": "1f87240b95d04565a6102616845228ff",
       "version_major": 2,
       "version_minor": 0
      },
      "text/plain": [
       "<LAMBDA> DONE:   0%|          | 0/677 [00:00<?, ?it/s]"
      ]
     },
     "metadata": {},
     "output_type": "display_data"
    },
    {
     "data": {
      "application/vnd.jupyter.widget-view+json": {
       "model_id": "0cc575bf82634d37af5393ea57696b18",
       "version_major": 2,
       "version_minor": 0
      },
      "text/plain": [
       "<LAMBDA> DONE:   0%|          | 0/677 [00:00<?, ?it/s]"
      ]
     },
     "metadata": {},
     "output_type": "display_data"
    },
    {
     "data": {
      "application/vnd.jupyter.widget-view+json": {
       "model_id": "77e3b35820e34f98979dcfc26523e18a",
       "version_major": 2,
       "version_minor": 0
      },
      "text/plain": [
       "<LAMBDA> DONE:   0%|          | 0/677 [00:00<?, ?it/s]"
      ]
     },
     "metadata": {},
     "output_type": "display_data"
    },
    {
     "data": {
      "application/vnd.jupyter.widget-view+json": {
       "model_id": "a6cc96ec43b74916b934dd39344254b1",
       "version_major": 2,
       "version_minor": 0
      },
      "text/plain": [
       "<LAMBDA> DONE:   0%|          | 0/2391 [00:00<?, ?it/s]"
      ]
     },
     "metadata": {},
     "output_type": "display_data"
    },
    {
     "data": {
      "application/vnd.jupyter.widget-view+json": {
       "model_id": "491099920dde4629937fa47264ae17c0",
       "version_major": 2,
       "version_minor": 0
      },
      "text/plain": [
       "<LAMBDA> DONE:   0%|          | 0/2391 [00:00<?, ?it/s]"
      ]
     },
     "metadata": {},
     "output_type": "display_data"
    },
    {
     "data": {
      "application/vnd.jupyter.widget-view+json": {
       "model_id": "3a12739ed9f84e9e88d1dcf868dd2fd6",
       "version_major": 2,
       "version_minor": 0
      },
      "text/plain": [
       "<LAMBDA> DONE:   0%|          | 0/2391 [00:00<?, ?it/s]"
      ]
     },
     "metadata": {},
     "output_type": "display_data"
    },
    {
     "data": {
      "application/vnd.jupyter.widget-view+json": {
       "model_id": "c507704c91124de8a773c5e2c57f7797",
       "version_major": 2,
       "version_minor": 0
      },
      "text/plain": [
       "<LAMBDA> DONE:   0%|          | 0/291 [00:00<?, ?it/s]"
      ]
     },
     "metadata": {},
     "output_type": "display_data"
    },
    {
     "data": {
      "application/vnd.jupyter.widget-view+json": {
       "model_id": "2fb698d4285f48c78a317029202080ef",
       "version_major": 2,
       "version_minor": 0
      },
      "text/plain": [
       "<LAMBDA> DONE:   0%|          | 0/291 [00:00<?, ?it/s]"
      ]
     },
     "metadata": {},
     "output_type": "display_data"
    },
    {
     "data": {
      "application/vnd.jupyter.widget-view+json": {
       "model_id": "20a7899031764e75a27fcbb366af7394",
       "version_major": 2,
       "version_minor": 0
      },
      "text/plain": [
       "<LAMBDA> DONE:   0%|          | 0/291 [00:00<?, ?it/s]"
      ]
     },
     "metadata": {},
     "output_type": "display_data"
    },
    {
     "name": "stderr",
     "output_type": "stream",
     "text": [
      "/tmp/ipykernel_3805226/2830027787.py:60: PerformanceWarning: \n",
      "your performance may suffer as PyTables will pickle object types that it cannot\n",
      "map directly to c-types [inferred_type->mixed,key->block2_values] [items->Index(['sp_tree_tail', 'sp_tree_head', 'ldo_category', 'mdo_category',\n",
      "       'species', 'ldo_gene', 'mdo_gene', 'outgroup_species', 'out_gene'],\n",
      "      dtype='object')]\n",
      "\n",
      "  pd.concat(tmp).to_hdf(f'{RES_PATH}/{key}.h5', sp, complevel=9, complib='zlib')\n"
     ]
    },
    {
     "data": {
      "application/vnd.jupyter.widget-view+json": {
       "model_id": "46c694755f0840538ca1fbfb1b4a4e2e",
       "version_major": 2,
       "version_minor": 0
      },
      "text/plain": [
       "<LAMBDA> DONE:   0%|          | 0/265 [00:00<?, ?it/s]"
      ]
     },
     "metadata": {},
     "output_type": "display_data"
    },
    {
     "data": {
      "application/vnd.jupyter.widget-view+json": {
       "model_id": "215622b4f5e84d1993b18419df2a5509",
       "version_major": 2,
       "version_minor": 0
      },
      "text/plain": [
       "<LAMBDA> DONE:   0%|          | 0/265 [00:00<?, ?it/s]"
      ]
     },
     "metadata": {},
     "output_type": "display_data"
    },
    {
     "data": {
      "application/vnd.jupyter.widget-view+json": {
       "model_id": "30c23cb6db454b0393856feedc9d8013",
       "version_major": 2,
       "version_minor": 0
      },
      "text/plain": [
       "<LAMBDA> DONE:   0%|          | 0/265 [00:00<?, ?it/s]"
      ]
     },
     "metadata": {},
     "output_type": "display_data"
    },
    {
     "data": {
      "application/vnd.jupyter.widget-view+json": {
       "model_id": "02b55bd3ffc94d1aa1421f5ca2e0a68c",
       "version_major": 2,
       "version_minor": 0
      },
      "text/plain": [
       "<LAMBDA> DONE:   0%|          | 0/99 [00:00<?, ?it/s]"
      ]
     },
     "metadata": {},
     "output_type": "display_data"
    },
    {
     "data": {
      "application/vnd.jupyter.widget-view+json": {
       "model_id": "d6a8c772f3794268a9f5cdc849585512",
       "version_major": 2,
       "version_minor": 0
      },
      "text/plain": [
       "<LAMBDA> DONE:   0%|          | 0/99 [00:00<?, ?it/s]"
      ]
     },
     "metadata": {},
     "output_type": "display_data"
    },
    {
     "data": {
      "application/vnd.jupyter.widget-view+json": {
       "model_id": "13108dad341349e1a3c6c1a3cbdad5e8",
       "version_major": 2,
       "version_minor": 0
      },
      "text/plain": [
       "<LAMBDA> DONE:   0%|          | 0/99 [00:00<?, ?it/s]"
      ]
     },
     "metadata": {},
     "output_type": "display_data"
    },
    {
     "data": {
      "application/vnd.jupyter.widget-view+json": {
       "model_id": "434e4e108f2944b7bca7826749979dd4",
       "version_major": 2,
       "version_minor": 0
      },
      "text/plain": [
       "<LAMBDA> DONE:   0%|          | 0/54 [00:00<?, ?it/s]"
      ]
     },
     "metadata": {},
     "output_type": "display_data"
    },
    {
     "data": {
      "application/vnd.jupyter.widget-view+json": {
       "model_id": "ad43011557314b96ae064c874dd55b92",
       "version_major": 2,
       "version_minor": 0
      },
      "text/plain": [
       "<LAMBDA> DONE:   0%|          | 0/54 [00:00<?, ?it/s]"
      ]
     },
     "metadata": {},
     "output_type": "display_data"
    },
    {
     "data": {
      "application/vnd.jupyter.widget-view+json": {
       "model_id": "3f75dfdb8b974c1c88665f9fc18ae226",
       "version_major": 2,
       "version_minor": 0
      },
      "text/plain": [
       "<LAMBDA> DONE:   0%|          | 0/54 [00:00<?, ?it/s]"
      ]
     },
     "metadata": {},
     "output_type": "display_data"
    },
    {
     "data": {
      "application/vnd.jupyter.widget-view+json": {
       "model_id": "ec251d1cfb7047cb9da8d228e79c09ad",
       "version_major": 2,
       "version_minor": 0
      },
      "text/plain": [
       "<LAMBDA> DONE:   0%|          | 0/326 [00:00<?, ?it/s]"
      ]
     },
     "metadata": {},
     "output_type": "display_data"
    },
    {
     "data": {
      "application/vnd.jupyter.widget-view+json": {
       "model_id": "14e2fddfcff54e0380dafa5a14426838",
       "version_major": 2,
       "version_minor": 0
      },
      "text/plain": [
       "<LAMBDA> DONE:   0%|          | 0/326 [00:00<?, ?it/s]"
      ]
     },
     "metadata": {},
     "output_type": "display_data"
    },
    {
     "data": {
      "application/vnd.jupyter.widget-view+json": {
       "model_id": "5c7c3b18b23d4c648972f16325323c3d",
       "version_major": 2,
       "version_minor": 0
      },
      "text/plain": [
       "<LAMBDA> DONE:   0%|          | 0/326 [00:00<?, ?it/s]"
      ]
     },
     "metadata": {},
     "output_type": "display_data"
    },
    {
     "data": {
      "application/vnd.jupyter.widget-view+json": {
       "model_id": "e59dc9a5b8b74995934ba9868fc3ab76",
       "version_major": 2,
       "version_minor": 0
      },
      "text/plain": [
       "<LAMBDA> DONE:   0%|          | 0/752 [00:00<?, ?it/s]"
      ]
     },
     "metadata": {},
     "output_type": "display_data"
    },
    {
     "data": {
      "application/vnd.jupyter.widget-view+json": {
       "model_id": "8d3b7649b46142ca9d842ef03ab2a383",
       "version_major": 2,
       "version_minor": 0
      },
      "text/plain": [
       "<LAMBDA> DONE:   0%|          | 0/752 [00:00<?, ?it/s]"
      ]
     },
     "metadata": {},
     "output_type": "display_data"
    },
    {
     "data": {
      "application/vnd.jupyter.widget-view+json": {
       "model_id": "b50336e596854ab2a30f7451e6bb04f0",
       "version_major": 2,
       "version_minor": 0
      },
      "text/plain": [
       "<LAMBDA> DONE:   0%|          | 0/752 [00:00<?, ?it/s]"
      ]
     },
     "metadata": {},
     "output_type": "display_data"
    },
    {
     "data": {
      "application/vnd.jupyter.widget-view+json": {
       "model_id": "bb63b047b67d43b89496abe598333127",
       "version_major": 2,
       "version_minor": 0
      },
      "text/plain": [
       "<LAMBDA> DONE:   0%|          | 0/677 [00:00<?, ?it/s]"
      ]
     },
     "metadata": {},
     "output_type": "display_data"
    },
    {
     "data": {
      "application/vnd.jupyter.widget-view+json": {
       "model_id": "7d5345667f1c42dea81689fe6383e637",
       "version_major": 2,
       "version_minor": 0
      },
      "text/plain": [
       "<LAMBDA> DONE:   0%|          | 0/677 [00:00<?, ?it/s]"
      ]
     },
     "metadata": {},
     "output_type": "display_data"
    },
    {
     "data": {
      "application/vnd.jupyter.widget-view+json": {
       "model_id": "49cf0ab6e208488a859fa93b9e331c90",
       "version_major": 2,
       "version_minor": 0
      },
      "text/plain": [
       "<LAMBDA> DONE:   0%|          | 0/677 [00:00<?, ?it/s]"
      ]
     },
     "metadata": {},
     "output_type": "display_data"
    },
    {
     "data": {
      "application/vnd.jupyter.widget-view+json": {
       "model_id": "b703c514d68f464abee3993c9659142c",
       "version_major": 2,
       "version_minor": 0
      },
      "text/plain": [
       "<LAMBDA> DONE:   0%|          | 0/2391 [00:00<?, ?it/s]"
      ]
     },
     "metadata": {},
     "output_type": "display_data"
    },
    {
     "data": {
      "application/vnd.jupyter.widget-view+json": {
       "model_id": "3dbfccb42ad647faa9af0b64d182bc74",
       "version_major": 2,
       "version_minor": 0
      },
      "text/plain": [
       "<LAMBDA> DONE:   0%|          | 0/2391 [00:00<?, ?it/s]"
      ]
     },
     "metadata": {},
     "output_type": "display_data"
    },
    {
     "data": {
      "application/vnd.jupyter.widget-view+json": {
       "model_id": "abecbfaf3b7f40d08d64c622fb6f4997",
       "version_major": 2,
       "version_minor": 0
      },
      "text/plain": [
       "<LAMBDA> DONE:   0%|          | 0/2391 [00:00<?, ?it/s]"
      ]
     },
     "metadata": {},
     "output_type": "display_data"
    },
    {
     "data": {
      "application/vnd.jupyter.widget-view+json": {
       "model_id": "0eb79e0bdb324ad591cb5b36be87053e",
       "version_major": 2,
       "version_minor": 0
      },
      "text/plain": [
       "<LAMBDA> DONE:   0%|          | 0/291 [00:00<?, ?it/s]"
      ]
     },
     "metadata": {},
     "output_type": "display_data"
    },
    {
     "data": {
      "application/vnd.jupyter.widget-view+json": {
       "model_id": "66e677b118914a3eab2d2a49a991a41a",
       "version_major": 2,
       "version_minor": 0
      },
      "text/plain": [
       "<LAMBDA> DONE:   0%|          | 0/291 [00:00<?, ?it/s]"
      ]
     },
     "metadata": {},
     "output_type": "display_data"
    },
    {
     "data": {
      "application/vnd.jupyter.widget-view+json": {
       "model_id": "9a6cf2d39c994d4ca505f36ac715937b",
       "version_major": 2,
       "version_minor": 0
      },
      "text/plain": [
       "<LAMBDA> DONE:   0%|          | 0/291 [00:00<?, ?it/s]"
      ]
     },
     "metadata": {},
     "output_type": "display_data"
    },
    {
     "name": "stderr",
     "output_type": "stream",
     "text": [
      "/tmp/ipykernel_3805226/2830027787.py:60: PerformanceWarning: \n",
      "your performance may suffer as PyTables will pickle object types that it cannot\n",
      "map directly to c-types [inferred_type->mixed,key->block2_values] [items->Index(['sp_tree_tail', 'sp_tree_head', 'ldo_category', 'mdo_category',\n",
      "       'species', 'ldo_gene', 'mdo_gene', 'outgroup_species', 'out_gene'],\n",
      "      dtype='object')]\n",
      "\n",
      "  pd.concat(tmp).to_hdf(f'{RES_PATH}/{key}.h5', sp, complevel=9, complib='zlib')\n"
     ]
    },
    {
     "data": {
      "application/vnd.jupyter.widget-view+json": {
       "model_id": "9e06695439e74a97a2082e50189ec724",
       "version_major": 2,
       "version_minor": 0
      },
      "text/plain": [
       "<LAMBDA> DONE:   0%|          | 0/13225 [00:00<?, ?it/s]"
      ]
     },
     "metadata": {},
     "output_type": "display_data"
    },
    {
     "data": {
      "application/vnd.jupyter.widget-view+json": {
       "model_id": "d127ffa413284c94a80d756f02a3c1da",
       "version_major": 2,
       "version_minor": 0
      },
      "text/plain": [
       "<LAMBDA> DONE:   0%|          | 0/13225 [00:00<?, ?it/s]"
      ]
     },
     "metadata": {},
     "output_type": "display_data"
    },
    {
     "data": {
      "application/vnd.jupyter.widget-view+json": {
       "model_id": "be9ec147e9554e9699cedc2f586c8955",
       "version_major": 2,
       "version_minor": 0
      },
      "text/plain": [
       "<LAMBDA> DONE:   0%|          | 0/13225 [00:00<?, ?it/s]"
      ]
     },
     "metadata": {},
     "output_type": "display_data"
    },
    {
     "data": {
      "application/vnd.jupyter.widget-view+json": {
       "model_id": "4ae3c2a8921c4232903dd6e45b234f9f",
       "version_major": 2,
       "version_minor": 0
      },
      "text/plain": [
       "<LAMBDA> DONE:   0%|          | 0/392 [00:00<?, ?it/s]"
      ]
     },
     "metadata": {},
     "output_type": "display_data"
    },
    {
     "data": {
      "application/vnd.jupyter.widget-view+json": {
       "model_id": "02f5186107a347db93e8533bd6418090",
       "version_major": 2,
       "version_minor": 0
      },
      "text/plain": [
       "<LAMBDA> DONE:   0%|          | 0/392 [00:00<?, ?it/s]"
      ]
     },
     "metadata": {},
     "output_type": "display_data"
    },
    {
     "data": {
      "application/vnd.jupyter.widget-view+json": {
       "model_id": "cc87f8ca353f43a7aeb4b86f5b58a4b0",
       "version_major": 2,
       "version_minor": 0
      },
      "text/plain": [
       "<LAMBDA> DONE:   0%|          | 0/392 [00:00<?, ?it/s]"
      ]
     },
     "metadata": {},
     "output_type": "display_data"
    },
    {
     "name": "stderr",
     "output_type": "stream",
     "text": [
      "/tmp/ipykernel_3805226/2830027787.py:60: FutureWarning: The behavior of DataFrame concatenation with empty or all-NA entries is deprecated. In a future version, this will no longer exclude empty or all-NA columns when determining the result dtypes. To retain the old behavior, exclude the relevant entries before the concat operation.\n",
      "  pd.concat(tmp).to_hdf(f'{RES_PATH}/{key}.h5', sp, complevel=9, complib='zlib')\n",
      "/tmp/ipykernel_3805226/2830027787.py:60: PerformanceWarning: \n",
      "your performance may suffer as PyTables will pickle object types that it cannot\n",
      "map directly to c-types [inferred_type->mixed,key->block2_values] [items->Index(['sp_tree_tail', 'sp_tree_head', 'ldo_category', 'mdo_category',\n",
      "       'species', 'ldo_gene', 'mdo_gene', 'outgroup_species', 'out_gene'],\n",
      "      dtype='object')]\n",
      "\n",
      "  pd.concat(tmp).to_hdf(f'{RES_PATH}/{key}.h5', sp, complevel=9, complib='zlib')\n"
     ]
    },
    {
     "data": {
      "application/vnd.jupyter.widget-view+json": {
       "model_id": "e558fc60b3584fcf9eb4a77b359c4156",
       "version_major": 2,
       "version_minor": 0
      },
      "text/plain": [
       "<LAMBDA> DONE:   0%|          | 0/13225 [00:00<?, ?it/s]"
      ]
     },
     "metadata": {},
     "output_type": "display_data"
    },
    {
     "data": {
      "application/vnd.jupyter.widget-view+json": {
       "model_id": "d9c319c16e224dfb9d172ae37c17a194",
       "version_major": 2,
       "version_minor": 0
      },
      "text/plain": [
       "<LAMBDA> DONE:   0%|          | 0/13225 [00:00<?, ?it/s]"
      ]
     },
     "metadata": {},
     "output_type": "display_data"
    },
    {
     "data": {
      "application/vnd.jupyter.widget-view+json": {
       "model_id": "536849ae76f347efa19e2cf33c0c4e41",
       "version_major": 2,
       "version_minor": 0
      },
      "text/plain": [
       "<LAMBDA> DONE:   0%|          | 0/13225 [00:00<?, ?it/s]"
      ]
     },
     "metadata": {},
     "output_type": "display_data"
    },
    {
     "data": {
      "application/vnd.jupyter.widget-view+json": {
       "model_id": "b54d2cfbc12246d49acada3cff170f93",
       "version_major": 2,
       "version_minor": 0
      },
      "text/plain": [
       "<LAMBDA> DONE:   0%|          | 0/392 [00:00<?, ?it/s]"
      ]
     },
     "metadata": {},
     "output_type": "display_data"
    },
    {
     "data": {
      "application/vnd.jupyter.widget-view+json": {
       "model_id": "a057106619e1470caab94033837f7292",
       "version_major": 2,
       "version_minor": 0
      },
      "text/plain": [
       "<LAMBDA> DONE:   0%|          | 0/392 [00:00<?, ?it/s]"
      ]
     },
     "metadata": {},
     "output_type": "display_data"
    },
    {
     "data": {
      "application/vnd.jupyter.widget-view+json": {
       "model_id": "1df7bf2aa62a4ad1b1c7608159371aa0",
       "version_major": 2,
       "version_minor": 0
      },
      "text/plain": [
       "<LAMBDA> DONE:   0%|          | 0/392 [00:00<?, ?it/s]"
      ]
     },
     "metadata": {},
     "output_type": "display_data"
    },
    {
     "name": "stderr",
     "output_type": "stream",
     "text": [
      "/tmp/ipykernel_3805226/2830027787.py:60: FutureWarning: The behavior of DataFrame concatenation with empty or all-NA entries is deprecated. In a future version, this will no longer exclude empty or all-NA columns when determining the result dtypes. To retain the old behavior, exclude the relevant entries before the concat operation.\n",
      "  pd.concat(tmp).to_hdf(f'{RES_PATH}/{key}.h5', sp, complevel=9, complib='zlib')\n",
      "/tmp/ipykernel_3805226/2830027787.py:60: PerformanceWarning: \n",
      "your performance may suffer as PyTables will pickle object types that it cannot\n",
      "map directly to c-types [inferred_type->mixed,key->block2_values] [items->Index(['sp_tree_tail', 'sp_tree_head', 'ldo_category', 'mdo_category',\n",
      "       'species', 'ldo_gene', 'mdo_gene', 'outgroup_species', 'out_gene'],\n",
      "      dtype='object')]\n",
      "\n",
      "  pd.concat(tmp).to_hdf(f'{RES_PATH}/{key}.h5', sp, complevel=9, complib='zlib')\n"
     ]
    },
    {
     "data": {
      "application/vnd.jupyter.widget-view+json": {
       "model_id": "83fcdc209ad344ed956721022461f719",
       "version_major": 2,
       "version_minor": 0
      },
      "text/plain": [
       "<LAMBDA> DONE:   0%|          | 0/970 [00:00<?, ?it/s]"
      ]
     },
     "metadata": {},
     "output_type": "display_data"
    },
    {
     "data": {
      "application/vnd.jupyter.widget-view+json": {
       "model_id": "361cd4e1bdb94513898f733dc9aa6e17",
       "version_major": 2,
       "version_minor": 0
      },
      "text/plain": [
       "<LAMBDA> DONE:   0%|          | 0/970 [00:00<?, ?it/s]"
      ]
     },
     "metadata": {},
     "output_type": "display_data"
    },
    {
     "data": {
      "application/vnd.jupyter.widget-view+json": {
       "model_id": "2591b1cd507b48c9b79deb8fba2d8d26",
       "version_major": 2,
       "version_minor": 0
      },
      "text/plain": [
       "<LAMBDA> DONE:   0%|          | 0/970 [00:00<?, ?it/s]"
      ]
     },
     "metadata": {},
     "output_type": "display_data"
    },
    {
     "data": {
      "application/vnd.jupyter.widget-view+json": {
       "model_id": "cef87f1756514df0ba912492a219ba07",
       "version_major": 2,
       "version_minor": 0
      },
      "text/plain": [
       "<LAMBDA> DONE:   0%|          | 0/3762 [00:00<?, ?it/s]"
      ]
     },
     "metadata": {},
     "output_type": "display_data"
    },
    {
     "data": {
      "application/vnd.jupyter.widget-view+json": {
       "model_id": "007ad53f2bfc4d1fbdbdb1320af4f745",
       "version_major": 2,
       "version_minor": 0
      },
      "text/plain": [
       "<LAMBDA> DONE:   0%|          | 0/3762 [00:00<?, ?it/s]"
      ]
     },
     "metadata": {},
     "output_type": "display_data"
    },
    {
     "data": {
      "application/vnd.jupyter.widget-view+json": {
       "model_id": "45787df296d84d059e5607b06a3db4ec",
       "version_major": 2,
       "version_minor": 0
      },
      "text/plain": [
       "<LAMBDA> DONE:   0%|          | 0/3762 [00:00<?, ?it/s]"
      ]
     },
     "metadata": {},
     "output_type": "display_data"
    },
    {
     "data": {
      "application/vnd.jupyter.widget-view+json": {
       "model_id": "a55a0f8e34c749538bcf30c96ebcb692",
       "version_major": 2,
       "version_minor": 0
      },
      "text/plain": [
       "<LAMBDA> DONE:   0%|          | 0/1424 [00:00<?, ?it/s]"
      ]
     },
     "metadata": {},
     "output_type": "display_data"
    },
    {
     "data": {
      "application/vnd.jupyter.widget-view+json": {
       "model_id": "9757c684b4ec4c09812c35646e185ae7",
       "version_major": 2,
       "version_minor": 0
      },
      "text/plain": [
       "<LAMBDA> DONE:   0%|          | 0/1424 [00:00<?, ?it/s]"
      ]
     },
     "metadata": {},
     "output_type": "display_data"
    },
    {
     "data": {
      "application/vnd.jupyter.widget-view+json": {
       "model_id": "95a228b1d502439aaf14500703858d33",
       "version_major": 2,
       "version_minor": 0
      },
      "text/plain": [
       "<LAMBDA> DONE:   0%|          | 0/1424 [00:00<?, ?it/s]"
      ]
     },
     "metadata": {},
     "output_type": "display_data"
    },
    {
     "data": {
      "application/vnd.jupyter.widget-view+json": {
       "model_id": "bc03eb7613bc470abc31c0f50f3fc185",
       "version_major": 2,
       "version_minor": 0
      },
      "text/plain": [
       "<LAMBDA> DONE:   0%|          | 0/155 [00:00<?, ?it/s]"
      ]
     },
     "metadata": {},
     "output_type": "display_data"
    },
    {
     "data": {
      "application/vnd.jupyter.widget-view+json": {
       "model_id": "77a088d452d249de90de6f6650ffd70f",
       "version_major": 2,
       "version_minor": 0
      },
      "text/plain": [
       "<LAMBDA> DONE:   0%|          | 0/155 [00:00<?, ?it/s]"
      ]
     },
     "metadata": {},
     "output_type": "display_data"
    },
    {
     "data": {
      "application/vnd.jupyter.widget-view+json": {
       "model_id": "045a41d7f8a344708f4e7f5e14c2c1fd",
       "version_major": 2,
       "version_minor": 0
      },
      "text/plain": [
       "<LAMBDA> DONE:   0%|          | 0/155 [00:00<?, ?it/s]"
      ]
     },
     "metadata": {},
     "output_type": "display_data"
    },
    {
     "data": {
      "application/vnd.jupyter.widget-view+json": {
       "model_id": "d596790cadbd45c495dcfcf68ebb72c1",
       "version_major": 2,
       "version_minor": 0
      },
      "text/plain": [
       "<LAMBDA> DONE:   0%|          | 0/1582 [00:00<?, ?it/s]"
      ]
     },
     "metadata": {},
     "output_type": "display_data"
    },
    {
     "data": {
      "application/vnd.jupyter.widget-view+json": {
       "model_id": "362249e9edd74f75851aadc33098ea8a",
       "version_major": 2,
       "version_minor": 0
      },
      "text/plain": [
       "<LAMBDA> DONE:   0%|          | 0/1582 [00:00<?, ?it/s]"
      ]
     },
     "metadata": {},
     "output_type": "display_data"
    },
    {
     "data": {
      "application/vnd.jupyter.widget-view+json": {
       "model_id": "50682dd1d52d4a10b5141d92bbd9dc31",
       "version_major": 2,
       "version_minor": 0
      },
      "text/plain": [
       "<LAMBDA> DONE:   0%|          | 0/1582 [00:00<?, ?it/s]"
      ]
     },
     "metadata": {},
     "output_type": "display_data"
    },
    {
     "data": {
      "application/vnd.jupyter.widget-view+json": {
       "model_id": "f8fe8c7e137f4d609df2cec17812e3d3",
       "version_major": 2,
       "version_minor": 0
      },
      "text/plain": [
       "<LAMBDA> DONE:   0%|          | 0/62 [00:00<?, ?it/s]"
      ]
     },
     "metadata": {},
     "output_type": "display_data"
    },
    {
     "data": {
      "application/vnd.jupyter.widget-view+json": {
       "model_id": "396ae56b3cb34ac988a33a8f42c453f3",
       "version_major": 2,
       "version_minor": 0
      },
      "text/plain": [
       "<LAMBDA> DONE:   0%|          | 0/62 [00:00<?, ?it/s]"
      ]
     },
     "metadata": {},
     "output_type": "display_data"
    },
    {
     "data": {
      "application/vnd.jupyter.widget-view+json": {
       "model_id": "9de3b81eb5a5421db447396e63a0b319",
       "version_major": 2,
       "version_minor": 0
      },
      "text/plain": [
       "<LAMBDA> DONE:   0%|          | 0/62 [00:00<?, ?it/s]"
      ]
     },
     "metadata": {},
     "output_type": "display_data"
    },
    {
     "name": "stderr",
     "output_type": "stream",
     "text": [
      "/tmp/ipykernel_3805226/2830027787.py:60: FutureWarning: The behavior of DataFrame concatenation with empty or all-NA entries is deprecated. In a future version, this will no longer exclude empty or all-NA columns when determining the result dtypes. To retain the old behavior, exclude the relevant entries before the concat operation.\n",
      "  pd.concat(tmp).to_hdf(f'{RES_PATH}/{key}.h5', sp, complevel=9, complib='zlib')\n",
      "/tmp/ipykernel_3805226/2830027787.py:60: PerformanceWarning: \n",
      "your performance may suffer as PyTables will pickle object types that it cannot\n",
      "map directly to c-types [inferred_type->mixed,key->block2_values] [items->Index(['sp_tree_tail', 'sp_tree_head', 'ldo_category', 'mdo_category',\n",
      "       'species', 'ldo_gene', 'mdo_gene', 'outgroup_species', 'out_gene'],\n",
      "      dtype='object')]\n",
      "\n",
      "  pd.concat(tmp).to_hdf(f'{RES_PATH}/{key}.h5', sp, complevel=9, complib='zlib')\n"
     ]
    },
    {
     "data": {
      "application/vnd.jupyter.widget-view+json": {
       "model_id": "4831219fc9024ccc865cc8d0dc87d927",
       "version_major": 2,
       "version_minor": 0
      },
      "text/plain": [
       "<LAMBDA> DONE:   0%|          | 0/970 [00:00<?, ?it/s]"
      ]
     },
     "metadata": {},
     "output_type": "display_data"
    },
    {
     "data": {
      "application/vnd.jupyter.widget-view+json": {
       "model_id": "51f777e408724f12b031e4800238d9d8",
       "version_major": 2,
       "version_minor": 0
      },
      "text/plain": [
       "<LAMBDA> DONE:   0%|          | 0/970 [00:00<?, ?it/s]"
      ]
     },
     "metadata": {},
     "output_type": "display_data"
    },
    {
     "data": {
      "application/vnd.jupyter.widget-view+json": {
       "model_id": "a4667331c408433081b59c27f1f64aeb",
       "version_major": 2,
       "version_minor": 0
      },
      "text/plain": [
       "<LAMBDA> DONE:   0%|          | 0/970 [00:00<?, ?it/s]"
      ]
     },
     "metadata": {},
     "output_type": "display_data"
    },
    {
     "data": {
      "application/vnd.jupyter.widget-view+json": {
       "model_id": "342981bfcbe0449ca13ec5eac87f0523",
       "version_major": 2,
       "version_minor": 0
      },
      "text/plain": [
       "<LAMBDA> DONE:   0%|          | 0/3762 [00:00<?, ?it/s]"
      ]
     },
     "metadata": {},
     "output_type": "display_data"
    },
    {
     "data": {
      "application/vnd.jupyter.widget-view+json": {
       "model_id": "c909e0b7e2a341efab0dee3d4fa6220b",
       "version_major": 2,
       "version_minor": 0
      },
      "text/plain": [
       "<LAMBDA> DONE:   0%|          | 0/3762 [00:00<?, ?it/s]"
      ]
     },
     "metadata": {},
     "output_type": "display_data"
    },
    {
     "data": {
      "application/vnd.jupyter.widget-view+json": {
       "model_id": "e5b1e3e9132c4534bfd92432307d46fc",
       "version_major": 2,
       "version_minor": 0
      },
      "text/plain": [
       "<LAMBDA> DONE:   0%|          | 0/3762 [00:00<?, ?it/s]"
      ]
     },
     "metadata": {},
     "output_type": "display_data"
    },
    {
     "data": {
      "application/vnd.jupyter.widget-view+json": {
       "model_id": "9a03d7402055453bb984aafa29f1ceee",
       "version_major": 2,
       "version_minor": 0
      },
      "text/plain": [
       "<LAMBDA> DONE:   0%|          | 0/1424 [00:00<?, ?it/s]"
      ]
     },
     "metadata": {},
     "output_type": "display_data"
    },
    {
     "data": {
      "application/vnd.jupyter.widget-view+json": {
       "model_id": "342954f0480a48f08924b07d9b356a23",
       "version_major": 2,
       "version_minor": 0
      },
      "text/plain": [
       "<LAMBDA> DONE:   0%|          | 0/1424 [00:00<?, ?it/s]"
      ]
     },
     "metadata": {},
     "output_type": "display_data"
    },
    {
     "data": {
      "application/vnd.jupyter.widget-view+json": {
       "model_id": "5680f1f94f0c4a4a992f70d2c1f1df5f",
       "version_major": 2,
       "version_minor": 0
      },
      "text/plain": [
       "<LAMBDA> DONE:   0%|          | 0/1424 [00:00<?, ?it/s]"
      ]
     },
     "metadata": {},
     "output_type": "display_data"
    },
    {
     "data": {
      "application/vnd.jupyter.widget-view+json": {
       "model_id": "aacfa5388ef143aa92eace1d881c3d8e",
       "version_major": 2,
       "version_minor": 0
      },
      "text/plain": [
       "<LAMBDA> DONE:   0%|          | 0/155 [00:00<?, ?it/s]"
      ]
     },
     "metadata": {},
     "output_type": "display_data"
    },
    {
     "data": {
      "application/vnd.jupyter.widget-view+json": {
       "model_id": "6b61e5a9f55945beb22d1894cb20d623",
       "version_major": 2,
       "version_minor": 0
      },
      "text/plain": [
       "<LAMBDA> DONE:   0%|          | 0/155 [00:00<?, ?it/s]"
      ]
     },
     "metadata": {},
     "output_type": "display_data"
    },
    {
     "data": {
      "application/vnd.jupyter.widget-view+json": {
       "model_id": "81e4000c580a45bbadb748acc75b1d04",
       "version_major": 2,
       "version_minor": 0
      },
      "text/plain": [
       "<LAMBDA> DONE:   0%|          | 0/155 [00:00<?, ?it/s]"
      ]
     },
     "metadata": {},
     "output_type": "display_data"
    },
    {
     "data": {
      "application/vnd.jupyter.widget-view+json": {
       "model_id": "10daf5e45bd94bd69b166275db7b2043",
       "version_major": 2,
       "version_minor": 0
      },
      "text/plain": [
       "<LAMBDA> DONE:   0%|          | 0/1582 [00:00<?, ?it/s]"
      ]
     },
     "metadata": {},
     "output_type": "display_data"
    },
    {
     "data": {
      "application/vnd.jupyter.widget-view+json": {
       "model_id": "03d3818a4cc34ceda63c40dfc7c94291",
       "version_major": 2,
       "version_minor": 0
      },
      "text/plain": [
       "<LAMBDA> DONE:   0%|          | 0/1582 [00:00<?, ?it/s]"
      ]
     },
     "metadata": {},
     "output_type": "display_data"
    },
    {
     "data": {
      "application/vnd.jupyter.widget-view+json": {
       "model_id": "12292c9099404dd288d318122548dc99",
       "version_major": 2,
       "version_minor": 0
      },
      "text/plain": [
       "<LAMBDA> DONE:   0%|          | 0/1582 [00:00<?, ?it/s]"
      ]
     },
     "metadata": {},
     "output_type": "display_data"
    },
    {
     "data": {
      "application/vnd.jupyter.widget-view+json": {
       "model_id": "935477f6c5164cb6989925c5337520d4",
       "version_major": 2,
       "version_minor": 0
      },
      "text/plain": [
       "<LAMBDA> DONE:   0%|          | 0/62 [00:00<?, ?it/s]"
      ]
     },
     "metadata": {},
     "output_type": "display_data"
    },
    {
     "data": {
      "application/vnd.jupyter.widget-view+json": {
       "model_id": "6fd285a1c13d4fadbaf0bb40528db83d",
       "version_major": 2,
       "version_minor": 0
      },
      "text/plain": [
       "<LAMBDA> DONE:   0%|          | 0/62 [00:00<?, ?it/s]"
      ]
     },
     "metadata": {},
     "output_type": "display_data"
    },
    {
     "data": {
      "application/vnd.jupyter.widget-view+json": {
       "model_id": "026c02d0f7af49258113f444b9291929",
       "version_major": 2,
       "version_minor": 0
      },
      "text/plain": [
       "<LAMBDA> DONE:   0%|          | 0/62 [00:00<?, ?it/s]"
      ]
     },
     "metadata": {},
     "output_type": "display_data"
    },
    {
     "name": "stderr",
     "output_type": "stream",
     "text": [
      "/tmp/ipykernel_3805226/2830027787.py:60: FutureWarning: The behavior of DataFrame concatenation with empty or all-NA entries is deprecated. In a future version, this will no longer exclude empty or all-NA columns when determining the result dtypes. To retain the old behavior, exclude the relevant entries before the concat operation.\n",
      "  pd.concat(tmp).to_hdf(f'{RES_PATH}/{key}.h5', sp, complevel=9, complib='zlib')\n",
      "/tmp/ipykernel_3805226/2830027787.py:60: PerformanceWarning: \n",
      "your performance may suffer as PyTables will pickle object types that it cannot\n",
      "map directly to c-types [inferred_type->mixed,key->block2_values] [items->Index(['sp_tree_tail', 'sp_tree_head', 'ldo_category', 'mdo_category',\n",
      "       'species', 'ldo_gene', 'mdo_gene', 'outgroup_species', 'out_gene'],\n",
      "      dtype='object')]\n",
      "\n",
      "  pd.concat(tmp).to_hdf(f'{RES_PATH}/{key}.h5', sp, complevel=9, complib='zlib')\n"
     ]
    },
    {
     "data": {
      "application/vnd.jupyter.widget-view+json": {
       "model_id": "523b4abb3b4948fc8f96af1df9228fb8",
       "version_major": 2,
       "version_minor": 0
      },
      "text/plain": [
       "<LAMBDA> DONE:   0%|          | 0/831 [00:00<?, ?it/s]"
      ]
     },
     "metadata": {},
     "output_type": "display_data"
    },
    {
     "data": {
      "application/vnd.jupyter.widget-view+json": {
       "model_id": "08d13dbc410a478a91d02bd95c4bb248",
       "version_major": 2,
       "version_minor": 0
      },
      "text/plain": [
       "<LAMBDA> DONE:   0%|          | 0/831 [00:00<?, ?it/s]"
      ]
     },
     "metadata": {},
     "output_type": "display_data"
    },
    {
     "data": {
      "application/vnd.jupyter.widget-view+json": {
       "model_id": "b117e6b3e956445fa7b3b7bb13fd4eb1",
       "version_major": 2,
       "version_minor": 0
      },
      "text/plain": [
       "<LAMBDA> DONE:   0%|          | 0/831 [00:00<?, ?it/s]"
      ]
     },
     "metadata": {},
     "output_type": "display_data"
    },
    {
     "data": {
      "application/vnd.jupyter.widget-view+json": {
       "model_id": "9745b2f623a74a57ac1fb09fd7269915",
       "version_major": 2,
       "version_minor": 0
      },
      "text/plain": [
       "<LAMBDA> DONE:   0%|          | 0/698 [00:00<?, ?it/s]"
      ]
     },
     "metadata": {},
     "output_type": "display_data"
    },
    {
     "data": {
      "application/vnd.jupyter.widget-view+json": {
       "model_id": "ff448fcb5d1d4cb4ac414ee0262cdbdb",
       "version_major": 2,
       "version_minor": 0
      },
      "text/plain": [
       "<LAMBDA> DONE:   0%|          | 0/698 [00:00<?, ?it/s]"
      ]
     },
     "metadata": {},
     "output_type": "display_data"
    },
    {
     "data": {
      "application/vnd.jupyter.widget-view+json": {
       "model_id": "a62268e591224267906bd14dc245041e",
       "version_major": 2,
       "version_minor": 0
      },
      "text/plain": [
       "<LAMBDA> DONE:   0%|          | 0/698 [00:00<?, ?it/s]"
      ]
     },
     "metadata": {},
     "output_type": "display_data"
    },
    {
     "data": {
      "application/vnd.jupyter.widget-view+json": {
       "model_id": "1c42fa24410142868e1d644c5135449a",
       "version_major": 2,
       "version_minor": 0
      },
      "text/plain": [
       "<LAMBDA> DONE:   0%|          | 0/173 [00:00<?, ?it/s]"
      ]
     },
     "metadata": {},
     "output_type": "display_data"
    },
    {
     "data": {
      "application/vnd.jupyter.widget-view+json": {
       "model_id": "0320ca9331ff46e78a729a5378b83963",
       "version_major": 2,
       "version_minor": 0
      },
      "text/plain": [
       "<LAMBDA> DONE:   0%|          | 0/173 [00:00<?, ?it/s]"
      ]
     },
     "metadata": {},
     "output_type": "display_data"
    },
    {
     "data": {
      "application/vnd.jupyter.widget-view+json": {
       "model_id": "7dba877dc1ec46658b6658a1ff8789a6",
       "version_major": 2,
       "version_minor": 0
      },
      "text/plain": [
       "<LAMBDA> DONE:   0%|          | 0/173 [00:00<?, ?it/s]"
      ]
     },
     "metadata": {},
     "output_type": "display_data"
    },
    {
     "data": {
      "application/vnd.jupyter.widget-view+json": {
       "model_id": "811d2989a57a4572874a140e455c0eae",
       "version_major": 2,
       "version_minor": 0
      },
      "text/plain": [
       "<LAMBDA> DONE:   0%|          | 0/148 [00:00<?, ?it/s]"
      ]
     },
     "metadata": {},
     "output_type": "display_data"
    },
    {
     "data": {
      "application/vnd.jupyter.widget-view+json": {
       "model_id": "aac000f2483c42339504c56cb11b474d",
       "version_major": 2,
       "version_minor": 0
      },
      "text/plain": [
       "<LAMBDA> DONE:   0%|          | 0/148 [00:00<?, ?it/s]"
      ]
     },
     "metadata": {},
     "output_type": "display_data"
    },
    {
     "data": {
      "application/vnd.jupyter.widget-view+json": {
       "model_id": "d6480084c41e4cf9b94d36487edcaca2",
       "version_major": 2,
       "version_minor": 0
      },
      "text/plain": [
       "<LAMBDA> DONE:   0%|          | 0/148 [00:00<?, ?it/s]"
      ]
     },
     "metadata": {},
     "output_type": "display_data"
    },
    {
     "data": {
      "application/vnd.jupyter.widget-view+json": {
       "model_id": "12ab761265914ff7a7e0d8d5a03bd9dd",
       "version_major": 2,
       "version_minor": 0
      },
      "text/plain": [
       "<LAMBDA> DONE:   0%|          | 0/164 [00:00<?, ?it/s]"
      ]
     },
     "metadata": {},
     "output_type": "display_data"
    },
    {
     "data": {
      "application/vnd.jupyter.widget-view+json": {
       "model_id": "edfbaca830464d6ea3bc90364aa15e5e",
       "version_major": 2,
       "version_minor": 0
      },
      "text/plain": [
       "<LAMBDA> DONE:   0%|          | 0/164 [00:00<?, ?it/s]"
      ]
     },
     "metadata": {},
     "output_type": "display_data"
    },
    {
     "data": {
      "application/vnd.jupyter.widget-view+json": {
       "model_id": "313ea42baf43407ebade03e2e80b95e3",
       "version_major": 2,
       "version_minor": 0
      },
      "text/plain": [
       "<LAMBDA> DONE:   0%|          | 0/164 [00:00<?, ?it/s]"
      ]
     },
     "metadata": {},
     "output_type": "display_data"
    },
    {
     "data": {
      "application/vnd.jupyter.widget-view+json": {
       "model_id": "6c8550353bfa4062aab9e4a9e8139a1b",
       "version_major": 2,
       "version_minor": 0
      },
      "text/plain": [
       "<LAMBDA> DONE:   0%|          | 0/1519 [00:00<?, ?it/s]"
      ]
     },
     "metadata": {},
     "output_type": "display_data"
    },
    {
     "data": {
      "application/vnd.jupyter.widget-view+json": {
       "model_id": "72322afaf31d403c997678c945c5344a",
       "version_major": 2,
       "version_minor": 0
      },
      "text/plain": [
       "<LAMBDA> DONE:   0%|          | 0/1519 [00:00<?, ?it/s]"
      ]
     },
     "metadata": {},
     "output_type": "display_data"
    },
    {
     "data": {
      "application/vnd.jupyter.widget-view+json": {
       "model_id": "2032a25337c747899118486b0ff7050e",
       "version_major": 2,
       "version_minor": 0
      },
      "text/plain": [
       "<LAMBDA> DONE:   0%|          | 0/1519 [00:00<?, ?it/s]"
      ]
     },
     "metadata": {},
     "output_type": "display_data"
    },
    {
     "data": {
      "application/vnd.jupyter.widget-view+json": {
       "model_id": "8f49b722a9724752a605ed78d7e9ddb1",
       "version_major": 2,
       "version_minor": 0
      },
      "text/plain": [
       "<LAMBDA> DONE:   0%|          | 0/364 [00:00<?, ?it/s]"
      ]
     },
     "metadata": {},
     "output_type": "display_data"
    },
    {
     "data": {
      "application/vnd.jupyter.widget-view+json": {
       "model_id": "97eb0424241b4545913db268a06feedc",
       "version_major": 2,
       "version_minor": 0
      },
      "text/plain": [
       "<LAMBDA> DONE:   0%|          | 0/364 [00:00<?, ?it/s]"
      ]
     },
     "metadata": {},
     "output_type": "display_data"
    },
    {
     "data": {
      "application/vnd.jupyter.widget-view+json": {
       "model_id": "a66cffd28992439d805b213e8e104c6a",
       "version_major": 2,
       "version_minor": 0
      },
      "text/plain": [
       "<LAMBDA> DONE:   0%|          | 0/364 [00:00<?, ?it/s]"
      ]
     },
     "metadata": {},
     "output_type": "display_data"
    },
    {
     "data": {
      "application/vnd.jupyter.widget-view+json": {
       "model_id": "6a53548fe8184031bc12d15091d07899",
       "version_major": 2,
       "version_minor": 0
      },
      "text/plain": [
       "<LAMBDA> DONE:   0%|          | 0/1691 [00:00<?, ?it/s]"
      ]
     },
     "metadata": {},
     "output_type": "display_data"
    },
    {
     "data": {
      "application/vnd.jupyter.widget-view+json": {
       "model_id": "49d40b92be3942e084c331a8be288fd9",
       "version_major": 2,
       "version_minor": 0
      },
      "text/plain": [
       "<LAMBDA> DONE:   0%|          | 0/1691 [00:00<?, ?it/s]"
      ]
     },
     "metadata": {},
     "output_type": "display_data"
    },
    {
     "data": {
      "application/vnd.jupyter.widget-view+json": {
       "model_id": "f4f16c2bf5a54127941d9fde682ea097",
       "version_major": 2,
       "version_minor": 0
      },
      "text/plain": [
       "<LAMBDA> DONE:   0%|          | 0/1691 [00:00<?, ?it/s]"
      ]
     },
     "metadata": {},
     "output_type": "display_data"
    },
    {
     "data": {
      "application/vnd.jupyter.widget-view+json": {
       "model_id": "4dd73c7ccabc4e21a2b989bca0dd4c54",
       "version_major": 2,
       "version_minor": 0
      },
      "text/plain": [
       "<LAMBDA> DONE:   0%|          | 0/24 [00:00<?, ?it/s]"
      ]
     },
     "metadata": {},
     "output_type": "display_data"
    },
    {
     "data": {
      "application/vnd.jupyter.widget-view+json": {
       "model_id": "31d566dc8c6043f0a4de790609824f1e",
       "version_major": 2,
       "version_minor": 0
      },
      "text/plain": [
       "<LAMBDA> DONE:   0%|          | 0/24 [00:00<?, ?it/s]"
      ]
     },
     "metadata": {},
     "output_type": "display_data"
    },
    {
     "data": {
      "application/vnd.jupyter.widget-view+json": {
       "model_id": "7b723d5f4a3c46208e99b8d6deb83dd6",
       "version_major": 2,
       "version_minor": 0
      },
      "text/plain": [
       "<LAMBDA> DONE:   0%|          | 0/24 [00:00<?, ?it/s]"
      ]
     },
     "metadata": {},
     "output_type": "display_data"
    },
    {
     "name": "stderr",
     "output_type": "stream",
     "text": [
      "/tmp/ipykernel_3805226/2830027787.py:60: PerformanceWarning: \n",
      "your performance may suffer as PyTables will pickle object types that it cannot\n",
      "map directly to c-types [inferred_type->mixed,key->block2_values] [items->Index(['sp_tree_tail', 'sp_tree_head', 'ldo_category', 'mdo_category',\n",
      "       'species', 'ldo_gene', 'mdo_gene', 'outgroup_species', 'out_gene'],\n",
      "      dtype='object')]\n",
      "\n",
      "  pd.concat(tmp).to_hdf(f'{RES_PATH}/{key}.h5', sp, complevel=9, complib='zlib')\n"
     ]
    },
    {
     "data": {
      "application/vnd.jupyter.widget-view+json": {
       "model_id": "b35968f43166466d80c4288ae6f1244e",
       "version_major": 2,
       "version_minor": 0
      },
      "text/plain": [
       "<LAMBDA> DONE:   0%|          | 0/831 [00:00<?, ?it/s]"
      ]
     },
     "metadata": {},
     "output_type": "display_data"
    },
    {
     "data": {
      "application/vnd.jupyter.widget-view+json": {
       "model_id": "e7116ba159634696ba1c6457ec8c065c",
       "version_major": 2,
       "version_minor": 0
      },
      "text/plain": [
       "<LAMBDA> DONE:   0%|          | 0/831 [00:00<?, ?it/s]"
      ]
     },
     "metadata": {},
     "output_type": "display_data"
    },
    {
     "data": {
      "application/vnd.jupyter.widget-view+json": {
       "model_id": "57053985f6b6479ab92717a095d30996",
       "version_major": 2,
       "version_minor": 0
      },
      "text/plain": [
       "<LAMBDA> DONE:   0%|          | 0/831 [00:00<?, ?it/s]"
      ]
     },
     "metadata": {},
     "output_type": "display_data"
    },
    {
     "data": {
      "application/vnd.jupyter.widget-view+json": {
       "model_id": "673600ab4cbd407696b62149deaf0947",
       "version_major": 2,
       "version_minor": 0
      },
      "text/plain": [
       "<LAMBDA> DONE:   0%|          | 0/698 [00:00<?, ?it/s]"
      ]
     },
     "metadata": {},
     "output_type": "display_data"
    },
    {
     "data": {
      "application/vnd.jupyter.widget-view+json": {
       "model_id": "1a7e56f966f24118aeadad94bdb32368",
       "version_major": 2,
       "version_minor": 0
      },
      "text/plain": [
       "<LAMBDA> DONE:   0%|          | 0/698 [00:00<?, ?it/s]"
      ]
     },
     "metadata": {},
     "output_type": "display_data"
    },
    {
     "data": {
      "application/vnd.jupyter.widget-view+json": {
       "model_id": "0676ae7a1a7042b0bb0d4b7ddf530bc7",
       "version_major": 2,
       "version_minor": 0
      },
      "text/plain": [
       "<LAMBDA> DONE:   0%|          | 0/698 [00:00<?, ?it/s]"
      ]
     },
     "metadata": {},
     "output_type": "display_data"
    },
    {
     "data": {
      "application/vnd.jupyter.widget-view+json": {
       "model_id": "2f5485d10bdf4fbf9c9cb71974af0d08",
       "version_major": 2,
       "version_minor": 0
      },
      "text/plain": [
       "<LAMBDA> DONE:   0%|          | 0/173 [00:00<?, ?it/s]"
      ]
     },
     "metadata": {},
     "output_type": "display_data"
    },
    {
     "data": {
      "application/vnd.jupyter.widget-view+json": {
       "model_id": "be77eb1bdf8b4370b2e6b5c3c32d8137",
       "version_major": 2,
       "version_minor": 0
      },
      "text/plain": [
       "<LAMBDA> DONE:   0%|          | 0/173 [00:00<?, ?it/s]"
      ]
     },
     "metadata": {},
     "output_type": "display_data"
    },
    {
     "data": {
      "application/vnd.jupyter.widget-view+json": {
       "model_id": "4b7e65fe037b453b98b98569e6dc733d",
       "version_major": 2,
       "version_minor": 0
      },
      "text/plain": [
       "<LAMBDA> DONE:   0%|          | 0/173 [00:00<?, ?it/s]"
      ]
     },
     "metadata": {},
     "output_type": "display_data"
    },
    {
     "data": {
      "application/vnd.jupyter.widget-view+json": {
       "model_id": "8313f104662e4601a365e19c5528e5de",
       "version_major": 2,
       "version_minor": 0
      },
      "text/plain": [
       "<LAMBDA> DONE:   0%|          | 0/164 [00:00<?, ?it/s]"
      ]
     },
     "metadata": {},
     "output_type": "display_data"
    },
    {
     "data": {
      "application/vnd.jupyter.widget-view+json": {
       "model_id": "8d86a03eb4ba472f9adb568b7cb236a4",
       "version_major": 2,
       "version_minor": 0
      },
      "text/plain": [
       "<LAMBDA> DONE:   0%|          | 0/164 [00:00<?, ?it/s]"
      ]
     },
     "metadata": {},
     "output_type": "display_data"
    },
    {
     "data": {
      "application/vnd.jupyter.widget-view+json": {
       "model_id": "577642e643e94223a59ea4172ca9b16b",
       "version_major": 2,
       "version_minor": 0
      },
      "text/plain": [
       "<LAMBDA> DONE:   0%|          | 0/164 [00:00<?, ?it/s]"
      ]
     },
     "metadata": {},
     "output_type": "display_data"
    },
    {
     "data": {
      "application/vnd.jupyter.widget-view+json": {
       "model_id": "a54875b277c243caa30d403769eb9c1e",
       "version_major": 2,
       "version_minor": 0
      },
      "text/plain": [
       "<LAMBDA> DONE:   0%|          | 0/1519 [00:00<?, ?it/s]"
      ]
     },
     "metadata": {},
     "output_type": "display_data"
    },
    {
     "data": {
      "application/vnd.jupyter.widget-view+json": {
       "model_id": "bb622d933ff7452c95177890221cfd7d",
       "version_major": 2,
       "version_minor": 0
      },
      "text/plain": [
       "<LAMBDA> DONE:   0%|          | 0/1519 [00:00<?, ?it/s]"
      ]
     },
     "metadata": {},
     "output_type": "display_data"
    },
    {
     "data": {
      "application/vnd.jupyter.widget-view+json": {
       "model_id": "084907b70a8b4f21aa8acc78f5757a65",
       "version_major": 2,
       "version_minor": 0
      },
      "text/plain": [
       "<LAMBDA> DONE:   0%|          | 0/1519 [00:00<?, ?it/s]"
      ]
     },
     "metadata": {},
     "output_type": "display_data"
    },
    {
     "data": {
      "application/vnd.jupyter.widget-view+json": {
       "model_id": "9d6164db7ecc427f9537506a3a1faedd",
       "version_major": 2,
       "version_minor": 0
      },
      "text/plain": [
       "<LAMBDA> DONE:   0%|          | 0/364 [00:00<?, ?it/s]"
      ]
     },
     "metadata": {},
     "output_type": "display_data"
    },
    {
     "data": {
      "application/vnd.jupyter.widget-view+json": {
       "model_id": "8a05236833eb40cab42b5a2c03f92733",
       "version_major": 2,
       "version_minor": 0
      },
      "text/plain": [
       "<LAMBDA> DONE:   0%|          | 0/364 [00:00<?, ?it/s]"
      ]
     },
     "metadata": {},
     "output_type": "display_data"
    },
    {
     "data": {
      "application/vnd.jupyter.widget-view+json": {
       "model_id": "736aa349333841a3ab86558de9fb4288",
       "version_major": 2,
       "version_minor": 0
      },
      "text/plain": [
       "<LAMBDA> DONE:   0%|          | 0/364 [00:00<?, ?it/s]"
      ]
     },
     "metadata": {},
     "output_type": "display_data"
    },
    {
     "data": {
      "application/vnd.jupyter.widget-view+json": {
       "model_id": "d8430402f9f04336a66af98beb434e9b",
       "version_major": 2,
       "version_minor": 0
      },
      "text/plain": [
       "<LAMBDA> DONE:   0%|          | 0/1691 [00:00<?, ?it/s]"
      ]
     },
     "metadata": {},
     "output_type": "display_data"
    },
    {
     "data": {
      "application/vnd.jupyter.widget-view+json": {
       "model_id": "7bcf7cd29f5e49f3a53d63e9f576c579",
       "version_major": 2,
       "version_minor": 0
      },
      "text/plain": [
       "<LAMBDA> DONE:   0%|          | 0/1691 [00:00<?, ?it/s]"
      ]
     },
     "metadata": {},
     "output_type": "display_data"
    },
    {
     "data": {
      "application/vnd.jupyter.widget-view+json": {
       "model_id": "28b809139dbf4363b58e2c142ee05fe9",
       "version_major": 2,
       "version_minor": 0
      },
      "text/plain": [
       "<LAMBDA> DONE:   0%|          | 0/1691 [00:00<?, ?it/s]"
      ]
     },
     "metadata": {},
     "output_type": "display_data"
    },
    {
     "data": {
      "application/vnd.jupyter.widget-view+json": {
       "model_id": "3332c4d8a0e54f729bd11a0e59a7c7b2",
       "version_major": 2,
       "version_minor": 0
      },
      "text/plain": [
       "<LAMBDA> DONE:   0%|          | 0/24 [00:00<?, ?it/s]"
      ]
     },
     "metadata": {},
     "output_type": "display_data"
    },
    {
     "data": {
      "application/vnd.jupyter.widget-view+json": {
       "model_id": "227a04deff214268940a3d9777e578af",
       "version_major": 2,
       "version_minor": 0
      },
      "text/plain": [
       "<LAMBDA> DONE:   0%|          | 0/24 [00:00<?, ?it/s]"
      ]
     },
     "metadata": {},
     "output_type": "display_data"
    },
    {
     "data": {
      "application/vnd.jupyter.widget-view+json": {
       "model_id": "52b33065b4694c6f93d523c85fb287dd",
       "version_major": 2,
       "version_minor": 0
      },
      "text/plain": [
       "<LAMBDA> DONE:   0%|          | 0/24 [00:00<?, ?it/s]"
      ]
     },
     "metadata": {},
     "output_type": "display_data"
    },
    {
     "name": "stderr",
     "output_type": "stream",
     "text": [
      "/tmp/ipykernel_3805226/2830027787.py:60: FutureWarning: The behavior of DataFrame concatenation with empty or all-NA entries is deprecated. In a future version, this will no longer exclude empty or all-NA columns when determining the result dtypes. To retain the old behavior, exclude the relevant entries before the concat operation.\n",
      "  pd.concat(tmp).to_hdf(f'{RES_PATH}/{key}.h5', sp, complevel=9, complib='zlib')\n",
      "/tmp/ipykernel_3805226/2830027787.py:60: PerformanceWarning: \n",
      "your performance may suffer as PyTables will pickle object types that it cannot\n",
      "map directly to c-types [inferred_type->mixed,key->block2_values] [items->Index(['sp_tree_tail', 'sp_tree_head', 'ldo_category', 'mdo_category',\n",
      "       'species', 'ldo_gene', 'mdo_gene', 'outgroup_species', 'out_gene'],\n",
      "      dtype='object')]\n",
      "\n",
      "  pd.concat(tmp).to_hdf(f'{RES_PATH}/{key}.h5', sp, complevel=9, complib='zlib')\n"
     ]
    },
    {
     "data": {
      "application/vnd.jupyter.widget-view+json": {
       "model_id": "9d78e23117164723b7601acff5f907f3",
       "version_major": 2,
       "version_minor": 0
      },
      "text/plain": [
       "<LAMBDA> DONE:   0%|          | 0/735 [00:00<?, ?it/s]"
      ]
     },
     "metadata": {},
     "output_type": "display_data"
    },
    {
     "data": {
      "application/vnd.jupyter.widget-view+json": {
       "model_id": "9ad3ea5dff8c47eebc2ae98b200dadbc",
       "version_major": 2,
       "version_minor": 0
      },
      "text/plain": [
       "<LAMBDA> DONE:   0%|          | 0/735 [00:00<?, ?it/s]"
      ]
     },
     "metadata": {},
     "output_type": "display_data"
    },
    {
     "data": {
      "application/vnd.jupyter.widget-view+json": {
       "model_id": "45aad1e4f4504fd1959e53adc6f4d1d1",
       "version_major": 2,
       "version_minor": 0
      },
      "text/plain": [
       "<LAMBDA> DONE:   0%|          | 0/735 [00:00<?, ?it/s]"
      ]
     },
     "metadata": {},
     "output_type": "display_data"
    },
    {
     "data": {
      "application/vnd.jupyter.widget-view+json": {
       "model_id": "993c52b091a14fa783534686056e52dc",
       "version_major": 2,
       "version_minor": 0
      },
      "text/plain": [
       "<LAMBDA> DONE:   0%|          | 0/698 [00:00<?, ?it/s]"
      ]
     },
     "metadata": {},
     "output_type": "display_data"
    },
    {
     "data": {
      "application/vnd.jupyter.widget-view+json": {
       "model_id": "587fc070e05f4ea68ef08dcbe095c473",
       "version_major": 2,
       "version_minor": 0
      },
      "text/plain": [
       "<LAMBDA> DONE:   0%|          | 0/698 [00:00<?, ?it/s]"
      ]
     },
     "metadata": {},
     "output_type": "display_data"
    },
    {
     "data": {
      "application/vnd.jupyter.widget-view+json": {
       "model_id": "1b8af921e09145bb9682bb890dd8ad92",
       "version_major": 2,
       "version_minor": 0
      },
      "text/plain": [
       "<LAMBDA> DONE:   0%|          | 0/698 [00:00<?, ?it/s]"
      ]
     },
     "metadata": {},
     "output_type": "display_data"
    },
    {
     "data": {
      "application/vnd.jupyter.widget-view+json": {
       "model_id": "09d2571dbc1644ec95d55d67f0d88855",
       "version_major": 2,
       "version_minor": 0
      },
      "text/plain": [
       "<LAMBDA> DONE:   0%|          | 0/170 [00:00<?, ?it/s]"
      ]
     },
     "metadata": {},
     "output_type": "display_data"
    },
    {
     "data": {
      "application/vnd.jupyter.widget-view+json": {
       "model_id": "be30fd374ab843d4919bc166513222be",
       "version_major": 2,
       "version_minor": 0
      },
      "text/plain": [
       "<LAMBDA> DONE:   0%|          | 0/170 [00:00<?, ?it/s]"
      ]
     },
     "metadata": {},
     "output_type": "display_data"
    },
    {
     "data": {
      "application/vnd.jupyter.widget-view+json": {
       "model_id": "bf8ab12a593f41c897f1541826c6cb46",
       "version_major": 2,
       "version_minor": 0
      },
      "text/plain": [
       "<LAMBDA> DONE:   0%|          | 0/170 [00:00<?, ?it/s]"
      ]
     },
     "metadata": {},
     "output_type": "display_data"
    },
    {
     "data": {
      "application/vnd.jupyter.widget-view+json": {
       "model_id": "70af96ba2598491a89025d94bd985178",
       "version_major": 2,
       "version_minor": 0
      },
      "text/plain": [
       "<LAMBDA> DONE:   0%|          | 0/124 [00:00<?, ?it/s]"
      ]
     },
     "metadata": {},
     "output_type": "display_data"
    },
    {
     "data": {
      "application/vnd.jupyter.widget-view+json": {
       "model_id": "9624b9aab55242e7975797cef3de6edf",
       "version_major": 2,
       "version_minor": 0
      },
      "text/plain": [
       "<LAMBDA> DONE:   0%|          | 0/124 [00:00<?, ?it/s]"
      ]
     },
     "metadata": {},
     "output_type": "display_data"
    },
    {
     "data": {
      "application/vnd.jupyter.widget-view+json": {
       "model_id": "a8581cebba4a4a568498a6b6b9567ba5",
       "version_major": 2,
       "version_minor": 0
      },
      "text/plain": [
       "<LAMBDA> DONE:   0%|          | 0/124 [00:00<?, ?it/s]"
      ]
     },
     "metadata": {},
     "output_type": "display_data"
    },
    {
     "data": {
      "application/vnd.jupyter.widget-view+json": {
       "model_id": "1a2c911ae35642f4bd62a0059714ed7c",
       "version_major": 2,
       "version_minor": 0
      },
      "text/plain": [
       "<LAMBDA> DONE:   0%|          | 0/160 [00:00<?, ?it/s]"
      ]
     },
     "metadata": {},
     "output_type": "display_data"
    },
    {
     "data": {
      "application/vnd.jupyter.widget-view+json": {
       "model_id": "beb1874b6c2e45ecbca14f510c8fb3cf",
       "version_major": 2,
       "version_minor": 0
      },
      "text/plain": [
       "<LAMBDA> DONE:   0%|          | 0/160 [00:00<?, ?it/s]"
      ]
     },
     "metadata": {},
     "output_type": "display_data"
    },
    {
     "data": {
      "application/vnd.jupyter.widget-view+json": {
       "model_id": "7cae5cd33a4548a6b5a3252192fbed0d",
       "version_major": 2,
       "version_minor": 0
      },
      "text/plain": [
       "<LAMBDA> DONE:   0%|          | 0/160 [00:00<?, ?it/s]"
      ]
     },
     "metadata": {},
     "output_type": "display_data"
    },
    {
     "data": {
      "application/vnd.jupyter.widget-view+json": {
       "model_id": "88a7cfbbc35949cab3445425711ec1f2",
       "version_major": 2,
       "version_minor": 0
      },
      "text/plain": [
       "<LAMBDA> DONE:   0%|          | 0/1394 [00:00<?, ?it/s]"
      ]
     },
     "metadata": {},
     "output_type": "display_data"
    },
    {
     "data": {
      "application/vnd.jupyter.widget-view+json": {
       "model_id": "f80cee27bf974702b56a9271bc6110b1",
       "version_major": 2,
       "version_minor": 0
      },
      "text/plain": [
       "<LAMBDA> DONE:   0%|          | 0/1394 [00:00<?, ?it/s]"
      ]
     },
     "metadata": {},
     "output_type": "display_data"
    },
    {
     "data": {
      "application/vnd.jupyter.widget-view+json": {
       "model_id": "2c51c3f158be482cb81ec1f6cfc570b6",
       "version_major": 2,
       "version_minor": 0
      },
      "text/plain": [
       "<LAMBDA> DONE:   0%|          | 0/1394 [00:00<?, ?it/s]"
      ]
     },
     "metadata": {},
     "output_type": "display_data"
    },
    {
     "data": {
      "application/vnd.jupyter.widget-view+json": {
       "model_id": "7c97000a2f03423a9dc13f0fd20a4c0c",
       "version_major": 2,
       "version_minor": 0
      },
      "text/plain": [
       "<LAMBDA> DONE:   0%|          | 0/404 [00:00<?, ?it/s]"
      ]
     },
     "metadata": {},
     "output_type": "display_data"
    },
    {
     "data": {
      "application/vnd.jupyter.widget-view+json": {
       "model_id": "80ffe69195854075b4e99a3761e3e040",
       "version_major": 2,
       "version_minor": 0
      },
      "text/plain": [
       "<LAMBDA> DONE:   0%|          | 0/404 [00:00<?, ?it/s]"
      ]
     },
     "metadata": {},
     "output_type": "display_data"
    },
    {
     "data": {
      "application/vnd.jupyter.widget-view+json": {
       "model_id": "0c1c530301fa4060b5f12f2e7009758d",
       "version_major": 2,
       "version_minor": 0
      },
      "text/plain": [
       "<LAMBDA> DONE:   0%|          | 0/404 [00:00<?, ?it/s]"
      ]
     },
     "metadata": {},
     "output_type": "display_data"
    },
    {
     "data": {
      "application/vnd.jupyter.widget-view+json": {
       "model_id": "555dee8475014d63a487410c8bd5a86e",
       "version_major": 2,
       "version_minor": 0
      },
      "text/plain": [
       "<LAMBDA> DONE:   0%|          | 0/2619 [00:00<?, ?it/s]"
      ]
     },
     "metadata": {},
     "output_type": "display_data"
    },
    {
     "data": {
      "application/vnd.jupyter.widget-view+json": {
       "model_id": "32cbe1b4cecd402e9a5b4873c0d906eb",
       "version_major": 2,
       "version_minor": 0
      },
      "text/plain": [
       "<LAMBDA> DONE:   0%|          | 0/2619 [00:00<?, ?it/s]"
      ]
     },
     "metadata": {},
     "output_type": "display_data"
    },
    {
     "data": {
      "application/vnd.jupyter.widget-view+json": {
       "model_id": "d820ab16e7324bde887c9abaa0d90dc6",
       "version_major": 2,
       "version_minor": 0
      },
      "text/plain": [
       "<LAMBDA> DONE:   0%|          | 0/2619 [00:00<?, ?it/s]"
      ]
     },
     "metadata": {},
     "output_type": "display_data"
    },
    {
     "data": {
      "application/vnd.jupyter.widget-view+json": {
       "model_id": "492c05ea0ad24f1d9f9d646a47c20f9c",
       "version_major": 2,
       "version_minor": 0
      },
      "text/plain": [
       "<LAMBDA> DONE:   0%|          | 0/26 [00:00<?, ?it/s]"
      ]
     },
     "metadata": {},
     "output_type": "display_data"
    },
    {
     "data": {
      "application/vnd.jupyter.widget-view+json": {
       "model_id": "6e493441c6b641cdb4e5b32f4ea3579b",
       "version_major": 2,
       "version_minor": 0
      },
      "text/plain": [
       "<LAMBDA> DONE:   0%|          | 0/26 [00:00<?, ?it/s]"
      ]
     },
     "metadata": {},
     "output_type": "display_data"
    },
    {
     "data": {
      "application/vnd.jupyter.widget-view+json": {
       "model_id": "ea541e95cba94f69989196c0c2be5d4c",
       "version_major": 2,
       "version_minor": 0
      },
      "text/plain": [
       "<LAMBDA> DONE:   0%|          | 0/26 [00:00<?, ?it/s]"
      ]
     },
     "metadata": {},
     "output_type": "display_data"
    },
    {
     "name": "stderr",
     "output_type": "stream",
     "text": [
      "/tmp/ipykernel_3805226/2830027787.py:60: PerformanceWarning: \n",
      "your performance may suffer as PyTables will pickle object types that it cannot\n",
      "map directly to c-types [inferred_type->mixed,key->block2_values] [items->Index(['sp_tree_tail', 'sp_tree_head', 'ldo_category', 'mdo_category',\n",
      "       'species', 'ldo_gene', 'mdo_gene', 'outgroup_species', 'out_gene'],\n",
      "      dtype='object')]\n",
      "\n",
      "  pd.concat(tmp).to_hdf(f'{RES_PATH}/{key}.h5', sp, complevel=9, complib='zlib')\n"
     ]
    },
    {
     "data": {
      "application/vnd.jupyter.widget-view+json": {
       "model_id": "db2bc1ab8c4d4ae8a55a62010d5819da",
       "version_major": 2,
       "version_minor": 0
      },
      "text/plain": [
       "<LAMBDA> DONE:   0%|          | 0/735 [00:00<?, ?it/s]"
      ]
     },
     "metadata": {},
     "output_type": "display_data"
    },
    {
     "data": {
      "application/vnd.jupyter.widget-view+json": {
       "model_id": "b2cf53246a3542eb8cf3fca27e50016c",
       "version_major": 2,
       "version_minor": 0
      },
      "text/plain": [
       "<LAMBDA> DONE:   0%|          | 0/735 [00:00<?, ?it/s]"
      ]
     },
     "metadata": {},
     "output_type": "display_data"
    },
    {
     "data": {
      "application/vnd.jupyter.widget-view+json": {
       "model_id": "346c4552fea84b2cb79f4cfb454277e2",
       "version_major": 2,
       "version_minor": 0
      },
      "text/plain": [
       "<LAMBDA> DONE:   0%|          | 0/735 [00:00<?, ?it/s]"
      ]
     },
     "metadata": {},
     "output_type": "display_data"
    },
    {
     "data": {
      "application/vnd.jupyter.widget-view+json": {
       "model_id": "6913d28258df4dd4b2cdf6039aeb5a5d",
       "version_major": 2,
       "version_minor": 0
      },
      "text/plain": [
       "<LAMBDA> DONE:   0%|          | 0/698 [00:00<?, ?it/s]"
      ]
     },
     "metadata": {},
     "output_type": "display_data"
    },
    {
     "data": {
      "application/vnd.jupyter.widget-view+json": {
       "model_id": "1904b522416f4a629dad8d801ab0b4b8",
       "version_major": 2,
       "version_minor": 0
      },
      "text/plain": [
       "<LAMBDA> DONE:   0%|          | 0/698 [00:00<?, ?it/s]"
      ]
     },
     "metadata": {},
     "output_type": "display_data"
    },
    {
     "data": {
      "application/vnd.jupyter.widget-view+json": {
       "model_id": "9403e52fdac2499faa17407e28a69b1f",
       "version_major": 2,
       "version_minor": 0
      },
      "text/plain": [
       "<LAMBDA> DONE:   0%|          | 0/698 [00:00<?, ?it/s]"
      ]
     },
     "metadata": {},
     "output_type": "display_data"
    },
    {
     "data": {
      "application/vnd.jupyter.widget-view+json": {
       "model_id": "e0aa94b56eab444cadad2c93bc608ef7",
       "version_major": 2,
       "version_minor": 0
      },
      "text/plain": [
       "<LAMBDA> DONE:   0%|          | 0/170 [00:00<?, ?it/s]"
      ]
     },
     "metadata": {},
     "output_type": "display_data"
    },
    {
     "data": {
      "application/vnd.jupyter.widget-view+json": {
       "model_id": "a51fc78e350d4575b0a47eb3228dfab5",
       "version_major": 2,
       "version_minor": 0
      },
      "text/plain": [
       "<LAMBDA> DONE:   0%|          | 0/170 [00:00<?, ?it/s]"
      ]
     },
     "metadata": {},
     "output_type": "display_data"
    },
    {
     "data": {
      "application/vnd.jupyter.widget-view+json": {
       "model_id": "7cc80b89bef64754b856dbda77c5b814",
       "version_major": 2,
       "version_minor": 0
      },
      "text/plain": [
       "<LAMBDA> DONE:   0%|          | 0/170 [00:00<?, ?it/s]"
      ]
     },
     "metadata": {},
     "output_type": "display_data"
    },
    {
     "data": {
      "application/vnd.jupyter.widget-view+json": {
       "model_id": "20158bcbe5ad43298c6b481e9592567e",
       "version_major": 2,
       "version_minor": 0
      },
      "text/plain": [
       "<LAMBDA> DONE:   0%|          | 0/160 [00:00<?, ?it/s]"
      ]
     },
     "metadata": {},
     "output_type": "display_data"
    },
    {
     "data": {
      "application/vnd.jupyter.widget-view+json": {
       "model_id": "f21a0056406042ecbcd38118c22adf50",
       "version_major": 2,
       "version_minor": 0
      },
      "text/plain": [
       "<LAMBDA> DONE:   0%|          | 0/160 [00:00<?, ?it/s]"
      ]
     },
     "metadata": {},
     "output_type": "display_data"
    },
    {
     "data": {
      "application/vnd.jupyter.widget-view+json": {
       "model_id": "c8cee35a63d144e9aec84a72746840e9",
       "version_major": 2,
       "version_minor": 0
      },
      "text/plain": [
       "<LAMBDA> DONE:   0%|          | 0/160 [00:00<?, ?it/s]"
      ]
     },
     "metadata": {},
     "output_type": "display_data"
    },
    {
     "data": {
      "application/vnd.jupyter.widget-view+json": {
       "model_id": "db1e89f5958446e2b567842591bdd449",
       "version_major": 2,
       "version_minor": 0
      },
      "text/plain": [
       "<LAMBDA> DONE:   0%|          | 0/1394 [00:00<?, ?it/s]"
      ]
     },
     "metadata": {},
     "output_type": "display_data"
    },
    {
     "data": {
      "application/vnd.jupyter.widget-view+json": {
       "model_id": "68b3003bc7cb40199e3477fcfca51f79",
       "version_major": 2,
       "version_minor": 0
      },
      "text/plain": [
       "<LAMBDA> DONE:   0%|          | 0/1394 [00:00<?, ?it/s]"
      ]
     },
     "metadata": {},
     "output_type": "display_data"
    },
    {
     "data": {
      "application/vnd.jupyter.widget-view+json": {
       "model_id": "34609ed29ad34afeba3c846e176b8cd8",
       "version_major": 2,
       "version_minor": 0
      },
      "text/plain": [
       "<LAMBDA> DONE:   0%|          | 0/1394 [00:00<?, ?it/s]"
      ]
     },
     "metadata": {},
     "output_type": "display_data"
    },
    {
     "data": {
      "application/vnd.jupyter.widget-view+json": {
       "model_id": "ed874f4f2d224875996c152ed500767a",
       "version_major": 2,
       "version_minor": 0
      },
      "text/plain": [
       "<LAMBDA> DONE:   0%|          | 0/404 [00:00<?, ?it/s]"
      ]
     },
     "metadata": {},
     "output_type": "display_data"
    },
    {
     "data": {
      "application/vnd.jupyter.widget-view+json": {
       "model_id": "2e9e79701c7e4da6912dfc5fc8f38958",
       "version_major": 2,
       "version_minor": 0
      },
      "text/plain": [
       "<LAMBDA> DONE:   0%|          | 0/404 [00:00<?, ?it/s]"
      ]
     },
     "metadata": {},
     "output_type": "display_data"
    },
    {
     "data": {
      "application/vnd.jupyter.widget-view+json": {
       "model_id": "0ba5dcc6fa754edaa85d2ec3e9d49d5a",
       "version_major": 2,
       "version_minor": 0
      },
      "text/plain": [
       "<LAMBDA> DONE:   0%|          | 0/404 [00:00<?, ?it/s]"
      ]
     },
     "metadata": {},
     "output_type": "display_data"
    },
    {
     "data": {
      "application/vnd.jupyter.widget-view+json": {
       "model_id": "858e29c70fb14644a1c2be8fca3681e9",
       "version_major": 2,
       "version_minor": 0
      },
      "text/plain": [
       "<LAMBDA> DONE:   0%|          | 0/2619 [00:00<?, ?it/s]"
      ]
     },
     "metadata": {},
     "output_type": "display_data"
    },
    {
     "data": {
      "application/vnd.jupyter.widget-view+json": {
       "model_id": "dd8dc086d98c4fd6a6050c44107a07e1",
       "version_major": 2,
       "version_minor": 0
      },
      "text/plain": [
       "<LAMBDA> DONE:   0%|          | 0/2619 [00:00<?, ?it/s]"
      ]
     },
     "metadata": {},
     "output_type": "display_data"
    },
    {
     "data": {
      "application/vnd.jupyter.widget-view+json": {
       "model_id": "8b2a182e1b474b84a0f4023719f71f35",
       "version_major": 2,
       "version_minor": 0
      },
      "text/plain": [
       "<LAMBDA> DONE:   0%|          | 0/2619 [00:00<?, ?it/s]"
      ]
     },
     "metadata": {},
     "output_type": "display_data"
    },
    {
     "data": {
      "application/vnd.jupyter.widget-view+json": {
       "model_id": "64902f228cd541c78785736e56643d89",
       "version_major": 2,
       "version_minor": 0
      },
      "text/plain": [
       "<LAMBDA> DONE:   0%|          | 0/26 [00:00<?, ?it/s]"
      ]
     },
     "metadata": {},
     "output_type": "display_data"
    },
    {
     "data": {
      "application/vnd.jupyter.widget-view+json": {
       "model_id": "33079b0126a04d73abbd5f18120cb268",
       "version_major": 2,
       "version_minor": 0
      },
      "text/plain": [
       "<LAMBDA> DONE:   0%|          | 0/26 [00:00<?, ?it/s]"
      ]
     },
     "metadata": {},
     "output_type": "display_data"
    },
    {
     "data": {
      "application/vnd.jupyter.widget-view+json": {
       "model_id": "9e2c3a412b5d4f86ae36d6eaaad59ed0",
       "version_major": 2,
       "version_minor": 0
      },
      "text/plain": [
       "<LAMBDA> DONE:   0%|          | 0/26 [00:00<?, ?it/s]"
      ]
     },
     "metadata": {},
     "output_type": "display_data"
    },
    {
     "name": "stderr",
     "output_type": "stream",
     "text": [
      "/tmp/ipykernel_3805226/2830027787.py:60: FutureWarning: The behavior of DataFrame concatenation with empty or all-NA entries is deprecated. In a future version, this will no longer exclude empty or all-NA columns when determining the result dtypes. To retain the old behavior, exclude the relevant entries before the concat operation.\n",
      "  pd.concat(tmp).to_hdf(f'{RES_PATH}/{key}.h5', sp, complevel=9, complib='zlib')\n",
      "/tmp/ipykernel_3805226/2830027787.py:60: PerformanceWarning: \n",
      "your performance may suffer as PyTables will pickle object types that it cannot\n",
      "map directly to c-types [inferred_type->mixed,key->block2_values] [items->Index(['sp_tree_tail', 'sp_tree_head', 'ldo_category', 'mdo_category',\n",
      "       'species', 'ldo_gene', 'mdo_gene', 'outgroup_species', 'out_gene'],\n",
      "      dtype='object')]\n",
      "\n",
      "  pd.concat(tmp).to_hdf(f'{RES_PATH}/{key}.h5', sp, complevel=9, complib='zlib')\n"
     ]
    },
    {
     "data": {
      "application/vnd.jupyter.widget-view+json": {
       "model_id": "87fa4dab72104e75af021f5282231d52",
       "version_major": 2,
       "version_minor": 0
      },
      "text/plain": [
       "<LAMBDA> DONE:   0%|          | 0/1017 [00:00<?, ?it/s]"
      ]
     },
     "metadata": {},
     "output_type": "display_data"
    },
    {
     "data": {
      "application/vnd.jupyter.widget-view+json": {
       "model_id": "8f8debc2f7924c78ad0df3ef0e6bbd0a",
       "version_major": 2,
       "version_minor": 0
      },
      "text/plain": [
       "<LAMBDA> DONE:   0%|          | 0/1017 [00:00<?, ?it/s]"
      ]
     },
     "metadata": {},
     "output_type": "display_data"
    },
    {
     "data": {
      "application/vnd.jupyter.widget-view+json": {
       "model_id": "1f9298a7b72a4839a3fcb5b594adf96a",
       "version_major": 2,
       "version_minor": 0
      },
      "text/plain": [
       "<LAMBDA> DONE:   0%|          | 0/1017 [00:00<?, ?it/s]"
      ]
     },
     "metadata": {},
     "output_type": "display_data"
    },
    {
     "data": {
      "application/vnd.jupyter.widget-view+json": {
       "model_id": "a7b42d701d7247218236765077dd4b1e",
       "version_major": 2,
       "version_minor": 0
      },
      "text/plain": [
       "<LAMBDA> DONE:   0%|          | 0/88 [00:00<?, ?it/s]"
      ]
     },
     "metadata": {},
     "output_type": "display_data"
    },
    {
     "data": {
      "application/vnd.jupyter.widget-view+json": {
       "model_id": "8ce79046882846acb09fb209d19693fd",
       "version_major": 2,
       "version_minor": 0
      },
      "text/plain": [
       "<LAMBDA> DONE:   0%|          | 0/88 [00:00<?, ?it/s]"
      ]
     },
     "metadata": {},
     "output_type": "display_data"
    },
    {
     "data": {
      "application/vnd.jupyter.widget-view+json": {
       "model_id": "243866a3e5e347ed97864d0e6894ccfd",
       "version_major": 2,
       "version_minor": 0
      },
      "text/plain": [
       "<LAMBDA> DONE:   0%|          | 0/88 [00:00<?, ?it/s]"
      ]
     },
     "metadata": {},
     "output_type": "display_data"
    },
    {
     "data": {
      "application/vnd.jupyter.widget-view+json": {
       "model_id": "d636d5c6a68f484c9a49297e28587c17",
       "version_major": 2,
       "version_minor": 0
      },
      "text/plain": [
       "<LAMBDA> DONE:   0%|          | 0/2586 [00:00<?, ?it/s]"
      ]
     },
     "metadata": {},
     "output_type": "display_data"
    },
    {
     "data": {
      "application/vnd.jupyter.widget-view+json": {
       "model_id": "87569fefee4646608a1de599c7feae9b",
       "version_major": 2,
       "version_minor": 0
      },
      "text/plain": [
       "<LAMBDA> DONE:   0%|          | 0/2586 [00:00<?, ?it/s]"
      ]
     },
     "metadata": {},
     "output_type": "display_data"
    },
    {
     "data": {
      "application/vnd.jupyter.widget-view+json": {
       "model_id": "f1f300a7ac294e78a22e7e8ba090ed2e",
       "version_major": 2,
       "version_minor": 0
      },
      "text/plain": [
       "<LAMBDA> DONE:   0%|          | 0/2586 [00:00<?, ?it/s]"
      ]
     },
     "metadata": {},
     "output_type": "display_data"
    },
    {
     "data": {
      "application/vnd.jupyter.widget-view+json": {
       "model_id": "d07958a4653648219cea6698c656cb32",
       "version_major": 2,
       "version_minor": 0
      },
      "text/plain": [
       "<LAMBDA> DONE:   0%|          | 0/238 [00:00<?, ?it/s]"
      ]
     },
     "metadata": {},
     "output_type": "display_data"
    },
    {
     "data": {
      "application/vnd.jupyter.widget-view+json": {
       "model_id": "5dfae42dc6024d28b19e99587f1c5f80",
       "version_major": 2,
       "version_minor": 0
      },
      "text/plain": [
       "<LAMBDA> DONE:   0%|          | 0/238 [00:00<?, ?it/s]"
      ]
     },
     "metadata": {},
     "output_type": "display_data"
    },
    {
     "data": {
      "application/vnd.jupyter.widget-view+json": {
       "model_id": "32558d4f113a42a4b1fcd6ea2c87906f",
       "version_major": 2,
       "version_minor": 0
      },
      "text/plain": [
       "<LAMBDA> DONE:   0%|          | 0/238 [00:00<?, ?it/s]"
      ]
     },
     "metadata": {},
     "output_type": "display_data"
    },
    {
     "data": {
      "application/vnd.jupyter.widget-view+json": {
       "model_id": "41c6fe0cc9ea4942b5f3f24d9ef5788c",
       "version_major": 2,
       "version_minor": 0
      },
      "text/plain": [
       "<LAMBDA> DONE:   0%|          | 0/197 [00:00<?, ?it/s]"
      ]
     },
     "metadata": {},
     "output_type": "display_data"
    },
    {
     "data": {
      "application/vnd.jupyter.widget-view+json": {
       "model_id": "17633b00534347c88d71555d139c8521",
       "version_major": 2,
       "version_minor": 0
      },
      "text/plain": [
       "<LAMBDA> DONE:   0%|          | 0/197 [00:00<?, ?it/s]"
      ]
     },
     "metadata": {},
     "output_type": "display_data"
    },
    {
     "data": {
      "application/vnd.jupyter.widget-view+json": {
       "model_id": "8c5177201ff34aaba8c5b07d0bffbc4c",
       "version_major": 2,
       "version_minor": 0
      },
      "text/plain": [
       "<LAMBDA> DONE:   0%|          | 0/197 [00:00<?, ?it/s]"
      ]
     },
     "metadata": {},
     "output_type": "display_data"
    },
    {
     "data": {
      "application/vnd.jupyter.widget-view+json": {
       "model_id": "d445caf696e6434e943aef7e3ad82511",
       "version_major": 2,
       "version_minor": 0
      },
      "text/plain": [
       "<LAMBDA> DONE:   0%|          | 0/22807 [00:00<?, ?it/s]"
      ]
     },
     "metadata": {},
     "output_type": "display_data"
    },
    {
     "data": {
      "application/vnd.jupyter.widget-view+json": {
       "model_id": "2862b0d83f9443689f2e28e68147639d",
       "version_major": 2,
       "version_minor": 0
      },
      "text/plain": [
       "<LAMBDA> DONE:   0%|          | 0/22807 [00:00<?, ?it/s]"
      ]
     },
     "metadata": {},
     "output_type": "display_data"
    },
    {
     "data": {
      "application/vnd.jupyter.widget-view+json": {
       "model_id": "5c1eccc7fdce4753ae8fd536f7832889",
       "version_major": 2,
       "version_minor": 0
      },
      "text/plain": [
       "<LAMBDA> DONE:   0%|          | 0/22807 [00:00<?, ?it/s]"
      ]
     },
     "metadata": {},
     "output_type": "display_data"
    },
    {
     "data": {
      "application/vnd.jupyter.widget-view+json": {
       "model_id": "2ca98452f05646ca8191ef22e772bb42",
       "version_major": 2,
       "version_minor": 0
      },
      "text/plain": [
       "<LAMBDA> DONE:   0%|          | 0/177 [00:00<?, ?it/s]"
      ]
     },
     "metadata": {},
     "output_type": "display_data"
    },
    {
     "data": {
      "application/vnd.jupyter.widget-view+json": {
       "model_id": "6c07fb8412b54937b13a4cd63a8a0574",
       "version_major": 2,
       "version_minor": 0
      },
      "text/plain": [
       "<LAMBDA> DONE:   0%|          | 0/177 [00:00<?, ?it/s]"
      ]
     },
     "metadata": {},
     "output_type": "display_data"
    },
    {
     "data": {
      "application/vnd.jupyter.widget-view+json": {
       "model_id": "b793ae126f7c4b418c6e7239bd3f4d11",
       "version_major": 2,
       "version_minor": 0
      },
      "text/plain": [
       "<LAMBDA> DONE:   0%|          | 0/177 [00:00<?, ?it/s]"
      ]
     },
     "metadata": {},
     "output_type": "display_data"
    },
    {
     "data": {
      "application/vnd.jupyter.widget-view+json": {
       "model_id": "312d9d810e2045c1acc2268987782119",
       "version_major": 2,
       "version_minor": 0
      },
      "text/plain": [
       "<LAMBDA> DONE:   0%|          | 0/145 [00:00<?, ?it/s]"
      ]
     },
     "metadata": {},
     "output_type": "display_data"
    },
    {
     "data": {
      "application/vnd.jupyter.widget-view+json": {
       "model_id": "5a77926f678640d88bdba3c2203e924f",
       "version_major": 2,
       "version_minor": 0
      },
      "text/plain": [
       "<LAMBDA> DONE:   0%|          | 0/145 [00:00<?, ?it/s]"
      ]
     },
     "metadata": {},
     "output_type": "display_data"
    },
    {
     "data": {
      "application/vnd.jupyter.widget-view+json": {
       "model_id": "c2ea34a71dc54f57b9aff9ea394e5028",
       "version_major": 2,
       "version_minor": 0
      },
      "text/plain": [
       "<LAMBDA> DONE:   0%|          | 0/145 [00:00<?, ?it/s]"
      ]
     },
     "metadata": {},
     "output_type": "display_data"
    },
    {
     "data": {
      "application/vnd.jupyter.widget-view+json": {
       "model_id": "4358d19f950a41128046b061f7aa81ee",
       "version_major": 2,
       "version_minor": 0
      },
      "text/plain": [
       "<LAMBDA> DONE:   0%|          | 0/1838 [00:00<?, ?it/s]"
      ]
     },
     "metadata": {},
     "output_type": "display_data"
    },
    {
     "data": {
      "application/vnd.jupyter.widget-view+json": {
       "model_id": "e770d1fffe744a13b68e43eaa90128a5",
       "version_major": 2,
       "version_minor": 0
      },
      "text/plain": [
       "<LAMBDA> DONE:   0%|          | 0/1838 [00:00<?, ?it/s]"
      ]
     },
     "metadata": {},
     "output_type": "display_data"
    },
    {
     "data": {
      "application/vnd.jupyter.widget-view+json": {
       "model_id": "581f4ea5ffbc43e08edea48cd59f016c",
       "version_major": 2,
       "version_minor": 0
      },
      "text/plain": [
       "<LAMBDA> DONE:   0%|          | 0/1838 [00:00<?, ?it/s]"
      ]
     },
     "metadata": {},
     "output_type": "display_data"
    },
    {
     "data": {
      "application/vnd.jupyter.widget-view+json": {
       "model_id": "23e7ca5c73e14439a7ba7c11b4336786",
       "version_major": 2,
       "version_minor": 0
      },
      "text/plain": [
       "<LAMBDA> DONE:   0%|          | 0/419 [00:00<?, ?it/s]"
      ]
     },
     "metadata": {},
     "output_type": "display_data"
    },
    {
     "data": {
      "application/vnd.jupyter.widget-view+json": {
       "model_id": "1cc4f6db2b534666a581ececc89f9c86",
       "version_major": 2,
       "version_minor": 0
      },
      "text/plain": [
       "<LAMBDA> DONE:   0%|          | 0/419 [00:00<?, ?it/s]"
      ]
     },
     "metadata": {},
     "output_type": "display_data"
    },
    {
     "data": {
      "application/vnd.jupyter.widget-view+json": {
       "model_id": "42913bcc60194b03ab518d9470f08f26",
       "version_major": 2,
       "version_minor": 0
      },
      "text/plain": [
       "<LAMBDA> DONE:   0%|          | 0/419 [00:00<?, ?it/s]"
      ]
     },
     "metadata": {},
     "output_type": "display_data"
    },
    {
     "data": {
      "application/vnd.jupyter.widget-view+json": {
       "model_id": "feeb4aeb13e94787a6314d2fb9235190",
       "version_major": 2,
       "version_minor": 0
      },
      "text/plain": [
       "<LAMBDA> DONE:   0%|          | 0/418 [00:00<?, ?it/s]"
      ]
     },
     "metadata": {},
     "output_type": "display_data"
    },
    {
     "data": {
      "application/vnd.jupyter.widget-view+json": {
       "model_id": "3eaac995b09a4ca0a92d1c2a185449d7",
       "version_major": 2,
       "version_minor": 0
      },
      "text/plain": [
       "<LAMBDA> DONE:   0%|          | 0/418 [00:00<?, ?it/s]"
      ]
     },
     "metadata": {},
     "output_type": "display_data"
    },
    {
     "data": {
      "application/vnd.jupyter.widget-view+json": {
       "model_id": "292f9ae49a9e4c33a10de47088d76d69",
       "version_major": 2,
       "version_minor": 0
      },
      "text/plain": [
       "<LAMBDA> DONE:   0%|          | 0/418 [00:00<?, ?it/s]"
      ]
     },
     "metadata": {},
     "output_type": "display_data"
    },
    {
     "name": "stderr",
     "output_type": "stream",
     "text": [
      "/tmp/ipykernel_3805226/2830027787.py:60: PerformanceWarning: \n",
      "your performance may suffer as PyTables will pickle object types that it cannot\n",
      "map directly to c-types [inferred_type->mixed,key->block2_values] [items->Index(['sp_tree_tail', 'sp_tree_head', 'ldo_category', 'mdo_category',\n",
      "       'species', 'ldo_gene', 'mdo_gene', 'outgroup_species', 'out_gene'],\n",
      "      dtype='object')]\n",
      "\n",
      "  pd.concat(tmp).to_hdf(f'{RES_PATH}/{key}.h5', sp, complevel=9, complib='zlib')\n"
     ]
    },
    {
     "data": {
      "application/vnd.jupyter.widget-view+json": {
       "model_id": "1573a09d1db443a5be3f9157a9a14c2c",
       "version_major": 2,
       "version_minor": 0
      },
      "text/plain": [
       "<LAMBDA> DONE:   0%|          | 0/1017 [00:00<?, ?it/s]"
      ]
     },
     "metadata": {},
     "output_type": "display_data"
    },
    {
     "data": {
      "application/vnd.jupyter.widget-view+json": {
       "model_id": "fdd6152437a94e3bbc20f0b65e9df0ed",
       "version_major": 2,
       "version_minor": 0
      },
      "text/plain": [
       "<LAMBDA> DONE:   0%|          | 0/1017 [00:00<?, ?it/s]"
      ]
     },
     "metadata": {},
     "output_type": "display_data"
    },
    {
     "data": {
      "application/vnd.jupyter.widget-view+json": {
       "model_id": "bc4ef26816974587a7495e4cba529790",
       "version_major": 2,
       "version_minor": 0
      },
      "text/plain": [
       "<LAMBDA> DONE:   0%|          | 0/1017 [00:00<?, ?it/s]"
      ]
     },
     "metadata": {},
     "output_type": "display_data"
    },
    {
     "data": {
      "application/vnd.jupyter.widget-view+json": {
       "model_id": "453d426b536845d282770163e23d0913",
       "version_major": 2,
       "version_minor": 0
      },
      "text/plain": [
       "<LAMBDA> DONE:   0%|          | 0/88 [00:00<?, ?it/s]"
      ]
     },
     "metadata": {},
     "output_type": "display_data"
    },
    {
     "data": {
      "application/vnd.jupyter.widget-view+json": {
       "model_id": "61ddadc107e84e209f77fb1eb768f251",
       "version_major": 2,
       "version_minor": 0
      },
      "text/plain": [
       "<LAMBDA> DONE:   0%|          | 0/88 [00:00<?, ?it/s]"
      ]
     },
     "metadata": {},
     "output_type": "display_data"
    },
    {
     "data": {
      "application/vnd.jupyter.widget-view+json": {
       "model_id": "8b6051bc9c27409c84caf28b9f95284e",
       "version_major": 2,
       "version_minor": 0
      },
      "text/plain": [
       "<LAMBDA> DONE:   0%|          | 0/88 [00:00<?, ?it/s]"
      ]
     },
     "metadata": {},
     "output_type": "display_data"
    },
    {
     "data": {
      "application/vnd.jupyter.widget-view+json": {
       "model_id": "944e2165f2ef43b38023f9508fcaaba5",
       "version_major": 2,
       "version_minor": 0
      },
      "text/plain": [
       "<LAMBDA> DONE:   0%|          | 0/2586 [00:00<?, ?it/s]"
      ]
     },
     "metadata": {},
     "output_type": "display_data"
    },
    {
     "data": {
      "application/vnd.jupyter.widget-view+json": {
       "model_id": "b63938e4b6be494c81b76f1aad645f50",
       "version_major": 2,
       "version_minor": 0
      },
      "text/plain": [
       "<LAMBDA> DONE:   0%|          | 0/2586 [00:00<?, ?it/s]"
      ]
     },
     "metadata": {},
     "output_type": "display_data"
    },
    {
     "data": {
      "application/vnd.jupyter.widget-view+json": {
       "model_id": "36b3c921c2ee4941a5fe55c04d775c7e",
       "version_major": 2,
       "version_minor": 0
      },
      "text/plain": [
       "<LAMBDA> DONE:   0%|          | 0/2586 [00:00<?, ?it/s]"
      ]
     },
     "metadata": {},
     "output_type": "display_data"
    },
    {
     "data": {
      "application/vnd.jupyter.widget-view+json": {
       "model_id": "5ca9517574aa4fdf9b5876469121e47d",
       "version_major": 2,
       "version_minor": 0
      },
      "text/plain": [
       "<LAMBDA> DONE:   0%|          | 0/238 [00:00<?, ?it/s]"
      ]
     },
     "metadata": {},
     "output_type": "display_data"
    },
    {
     "data": {
      "application/vnd.jupyter.widget-view+json": {
       "model_id": "85e681f0cd7540368f399d2d4f2c63b4",
       "version_major": 2,
       "version_minor": 0
      },
      "text/plain": [
       "<LAMBDA> DONE:   0%|          | 0/238 [00:00<?, ?it/s]"
      ]
     },
     "metadata": {},
     "output_type": "display_data"
    },
    {
     "data": {
      "application/vnd.jupyter.widget-view+json": {
       "model_id": "3d60822c3fa840aa937cbf15eaf5b215",
       "version_major": 2,
       "version_minor": 0
      },
      "text/plain": [
       "<LAMBDA> DONE:   0%|          | 0/238 [00:00<?, ?it/s]"
      ]
     },
     "metadata": {},
     "output_type": "display_data"
    },
    {
     "data": {
      "application/vnd.jupyter.widget-view+json": {
       "model_id": "ccd9040912af47418edde6f46f1e4529",
       "version_major": 2,
       "version_minor": 0
      },
      "text/plain": [
       "<LAMBDA> DONE:   0%|          | 0/22807 [00:00<?, ?it/s]"
      ]
     },
     "metadata": {},
     "output_type": "display_data"
    },
    {
     "data": {
      "application/vnd.jupyter.widget-view+json": {
       "model_id": "d7acce90123041e4b3f97155651cd911",
       "version_major": 2,
       "version_minor": 0
      },
      "text/plain": [
       "<LAMBDA> DONE:   0%|          | 0/22807 [00:00<?, ?it/s]"
      ]
     },
     "metadata": {},
     "output_type": "display_data"
    },
    {
     "data": {
      "application/vnd.jupyter.widget-view+json": {
       "model_id": "2d22022425154698a95ca5cc4ad8e69a",
       "version_major": 2,
       "version_minor": 0
      },
      "text/plain": [
       "<LAMBDA> DONE:   0%|          | 0/22807 [00:00<?, ?it/s]"
      ]
     },
     "metadata": {},
     "output_type": "display_data"
    },
    {
     "data": {
      "application/vnd.jupyter.widget-view+json": {
       "model_id": "d0b999fa080241c3862f7978e7a4dd03",
       "version_major": 2,
       "version_minor": 0
      },
      "text/plain": [
       "<LAMBDA> DONE:   0%|          | 0/177 [00:00<?, ?it/s]"
      ]
     },
     "metadata": {},
     "output_type": "display_data"
    },
    {
     "data": {
      "application/vnd.jupyter.widget-view+json": {
       "model_id": "c30d857b63c447d992b8a8750e14a856",
       "version_major": 2,
       "version_minor": 0
      },
      "text/plain": [
       "<LAMBDA> DONE:   0%|          | 0/177 [00:00<?, ?it/s]"
      ]
     },
     "metadata": {},
     "output_type": "display_data"
    },
    {
     "data": {
      "application/vnd.jupyter.widget-view+json": {
       "model_id": "1fd046678c27445ea95474b81a03ebbc",
       "version_major": 2,
       "version_minor": 0
      },
      "text/plain": [
       "<LAMBDA> DONE:   0%|          | 0/177 [00:00<?, ?it/s]"
      ]
     },
     "metadata": {},
     "output_type": "display_data"
    },
    {
     "data": {
      "application/vnd.jupyter.widget-view+json": {
       "model_id": "e3db4cba73dd48c1bb3cbd117f38eaca",
       "version_major": 2,
       "version_minor": 0
      },
      "text/plain": [
       "<LAMBDA> DONE:   0%|          | 0/145 [00:00<?, ?it/s]"
      ]
     },
     "metadata": {},
     "output_type": "display_data"
    },
    {
     "data": {
      "application/vnd.jupyter.widget-view+json": {
       "model_id": "58152f21688044e0b9873a165f4cce0d",
       "version_major": 2,
       "version_minor": 0
      },
      "text/plain": [
       "<LAMBDA> DONE:   0%|          | 0/145 [00:00<?, ?it/s]"
      ]
     },
     "metadata": {},
     "output_type": "display_data"
    },
    {
     "data": {
      "application/vnd.jupyter.widget-view+json": {
       "model_id": "941a165c72464c6eaac250a1432e7ec3",
       "version_major": 2,
       "version_minor": 0
      },
      "text/plain": [
       "<LAMBDA> DONE:   0%|          | 0/145 [00:00<?, ?it/s]"
      ]
     },
     "metadata": {},
     "output_type": "display_data"
    },
    {
     "data": {
      "application/vnd.jupyter.widget-view+json": {
       "model_id": "49e2942f8ea447e287d1fc53337b58ee",
       "version_major": 2,
       "version_minor": 0
      },
      "text/plain": [
       "<LAMBDA> DONE:   0%|          | 0/1838 [00:00<?, ?it/s]"
      ]
     },
     "metadata": {},
     "output_type": "display_data"
    },
    {
     "data": {
      "application/vnd.jupyter.widget-view+json": {
       "model_id": "f4f8cf76458c46e484b2464fd13c1ea9",
       "version_major": 2,
       "version_minor": 0
      },
      "text/plain": [
       "<LAMBDA> DONE:   0%|          | 0/1838 [00:00<?, ?it/s]"
      ]
     },
     "metadata": {},
     "output_type": "display_data"
    },
    {
     "data": {
      "application/vnd.jupyter.widget-view+json": {
       "model_id": "09483aa1b3604c708f6077e0cf7d1149",
       "version_major": 2,
       "version_minor": 0
      },
      "text/plain": [
       "<LAMBDA> DONE:   0%|          | 0/1838 [00:00<?, ?it/s]"
      ]
     },
     "metadata": {},
     "output_type": "display_data"
    },
    {
     "data": {
      "application/vnd.jupyter.widget-view+json": {
       "model_id": "f0a3988f9f964e1ea498f2616ad82707",
       "version_major": 2,
       "version_minor": 0
      },
      "text/plain": [
       "<LAMBDA> DONE:   0%|          | 0/419 [00:00<?, ?it/s]"
      ]
     },
     "metadata": {},
     "output_type": "display_data"
    },
    {
     "data": {
      "application/vnd.jupyter.widget-view+json": {
       "model_id": "0a90523923904a8ca3eba4d26e5927fe",
       "version_major": 2,
       "version_minor": 0
      },
      "text/plain": [
       "<LAMBDA> DONE:   0%|          | 0/419 [00:00<?, ?it/s]"
      ]
     },
     "metadata": {},
     "output_type": "display_data"
    },
    {
     "data": {
      "application/vnd.jupyter.widget-view+json": {
       "model_id": "3c15056f245347ba9d3fa0bdcb37c6e3",
       "version_major": 2,
       "version_minor": 0
      },
      "text/plain": [
       "<LAMBDA> DONE:   0%|          | 0/419 [00:00<?, ?it/s]"
      ]
     },
     "metadata": {},
     "output_type": "display_data"
    },
    {
     "data": {
      "application/vnd.jupyter.widget-view+json": {
       "model_id": "d58a9da1972244b9b58ab9691f0a311d",
       "version_major": 2,
       "version_minor": 0
      },
      "text/plain": [
       "<LAMBDA> DONE:   0%|          | 0/418 [00:00<?, ?it/s]"
      ]
     },
     "metadata": {},
     "output_type": "display_data"
    },
    {
     "data": {
      "application/vnd.jupyter.widget-view+json": {
       "model_id": "c00d053c59564a21a61dc94e409a4870",
       "version_major": 2,
       "version_minor": 0
      },
      "text/plain": [
       "<LAMBDA> DONE:   0%|          | 0/418 [00:00<?, ?it/s]"
      ]
     },
     "metadata": {},
     "output_type": "display_data"
    },
    {
     "data": {
      "application/vnd.jupyter.widget-view+json": {
       "model_id": "a359f89e1a934995920341ba556c03dc",
       "version_major": 2,
       "version_minor": 0
      },
      "text/plain": [
       "<LAMBDA> DONE:   0%|          | 0/418 [00:00<?, ?it/s]"
      ]
     },
     "metadata": {},
     "output_type": "display_data"
    },
    {
     "name": "stderr",
     "output_type": "stream",
     "text": [
      "/tmp/ipykernel_3805226/2830027787.py:60: FutureWarning: The behavior of DataFrame concatenation with empty or all-NA entries is deprecated. In a future version, this will no longer exclude empty or all-NA columns when determining the result dtypes. To retain the old behavior, exclude the relevant entries before the concat operation.\n",
      "  pd.concat(tmp).to_hdf(f'{RES_PATH}/{key}.h5', sp, complevel=9, complib='zlib')\n",
      "/tmp/ipykernel_3805226/2830027787.py:60: PerformanceWarning: \n",
      "your performance may suffer as PyTables will pickle object types that it cannot\n",
      "map directly to c-types [inferred_type->mixed,key->block2_values] [items->Index(['sp_tree_tail', 'sp_tree_head', 'ldo_category', 'mdo_category',\n",
      "       'species', 'ldo_gene', 'mdo_gene', 'outgroup_species', 'out_gene'],\n",
      "      dtype='object')]\n",
      "\n",
      "  pd.concat(tmp).to_hdf(f'{RES_PATH}/{key}.h5', sp, complevel=9, complib='zlib')\n"
     ]
    },
    {
     "data": {
      "application/vnd.jupyter.widget-view+json": {
       "model_id": "561131e87c4b4ed88c2cfac833782083",
       "version_major": 2,
       "version_minor": 0
      },
      "text/plain": [
       "<LAMBDA> DONE:   0%|          | 0/1088 [00:00<?, ?it/s]"
      ]
     },
     "metadata": {},
     "output_type": "display_data"
    },
    {
     "data": {
      "application/vnd.jupyter.widget-view+json": {
       "model_id": "ad58afd373164fcb87ebcd46d29bf850",
       "version_major": 2,
       "version_minor": 0
      },
      "text/plain": [
       "<LAMBDA> DONE:   0%|          | 0/1088 [00:00<?, ?it/s]"
      ]
     },
     "metadata": {},
     "output_type": "display_data"
    },
    {
     "data": {
      "application/vnd.jupyter.widget-view+json": {
       "model_id": "61f7f4c96d0b4220b70dbbabd3fe8278",
       "version_major": 2,
       "version_minor": 0
      },
      "text/plain": [
       "<LAMBDA> DONE:   0%|          | 0/1088 [00:00<?, ?it/s]"
      ]
     },
     "metadata": {},
     "output_type": "display_data"
    },
    {
     "data": {
      "application/vnd.jupyter.widget-view+json": {
       "model_id": "c59898f7925348b2b947bb8f35c01f4d",
       "version_major": 2,
       "version_minor": 0
      },
      "text/plain": [
       "<LAMBDA> DONE:   0%|          | 0/731 [00:00<?, ?it/s]"
      ]
     },
     "metadata": {},
     "output_type": "display_data"
    },
    {
     "data": {
      "application/vnd.jupyter.widget-view+json": {
       "model_id": "9d09bf06b7ca4787baf2250db60a49c2",
       "version_major": 2,
       "version_minor": 0
      },
      "text/plain": [
       "<LAMBDA> DONE:   0%|          | 0/731 [00:00<?, ?it/s]"
      ]
     },
     "metadata": {},
     "output_type": "display_data"
    },
    {
     "data": {
      "application/vnd.jupyter.widget-view+json": {
       "model_id": "7bbf9b5a8d2441e8aa115fda6d3a1622",
       "version_major": 2,
       "version_minor": 0
      },
      "text/plain": [
       "<LAMBDA> DONE:   0%|          | 0/731 [00:00<?, ?it/s]"
      ]
     },
     "metadata": {},
     "output_type": "display_data"
    },
    {
     "data": {
      "application/vnd.jupyter.widget-view+json": {
       "model_id": "7a703f879bc7477cb4c84062578c06be",
       "version_major": 2,
       "version_minor": 0
      },
      "text/plain": [
       "<LAMBDA> DONE:   0%|          | 0/186 [00:00<?, ?it/s]"
      ]
     },
     "metadata": {},
     "output_type": "display_data"
    },
    {
     "data": {
      "application/vnd.jupyter.widget-view+json": {
       "model_id": "a88fe489f37e4a97b6b0743dfb34dc37",
       "version_major": 2,
       "version_minor": 0
      },
      "text/plain": [
       "<LAMBDA> DONE:   0%|          | 0/186 [00:00<?, ?it/s]"
      ]
     },
     "metadata": {},
     "output_type": "display_data"
    },
    {
     "data": {
      "application/vnd.jupyter.widget-view+json": {
       "model_id": "4d1ff6e6f31849888ab3008c2710bc4b",
       "version_major": 2,
       "version_minor": 0
      },
      "text/plain": [
       "<LAMBDA> DONE:   0%|          | 0/186 [00:00<?, ?it/s]"
      ]
     },
     "metadata": {},
     "output_type": "display_data"
    },
    {
     "data": {
      "application/vnd.jupyter.widget-view+json": {
       "model_id": "c3fb59c53dc94c9180ac08a8e658ff21",
       "version_major": 2,
       "version_minor": 0
      },
      "text/plain": [
       "<LAMBDA> DONE:   0%|          | 0/5001 [00:00<?, ?it/s]"
      ]
     },
     "metadata": {},
     "output_type": "display_data"
    },
    {
     "data": {
      "application/vnd.jupyter.widget-view+json": {
       "model_id": "f24a8d9cb74a42a59fc61a8e5dcfbfbd",
       "version_major": 2,
       "version_minor": 0
      },
      "text/plain": [
       "<LAMBDA> DONE:   0%|          | 0/5001 [00:00<?, ?it/s]"
      ]
     },
     "metadata": {},
     "output_type": "display_data"
    },
    {
     "data": {
      "application/vnd.jupyter.widget-view+json": {
       "model_id": "1aed5403fa414a0db5e19b067792bf81",
       "version_major": 2,
       "version_minor": 0
      },
      "text/plain": [
       "<LAMBDA> DONE:   0%|          | 0/5001 [00:00<?, ?it/s]"
      ]
     },
     "metadata": {},
     "output_type": "display_data"
    },
    {
     "data": {
      "application/vnd.jupyter.widget-view+json": {
       "model_id": "29caca8bc3564a01b2224f3ba1faa33c",
       "version_major": 2,
       "version_minor": 0
      },
      "text/plain": [
       "<LAMBDA> DONE:   0%|          | 0/1981 [00:00<?, ?it/s]"
      ]
     },
     "metadata": {},
     "output_type": "display_data"
    },
    {
     "data": {
      "application/vnd.jupyter.widget-view+json": {
       "model_id": "a6af0212668d4502a29414b95d1f6362",
       "version_major": 2,
       "version_minor": 0
      },
      "text/plain": [
       "<LAMBDA> DONE:   0%|          | 0/1981 [00:00<?, ?it/s]"
      ]
     },
     "metadata": {},
     "output_type": "display_data"
    },
    {
     "data": {
      "application/vnd.jupyter.widget-view+json": {
       "model_id": "b48b6ce1a8164718a8535be9697728da",
       "version_major": 2,
       "version_minor": 0
      },
      "text/plain": [
       "<LAMBDA> DONE:   0%|          | 0/1981 [00:00<?, ?it/s]"
      ]
     },
     "metadata": {},
     "output_type": "display_data"
    },
    {
     "data": {
      "application/vnd.jupyter.widget-view+json": {
       "model_id": "f55166897ce147a1b0ce98a7ac9066d4",
       "version_major": 2,
       "version_minor": 0
      },
      "text/plain": [
       "<LAMBDA> DONE:   0%|          | 0/505 [00:00<?, ?it/s]"
      ]
     },
     "metadata": {},
     "output_type": "display_data"
    },
    {
     "data": {
      "application/vnd.jupyter.widget-view+json": {
       "model_id": "b382a0ea77864863acaf1f464390e411",
       "version_major": 2,
       "version_minor": 0
      },
      "text/plain": [
       "<LAMBDA> DONE:   0%|          | 0/505 [00:00<?, ?it/s]"
      ]
     },
     "metadata": {},
     "output_type": "display_data"
    },
    {
     "data": {
      "application/vnd.jupyter.widget-view+json": {
       "model_id": "a49515446ee94401a373707d7a53ae9f",
       "version_major": 2,
       "version_minor": 0
      },
      "text/plain": [
       "<LAMBDA> DONE:   0%|          | 0/505 [00:00<?, ?it/s]"
      ]
     },
     "metadata": {},
     "output_type": "display_data"
    },
    {
     "name": "stderr",
     "output_type": "stream",
     "text": [
      "/tmp/ipykernel_3805226/2830027787.py:60: FutureWarning: The behavior of DataFrame concatenation with empty or all-NA entries is deprecated. In a future version, this will no longer exclude empty or all-NA columns when determining the result dtypes. To retain the old behavior, exclude the relevant entries before the concat operation.\n",
      "  pd.concat(tmp).to_hdf(f'{RES_PATH}/{key}.h5', sp, complevel=9, complib='zlib')\n",
      "/tmp/ipykernel_3805226/2830027787.py:60: PerformanceWarning: \n",
      "your performance may suffer as PyTables will pickle object types that it cannot\n",
      "map directly to c-types [inferred_type->mixed,key->block2_values] [items->Index(['sp_tree_tail', 'sp_tree_head', 'ldo_category', 'mdo_category',\n",
      "       'species', 'ldo_gene', 'mdo_gene', 'outgroup_species', 'out_gene'],\n",
      "      dtype='object')]\n",
      "\n",
      "  pd.concat(tmp).to_hdf(f'{RES_PATH}/{key}.h5', sp, complevel=9, complib='zlib')\n"
     ]
    },
    {
     "data": {
      "application/vnd.jupyter.widget-view+json": {
       "model_id": "bc797f4059d94222aca0d1540004398e",
       "version_major": 2,
       "version_minor": 0
      },
      "text/plain": [
       "<LAMBDA> DONE:   0%|          | 0/1088 [00:00<?, ?it/s]"
      ]
     },
     "metadata": {},
     "output_type": "display_data"
    },
    {
     "data": {
      "application/vnd.jupyter.widget-view+json": {
       "model_id": "1ec874ca032049659e5185e2cef75cae",
       "version_major": 2,
       "version_minor": 0
      },
      "text/plain": [
       "<LAMBDA> DONE:   0%|          | 0/1088 [00:00<?, ?it/s]"
      ]
     },
     "metadata": {},
     "output_type": "display_data"
    },
    {
     "data": {
      "application/vnd.jupyter.widget-view+json": {
       "model_id": "cbffd491809f4a7eba704e480a5b860b",
       "version_major": 2,
       "version_minor": 0
      },
      "text/plain": [
       "<LAMBDA> DONE:   0%|          | 0/1088 [00:00<?, ?it/s]"
      ]
     },
     "metadata": {},
     "output_type": "display_data"
    },
    {
     "data": {
      "application/vnd.jupyter.widget-view+json": {
       "model_id": "331eea9e175c49d2be2eb2a92ea73ccc",
       "version_major": 2,
       "version_minor": 0
      },
      "text/plain": [
       "<LAMBDA> DONE:   0%|          | 0/731 [00:00<?, ?it/s]"
      ]
     },
     "metadata": {},
     "output_type": "display_data"
    },
    {
     "data": {
      "application/vnd.jupyter.widget-view+json": {
       "model_id": "333a5260beed4600b78149365a901403",
       "version_major": 2,
       "version_minor": 0
      },
      "text/plain": [
       "<LAMBDA> DONE:   0%|          | 0/731 [00:00<?, ?it/s]"
      ]
     },
     "metadata": {},
     "output_type": "display_data"
    },
    {
     "data": {
      "application/vnd.jupyter.widget-view+json": {
       "model_id": "e48cfff8cff6487d8494473d2b82b91a",
       "version_major": 2,
       "version_minor": 0
      },
      "text/plain": [
       "<LAMBDA> DONE:   0%|          | 0/731 [00:00<?, ?it/s]"
      ]
     },
     "metadata": {},
     "output_type": "display_data"
    },
    {
     "data": {
      "application/vnd.jupyter.widget-view+json": {
       "model_id": "71bd5a5afc294b24a1fed5e53b0115e6",
       "version_major": 2,
       "version_minor": 0
      },
      "text/plain": [
       "<LAMBDA> DONE:   0%|          | 0/186 [00:00<?, ?it/s]"
      ]
     },
     "metadata": {},
     "output_type": "display_data"
    },
    {
     "data": {
      "application/vnd.jupyter.widget-view+json": {
       "model_id": "88d767d4d55b482784d53db41fbb97ca",
       "version_major": 2,
       "version_minor": 0
      },
      "text/plain": [
       "<LAMBDA> DONE:   0%|          | 0/186 [00:00<?, ?it/s]"
      ]
     },
     "metadata": {},
     "output_type": "display_data"
    },
    {
     "data": {
      "application/vnd.jupyter.widget-view+json": {
       "model_id": "bdde4bc7dcbc4ae4a6d7a0f8b3ded9a4",
       "version_major": 2,
       "version_minor": 0
      },
      "text/plain": [
       "<LAMBDA> DONE:   0%|          | 0/186 [00:00<?, ?it/s]"
      ]
     },
     "metadata": {},
     "output_type": "display_data"
    },
    {
     "data": {
      "application/vnd.jupyter.widget-view+json": {
       "model_id": "fba3abac86bc417e91f138d06905b0f6",
       "version_major": 2,
       "version_minor": 0
      },
      "text/plain": [
       "<LAMBDA> DONE:   0%|          | 0/5001 [00:00<?, ?it/s]"
      ]
     },
     "metadata": {},
     "output_type": "display_data"
    },
    {
     "data": {
      "application/vnd.jupyter.widget-view+json": {
       "model_id": "4150ec91db6d45b688453bf4fa5c7ac4",
       "version_major": 2,
       "version_minor": 0
      },
      "text/plain": [
       "<LAMBDA> DONE:   0%|          | 0/5001 [00:00<?, ?it/s]"
      ]
     },
     "metadata": {},
     "output_type": "display_data"
    },
    {
     "data": {
      "application/vnd.jupyter.widget-view+json": {
       "model_id": "560cf85dedac42719abf1e76d089e2e6",
       "version_major": 2,
       "version_minor": 0
      },
      "text/plain": [
       "<LAMBDA> DONE:   0%|          | 0/5001 [00:00<?, ?it/s]"
      ]
     },
     "metadata": {},
     "output_type": "display_data"
    },
    {
     "data": {
      "application/vnd.jupyter.widget-view+json": {
       "model_id": "22ae9ad077c947678c5e1f081740b7d7",
       "version_major": 2,
       "version_minor": 0
      },
      "text/plain": [
       "<LAMBDA> DONE:   0%|          | 0/1981 [00:00<?, ?it/s]"
      ]
     },
     "metadata": {},
     "output_type": "display_data"
    },
    {
     "data": {
      "application/vnd.jupyter.widget-view+json": {
       "model_id": "9d30eaf9cb8c4e2ca8115c737a204788",
       "version_major": 2,
       "version_minor": 0
      },
      "text/plain": [
       "<LAMBDA> DONE:   0%|          | 0/1981 [00:00<?, ?it/s]"
      ]
     },
     "metadata": {},
     "output_type": "display_data"
    },
    {
     "data": {
      "application/vnd.jupyter.widget-view+json": {
       "model_id": "eafec97c5c3c46c4ab858afc78fb9e49",
       "version_major": 2,
       "version_minor": 0
      },
      "text/plain": [
       "<LAMBDA> DONE:   0%|          | 0/1981 [00:00<?, ?it/s]"
      ]
     },
     "metadata": {},
     "output_type": "display_data"
    },
    {
     "data": {
      "application/vnd.jupyter.widget-view+json": {
       "model_id": "1067670696dc48d6991d14a3241be23b",
       "version_major": 2,
       "version_minor": 0
      },
      "text/plain": [
       "<LAMBDA> DONE:   0%|          | 0/505 [00:00<?, ?it/s]"
      ]
     },
     "metadata": {},
     "output_type": "display_data"
    },
    {
     "data": {
      "application/vnd.jupyter.widget-view+json": {
       "model_id": "d15001a9e13644758c97cb1db0a34717",
       "version_major": 2,
       "version_minor": 0
      },
      "text/plain": [
       "<LAMBDA> DONE:   0%|          | 0/505 [00:00<?, ?it/s]"
      ]
     },
     "metadata": {},
     "output_type": "display_data"
    },
    {
     "data": {
      "application/vnd.jupyter.widget-view+json": {
       "model_id": "82a5eb00544c4e2cba7cc8fcadf9ffba",
       "version_major": 2,
       "version_minor": 0
      },
      "text/plain": [
       "<LAMBDA> DONE:   0%|          | 0/505 [00:00<?, ?it/s]"
      ]
     },
     "metadata": {},
     "output_type": "display_data"
    },
    {
     "name": "stderr",
     "output_type": "stream",
     "text": [
      "/tmp/ipykernel_3805226/2830027787.py:60: FutureWarning: The behavior of DataFrame concatenation with empty or all-NA entries is deprecated. In a future version, this will no longer exclude empty or all-NA columns when determining the result dtypes. To retain the old behavior, exclude the relevant entries before the concat operation.\n",
      "  pd.concat(tmp).to_hdf(f'{RES_PATH}/{key}.h5', sp, complevel=9, complib='zlib')\n",
      "/tmp/ipykernel_3805226/2830027787.py:60: PerformanceWarning: \n",
      "your performance may suffer as PyTables will pickle object types that it cannot\n",
      "map directly to c-types [inferred_type->mixed,key->block2_values] [items->Index(['sp_tree_tail', 'sp_tree_head', 'ldo_category', 'mdo_category',\n",
      "       'species', 'ldo_gene', 'mdo_gene', 'outgroup_species', 'out_gene'],\n",
      "      dtype='object')]\n",
      "\n",
      "  pd.concat(tmp).to_hdf(f'{RES_PATH}/{key}.h5', sp, complevel=9, complib='zlib')\n"
     ]
    },
    {
     "data": {
      "application/vnd.jupyter.widget-view+json": {
       "model_id": "f197af5f35414e14a72f13df50e6fb54",
       "version_major": 2,
       "version_minor": 0
      },
      "text/plain": [
       "<LAMBDA> DONE:   0%|          | 0/1041 [00:00<?, ?it/s]"
      ]
     },
     "metadata": {},
     "output_type": "display_data"
    },
    {
     "data": {
      "application/vnd.jupyter.widget-view+json": {
       "model_id": "a0acb35580a04a4d908d6707f41c18c5",
       "version_major": 2,
       "version_minor": 0
      },
      "text/plain": [
       "<LAMBDA> DONE:   0%|          | 0/1041 [00:00<?, ?it/s]"
      ]
     },
     "metadata": {},
     "output_type": "display_data"
    },
    {
     "data": {
      "application/vnd.jupyter.widget-view+json": {
       "model_id": "6d34ad8bfc4940f4bddf13ff840e5d17",
       "version_major": 2,
       "version_minor": 0
      },
      "text/plain": [
       "<LAMBDA> DONE:   0%|          | 0/1041 [00:00<?, ?it/s]"
      ]
     },
     "metadata": {},
     "output_type": "display_data"
    },
    {
     "data": {
      "application/vnd.jupyter.widget-view+json": {
       "model_id": "97b07519433a4047b2fb3c12c5916fe9",
       "version_major": 2,
       "version_minor": 0
      },
      "text/plain": [
       "<LAMBDA> DONE:   0%|          | 0/152 [00:00<?, ?it/s]"
      ]
     },
     "metadata": {},
     "output_type": "display_data"
    },
    {
     "data": {
      "application/vnd.jupyter.widget-view+json": {
       "model_id": "7384958e0c9f49e180f847277e8f7305",
       "version_major": 2,
       "version_minor": 0
      },
      "text/plain": [
       "<LAMBDA> DONE:   0%|          | 0/152 [00:00<?, ?it/s]"
      ]
     },
     "metadata": {},
     "output_type": "display_data"
    },
    {
     "data": {
      "application/vnd.jupyter.widget-view+json": {
       "model_id": "cf9b1035de634c3a8c58bcde0bf92311",
       "version_major": 2,
       "version_minor": 0
      },
      "text/plain": [
       "<LAMBDA> DONE:   0%|          | 0/152 [00:00<?, ?it/s]"
      ]
     },
     "metadata": {},
     "output_type": "display_data"
    },
    {
     "data": {
      "application/vnd.jupyter.widget-view+json": {
       "model_id": "5f6f7546d60e4183920957c91fbea01a",
       "version_major": 2,
       "version_minor": 0
      },
      "text/plain": [
       "<LAMBDA> DONE:   0%|          | 0/1031 [00:00<?, ?it/s]"
      ]
     },
     "metadata": {},
     "output_type": "display_data"
    },
    {
     "data": {
      "application/vnd.jupyter.widget-view+json": {
       "model_id": "711edf275f9a4a95a7ac0e1747b35227",
       "version_major": 2,
       "version_minor": 0
      },
      "text/plain": [
       "<LAMBDA> DONE:   0%|          | 0/1031 [00:00<?, ?it/s]"
      ]
     },
     "metadata": {},
     "output_type": "display_data"
    },
    {
     "data": {
      "application/vnd.jupyter.widget-view+json": {
       "model_id": "4797ab7d77a748809421cb1c505bdc5b",
       "version_major": 2,
       "version_minor": 0
      },
      "text/plain": [
       "<LAMBDA> DONE:   0%|          | 0/1031 [00:00<?, ?it/s]"
      ]
     },
     "metadata": {},
     "output_type": "display_data"
    },
    {
     "data": {
      "application/vnd.jupyter.widget-view+json": {
       "model_id": "733dc40fa7f6408a866634a5689099b8",
       "version_major": 2,
       "version_minor": 0
      },
      "text/plain": [
       "<LAMBDA> DONE:   0%|          | 0/169 [00:00<?, ?it/s]"
      ]
     },
     "metadata": {},
     "output_type": "display_data"
    },
    {
     "data": {
      "application/vnd.jupyter.widget-view+json": {
       "model_id": "43ad2dcac570474e8675b998a9d49cff",
       "version_major": 2,
       "version_minor": 0
      },
      "text/plain": [
       "<LAMBDA> DONE:   0%|          | 0/169 [00:00<?, ?it/s]"
      ]
     },
     "metadata": {},
     "output_type": "display_data"
    },
    {
     "data": {
      "application/vnd.jupyter.widget-view+json": {
       "model_id": "b4ecf0b5dd1c4f059a65b8e5264f1058",
       "version_major": 2,
       "version_minor": 0
      },
      "text/plain": [
       "<LAMBDA> DONE:   0%|          | 0/169 [00:00<?, ?it/s]"
      ]
     },
     "metadata": {},
     "output_type": "display_data"
    },
    {
     "data": {
      "application/vnd.jupyter.widget-view+json": {
       "model_id": "da8d32bbdfcf40d2b27bf8ea3f89d759",
       "version_major": 2,
       "version_minor": 0
      },
      "text/plain": [
       "<LAMBDA> DONE:   0%|          | 0/1543 [00:00<?, ?it/s]"
      ]
     },
     "metadata": {},
     "output_type": "display_data"
    },
    {
     "data": {
      "application/vnd.jupyter.widget-view+json": {
       "model_id": "13e6e754057e4e7488f65254faecf521",
       "version_major": 2,
       "version_minor": 0
      },
      "text/plain": [
       "<LAMBDA> DONE:   0%|          | 0/1543 [00:00<?, ?it/s]"
      ]
     },
     "metadata": {},
     "output_type": "display_data"
    },
    {
     "data": {
      "application/vnd.jupyter.widget-view+json": {
       "model_id": "73620a23e5cf4e36a6ef6b9530c83492",
       "version_major": 2,
       "version_minor": 0
      },
      "text/plain": [
       "<LAMBDA> DONE:   0%|          | 0/1543 [00:00<?, ?it/s]"
      ]
     },
     "metadata": {},
     "output_type": "display_data"
    },
    {
     "data": {
      "application/vnd.jupyter.widget-view+json": {
       "model_id": "bcee928e07674163be2176b88af80c62",
       "version_major": 2,
       "version_minor": 0
      },
      "text/plain": [
       "<LAMBDA> DONE:   0%|          | 0/409 [00:00<?, ?it/s]"
      ]
     },
     "metadata": {},
     "output_type": "display_data"
    },
    {
     "data": {
      "application/vnd.jupyter.widget-view+json": {
       "model_id": "8be5eb4ab52a42c2ae0bbec160c0cbeb",
       "version_major": 2,
       "version_minor": 0
      },
      "text/plain": [
       "<LAMBDA> DONE:   0%|          | 0/409 [00:00<?, ?it/s]"
      ]
     },
     "metadata": {},
     "output_type": "display_data"
    },
    {
     "data": {
      "application/vnd.jupyter.widget-view+json": {
       "model_id": "9e5ec4a898874b2abbba9f83d1fdd317",
       "version_major": 2,
       "version_minor": 0
      },
      "text/plain": [
       "<LAMBDA> DONE:   0%|          | 0/409 [00:00<?, ?it/s]"
      ]
     },
     "metadata": {},
     "output_type": "display_data"
    },
    {
     "data": {
      "application/vnd.jupyter.widget-view+json": {
       "model_id": "34139ee96b334beb98d5c882702a7cc3",
       "version_major": 2,
       "version_minor": 0
      },
      "text/plain": [
       "<LAMBDA> DONE:   0%|          | 0/61 [00:00<?, ?it/s]"
      ]
     },
     "metadata": {},
     "output_type": "display_data"
    },
    {
     "data": {
      "application/vnd.jupyter.widget-view+json": {
       "model_id": "4676377c94e94cf7b4e4bc7d35cb43d9",
       "version_major": 2,
       "version_minor": 0
      },
      "text/plain": [
       "<LAMBDA> DONE:   0%|          | 0/61 [00:00<?, ?it/s]"
      ]
     },
     "metadata": {},
     "output_type": "display_data"
    },
    {
     "data": {
      "application/vnd.jupyter.widget-view+json": {
       "model_id": "9e38597d9e8042c6be853b9f1cbc89aa",
       "version_major": 2,
       "version_minor": 0
      },
      "text/plain": [
       "<LAMBDA> DONE:   0%|          | 0/61 [00:00<?, ?it/s]"
      ]
     },
     "metadata": {},
     "output_type": "display_data"
    },
    {
     "name": "stderr",
     "output_type": "stream",
     "text": [
      "/tmp/ipykernel_3805226/2830027787.py:60: PerformanceWarning: \n",
      "your performance may suffer as PyTables will pickle object types that it cannot\n",
      "map directly to c-types [inferred_type->mixed,key->block2_values] [items->Index(['sp_tree_tail', 'sp_tree_head', 'ldo_category', 'mdo_category',\n",
      "       'species', 'ldo_gene', 'mdo_gene', 'outgroup_species', 'out_gene'],\n",
      "      dtype='object')]\n",
      "\n",
      "  pd.concat(tmp).to_hdf(f'{RES_PATH}/{key}.h5', sp, complevel=9, complib='zlib')\n"
     ]
    },
    {
     "data": {
      "application/vnd.jupyter.widget-view+json": {
       "model_id": "a605ea2cfa3c4761924fa9872e79dda3",
       "version_major": 2,
       "version_minor": 0
      },
      "text/plain": [
       "<LAMBDA> DONE:   0%|          | 0/1041 [00:00<?, ?it/s]"
      ]
     },
     "metadata": {},
     "output_type": "display_data"
    },
    {
     "data": {
      "application/vnd.jupyter.widget-view+json": {
       "model_id": "e221af0638d948dbb87ac7bf4e0a311b",
       "version_major": 2,
       "version_minor": 0
      },
      "text/plain": [
       "<LAMBDA> DONE:   0%|          | 0/1041 [00:00<?, ?it/s]"
      ]
     },
     "metadata": {},
     "output_type": "display_data"
    },
    {
     "data": {
      "application/vnd.jupyter.widget-view+json": {
       "model_id": "c3a0475ba5f6453680129bc69171e58e",
       "version_major": 2,
       "version_minor": 0
      },
      "text/plain": [
       "<LAMBDA> DONE:   0%|          | 0/1041 [00:00<?, ?it/s]"
      ]
     },
     "metadata": {},
     "output_type": "display_data"
    },
    {
     "data": {
      "application/vnd.jupyter.widget-view+json": {
       "model_id": "0e2a9ba08a1c4230975ecf2dda222a5f",
       "version_major": 2,
       "version_minor": 0
      },
      "text/plain": [
       "<LAMBDA> DONE:   0%|          | 0/1031 [00:00<?, ?it/s]"
      ]
     },
     "metadata": {},
     "output_type": "display_data"
    },
    {
     "data": {
      "application/vnd.jupyter.widget-view+json": {
       "model_id": "c0ac993e1a6c4f34a444db7ae2b61a01",
       "version_major": 2,
       "version_minor": 0
      },
      "text/plain": [
       "<LAMBDA> DONE:   0%|          | 0/1031 [00:00<?, ?it/s]"
      ]
     },
     "metadata": {},
     "output_type": "display_data"
    },
    {
     "data": {
      "application/vnd.jupyter.widget-view+json": {
       "model_id": "22818655888d431e951197579a556c3a",
       "version_major": 2,
       "version_minor": 0
      },
      "text/plain": [
       "<LAMBDA> DONE:   0%|          | 0/1031 [00:00<?, ?it/s]"
      ]
     },
     "metadata": {},
     "output_type": "display_data"
    },
    {
     "data": {
      "application/vnd.jupyter.widget-view+json": {
       "model_id": "d9c7c15a0c494baf9c9c9b870658ed84",
       "version_major": 2,
       "version_minor": 0
      },
      "text/plain": [
       "<LAMBDA> DONE:   0%|          | 0/169 [00:00<?, ?it/s]"
      ]
     },
     "metadata": {},
     "output_type": "display_data"
    },
    {
     "data": {
      "application/vnd.jupyter.widget-view+json": {
       "model_id": "69388c7e875c444f95a21310f293447d",
       "version_major": 2,
       "version_minor": 0
      },
      "text/plain": [
       "<LAMBDA> DONE:   0%|          | 0/169 [00:00<?, ?it/s]"
      ]
     },
     "metadata": {},
     "output_type": "display_data"
    },
    {
     "data": {
      "application/vnd.jupyter.widget-view+json": {
       "model_id": "369870fda5ba40299643ef7c86f876b9",
       "version_major": 2,
       "version_minor": 0
      },
      "text/plain": [
       "<LAMBDA> DONE:   0%|          | 0/169 [00:00<?, ?it/s]"
      ]
     },
     "metadata": {},
     "output_type": "display_data"
    },
    {
     "data": {
      "application/vnd.jupyter.widget-view+json": {
       "model_id": "95c8d2e78a344c5db79210bcf148f7e4",
       "version_major": 2,
       "version_minor": 0
      },
      "text/plain": [
       "<LAMBDA> DONE:   0%|          | 0/1543 [00:00<?, ?it/s]"
      ]
     },
     "metadata": {},
     "output_type": "display_data"
    },
    {
     "data": {
      "application/vnd.jupyter.widget-view+json": {
       "model_id": "9d15b8df4d774d61b7bd93aae6193c3c",
       "version_major": 2,
       "version_minor": 0
      },
      "text/plain": [
       "<LAMBDA> DONE:   0%|          | 0/1543 [00:00<?, ?it/s]"
      ]
     },
     "metadata": {},
     "output_type": "display_data"
    },
    {
     "data": {
      "application/vnd.jupyter.widget-view+json": {
       "model_id": "402660de4d9d48b695be53c6489c2889",
       "version_major": 2,
       "version_minor": 0
      },
      "text/plain": [
       "<LAMBDA> DONE:   0%|          | 0/1543 [00:00<?, ?it/s]"
      ]
     },
     "metadata": {},
     "output_type": "display_data"
    },
    {
     "data": {
      "application/vnd.jupyter.widget-view+json": {
       "model_id": "6eb96e103d43443c83966d304c3d7ad7",
       "version_major": 2,
       "version_minor": 0
      },
      "text/plain": [
       "<LAMBDA> DONE:   0%|          | 0/409 [00:00<?, ?it/s]"
      ]
     },
     "metadata": {},
     "output_type": "display_data"
    },
    {
     "data": {
      "application/vnd.jupyter.widget-view+json": {
       "model_id": "4dc68ad30cf14bf094782c7f98e4cca9",
       "version_major": 2,
       "version_minor": 0
      },
      "text/plain": [
       "<LAMBDA> DONE:   0%|          | 0/409 [00:00<?, ?it/s]"
      ]
     },
     "metadata": {},
     "output_type": "display_data"
    },
    {
     "data": {
      "application/vnd.jupyter.widget-view+json": {
       "model_id": "6f0805101d0046d8b54617dd82653990",
       "version_major": 2,
       "version_minor": 0
      },
      "text/plain": [
       "<LAMBDA> DONE:   0%|          | 0/409 [00:00<?, ?it/s]"
      ]
     },
     "metadata": {},
     "output_type": "display_data"
    },
    {
     "data": {
      "application/vnd.jupyter.widget-view+json": {
       "model_id": "8d23eb5b194b4ace925da6cefb8e043e",
       "version_major": 2,
       "version_minor": 0
      },
      "text/plain": [
       "<LAMBDA> DONE:   0%|          | 0/61 [00:00<?, ?it/s]"
      ]
     },
     "metadata": {},
     "output_type": "display_data"
    },
    {
     "data": {
      "application/vnd.jupyter.widget-view+json": {
       "model_id": "7652ac9fd96148f682f907fd2d8609a3",
       "version_major": 2,
       "version_minor": 0
      },
      "text/plain": [
       "<LAMBDA> DONE:   0%|          | 0/61 [00:00<?, ?it/s]"
      ]
     },
     "metadata": {},
     "output_type": "display_data"
    },
    {
     "data": {
      "application/vnd.jupyter.widget-view+json": {
       "model_id": "667b34b355df425cbcc7d3895c33ab27",
       "version_major": 2,
       "version_minor": 0
      },
      "text/plain": [
       "<LAMBDA> DONE:   0%|          | 0/61 [00:00<?, ?it/s]"
      ]
     },
     "metadata": {},
     "output_type": "display_data"
    },
    {
     "name": "stderr",
     "output_type": "stream",
     "text": [
      "/tmp/ipykernel_3805226/2830027787.py:60: FutureWarning: The behavior of DataFrame concatenation with empty or all-NA entries is deprecated. In a future version, this will no longer exclude empty or all-NA columns when determining the result dtypes. To retain the old behavior, exclude the relevant entries before the concat operation.\n",
      "  pd.concat(tmp).to_hdf(f'{RES_PATH}/{key}.h5', sp, complevel=9, complib='zlib')\n",
      "/tmp/ipykernel_3805226/2830027787.py:60: PerformanceWarning: \n",
      "your performance may suffer as PyTables will pickle object types that it cannot\n",
      "map directly to c-types [inferred_type->mixed,key->block2_values] [items->Index(['sp_tree_tail', 'sp_tree_head', 'ldo_category', 'mdo_category',\n",
      "       'species', 'ldo_gene', 'mdo_gene', 'outgroup_species', 'out_gene'],\n",
      "      dtype='object')]\n",
      "\n",
      "  pd.concat(tmp).to_hdf(f'{RES_PATH}/{key}.h5', sp, complevel=9, complib='zlib')\n"
     ]
    }
   ],
   "source": [
    "RES_PATH = './results/outgroup_correlation'\n",
    "!mkdir -p {RES_PATH}\n",
    "\n",
    "\n",
    "pairs_df = pd.read_csv('./results/outgroup_tests_expression.tsv.gz', sep='\\t', low_memory=False)\n",
    "pairs = {sp: zdf for (sp, zdf) in pairs_df[pairs_df.species.isin(dataset['animals'] | dataset['plants'])].groupby('species')}\n",
    "\n",
    "\n",
    "for (sp, zdf) in tqdm(pairs.items()):\n",
    "    if sp in dataset['animals']:\n",
    "        db_key = 'animals'\n",
    "    elif sp in dataset['plants']:\n",
    "        db_key = 'plants'\n",
    "    else:\n",
    "        raise ValueError('unknown species {}'.format(sp))\n",
    "\n",
    "    genes_to_load = (set(zdf.ldo_gene) | set(zdf.mdo_gene))\n",
    "\n",
    "    # run for each database\n",
    "    for (expr_fn, tau_fn, key) in databases[db_key]:\n",
    "        (expr_df, tau_expr) = load_expr(sp,\n",
    "                                        expr_fn=f'{EXPR}/{expr_fn}',\n",
    "                                        tau_fn=f'{TAU}/{tau_fn}',\n",
    "                                        map_fn=f'{EXPR}/gene_map.h5',\n",
    "                                        genes=genes_to_load)\n",
    "        tmp = []\n",
    "        for (out_sp, zzdf) in zdf.groupby('outgroup_species'):\n",
    "            (out_expr_df, out_tau_expr) = load_expr(out_sp,\n",
    "                                                    expr_fn=f'{EXPR}/{expr_fn}',\n",
    "                                                    tau_fn=f'{TAU}/{tau_fn}',\n",
    "                                                    map_fn=f'{EXPR}/gene_map.h5',\n",
    "                                                    genes=set(zzdf.out_gene))\n",
    "            # comparable expression\n",
    "            header = list(set(expr_df.keys()) & set(out_expr_df.keys()))\n",
    "            if len(header) == 0:\n",
    "                continue\n",
    "                \n",
    "            expr_shared_df = pd.concat((expr_df[header], out_expr_df[header]))\n",
    "            \n",
    "            # compute within-species correlation on comparable tissues\n",
    "            pcc = compute_expr_sim(zzdf, expr_shared_df, compute_pearson_, key1='ldo_gene', key2='mdo_gene')\n",
    "            zzdf['pcc_stat'] = pcc.apply(lambda x: x[0])\n",
    "            zzdf['pcc_p'] = pcc.apply(lambda x: x[1])\n",
    "\n",
    "            pcc = compute_expr_sim(zzdf, expr_shared_df, compute_pearson_, key1='ldo_gene', key2='out_gene')\n",
    "            zzdf['out_ldo_pcc_stat'] = pcc.apply(lambda x: x[0])\n",
    "            zzdf['out_ldo_pcc_p'] = pcc.apply(lambda x: x[1])\n",
    "\n",
    "            pcc = compute_expr_sim(zzdf, expr_shared_df, compute_pearson_, key1='mdo_gene', key2='out_gene')\n",
    "            zzdf['out_mdo_pcc_stat'] = pcc.apply(lambda x: x[0])\n",
    "            zzdf['out_mdo_pcc_p'] = pcc.apply(lambda x: x[1])\n",
    "    \n",
    "            zzdf['ldo_tau'] = zzdf['ldo_gene'].apply(lambda x: tau_expr.get(x, None))\n",
    "            zzdf['mdo_tau'] = zzdf['mdo_gene'].apply(lambda x: tau_expr.get(x, None))\n",
    "            zzdf['out_tau'] = zzdf['out_gene'].apply(lambda x: out_tau_expr.get(x, None))\n",
    "\n",
    "            tmp.append(zzdf)\n",
    "            \n",
    "        if len(tmp) > 0:\n",
    "            pd.concat(tmp).to_hdf(f'{RES_PATH}/{key}.h5', sp, complevel=9, complib='zlib')"
   ]
  },
  {
   "cell_type": "code",
   "execution_count": null,
   "id": "82eb2910-bd48-41ec-901a-085e06d8f5e7",
   "metadata": {},
   "outputs": [],
   "source": []
  },
  {
   "cell_type": "code",
   "execution_count": 13,
   "id": "5c40cc93-bf5f-4dce-bb9d-7826191fa033",
   "metadata": {},
   "outputs": [
    {
     "data": {
      "text/html": [
       "<div>\n",
       "<style scoped>\n",
       "    .dataframe tbody tr th:only-of-type {\n",
       "        vertical-align: middle;\n",
       "    }\n",
       "\n",
       "    .dataframe tbody tr th {\n",
       "        vertical-align: top;\n",
       "    }\n",
       "\n",
       "    .dataframe thead th {\n",
       "        text-align: right;\n",
       "    }\n",
       "</style>\n",
       "<table border=\"1\" class=\"dataframe\">\n",
       "  <thead>\n",
       "    <tr style=\"text-align: right;\">\n",
       "      <th></th>\n",
       "      <th>fam_id</th>\n",
       "      <th>fam_tail_idx</th>\n",
       "      <th>sp_tree_edge</th>\n",
       "      <th>sp_tree_tail</th>\n",
       "      <th>sp_tree_head</th>\n",
       "      <th>ldo_fam_head_idx</th>\n",
       "      <th>mdo_fam_head_idx</th>\n",
       "      <th>ldo_branch_length</th>\n",
       "      <th>mdo_branch_length</th>\n",
       "      <th>expected_branch_length</th>\n",
       "      <th>...</th>\n",
       "      <th>ldo_delta_exp_p</th>\n",
       "      <th>mdo_delta_exp_p</th>\n",
       "      <th>ldo_category</th>\n",
       "      <th>mdo_category</th>\n",
       "      <th>multifurcation_idx</th>\n",
       "      <th>species</th>\n",
       "      <th>ldo_gene</th>\n",
       "      <th>mdo_gene</th>\n",
       "      <th>outgroup_species</th>\n",
       "      <th>out_gene</th>\n",
       "    </tr>\n",
       "  </thead>\n",
       "  <tbody>\n",
       "    <tr>\n",
       "      <th>0</th>\n",
       "      <td>10003</td>\n",
       "      <td>548</td>\n",
       "      <td>241</td>\n",
       "      <td>Sauria</td>\n",
       "      <td>CHICK</td>\n",
       "      <td>551</td>\n",
       "      <td>550</td>\n",
       "      <td>0.227</td>\n",
       "      <td>0.269</td>\n",
       "      <td>0.125</td>\n",
       "      <td>...</td>\n",
       "      <td>0.564241</td>\n",
       "      <td>0.417161</td>\n",
       "      <td>normal</td>\n",
       "      <td>normal</td>\n",
       "      <td>0</td>\n",
       "      <td>CHICK</td>\n",
       "      <td>P80566</td>\n",
       "      <td>F1N8Q1</td>\n",
       "      <td>NaN</td>\n",
       "      <td>NaN</td>\n",
       "    </tr>\n",
       "    <tr>\n",
       "      <th>1</th>\n",
       "      <td>10005</td>\n",
       "      <td>2</td>\n",
       "      <td>209</td>\n",
       "      <td>Craniata-Tunicata</td>\n",
       "      <td>Euteleostomi</td>\n",
       "      <td>4</td>\n",
       "      <td>41</td>\n",
       "      <td>0.604</td>\n",
       "      <td>0.677</td>\n",
       "      <td>0.353</td>\n",
       "      <td>...</td>\n",
       "      <td>0.440508</td>\n",
       "      <td>0.293490</td>\n",
       "      <td>normal</td>\n",
       "      <td>normal</td>\n",
       "      <td>0</td>\n",
       "      <td>CHICK</td>\n",
       "      <td>F1P0N0</td>\n",
       "      <td>E1BSJ7</td>\n",
       "      <td>NaN</td>\n",
       "      <td>NaN</td>\n",
       "    </tr>\n",
       "    <tr>\n",
       "      <th>2</th>\n",
       "      <td>10010</td>\n",
       "      <td>20</td>\n",
       "      <td>209</td>\n",
       "      <td>Craniata-Tunicata</td>\n",
       "      <td>Euteleostomi</td>\n",
       "      <td>81</td>\n",
       "      <td>22</td>\n",
       "      <td>0.152</td>\n",
       "      <td>0.179</td>\n",
       "      <td>0.316</td>\n",
       "      <td>...</td>\n",
       "      <td>0.414690</td>\n",
       "      <td>0.476206</td>\n",
       "      <td>normal</td>\n",
       "      <td>normal</td>\n",
       "      <td>0</td>\n",
       "      <td>CHICK</td>\n",
       "      <td>A0A3S5ZPQ9</td>\n",
       "      <td>A0A1D5NWQ4</td>\n",
       "      <td>NaN</td>\n",
       "      <td>NaN</td>\n",
       "    </tr>\n",
       "    <tr>\n",
       "      <th>3</th>\n",
       "      <td>10015</td>\n",
       "      <td>183</td>\n",
       "      <td>241</td>\n",
       "      <td>Sauria</td>\n",
       "      <td>CHICK</td>\n",
       "      <td>185</td>\n",
       "      <td>186</td>\n",
       "      <td>0.017</td>\n",
       "      <td>0.017</td>\n",
       "      <td>0.135</td>\n",
       "      <td>...</td>\n",
       "      <td>0.513520</td>\n",
       "      <td>0.513520</td>\n",
       "      <td>normal</td>\n",
       "      <td>normal</td>\n",
       "      <td>0</td>\n",
       "      <td>CHICK</td>\n",
       "      <td>A0A1D5PY09</td>\n",
       "      <td>P38529</td>\n",
       "      <td>NaN</td>\n",
       "      <td>NaN</td>\n",
       "    </tr>\n",
       "    <tr>\n",
       "      <th>4</th>\n",
       "      <td>10015</td>\n",
       "      <td>224</td>\n",
       "      <td>241</td>\n",
       "      <td>Sauria</td>\n",
       "      <td>CHICK</td>\n",
       "      <td>226</td>\n",
       "      <td>227</td>\n",
       "      <td>0.026</td>\n",
       "      <td>0.026</td>\n",
       "      <td>0.135</td>\n",
       "      <td>...</td>\n",
       "      <td>0.546475</td>\n",
       "      <td>0.546475</td>\n",
       "      <td>normal</td>\n",
       "      <td>normal</td>\n",
       "      <td>0</td>\n",
       "      <td>CHICK</td>\n",
       "      <td>A0A3Q2U082</td>\n",
       "      <td>P38530</td>\n",
       "      <td>NaN</td>\n",
       "      <td>NaN</td>\n",
       "    </tr>\n",
       "  </tbody>\n",
       "</table>\n",
       "<p>5 rows × 24 columns</p>\n",
       "</div>"
      ],
      "text/plain": [
       "   fam_id  fam_tail_idx  sp_tree_edge       sp_tree_tail  sp_tree_head  \\\n",
       "0   10003           548           241             Sauria         CHICK   \n",
       "1   10005             2           209  Craniata-Tunicata  Euteleostomi   \n",
       "2   10010            20           209  Craniata-Tunicata  Euteleostomi   \n",
       "3   10015           183           241             Sauria         CHICK   \n",
       "4   10015           224           241             Sauria         CHICK   \n",
       "\n",
       "   ldo_fam_head_idx  mdo_fam_head_idx  ldo_branch_length  mdo_branch_length  \\\n",
       "0               551               550              0.227              0.269   \n",
       "1                 4                41              0.604              0.677   \n",
       "2                81                22              0.152              0.179   \n",
       "3               185               186              0.017              0.017   \n",
       "4               226               227              0.026              0.026   \n",
       "\n",
       "   expected_branch_length  ...  ldo_delta_exp_p  mdo_delta_exp_p  \\\n",
       "0                   0.125  ...         0.564241         0.417161   \n",
       "1                   0.353  ...         0.440508         0.293490   \n",
       "2                   0.316  ...         0.414690         0.476206   \n",
       "3                   0.135  ...         0.513520         0.513520   \n",
       "4                   0.135  ...         0.546475         0.546475   \n",
       "\n",
       "   ldo_category  mdo_category  multifurcation_idx  species    ldo_gene  \\\n",
       "0        normal        normal                   0    CHICK      P80566   \n",
       "1        normal        normal                   0    CHICK      F1P0N0   \n",
       "2        normal        normal                   0    CHICK  A0A3S5ZPQ9   \n",
       "3        normal        normal                   0    CHICK  A0A1D5PY09   \n",
       "4        normal        normal                   0    CHICK  A0A3Q2U082   \n",
       "\n",
       "     mdo_gene  outgroup_species out_gene  \n",
       "0      F1N8Q1               NaN      NaN  \n",
       "1      E1BSJ7               NaN      NaN  \n",
       "2  A0A1D5NWQ4               NaN      NaN  \n",
       "3      P38529               NaN      NaN  \n",
       "4      P38530               NaN      NaN  \n",
       "\n",
       "[5 rows x 24 columns]"
      ]
     },
     "execution_count": 13,
     "metadata": {},
     "output_type": "execute_result"
    }
   ],
   "source": [
    "pairs_df.head()"
   ]
  },
  {
   "cell_type": "code",
   "execution_count": null,
   "id": "d599ed05-7d36-43b6-9818-c4972385764d",
   "metadata": {},
   "outputs": [],
   "source": []
  },
  {
   "cell_type": "code",
   "execution_count": null,
   "id": "3a05d3d6-a332-42ea-8224-1c35a5385c3b",
   "metadata": {},
   "outputs": [],
   "source": []
  },
  {
   "cell_type": "code",
   "execution_count": null,
   "id": "e05c852b-2791-42d8-9faa-c2af0360c707",
   "metadata": {},
   "outputs": [],
   "source": []
  },
  {
   "cell_type": "code",
   "execution_count": null,
   "id": "e09f9124-fdd7-4cce-91e9-919bc8fb3c39",
   "metadata": {},
   "outputs": [],
   "source": []
  },
  {
   "cell_type": "code",
   "execution_count": null,
   "id": "7f3dbf3c-3e13-44d6-a422-a36747227fef",
   "metadata": {},
   "outputs": [],
   "source": []
  },
  {
   "cell_type": "code",
   "execution_count": null,
   "id": "6e56ac72-6dd5-4e00-9e75-73508bbba929",
   "metadata": {},
   "outputs": [],
   "source": []
  },
  {
   "cell_type": "code",
   "execution_count": null,
   "id": "75a3b529-a5ff-45ba-9a3d-5f38ee5598a9",
   "metadata": {},
   "outputs": [],
   "source": []
  },
  {
   "cell_type": "code",
   "execution_count": null,
   "id": "ada5f813-a108-44ee-8374-34ab64f10081",
   "metadata": {},
   "outputs": [],
   "source": []
  },
  {
   "cell_type": "code",
   "execution_count": null,
   "id": "c57543b5-04cc-412e-855b-c1a0d4e5d198",
   "metadata": {},
   "outputs": [],
   "source": []
  },
  {
   "cell_type": "code",
   "execution_count": null,
   "id": "5e27a326-3842-4c9d-99f8-948dadadf2f4",
   "metadata": {},
   "outputs": [],
   "source": []
  },
  {
   "cell_type": "code",
   "execution_count": null,
   "id": "6403b4f6-1487-4b36-bf05-36dd7a221a6d",
   "metadata": {},
   "outputs": [],
   "source": []
  },
  {
   "cell_type": "code",
   "execution_count": null,
   "id": "594d4e21-68a7-46cc-8bf2-b66a5ab6f967",
   "metadata": {},
   "outputs": [],
   "source": []
  },
  {
   "cell_type": "code",
   "execution_count": null,
   "id": "f92b4ef6-4d13-4c75-b68d-80485b8b5d54",
   "metadata": {},
   "outputs": [],
   "source": []
  },
  {
   "cell_type": "code",
   "execution_count": null,
   "id": "32e908dc-d296-40e3-ad34-9b567ac3658d",
   "metadata": {},
   "outputs": [],
   "source": []
  },
  {
   "cell_type": "code",
   "execution_count": null,
   "id": "02831203-8457-4c68-a857-232cb7b5d0b7",
   "metadata": {},
   "outputs": [],
   "source": []
  },
  {
   "cell_type": "code",
   "execution_count": null,
   "id": "36ff1d3f-2602-47aa-8e76-d713c4929d9e",
   "metadata": {},
   "outputs": [],
   "source": []
  },
  {
   "cell_type": "code",
   "execution_count": null,
   "id": "1aa9c634-3671-460a-aaa1-9f89d4870e72",
   "metadata": {},
   "outputs": [],
   "source": []
  },
  {
   "cell_type": "code",
   "execution_count": null,
   "id": "41d2ca0d-61fd-4a04-b64e-bfe3d444cd3d",
   "metadata": {},
   "outputs": [],
   "source": []
  },
  {
   "cell_type": "code",
   "execution_count": null,
   "id": "20d9bb14-d570-4a6e-a349-70e3ddae9a69",
   "metadata": {},
   "outputs": [],
   "source": []
  }
 ],
 "metadata": {
  "kernelspec": {
   "display_name": "Python 3 (ipykernel)",
   "language": "python",
   "name": "python3"
  },
  "language_info": {
   "codemirror_mode": {
    "name": "ipython",
    "version": 3
   },
   "file_extension": ".py",
   "mimetype": "text/x-python",
   "name": "python",
   "nbconvert_exporter": "python",
   "pygments_lexer": "ipython3",
   "version": "3.12.7"
  }
 },
 "nbformat": 4,
 "nbformat_minor": 5
}
